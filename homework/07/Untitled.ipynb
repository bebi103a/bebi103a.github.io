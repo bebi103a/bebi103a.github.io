{
 "cells": [
  {
   "cell_type": "code",
   "execution_count": 1,
   "id": "4ad138de-b4dd-4e03-883d-3a71977c6a4c",
   "metadata": {},
   "outputs": [],
   "source": [
    "import numpy as np"
   ]
  },
  {
   "cell_type": "code",
   "execution_count": 6,
   "id": "99e65c78-f878-49fd-91eb-64802161f356",
   "metadata": {},
   "outputs": [],
   "source": [
    "t = np.linspace(-5, 5, 41)"
   ]
  },
  {
   "cell_type": "code",
   "execution_count": 7,
   "id": "05496b8a-9e7c-45c3-95da-2a507bd4ea4f",
   "metadata": {},
   "outputs": [
    {
     "data": {
      "text/plain": [
       "array([-5.  , -4.75, -4.5 , -4.25, -4.  , -3.75, -3.5 , -3.25, -3.  ,\n",
       "       -2.75, -2.5 , -2.25, -2.  , -1.75, -1.5 , -1.25, -1.  , -0.75,\n",
       "       -0.5 , -0.25,  0.  ,  0.25,  0.5 ,  0.75,  1.  ,  1.25,  1.5 ,\n",
       "        1.75,  2.  ,  2.25,  2.5 ,  2.75,  3.  ,  3.25,  3.5 ,  3.75,\n",
       "        4.  ,  4.25,  4.5 ,  4.75,  5.  ])"
      ]
     },
     "execution_count": 7,
     "metadata": {},
     "output_type": "execute_result"
    }
   ],
   "source": [
    "t"
   ]
  },
  {
   "cell_type": "code",
   "execution_count": 8,
   "id": "95408f3e-1496-48fa-99eb-0e640c15f6b5",
   "metadata": {},
   "outputs": [],
   "source": [
    "def y(t):\n",
    "    out = np.empty_like(t)\n",
    "\n",
    "    out[t < 0] = t[t < 0] ** 2\n",
    "    out[t == 0] = 4\n",
    "    out[t > 0] = t[t > 0] ** 3\n",
    "\n",
    "    return out"
   ]
  },
  {
   "cell_type": "code",
   "execution_count": 9,
   "id": "f57a3582-e24e-41fb-9495-d22d12431a73",
   "metadata": {},
   "outputs": [
    {
     "data": {
      "text/plain": [
       "array([2.50000000e+01, 2.25625000e+01, 2.02500000e+01, 1.80625000e+01,\n",
       "       1.60000000e+01, 1.40625000e+01, 1.22500000e+01, 1.05625000e+01,\n",
       "       9.00000000e+00, 7.56250000e+00, 6.25000000e+00, 5.06250000e+00,\n",
       "       4.00000000e+00, 3.06250000e+00, 2.25000000e+00, 1.56250000e+00,\n",
       "       1.00000000e+00, 5.62500000e-01, 2.50000000e-01, 6.25000000e-02,\n",
       "       4.00000000e+00, 1.56250000e-02, 1.25000000e-01, 4.21875000e-01,\n",
       "       1.00000000e+00, 1.95312500e+00, 3.37500000e+00, 5.35937500e+00,\n",
       "       8.00000000e+00, 1.13906250e+01, 1.56250000e+01, 2.07968750e+01,\n",
       "       2.70000000e+01, 3.43281250e+01, 4.28750000e+01, 5.27343750e+01,\n",
       "       6.40000000e+01, 7.67656250e+01, 9.11250000e+01, 1.07171875e+02,\n",
       "       1.25000000e+02])"
      ]
     },
     "execution_count": 9,
     "metadata": {},
     "output_type": "execute_result"
    }
   ],
   "source": [
    "y(t)"
   ]
  },
  {
   "cell_type": "code",
   "execution_count": null,
   "id": "1bf784c9-9888-46a0-9230-f79544ef1a8f",
   "metadata": {},
   "outputs": [],
   "source": []
  }
 ],
 "metadata": {
  "kernelspec": {
   "display_name": "Python 3 (ipykernel)",
   "language": "python",
   "name": "python3"
  },
  "language_info": {
   "codemirror_mode": {
    "name": "ipython",
    "version": 3
   },
   "file_extension": ".py",
   "mimetype": "text/x-python",
   "name": "python",
   "nbconvert_exporter": "python",
   "pygments_lexer": "ipython3",
   "version": "3.11.4"
  }
 },
 "nbformat": 4,
 "nbformat_minor": 5
}
