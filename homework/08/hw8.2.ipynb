{
 "cells": [
  {
   "cell_type": "markdown",
   "metadata": {},
   "source": [
    "# Homework 8.2: Heredity in Darwin's finches, the parametric way (30 pts)\n",
    "\n",
    "[Fortis heredity download](https://s3.amazonaws.com/bebi103.caltech.edu/data/fortis_beak_depth_heredity.csv)\n",
    "\n",
    "[Scandens heredity download](https://s3.amazonaws.com/bebi103.caltech.edu/data/scandens_beak_depth_heredity.csv)\n",
    "\n",
    "\n",
    "<hr />"
   ]
  },
  {
   "cell_type": "markdown",
   "metadata": {},
   "source": [
    "In the previous problem we looked at introgressize hybridization from a nonparametric perspective, computing plug-in estimates for the heritability, $h^2$. Now, we will take a parametric approach. We model parental and offspring beak depth as a Bivariate Normal distribution. To be clear, we define $\\mathbf{y} = (b_p, b_o)^\\mathsf{T}$ a 2-vector containing the parental and offspring beak depths. Our model is\n",
    "\n",
    "\\begin{align}\n",
    "\\mathbf{y}_i \\sim \\text{Norm}(\\boldsymbol{\\mu}, \\mathsf{\\Sigma})\\;\\;\\;\\forall i,\n",
    "\\end{align}\n",
    "\n",
    "where $\\boldsymbol{\\mu} = (\\mu_p, \\mu_o)^\\mathsf{T}$ is a vector containing the mean parent and offspring beak depth and $\\mathsf{\\Sigma}$ is the covariance matrix,\n",
    "\n",
    "\\begin{align}\n",
    "\\mathsf{\\Sigma} = \\begin{pmatrix}\n",
    "\\sigma_p^2 & \\sigma_{op} \\\\\n",
    "\\sigma_{op} & \\sigma_o^2\n",
    "\\end{pmatrix}.\n",
    "\\end{align}\n",
    "\n",
    "\n",
    "You can read about the Multivariate Normal distribution in the [Distribution Explorer](https://distribution-explorer.github.io/multivariate_continuous/multivariate_normal.html). Note that there are five scalar parameters in this model, $\\mu_p$, $\\mu_o$, $\\sigma_p$, $\\sigma_o$, and $\\sigma_{op}$. In the context of this model, the heritability is defined as $h^2 = \\sigma_{op} / \\sigma_p^2$.\n",
    "\n",
    "Obtain a parametric maximum likelihood estimate for the heritability with a confidence interval. You should fully justify the choices you made in the approach you took to do this calculation. Are your results similar to what you got in the previous problem?"
   ]
  },
  {
   "cell_type": "markdown",
   "metadata": {},
   "source": [
    "<hr />"
   ]
  }
 ],
 "metadata": {
  "kernelspec": {
   "display_name": "Python 3 (ipykernel)",
   "language": "python",
   "name": "python3"
  },
  "language_info": {
   "codemirror_mode": {
    "name": "ipython",
    "version": 3
   },
   "file_extension": ".py",
   "mimetype": "text/x-python",
   "name": "python",
   "nbconvert_exporter": "python",
   "pygments_lexer": "ipython3",
   "version": "3.8.12"
  }
 },
 "nbformat": 4,
 "nbformat_minor": 4
}
