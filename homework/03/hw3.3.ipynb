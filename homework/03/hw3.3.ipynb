{
 "cells": [
  {
   "cell_type": "markdown",
   "metadata": {},
   "source": [
    "# Homework 3.3: Distributions and their tails (10 pts)\n",
    "\n",
    "<hr />"
   ]
  },
  {
   "cell_type": "markdown",
   "metadata": {},
   "source": [
    "Say I have three distributions with parameter values as follows (using the parametrizations of the Distribution Explorer).\n",
    "\n",
    "- Exponential, β=1\n",
    "- Normal, μ=1, σ=1\n",
    "- Cauchy, µ=1, σ=1\n",
    "\n",
    "**a)** Say I draw numbers out of each of these distributions. Rank order the distributions, lowest to highest, in terms of how likely I am do draw a number greater than 10. Do not calculate anything to answer this question.\n",
    "\n",
    "**b)** Now draw a million numbers out of each of the three distributions. Which, if any, had numbers greater than ten? Does this match your intuition from part(a)?"
   ]
  }
 ],
 "metadata": {
  "kernelspec": {
   "display_name": "Python 3 (ipykernel)",
   "language": "python",
   "name": "python3"
  },
  "language_info": {
   "codemirror_mode": {
    "name": "ipython",
    "version": 3
   },
   "file_extension": ".py",
   "mimetype": "text/x-python",
   "name": "python",
   "nbconvert_exporter": "python",
   "pygments_lexer": "ipython3",
   "version": "3.11.5"
  }
 },
 "nbformat": 4,
 "nbformat_minor": 4
}
