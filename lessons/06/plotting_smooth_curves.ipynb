{
 "cells": [
  {
   "cell_type": "markdown",
   "metadata": {},
   "source": [
    "# Plotting smooth curves\n",
    "\n",
    "<hr/>"
   ]
  },
  {
   "cell_type": "code",
   "execution_count": 1,
   "metadata": {
    "nbsphinx": "hidden",
    "tags": []
   },
   "outputs": [],
   "source": [
    "# Colab setup ------------------\n",
    "import os, sys, subprocess\n",
    "if \"google.colab\" in sys.modules:\n",
    "    cmd = \"pip install --upgrade watermark\"\n",
    "    process = subprocess.Popen(cmd.split(), stdout=subprocess.PIPE, stderr=subprocess.PIPE)\n",
    "    stdout, stderr = process.communicate()"
   ]
  },
  {
   "cell_type": "code",
   "execution_count": 2,
   "metadata": {},
   "outputs": [
    {
     "data": {
      "text/html": [
       "\n",
       "    <div class=\"bk-root\">\n",
       "        <a href=\"https://bokeh.org\" target=\"_blank\" class=\"bk-logo bk-logo-small bk-logo-notebook\"></a>\n",
       "        <span id=\"1002\">Loading BokehJS ...</span>\n",
       "    </div>"
      ]
     },
     "metadata": {},
     "output_type": "display_data"
    },
    {
     "data": {
      "application/javascript": [
       "\n",
       "(function(root) {\n",
       "  function now() {\n",
       "    return new Date();\n",
       "  }\n",
       "\n",
       "  var force = true;\n",
       "\n",
       "  if (typeof root._bokeh_onload_callbacks === \"undefined\" || force === true) {\n",
       "    root._bokeh_onload_callbacks = [];\n",
       "    root._bokeh_is_loading = undefined;\n",
       "  }\n",
       "\n",
       "  var JS_MIME_TYPE = 'application/javascript';\n",
       "  var HTML_MIME_TYPE = 'text/html';\n",
       "  var EXEC_MIME_TYPE = 'application/vnd.bokehjs_exec.v0+json';\n",
       "  var CLASS_NAME = 'output_bokeh rendered_html';\n",
       "\n",
       "  /**\n",
       "   * Render data to the DOM node\n",
       "   */\n",
       "  function render(props, node) {\n",
       "    var script = document.createElement(\"script\");\n",
       "    node.appendChild(script);\n",
       "  }\n",
       "\n",
       "  /**\n",
       "   * Handle when an output is cleared or removed\n",
       "   */\n",
       "  function handleClearOutput(event, handle) {\n",
       "    var cell = handle.cell;\n",
       "\n",
       "    var id = cell.output_area._bokeh_element_id;\n",
       "    var server_id = cell.output_area._bokeh_server_id;\n",
       "    // Clean up Bokeh references\n",
       "    if (id != null && id in Bokeh.index) {\n",
       "      Bokeh.index[id].model.document.clear();\n",
       "      delete Bokeh.index[id];\n",
       "    }\n",
       "\n",
       "    if (server_id !== undefined) {\n",
       "      // Clean up Bokeh references\n",
       "      var cmd = \"from bokeh.io.state import curstate; print(curstate().uuid_to_server['\" + server_id + \"'].get_sessions()[0].document.roots[0]._id)\";\n",
       "      cell.notebook.kernel.execute(cmd, {\n",
       "        iopub: {\n",
       "          output: function(msg) {\n",
       "            var id = msg.content.text.trim();\n",
       "            if (id in Bokeh.index) {\n",
       "              Bokeh.index[id].model.document.clear();\n",
       "              delete Bokeh.index[id];\n",
       "            }\n",
       "          }\n",
       "        }\n",
       "      });\n",
       "      // Destroy server and session\n",
       "      var cmd = \"import bokeh.io.notebook as ion; ion.destroy_server('\" + server_id + \"')\";\n",
       "      cell.notebook.kernel.execute(cmd);\n",
       "    }\n",
       "  }\n",
       "\n",
       "  /**\n",
       "   * Handle when a new output is added\n",
       "   */\n",
       "  function handleAddOutput(event, handle) {\n",
       "    var output_area = handle.output_area;\n",
       "    var output = handle.output;\n",
       "\n",
       "    // limit handleAddOutput to display_data with EXEC_MIME_TYPE content only\n",
       "    if ((output.output_type != \"display_data\") || (!Object.prototype.hasOwnProperty.call(output.data, EXEC_MIME_TYPE))) {\n",
       "      return\n",
       "    }\n",
       "\n",
       "    var toinsert = output_area.element.find(\".\" + CLASS_NAME.split(' ')[0]);\n",
       "\n",
       "    if (output.metadata[EXEC_MIME_TYPE][\"id\"] !== undefined) {\n",
       "      toinsert[toinsert.length - 1].firstChild.textContent = output.data[JS_MIME_TYPE];\n",
       "      // store reference to embed id on output_area\n",
       "      output_area._bokeh_element_id = output.metadata[EXEC_MIME_TYPE][\"id\"];\n",
       "    }\n",
       "    if (output.metadata[EXEC_MIME_TYPE][\"server_id\"] !== undefined) {\n",
       "      var bk_div = document.createElement(\"div\");\n",
       "      bk_div.innerHTML = output.data[HTML_MIME_TYPE];\n",
       "      var script_attrs = bk_div.children[0].attributes;\n",
       "      for (var i = 0; i < script_attrs.length; i++) {\n",
       "        toinsert[toinsert.length - 1].firstChild.setAttribute(script_attrs[i].name, script_attrs[i].value);\n",
       "        toinsert[toinsert.length - 1].firstChild.textContent = bk_div.children[0].textContent\n",
       "      }\n",
       "      // store reference to server id on output_area\n",
       "      output_area._bokeh_server_id = output.metadata[EXEC_MIME_TYPE][\"server_id\"];\n",
       "    }\n",
       "  }\n",
       "\n",
       "  function register_renderer(events, OutputArea) {\n",
       "\n",
       "    function append_mime(data, metadata, element) {\n",
       "      // create a DOM node to render to\n",
       "      var toinsert = this.create_output_subarea(\n",
       "        metadata,\n",
       "        CLASS_NAME,\n",
       "        EXEC_MIME_TYPE\n",
       "      );\n",
       "      this.keyboard_manager.register_events(toinsert);\n",
       "      // Render to node\n",
       "      var props = {data: data, metadata: metadata[EXEC_MIME_TYPE]};\n",
       "      render(props, toinsert[toinsert.length - 1]);\n",
       "      element.append(toinsert);\n",
       "      return toinsert\n",
       "    }\n",
       "\n",
       "    /* Handle when an output is cleared or removed */\n",
       "    events.on('clear_output.CodeCell', handleClearOutput);\n",
       "    events.on('delete.Cell', handleClearOutput);\n",
       "\n",
       "    /* Handle when a new output is added */\n",
       "    events.on('output_added.OutputArea', handleAddOutput);\n",
       "\n",
       "    /**\n",
       "     * Register the mime type and append_mime function with output_area\n",
       "     */\n",
       "    OutputArea.prototype.register_mime_type(EXEC_MIME_TYPE, append_mime, {\n",
       "      /* Is output safe? */\n",
       "      safe: true,\n",
       "      /* Index of renderer in `output_area.display_order` */\n",
       "      index: 0\n",
       "    });\n",
       "  }\n",
       "\n",
       "  // register the mime type if in Jupyter Notebook environment and previously unregistered\n",
       "  if (root.Jupyter !== undefined) {\n",
       "    var events = require('base/js/events');\n",
       "    var OutputArea = require('notebook/js/outputarea').OutputArea;\n",
       "\n",
       "    if (OutputArea.prototype.mime_types().indexOf(EXEC_MIME_TYPE) == -1) {\n",
       "      register_renderer(events, OutputArea);\n",
       "    }\n",
       "  }\n",
       "\n",
       "  \n",
       "  if (typeof (root._bokeh_timeout) === \"undefined\" || force === true) {\n",
       "    root._bokeh_timeout = Date.now() + 5000;\n",
       "    root._bokeh_failed_load = false;\n",
       "  }\n",
       "\n",
       "  var NB_LOAD_WARNING = {'data': {'text/html':\n",
       "     \"<div style='background-color: #fdd'>\\n\"+\n",
       "     \"<p>\\n\"+\n",
       "     \"BokehJS does not appear to have successfully loaded. If loading BokehJS from CDN, this \\n\"+\n",
       "     \"may be due to a slow or bad network connection. Possible fixes:\\n\"+\n",
       "     \"</p>\\n\"+\n",
       "     \"<ul>\\n\"+\n",
       "     \"<li>re-rerun `output_notebook()` to attempt to load from CDN again, or</li>\\n\"+\n",
       "     \"<li>use INLINE resources instead, as so:</li>\\n\"+\n",
       "     \"</ul>\\n\"+\n",
       "     \"<code>\\n\"+\n",
       "     \"from bokeh.resources import INLINE\\n\"+\n",
       "     \"output_notebook(resources=INLINE)\\n\"+\n",
       "     \"</code>\\n\"+\n",
       "     \"</div>\"}};\n",
       "\n",
       "  function display_loaded() {\n",
       "    var el = document.getElementById(\"1002\");\n",
       "    if (el != null) {\n",
       "      el.textContent = \"BokehJS is loading...\";\n",
       "    }\n",
       "    if (root.Bokeh !== undefined) {\n",
       "      if (el != null) {\n",
       "        el.textContent = \"BokehJS \" + root.Bokeh.version + \" successfully loaded.\";\n",
       "      }\n",
       "    } else if (Date.now() < root._bokeh_timeout) {\n",
       "      setTimeout(display_loaded, 100)\n",
       "    }\n",
       "  }\n",
       "\n",
       "\n",
       "  function run_callbacks() {\n",
       "    try {\n",
       "      root._bokeh_onload_callbacks.forEach(function(callback) {\n",
       "        if (callback != null)\n",
       "          callback();\n",
       "      });\n",
       "    } finally {\n",
       "      delete root._bokeh_onload_callbacks\n",
       "    }\n",
       "    console.debug(\"Bokeh: all callbacks have finished\");\n",
       "  }\n",
       "\n",
       "  function load_libs(css_urls, js_urls, callback) {\n",
       "    if (css_urls == null) css_urls = [];\n",
       "    if (js_urls == null) js_urls = [];\n",
       "\n",
       "    root._bokeh_onload_callbacks.push(callback);\n",
       "    if (root._bokeh_is_loading > 0) {\n",
       "      console.debug(\"Bokeh: BokehJS is being loaded, scheduling callback at\", now());\n",
       "      return null;\n",
       "    }\n",
       "    if (js_urls == null || js_urls.length === 0) {\n",
       "      run_callbacks();\n",
       "      return null;\n",
       "    }\n",
       "    console.debug(\"Bokeh: BokehJS not loaded, scheduling load and callback at\", now());\n",
       "    root._bokeh_is_loading = css_urls.length + js_urls.length;\n",
       "\n",
       "    function on_load() {\n",
       "      root._bokeh_is_loading--;\n",
       "      if (root._bokeh_is_loading === 0) {\n",
       "        console.debug(\"Bokeh: all BokehJS libraries/stylesheets loaded\");\n",
       "        run_callbacks()\n",
       "      }\n",
       "    }\n",
       "\n",
       "    function on_error(url) {\n",
       "      console.error(\"failed to load \" + url);\n",
       "    }\n",
       "\n",
       "    for (let i = 0; i < css_urls.length; i++) {\n",
       "      const url = css_urls[i];\n",
       "      const element = document.createElement(\"link\");\n",
       "      element.onload = on_load;\n",
       "      element.onerror = on_error.bind(null, url);\n",
       "      element.rel = \"stylesheet\";\n",
       "      element.type = \"text/css\";\n",
       "      element.href = url;\n",
       "      console.debug(\"Bokeh: injecting link tag for BokehJS stylesheet: \", url);\n",
       "      document.body.appendChild(element);\n",
       "    }\n",
       "\n",
       "    const hashes = {\"https://cdn.bokeh.org/bokeh/release/bokeh-2.3.3.min.js\": \"dM3QQsP+wXdHg42wTqW85BjZQdLNNIXqlPw/BgKoExPmTG7ZLML4EGqLMfqHT6ON\", \"https://cdn.bokeh.org/bokeh/release/bokeh-tables-2.3.3.min.js\": \"8x57I4YuIfu8XyZfFo0XVr2WAT8EK4rh/uDe3wF7YuW2FNUSNEpJbsPaB1nJ2fz2\", \"https://cdn.bokeh.org/bokeh/release/bokeh-widgets-2.3.3.min.js\": \"3QTqdz9LyAm2i0sG5XTePsHec3UHWwVsrOL68SYRoAXsafvfAyqtQ+h440+qIBhS\"};\n",
       "\n",
       "    for (let i = 0; i < js_urls.length; i++) {\n",
       "      const url = js_urls[i];\n",
       "      const element = document.createElement('script');\n",
       "      element.onload = on_load;\n",
       "      element.onerror = on_error.bind(null, url);\n",
       "      element.async = false;\n",
       "      element.src = url;\n",
       "      if (url in hashes) {\n",
       "        element.crossOrigin = \"anonymous\";\n",
       "        element.integrity = \"sha384-\" + hashes[url];\n",
       "      }\n",
       "      console.debug(\"Bokeh: injecting script tag for BokehJS library: \", url);\n",
       "      document.head.appendChild(element);\n",
       "    }\n",
       "  };\n",
       "\n",
       "  function inject_raw_css(css) {\n",
       "    const element = document.createElement(\"style\");\n",
       "    element.appendChild(document.createTextNode(css));\n",
       "    document.body.appendChild(element);\n",
       "  }\n",
       "\n",
       "  \n",
       "  var js_urls = [\"https://cdn.bokeh.org/bokeh/release/bokeh-2.3.3.min.js\", \"https://cdn.bokeh.org/bokeh/release/bokeh-widgets-2.3.3.min.js\", \"https://cdn.bokeh.org/bokeh/release/bokeh-tables-2.3.3.min.js\"];\n",
       "  var css_urls = [];\n",
       "  \n",
       "\n",
       "  var inline_js = [\n",
       "    function(Bokeh) {\n",
       "      Bokeh.set_log_level(\"info\");\n",
       "    },\n",
       "    function(Bokeh) {\n",
       "    \n",
       "    \n",
       "    }\n",
       "  ];\n",
       "\n",
       "  function run_inline_js() {\n",
       "    \n",
       "    if (root.Bokeh !== undefined || force === true) {\n",
       "      \n",
       "    for (var i = 0; i < inline_js.length; i++) {\n",
       "      inline_js[i].call(root, root.Bokeh);\n",
       "    }\n",
       "    if (force === true) {\n",
       "        display_loaded();\n",
       "      }} else if (Date.now() < root._bokeh_timeout) {\n",
       "      setTimeout(run_inline_js, 100);\n",
       "    } else if (!root._bokeh_failed_load) {\n",
       "      console.log(\"Bokeh: BokehJS failed to load within specified timeout.\");\n",
       "      root._bokeh_failed_load = true;\n",
       "    } else if (force !== true) {\n",
       "      var cell = $(document.getElementById(\"1002\")).parents('.cell').data().cell;\n",
       "      cell.output_area.append_execute_result(NB_LOAD_WARNING)\n",
       "    }\n",
       "\n",
       "  }\n",
       "\n",
       "  if (root._bokeh_is_loading === 0) {\n",
       "    console.debug(\"Bokeh: BokehJS loaded, going straight to plotting\");\n",
       "    run_inline_js();\n",
       "  } else {\n",
       "    load_libs(css_urls, js_urls, function() {\n",
       "      console.debug(\"Bokeh: BokehJS plotting callback run at\", now());\n",
       "      run_inline_js();\n",
       "    });\n",
       "  }\n",
       "}(window));"
      ],
      "application/vnd.bokehjs_load.v0+json": "\n(function(root) {\n  function now() {\n    return new Date();\n  }\n\n  var force = true;\n\n  if (typeof root._bokeh_onload_callbacks === \"undefined\" || force === true) {\n    root._bokeh_onload_callbacks = [];\n    root._bokeh_is_loading = undefined;\n  }\n\n  \n\n  \n  if (typeof (root._bokeh_timeout) === \"undefined\" || force === true) {\n    root._bokeh_timeout = Date.now() + 5000;\n    root._bokeh_failed_load = false;\n  }\n\n  var NB_LOAD_WARNING = {'data': {'text/html':\n     \"<div style='background-color: #fdd'>\\n\"+\n     \"<p>\\n\"+\n     \"BokehJS does not appear to have successfully loaded. If loading BokehJS from CDN, this \\n\"+\n     \"may be due to a slow or bad network connection. Possible fixes:\\n\"+\n     \"</p>\\n\"+\n     \"<ul>\\n\"+\n     \"<li>re-rerun `output_notebook()` to attempt to load from CDN again, or</li>\\n\"+\n     \"<li>use INLINE resources instead, as so:</li>\\n\"+\n     \"</ul>\\n\"+\n     \"<code>\\n\"+\n     \"from bokeh.resources import INLINE\\n\"+\n     \"output_notebook(resources=INLINE)\\n\"+\n     \"</code>\\n\"+\n     \"</div>\"}};\n\n  function display_loaded() {\n    var el = document.getElementById(\"1002\");\n    if (el != null) {\n      el.textContent = \"BokehJS is loading...\";\n    }\n    if (root.Bokeh !== undefined) {\n      if (el != null) {\n        el.textContent = \"BokehJS \" + root.Bokeh.version + \" successfully loaded.\";\n      }\n    } else if (Date.now() < root._bokeh_timeout) {\n      setTimeout(display_loaded, 100)\n    }\n  }\n\n\n  function run_callbacks() {\n    try {\n      root._bokeh_onload_callbacks.forEach(function(callback) {\n        if (callback != null)\n          callback();\n      });\n    } finally {\n      delete root._bokeh_onload_callbacks\n    }\n    console.debug(\"Bokeh: all callbacks have finished\");\n  }\n\n  function load_libs(css_urls, js_urls, callback) {\n    if (css_urls == null) css_urls = [];\n    if (js_urls == null) js_urls = [];\n\n    root._bokeh_onload_callbacks.push(callback);\n    if (root._bokeh_is_loading > 0) {\n      console.debug(\"Bokeh: BokehJS is being loaded, scheduling callback at\", now());\n      return null;\n    }\n    if (js_urls == null || js_urls.length === 0) {\n      run_callbacks();\n      return null;\n    }\n    console.debug(\"Bokeh: BokehJS not loaded, scheduling load and callback at\", now());\n    root._bokeh_is_loading = css_urls.length + js_urls.length;\n\n    function on_load() {\n      root._bokeh_is_loading--;\n      if (root._bokeh_is_loading === 0) {\n        console.debug(\"Bokeh: all BokehJS libraries/stylesheets loaded\");\n        run_callbacks()\n      }\n    }\n\n    function on_error(url) {\n      console.error(\"failed to load \" + url);\n    }\n\n    for (let i = 0; i < css_urls.length; i++) {\n      const url = css_urls[i];\n      const element = document.createElement(\"link\");\n      element.onload = on_load;\n      element.onerror = on_error.bind(null, url);\n      element.rel = \"stylesheet\";\n      element.type = \"text/css\";\n      element.href = url;\n      console.debug(\"Bokeh: injecting link tag for BokehJS stylesheet: \", url);\n      document.body.appendChild(element);\n    }\n\n    const hashes = {\"https://cdn.bokeh.org/bokeh/release/bokeh-2.3.3.min.js\": \"dM3QQsP+wXdHg42wTqW85BjZQdLNNIXqlPw/BgKoExPmTG7ZLML4EGqLMfqHT6ON\", \"https://cdn.bokeh.org/bokeh/release/bokeh-tables-2.3.3.min.js\": \"8x57I4YuIfu8XyZfFo0XVr2WAT8EK4rh/uDe3wF7YuW2FNUSNEpJbsPaB1nJ2fz2\", \"https://cdn.bokeh.org/bokeh/release/bokeh-widgets-2.3.3.min.js\": \"3QTqdz9LyAm2i0sG5XTePsHec3UHWwVsrOL68SYRoAXsafvfAyqtQ+h440+qIBhS\"};\n\n    for (let i = 0; i < js_urls.length; i++) {\n      const url = js_urls[i];\n      const element = document.createElement('script');\n      element.onload = on_load;\n      element.onerror = on_error.bind(null, url);\n      element.async = false;\n      element.src = url;\n      if (url in hashes) {\n        element.crossOrigin = \"anonymous\";\n        element.integrity = \"sha384-\" + hashes[url];\n      }\n      console.debug(\"Bokeh: injecting script tag for BokehJS library: \", url);\n      document.head.appendChild(element);\n    }\n  };\n\n  function inject_raw_css(css) {\n    const element = document.createElement(\"style\");\n    element.appendChild(document.createTextNode(css));\n    document.body.appendChild(element);\n  }\n\n  \n  var js_urls = [\"https://cdn.bokeh.org/bokeh/release/bokeh-2.3.3.min.js\", \"https://cdn.bokeh.org/bokeh/release/bokeh-widgets-2.3.3.min.js\", \"https://cdn.bokeh.org/bokeh/release/bokeh-tables-2.3.3.min.js\"];\n  var css_urls = [];\n  \n\n  var inline_js = [\n    function(Bokeh) {\n      Bokeh.set_log_level(\"info\");\n    },\n    function(Bokeh) {\n    \n    \n    }\n  ];\n\n  function run_inline_js() {\n    \n    if (root.Bokeh !== undefined || force === true) {\n      \n    for (var i = 0; i < inline_js.length; i++) {\n      inline_js[i].call(root, root.Bokeh);\n    }\n    if (force === true) {\n        display_loaded();\n      }} else if (Date.now() < root._bokeh_timeout) {\n      setTimeout(run_inline_js, 100);\n    } else if (!root._bokeh_failed_load) {\n      console.log(\"Bokeh: BokehJS failed to load within specified timeout.\");\n      root._bokeh_failed_load = true;\n    } else if (force !== true) {\n      var cell = $(document.getElementById(\"1002\")).parents('.cell').data().cell;\n      cell.output_area.append_execute_result(NB_LOAD_WARNING)\n    }\n\n  }\n\n  if (root._bokeh_is_loading === 0) {\n    console.debug(\"Bokeh: BokehJS loaded, going straight to plotting\");\n    run_inline_js();\n  } else {\n    load_libs(css_urls, js_urls, function() {\n      console.debug(\"Bokeh: BokehJS plotting callback run at\", now());\n      run_inline_js();\n    });\n  }\n}(window));"
     },
     "metadata": {},
     "output_type": "display_data"
    }
   ],
   "source": [
    "import numpy as np\n",
    "import scipy.special\n",
    "\n",
    "import bokeh.plotting\n",
    "import bokeh.io\n",
    "bokeh.io.output_notebook()"
   ]
  },
  {
   "cell_type": "markdown",
   "metadata": {},
   "source": [
    "<hr/>\n",
    "\n",
    "Sometimes you want to plot smooth functions, as opposed to measured data like we have done so far. To do this, you can use Numpy and/or Scipy to generate arrays of values of smooth functions.\n",
    "\n",
    "We will plot the [Airy disk](https://en.wikipedia.org/wiki/Airy_disk), which we encounter in biology when doing microscopy as the diffraction pattern of light passing through a pinhole. Here is a picture of the diffraction pattern from a laser (with the main peak overexposed).\n",
    "\n",
    "<div style=\"width: 300px; margin: auto;\">\n",
    "\n",
    "![Airy disk](airy_disk.png)\n",
    "    \n",
    "</div>\n",
    "\n",
    "The equation for the radial light intensity of an Airy disk is\n",
    "\n",
    "\\begin{align}\n",
    "\\frac{I(x)}{I_0} = 4 \\left(\\frac{J_1(x)}{x}\\right)^2,\n",
    "\\end{align}\n",
    "\n",
    "where $I_0$ is the maximum intensity (the intensity at the center of the image) and $x$ is the radial distance from the center. Here, $J_1(x)$ is the first order Bessel function of the first kind. Yeesh. How do we plot *that*?\n",
    "\n",
    "Fortunately, SciPy has lots of special functions available. Specifically, `scipy.special.j1()` computes exactly what we are after! We pass in a NumPy array that has the values of $x$ we want to plot and then compute the $y$-values using the expression for the normalized intensity.\n",
    "\n",
    "To plot a smooth curve, we use the `np.linspace()` function with lots of points. We then connect the points with straight lines, which to the eye look like a smooth curve.  Let's try it. We'll use 400 points, which I find is a good rule of thumb for not-too-quickly-oscillating functions."
   ]
  },
  {
   "cell_type": "code",
   "execution_count": 3,
   "metadata": {},
   "outputs": [],
   "source": [
    "# The x-values we want\n",
    "x = np.linspace(-15, 15, 400)\n",
    "\n",
    "# The normalized intensity\n",
    "norm_I = 4 * (scipy.special.j1(x) / x) ** 2"
   ]
  },
  {
   "cell_type": "markdown",
   "metadata": {},
   "source": [
    "Now that we have the values we want to plot, we could construct a Pandas `DataFrame` to pass in as the `source` to `p.line()`. We do not need to take this extra step, though. If we instead leave `source` unspecified, and pass in NumPy arrays for `x` and `y`, Bokeh will directly use those in constructing the plot."
   ]
  },
  {
   "cell_type": "code",
   "execution_count": 4,
   "metadata": {},
   "outputs": [
    {
     "data": {
      "text/html": [
       "\n",
       "\n",
       "\n",
       "\n",
       "\n",
       "\n",
       "  <div class=\"bk-root\" id=\"ba768ac5-ef2a-489b-911f-29057d920199\" data-root-id=\"1003\"></div>\n"
      ]
     },
     "metadata": {},
     "output_type": "display_data"
    },
    {
     "data": {
      "application/javascript": [
       "(function(root) {\n",
       "  function embed_document(root) {\n",
       "    \n",
       "  var docs_json = {\"2d1e7a90-71ca-4ad3-82c1-2cc94f1980bd\":{\"defs\":[],\"roots\":{\"references\":[{\"attributes\":{\"below\":[{\"id\":\"1012\"}],\"center\":[{\"id\":\"1015\"},{\"id\":\"1019\"}],\"height\":250,\"left\":[{\"id\":\"1016\"}],\"renderers\":[{\"id\":\"1037\"}],\"title\":{\"id\":\"1039\"},\"toolbar\":{\"id\":\"1027\"},\"width\":550,\"x_range\":{\"id\":\"1004\"},\"x_scale\":{\"id\":\"1008\"},\"y_range\":{\"id\":\"1006\"},\"y_scale\":{\"id\":\"1010\"}},\"id\":\"1003\",\"subtype\":\"Figure\",\"type\":\"Plot\"},{\"attributes\":{},\"id\":\"1045\",\"type\":\"AllLabels\"},{\"attributes\":{\"line_color\":\"#1f77b4\",\"line_width\":2,\"x\":{\"field\":\"x\"},\"y\":{\"field\":\"y\"}},\"id\":\"1035\",\"type\":\"Line\"},{\"attributes\":{\"source\":{\"id\":\"1034\"}},\"id\":\"1038\",\"type\":\"CDSView\"},{\"attributes\":{},\"id\":\"1044\",\"type\":\"BasicTickFormatter\"},{\"attributes\":{},\"id\":\"1039\",\"type\":\"Title\"},{\"attributes\":{},\"id\":\"1041\",\"type\":\"BasicTickFormatter\"},{\"attributes\":{\"bottom_units\":\"screen\",\"fill_alpha\":0.5,\"fill_color\":\"lightgrey\",\"left_units\":\"screen\",\"level\":\"overlay\",\"line_alpha\":1.0,\"line_color\":\"black\",\"line_dash\":[4,4],\"line_width\":2,\"right_units\":\"screen\",\"syncable\":false,\"top_units\":\"screen\"},\"id\":\"1026\",\"type\":\"BoxAnnotation\"},{\"attributes\":{},\"id\":\"1021\",\"type\":\"WheelZoomTool\"},{\"attributes\":{},\"id\":\"1042\",\"type\":\"AllLabels\"},{\"attributes\":{},\"id\":\"1004\",\"type\":\"DataRange1d\"},{\"attributes\":{\"axis\":{\"id\":\"1016\"},\"dimension\":1,\"ticker\":null},\"id\":\"1019\",\"type\":\"Grid\"},{\"attributes\":{\"active_multi\":null,\"tools\":[{\"id\":\"1020\"},{\"id\":\"1021\"},{\"id\":\"1022\"},{\"id\":\"1023\"},{\"id\":\"1024\"},{\"id\":\"1025\"}]},\"id\":\"1027\",\"type\":\"Toolbar\"},{\"attributes\":{},\"id\":\"1025\",\"type\":\"HelpTool\"},{\"attributes\":{},\"id\":\"1023\",\"type\":\"SaveTool\"},{\"attributes\":{},\"id\":\"1017\",\"type\":\"BasicTicker\"},{\"attributes\":{\"axis\":{\"id\":\"1012\"},\"ticker\":null},\"id\":\"1015\",\"type\":\"Grid\"},{\"attributes\":{},\"id\":\"1024\",\"type\":\"ResetTool\"},{\"attributes\":{\"data\":{\"x\":{\"__ndarray__\":\"AAAAAAAALsCYPWD2gNktwDB7wOwBsy3AyLgg44KMLcBg9oDZA2YtwPgz4c+EPy3AkHFBxgUZLcAor6G8hvIswMDsAbMHzCzAWSpiqYilLMDxZ8KfCX8swImlIpaKWCzAIeOCjAsyLMC5IOOCjAsswFFeQ3kN5SvA6Zujb46+K8CB2QNmD5grwBkXZFyQcSvAsVTEUhFLK8BJkiRJkiQrwOHPhD8T/irAeQ3lNZTXKsARS0UsFbEqwKqIpSKWiirAQsYFGRdkKsDaA2YPmD0qwHJBxgUZFyrACn8m/JnwKcCivIbyGsopwDr65uiboynA0jdH3xx9KcBqdafVnVYpwAKzB8weMCnAmvBnwp8JKcAyLsi4IOMowMprKK+hvCjAYqmIpSKWKMD65uibo28owJIkSZIkSSjAKmKpiKUiKMDCnwl/JvwnwFrdaXWn1SfA8hrKayivJ8CLWCpiqYgnwCOWilgqYifAu9PqTqs7J8BTEUtFLBUnwOtOqzut7ibAg4wLMi7IJsAbymsor6EmwLMHzB4weybAS0UsFbFUJsDjgowLMi4mwHvA7AGzBybAFP5M+DPhJcCsO63utLolwER5DeU1lCXA3LZt27ZtJcB09M3RN0clwAwyLsi4ICXApG+Ovjn6JMA8re60utMkwNTqTqs7rSTAbCivobyGJMAEZg+YPWAkwJyjb46+OSTANOHPhD8TJMDMHjB7wOwjwGRckHFBxiPA/JnwZ8KfI8CU11BeQ3kjwCwVsVTEUiPAxFIRS0UsI8BckHFBxgUjwPTN0TdH3yLAjAsyLsi4IsAlSZIkSZIiwL2G8hrKayLAVcRSEUtFIsDtAbMHzB4iwIU/E/5M+CHAHX1z9M3RIcC1utPqTqshwE34M+HPhCHA5TWU11BeIcB+c/TN0TchwBaxVMRSESHAru60utPqIMBGLBWxVMQgwN5pdafVnSDAdqfVnVZ3IMAO5TWU11AgwKYilopYKiDAPmD2gNkDIMCsO63utLofwNy2bdu2bR/ADDIuyLggH8A8re60utMewGwor6G8hh7AnKNvjr45HsDMHjB7wOwdwP2Z8GfCnx3ALRWxVMRSHcBdkHFBxgUdwI0LMi7IuBzAvYbyGsprHMDtAbMHzB4cwB59c/TN0RvATvgz4c+EG8B+c/TN0TcbwK7utLrT6hrA3ml1p9WdGsAO5TWU11AawD5g9oDZAxrAbtu2bdu2GcCeVnda3WkZwM7RN0ffHBnA/kz4M+HPGMAuyLgg44IYwF5DeQ3lNRjAkL45+uboF8DAOfrm6JsXwPC0utPqThfAIDB7wOwBF8BQqzut7rQWwIAm/JnwZxbAsKG8hvIaFsDgHH1z9M0VwBCYPWD2gBXAQBP+TPgzFcBwjr45+uYUwKAJfyb8mRTA0IQ/E/5MFMAAAAAAAAAUwDB7wOwBsxPAYPaA2QNmE8CQcUHGBRkTwMLsAbMHzBLA8mfCnwl/EsAi44KMCzISwFJeQ3kN5RHAgtkDZg+YEcCyVMRSEUsRwOLPhD8T/hDAEktFLBWxEMBCxgUZF2QQwHJBxgUZFxDARHkN5TWUD8Ckb46+OfoOwARmD5g9YA7AZFyQcUHGDcDEUhFLRSwNwChJkiRJkgzAiD8T/kz4C8DoNZTXUF4LwEgsFbFUxArAqCKWilgqCsAIGRdkXJAJwGgPmD1g9gjAyAUZF2RcCMAo/JnwZ8IHwIjyGsprKAfA6Oibo2+OBsBI3xx9c/QFwKjVnVZ3WgXACMweMHvABMBowp8JfyYEwMi4IOOCjAPAKK+hvIbyAsCMpSKWilgCwOybo2+OvgHATJIkSZIkAcCsiKUilooAwBj+TPgz4f+/2OpOqzut/r+Y11BeQ3n9v1jEUhFLRfy/GLFUxFIR+7/YnVZ3Wt35v5iKWCpiqfi/WHda3Wl1978YZFyQcUH2v9hQXkN5DfW/mD1g9oDZ879gKmKpiKXyvyAXZFyQcfG/4ANmD5g98L9A4c+EPxPuv8C60+pOq+u/QJTXUF5D6b/Abdu2bdvmv0BH3xx9c+S/wCDjgowL4r+A9M3RN0ffv4Cn1Z1Wd9q/gFrdaXWn1b+ADeU1lNfQvwCB2QNmD8i/AM7RN0ffvL8ANOHPhD+jvwA04c+EP6M/gM3RN0ffvD/AgNkDZg/IP2AN5TWU19A/YFrdaXWn1T9gp9WdVnfaP2D0zdE3R98/sCDjgowL4j8wR98cfXPkP7Bt27Zt2+Y/MJTXUF5D6T+wutPqTqvrPzDhz4Q/E+4/0ANmD5g98D8QF2RckHHxP1AqYqmIpfI/kD1g9oDZ8z/QUF5DeQ31PxBkXJBxQfY/UHda3Wl19z+QilgqYqn4P9CdVnda3fk/ELFUxFIR+z9QxFIRS0X8P5DXUF5Def0/0OpOqzut/j8Q/kz4M+H/P6iIpSKWigBASJIkSZIkAUDom6Nvjr4BQIilIpaKWAJAKK+hvIbyAkDIuCDjgowDQGjCnwl/JgRACMweMHvABECo1Z1Wd1oFQEjfHH1z9AVA6Oibo2+OBkCI8hrKaygHQCj8mfBnwgdAwAUZF2RcCEBgD5g9YPYIQAAZF2RckAlAoCKWilgqCkBALBWxVMQKQOA1lNdQXgtAgD8T/kz4C0AgSZIkSZIMQMBSEUtFLA1AYFyQcUHGDUAAZg+YPWAOQKBvjr45+g5AQHkN5TWUD0BwQcYFGRcQQEDGBRkXZBBAEEtFLBWxEEDgz4Q/E/4QQLBUxFIRSxFAgNkDZg+YEUBQXkN5DeURQCDjgowLMhJA8GfCnwl/EkDA7AGzB8wSQJBxQcYFGRNAYPaA2QNmE0Awe8DsAbMTQAAAAAAAABRA0IQ/E/5MFECgCX8m/JkUQHCOvjn65hRAQBP+TPgzFUAQmD1g9oAVQOAcfXP0zRVArKG8hvIaFkB8JvyZ8GcWQEyrO63utBZAHDB7wOwBF0DstLrT6k4XQLw5+ubomxdAjL45+uboF0BcQ3kN5TUYQCzIuCDjghhA/Ez4M+HPGEDM0TdH3xwZQJxWd1rdaRlAbNu2bdu2GUA8YPaA2QMaQAzlNZTXUBpA3Gl1p9WdGkCs7rS60+oaQHxz9M3RNxtATPgz4c+EG0AcfXP0zdEbQOwBswfMHhxAvIbyGsprHECMCzIuyLgcQFyQcUHGBR1ALBWxVMRSHUD8mfBnwp8dQMweMHvA7B1AnKNvjr45HkBsKK+hvIYeQDyt7rS60x5ADDIuyLggH0DYtm3btm0fQKg7re60uh9APGD2gNkDIECkIpaKWCogQAzlNZTXUCBAdKfVnVZ3IEDcaXWn1Z0gQEQsFbFUxCBArO60utPqIEAUsVTEUhEhQHxz9M3RNyFA5DWU11BeIUBM+DPhz4QhQLS60+pOqyFAHH1z9M3RIUCEPxP+TPghQOwBswfMHiJAVMRSEUtFIkC8hvIaymsiQCRJkiRJkiJAjAsyLsi4IkD0zdE3R98iQFyQcUHGBSNAxFIRS0UsI0AsFbFUxFIjQJTXUF5DeSNA/JnwZ8KfI0BkXJBxQcYjQMweMHvA7CNANOHPhD8TJECco2+OvjkkQARmD5g9YCRAbCivobyGJEDS6k6rO60kQDqt7rS60yRAom+Ovjn6JEAKMi7IuCAlQHL0zdE3RyVA2rZt27ZtJUBCeQ3lNZQlQKo7re60uiVAEv5M+DPhJUB6wOwBswcmQOKCjAsyLiZASkUsFbFUJkCyB8weMHsmQBrKayivoSZAgowLMi7IJkDqTqs7re4mQFIRS0UsFSdAutPqTqs7J0AilopYKmInQIpYKmKpiCdA8hrKayivJ0Ba3Wl1p9UnQMKfCX8m/CdAKmKpiKUiKECSJEmSJEkoQPrm6JujbyhAYqmIpSKWKEDKayivobwoQDIuyLgg4yhAmvBnwp8JKUACswfMHjApQGh1p9WdVilA0DdH3xx9KUA4+ubom6MpQKC8hvIayilACH8m/JnwKUBwQcYFGRcqQNgDZg+YPSpAQMYFGRdkKkCoiKUilooqQBBLRSwVsSpAeA3lNZTXKkDgz4Q/E/4qQEiSJEmSJCtAsFTEUhFLK0AYF2RckHErQIDZA2YPmCtA6Jujb46+K0BQXkN5DeUrQLgg44KMCyxAIOOCjAsyLECIpSKWilgsQPBnwp8JfyxAWCpiqYilLEDA7AGzB8wsQCivobyG8ixAkHFBxgUZLUD4M+HPhD8tQGD2gNkDZi1AyLgg44KMLUAwe8DsAbMtQJg9YPaA2S1AAAAAAAAALkA=\",\"dtype\":\"float64\",\"order\":\"little\",\"shape\":[400]},\"y\":{\"__ndarray__\":\"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\",\"dtype\":\"float64\",\"order\":\"little\",\"shape\":[400]}},\"selected\":{\"id\":\"1048\"},\"selection_policy\":{\"id\":\"1049\"}},\"id\":\"1034\",\"type\":\"ColumnDataSource\"},{\"attributes\":{},\"id\":\"1020\",\"type\":\"PanTool\"},{\"attributes\":{\"data_source\":{\"id\":\"1034\"},\"glyph\":{\"id\":\"1035\"},\"hover_glyph\":null,\"muted_glyph\":null,\"nonselection_glyph\":{\"id\":\"1036\"},\"view\":{\"id\":\"1038\"}},\"id\":\"1037\",\"type\":\"GlyphRenderer\"},{\"attributes\":{\"overlay\":{\"id\":\"1026\"}},\"id\":\"1022\",\"type\":\"BoxZoomTool\"},{\"attributes\":{\"axis_label\":\"x\",\"formatter\":{\"id\":\"1041\"},\"major_label_policy\":{\"id\":\"1042\"},\"ticker\":{\"id\":\"1013\"}},\"id\":\"1012\",\"type\":\"LinearAxis\"},{\"attributes\":{},\"id\":\"1048\",\"type\":\"Selection\"},{\"attributes\":{},\"id\":\"1008\",\"type\":\"LinearScale\"},{\"attributes\":{},\"id\":\"1049\",\"type\":\"UnionRenderers\"},{\"attributes\":{\"axis_label\":\"I(x)/I\\u2080\",\"formatter\":{\"id\":\"1044\"},\"major_label_policy\":{\"id\":\"1045\"},\"ticker\":{\"id\":\"1017\"}},\"id\":\"1016\",\"type\":\"LinearAxis\"},{\"attributes\":{},\"id\":\"1006\",\"type\":\"DataRange1d\"},{\"attributes\":{},\"id\":\"1013\",\"type\":\"BasicTicker\"},{\"attributes\":{},\"id\":\"1010\",\"type\":\"LinearScale\"},{\"attributes\":{\"line_alpha\":0.1,\"line_color\":\"#1f77b4\",\"line_width\":2,\"x\":{\"field\":\"x\"},\"y\":{\"field\":\"y\"}},\"id\":\"1036\",\"type\":\"Line\"}],\"root_ids\":[\"1003\"]},\"title\":\"Bokeh Application\",\"version\":\"2.3.3\"}};\n",
       "  var render_items = [{\"docid\":\"2d1e7a90-71ca-4ad3-82c1-2cc94f1980bd\",\"root_ids\":[\"1003\"],\"roots\":{\"1003\":\"ba768ac5-ef2a-489b-911f-29057d920199\"}}];\n",
       "  root.Bokeh.embed.embed_items_notebook(docs_json, render_items);\n",
       "\n",
       "  }\n",
       "  if (root.Bokeh !== undefined) {\n",
       "    embed_document(root);\n",
       "  } else {\n",
       "    var attempts = 0;\n",
       "    var timer = setInterval(function(root) {\n",
       "      if (root.Bokeh !== undefined) {\n",
       "        clearInterval(timer);\n",
       "        embed_document(root);\n",
       "      } else {\n",
       "        attempts++;\n",
       "        if (attempts > 100) {\n",
       "          clearInterval(timer);\n",
       "          console.log(\"Bokeh: ERROR: Unable to run BokehJS code because BokehJS library is missing\");\n",
       "        }\n",
       "      }\n",
       "    }, 10, root)\n",
       "  }\n",
       "})(window);"
      ],
      "application/vnd.bokehjs_exec.v0+json": ""
     },
     "metadata": {
      "application/vnd.bokehjs_exec.v0+json": {
       "id": "1003"
      }
     },
     "output_type": "display_data"
    }
   ],
   "source": [
    "p = bokeh.plotting.figure(\n",
    "    height=250, \n",
    "    width=550, \n",
    "    x_axis_label=\"x\", \n",
    "    y_axis_label=\"I(x)/I₀\",\n",
    ")\n",
    "\n",
    "p.line(\n",
    "    x=x, \n",
    "    y=norm_I, \n",
    "    line_width=2,\n",
    ")\n",
    "\n",
    "bokeh.io.show(p)"
   ]
  },
  {
   "cell_type": "markdown",
   "metadata": {},
   "source": [
    "We could also plot dots (which doesn't make sense here, but we'll show it just to see who the line joining works to make a plot of a smooth function)."
   ]
  },
  {
   "cell_type": "code",
   "execution_count": 5,
   "metadata": {},
   "outputs": [
    {
     "data": {
      "text/html": [
       "\n",
       "\n",
       "\n",
       "\n",
       "\n",
       "\n",
       "  <div class=\"bk-root\" id=\"ffb75e3b-8538-48b1-a1a0-bb6486f66e46\" data-root-id=\"1003\"></div>\n"
      ]
     },
     "metadata": {},
     "output_type": "display_data"
    },
    {
     "data": {
      "application/javascript": [
       "(function(root) {\n",
       "  function embed_document(root) {\n",
       "    \n",
       "  var docs_json = {\"02e71540-6796-46f2-acaa-c25128cdc10b\":{\"defs\":[],\"roots\":{\"references\":[{\"attributes\":{\"below\":[{\"id\":\"1012\"}],\"center\":[{\"id\":\"1015\"},{\"id\":\"1019\"}],\"height\":250,\"left\":[{\"id\":\"1016\"}],\"renderers\":[{\"id\":\"1037\"},{\"id\":\"1108\"}],\"title\":{\"id\":\"1039\"},\"toolbar\":{\"id\":\"1027\"},\"width\":550,\"x_range\":{\"id\":\"1004\"},\"x_scale\":{\"id\":\"1008\"},\"y_range\":{\"id\":\"1006\"},\"y_scale\":{\"id\":\"1010\"}},\"id\":\"1003\",\"subtype\":\"Figure\",\"type\":\"Plot\"},{\"attributes\":{\"fill_color\":{\"value\":\"orange\"},\"line_color\":{\"value\":\"orange\"},\"size\":{\"value\":2},\"x\":{\"field\":\"x\"},\"y\":{\"field\":\"y\"}},\"id\":\"1106\",\"type\":\"Circle\"},{\"attributes\":{},\"id\":\"1045\",\"type\":\"AllLabels\"},{\"attributes\":{\"line_color\":\"#1f77b4\",\"line_width\":2,\"x\":{\"field\":\"x\"},\"y\":{\"field\":\"y\"}},\"id\":\"1035\",\"type\":\"Line\"},{\"attributes\":{\"source\":{\"id\":\"1034\"}},\"id\":\"1038\",\"type\":\"CDSView\"},{\"attributes\":{\"fill_alpha\":{\"value\":0.1},\"fill_color\":{\"value\":\"orange\"},\"line_alpha\":{\"value\":0.1},\"line_color\":{\"value\":\"orange\"},\"size\":{\"value\":2},\"x\":{\"field\":\"x\"},\"y\":{\"field\":\"y\"}},\"id\":\"1107\",\"type\":\"Circle\"},{\"attributes\":{},\"id\":\"1044\",\"type\":\"BasicTickFormatter\"},{\"attributes\":{},\"id\":\"1039\",\"type\":\"Title\"},{\"attributes\":{},\"id\":\"1121\",\"type\":\"Selection\"},{\"attributes\":{},\"id\":\"1041\",\"type\":\"BasicTickFormatter\"},{\"attributes\":{},\"id\":\"1122\",\"type\":\"UnionRenderers\"},{\"attributes\":{\"bottom_units\":\"screen\",\"fill_alpha\":0.5,\"fill_color\":\"lightgrey\",\"left_units\":\"screen\",\"level\":\"overlay\",\"line_alpha\":1.0,\"line_color\":\"black\",\"line_dash\":[4,4],\"line_width\":2,\"right_units\":\"screen\",\"syncable\":false,\"top_units\":\"screen\"},\"id\":\"1026\",\"type\":\"BoxAnnotation\"},{\"attributes\":{},\"id\":\"1021\",\"type\":\"WheelZoomTool\"},{\"attributes\":{},\"id\":\"1042\",\"type\":\"AllLabels\"},{\"attributes\":{},\"id\":\"1004\",\"type\":\"DataRange1d\"},{\"attributes\":{\"axis\":{\"id\":\"1016\"},\"dimension\":1,\"ticker\":null},\"id\":\"1019\",\"type\":\"Grid\"},{\"attributes\":{\"active_multi\":null,\"tools\":[{\"id\":\"1020\"},{\"id\":\"1021\"},{\"id\":\"1022\"},{\"id\":\"1023\"},{\"id\":\"1024\"},{\"id\":\"1025\"}]},\"id\":\"1027\",\"type\":\"Toolbar\"},{\"attributes\":{},\"id\":\"1025\",\"type\":\"HelpTool\"},{\"attributes\":{},\"id\":\"1023\",\"type\":\"SaveTool\"},{\"attributes\":{},\"id\":\"1017\",\"type\":\"BasicTicker\"},{\"attributes\":{\"data\":{\"x\":{\"__ndarray__\":\"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\",\"dtype\":\"float64\",\"order\":\"little\",\"shape\":[400]},\"y\":{\"__ndarray__\":\"6Y7PzJWBSD/bWgiWah9JP+cQhku2d0k/NM/7R26HST+4sMguG01JPwQduPbtyEg/WdK/Hsz8Rz8HQFeCUuxGPw0+snPOnEU/Q3BC9iwVRD/XHF8q4F1CP8aWtjK7gEA/9NUVKIoRPT8skACNBgQ5P9xBbch58jQ/v8epI2/3MD/ymqKnvVsqP+JCwGktYSM/yrFZHHxmGj8ldk3yeQYQP1u0+kEQ9P8+82UNY5nU5D65Fv/01KGhPgvzON6MnMk+3zwAVhn18j6wMjo6sREIP0Num7KbsRY/K8ssJDpTIj/udayWcuEqP8vY3EvNczI/VaFv+UAgOD8exZF9E18+Pw9RK+CbikI/miEfnQUSRj+PWju38rRJP3h5Q+NeYU0/C3naPTmCUD8+1XOkc0VSP9CKs7m58FM/tqS1QJx6VT/NtToLGtpWP2x8oQbYBlg/wDTMuFf5WD9L/M7sKqtZP0toIVMjF1o/ZQzR43w5Wj84xeDiARBaP67Xd38nmlk/L7J9JSLZWD+EbU++8M9XPxcI00deg1Y/KEeXWPn5VD8G0xtbATxTP4yU3IBJU1E/lc2LTCOWTj+QQGI0q19KP+sjj+kmHkY/dIHywhPuQT+vdHPTvdk7P2BebGKRcDQ/M5NnHv62Kz+p17ni1qYgPxa7bcyrNxA/FI0PRty+8z4FcW/4Vu6gPuMA7Oj47OI+DBcHCxIjCD/r0b3BRocdP/07gwUxcCs/tuEyOe4ENj/3Jj/BeB1AP7/sHLW5IEY/ELrSpz/6TD+v78WOSElSP0xNbbx8ZlY/+o/itvbDWj+uoX2dx05fPzS6P1UU+WE/4vFKX+1LZD9laeJjSZRmPxYkdKo4xmg/HH7pq8HVaj8jp9znJLdsP6Bn7uoiX24/DON0KEPDbz9mO2saDW1wPyDmwe/GzXA/uNgc0ooAcT88fbj1+gJxPwU+/Uy603A/Ktjyv4JycD+PtwJPbcBvPwDrdeHZPW4/UeClwO5jbD+vEN4LxTtqPxNSuhPe0Gc/IawVOwgxZT+7aOnuNWxiPxTPi5aNKF8/RalsloZ5WT+mIXRVF/VTP557867rjU0/Kvbz3vw3RD/3TrDxSIU4P6dbdig3Gyg/WsetX3KhDT9a70G0bJ65PoqeHgXo/fw+L9xqLnKsIj9+wBIhdxU3P+HeVcofrkU/wQgtlfGWUT+QOtwAOAlaP1McXPqxFGI/2phSauT0Zz+rKuDYnZluP1tjoKs7+XI/gPZXEx/1dj9qistniTN7PxY0gWJRpX8/sJNDUp8cgj8EZcj1IG6EP0qVlHjdvIY/HdzAzuX9iD8hhx/82yWLP1vqAQEpKY0/5DQzMTj8jj/K+SKm20mQPyvmeUht8pA/kTzr9NFykT8YPVoclsaRP1BGvtf26ZE/VwmpCQfakT9Mw5Tb05SRPyHwZPiHGZE/Na514oxokD/QJuKFUwePP4k7/yM+3Iw/F6Kz93xZij9gKpbb/IuHP5J1qX8RhIQ/X5CJ94dVgT+hGJVEWy98P7tJCFmVynU/oVuzSz5ybz+MW0LW1HtkPyRnz8R5iFY/8j/G8wmlQT+Nxmt5X2ESP4NykETcrgw/mbiHXq8DQz/GXi2103dcP8Ye2+POpW0/2Uzo8DbheT9jyZh7R1WEP8T31+uZx40/FT65fDO7lD+1Kq5FS8ebPz8dS/agDqI/NJ87OVfopj856xD3oHmsP5JXZI4eZbE/lHbM6VXwtD/raRyyBeG4P4oqadL7OL0/kaXFG5v8wD+35mTl6pDDPwbm0bEJWcY/EHOmcRtUyT8Y81xTyIDMP1Ru1Lo63c8/T0p9Q4+z0T/XurbY0I3TPz+i6Se7e9U/qtAx/Wp71z9N6FxLw4rZPzB3yEBwp9s/LAHJBuvO3T+wx3ckfv7fP8Cgzj2lGeE/ozQuaiY14j+wayf1MVDjP4sa+XUraeQ/9OXRLW5+5T8iefqfUI7mP4VB9Ecol+c/CJ1VY02X6D8ha83EHo3pPxO1eqUFd+o/Sc6qaXlT6z+OhBlOAyHsP9nn+/JB3uw/RH5uuuyJ7T8fkFLw1iLuP1dGOrLyp+4/sMy2jlMY7z/QTyzUMHPvP03YOojnt+8/MqnNAfzl7z9diPkgG/3vP12I+SAb/e8/NqnNAfzl7z9L2DqI57fvP85PLNQwc+8/sMy2jlMY7z9fRjqy8qfuPx+QUvDWIu4/R35uuuyJ7T/e5/vyQd7sP4+EGU4DIew/Ts6qaXlT6z8YtXqlBXfqPyZrzcQejek/FJ1VY02X6D+NQfRHKJfnPzF5+p9QjuY//uXRLW5+5T+TGvl1K2nkP7hrJ/UxUOM/rjQuaiY14j/EoM49pRnhP8fHdyR+/t8/OgHJBuvO3T84d8hAcKfbP13oXEvDitk/uNAx/Wp71z9Qouknu3vVP+K6ttjQjdM/W0p9Q4+z0T9ubtS6Ot3PPzLzXFPIgMw/EHOmcRtUyT8G5tGxCVnGP7fmZOXqkMM/kaXFG5v8wD+KKmnS+zi9P+tpHLIF4bg/lHbM6VXwtD+SV2SOHmWxPznrEPegeaw/dp87OVfopj9+HUv2oA6iPxwrrkVLx5s/bj65fDO7lD9a+NfrmceNP9bJmHtHVYQ/hE3o8DbheT/NH9vjzqVtP3lfLbXTd1w/QbmHXq8DQz/wdZBE3K4MP8HEa3lfYRI/YT/G8wmlQT+3Zs/EeYhWP0pbQtbUe2Q/VVuzSz5ybz+RSQhZlcp1P24YlURbL3w/R5CJ94dVgT98dal/EYSEP00qltv8i4c/AqKz93xZij92O/8jPtyMP9Am4oVTB48/Na514oxokD8h8GT4hxmRP0zDlNvTlJE/VwmpCQfakT9QRr7X9umRPxg9WhyWxpE/kTzr9NFykT8r5nlIbfKQP8r5IqbbSZA/9jQzMTj8jj9u6gEBKSmNPzyHH/zbJYs/O9zAzuX9iD9rlZR43byGPyJlyPUgboQ/0ZNDUp8cgj8vNIFiUaV/P4yKy2eJM3s/nPZXEx/1dj93Y6CrO/lyP88q4NidmW4//JhSauT0Zz94HFz6sRRiP8863AA4CVo/8wgtlfGWUT8y31XKH65FP/HAEiF3FTc/uNxqLnKsIj9voB4F6P38PuzrQbRsnrk+tcatX3KhDT9jW3YoNxsoP8NOsPFIhTg/D/bz3vw3RD94e/Ou641NP6YhdFUX9VM/RalsloZ5WT8Uz4uWjShfP7to6e41bGI/IawVOwgxZT/xUboT3tBnP44Q3gvFO2o/K+ClwO5jbD/j6nXh2T1uP3+3Ak9twG8/Jtjyv4JycD8BPv1MutNwPzl9uPX6AnE/utgc0ooAcT8i5sHvxs1wP247axoNbXA/EON0KEPDbz+uZ+7qIl9uPymn3Ockt2w/JX7pq8HVaj8kJHSqOMZoP3lp4mNJlGY/7fFKX+1LZD9Euj9VFPlhP8qhfZ3HTl8/+o/itvbDWj9MTW28fGZWP6/vxY5ISVI/ELrSpz/6TD+/7By1uSBGP/cmP8F4HUA/tuEyOe4ENj/9O4MFMXArP+vRvcFGhx0/DBcHCxIjCD/jAOzo+OziPgVxb/hW7qA+FI0PRty+8z5Xum3MqzcQPyTXueLWpiA/kZJnHv62Kz8BXmxikXA0P0B0c9O92Ts/PIHywhPuQT+xI4/pJh5GP1dAYjSrX0o/Ys2LTCOWTj+OlNyASVNRPwvTG1sBPFM/KEeXWPn5VD8gCNNHXoNWP4ZtT77wz1c/MrJ9JSLZWD+x13d/J5pZPzjF4OIBEFo/ZwzR43w5Wj9OaCFTIxdaP1D8zuwqq1k/wDTMuFf5WD9sfKEG2AZYP821Ogsa2lY/tqS1QJx6VT/QirO5ufBTPz7Vc6RzRVI/C3naPTmCUD94eUPjXmFNP49aO7fytEk/miEfnQUSRj8PUSvgm4pCP3PFkX0TXz4/pqFv+UAgOD8V2dxLzXMyP2t2rJZy4So/kcssJDpTIj/lbpuym7EWP58zOjqxEQg/Cz4AVhn18j7U9jjejJzJPr8W//TUoaE+9GUNY5nU5D5btPpBEPT/Pil2TfJ5BhA/zbFZHHxmGj/jQsBpLWEjP/aaoqe9Wyo/wcepI2/3MD/jQW3IefI0Py+QAI0GBDk/9NUVKIoRPT/MlrYyu4BAP9ocXyrgXUI/RHBC9iwVRD8NPrJzzpxFPwdAV4JS7EY/WdK/Hsz8Rz8EHbj27chIP7iwyC4bTUk/NM/7R26HST/nEIZLtndJP9taCJZqH0k/6Y7PzJWBSD8=\",\"dtype\":\"float64\",\"order\":\"little\",\"shape\":[400]}},\"selected\":{\"id\":\"1121\"},\"selection_policy\":{\"id\":\"1122\"}},\"id\":\"1105\",\"type\":\"ColumnDataSource\"},{\"attributes\":{\"axis\":{\"id\":\"1012\"},\"ticker\":null},\"id\":\"1015\",\"type\":\"Grid\"},{\"attributes\":{},\"id\":\"1024\",\"type\":\"ResetTool\"},{\"attributes\":{\"data\":{\"x\":{\"__ndarray__\":\"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\",\"dtype\":\"float64\",\"order\":\"little\",\"shape\":[400]},\"y\":{\"__ndarray__\":\"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\",\"dtype\":\"float64\",\"order\":\"little\",\"shape\":[400]}},\"selected\":{\"id\":\"1048\"},\"selection_policy\":{\"id\":\"1049\"}},\"id\":\"1034\",\"type\":\"ColumnDataSource\"},{\"attributes\":{},\"id\":\"1020\",\"type\":\"PanTool\"},{\"attributes\":{\"data_source\":{\"id\":\"1034\"},\"glyph\":{\"id\":\"1035\"},\"hover_glyph\":null,\"muted_glyph\":null,\"nonselection_glyph\":{\"id\":\"1036\"},\"view\":{\"id\":\"1038\"}},\"id\":\"1037\",\"type\":\"GlyphRenderer\"},{\"attributes\":{\"overlay\":{\"id\":\"1026\"}},\"id\":\"1022\",\"type\":\"BoxZoomTool\"},{\"attributes\":{\"axis_label\":\"x\",\"formatter\":{\"id\":\"1041\"},\"major_label_policy\":{\"id\":\"1042\"},\"ticker\":{\"id\":\"1013\"}},\"id\":\"1012\",\"type\":\"LinearAxis\"},{\"attributes\":{},\"id\":\"1048\",\"type\":\"Selection\"},{\"attributes\":{\"source\":{\"id\":\"1105\"}},\"id\":\"1109\",\"type\":\"CDSView\"},{\"attributes\":{},\"id\":\"1008\",\"type\":\"LinearScale\"},{\"attributes\":{},\"id\":\"1049\",\"type\":\"UnionRenderers\"},{\"attributes\":{\"axis_label\":\"I(x)/I\\u2080\",\"formatter\":{\"id\":\"1044\"},\"major_label_policy\":{\"id\":\"1045\"},\"ticker\":{\"id\":\"1017\"}},\"id\":\"1016\",\"type\":\"LinearAxis\"},{\"attributes\":{\"data_source\":{\"id\":\"1105\"},\"glyph\":{\"id\":\"1106\"},\"hover_glyph\":null,\"muted_glyph\":null,\"nonselection_glyph\":{\"id\":\"1107\"},\"view\":{\"id\":\"1109\"}},\"id\":\"1108\",\"type\":\"GlyphRenderer\"},{\"attributes\":{},\"id\":\"1006\",\"type\":\"DataRange1d\"},{\"attributes\":{},\"id\":\"1013\",\"type\":\"BasicTicker\"},{\"attributes\":{},\"id\":\"1010\",\"type\":\"LinearScale\"},{\"attributes\":{\"line_alpha\":0.1,\"line_color\":\"#1f77b4\",\"line_width\":2,\"x\":{\"field\":\"x\"},\"y\":{\"field\":\"y\"}},\"id\":\"1036\",\"type\":\"Line\"}],\"root_ids\":[\"1003\"]},\"title\":\"Bokeh Application\",\"version\":\"2.3.3\"}};\n",
       "  var render_items = [{\"docid\":\"02e71540-6796-46f2-acaa-c25128cdc10b\",\"root_ids\":[\"1003\"],\"roots\":{\"1003\":\"ffb75e3b-8538-48b1-a1a0-bb6486f66e46\"}}];\n",
       "  root.Bokeh.embed.embed_items_notebook(docs_json, render_items);\n",
       "\n",
       "  }\n",
       "  if (root.Bokeh !== undefined) {\n",
       "    embed_document(root);\n",
       "  } else {\n",
       "    var attempts = 0;\n",
       "    var timer = setInterval(function(root) {\n",
       "      if (root.Bokeh !== undefined) {\n",
       "        clearInterval(timer);\n",
       "        embed_document(root);\n",
       "      } else {\n",
       "        attempts++;\n",
       "        if (attempts > 100) {\n",
       "          clearInterval(timer);\n",
       "          console.log(\"Bokeh: ERROR: Unable to run BokehJS code because BokehJS library is missing\");\n",
       "        }\n",
       "      }\n",
       "    }, 10, root)\n",
       "  }\n",
       "})(window);"
      ],
      "application/vnd.bokehjs_exec.v0+json": ""
     },
     "metadata": {
      "application/vnd.bokehjs_exec.v0+json": {
       "id": "1003"
      }
     },
     "output_type": "display_data"
    }
   ],
   "source": [
    "p.circle(\n",
    "    x=x, \n",
    "    y=norm_I, \n",
    "    size=2, \n",
    "    color=\"orange\"\n",
    ")\n",
    "\n",
    "bokeh.io.show(p)"
   ]
  },
  {
   "cell_type": "markdown",
   "metadata": {},
   "source": [
    "There is one detail I swept under the rug here. What happens if we compute the function for $x = 0$?"
   ]
  },
  {
   "cell_type": "code",
   "execution_count": 6,
   "metadata": {},
   "outputs": [
    {
     "name": "stderr",
     "output_type": "stream",
     "text": [
      "<ipython-input-6-86dbf82b8fc4>:1: RuntimeWarning: invalid value encountered in double_scalars\n",
      "  4 * (scipy.special.j1(0) / 0) ** 2\n"
     ]
    },
    {
     "data": {
      "text/plain": [
       "nan"
      ]
     },
     "execution_count": 6,
     "metadata": {},
     "output_type": "execute_result"
    }
   ],
   "source": [
    "4 * (scipy.special.j1(0) / 0) ** 2"
   ]
  },
  {
   "cell_type": "markdown",
   "metadata": {},
   "source": [
    "We get a `RuntimeWarning` because we divided by zero. We know that\n",
    "\n",
    "\\begin{align}\n",
    "\\lim_{x\\to 0} \\frac{J_1(x)}{x} = \\frac{1}{2},\n",
    "\\end{align}\n",
    "\n",
    "so we could write a new function that checks if $x = 0$ and returns the appropriate limit for $x = 0$. In the `x` array I constructed for the plot, we hopped over zero, so it was never evaluated. If we were being careful, we could write our own Airy function that deals with this."
   ]
  },
  {
   "cell_type": "code",
   "execution_count": 7,
   "metadata": {},
   "outputs": [],
   "source": [
    "def airy_disk(x):\n",
    "    \"\"\"Compute the Airy disk.\"\"\"\n",
    "    # Set up output array\n",
    "    res = np.empty_like(x)\n",
    "\n",
    "    # Where x is very close to zero (use np.isclose)\n",
    "    near_zero = np.isclose(x, 0)\n",
    "\n",
    "    # Compute values where x is close to zero\n",
    "    res[near_zero] = 1.0\n",
    "\n",
    "    # Everywhere else\n",
    "    x_vals = x[~near_zero]\n",
    "    res[~near_zero] = 4 * (scipy.special.j1(x_vals) / x_vals) ** 2\n",
    "\n",
    "    return res"
   ]
  },
  {
   "cell_type": "markdown",
   "metadata": {},
   "source": [
    "## Computing environment"
   ]
  },
  {
   "cell_type": "code",
   "execution_count": 8,
   "metadata": {},
   "outputs": [
    {
     "name": "stdout",
     "output_type": "stream",
     "text": [
      "Python implementation: CPython\n",
      "Python version       : 3.8.11\n",
      "IPython version      : 7.26.0\n",
      "\n",
      "numpy     : 1.20.3\n",
      "scipy     : 1.6.2\n",
      "bokeh     : 2.3.3\n",
      "jupyterlab: 3.1.7\n",
      "\n"
     ]
    }
   ],
   "source": [
    "%load_ext watermark\n",
    "%watermark -v -p numpy,scipy,bokeh,jupyterlab"
   ]
  }
 ],
 "metadata": {
  "kernelspec": {
   "display_name": "Python 3",
   "language": "python",
   "name": "python3"
  },
  "language_info": {
   "codemirror_mode": {
    "name": "ipython",
    "version": 3
   },
   "file_extension": ".py",
   "mimetype": "text/x-python",
   "name": "python",
   "nbconvert_exporter": "python",
   "pygments_lexer": "ipython3",
   "version": "3.8.11"
  }
 },
 "nbformat": 4,
 "nbformat_minor": 4
}
