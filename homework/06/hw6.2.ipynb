{
 "cells": [
  {
   "cell_type": "markdown",
   "metadata": {},
   "source": [
    "# Homework 6.2: MLE of microtubule catastrophe data (team problem, 70 pts)\n",
    "\n",
    "[Dataset download](https://s3.amazonaws.com/bebi103.caltech.edu/data/gardner_time_to_catastrophe_dic_tidy.csv)\n",
    "\n",
    "<hr>"
   ]
  },
  {
   "cell_type": "markdown",
   "metadata": {},
   "source": [
    "Refresh yourself about the microtubule catastrophe data we explored in previous homeworks. We will again work with this data set here.\n",
    "\n",
    "**a)** In their [paper](http://dx.doi.org/10.1016/j.cell.2011.10.037), Gardner, Zanic, and coworkers modeled microtubule catastrophe times as Gamma distributed. Perform a maximum likelihood estimate for the parameters of the Gamma distribution. Because you showed in a previous homework that there is little difference between labeled and unlabeled tubulin, you only need to work this out for the labeled tubulin now and in part (b). Be sure to include confidence intervals or a confidence region for your MLE and discuss the method you used to get the confidence intervals or confidence region.\n",
    "\n",
    "**b)** Obtain a maximum likelihood estimate for the parameters $\\beta_1$ and $\\beta_2$ from the model you derived in homework 4.2. As a reminder, you derived that the PDF for microtubule catastrophe times is\n",
    "\n",
    "\\begin{align}\n",
    "f(t;\\beta_1, \\beta_2) = \\frac{\\beta_1\\beta_2}{\\beta_2 - \\beta_1}\\left(\\mathrm{e}^{-\\beta_1 t} - \\mathrm{e}^{-\\beta_2 t}\\right).\n",
    "\\end{align}\n",
    "\n",
    "**Be careful**; this is a *very* tricky calculation. It is possible to make significant analytical progress, and this can help you find the MLE. Be sure to think about what happens when $\\beta_1 \\approx \\beta_2$. You may also need to think about how you will handle the [log of sums of exponentials](https://en.wikipedia.org/wiki/LogSumExp).\n",
    "\n",
    "**c)** Attempt to compute bootstrap confidence intervals for the parameters. This calculation has difficult subtleties that make it even trickier than computing the MLE. I suspect that most students will not be able to perform this calculation. We are asking for your best try here. You will be graded based on your effort and ability to identify where the difficulties in the confidence interval calculation arise."
   ]
  }
 ],
 "metadata": {
  "kernelspec": {
   "display_name": "Python 3 (ipykernel)",
   "language": "python",
   "name": "python3"
  },
  "language_info": {
   "codemirror_mode": {
    "name": "ipython",
    "version": 3
   },
   "file_extension": ".py",
   "mimetype": "text/x-python",
   "name": "python",
   "nbconvert_exporter": "python",
   "pygments_lexer": "ipython3",
   "version": "3.11.5"
  }
 },
 "nbformat": 4,
 "nbformat_minor": 4
}
