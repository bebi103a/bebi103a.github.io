{
 "cells": [
  {
   "cell_type": "markdown",
   "metadata": {},
   "source": [
    "# Homework 10: Course feedback (20 pts)\n",
    "\n",
    "<hr>"
   ]
  },
  {
   "cell_type": "markdown",
   "metadata": {},
   "source": [
    "You do not need to use a Jupyter notebook to do the problem. Instead, you should submit your responses as a text file or PDF. Do not submit a MS Word document or a Jupyter notebook.\n",
    "\n",
    "A total of 20 points will be awarded for thoughtful responses for this homework. There are a lot of questions, and some of them may warrant very short responses. But if you have detailed comments on something you have a strong or insightful opinion about, I would really like to hear them.\n",
    "\n",
    "Thank you in advance for your responses. They really do help shape what we do in future versions of the course."
   ]
  },
  {
   "cell_type": "markdown",
   "metadata": {},
   "source": [
    "## 10.1: Topical coverage\n",
    "\n",
    "**a)** Are there topics you would like covered that were not?\n",
    "\n",
    "**b)** Were there topics you think we spent too much time on?\n",
    "\n",
    "**c)** Were there topics you think we should spend more time on?\n",
    "\n",
    "**d)** Which topics did you find most interesting?\n",
    "\n",
    "**e)** Where there any common misconceptions that persisted throughout the course for you? What topics (if any) did you find particularly hard to understand and apply?"
   ]
  },
  {
   "cell_type": "markdown",
   "metadata": {},
   "source": [
    "<br />"
   ]
  },
  {
   "cell_type": "markdown",
   "metadata": {},
   "source": [
    "## 10.2: Data sets and exercises\n",
    "\n",
    "**a)** What was your favorite homework problem or data set? \n",
    "\n",
    "**b)** Are there any problems you would remove? If yes, you have to follow this rule: You can suggest removing a problem, but you have to suggest something in its place.\n",
    "\n",
    "**c)** What are your thoughts on us revisiting the microtubule catastrophe data set throughout the term as a team project?"
   ]
  },
  {
   "cell_type": "markdown",
   "metadata": {},
   "source": [
    "<br />"
   ]
  },
  {
   "cell_type": "markdown",
   "metadata": {},
   "source": [
    "## 10.3: Course structure\n",
    "\n",
    "**a)** Where did the majority of your learning take place? (Example answers include: Reading the lessons, doing the lesson exercises, completing the homeworks, interacting with TAs during the Monday sessions, interacting with TAs during office hours, during JB's lectures, during JB's office hours, talking with teammates, etc.)\n",
    "\n",
    "**b)** Do you have any suggestions for improvement of the Monday sessions? \n",
    "\n",
    "**c)** Regarding the Monday sessions, one thing in particular I am thinking about is the fact that very few students put up flags to ask general questions about points of confusion, even though they indicated them in the lesson exercises and I did not cover them explicitly during the spiel. Is there a way to encourage students to have more discussions with course staff about concepts not directly related to the homework du jour?\n",
    "\n",
    "**d)** Did you attend any recitation sessions? Did you find them useful? Do you have general suggestions for that?\n",
    "\n",
    "**e)** Did you find the homework help sessions useful? Do you have general suggestions for that?\n",
    "\n",
    "**f)** Do you have any suggestions for improving the course website and/or dissemination of material?\n",
    "\n",
    "**g)** What are your opinions on Ed as a way to discuss course material and get help?"
   ]
  },
  {
   "cell_type": "markdown",
   "metadata": {},
   "source": [
    "<br />"
   ]
  },
  {
   "cell_type": "markdown",
   "metadata": {},
   "source": [
    "## 10.4: Your future\n",
    "\n",
    "**a)** What will you be able to do with your data that you weren't able to before?\n",
    "\n",
    "**b)** Has this class changed the way you read scientific papers? Has it changed your opinion on any papers you've read previously?\n",
    "\n",
    "**c)** Which of the following principles do you think you will apply in your work going forward?\n",
    "\n",
    "1. Tidy data\n",
    "2. ECDFs\n",
    "3. Other visualization techniques we learned (please specify)\n",
    "4. Nonparametric bootstrapping\n",
    "5. Generative modeling and MLE\n",
    "6. Model assessment\n",
    "7. Other principles from class or recitations?\n",
    "\n",
    "**d)** Which of the following software tools do you think you will use in your work going forward?\n",
    "\n",
    "1. Jupyter notebooks\n",
    "2. Google Colab\n",
    "3. Git/GitHub\n",
    "4. Python-based tools in general (NumPy, SciPy, etc.)\n",
    "5. Pandas\n",
    "6. Bokeh\n",
    "7. Distribution explorer\n",
    "8. `iqplot`\n",
    "9. The `bebi103` package (utilities we used in the course)\n",
    "10. Griffin Chure's workflow\n",
    "11. Griffin Chure's website template\n",
    "\n",
    "**e)** Do you expect to coordinate with CaltechDATA (as discussed in Tom Morrell's guest lecture)? (If not, I very strongly advise you to do so.)\n",
    "\n",
    "**f)** Will you share what you have learned with your labmates/classmates?\n",
    "\n",
    "**g)** Will you share what you have learned with your PI?"
   ]
  },
  {
   "cell_type": "markdown",
   "metadata": {},
   "source": [
    "<br />"
   ]
  },
  {
   "cell_type": "markdown",
   "metadata": {},
   "source": [
    "## 10.5: Your programming background\n",
    "\n",
    "How comfortable were you with using Python at the start of the course? Did you feel your programming skills were sufficient for the course? Note that going forward CS 1 or equivalent will be a prerequisite for the course."
   ]
  },
  {
   "cell_type": "markdown",
   "metadata": {},
   "source": [
    "<br />"
   ]
  },
  {
   "cell_type": "markdown",
   "metadata": {},
   "source": [
    "## 10.6: Your mathematical background\n",
    "\n",
    "What was your background in mathematics before the course? Did you feel that your mathematical background coming in to the course was sufficient to understand the course content and complete the assignments?"
   ]
  },
  {
   "cell_type": "markdown",
   "metadata": {},
   "source": [
    "<br />"
   ]
  },
  {
   "cell_type": "markdown",
   "metadata": {},
   "source": [
    "## 10.7: Future interests\n",
    "\n",
    "**a)** Are you interested in taking part (b) of the course, which covers primarily Bayesian modeling?\n",
    "\n",
    "**b)** We are thinking about various options for part (c), which are more special topics in data analysis. Bearing in mind that we already have a course in Bioinformatics (Bi/BE/CS 183) and one in machine learning (BE/Bi 205) are there are suggestions you have for a third term of the course?"
   ]
  },
  {
   "cell_type": "markdown",
   "metadata": {},
   "source": [
    "<br />"
   ]
  },
  {
   "cell_type": "markdown",
   "metadata": {},
   "source": [
    "## 10.8: Miscellany\n",
    "\n",
    "Please include any comments you have that I have not asked about."
   ]
  }
 ],
 "metadata": {
  "anaconda-cloud": {},
  "kernelspec": {
   "display_name": "Python 3 (ipykernel)",
   "language": "python",
   "name": "python3"
  },
  "language_info": {
   "codemirror_mode": {
    "name": "ipython",
    "version": 3
   },
   "file_extension": ".py",
   "mimetype": "text/x-python",
   "name": "python",
   "nbconvert_exporter": "python",
   "pygments_lexer": "ipython3",
   "version": "3.11.5"
  }
 },
 "nbformat": 4,
 "nbformat_minor": 4
}
