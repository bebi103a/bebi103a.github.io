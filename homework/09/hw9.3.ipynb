{
 "cells": [
  {
   "cell_type": "markdown",
   "metadata": {},
   "source": [
    "# Homework 9.3: Polishing (20 pts extra credit)\n",
    "\n",
    "<hr />"
   ]
  },
  {
   "cell_type": "markdown",
   "metadata": {},
   "source": [
    "We have worked with the microtubule catastrophe data set throughout the term. Imagine that the analysis you did was part of a publication. Alternatively, imagine that the analysis of Caulobacter growth from problem 9.2 is part of a publication.\n",
    "\n",
    "\n",
    "Build a website similar to what [Griffin Chure](https://gchure.github.io) showed in his guest lecture. Don't forget that his reproducible website [repository wiki](https://github.com/gchure/reproducible_website/wiki) has instructions on how to build the website. Bear in mind, though, that if you host your result on GitHub, it **will be public**. The whole world will see it. \n",
    "\n",
    "As part of this work, you need to create a separate package with `.py` files containing code you use in your analysis. You should create this as a separate repository.\n",
    "\n",
    "Obviously, you cannot write a whole paper. Instead, have a brief abstract discussing what you were studying. Your work for this problem should mostly be in the Analysis section of the website. For the Data section of the website, you can use the links I included in the homework statements to the original data sets."
   ]
  }
 ],
 "metadata": {
  "kernelspec": {
   "display_name": "Python 3 (ipykernel)",
   "language": "python",
   "name": "python3"
  },
  "language_info": {
   "codemirror_mode": {
    "name": "ipython",
    "version": 3
   },
   "file_extension": ".py",
   "mimetype": "text/x-python",
   "name": "python",
   "nbconvert_exporter": "python",
   "pygments_lexer": "ipython3",
   "version": "3.9.13"
  }
 },
 "nbformat": 4,
 "nbformat_minor": 4
}
