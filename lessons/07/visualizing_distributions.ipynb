{
 "cells": [
  {
   "cell_type": "markdown",
   "metadata": {},
   "source": [
    "# Visualizing distributions\n",
    "\n",
    "[Data set download](https://s3.amazonaws.com/bebi103.caltech.edu/data/gfmt_sleep.csv)\n",
    "\n",
    "<hr />"
   ]
  },
  {
   "cell_type": "code",
   "execution_count": 1,
   "metadata": {
    "nbsphinx": "hidden",
    "tags": []
   },
   "outputs": [],
   "source": [
    "# Colab setup ------------------\n",
    "import os, sys, subprocess\n",
    "if \"google.colab\" in sys.modules:\n",
    "    cmd = \"pip install --upgrade iqplot colorcet datashader bebi103 watermark\"\n",
    "    process = subprocess.Popen(cmd.split(), stdout=subprocess.PIPE, stderr=subprocess.PIPE)\n",
    "    stdout, stderr = process.communicate()\n",
    "    data_path = \"https://s3.amazonaws.com/bebi103.caltech.edu/data/\"\n",
    "else:\n",
    "    data_path = \"../data/\""
   ]
  },
  {
   "cell_type": "code",
   "execution_count": 2,
   "metadata": {},
   "outputs": [
    {
     "data": {
      "text/html": [
       "<style>\n",
       "        .bk-notebook-logo {\n",
       "            display: block;\n",
       "            width: 20px;\n",
       "            height: 20px;\n",
       "            background-image: url(data:image/png;base64,iVBORw0KGgoAAAANSUhEUgAAABQAAAAUCAYAAACNiR0NAAAABHNCSVQICAgIfAhkiAAAAAlwSFlzAAALEgAACxIB0t1+/AAAABx0RVh0U29mdHdhcmUAQWRvYmUgRmlyZXdvcmtzIENTNui8sowAAAOkSURBVDiNjZRtaJVlGMd/1/08zzln5zjP1LWcU9N0NkN8m2CYjpgQYQXqSs0I84OLIC0hkEKoPtiH3gmKoiJDU7QpLgoLjLIQCpEsNJ1vqUOdO7ppbuec5+V+rj4ctwzd8IIbbi6u+8f1539dt3A78eXC7QizUF7gyV1fD1Yqg4JWz84yffhm0qkFqBogB9rM8tZdtwVsPUhWhGcFJngGeWrPzHm5oaMmkfEg1usvLFyc8jLRqDOMru7AyC8saQr7GG7f5fvDeH7Ej8CM66nIF+8yngt6HWaKh7k49Soy9nXurCi1o3qUbS3zWfrYeQDTB/Qj6kX6Ybhw4B+bOYoLKCC9H3Nu/leUTZ1JdRWkkn2ldcCamzrcf47KKXdAJllSlxAOkRgyHsGC/zRday5Qld9DyoM4/q/rUoy/CXh3jzOu3bHUVZeU+DEn8FInkPBFlu3+nW3Nw0mk6vCDiWg8CeJaxEwuHS3+z5RgY+YBR6V1Z1nxSOfoaPa4LASWxxdNp+VWTk7+4vzaou8v8PN+xo+KY2xsw6une2frhw05CTYOmQvsEhjhWjn0bmXPjpE1+kplmmkP3suftwTubK9Vq22qKmrBhpY4jvd5afdRA3wGjFAgcnTK2s4hY0/GPNIb0nErGMCRxWOOX64Z8RAC4oCXdklmEvcL8o0BfkNK4lUg9HTl+oPlQxdNo3Mg4Nv175e/1LDGzZen30MEjRUtmXSfiTVu1kK8W4txyV6BMKlbgk3lMwYCiusNy9fVfvvwMxv8Ynl6vxoByANLTWplvuj/nF9m2+PDtt1eiHPBr1oIfhCChQMBw6Aw0UulqTKZdfVvfG7VcfIqLG9bcldL/+pdWTLxLUy8Qq38heUIjh4XlzZxzQm19lLFlr8vdQ97rjZVOLf8nclzckbcD4wxXMidpX30sFd37Fv/GtwwhzhxGVAprjbg0gCAEeIgwCZyTV2Z1REEW8O4py0wsjeloKoMr6iCY6dP92H6Vw/oTyICIthibxjm/DfN9lVz8IqtqKYLUXfoKVMVQVVJOElGjrnnUt9T9wbgp8AyYKaGlqingHZU/uG2NTZSVqwHQTWkx9hxjkpWDaCg6Ckj5qebgBVbT3V3NNXMSiWSDdGV3hrtzla7J+duwPOToIg42ChPQOQjspnSlp1V+Gjdged7+8UN5CRAV7a5EdFNwCjEaBR27b3W890TE7g24NAP/mMDXRWrGoFPQI9ls/MWO2dWFAar/xcOIImbbpA3zgAAAABJRU5ErkJggg==);\n",
       "        }\n",
       "    </style>\n",
       "    <div>\n",
       "        <a href=\"https://bokeh.org\" target=\"_blank\" class=\"bk-notebook-logo\"></a>\n",
       "        <span id=\"beccceb5-dade-4be2-9065-f8e454e6fea9\">Loading BokehJS ...</span>\n",
       "    </div>\n"
      ]
     },
     "metadata": {},
     "output_type": "display_data"
    },
    {
     "data": {
      "application/javascript": [
       "(function(root) {\n",
       "  function now() {\n",
       "    return new Date();\n",
       "  }\n",
       "\n",
       "  const force = true;\n",
       "\n",
       "  if (typeof root._bokeh_onload_callbacks === \"undefined\" || force === true) {\n",
       "    root._bokeh_onload_callbacks = [];\n",
       "    root._bokeh_is_loading = undefined;\n",
       "  }\n",
       "\n",
       "const JS_MIME_TYPE = 'application/javascript';\n",
       "  const HTML_MIME_TYPE = 'text/html';\n",
       "  const EXEC_MIME_TYPE = 'application/vnd.bokehjs_exec.v0+json';\n",
       "  const CLASS_NAME = 'output_bokeh rendered_html';\n",
       "\n",
       "  /**\n",
       "   * Render data to the DOM node\n",
       "   */\n",
       "  function render(props, node) {\n",
       "    const script = document.createElement(\"script\");\n",
       "    node.appendChild(script);\n",
       "  }\n",
       "\n",
       "  /**\n",
       "   * Handle when an output is cleared or removed\n",
       "   */\n",
       "  function handleClearOutput(event, handle) {\n",
       "    const cell = handle.cell;\n",
       "\n",
       "    const id = cell.output_area._bokeh_element_id;\n",
       "    const server_id = cell.output_area._bokeh_server_id;\n",
       "    // Clean up Bokeh references\n",
       "    if (id != null && id in Bokeh.index) {\n",
       "      Bokeh.index[id].model.document.clear();\n",
       "      delete Bokeh.index[id];\n",
       "    }\n",
       "\n",
       "    if (server_id !== undefined) {\n",
       "      // Clean up Bokeh references\n",
       "      const cmd_clean = \"from bokeh.io.state import curstate; print(curstate().uuid_to_server['\" + server_id + \"'].get_sessions()[0].document.roots[0]._id)\";\n",
       "      cell.notebook.kernel.execute(cmd_clean, {\n",
       "        iopub: {\n",
       "          output: function(msg) {\n",
       "            const id = msg.content.text.trim();\n",
       "            if (id in Bokeh.index) {\n",
       "              Bokeh.index[id].model.document.clear();\n",
       "              delete Bokeh.index[id];\n",
       "            }\n",
       "          }\n",
       "        }\n",
       "      });\n",
       "      // Destroy server and session\n",
       "      const cmd_destroy = \"import bokeh.io.notebook as ion; ion.destroy_server('\" + server_id + \"')\";\n",
       "      cell.notebook.kernel.execute(cmd_destroy);\n",
       "    }\n",
       "  }\n",
       "\n",
       "  /**\n",
       "   * Handle when a new output is added\n",
       "   */\n",
       "  function handleAddOutput(event, handle) {\n",
       "    const output_area = handle.output_area;\n",
       "    const output = handle.output;\n",
       "\n",
       "    // limit handleAddOutput to display_data with EXEC_MIME_TYPE content only\n",
       "    if ((output.output_type != \"display_data\") || (!Object.prototype.hasOwnProperty.call(output.data, EXEC_MIME_TYPE))) {\n",
       "      return\n",
       "    }\n",
       "\n",
       "    const toinsert = output_area.element.find(\".\" + CLASS_NAME.split(' ')[0]);\n",
       "\n",
       "    if (output.metadata[EXEC_MIME_TYPE][\"id\"] !== undefined) {\n",
       "      toinsert[toinsert.length - 1].firstChild.textContent = output.data[JS_MIME_TYPE];\n",
       "      // store reference to embed id on output_area\n",
       "      output_area._bokeh_element_id = output.metadata[EXEC_MIME_TYPE][\"id\"];\n",
       "    }\n",
       "    if (output.metadata[EXEC_MIME_TYPE][\"server_id\"] !== undefined) {\n",
       "      const bk_div = document.createElement(\"div\");\n",
       "      bk_div.innerHTML = output.data[HTML_MIME_TYPE];\n",
       "      const script_attrs = bk_div.children[0].attributes;\n",
       "      for (let i = 0; i < script_attrs.length; i++) {\n",
       "        toinsert[toinsert.length - 1].firstChild.setAttribute(script_attrs[i].name, script_attrs[i].value);\n",
       "        toinsert[toinsert.length - 1].firstChild.textContent = bk_div.children[0].textContent\n",
       "      }\n",
       "      // store reference to server id on output_area\n",
       "      output_area._bokeh_server_id = output.metadata[EXEC_MIME_TYPE][\"server_id\"];\n",
       "    }\n",
       "  }\n",
       "\n",
       "  function register_renderer(events, OutputArea) {\n",
       "\n",
       "    function append_mime(data, metadata, element) {\n",
       "      // create a DOM node to render to\n",
       "      const toinsert = this.create_output_subarea(\n",
       "        metadata,\n",
       "        CLASS_NAME,\n",
       "        EXEC_MIME_TYPE\n",
       "      );\n",
       "      this.keyboard_manager.register_events(toinsert);\n",
       "      // Render to node\n",
       "      const props = {data: data, metadata: metadata[EXEC_MIME_TYPE]};\n",
       "      render(props, toinsert[toinsert.length - 1]);\n",
       "      element.append(toinsert);\n",
       "      return toinsert\n",
       "    }\n",
       "\n",
       "    /* Handle when an output is cleared or removed */\n",
       "    events.on('clear_output.CodeCell', handleClearOutput);\n",
       "    events.on('delete.Cell', handleClearOutput);\n",
       "\n",
       "    /* Handle when a new output is added */\n",
       "    events.on('output_added.OutputArea', handleAddOutput);\n",
       "\n",
       "    /**\n",
       "     * Register the mime type and append_mime function with output_area\n",
       "     */\n",
       "    OutputArea.prototype.register_mime_type(EXEC_MIME_TYPE, append_mime, {\n",
       "      /* Is output safe? */\n",
       "      safe: true,\n",
       "      /* Index of renderer in `output_area.display_order` */\n",
       "      index: 0\n",
       "    });\n",
       "  }\n",
       "\n",
       "  // register the mime type if in Jupyter Notebook environment and previously unregistered\n",
       "  if (root.Jupyter !== undefined) {\n",
       "    const events = require('base/js/events');\n",
       "    const OutputArea = require('notebook/js/outputarea').OutputArea;\n",
       "\n",
       "    if (OutputArea.prototype.mime_types().indexOf(EXEC_MIME_TYPE) == -1) {\n",
       "      register_renderer(events, OutputArea);\n",
       "    }\n",
       "  }\n",
       "  if (typeof (root._bokeh_timeout) === \"undefined\" || force === true) {\n",
       "    root._bokeh_timeout = Date.now() + 5000;\n",
       "    root._bokeh_failed_load = false;\n",
       "  }\n",
       "\n",
       "  const NB_LOAD_WARNING = {'data': {'text/html':\n",
       "     \"<div style='background-color: #fdd'>\\n\"+\n",
       "     \"<p>\\n\"+\n",
       "     \"BokehJS does not appear to have successfully loaded. If loading BokehJS from CDN, this \\n\"+\n",
       "     \"may be due to a slow or bad network connection. Possible fixes:\\n\"+\n",
       "     \"</p>\\n\"+\n",
       "     \"<ul>\\n\"+\n",
       "     \"<li>re-rerun `output_notebook()` to attempt to load from CDN again, or</li>\\n\"+\n",
       "     \"<li>use INLINE resources instead, as so:</li>\\n\"+\n",
       "     \"</ul>\\n\"+\n",
       "     \"<code>\\n\"+\n",
       "     \"from bokeh.resources import INLINE\\n\"+\n",
       "     \"output_notebook(resources=INLINE)\\n\"+\n",
       "     \"</code>\\n\"+\n",
       "     \"</div>\"}};\n",
       "\n",
       "  function display_loaded() {\n",
       "    const el = document.getElementById(\"beccceb5-dade-4be2-9065-f8e454e6fea9\");\n",
       "    if (el != null) {\n",
       "      el.textContent = \"BokehJS is loading...\";\n",
       "    }\n",
       "    if (root.Bokeh !== undefined) {\n",
       "      if (el != null) {\n",
       "        el.textContent = \"BokehJS \" + root.Bokeh.version + \" successfully loaded.\";\n",
       "      }\n",
       "    } else if (Date.now() < root._bokeh_timeout) {\n",
       "      setTimeout(display_loaded, 100)\n",
       "    }\n",
       "  }\n",
       "\n",
       "  function run_callbacks() {\n",
       "    try {\n",
       "      root._bokeh_onload_callbacks.forEach(function(callback) {\n",
       "        if (callback != null)\n",
       "          callback();\n",
       "      });\n",
       "    } finally {\n",
       "      delete root._bokeh_onload_callbacks\n",
       "    }\n",
       "    console.debug(\"Bokeh: all callbacks have finished\");\n",
       "  }\n",
       "\n",
       "  function load_libs(css_urls, js_urls, callback) {\n",
       "    if (css_urls == null) css_urls = [];\n",
       "    if (js_urls == null) js_urls = [];\n",
       "\n",
       "    root._bokeh_onload_callbacks.push(callback);\n",
       "    if (root._bokeh_is_loading > 0) {\n",
       "      console.debug(\"Bokeh: BokehJS is being loaded, scheduling callback at\", now());\n",
       "      return null;\n",
       "    }\n",
       "    if (js_urls == null || js_urls.length === 0) {\n",
       "      run_callbacks();\n",
       "      return null;\n",
       "    }\n",
       "    console.debug(\"Bokeh: BokehJS not loaded, scheduling load and callback at\", now());\n",
       "    root._bokeh_is_loading = css_urls.length + js_urls.length;\n",
       "\n",
       "    function on_load() {\n",
       "      root._bokeh_is_loading--;\n",
       "      if (root._bokeh_is_loading === 0) {\n",
       "        console.debug(\"Bokeh: all BokehJS libraries/stylesheets loaded\");\n",
       "        run_callbacks()\n",
       "      }\n",
       "    }\n",
       "\n",
       "    function on_error(url) {\n",
       "      console.error(\"failed to load \" + url);\n",
       "    }\n",
       "\n",
       "    for (let i = 0; i < css_urls.length; i++) {\n",
       "      const url = css_urls[i];\n",
       "      const element = document.createElement(\"link\");\n",
       "      element.onload = on_load;\n",
       "      element.onerror = on_error.bind(null, url);\n",
       "      element.rel = \"stylesheet\";\n",
       "      element.type = \"text/css\";\n",
       "      element.href = url;\n",
       "      console.debug(\"Bokeh: injecting link tag for BokehJS stylesheet: \", url);\n",
       "      document.body.appendChild(element);\n",
       "    }\n",
       "\n",
       "    for (let i = 0; i < js_urls.length; i++) {\n",
       "      const url = js_urls[i];\n",
       "      const element = document.createElement('script');\n",
       "      element.onload = on_load;\n",
       "      element.onerror = on_error.bind(null, url);\n",
       "      element.async = false;\n",
       "      element.src = url;\n",
       "      console.debug(\"Bokeh: injecting script tag for BokehJS library: \", url);\n",
       "      document.head.appendChild(element);\n",
       "    }\n",
       "  };\n",
       "\n",
       "  function inject_raw_css(css) {\n",
       "    const element = document.createElement(\"style\");\n",
       "    element.appendChild(document.createTextNode(css));\n",
       "    document.body.appendChild(element);\n",
       "  }\n",
       "\n",
       "  const js_urls = [\"https://cdn.bokeh.org/bokeh/release/bokeh-3.2.1.min.js\", \"https://cdn.bokeh.org/bokeh/release/bokeh-gl-3.2.1.min.js\", \"https://cdn.bokeh.org/bokeh/release/bokeh-widgets-3.2.1.min.js\", \"https://cdn.bokeh.org/bokeh/release/bokeh-tables-3.2.1.min.js\", \"https://cdn.bokeh.org/bokeh/release/bokeh-mathjax-3.2.1.min.js\"];\n",
       "  const css_urls = [];\n",
       "\n",
       "  const inline_js = [    function(Bokeh) {\n",
       "      Bokeh.set_log_level(\"info\");\n",
       "    },\n",
       "function(Bokeh) {\n",
       "    }\n",
       "  ];\n",
       "\n",
       "  function run_inline_js() {\n",
       "    if (root.Bokeh !== undefined || force === true) {\n",
       "          for (let i = 0; i < inline_js.length; i++) {\n",
       "      inline_js[i].call(root, root.Bokeh);\n",
       "    }\n",
       "if (force === true) {\n",
       "        display_loaded();\n",
       "      }} else if (Date.now() < root._bokeh_timeout) {\n",
       "      setTimeout(run_inline_js, 100);\n",
       "    } else if (!root._bokeh_failed_load) {\n",
       "      console.log(\"Bokeh: BokehJS failed to load within specified timeout.\");\n",
       "      root._bokeh_failed_load = true;\n",
       "    } else if (force !== true) {\n",
       "      const cell = $(document.getElementById(\"beccceb5-dade-4be2-9065-f8e454e6fea9\")).parents('.cell').data().cell;\n",
       "      cell.output_area.append_execute_result(NB_LOAD_WARNING)\n",
       "    }\n",
       "  }\n",
       "\n",
       "  if (root._bokeh_is_loading === 0) {\n",
       "    console.debug(\"Bokeh: BokehJS loaded, going straight to plotting\");\n",
       "    run_inline_js();\n",
       "  } else {\n",
       "    load_libs(css_urls, js_urls, function() {\n",
       "      console.debug(\"Bokeh: BokehJS plotting callback run at\", now());\n",
       "      run_inline_js();\n",
       "    });\n",
       "  }\n",
       "}(window));"
      ],
      "application/vnd.bokehjs_load.v0+json": "(function(root) {\n  function now() {\n    return new Date();\n  }\n\n  const force = true;\n\n  if (typeof root._bokeh_onload_callbacks === \"undefined\" || force === true) {\n    root._bokeh_onload_callbacks = [];\n    root._bokeh_is_loading = undefined;\n  }\n\n\n  if (typeof (root._bokeh_timeout) === \"undefined\" || force === true) {\n    root._bokeh_timeout = Date.now() + 5000;\n    root._bokeh_failed_load = false;\n  }\n\n  const NB_LOAD_WARNING = {'data': {'text/html':\n     \"<div style='background-color: #fdd'>\\n\"+\n     \"<p>\\n\"+\n     \"BokehJS does not appear to have successfully loaded. If loading BokehJS from CDN, this \\n\"+\n     \"may be due to a slow or bad network connection. Possible fixes:\\n\"+\n     \"</p>\\n\"+\n     \"<ul>\\n\"+\n     \"<li>re-rerun `output_notebook()` to attempt to load from CDN again, or</li>\\n\"+\n     \"<li>use INLINE resources instead, as so:</li>\\n\"+\n     \"</ul>\\n\"+\n     \"<code>\\n\"+\n     \"from bokeh.resources import INLINE\\n\"+\n     \"output_notebook(resources=INLINE)\\n\"+\n     \"</code>\\n\"+\n     \"</div>\"}};\n\n  function display_loaded() {\n    const el = document.getElementById(\"beccceb5-dade-4be2-9065-f8e454e6fea9\");\n    if (el != null) {\n      el.textContent = \"BokehJS is loading...\";\n    }\n    if (root.Bokeh !== undefined) {\n      if (el != null) {\n        el.textContent = \"BokehJS \" + root.Bokeh.version + \" successfully loaded.\";\n      }\n    } else if (Date.now() < root._bokeh_timeout) {\n      setTimeout(display_loaded, 100)\n    }\n  }\n\n  function run_callbacks() {\n    try {\n      root._bokeh_onload_callbacks.forEach(function(callback) {\n        if (callback != null)\n          callback();\n      });\n    } finally {\n      delete root._bokeh_onload_callbacks\n    }\n    console.debug(\"Bokeh: all callbacks have finished\");\n  }\n\n  function load_libs(css_urls, js_urls, callback) {\n    if (css_urls == null) css_urls = [];\n    if (js_urls == null) js_urls = [];\n\n    root._bokeh_onload_callbacks.push(callback);\n    if (root._bokeh_is_loading > 0) {\n      console.debug(\"Bokeh: BokehJS is being loaded, scheduling callback at\", now());\n      return null;\n    }\n    if (js_urls == null || js_urls.length === 0) {\n      run_callbacks();\n      return null;\n    }\n    console.debug(\"Bokeh: BokehJS not loaded, scheduling load and callback at\", now());\n    root._bokeh_is_loading = css_urls.length + js_urls.length;\n\n    function on_load() {\n      root._bokeh_is_loading--;\n      if (root._bokeh_is_loading === 0) {\n        console.debug(\"Bokeh: all BokehJS libraries/stylesheets loaded\");\n        run_callbacks()\n      }\n    }\n\n    function on_error(url) {\n      console.error(\"failed to load \" + url);\n    }\n\n    for (let i = 0; i < css_urls.length; i++) {\n      const url = css_urls[i];\n      const element = document.createElement(\"link\");\n      element.onload = on_load;\n      element.onerror = on_error.bind(null, url);\n      element.rel = \"stylesheet\";\n      element.type = \"text/css\";\n      element.href = url;\n      console.debug(\"Bokeh: injecting link tag for BokehJS stylesheet: \", url);\n      document.body.appendChild(element);\n    }\n\n    for (let i = 0; i < js_urls.length; i++) {\n      const url = js_urls[i];\n      const element = document.createElement('script');\n      element.onload = on_load;\n      element.onerror = on_error.bind(null, url);\n      element.async = false;\n      element.src = url;\n      console.debug(\"Bokeh: injecting script tag for BokehJS library: \", url);\n      document.head.appendChild(element);\n    }\n  };\n\n  function inject_raw_css(css) {\n    const element = document.createElement(\"style\");\n    element.appendChild(document.createTextNode(css));\n    document.body.appendChild(element);\n  }\n\n  const js_urls = [\"https://cdn.bokeh.org/bokeh/release/bokeh-3.2.1.min.js\", \"https://cdn.bokeh.org/bokeh/release/bokeh-gl-3.2.1.min.js\", \"https://cdn.bokeh.org/bokeh/release/bokeh-widgets-3.2.1.min.js\", \"https://cdn.bokeh.org/bokeh/release/bokeh-tables-3.2.1.min.js\", \"https://cdn.bokeh.org/bokeh/release/bokeh-mathjax-3.2.1.min.js\"];\n  const css_urls = [];\n\n  const inline_js = [    function(Bokeh) {\n      Bokeh.set_log_level(\"info\");\n    },\nfunction(Bokeh) {\n    }\n  ];\n\n  function run_inline_js() {\n    if (root.Bokeh !== undefined || force === true) {\n          for (let i = 0; i < inline_js.length; i++) {\n      inline_js[i].call(root, root.Bokeh);\n    }\nif (force === true) {\n        display_loaded();\n      }} else if (Date.now() < root._bokeh_timeout) {\n      setTimeout(run_inline_js, 100);\n    } else if (!root._bokeh_failed_load) {\n      console.log(\"Bokeh: BokehJS failed to load within specified timeout.\");\n      root._bokeh_failed_load = true;\n    } else if (force !== true) {\n      const cell = $(document.getElementById(\"beccceb5-dade-4be2-9065-f8e454e6fea9\")).parents('.cell').data().cell;\n      cell.output_area.append_execute_result(NB_LOAD_WARNING)\n    }\n  }\n\n  if (root._bokeh_is_loading === 0) {\n    console.debug(\"Bokeh: BokehJS loaded, going straight to plotting\");\n    run_inline_js();\n  } else {\n    load_libs(css_urls, js_urls, function() {\n      console.debug(\"Bokeh: BokehJS plotting callback run at\", now());\n      run_inline_js();\n    });\n  }\n}(window));"
     },
     "metadata": {},
     "output_type": "display_data"
    }
   ],
   "source": [
    "import numpy as np\n",
    "import pandas as pd\n",
    "\n",
    "import iqplot\n",
    "\n",
    "import bokeh.io\n",
    "bokeh.io.output_notebook()"
   ]
  },
  {
   "cell_type": "markdown",
   "metadata": {},
   "source": [
    "<hr />\n",
    "\n",
    "You can think of an experiment as **sampling** out of a probability distribution. To make this more concrete, imagine measuring the lengths of eggs laid by a given hen. Each egg will by of a different length than others, but all of the eggs will be about six centimeters long. The probability of getting an egg more than eight centimeters long is very small, whereas the probability of getting an egg between 5.5 and 6.5 centimeters is high. The **generative probability distribution**, the distribution from which experimental data are sampled, then, has high probability mass around six centimeters and low probability mass away from that. We cannot know the generative distribution. We can approximate it with generative models (which we will do in the latter part of the course).\n",
    "\n",
    "Here, we will investigate how to make plots to investigate properies about the (unknown) generative distribution of a set of repeated measurements. We will use the [iqplot](https://iqplot.github.io/) to make the plots, but will withhold dwelling on its syntax until the next notebook of this lesson. Instead, we will make a given plot and then discuss how it helps us visualize the underlying generative probability distribution of a data set.\n",
    "\n",
    "We will continue using the facial recognition data set. We will make the usual adjustments by adding an `'insomnia'` column and also a `'sleeper'` column that more meaningfully indicates where the subject is an insomniac or a normal sleeper (with the words \"normal\" or \"insomniac\" instead of `True` and `False`)."
   ]
  },
  {
   "cell_type": "code",
   "execution_count": 3,
   "metadata": {},
   "outputs": [
    {
     "data": {
      "text/html": [
       "<div>\n",
       "<style scoped>\n",
       "    .dataframe tbody tr th:only-of-type {\n",
       "        vertical-align: middle;\n",
       "    }\n",
       "\n",
       "    .dataframe tbody tr th {\n",
       "        vertical-align: top;\n",
       "    }\n",
       "\n",
       "    .dataframe thead th {\n",
       "        text-align: right;\n",
       "    }\n",
       "</style>\n",
       "<table border=\"1\" class=\"dataframe\">\n",
       "  <thead>\n",
       "    <tr style=\"text-align: right;\">\n",
       "      <th></th>\n",
       "      <th>participant number</th>\n",
       "      <th>gender</th>\n",
       "      <th>age</th>\n",
       "      <th>correct hit percentage</th>\n",
       "      <th>correct reject percentage</th>\n",
       "      <th>percent correct</th>\n",
       "      <th>confidence when correct hit</th>\n",
       "      <th>confidence incorrect hit</th>\n",
       "      <th>confidence correct reject</th>\n",
       "      <th>confidence incorrect reject</th>\n",
       "      <th>confidence when correct</th>\n",
       "      <th>confidence when incorrect</th>\n",
       "      <th>sci</th>\n",
       "      <th>psqi</th>\n",
       "      <th>ess</th>\n",
       "      <th>insomnia</th>\n",
       "      <th>sleeper</th>\n",
       "    </tr>\n",
       "  </thead>\n",
       "  <tbody>\n",
       "    <tr>\n",
       "      <th>0</th>\n",
       "      <td>8</td>\n",
       "      <td>female</td>\n",
       "      <td>39</td>\n",
       "      <td>65</td>\n",
       "      <td>80</td>\n",
       "      <td>72.5</td>\n",
       "      <td>91.0</td>\n",
       "      <td>90.0</td>\n",
       "      <td>93.0</td>\n",
       "      <td>83.5</td>\n",
       "      <td>93.0</td>\n",
       "      <td>90.0</td>\n",
       "      <td>9</td>\n",
       "      <td>13</td>\n",
       "      <td>2</td>\n",
       "      <td>True</td>\n",
       "      <td>insomniac</td>\n",
       "    </tr>\n",
       "    <tr>\n",
       "      <th>1</th>\n",
       "      <td>16</td>\n",
       "      <td>male</td>\n",
       "      <td>42</td>\n",
       "      <td>90</td>\n",
       "      <td>90</td>\n",
       "      <td>90.0</td>\n",
       "      <td>75.5</td>\n",
       "      <td>55.5</td>\n",
       "      <td>70.5</td>\n",
       "      <td>50.0</td>\n",
       "      <td>75.0</td>\n",
       "      <td>50.0</td>\n",
       "      <td>4</td>\n",
       "      <td>11</td>\n",
       "      <td>7</td>\n",
       "      <td>True</td>\n",
       "      <td>insomniac</td>\n",
       "    </tr>\n",
       "    <tr>\n",
       "      <th>2</th>\n",
       "      <td>18</td>\n",
       "      <td>female</td>\n",
       "      <td>31</td>\n",
       "      <td>90</td>\n",
       "      <td>95</td>\n",
       "      <td>92.5</td>\n",
       "      <td>89.5</td>\n",
       "      <td>90.0</td>\n",
       "      <td>86.0</td>\n",
       "      <td>81.0</td>\n",
       "      <td>89.0</td>\n",
       "      <td>88.0</td>\n",
       "      <td>10</td>\n",
       "      <td>9</td>\n",
       "      <td>3</td>\n",
       "      <td>True</td>\n",
       "      <td>insomniac</td>\n",
       "    </tr>\n",
       "    <tr>\n",
       "      <th>3</th>\n",
       "      <td>22</td>\n",
       "      <td>female</td>\n",
       "      <td>35</td>\n",
       "      <td>100</td>\n",
       "      <td>75</td>\n",
       "      <td>87.5</td>\n",
       "      <td>89.5</td>\n",
       "      <td>NaN</td>\n",
       "      <td>71.0</td>\n",
       "      <td>80.0</td>\n",
       "      <td>88.0</td>\n",
       "      <td>80.0</td>\n",
       "      <td>13</td>\n",
       "      <td>8</td>\n",
       "      <td>20</td>\n",
       "      <td>True</td>\n",
       "      <td>insomniac</td>\n",
       "    </tr>\n",
       "    <tr>\n",
       "      <th>4</th>\n",
       "      <td>27</td>\n",
       "      <td>female</td>\n",
       "      <td>74</td>\n",
       "      <td>60</td>\n",
       "      <td>65</td>\n",
       "      <td>62.5</td>\n",
       "      <td>68.5</td>\n",
       "      <td>49.0</td>\n",
       "      <td>61.0</td>\n",
       "      <td>49.0</td>\n",
       "      <td>65.0</td>\n",
       "      <td>49.0</td>\n",
       "      <td>13</td>\n",
       "      <td>9</td>\n",
       "      <td>12</td>\n",
       "      <td>True</td>\n",
       "      <td>insomniac</td>\n",
       "    </tr>\n",
       "  </tbody>\n",
       "</table>\n",
       "</div>"
      ],
      "text/plain": [
       "   participant number  gender  age  correct hit percentage  \\\n",
       "0                   8  female   39                      65   \n",
       "1                  16    male   42                      90   \n",
       "2                  18  female   31                      90   \n",
       "3                  22  female   35                     100   \n",
       "4                  27  female   74                      60   \n",
       "\n",
       "   correct reject percentage  percent correct  confidence when correct hit  \\\n",
       "0                         80             72.5                         91.0   \n",
       "1                         90             90.0                         75.5   \n",
       "2                         95             92.5                         89.5   \n",
       "3                         75             87.5                         89.5   \n",
       "4                         65             62.5                         68.5   \n",
       "\n",
       "   confidence incorrect hit  confidence correct reject  \\\n",
       "0                      90.0                       93.0   \n",
       "1                      55.5                       70.5   \n",
       "2                      90.0                       86.0   \n",
       "3                       NaN                       71.0   \n",
       "4                      49.0                       61.0   \n",
       "\n",
       "   confidence incorrect reject  confidence when correct  \\\n",
       "0                         83.5                     93.0   \n",
       "1                         50.0                     75.0   \n",
       "2                         81.0                     89.0   \n",
       "3                         80.0                     88.0   \n",
       "4                         49.0                     65.0   \n",
       "\n",
       "   confidence when incorrect  sci  psqi  ess  insomnia    sleeper  \n",
       "0                       90.0    9    13    2      True  insomniac  \n",
       "1                       50.0    4    11    7      True  insomniac  \n",
       "2                       88.0   10     9    3      True  insomniac  \n",
       "3                       80.0   13     8   20      True  insomniac  \n",
       "4                       49.0   13     9   12      True  insomniac  "
      ]
     },
     "execution_count": 3,
     "metadata": {},
     "output_type": "execute_result"
    }
   ],
   "source": [
    "fname = os.path.join(data_path, \"gfmt_sleep.csv\")\n",
    "df = pd.read_csv(fname, na_values=\"*\")\n",
    "df[\"insomnia\"] = df[\"sci\"] <= 16\n",
    "df[\"sleeper\"] = df[\"insomnia\"].apply(lambda x: \"insomniac\" if x else \"normal\")\n",
    "df[\"gender\"] = df[\"gender\"].apply(lambda x: \"female\" if x == \"f\" else \"male\")\n",
    "\n",
    "# Take a look as a reminder\n",
    "df.head()"
   ]
  },
  {
   "cell_type": "markdown",
   "metadata": {},
   "source": [
    "## Box plots\n",
    "\n",
    "We saw in the previous part of the lesson that bar graphs throw out most of the information present in a data set. They only give an approximation of the mean of the generative distribution and nothing else. We can instead report more information.\n",
    "\n",
    "A box-and-whisker plot, also just called a box plot is a better option than a bar graph. Indeed, it was invented by John Tukey himself. Instead of condensing your measurements into one value (or two, if you include an error bar) like in a bar graph, you condense them into at least five. It is easier to describe a box plot if you have one to look at."
   ]
  },
  {
   "cell_type": "code",
   "execution_count": 4,
   "metadata": {},
   "outputs": [
    {
     "data": {
      "text/html": [
       "\n",
       "  <div id=\"f850021a-bb53-43a9-9f4f-5ff458c0edcc\" data-root-id=\"p1002\" style=\"display: contents;\"></div>\n"
      ]
     },
     "metadata": {},
     "output_type": "display_data"
    },
    {
     "data": {
      "application/javascript": [
       "(function(root) {\n",
       "  function embed_document(root) {\n",
       "  const docs_json = {\"cfcd1db0-3d38-40ef-8ead-d39cbc6bb708\":{\"version\":\"3.2.1\",\"title\":\"Bokeh Application\",\"roots\":[{\"type\":\"object\",\"name\":\"Figure\",\"id\":\"p1002\",\"attributes\":{\"x_range\":{\"type\":\"object\",\"name\":\"DataRange1d\",\"id\":\"p1004\"},\"y_range\":{\"type\":\"object\",\"name\":\"FactorRange\",\"id\":\"p1001\",\"attributes\":{\"factors\":[[\"male\",\"normal\"],[\"male\",\"insomniac\"],[\"female\",\"normal\"],[\"female\",\"insomniac\"]]}},\"x_scale\":{\"type\":\"object\",\"name\":\"LinearScale\",\"id\":\"p1011\"},\"y_scale\":{\"type\":\"object\",\"name\":\"CategoricalScale\",\"id\":\"p1012\"},\"title\":{\"type\":\"object\",\"name\":\"Title\",\"id\":\"p1009\"},\"renderers\":[{\"type\":\"object\",\"name\":\"GlyphRenderer\",\"id\":\"p1042\",\"attributes\":{\"data_source\":{\"type\":\"object\",\"name\":\"ColumnDataSource\",\"id\":\"p1030\",\"attributes\":{\"selected\":{\"type\":\"object\",\"name\":\"Selection\",\"id\":\"p1031\",\"attributes\":{\"indices\":[],\"line_indices\":[]}},\"selection_policy\":{\"type\":\"object\",\"name\":\"UnionRenderers\",\"id\":\"p1032\"},\"data\":{\"type\":\"map\",\"entries\":[[\"middle\",[72.5,85.0,83.75,82.5]],[\"bottom\",[67.5,75.0,76.875,77.5]],[\"top\",[83.75,88.75,88.75,89.375]],[\"top_whisker\",[95.0,100.0,97.5,95.0]],[\"bottom_whisker\",[45.0,55.0,67.5,67.5]],[\"cat\",[[\"female\",\"insomniac\"],[\"female\",\"normal\"],[\"male\",\"insomniac\"],[\"male\",\"normal\"]]],[\"__label\",[\"female, insomniac\",\"female, normal\",\"male, insomniac\",\"male, normal\"]]]}}},\"view\":{\"type\":\"object\",\"name\":\"CDSView\",\"id\":\"p1043\",\"attributes\":{\"filter\":{\"type\":\"object\",\"name\":\"AllIndices\",\"id\":\"p1044\"}}},\"glyph\":{\"type\":\"object\",\"name\":\"Segment\",\"id\":\"p1039\",\"attributes\":{\"x0\":{\"type\":\"field\",\"field\":\"top\"},\"y0\":{\"type\":\"field\",\"field\":\"cat\"},\"x1\":{\"type\":\"field\",\"field\":\"top_whisker\"},\"y1\":{\"type\":\"field\",\"field\":\"cat\"}}},\"nonselection_glyph\":{\"type\":\"object\",\"name\":\"Segment\",\"id\":\"p1040\",\"attributes\":{\"x0\":{\"type\":\"field\",\"field\":\"top\"},\"y0\":{\"type\":\"field\",\"field\":\"cat\"},\"x1\":{\"type\":\"field\",\"field\":\"top_whisker\"},\"y1\":{\"type\":\"field\",\"field\":\"cat\"},\"line_alpha\":{\"type\":\"value\",\"value\":0.1}}},\"muted_glyph\":{\"type\":\"object\",\"name\":\"Segment\",\"id\":\"p1041\",\"attributes\":{\"x0\":{\"type\":\"field\",\"field\":\"top\"},\"y0\":{\"type\":\"field\",\"field\":\"cat\"},\"x1\":{\"type\":\"field\",\"field\":\"top_whisker\"},\"y1\":{\"type\":\"field\",\"field\":\"cat\"},\"line_alpha\":{\"type\":\"value\",\"value\":0.2}}}}},{\"type\":\"object\",\"name\":\"GlyphRenderer\",\"id\":\"p1051\",\"attributes\":{\"data_source\":{\"id\":\"p1030\"},\"view\":{\"type\":\"object\",\"name\":\"CDSView\",\"id\":\"p1052\",\"attributes\":{\"filter\":{\"type\":\"object\",\"name\":\"AllIndices\",\"id\":\"p1053\"}}},\"glyph\":{\"type\":\"object\",\"name\":\"Segment\",\"id\":\"p1048\",\"attributes\":{\"x0\":{\"type\":\"field\",\"field\":\"bottom\"},\"y0\":{\"type\":\"field\",\"field\":\"cat\"},\"x1\":{\"type\":\"field\",\"field\":\"bottom_whisker\"},\"y1\":{\"type\":\"field\",\"field\":\"cat\"}}},\"nonselection_glyph\":{\"type\":\"object\",\"name\":\"Segment\",\"id\":\"p1049\",\"attributes\":{\"x0\":{\"type\":\"field\",\"field\":\"bottom\"},\"y0\":{\"type\":\"field\",\"field\":\"cat\"},\"x1\":{\"type\":\"field\",\"field\":\"bottom_whisker\"},\"y1\":{\"type\":\"field\",\"field\":\"cat\"},\"line_alpha\":{\"type\":\"value\",\"value\":0.1}}},\"muted_glyph\":{\"type\":\"object\",\"name\":\"Segment\",\"id\":\"p1050\",\"attributes\":{\"x0\":{\"type\":\"field\",\"field\":\"bottom\"},\"y0\":{\"type\":\"field\",\"field\":\"cat\"},\"x1\":{\"type\":\"field\",\"field\":\"bottom_whisker\"},\"y1\":{\"type\":\"field\",\"field\":\"cat\"},\"line_alpha\":{\"type\":\"value\",\"value\":0.2}}}}},{\"type\":\"object\",\"name\":\"GlyphRenderer\",\"id\":\"p1060\",\"attributes\":{\"data_source\":{\"id\":\"p1030\"},\"view\":{\"type\":\"object\",\"name\":\"CDSView\",\"id\":\"p1061\",\"attributes\":{\"filter\":{\"type\":\"object\",\"name\":\"AllIndices\",\"id\":\"p1062\"}}},\"glyph\":{\"type\":\"object\",\"name\":\"HBar\",\"id\":\"p1057\",\"attributes\":{\"y\":{\"type\":\"field\",\"field\":\"cat\"},\"height\":{\"type\":\"value\",\"value\":0.4},\"left\":{\"type\":\"field\",\"field\":\"bottom\"},\"right\":{\"type\":\"field\",\"field\":\"top\"},\"line_color\":{\"type\":\"value\",\"value\":null},\"fill_color\":{\"type\":\"value\",\"value\":\"#1f77b4\"}}},\"nonselection_glyph\":{\"type\":\"object\",\"name\":\"HBar\",\"id\":\"p1058\",\"attributes\":{\"y\":{\"type\":\"field\",\"field\":\"cat\"},\"height\":{\"type\":\"value\",\"value\":0.4},\"left\":{\"type\":\"field\",\"field\":\"bottom\"},\"right\":{\"type\":\"field\",\"field\":\"top\"},\"line_color\":{\"type\":\"value\",\"value\":null},\"line_alpha\":{\"type\":\"value\",\"value\":0.1},\"fill_color\":{\"type\":\"value\",\"value\":\"#1f77b4\"},\"fill_alpha\":{\"type\":\"value\",\"value\":0.1},\"hatch_alpha\":{\"type\":\"value\",\"value\":0.1}}},\"muted_glyph\":{\"type\":\"object\",\"name\":\"HBar\",\"id\":\"p1059\",\"attributes\":{\"y\":{\"type\":\"field\",\"field\":\"cat\"},\"height\":{\"type\":\"value\",\"value\":0.4},\"left\":{\"type\":\"field\",\"field\":\"bottom\"},\"right\":{\"type\":\"field\",\"field\":\"top\"},\"line_color\":{\"type\":\"value\",\"value\":null},\"line_alpha\":{\"type\":\"value\",\"value\":0.2},\"fill_color\":{\"type\":\"value\",\"value\":\"#1f77b4\"},\"fill_alpha\":{\"type\":\"value\",\"value\":0.2},\"hatch_alpha\":{\"type\":\"value\",\"value\":0.2}}}}},{\"type\":\"object\",\"name\":\"GlyphRenderer\",\"id\":\"p1069\",\"attributes\":{\"data_source\":{\"id\":\"p1030\"},\"view\":{\"type\":\"object\",\"name\":\"CDSView\",\"id\":\"p1070\",\"attributes\":{\"filter\":{\"type\":\"object\",\"name\":\"AllIndices\",\"id\":\"p1071\"}}},\"glyph\":{\"type\":\"object\",\"name\":\"HBar\",\"id\":\"p1066\",\"attributes\":{\"y\":{\"type\":\"field\",\"field\":\"cat\"},\"height\":{\"type\":\"value\",\"value\":0.4},\"left\":{\"type\":\"field\",\"field\":\"middle\"},\"right\":{\"type\":\"field\",\"field\":\"middle\"},\"line_color\":{\"type\":\"value\",\"value\":\"white\"},\"fill_color\":{\"type\":\"value\",\"value\":\"#1f77b4\"}}},\"nonselection_glyph\":{\"type\":\"object\",\"name\":\"HBar\",\"id\":\"p1067\",\"attributes\":{\"y\":{\"type\":\"field\",\"field\":\"cat\"},\"height\":{\"type\":\"value\",\"value\":0.4},\"left\":{\"type\":\"field\",\"field\":\"middle\"},\"right\":{\"type\":\"field\",\"field\":\"middle\"},\"line_color\":{\"type\":\"value\",\"value\":\"white\"},\"line_alpha\":{\"type\":\"value\",\"value\":0.1},\"fill_color\":{\"type\":\"value\",\"value\":\"#1f77b4\"},\"fill_alpha\":{\"type\":\"value\",\"value\":0.1},\"hatch_alpha\":{\"type\":\"value\",\"value\":0.1}}},\"muted_glyph\":{\"type\":\"object\",\"name\":\"HBar\",\"id\":\"p1068\",\"attributes\":{\"y\":{\"type\":\"field\",\"field\":\"cat\"},\"height\":{\"type\":\"value\",\"value\":0.4},\"left\":{\"type\":\"field\",\"field\":\"middle\"},\"right\":{\"type\":\"field\",\"field\":\"middle\"},\"line_color\":{\"type\":\"value\",\"value\":\"white\"},\"line_alpha\":{\"type\":\"value\",\"value\":0.2},\"fill_color\":{\"type\":\"value\",\"value\":\"#1f77b4\"},\"fill_alpha\":{\"type\":\"value\",\"value\":0.2},\"hatch_alpha\":{\"type\":\"value\",\"value\":0.2}}}}},{\"type\":\"object\",\"name\":\"GlyphRenderer\",\"id\":\"p1078\",\"attributes\":{\"data_source\":{\"type\":\"object\",\"name\":\"ColumnDataSource\",\"id\":\"p1033\",\"attributes\":{\"selected\":{\"type\":\"object\",\"name\":\"Selection\",\"id\":\"p1034\",\"attributes\":{\"indices\":[],\"line_indices\":[]}},\"selection_policy\":{\"type\":\"object\",\"name\":\"UnionRenderers\",\"id\":\"p1035\"},\"data\":{\"type\":\"map\",\"entries\":[[\"sleeper\",[\"normal\",\"normal\"]],[\"gender\",[\"male\",\"male\"]],[\"percent correct\",[57.5,40.0]],[\"cat\",[[\"male\",\"normal\"],[\"male\",\"normal\"]]],[\"__label\",[\"male, normal\",\"male, normal\"]]]}}},\"view\":{\"type\":\"object\",\"name\":\"CDSView\",\"id\":\"p1079\",\"attributes\":{\"filter\":{\"type\":\"object\",\"name\":\"AllIndices\",\"id\":\"p1080\"}}},\"glyph\":{\"type\":\"object\",\"name\":\"Circle\",\"id\":\"p1075\",\"attributes\":{\"x\":{\"type\":\"field\",\"field\":\"percent correct\"},\"y\":{\"type\":\"field\",\"field\":\"cat\"},\"line_color\":{\"type\":\"value\",\"value\":\"#1f77b4\"},\"fill_color\":{\"type\":\"value\",\"value\":\"#1f77b4\"}}},\"nonselection_glyph\":{\"type\":\"object\",\"name\":\"Circle\",\"id\":\"p1076\",\"attributes\":{\"x\":{\"type\":\"field\",\"field\":\"percent correct\"},\"y\":{\"type\":\"field\",\"field\":\"cat\"},\"line_color\":{\"type\":\"value\",\"value\":\"#1f77b4\"},\"line_alpha\":{\"type\":\"value\",\"value\":0.1},\"fill_color\":{\"type\":\"value\",\"value\":\"#1f77b4\"},\"fill_alpha\":{\"type\":\"value\",\"value\":0.1},\"hatch_alpha\":{\"type\":\"value\",\"value\":0.1}}},\"muted_glyph\":{\"type\":\"object\",\"name\":\"Circle\",\"id\":\"p1077\",\"attributes\":{\"x\":{\"type\":\"field\",\"field\":\"percent correct\"},\"y\":{\"type\":\"field\",\"field\":\"cat\"},\"line_color\":{\"type\":\"value\",\"value\":\"#1f77b4\"},\"line_alpha\":{\"type\":\"value\",\"value\":0.2},\"fill_color\":{\"type\":\"value\",\"value\":\"#1f77b4\"},\"fill_alpha\":{\"type\":\"value\",\"value\":0.2},\"hatch_alpha\":{\"type\":\"value\",\"value\":0.2}}}}}],\"toolbar\":{\"type\":\"object\",\"name\":\"Toolbar\",\"id\":\"p1010\",\"attributes\":{\"tools\":[{\"type\":\"object\",\"name\":\"PanTool\",\"id\":\"p1023\"},{\"type\":\"object\",\"name\":\"WheelZoomTool\",\"id\":\"p1024\"},{\"type\":\"object\",\"name\":\"BoxZoomTool\",\"id\":\"p1025\",\"attributes\":{\"overlay\":{\"type\":\"object\",\"name\":\"BoxAnnotation\",\"id\":\"p1026\",\"attributes\":{\"syncable\":false,\"level\":\"overlay\",\"visible\":false,\"left_units\":\"canvas\",\"right_units\":\"canvas\",\"bottom_units\":\"canvas\",\"top_units\":\"canvas\",\"line_color\":\"black\",\"line_alpha\":1.0,\"line_width\":2,\"line_dash\":[4,4],\"fill_color\":\"lightgrey\",\"fill_alpha\":0.5}}}},{\"type\":\"object\",\"name\":\"SaveTool\",\"id\":\"p1027\"},{\"type\":\"object\",\"name\":\"ResetTool\",\"id\":\"p1028\"},{\"type\":\"object\",\"name\":\"HelpTool\",\"id\":\"p1029\"}]}},\"toolbar_location\":\"above\",\"left\":[{\"type\":\"object\",\"name\":\"CategoricalAxis\",\"id\":\"p1018\",\"attributes\":{\"ticker\":{\"type\":\"object\",\"name\":\"CategoricalTicker\",\"id\":\"p1019\"},\"formatter\":{\"type\":\"object\",\"name\":\"CategoricalTickFormatter\",\"id\":\"p1020\"},\"major_label_policy\":{\"type\":\"object\",\"name\":\"AllLabels\",\"id\":\"p1021\"}}}],\"below\":[{\"type\":\"object\",\"name\":\"LinearAxis\",\"id\":\"p1013\",\"attributes\":{\"ticker\":{\"type\":\"object\",\"name\":\"BasicTicker\",\"id\":\"p1014\",\"attributes\":{\"mantissas\":[1,2,5]}},\"formatter\":{\"type\":\"object\",\"name\":\"BasicTickFormatter\",\"id\":\"p1015\"},\"axis_label\":\"percent correct\",\"major_label_policy\":{\"type\":\"object\",\"name\":\"AllLabels\",\"id\":\"p1016\"}}}],\"center\":[{\"type\":\"object\",\"name\":\"Grid\",\"id\":\"p1017\",\"attributes\":{\"axis\":{\"id\":\"p1013\"}}},{\"type\":\"object\",\"name\":\"Grid\",\"id\":\"p1022\",\"attributes\":{\"dimension\":1,\"axis\":{\"id\":\"p1018\"},\"grid_line_color\":null}}],\"frame_width\":375,\"frame_height\":275}}]}};\n",
       "  const render_items = [{\"docid\":\"cfcd1db0-3d38-40ef-8ead-d39cbc6bb708\",\"roots\":{\"p1002\":\"f850021a-bb53-43a9-9f4f-5ff458c0edcc\"},\"root_ids\":[\"p1002\"]}];\n",
       "  root.Bokeh.embed.embed_items_notebook(docs_json, render_items);\n",
       "  }\n",
       "  if (root.Bokeh !== undefined) {\n",
       "    embed_document(root);\n",
       "  } else {\n",
       "    let attempts = 0;\n",
       "    const timer = setInterval(function(root) {\n",
       "      if (root.Bokeh !== undefined) {\n",
       "        clearInterval(timer);\n",
       "        embed_document(root);\n",
       "      } else {\n",
       "        attempts++;\n",
       "        if (attempts > 100) {\n",
       "          clearInterval(timer);\n",
       "          console.log(\"Bokeh: ERROR: Unable to run BokehJS code because BokehJS library is missing\");\n",
       "        }\n",
       "      }\n",
       "    }, 10, root)\n",
       "  }\n",
       "})(window);"
      ],
      "application/vnd.bokehjs_exec.v0+json": ""
     },
     "metadata": {
      "application/vnd.bokehjs_exec.v0+json": {
       "id": "p1002"
      }
     },
     "output_type": "display_data"
    }
   ],
   "source": [
    "p = iqplot.box(\n",
    "    df,\n",
    "    \"percent correct\",\n",
    "    cats=[\"gender\", \"sleeper\"],\n",
    "    box_kwargs=dict(fill_color=\"#1f77b4\"),\n",
    ")\n",
    "\n",
    "bokeh.io.show(p)"
   ]
  },
  {
   "cell_type": "markdown",
   "metadata": {},
   "source": [
    "The top of a box is the 75th **percentile** of the measured data. That means that 75 percent of the measurements were less than the top of the box. The bottom of the box is the 25th percentile. The line in the middle of the box is the 50th percentile, also called the **median**. Half of the measured quantities were less than the median, and half were above. The total height of the box encompasses the measurements between the 25th and 75th percentile, and is called the **interquartile region**, or **IQR**. The top whisker extends to the minimum of these two quantities: the largest measured data point and the 75th percentile plus 1.5 times the IQR. Similarly, the bottom whisker extends to the maximum of the smallest measured data point and the 25th percentile minus 1.5 times the IQR. Any data points not falling between the whiskers are then plotting individually, and are typically termed **outliers**. Note that \"outlier\" is just a name; it does not imply anything special we should consider in those data points.\n",
    "\n",
    "So, box-and-whisker plots give much more information than a bar plot. They give a reasonable summary of how data are distributed by providing quantiles.\n",
    "\n",
    "Not to draw our focus away from visualizing how a data set is distributed, going forward in this notebook, we will not split the data set by gender and sleep preference, but will instead look at the entire data set. Here is a box plot for that."
   ]
  },
  {
   "cell_type": "code",
   "execution_count": 5,
   "metadata": {},
   "outputs": [
    {
     "data": {
      "text/html": [
       "\n",
       "  <div id=\"b24e4556-dafd-4dda-8f3a-7a498db438f3\" data-root-id=\"p1082\" style=\"display: contents;\"></div>\n"
      ]
     },
     "metadata": {},
     "output_type": "display_data"
    },
    {
     "data": {
      "application/javascript": [
       "(function(root) {\n",
       "  function embed_document(root) {\n",
       "  const docs_json = {\"c31aee2a-6c71-4e85-a952-03add8ef9bcf\":{\"version\":\"3.2.1\",\"title\":\"Bokeh Application\",\"roots\":[{\"type\":\"object\",\"name\":\"Figure\",\"id\":\"p1082\",\"attributes\":{\"x_range\":{\"type\":\"object\",\"name\":\"DataRange1d\",\"id\":\"p1084\"},\"y_range\":{\"type\":\"object\",\"name\":\"FactorRange\",\"id\":\"p1081\",\"attributes\":{\"factors\":[\" \"]}},\"x_scale\":{\"type\":\"object\",\"name\":\"LinearScale\",\"id\":\"p1091\"},\"y_scale\":{\"type\":\"object\",\"name\":\"CategoricalScale\",\"id\":\"p1092\"},\"title\":{\"type\":\"object\",\"name\":\"Title\",\"id\":\"p1089\"},\"renderers\":[{\"type\":\"object\",\"name\":\"GlyphRenderer\",\"id\":\"p1125\",\"attributes\":{\"data_source\":{\"type\":\"object\",\"name\":\"ColumnDataSource\",\"id\":\"p1110\",\"attributes\":{\"selected\":{\"type\":\"object\",\"name\":\"Selection\",\"id\":\"p1111\",\"attributes\":{\"indices\":[],\"line_indices\":[]}},\"selection_policy\":{\"type\":\"object\",\"name\":\"UnionRenderers\",\"id\":\"p1112\"},\"data\":{\"type\":\"map\",\"entries\":[[\"middle\",[83.75]],[\"bottom\",[72.5]],[\"top\",[87.5]],[\"top_whisker\",[100.0]],[\"bottom_whisker\",[50.0]],[\"cat\",[\" \"]],[\"__label\",[\" \"]]]}}},\"view\":{\"type\":\"object\",\"name\":\"CDSView\",\"id\":\"p1126\",\"attributes\":{\"filter\":{\"type\":\"object\",\"name\":\"AllIndices\",\"id\":\"p1127\"}}},\"glyph\":{\"type\":\"object\",\"name\":\"Segment\",\"id\":\"p1122\",\"attributes\":{\"x0\":{\"type\":\"field\",\"field\":\"top\"},\"y0\":{\"type\":\"field\",\"field\":\"cat\"},\"x1\":{\"type\":\"field\",\"field\":\"top_whisker\"},\"y1\":{\"type\":\"field\",\"field\":\"cat\"}}},\"nonselection_glyph\":{\"type\":\"object\",\"name\":\"Segment\",\"id\":\"p1123\",\"attributes\":{\"x0\":{\"type\":\"field\",\"field\":\"top\"},\"y0\":{\"type\":\"field\",\"field\":\"cat\"},\"x1\":{\"type\":\"field\",\"field\":\"top_whisker\"},\"y1\":{\"type\":\"field\",\"field\":\"cat\"},\"line_alpha\":{\"type\":\"value\",\"value\":0.1}}},\"muted_glyph\":{\"type\":\"object\",\"name\":\"Segment\",\"id\":\"p1124\",\"attributes\":{\"x0\":{\"type\":\"field\",\"field\":\"top\"},\"y0\":{\"type\":\"field\",\"field\":\"cat\"},\"x1\":{\"type\":\"field\",\"field\":\"top_whisker\"},\"y1\":{\"type\":\"field\",\"field\":\"cat\"},\"line_alpha\":{\"type\":\"value\",\"value\":0.2}}}}},{\"type\":\"object\",\"name\":\"GlyphRenderer\",\"id\":\"p1134\",\"attributes\":{\"data_source\":{\"id\":\"p1110\"},\"view\":{\"type\":\"object\",\"name\":\"CDSView\",\"id\":\"p1135\",\"attributes\":{\"filter\":{\"type\":\"object\",\"name\":\"AllIndices\",\"id\":\"p1136\"}}},\"glyph\":{\"type\":\"object\",\"name\":\"Segment\",\"id\":\"p1131\",\"attributes\":{\"x0\":{\"type\":\"field\",\"field\":\"bottom\"},\"y0\":{\"type\":\"field\",\"field\":\"cat\"},\"x1\":{\"type\":\"field\",\"field\":\"bottom_whisker\"},\"y1\":{\"type\":\"field\",\"field\":\"cat\"}}},\"nonselection_glyph\":{\"type\":\"object\",\"name\":\"Segment\",\"id\":\"p1132\",\"attributes\":{\"x0\":{\"type\":\"field\",\"field\":\"bottom\"},\"y0\":{\"type\":\"field\",\"field\":\"cat\"},\"x1\":{\"type\":\"field\",\"field\":\"bottom_whisker\"},\"y1\":{\"type\":\"field\",\"field\":\"cat\"},\"line_alpha\":{\"type\":\"value\",\"value\":0.1}}},\"muted_glyph\":{\"type\":\"object\",\"name\":\"Segment\",\"id\":\"p1133\",\"attributes\":{\"x0\":{\"type\":\"field\",\"field\":\"bottom\"},\"y0\":{\"type\":\"field\",\"field\":\"cat\"},\"x1\":{\"type\":\"field\",\"field\":\"bottom_whisker\"},\"y1\":{\"type\":\"field\",\"field\":\"cat\"},\"line_alpha\":{\"type\":\"value\",\"value\":0.2}}}}},{\"type\":\"object\",\"name\":\"GlyphRenderer\",\"id\":\"p1143\",\"attributes\":{\"data_source\":{\"id\":\"p1110\"},\"view\":{\"type\":\"object\",\"name\":\"CDSView\",\"id\":\"p1144\",\"attributes\":{\"filter\":{\"type\":\"object\",\"name\":\"AllIndices\",\"id\":\"p1145\"}}},\"glyph\":{\"type\":\"object\",\"name\":\"HBar\",\"id\":\"p1140\",\"attributes\":{\"y\":{\"type\":\"field\",\"field\":\"cat\"},\"height\":{\"type\":\"value\",\"value\":0.4},\"left\":{\"type\":\"field\",\"field\":\"bottom\"},\"right\":{\"type\":\"field\",\"field\":\"top\"},\"line_color\":{\"type\":\"value\",\"value\":null},\"fill_color\":{\"type\":\"field\",\"field\":\"cat\",\"transform\":{\"type\":\"object\",\"name\":\"CategoricalColorMapper\",\"id\":\"p1118\",\"attributes\":{\"palette\":[\"#1f77b3\",\"#ff7e0e\",\"#2ba02b\",\"#d62628\",\"#9367bc\",\"#8c564b\",\"#e277c1\",\"#7e7e7e\",\"#bcbc21\",\"#16bdcf\",\"#3a0182\",\"#004201\",\"#0fffa8\",\"#5d003f\",\"#bcbcff\",\"#d8afa1\",\"#b80080\",\"#004d52\",\"#6b6400\",\"#7c0100\",\"#6026ff\",\"#ffff9a\",\"#564964\",\"#8cb893\",\"#93fbff\",\"#018267\",\"#90ff00\",\"#8200a0\",\"#ac8944\",\"#5b3400\",\"#ffbff2\",\"#ff6e75\",\"#798cff\",\"#dd00ff\",\"#505646\",\"#004489\",\"#ffbf60\",\"#ff018c\",\"#bdc8cf\",\"#af97b5\",\"#b65600\",\"#017000\",\"#cd87ff\",\"#1cd646\",\"#bfebc3\",\"#7997b5\",\"#a56089\",\"#6e8956\",\"#bc7c75\",\"#8a2844\",\"#00acff\",\"#8ed4ff\",\"#4b6d77\",\"#00d4b1\",\"#9300f2\",\"#8a9500\",\"#5d5b9e\",\"#fddfba\",\"#00939e\",\"#ffdb00\",\"#00aa79\",\"#520067\",\"#000091\",\"#0a5d3d\",\"#a5e275\",\"#623b41\",\"#c6c689\",\"#ff9eb5\",\"#cd4f6b\",\"#ff07d6\",\"#8a3a05\",\"#7e3d70\",\"#ff4901\",\"#602ba5\",\"#1c00ff\",\"#e6dfff\",\"#aa3baf\",\"#d89c00\",\"#a3a39e\",\"#3f69ff\",\"#46490c\",\"#7b6985\",\"#6b978c\",\"#ff9a75\",\"#835bff\",\"#7c6b46\",\"#80b654\",\"#bc0049\",\"#fd93ff\",\"#5d0018\",\"#89d1d1\",\"#9c8cd3\",\"#da6d42\",\"#8a5700\",\"#3b5069\",\"#4b6b3b\",\"#edcfd8\",\"#cfedff\",\"#aa1500\",\"#dfff4f\",\"#ff2a56\",\"#d1499e\",\"#707cb8\",\"#598000\",\"#00e4fd\",\"#774b95\",\"#67d48c\",\"#3d3a72\",\"#ac413f\",\"#d6a166\",\"#c169cd\",\"#69595d\",\"#87aced\",\"#a0a569\",\"#d1aae6\",\"#870062\",\"#00fddb\",\"#672818\",\"#b342ff\",\"#0e59c4\",\"#168742\",\"#90d300\",\"#cd7900\",\"#f959ff\",\"#5b7466\",\"#8eaeb3\",\"#9c7c8c\",\"#4600c6\",\"#6b4d2d\",\"#a56d46\",\"#9e8972\",\"#a8afca\",\"#cd8ca7\",\"#00fd64\",\"#917900\",\"#ff62a1\",\"#f4ffd8\",\"#018cf0\",\"#13aca0\",\"#5b2d59\",\"#89859e\",\"#cfccba\",\"#d4afc4\",\"#dbdd6d\",\"#cffff4\",\"#006485\",\"#006962\",\"#a84167\",\"#2d97c4\",\"#a874ff\",\"#26ba5d\",\"#57b600\",\"#caffa7\",\"#a379aa\",\"#ffbc93\",\"#89e2c1\",\"#0fc8ff\",\"#d400c4\",\"#626d89\",\"#69858e\",\"#4b4d52\",\"#aa6067\",\"#79b5d4\",\"#2b5916\",\"#9a0024\",\"#bdd1f2\",\"#896e67\",\"#69a56b\",\"#855467\",\"#aecdba\",\"#87997e\",\"#cadb00\",\"#9a0390\",\"#ebbc1a\",\"#eb9cd1\",\"#70006e\",\"#b1a131\",\"#ca6b93\",\"#4146a3\",\"#e48c89\",\"#d44400\",\"#c68aca\",\"#b69597\",\"#d41f75\",\"#724bcc\",\"#674d00\",\"#672138\",\"#38564f\",\"#6ebaaa\",\"#853a31\",\"#a5d397\",\"#b8af8e\",\"#d8e4df\",\"#aa00df\",\"#cac1db\",\"#ffdf8c\",\"#e2524d\",\"#66696e\",\"#ff001c\",\"#522d72\",\"#4d906b\",\"#a86d11\",\"#ff9e26\",\"#5ea3af\",\"#c88556\",\"#915997\",\"#a3a1ff\",\"#fdbaba\",\"#242a87\",\"#dbe6a8\",\"#97f2a7\",\"#6793d6\",\"#ba5b3f\",\"#3a5d91\",\"#364f2f\",\"#267c95\",\"#89959a\",\"#cfb356\",\"#004664\",\"#5e5d2f\",\"#8e8e41\",\"#ac3f13\",\"#69953b\",\"#a13d85\",\"#bfb6ba\",\"#acc667\",\"#6469cf\",\"#91af00\",\"#2be2da\",\"#016e36\",\"#ff7952\",\"#42807e\",\"#4fe800\",\"#995428\",\"#5d0a00\",\"#a30057\",\"#0c8700\",\"#5982a7\",\"#ffebfb\",\"#4b6901\",\"#8775d4\",\"#e6c6ff\",\"#a5ffda\",\"#d86e77\",\"#df014b\",\"#69675b\",\"#776ba1\",\"#7e8067\",\"#594685\",\"#0000ca\",\"#7c002a\",\"#97ff72\",\"#b5e2e1\",\"#db52c8\",\"#777734\",\"#57bd8e\"],\"factors\":[\" \"]}}}}},\"nonselection_glyph\":{\"type\":\"object\",\"name\":\"HBar\",\"id\":\"p1141\",\"attributes\":{\"y\":{\"type\":\"field\",\"field\":\"cat\"},\"height\":{\"type\":\"value\",\"value\":0.4},\"left\":{\"type\":\"field\",\"field\":\"bottom\"},\"right\":{\"type\":\"field\",\"field\":\"top\"},\"line_color\":{\"type\":\"value\",\"value\":null},\"line_alpha\":{\"type\":\"value\",\"value\":0.1},\"fill_color\":{\"type\":\"field\",\"field\":\"cat\",\"transform\":{\"id\":\"p1118\"}},\"fill_alpha\":{\"type\":\"value\",\"value\":0.1},\"hatch_alpha\":{\"type\":\"value\",\"value\":0.1}}},\"muted_glyph\":{\"type\":\"object\",\"name\":\"HBar\",\"id\":\"p1142\",\"attributes\":{\"y\":{\"type\":\"field\",\"field\":\"cat\"},\"height\":{\"type\":\"value\",\"value\":0.4},\"left\":{\"type\":\"field\",\"field\":\"bottom\"},\"right\":{\"type\":\"field\",\"field\":\"top\"},\"line_color\":{\"type\":\"value\",\"value\":null},\"line_alpha\":{\"type\":\"value\",\"value\":0.2},\"fill_color\":{\"type\":\"field\",\"field\":\"cat\",\"transform\":{\"id\":\"p1118\"}},\"fill_alpha\":{\"type\":\"value\",\"value\":0.2},\"hatch_alpha\":{\"type\":\"value\",\"value\":0.2}}}}},{\"type\":\"object\",\"name\":\"GlyphRenderer\",\"id\":\"p1152\",\"attributes\":{\"data_source\":{\"id\":\"p1110\"},\"view\":{\"type\":\"object\",\"name\":\"CDSView\",\"id\":\"p1153\",\"attributes\":{\"filter\":{\"type\":\"object\",\"name\":\"AllIndices\",\"id\":\"p1154\"}}},\"glyph\":{\"type\":\"object\",\"name\":\"HBar\",\"id\":\"p1149\",\"attributes\":{\"y\":{\"type\":\"field\",\"field\":\"cat\"},\"height\":{\"type\":\"value\",\"value\":0.4},\"left\":{\"type\":\"field\",\"field\":\"middle\"},\"right\":{\"type\":\"field\",\"field\":\"middle\"},\"line_color\":{\"type\":\"value\",\"value\":\"white\"},\"fill_color\":{\"type\":\"value\",\"value\":\"#1f77b4\"}}},\"nonselection_glyph\":{\"type\":\"object\",\"name\":\"HBar\",\"id\":\"p1150\",\"attributes\":{\"y\":{\"type\":\"field\",\"field\":\"cat\"},\"height\":{\"type\":\"value\",\"value\":0.4},\"left\":{\"type\":\"field\",\"field\":\"middle\"},\"right\":{\"type\":\"field\",\"field\":\"middle\"},\"line_color\":{\"type\":\"value\",\"value\":\"white\"},\"line_alpha\":{\"type\":\"value\",\"value\":0.1},\"fill_color\":{\"type\":\"value\",\"value\":\"#1f77b4\"},\"fill_alpha\":{\"type\":\"value\",\"value\":0.1},\"hatch_alpha\":{\"type\":\"value\",\"value\":0.1}}},\"muted_glyph\":{\"type\":\"object\",\"name\":\"HBar\",\"id\":\"p1151\",\"attributes\":{\"y\":{\"type\":\"field\",\"field\":\"cat\"},\"height\":{\"type\":\"value\",\"value\":0.4},\"left\":{\"type\":\"field\",\"field\":\"middle\"},\"right\":{\"type\":\"field\",\"field\":\"middle\"},\"line_color\":{\"type\":\"value\",\"value\":\"white\"},\"line_alpha\":{\"type\":\"value\",\"value\":0.2},\"fill_color\":{\"type\":\"value\",\"value\":\"#1f77b4\"},\"fill_alpha\":{\"type\":\"value\",\"value\":0.2},\"hatch_alpha\":{\"type\":\"value\",\"value\":0.2}}}}},{\"type\":\"object\",\"name\":\"GlyphRenderer\",\"id\":\"p1161\",\"attributes\":{\"data_source\":{\"type\":\"object\",\"name\":\"ColumnDataSource\",\"id\":\"p1113\",\"attributes\":{\"selected\":{\"type\":\"object\",\"name\":\"Selection\",\"id\":\"p1114\",\"attributes\":{\"indices\":[],\"line_indices\":[]}},\"selection_policy\":{\"type\":\"object\",\"name\":\"UnionRenderers\",\"id\":\"p1115\"},\"data\":{\"type\":\"map\",\"entries\":[[\"__dummy_cat\",[\" \",\" \"]],[\"percent correct\",[45.0,40.0]],[\"cat\",[\" \",\" \"]],[\"__label\",[\" \",\" \"]]]}}},\"view\":{\"type\":\"object\",\"name\":\"CDSView\",\"id\":\"p1162\",\"attributes\":{\"filter\":{\"type\":\"object\",\"name\":\"AllIndices\",\"id\":\"p1163\"}}},\"glyph\":{\"type\":\"object\",\"name\":\"Circle\",\"id\":\"p1158\",\"attributes\":{\"x\":{\"type\":\"field\",\"field\":\"percent correct\"},\"y\":{\"type\":\"field\",\"field\":\"cat\"},\"line_color\":{\"type\":\"field\",\"field\":\"cat\",\"transform\":{\"type\":\"object\",\"name\":\"CategoricalColorMapper\",\"id\":\"p1117\",\"attributes\":{\"palette\":[\"#1f77b3\",\"#ff7e0e\",\"#2ba02b\",\"#d62628\",\"#9367bc\",\"#8c564b\",\"#e277c1\",\"#7e7e7e\",\"#bcbc21\",\"#16bdcf\",\"#3a0182\",\"#004201\",\"#0fffa8\",\"#5d003f\",\"#bcbcff\",\"#d8afa1\",\"#b80080\",\"#004d52\",\"#6b6400\",\"#7c0100\",\"#6026ff\",\"#ffff9a\",\"#564964\",\"#8cb893\",\"#93fbff\",\"#018267\",\"#90ff00\",\"#8200a0\",\"#ac8944\",\"#5b3400\",\"#ffbff2\",\"#ff6e75\",\"#798cff\",\"#dd00ff\",\"#505646\",\"#004489\",\"#ffbf60\",\"#ff018c\",\"#bdc8cf\",\"#af97b5\",\"#b65600\",\"#017000\",\"#cd87ff\",\"#1cd646\",\"#bfebc3\",\"#7997b5\",\"#a56089\",\"#6e8956\",\"#bc7c75\",\"#8a2844\",\"#00acff\",\"#8ed4ff\",\"#4b6d77\",\"#00d4b1\",\"#9300f2\",\"#8a9500\",\"#5d5b9e\",\"#fddfba\",\"#00939e\",\"#ffdb00\",\"#00aa79\",\"#520067\",\"#000091\",\"#0a5d3d\",\"#a5e275\",\"#623b41\",\"#c6c689\",\"#ff9eb5\",\"#cd4f6b\",\"#ff07d6\",\"#8a3a05\",\"#7e3d70\",\"#ff4901\",\"#602ba5\",\"#1c00ff\",\"#e6dfff\",\"#aa3baf\",\"#d89c00\",\"#a3a39e\",\"#3f69ff\",\"#46490c\",\"#7b6985\",\"#6b978c\",\"#ff9a75\",\"#835bff\",\"#7c6b46\",\"#80b654\",\"#bc0049\",\"#fd93ff\",\"#5d0018\",\"#89d1d1\",\"#9c8cd3\",\"#da6d42\",\"#8a5700\",\"#3b5069\",\"#4b6b3b\",\"#edcfd8\",\"#cfedff\",\"#aa1500\",\"#dfff4f\",\"#ff2a56\",\"#d1499e\",\"#707cb8\",\"#598000\",\"#00e4fd\",\"#774b95\",\"#67d48c\",\"#3d3a72\",\"#ac413f\",\"#d6a166\",\"#c169cd\",\"#69595d\",\"#87aced\",\"#a0a569\",\"#d1aae6\",\"#870062\",\"#00fddb\",\"#672818\",\"#b342ff\",\"#0e59c4\",\"#168742\",\"#90d300\",\"#cd7900\",\"#f959ff\",\"#5b7466\",\"#8eaeb3\",\"#9c7c8c\",\"#4600c6\",\"#6b4d2d\",\"#a56d46\",\"#9e8972\",\"#a8afca\",\"#cd8ca7\",\"#00fd64\",\"#917900\",\"#ff62a1\",\"#f4ffd8\",\"#018cf0\",\"#13aca0\",\"#5b2d59\",\"#89859e\",\"#cfccba\",\"#d4afc4\",\"#dbdd6d\",\"#cffff4\",\"#006485\",\"#006962\",\"#a84167\",\"#2d97c4\",\"#a874ff\",\"#26ba5d\",\"#57b600\",\"#caffa7\",\"#a379aa\",\"#ffbc93\",\"#89e2c1\",\"#0fc8ff\",\"#d400c4\",\"#626d89\",\"#69858e\",\"#4b4d52\",\"#aa6067\",\"#79b5d4\",\"#2b5916\",\"#9a0024\",\"#bdd1f2\",\"#896e67\",\"#69a56b\",\"#855467\",\"#aecdba\",\"#87997e\",\"#cadb00\",\"#9a0390\",\"#ebbc1a\",\"#eb9cd1\",\"#70006e\",\"#b1a131\",\"#ca6b93\",\"#4146a3\",\"#e48c89\",\"#d44400\",\"#c68aca\",\"#b69597\",\"#d41f75\",\"#724bcc\",\"#674d00\",\"#672138\",\"#38564f\",\"#6ebaaa\",\"#853a31\",\"#a5d397\",\"#b8af8e\",\"#d8e4df\",\"#aa00df\",\"#cac1db\",\"#ffdf8c\",\"#e2524d\",\"#66696e\",\"#ff001c\",\"#522d72\",\"#4d906b\",\"#a86d11\",\"#ff9e26\",\"#5ea3af\",\"#c88556\",\"#915997\",\"#a3a1ff\",\"#fdbaba\",\"#242a87\",\"#dbe6a8\",\"#97f2a7\",\"#6793d6\",\"#ba5b3f\",\"#3a5d91\",\"#364f2f\",\"#267c95\",\"#89959a\",\"#cfb356\",\"#004664\",\"#5e5d2f\",\"#8e8e41\",\"#ac3f13\",\"#69953b\",\"#a13d85\",\"#bfb6ba\",\"#acc667\",\"#6469cf\",\"#91af00\",\"#2be2da\",\"#016e36\",\"#ff7952\",\"#42807e\",\"#4fe800\",\"#995428\",\"#5d0a00\",\"#a30057\",\"#0c8700\",\"#5982a7\",\"#ffebfb\",\"#4b6901\",\"#8775d4\",\"#e6c6ff\",\"#a5ffda\",\"#d86e77\",\"#df014b\",\"#69675b\",\"#776ba1\",\"#7e8067\",\"#594685\",\"#0000ca\",\"#7c002a\",\"#97ff72\",\"#b5e2e1\",\"#db52c8\",\"#777734\",\"#57bd8e\"],\"factors\":[\" \"]}}},\"fill_color\":{\"type\":\"field\",\"field\":\"cat\",\"transform\":{\"type\":\"object\",\"name\":\"CategoricalColorMapper\",\"id\":\"p1116\",\"attributes\":{\"palette\":[\"#1f77b3\",\"#ff7e0e\",\"#2ba02b\",\"#d62628\",\"#9367bc\",\"#8c564b\",\"#e277c1\",\"#7e7e7e\",\"#bcbc21\",\"#16bdcf\",\"#3a0182\",\"#004201\",\"#0fffa8\",\"#5d003f\",\"#bcbcff\",\"#d8afa1\",\"#b80080\",\"#004d52\",\"#6b6400\",\"#7c0100\",\"#6026ff\",\"#ffff9a\",\"#564964\",\"#8cb893\",\"#93fbff\",\"#018267\",\"#90ff00\",\"#8200a0\",\"#ac8944\",\"#5b3400\",\"#ffbff2\",\"#ff6e75\",\"#798cff\",\"#dd00ff\",\"#505646\",\"#004489\",\"#ffbf60\",\"#ff018c\",\"#bdc8cf\",\"#af97b5\",\"#b65600\",\"#017000\",\"#cd87ff\",\"#1cd646\",\"#bfebc3\",\"#7997b5\",\"#a56089\",\"#6e8956\",\"#bc7c75\",\"#8a2844\",\"#00acff\",\"#8ed4ff\",\"#4b6d77\",\"#00d4b1\",\"#9300f2\",\"#8a9500\",\"#5d5b9e\",\"#fddfba\",\"#00939e\",\"#ffdb00\",\"#00aa79\",\"#520067\",\"#000091\",\"#0a5d3d\",\"#a5e275\",\"#623b41\",\"#c6c689\",\"#ff9eb5\",\"#cd4f6b\",\"#ff07d6\",\"#8a3a05\",\"#7e3d70\",\"#ff4901\",\"#602ba5\",\"#1c00ff\",\"#e6dfff\",\"#aa3baf\",\"#d89c00\",\"#a3a39e\",\"#3f69ff\",\"#46490c\",\"#7b6985\",\"#6b978c\",\"#ff9a75\",\"#835bff\",\"#7c6b46\",\"#80b654\",\"#bc0049\",\"#fd93ff\",\"#5d0018\",\"#89d1d1\",\"#9c8cd3\",\"#da6d42\",\"#8a5700\",\"#3b5069\",\"#4b6b3b\",\"#edcfd8\",\"#cfedff\",\"#aa1500\",\"#dfff4f\",\"#ff2a56\",\"#d1499e\",\"#707cb8\",\"#598000\",\"#00e4fd\",\"#774b95\",\"#67d48c\",\"#3d3a72\",\"#ac413f\",\"#d6a166\",\"#c169cd\",\"#69595d\",\"#87aced\",\"#a0a569\",\"#d1aae6\",\"#870062\",\"#00fddb\",\"#672818\",\"#b342ff\",\"#0e59c4\",\"#168742\",\"#90d300\",\"#cd7900\",\"#f959ff\",\"#5b7466\",\"#8eaeb3\",\"#9c7c8c\",\"#4600c6\",\"#6b4d2d\",\"#a56d46\",\"#9e8972\",\"#a8afca\",\"#cd8ca7\",\"#00fd64\",\"#917900\",\"#ff62a1\",\"#f4ffd8\",\"#018cf0\",\"#13aca0\",\"#5b2d59\",\"#89859e\",\"#cfccba\",\"#d4afc4\",\"#dbdd6d\",\"#cffff4\",\"#006485\",\"#006962\",\"#a84167\",\"#2d97c4\",\"#a874ff\",\"#26ba5d\",\"#57b600\",\"#caffa7\",\"#a379aa\",\"#ffbc93\",\"#89e2c1\",\"#0fc8ff\",\"#d400c4\",\"#626d89\",\"#69858e\",\"#4b4d52\",\"#aa6067\",\"#79b5d4\",\"#2b5916\",\"#9a0024\",\"#bdd1f2\",\"#896e67\",\"#69a56b\",\"#855467\",\"#aecdba\",\"#87997e\",\"#cadb00\",\"#9a0390\",\"#ebbc1a\",\"#eb9cd1\",\"#70006e\",\"#b1a131\",\"#ca6b93\",\"#4146a3\",\"#e48c89\",\"#d44400\",\"#c68aca\",\"#b69597\",\"#d41f75\",\"#724bcc\",\"#674d00\",\"#672138\",\"#38564f\",\"#6ebaaa\",\"#853a31\",\"#a5d397\",\"#b8af8e\",\"#d8e4df\",\"#aa00df\",\"#cac1db\",\"#ffdf8c\",\"#e2524d\",\"#66696e\",\"#ff001c\",\"#522d72\",\"#4d906b\",\"#a86d11\",\"#ff9e26\",\"#5ea3af\",\"#c88556\",\"#915997\",\"#a3a1ff\",\"#fdbaba\",\"#242a87\",\"#dbe6a8\",\"#97f2a7\",\"#6793d6\",\"#ba5b3f\",\"#3a5d91\",\"#364f2f\",\"#267c95\",\"#89959a\",\"#cfb356\",\"#004664\",\"#5e5d2f\",\"#8e8e41\",\"#ac3f13\",\"#69953b\",\"#a13d85\",\"#bfb6ba\",\"#acc667\",\"#6469cf\",\"#91af00\",\"#2be2da\",\"#016e36\",\"#ff7952\",\"#42807e\",\"#4fe800\",\"#995428\",\"#5d0a00\",\"#a30057\",\"#0c8700\",\"#5982a7\",\"#ffebfb\",\"#4b6901\",\"#8775d4\",\"#e6c6ff\",\"#a5ffda\",\"#d86e77\",\"#df014b\",\"#69675b\",\"#776ba1\",\"#7e8067\",\"#594685\",\"#0000ca\",\"#7c002a\",\"#97ff72\",\"#b5e2e1\",\"#db52c8\",\"#777734\",\"#57bd8e\"],\"factors\":[\" \"]}}}}},\"nonselection_glyph\":{\"type\":\"object\",\"name\":\"Circle\",\"id\":\"p1159\",\"attributes\":{\"x\":{\"type\":\"field\",\"field\":\"percent correct\"},\"y\":{\"type\":\"field\",\"field\":\"cat\"},\"line_color\":{\"type\":\"field\",\"field\":\"cat\",\"transform\":{\"id\":\"p1117\"}},\"line_alpha\":{\"type\":\"value\",\"value\":0.1},\"fill_color\":{\"type\":\"field\",\"field\":\"cat\",\"transform\":{\"id\":\"p1116\"}},\"fill_alpha\":{\"type\":\"value\",\"value\":0.1},\"hatch_alpha\":{\"type\":\"value\",\"value\":0.1}}},\"muted_glyph\":{\"type\":\"object\",\"name\":\"Circle\",\"id\":\"p1160\",\"attributes\":{\"x\":{\"type\":\"field\",\"field\":\"percent correct\"},\"y\":{\"type\":\"field\",\"field\":\"cat\"},\"line_color\":{\"type\":\"field\",\"field\":\"cat\",\"transform\":{\"id\":\"p1117\"}},\"line_alpha\":{\"type\":\"value\",\"value\":0.2},\"fill_color\":{\"type\":\"field\",\"field\":\"cat\",\"transform\":{\"id\":\"p1116\"}},\"fill_alpha\":{\"type\":\"value\",\"value\":0.2},\"hatch_alpha\":{\"type\":\"value\",\"value\":0.2}}}}}],\"toolbar\":{\"type\":\"object\",\"name\":\"Toolbar\",\"id\":\"p1090\",\"attributes\":{\"tools\":[{\"type\":\"object\",\"name\":\"PanTool\",\"id\":\"p1103\"},{\"type\":\"object\",\"name\":\"WheelZoomTool\",\"id\":\"p1104\"},{\"type\":\"object\",\"name\":\"BoxZoomTool\",\"id\":\"p1105\",\"attributes\":{\"overlay\":{\"type\":\"object\",\"name\":\"BoxAnnotation\",\"id\":\"p1106\",\"attributes\":{\"syncable\":false,\"level\":\"overlay\",\"visible\":false,\"left_units\":\"canvas\",\"right_units\":\"canvas\",\"bottom_units\":\"canvas\",\"top_units\":\"canvas\",\"line_color\":\"black\",\"line_alpha\":1.0,\"line_width\":2,\"line_dash\":[4,4],\"fill_color\":\"lightgrey\",\"fill_alpha\":0.5}}}},{\"type\":\"object\",\"name\":\"SaveTool\",\"id\":\"p1107\"},{\"type\":\"object\",\"name\":\"ResetTool\",\"id\":\"p1108\"},{\"type\":\"object\",\"name\":\"HelpTool\",\"id\":\"p1109\"}]}},\"toolbar_location\":\"above\",\"left\":[{\"type\":\"object\",\"name\":\"CategoricalAxis\",\"id\":\"p1098\",\"attributes\":{\"visible\":false,\"ticker\":{\"type\":\"object\",\"name\":\"CategoricalTicker\",\"id\":\"p1099\"},\"formatter\":{\"type\":\"object\",\"name\":\"CategoricalTickFormatter\",\"id\":\"p1100\"},\"major_label_policy\":{\"type\":\"object\",\"name\":\"AllLabels\",\"id\":\"p1101\"}}}],\"below\":[{\"type\":\"object\",\"name\":\"LinearAxis\",\"id\":\"p1093\",\"attributes\":{\"ticker\":{\"type\":\"object\",\"name\":\"BasicTicker\",\"id\":\"p1094\",\"attributes\":{\"mantissas\":[1,2,5]}},\"formatter\":{\"type\":\"object\",\"name\":\"BasicTickFormatter\",\"id\":\"p1095\"},\"axis_label\":\"percent correct\",\"major_label_policy\":{\"type\":\"object\",\"name\":\"AllLabels\",\"id\":\"p1096\"}}}],\"center\":[{\"type\":\"object\",\"name\":\"Grid\",\"id\":\"p1097\",\"attributes\":{\"axis\":{\"id\":\"p1093\"}}},{\"type\":\"object\",\"name\":\"Grid\",\"id\":\"p1102\",\"attributes\":{\"dimension\":1,\"axis\":{\"id\":\"p1098\"},\"grid_line_color\":null}}],\"frame_width\":375,\"frame_height\":100}}]}};\n",
       "  const render_items = [{\"docid\":\"c31aee2a-6c71-4e85-a952-03add8ef9bcf\",\"roots\":{\"p1082\":\"b24e4556-dafd-4dda-8f3a-7a498db438f3\"},\"root_ids\":[\"p1082\"]}];\n",
       "  root.Bokeh.embed.embed_items_notebook(docs_json, render_items);\n",
       "  }\n",
       "  if (root.Bokeh !== undefined) {\n",
       "    embed_document(root);\n",
       "  } else {\n",
       "    let attempts = 0;\n",
       "    const timer = setInterval(function(root) {\n",
       "      if (root.Bokeh !== undefined) {\n",
       "        clearInterval(timer);\n",
       "        embed_document(root);\n",
       "      } else {\n",
       "        attempts++;\n",
       "        if (attempts > 100) {\n",
       "          clearInterval(timer);\n",
       "          console.log(\"Bokeh: ERROR: Unable to run BokehJS code because BokehJS library is missing\");\n",
       "        }\n",
       "      }\n",
       "    }, 10, root)\n",
       "  }\n",
       "})(window);"
      ],
      "application/vnd.bokehjs_exec.v0+json": ""
     },
     "metadata": {
      "application/vnd.bokehjs_exec.v0+json": {
       "id": "p1082"
      }
     },
     "output_type": "display_data"
    }
   ],
   "source": [
    "p = iqplot.box(df, \"percent correct\", frame_height=100)\n",
    "p.yaxis.visible = False\n",
    "\n",
    "bokeh.io.show(p)"
   ]
  },
  {
   "cell_type": "markdown",
   "metadata": {},
   "source": [
    "## Plot all your data\n",
    "\n",
    "While the box plot is better than a bar graph because it shows quantiles and not just a mean, it is still hiding much of the structure of the data set. Conversely, when plotting x-y data in a scatter plot, you plot all of your data points. Shouldn't the same be true for plots with categorical variables? You went through all the work to get the data; you should show them all!"
   ]
  },
  {
   "cell_type": "markdown",
   "metadata": {},
   "source": [
    "## Strip plots\n",
    "\n",
    "One convenient way to plot all of your data is a **strip plot**. In a strip plot, every point is plotted."
   ]
  },
  {
   "cell_type": "code",
   "execution_count": 6,
   "metadata": {},
   "outputs": [
    {
     "data": {
      "text/html": [
       "\n",
       "  <div id=\"e1b9e385-73f9-4893-98c4-737ef6a941a0\" data-root-id=\"p1165\" style=\"display: contents;\"></div>\n"
      ]
     },
     "metadata": {},
     "output_type": "display_data"
    },
    {
     "data": {
      "application/javascript": [
       "(function(root) {\n",
       "  function embed_document(root) {\n",
       "  const docs_json = {\"ae725761-8335-4911-a82f-a5b93776cf59\":{\"version\":\"3.2.1\",\"title\":\"Bokeh Application\",\"roots\":[{\"type\":\"object\",\"name\":\"Figure\",\"id\":\"p1165\",\"attributes\":{\"x_range\":{\"type\":\"object\",\"name\":\"DataRange1d\",\"id\":\"p1167\"},\"y_range\":{\"type\":\"object\",\"name\":\"FactorRange\",\"id\":\"p1164\",\"attributes\":{\"factors\":[\" \"]}},\"x_scale\":{\"type\":\"object\",\"name\":\"LinearScale\",\"id\":\"p1174\"},\"y_scale\":{\"type\":\"object\",\"name\":\"CategoricalScale\",\"id\":\"p1175\"},\"title\":{\"type\":\"object\",\"name\":\"Title\",\"id\":\"p1172\"},\"renderers\":[{\"type\":\"object\",\"name\":\"GlyphRenderer\",\"id\":\"p1204\",\"attributes\":{\"name\":\"hover_glyphs\",\"data_source\":{\"type\":\"object\",\"name\":\"ColumnDataSource\",\"id\":\"p1195\",\"attributes\":{\"selected\":{\"type\":\"object\",\"name\":\"Selection\",\"id\":\"p1196\",\"attributes\":{\"indices\":[],\"line_indices\":[]}},\"selection_policy\":{\"type\":\"object\",\"name\":\"UnionRenderers\",\"id\":\"p1197\"},\"data\":{\"type\":\"map\",\"entries\":[[\"__dummy_cat\",[\" \",\" \",\" \",\" \",\" \",\" \",\" \",\" \",\" \",\" \",\" \",\" \",\" \",\" \",\" \",\" \",\" \",\" \",\" \",\" \",\" \",\" \",\" \",\" \",\" \",\" \",\" \",\" \",\" \",\" \",\" \",\" \",\" \",\" \",\" \",\" \",\" \",\" \",\" \",\" \",\" \",\" \",\" \",\" \",\" \",\" \",\" \",\" \",\" \",\" \",\" \",\" \",\" \",\" \",\" \",\" \",\" \",\" \",\" \",\" \",\" \",\" \",\" \",\" \",\" \",\" \",\" \",\" \",\" \",\" \",\" \",\" \",\" \",\" \",\" \",\" \",\" \",\" \",\" \",\" \",\" \",\" \",\" \",\" \",\" \",\" \",\" \",\" \",\" \",\" \",\" \",\" \",\" \",\" \",\" \",\" \",\" \",\" \",\" \",\" \",\" \",\" \"]],[\"percent correct\",[72.5,90.0,92.5,87.5,62.5,50.0,82.5,67.5,90.0,75.0,62.5,95.0,80.0,80.0,65.0,70.0,70.0,80.0,85.0,75.0,70.0,97.5,87.5,45.0,70.0,72.5,85.0,75.0,67.5,95.0,87.5,92.5,90.0,100.0,70.0,85.0,77.5,92.5,85.0,57.5,92.5,65.0,95.0,77.5,80.0,90.0,80.0,87.5,92.5,75.0,67.5,77.5,72.5,72.5,85.0,87.5,87.5,90.0,87.5,80.0,90.0,80.0,85.0,85.0,77.5,85.0,85.0,85.0,77.5,90.0,100.0,85.0,87.5,97.5,92.5,100.0,60.0,95.0,77.5,77.5,82.5,40.0,87.5,85.0,87.5,77.5,62.5,72.5,85.0,92.5,85.0,72.5,90.0,90.0,55.0,87.5,60.0,77.5,87.5,75.0,70.0,62.5]],[\"cat\",[\" \",\" \",\" \",\" \",\" \",\" \",\" \",\" \",\" \",\" \",\" \",\" \",\" \",\" \",\" \",\" \",\" \",\" \",\" \",\" \",\" \",\" \",\" \",\" \",\" \",\" \",\" \",\" \",\" \",\" \",\" \",\" \",\" \",\" \",\" \",\" \",\" \",\" \",\" \",\" \",\" \",\" \",\" \",\" \",\" \",\" \",\" \",\" \",\" \",\" \",\" \",\" \",\" \",\" \",\" \",\" \",\" \",\" \",\" \",\" \",\" \",\" \",\" \",\" \",\" \",\" \",\" \",\" \",\" \",\" \",\" \",\" \",\" \",\" \",\" \",\" \",\" \",\" \",\" \",\" \",\" \",\" \",\" \",\" \",\" \",\" \",\" \",\" \",\" \",\" \",\" \",\" \",\" \",\" \",\" \",\" \",\" \",\" \",\" \",\" \",\" \",\" \"]],[\"__label\",[\" \",\" \",\" \",\" \",\" \",\" \",\" \",\" \",\" \",\" \",\" \",\" \",\" \",\" \",\" \",\" \",\" \",\" \",\" \",\" \",\" \",\" \",\" \",\" \",\" \",\" \",\" \",\" \",\" \",\" \",\" \",\" \",\" \",\" \",\" \",\" \",\" \",\" \",\" \",\" \",\" \",\" \",\" \",\" \",\" \",\" \",\" \",\" \",\" \",\" \",\" \",\" \",\" \",\" \",\" \",\" \",\" \",\" \",\" \",\" \",\" \",\" \",\" \",\" \",\" \",\" \",\" \",\" \",\" \",\" \",\" \",\" \",\" \",\" \",\" \",\" \",\" \",\" \",\" \",\" \",\" \",\" \",\" \",\" \",\" \",\" \",\" \",\" \",\" \",\" \",\" \",\" \",\" \",\" \",\" \",\" \",\" \",\" \",\" \",\" \",\" \",\" \"]]]}}},\"view\":{\"type\":\"object\",\"name\":\"CDSView\",\"id\":\"p1205\",\"attributes\":{\"filter\":{\"type\":\"object\",\"name\":\"AllIndices\",\"id\":\"p1206\"}}},\"glyph\":{\"type\":\"object\",\"name\":\"Circle\",\"id\":\"p1201\",\"attributes\":{\"x\":{\"type\":\"field\",\"field\":\"percent correct\"},\"y\":{\"type\":\"field\",\"field\":\"cat\"},\"line_color\":{\"type\":\"field\",\"field\":\"cat\",\"transform\":{\"type\":\"object\",\"name\":\"CategoricalColorMapper\",\"id\":\"p1194\",\"attributes\":{\"palette\":[\"#1f77b3\",\"#ff7e0e\",\"#2ba02b\",\"#d62628\",\"#9367bc\",\"#8c564b\",\"#e277c1\",\"#7e7e7e\",\"#bcbc21\",\"#16bdcf\",\"#3a0182\",\"#004201\",\"#0fffa8\",\"#5d003f\",\"#bcbcff\",\"#d8afa1\",\"#b80080\",\"#004d52\",\"#6b6400\",\"#7c0100\",\"#6026ff\",\"#ffff9a\",\"#564964\",\"#8cb893\",\"#93fbff\",\"#018267\",\"#90ff00\",\"#8200a0\",\"#ac8944\",\"#5b3400\",\"#ffbff2\",\"#ff6e75\",\"#798cff\",\"#dd00ff\",\"#505646\",\"#004489\",\"#ffbf60\",\"#ff018c\",\"#bdc8cf\",\"#af97b5\",\"#b65600\",\"#017000\",\"#cd87ff\",\"#1cd646\",\"#bfebc3\",\"#7997b5\",\"#a56089\",\"#6e8956\",\"#bc7c75\",\"#8a2844\",\"#00acff\",\"#8ed4ff\",\"#4b6d77\",\"#00d4b1\",\"#9300f2\",\"#8a9500\",\"#5d5b9e\",\"#fddfba\",\"#00939e\",\"#ffdb00\",\"#00aa79\",\"#520067\",\"#000091\",\"#0a5d3d\",\"#a5e275\",\"#623b41\",\"#c6c689\",\"#ff9eb5\",\"#cd4f6b\",\"#ff07d6\",\"#8a3a05\",\"#7e3d70\",\"#ff4901\",\"#602ba5\",\"#1c00ff\",\"#e6dfff\",\"#aa3baf\",\"#d89c00\",\"#a3a39e\",\"#3f69ff\",\"#46490c\",\"#7b6985\",\"#6b978c\",\"#ff9a75\",\"#835bff\",\"#7c6b46\",\"#80b654\",\"#bc0049\",\"#fd93ff\",\"#5d0018\",\"#89d1d1\",\"#9c8cd3\",\"#da6d42\",\"#8a5700\",\"#3b5069\",\"#4b6b3b\",\"#edcfd8\",\"#cfedff\",\"#aa1500\",\"#dfff4f\",\"#ff2a56\",\"#d1499e\",\"#707cb8\",\"#598000\",\"#00e4fd\",\"#774b95\",\"#67d48c\",\"#3d3a72\",\"#ac413f\",\"#d6a166\",\"#c169cd\",\"#69595d\",\"#87aced\",\"#a0a569\",\"#d1aae6\",\"#870062\",\"#00fddb\",\"#672818\",\"#b342ff\",\"#0e59c4\",\"#168742\",\"#90d300\",\"#cd7900\",\"#f959ff\",\"#5b7466\",\"#8eaeb3\",\"#9c7c8c\",\"#4600c6\",\"#6b4d2d\",\"#a56d46\",\"#9e8972\",\"#a8afca\",\"#cd8ca7\",\"#00fd64\",\"#917900\",\"#ff62a1\",\"#f4ffd8\",\"#018cf0\",\"#13aca0\",\"#5b2d59\",\"#89859e\",\"#cfccba\",\"#d4afc4\",\"#dbdd6d\",\"#cffff4\",\"#006485\",\"#006962\",\"#a84167\",\"#2d97c4\",\"#a874ff\",\"#26ba5d\",\"#57b600\",\"#caffa7\",\"#a379aa\",\"#ffbc93\",\"#89e2c1\",\"#0fc8ff\",\"#d400c4\",\"#626d89\",\"#69858e\",\"#4b4d52\",\"#aa6067\",\"#79b5d4\",\"#2b5916\",\"#9a0024\",\"#bdd1f2\",\"#896e67\",\"#69a56b\",\"#855467\",\"#aecdba\",\"#87997e\",\"#cadb00\",\"#9a0390\",\"#ebbc1a\",\"#eb9cd1\",\"#70006e\",\"#b1a131\",\"#ca6b93\",\"#4146a3\",\"#e48c89\",\"#d44400\",\"#c68aca\",\"#b69597\",\"#d41f75\",\"#724bcc\",\"#674d00\",\"#672138\",\"#38564f\",\"#6ebaaa\",\"#853a31\",\"#a5d397\",\"#b8af8e\",\"#d8e4df\",\"#aa00df\",\"#cac1db\",\"#ffdf8c\",\"#e2524d\",\"#66696e\",\"#ff001c\",\"#522d72\",\"#4d906b\",\"#a86d11\",\"#ff9e26\",\"#5ea3af\",\"#c88556\",\"#915997\",\"#a3a1ff\",\"#fdbaba\",\"#242a87\",\"#dbe6a8\",\"#97f2a7\",\"#6793d6\",\"#ba5b3f\",\"#3a5d91\",\"#364f2f\",\"#267c95\",\"#89959a\",\"#cfb356\",\"#004664\",\"#5e5d2f\",\"#8e8e41\",\"#ac3f13\",\"#69953b\",\"#a13d85\",\"#bfb6ba\",\"#acc667\",\"#6469cf\",\"#91af00\",\"#2be2da\",\"#016e36\",\"#ff7952\",\"#42807e\",\"#4fe800\",\"#995428\",\"#5d0a00\",\"#a30057\",\"#0c8700\",\"#5982a7\",\"#ffebfb\",\"#4b6901\",\"#8775d4\",\"#e6c6ff\",\"#a5ffda\",\"#d86e77\",\"#df014b\",\"#69675b\",\"#776ba1\",\"#7e8067\",\"#594685\",\"#0000ca\",\"#7c002a\",\"#97ff72\",\"#b5e2e1\",\"#db52c8\",\"#777734\",\"#57bd8e\"],\"factors\":[\" \"]}}},\"fill_color\":{\"type\":\"field\",\"field\":\"cat\",\"transform\":{\"type\":\"object\",\"name\":\"CategoricalColorMapper\",\"id\":\"p1193\",\"attributes\":{\"palette\":[\"#1f77b3\",\"#ff7e0e\",\"#2ba02b\",\"#d62628\",\"#9367bc\",\"#8c564b\",\"#e277c1\",\"#7e7e7e\",\"#bcbc21\",\"#16bdcf\",\"#3a0182\",\"#004201\",\"#0fffa8\",\"#5d003f\",\"#bcbcff\",\"#d8afa1\",\"#b80080\",\"#004d52\",\"#6b6400\",\"#7c0100\",\"#6026ff\",\"#ffff9a\",\"#564964\",\"#8cb893\",\"#93fbff\",\"#018267\",\"#90ff00\",\"#8200a0\",\"#ac8944\",\"#5b3400\",\"#ffbff2\",\"#ff6e75\",\"#798cff\",\"#dd00ff\",\"#505646\",\"#004489\",\"#ffbf60\",\"#ff018c\",\"#bdc8cf\",\"#af97b5\",\"#b65600\",\"#017000\",\"#cd87ff\",\"#1cd646\",\"#bfebc3\",\"#7997b5\",\"#a56089\",\"#6e8956\",\"#bc7c75\",\"#8a2844\",\"#00acff\",\"#8ed4ff\",\"#4b6d77\",\"#00d4b1\",\"#9300f2\",\"#8a9500\",\"#5d5b9e\",\"#fddfba\",\"#00939e\",\"#ffdb00\",\"#00aa79\",\"#520067\",\"#000091\",\"#0a5d3d\",\"#a5e275\",\"#623b41\",\"#c6c689\",\"#ff9eb5\",\"#cd4f6b\",\"#ff07d6\",\"#8a3a05\",\"#7e3d70\",\"#ff4901\",\"#602ba5\",\"#1c00ff\",\"#e6dfff\",\"#aa3baf\",\"#d89c00\",\"#a3a39e\",\"#3f69ff\",\"#46490c\",\"#7b6985\",\"#6b978c\",\"#ff9a75\",\"#835bff\",\"#7c6b46\",\"#80b654\",\"#bc0049\",\"#fd93ff\",\"#5d0018\",\"#89d1d1\",\"#9c8cd3\",\"#da6d42\",\"#8a5700\",\"#3b5069\",\"#4b6b3b\",\"#edcfd8\",\"#cfedff\",\"#aa1500\",\"#dfff4f\",\"#ff2a56\",\"#d1499e\",\"#707cb8\",\"#598000\",\"#00e4fd\",\"#774b95\",\"#67d48c\",\"#3d3a72\",\"#ac413f\",\"#d6a166\",\"#c169cd\",\"#69595d\",\"#87aced\",\"#a0a569\",\"#d1aae6\",\"#870062\",\"#00fddb\",\"#672818\",\"#b342ff\",\"#0e59c4\",\"#168742\",\"#90d300\",\"#cd7900\",\"#f959ff\",\"#5b7466\",\"#8eaeb3\",\"#9c7c8c\",\"#4600c6\",\"#6b4d2d\",\"#a56d46\",\"#9e8972\",\"#a8afca\",\"#cd8ca7\",\"#00fd64\",\"#917900\",\"#ff62a1\",\"#f4ffd8\",\"#018cf0\",\"#13aca0\",\"#5b2d59\",\"#89859e\",\"#cfccba\",\"#d4afc4\",\"#dbdd6d\",\"#cffff4\",\"#006485\",\"#006962\",\"#a84167\",\"#2d97c4\",\"#a874ff\",\"#26ba5d\",\"#57b600\",\"#caffa7\",\"#a379aa\",\"#ffbc93\",\"#89e2c1\",\"#0fc8ff\",\"#d400c4\",\"#626d89\",\"#69858e\",\"#4b4d52\",\"#aa6067\",\"#79b5d4\",\"#2b5916\",\"#9a0024\",\"#bdd1f2\",\"#896e67\",\"#69a56b\",\"#855467\",\"#aecdba\",\"#87997e\",\"#cadb00\",\"#9a0390\",\"#ebbc1a\",\"#eb9cd1\",\"#70006e\",\"#b1a131\",\"#ca6b93\",\"#4146a3\",\"#e48c89\",\"#d44400\",\"#c68aca\",\"#b69597\",\"#d41f75\",\"#724bcc\",\"#674d00\",\"#672138\",\"#38564f\",\"#6ebaaa\",\"#853a31\",\"#a5d397\",\"#b8af8e\",\"#d8e4df\",\"#aa00df\",\"#cac1db\",\"#ffdf8c\",\"#e2524d\",\"#66696e\",\"#ff001c\",\"#522d72\",\"#4d906b\",\"#a86d11\",\"#ff9e26\",\"#5ea3af\",\"#c88556\",\"#915997\",\"#a3a1ff\",\"#fdbaba\",\"#242a87\",\"#dbe6a8\",\"#97f2a7\",\"#6793d6\",\"#ba5b3f\",\"#3a5d91\",\"#364f2f\",\"#267c95\",\"#89959a\",\"#cfb356\",\"#004664\",\"#5e5d2f\",\"#8e8e41\",\"#ac3f13\",\"#69953b\",\"#a13d85\",\"#bfb6ba\",\"#acc667\",\"#6469cf\",\"#91af00\",\"#2be2da\",\"#016e36\",\"#ff7952\",\"#42807e\",\"#4fe800\",\"#995428\",\"#5d0a00\",\"#a30057\",\"#0c8700\",\"#5982a7\",\"#ffebfb\",\"#4b6901\",\"#8775d4\",\"#e6c6ff\",\"#a5ffda\",\"#d86e77\",\"#df014b\",\"#69675b\",\"#776ba1\",\"#7e8067\",\"#594685\",\"#0000ca\",\"#7c002a\",\"#97ff72\",\"#b5e2e1\",\"#db52c8\",\"#777734\",\"#57bd8e\"],\"factors\":[\" \"]}}}}},\"nonselection_glyph\":{\"type\":\"object\",\"name\":\"Circle\",\"id\":\"p1202\",\"attributes\":{\"x\":{\"type\":\"field\",\"field\":\"percent correct\"},\"y\":{\"type\":\"field\",\"field\":\"cat\"},\"line_color\":{\"type\":\"field\",\"field\":\"cat\",\"transform\":{\"id\":\"p1194\"}},\"line_alpha\":{\"type\":\"value\",\"value\":0.1},\"fill_color\":{\"type\":\"field\",\"field\":\"cat\",\"transform\":{\"id\":\"p1193\"}},\"fill_alpha\":{\"type\":\"value\",\"value\":0.1},\"hatch_alpha\":{\"type\":\"value\",\"value\":0.1}}},\"muted_glyph\":{\"type\":\"object\",\"name\":\"Circle\",\"id\":\"p1203\",\"attributes\":{\"x\":{\"type\":\"field\",\"field\":\"percent correct\"},\"y\":{\"type\":\"field\",\"field\":\"cat\"},\"line_color\":{\"type\":\"field\",\"field\":\"cat\",\"transform\":{\"id\":\"p1194\"}},\"line_alpha\":{\"type\":\"value\",\"value\":0.2},\"fill_color\":{\"type\":\"field\",\"field\":\"cat\",\"transform\":{\"id\":\"p1193\"}},\"fill_alpha\":{\"type\":\"value\",\"value\":0.2},\"hatch_alpha\":{\"type\":\"value\",\"value\":0.2}}}}}],\"toolbar\":{\"type\":\"object\",\"name\":\"Toolbar\",\"id\":\"p1173\",\"attributes\":{\"tools\":[{\"type\":\"object\",\"name\":\"PanTool\",\"id\":\"p1186\"},{\"type\":\"object\",\"name\":\"WheelZoomTool\",\"id\":\"p1187\"},{\"type\":\"object\",\"name\":\"BoxZoomTool\",\"id\":\"p1188\",\"attributes\":{\"overlay\":{\"type\":\"object\",\"name\":\"BoxAnnotation\",\"id\":\"p1189\",\"attributes\":{\"syncable\":false,\"level\":\"overlay\",\"visible\":false,\"left_units\":\"canvas\",\"right_units\":\"canvas\",\"bottom_units\":\"canvas\",\"top_units\":\"canvas\",\"line_color\":\"black\",\"line_alpha\":1.0,\"line_width\":2,\"line_dash\":[4,4],\"fill_color\":\"lightgrey\",\"fill_alpha\":0.5}}}},{\"type\":\"object\",\"name\":\"SaveTool\",\"id\":\"p1190\"},{\"type\":\"object\",\"name\":\"ResetTool\",\"id\":\"p1191\"},{\"type\":\"object\",\"name\":\"HelpTool\",\"id\":\"p1192\"}]}},\"toolbar_location\":\"above\",\"left\":[{\"type\":\"object\",\"name\":\"CategoricalAxis\",\"id\":\"p1181\",\"attributes\":{\"visible\":false,\"ticker\":{\"type\":\"object\",\"name\":\"CategoricalTicker\",\"id\":\"p1182\"},\"formatter\":{\"type\":\"object\",\"name\":\"CategoricalTickFormatter\",\"id\":\"p1183\"},\"major_label_policy\":{\"type\":\"object\",\"name\":\"AllLabels\",\"id\":\"p1184\"}}}],\"below\":[{\"type\":\"object\",\"name\":\"LinearAxis\",\"id\":\"p1176\",\"attributes\":{\"ticker\":{\"type\":\"object\",\"name\":\"BasicTicker\",\"id\":\"p1177\",\"attributes\":{\"mantissas\":[1,2,5]}},\"formatter\":{\"type\":\"object\",\"name\":\"BasicTickFormatter\",\"id\":\"p1178\"},\"axis_label\":\"percent correct\",\"major_label_policy\":{\"type\":\"object\",\"name\":\"AllLabels\",\"id\":\"p1179\"}}}],\"center\":[{\"type\":\"object\",\"name\":\"Grid\",\"id\":\"p1180\",\"attributes\":{\"axis\":{\"id\":\"p1176\"}}},{\"type\":\"object\",\"name\":\"Grid\",\"id\":\"p1185\",\"attributes\":{\"dimension\":1,\"axis\":{\"id\":\"p1181\"},\"grid_line_color\":null}}],\"frame_width\":375,\"frame_height\":100}}]}};\n",
       "  const render_items = [{\"docid\":\"ae725761-8335-4911-a82f-a5b93776cf59\",\"roots\":{\"p1165\":\"e1b9e385-73f9-4893-98c4-737ef6a941a0\"},\"root_ids\":[\"p1165\"]}];\n",
       "  root.Bokeh.embed.embed_items_notebook(docs_json, render_items);\n",
       "  }\n",
       "  if (root.Bokeh !== undefined) {\n",
       "    embed_document(root);\n",
       "  } else {\n",
       "    let attempts = 0;\n",
       "    const timer = setInterval(function(root) {\n",
       "      if (root.Bokeh !== undefined) {\n",
       "        clearInterval(timer);\n",
       "        embed_document(root);\n",
       "      } else {\n",
       "        attempts++;\n",
       "        if (attempts > 100) {\n",
       "          clearInterval(timer);\n",
       "          console.log(\"Bokeh: ERROR: Unable to run BokehJS code because BokehJS library is missing\");\n",
       "        }\n",
       "      }\n",
       "    }, 10, root)\n",
       "  }\n",
       "})(window);"
      ],
      "application/vnd.bokehjs_exec.v0+json": ""
     },
     "metadata": {
      "application/vnd.bokehjs_exec.v0+json": {
       "id": "p1165"
      }
     },
     "output_type": "display_data"
    }
   ],
   "source": [
    "p = iqplot.strip(df, \"percent correct\", frame_height=100)\n",
    "p.yaxis.visible = False\n",
    "\n",
    "bokeh.io.show(p)"
   ]
  },
  {
   "cell_type": "markdown",
   "metadata": {},
   "source": [
    "An obvious problem with this plot is that the data points overlap. We can get around this issue by adding a jitter to the plot. Instead of lining all of the data points up exactly in line with the category, we randomly \"jitter\" the points about the centerline, of course maintaining their position along the quantitative axis. "
   ]
  },
  {
   "cell_type": "code",
   "execution_count": 7,
   "metadata": {},
   "outputs": [
    {
     "data": {
      "text/html": [
       "\n",
       "  <div id=\"ec289dbe-2ab3-4be9-ad33-ee6912d4c70e\" data-root-id=\"p1208\" style=\"display: contents;\"></div>\n"
      ]
     },
     "metadata": {},
     "output_type": "display_data"
    },
    {
     "data": {
      "application/javascript": [
       "(function(root) {\n",
       "  function embed_document(root) {\n",
       "  const docs_json = {\"b37af3ba-fd19-45d5-8c51-3748b6fc3ff2\":{\"version\":\"3.2.1\",\"title\":\"Bokeh Application\",\"roots\":[{\"type\":\"object\",\"name\":\"Figure\",\"id\":\"p1208\",\"attributes\":{\"x_range\":{\"type\":\"object\",\"name\":\"DataRange1d\",\"id\":\"p1210\"},\"y_range\":{\"type\":\"object\",\"name\":\"FactorRange\",\"id\":\"p1207\",\"attributes\":{\"factors\":[\" \"]}},\"x_scale\":{\"type\":\"object\",\"name\":\"LinearScale\",\"id\":\"p1217\"},\"y_scale\":{\"type\":\"object\",\"name\":\"CategoricalScale\",\"id\":\"p1218\"},\"title\":{\"type\":\"object\",\"name\":\"Title\",\"id\":\"p1215\"},\"renderers\":[{\"type\":\"object\",\"name\":\"GlyphRenderer\",\"id\":\"p1248\",\"attributes\":{\"name\":\"hover_glyphs\",\"data_source\":{\"type\":\"object\",\"name\":\"ColumnDataSource\",\"id\":\"p1239\",\"attributes\":{\"selected\":{\"type\":\"object\",\"name\":\"Selection\",\"id\":\"p1240\",\"attributes\":{\"indices\":[],\"line_indices\":[]}},\"selection_policy\":{\"type\":\"object\",\"name\":\"UnionRenderers\",\"id\":\"p1241\"},\"data\":{\"type\":\"map\",\"entries\":[[\"__dummy_cat\",[\" \",\" \",\" \",\" \",\" \",\" \",\" \",\" \",\" \",\" \",\" \",\" \",\" \",\" \",\" \",\" \",\" \",\" \",\" \",\" \",\" \",\" \",\" \",\" \",\" \",\" \",\" \",\" \",\" \",\" \",\" \",\" \",\" \",\" \",\" \",\" \",\" \",\" \",\" \",\" \",\" \",\" \",\" \",\" \",\" \",\" \",\" \",\" \",\" \",\" \",\" \",\" \",\" \",\" \",\" \",\" \",\" \",\" \",\" \",\" \",\" \",\" \",\" \",\" \",\" \",\" \",\" \",\" \",\" \",\" \",\" \",\" \",\" \",\" \",\" \",\" \",\" \",\" \",\" \",\" \",\" \",\" \",\" \",\" \",\" \",\" \",\" \",\" \",\" \",\" \",\" \",\" \",\" \",\" \",\" \",\" \",\" \",\" \",\" \",\" \",\" \",\" \"]],[\"percent correct\",[72.5,90.0,92.5,87.5,62.5,50.0,82.5,67.5,90.0,75.0,62.5,95.0,80.0,80.0,65.0,70.0,70.0,80.0,85.0,75.0,70.0,97.5,87.5,45.0,70.0,72.5,85.0,75.0,67.5,95.0,87.5,92.5,90.0,100.0,70.0,85.0,77.5,92.5,85.0,57.5,92.5,65.0,95.0,77.5,80.0,90.0,80.0,87.5,92.5,75.0,67.5,77.5,72.5,72.5,85.0,87.5,87.5,90.0,87.5,80.0,90.0,80.0,85.0,85.0,77.5,85.0,85.0,85.0,77.5,90.0,100.0,85.0,87.5,97.5,92.5,100.0,60.0,95.0,77.5,77.5,82.5,40.0,87.5,85.0,87.5,77.5,62.5,72.5,85.0,92.5,85.0,72.5,90.0,90.0,55.0,87.5,60.0,77.5,87.5,75.0,70.0,62.5]],[\"cat\",[\" \",\" \",\" \",\" \",\" \",\" \",\" \",\" \",\" \",\" \",\" \",\" \",\" \",\" \",\" \",\" \",\" \",\" \",\" \",\" \",\" \",\" \",\" \",\" \",\" \",\" \",\" \",\" \",\" \",\" \",\" \",\" \",\" \",\" \",\" \",\" \",\" \",\" \",\" \",\" \",\" \",\" \",\" \",\" \",\" \",\" \",\" \",\" \",\" \",\" \",\" \",\" \",\" \",\" \",\" \",\" \",\" \",\" \",\" \",\" \",\" \",\" \",\" \",\" \",\" \",\" \",\" \",\" \",\" \",\" \",\" \",\" \",\" \",\" \",\" \",\" \",\" \",\" \",\" \",\" \",\" \",\" \",\" \",\" \",\" \",\" \",\" \",\" \",\" \",\" \",\" \",\" \",\" \",\" \",\" \",\" \",\" \",\" \",\" \",\" \",\" \",\" \"]],[\"__label\",[\" \",\" \",\" \",\" \",\" \",\" \",\" \",\" \",\" \",\" \",\" \",\" \",\" \",\" \",\" \",\" \",\" \",\" \",\" \",\" \",\" \",\" \",\" \",\" \",\" \",\" \",\" \",\" \",\" \",\" \",\" \",\" \",\" \",\" \",\" \",\" \",\" \",\" \",\" \",\" \",\" \",\" \",\" \",\" \",\" \",\" \",\" \",\" \",\" \",\" \",\" \",\" \",\" \",\" \",\" \",\" \",\" \",\" \",\" \",\" \",\" \",\" \",\" \",\" \",\" \",\" \",\" \",\" \",\" \",\" \",\" \",\" \",\" \",\" \",\" \",\" \",\" \",\" \",\" \",\" \",\" \",\" \",\" \",\" \",\" \",\" \",\" \",\" \",\" \",\" \",\" \",\" \",\" \",\" \",\" \",\" \",\" \",\" \",\" \",\" \",\" \",\" \"]]]}}},\"view\":{\"type\":\"object\",\"name\":\"CDSView\",\"id\":\"p1249\",\"attributes\":{\"filter\":{\"type\":\"object\",\"name\":\"AllIndices\",\"id\":\"p1250\"}}},\"glyph\":{\"type\":\"object\",\"name\":\"Circle\",\"id\":\"p1245\",\"attributes\":{\"x\":{\"type\":\"field\",\"field\":\"percent correct\"},\"y\":{\"type\":\"field\",\"field\":\"cat\",\"transform\":{\"type\":\"object\",\"name\":\"Jitter\",\"id\":\"p1238\",\"attributes\":{\"width\":0.1,\"distribution\":\"normal\",\"range\":{\"id\":\"p1207\"}}}},\"line_color\":{\"type\":\"field\",\"field\":\"cat\",\"transform\":{\"type\":\"object\",\"name\":\"CategoricalColorMapper\",\"id\":\"p1237\",\"attributes\":{\"palette\":[\"#1f77b3\",\"#ff7e0e\",\"#2ba02b\",\"#d62628\",\"#9367bc\",\"#8c564b\",\"#e277c1\",\"#7e7e7e\",\"#bcbc21\",\"#16bdcf\",\"#3a0182\",\"#004201\",\"#0fffa8\",\"#5d003f\",\"#bcbcff\",\"#d8afa1\",\"#b80080\",\"#004d52\",\"#6b6400\",\"#7c0100\",\"#6026ff\",\"#ffff9a\",\"#564964\",\"#8cb893\",\"#93fbff\",\"#018267\",\"#90ff00\",\"#8200a0\",\"#ac8944\",\"#5b3400\",\"#ffbff2\",\"#ff6e75\",\"#798cff\",\"#dd00ff\",\"#505646\",\"#004489\",\"#ffbf60\",\"#ff018c\",\"#bdc8cf\",\"#af97b5\",\"#b65600\",\"#017000\",\"#cd87ff\",\"#1cd646\",\"#bfebc3\",\"#7997b5\",\"#a56089\",\"#6e8956\",\"#bc7c75\",\"#8a2844\",\"#00acff\",\"#8ed4ff\",\"#4b6d77\",\"#00d4b1\",\"#9300f2\",\"#8a9500\",\"#5d5b9e\",\"#fddfba\",\"#00939e\",\"#ffdb00\",\"#00aa79\",\"#520067\",\"#000091\",\"#0a5d3d\",\"#a5e275\",\"#623b41\",\"#c6c689\",\"#ff9eb5\",\"#cd4f6b\",\"#ff07d6\",\"#8a3a05\",\"#7e3d70\",\"#ff4901\",\"#602ba5\",\"#1c00ff\",\"#e6dfff\",\"#aa3baf\",\"#d89c00\",\"#a3a39e\",\"#3f69ff\",\"#46490c\",\"#7b6985\",\"#6b978c\",\"#ff9a75\",\"#835bff\",\"#7c6b46\",\"#80b654\",\"#bc0049\",\"#fd93ff\",\"#5d0018\",\"#89d1d1\",\"#9c8cd3\",\"#da6d42\",\"#8a5700\",\"#3b5069\",\"#4b6b3b\",\"#edcfd8\",\"#cfedff\",\"#aa1500\",\"#dfff4f\",\"#ff2a56\",\"#d1499e\",\"#707cb8\",\"#598000\",\"#00e4fd\",\"#774b95\",\"#67d48c\",\"#3d3a72\",\"#ac413f\",\"#d6a166\",\"#c169cd\",\"#69595d\",\"#87aced\",\"#a0a569\",\"#d1aae6\",\"#870062\",\"#00fddb\",\"#672818\",\"#b342ff\",\"#0e59c4\",\"#168742\",\"#90d300\",\"#cd7900\",\"#f959ff\",\"#5b7466\",\"#8eaeb3\",\"#9c7c8c\",\"#4600c6\",\"#6b4d2d\",\"#a56d46\",\"#9e8972\",\"#a8afca\",\"#cd8ca7\",\"#00fd64\",\"#917900\",\"#ff62a1\",\"#f4ffd8\",\"#018cf0\",\"#13aca0\",\"#5b2d59\",\"#89859e\",\"#cfccba\",\"#d4afc4\",\"#dbdd6d\",\"#cffff4\",\"#006485\",\"#006962\",\"#a84167\",\"#2d97c4\",\"#a874ff\",\"#26ba5d\",\"#57b600\",\"#caffa7\",\"#a379aa\",\"#ffbc93\",\"#89e2c1\",\"#0fc8ff\",\"#d400c4\",\"#626d89\",\"#69858e\",\"#4b4d52\",\"#aa6067\",\"#79b5d4\",\"#2b5916\",\"#9a0024\",\"#bdd1f2\",\"#896e67\",\"#69a56b\",\"#855467\",\"#aecdba\",\"#87997e\",\"#cadb00\",\"#9a0390\",\"#ebbc1a\",\"#eb9cd1\",\"#70006e\",\"#b1a131\",\"#ca6b93\",\"#4146a3\",\"#e48c89\",\"#d44400\",\"#c68aca\",\"#b69597\",\"#d41f75\",\"#724bcc\",\"#674d00\",\"#672138\",\"#38564f\",\"#6ebaaa\",\"#853a31\",\"#a5d397\",\"#b8af8e\",\"#d8e4df\",\"#aa00df\",\"#cac1db\",\"#ffdf8c\",\"#e2524d\",\"#66696e\",\"#ff001c\",\"#522d72\",\"#4d906b\",\"#a86d11\",\"#ff9e26\",\"#5ea3af\",\"#c88556\",\"#915997\",\"#a3a1ff\",\"#fdbaba\",\"#242a87\",\"#dbe6a8\",\"#97f2a7\",\"#6793d6\",\"#ba5b3f\",\"#3a5d91\",\"#364f2f\",\"#267c95\",\"#89959a\",\"#cfb356\",\"#004664\",\"#5e5d2f\",\"#8e8e41\",\"#ac3f13\",\"#69953b\",\"#a13d85\",\"#bfb6ba\",\"#acc667\",\"#6469cf\",\"#91af00\",\"#2be2da\",\"#016e36\",\"#ff7952\",\"#42807e\",\"#4fe800\",\"#995428\",\"#5d0a00\",\"#a30057\",\"#0c8700\",\"#5982a7\",\"#ffebfb\",\"#4b6901\",\"#8775d4\",\"#e6c6ff\",\"#a5ffda\",\"#d86e77\",\"#df014b\",\"#69675b\",\"#776ba1\",\"#7e8067\",\"#594685\",\"#0000ca\",\"#7c002a\",\"#97ff72\",\"#b5e2e1\",\"#db52c8\",\"#777734\",\"#57bd8e\"],\"factors\":[\" \"]}}},\"fill_color\":{\"type\":\"field\",\"field\":\"cat\",\"transform\":{\"type\":\"object\",\"name\":\"CategoricalColorMapper\",\"id\":\"p1236\",\"attributes\":{\"palette\":[\"#1f77b3\",\"#ff7e0e\",\"#2ba02b\",\"#d62628\",\"#9367bc\",\"#8c564b\",\"#e277c1\",\"#7e7e7e\",\"#bcbc21\",\"#16bdcf\",\"#3a0182\",\"#004201\",\"#0fffa8\",\"#5d003f\",\"#bcbcff\",\"#d8afa1\",\"#b80080\",\"#004d52\",\"#6b6400\",\"#7c0100\",\"#6026ff\",\"#ffff9a\",\"#564964\",\"#8cb893\",\"#93fbff\",\"#018267\",\"#90ff00\",\"#8200a0\",\"#ac8944\",\"#5b3400\",\"#ffbff2\",\"#ff6e75\",\"#798cff\",\"#dd00ff\",\"#505646\",\"#004489\",\"#ffbf60\",\"#ff018c\",\"#bdc8cf\",\"#af97b5\",\"#b65600\",\"#017000\",\"#cd87ff\",\"#1cd646\",\"#bfebc3\",\"#7997b5\",\"#a56089\",\"#6e8956\",\"#bc7c75\",\"#8a2844\",\"#00acff\",\"#8ed4ff\",\"#4b6d77\",\"#00d4b1\",\"#9300f2\",\"#8a9500\",\"#5d5b9e\",\"#fddfba\",\"#00939e\",\"#ffdb00\",\"#00aa79\",\"#520067\",\"#000091\",\"#0a5d3d\",\"#a5e275\",\"#623b41\",\"#c6c689\",\"#ff9eb5\",\"#cd4f6b\",\"#ff07d6\",\"#8a3a05\",\"#7e3d70\",\"#ff4901\",\"#602ba5\",\"#1c00ff\",\"#e6dfff\",\"#aa3baf\",\"#d89c00\",\"#a3a39e\",\"#3f69ff\",\"#46490c\",\"#7b6985\",\"#6b978c\",\"#ff9a75\",\"#835bff\",\"#7c6b46\",\"#80b654\",\"#bc0049\",\"#fd93ff\",\"#5d0018\",\"#89d1d1\",\"#9c8cd3\",\"#da6d42\",\"#8a5700\",\"#3b5069\",\"#4b6b3b\",\"#edcfd8\",\"#cfedff\",\"#aa1500\",\"#dfff4f\",\"#ff2a56\",\"#d1499e\",\"#707cb8\",\"#598000\",\"#00e4fd\",\"#774b95\",\"#67d48c\",\"#3d3a72\",\"#ac413f\",\"#d6a166\",\"#c169cd\",\"#69595d\",\"#87aced\",\"#a0a569\",\"#d1aae6\",\"#870062\",\"#00fddb\",\"#672818\",\"#b342ff\",\"#0e59c4\",\"#168742\",\"#90d300\",\"#cd7900\",\"#f959ff\",\"#5b7466\",\"#8eaeb3\",\"#9c7c8c\",\"#4600c6\",\"#6b4d2d\",\"#a56d46\",\"#9e8972\",\"#a8afca\",\"#cd8ca7\",\"#00fd64\",\"#917900\",\"#ff62a1\",\"#f4ffd8\",\"#018cf0\",\"#13aca0\",\"#5b2d59\",\"#89859e\",\"#cfccba\",\"#d4afc4\",\"#dbdd6d\",\"#cffff4\",\"#006485\",\"#006962\",\"#a84167\",\"#2d97c4\",\"#a874ff\",\"#26ba5d\",\"#57b600\",\"#caffa7\",\"#a379aa\",\"#ffbc93\",\"#89e2c1\",\"#0fc8ff\",\"#d400c4\",\"#626d89\",\"#69858e\",\"#4b4d52\",\"#aa6067\",\"#79b5d4\",\"#2b5916\",\"#9a0024\",\"#bdd1f2\",\"#896e67\",\"#69a56b\",\"#855467\",\"#aecdba\",\"#87997e\",\"#cadb00\",\"#9a0390\",\"#ebbc1a\",\"#eb9cd1\",\"#70006e\",\"#b1a131\",\"#ca6b93\",\"#4146a3\",\"#e48c89\",\"#d44400\",\"#c68aca\",\"#b69597\",\"#d41f75\",\"#724bcc\",\"#674d00\",\"#672138\",\"#38564f\",\"#6ebaaa\",\"#853a31\",\"#a5d397\",\"#b8af8e\",\"#d8e4df\",\"#aa00df\",\"#cac1db\",\"#ffdf8c\",\"#e2524d\",\"#66696e\",\"#ff001c\",\"#522d72\",\"#4d906b\",\"#a86d11\",\"#ff9e26\",\"#5ea3af\",\"#c88556\",\"#915997\",\"#a3a1ff\",\"#fdbaba\",\"#242a87\",\"#dbe6a8\",\"#97f2a7\",\"#6793d6\",\"#ba5b3f\",\"#3a5d91\",\"#364f2f\",\"#267c95\",\"#89959a\",\"#cfb356\",\"#004664\",\"#5e5d2f\",\"#8e8e41\",\"#ac3f13\",\"#69953b\",\"#a13d85\",\"#bfb6ba\",\"#acc667\",\"#6469cf\",\"#91af00\",\"#2be2da\",\"#016e36\",\"#ff7952\",\"#42807e\",\"#4fe800\",\"#995428\",\"#5d0a00\",\"#a30057\",\"#0c8700\",\"#5982a7\",\"#ffebfb\",\"#4b6901\",\"#8775d4\",\"#e6c6ff\",\"#a5ffda\",\"#d86e77\",\"#df014b\",\"#69675b\",\"#776ba1\",\"#7e8067\",\"#594685\",\"#0000ca\",\"#7c002a\",\"#97ff72\",\"#b5e2e1\",\"#db52c8\",\"#777734\",\"#57bd8e\"],\"factors\":[\" \"]}}}}},\"nonselection_glyph\":{\"type\":\"object\",\"name\":\"Circle\",\"id\":\"p1246\",\"attributes\":{\"x\":{\"type\":\"field\",\"field\":\"percent correct\"},\"y\":{\"type\":\"field\",\"field\":\"cat\",\"transform\":{\"id\":\"p1238\"}},\"line_color\":{\"type\":\"field\",\"field\":\"cat\",\"transform\":{\"id\":\"p1237\"}},\"line_alpha\":{\"type\":\"value\",\"value\":0.1},\"fill_color\":{\"type\":\"field\",\"field\":\"cat\",\"transform\":{\"id\":\"p1236\"}},\"fill_alpha\":{\"type\":\"value\",\"value\":0.1},\"hatch_alpha\":{\"type\":\"value\",\"value\":0.1}}},\"muted_glyph\":{\"type\":\"object\",\"name\":\"Circle\",\"id\":\"p1247\",\"attributes\":{\"x\":{\"type\":\"field\",\"field\":\"percent correct\"},\"y\":{\"type\":\"field\",\"field\":\"cat\",\"transform\":{\"id\":\"p1238\"}},\"line_color\":{\"type\":\"field\",\"field\":\"cat\",\"transform\":{\"id\":\"p1237\"}},\"line_alpha\":{\"type\":\"value\",\"value\":0.2},\"fill_color\":{\"type\":\"field\",\"field\":\"cat\",\"transform\":{\"id\":\"p1236\"}},\"fill_alpha\":{\"type\":\"value\",\"value\":0.2},\"hatch_alpha\":{\"type\":\"value\",\"value\":0.2}}}}}],\"toolbar\":{\"type\":\"object\",\"name\":\"Toolbar\",\"id\":\"p1216\",\"attributes\":{\"tools\":[{\"type\":\"object\",\"name\":\"PanTool\",\"id\":\"p1229\"},{\"type\":\"object\",\"name\":\"WheelZoomTool\",\"id\":\"p1230\"},{\"type\":\"object\",\"name\":\"BoxZoomTool\",\"id\":\"p1231\",\"attributes\":{\"overlay\":{\"type\":\"object\",\"name\":\"BoxAnnotation\",\"id\":\"p1232\",\"attributes\":{\"syncable\":false,\"level\":\"overlay\",\"visible\":false,\"left_units\":\"canvas\",\"right_units\":\"canvas\",\"bottom_units\":\"canvas\",\"top_units\":\"canvas\",\"line_color\":\"black\",\"line_alpha\":1.0,\"line_width\":2,\"line_dash\":[4,4],\"fill_color\":\"lightgrey\",\"fill_alpha\":0.5}}}},{\"type\":\"object\",\"name\":\"SaveTool\",\"id\":\"p1233\"},{\"type\":\"object\",\"name\":\"ResetTool\",\"id\":\"p1234\"},{\"type\":\"object\",\"name\":\"HelpTool\",\"id\":\"p1235\"}]}},\"toolbar_location\":\"above\",\"left\":[{\"type\":\"object\",\"name\":\"CategoricalAxis\",\"id\":\"p1224\",\"attributes\":{\"visible\":false,\"ticker\":{\"type\":\"object\",\"name\":\"CategoricalTicker\",\"id\":\"p1225\"},\"formatter\":{\"type\":\"object\",\"name\":\"CategoricalTickFormatter\",\"id\":\"p1226\"},\"major_label_policy\":{\"type\":\"object\",\"name\":\"AllLabels\",\"id\":\"p1227\"}}}],\"below\":[{\"type\":\"object\",\"name\":\"LinearAxis\",\"id\":\"p1219\",\"attributes\":{\"ticker\":{\"type\":\"object\",\"name\":\"BasicTicker\",\"id\":\"p1220\",\"attributes\":{\"mantissas\":[1,2,5]}},\"formatter\":{\"type\":\"object\",\"name\":\"BasicTickFormatter\",\"id\":\"p1221\"},\"axis_label\":\"percent correct\",\"major_label_policy\":{\"type\":\"object\",\"name\":\"AllLabels\",\"id\":\"p1222\"}}}],\"center\":[{\"type\":\"object\",\"name\":\"Grid\",\"id\":\"p1223\",\"attributes\":{\"axis\":{\"id\":\"p1219\"}}},{\"type\":\"object\",\"name\":\"Grid\",\"id\":\"p1228\",\"attributes\":{\"dimension\":1,\"axis\":{\"id\":\"p1224\"},\"grid_line_color\":null}}],\"frame_width\":375,\"frame_height\":100}}]}};\n",
       "  const render_items = [{\"docid\":\"b37af3ba-fd19-45d5-8c51-3748b6fc3ff2\",\"roots\":{\"p1208\":\"ec289dbe-2ab3-4be9-ad33-ee6912d4c70e\"},\"root_ids\":[\"p1208\"]}];\n",
       "  root.Bokeh.embed.embed_items_notebook(docs_json, render_items);\n",
       "  }\n",
       "  if (root.Bokeh !== undefined) {\n",
       "    embed_document(root);\n",
       "  } else {\n",
       "    let attempts = 0;\n",
       "    const timer = setInterval(function(root) {\n",
       "      if (root.Bokeh !== undefined) {\n",
       "        clearInterval(timer);\n",
       "        embed_document(root);\n",
       "      } else {\n",
       "        attempts++;\n",
       "        if (attempts > 100) {\n",
       "          clearInterval(timer);\n",
       "          console.log(\"Bokeh: ERROR: Unable to run BokehJS code because BokehJS library is missing\");\n",
       "        }\n",
       "      }\n",
       "    }, 10, root)\n",
       "  }\n",
       "})(window);"
      ],
      "application/vnd.bokehjs_exec.v0+json": ""
     },
     "metadata": {
      "application/vnd.bokehjs_exec.v0+json": {
       "id": "p1208"
      }
     },
     "output_type": "display_data"
    }
   ],
   "source": [
    "p = iqplot.strip(df, \"percent correct\", frame_height=100, spread=\"jitter\")\n",
    "p.yaxis.visible = False\n",
    "\n",
    "bokeh.io.show(p)"
   ]
  },
  {
   "cell_type": "markdown",
   "metadata": {},
   "source": [
    "Alternatively, we can deterministically spread the points in a **swarm plot**, where the glyphs are positioned so as not to overlap, but retain the same position along the quantitative axis."
   ]
  },
  {
   "cell_type": "code",
   "execution_count": 8,
   "metadata": {},
   "outputs": [
    {
     "data": {
      "text/html": [
       "\n",
       "  <div id=\"a0bcc378-4eef-4cbb-8bc4-475a5e40b0b5\" data-root-id=\"p1252\" style=\"display: contents;\"></div>\n"
      ]
     },
     "metadata": {},
     "output_type": "display_data"
    },
    {
     "data": {
      "application/javascript": [
       "(function(root) {\n",
       "  function embed_document(root) {\n",
       "  const docs_json = {\"5f0f8288-bee2-491d-8520-47e711599616\":{\"version\":\"3.2.1\",\"title\":\"Bokeh Application\",\"roots\":[{\"type\":\"object\",\"name\":\"Figure\",\"id\":\"p1252\",\"attributes\":{\"x_range\":{\"type\":\"object\",\"name\":\"DataRange1d\",\"id\":\"p1254\"},\"y_range\":{\"type\":\"object\",\"name\":\"FactorRange\",\"id\":\"p1251\",\"attributes\":{\"factors\":[\" \"]}},\"x_scale\":{\"type\":\"object\",\"name\":\"LinearScale\",\"id\":\"p1261\"},\"y_scale\":{\"type\":\"object\",\"name\":\"CategoricalScale\",\"id\":\"p1262\"},\"title\":{\"type\":\"object\",\"name\":\"Title\",\"id\":\"p1259\"},\"renderers\":[{\"type\":\"object\",\"name\":\"GlyphRenderer\",\"id\":\"p1291\",\"attributes\":{\"name\":\"hover_glyphs\",\"data_source\":{\"type\":\"object\",\"name\":\"ColumnDataSource\",\"id\":\"p1282\",\"attributes\":{\"selected\":{\"type\":\"object\",\"name\":\"Selection\",\"id\":\"p1283\",\"attributes\":{\"indices\":[],\"line_indices\":[]}},\"selection_policy\":{\"type\":\"object\",\"name\":\"UnionRenderers\",\"id\":\"p1284\"},\"data\":{\"type\":\"map\",\"entries\":[[\"__dummy_cat\",[\" \",\" \",\" \",\" \",\" \",\" \",\" \",\" \",\" \",\" \",\" \",\" \",\" \",\" \",\" \",\" \",\" \",\" \",\" \",\" \",\" \",\" \",\" \",\" \",\" \",\" \",\" \",\" \",\" \",\" \",\" \",\" \",\" \",\" \",\" \",\" \",\" \",\" \",\" \",\" \",\" \",\" \",\" \",\" \",\" \",\" \",\" \",\" \",\" \",\" \",\" \",\" \",\" \",\" \",\" \",\" \",\" \",\" \",\" \",\" \",\" \",\" \",\" \",\" \",\" \",\" \",\" \",\" \",\" \",\" \",\" \",\" \",\" \",\" \",\" \",\" \",\" \",\" \",\" \",\" \",\" \",\" \",\" \",\" \",\" \",\" \",\" \",\" \",\" \",\" \",\" \",\" \",\" \",\" \",\" \",\" \",\" \",\" \",\" \",\" \",\" \",\" \"]],[\"percent correct\",[72.5,90.0,92.5,87.5,62.5,50.0,82.5,67.5,90.0,75.0,62.5,95.0,80.0,80.0,65.0,70.0,70.0,80.0,85.0,75.0,70.0,97.5,87.5,45.0,70.0,72.5,85.0,75.0,67.5,95.0,87.5,92.5,90.0,100.0,70.0,85.0,77.5,92.5,85.0,57.5,92.5,65.0,95.0,77.5,80.0,90.0,80.0,87.5,92.5,75.0,67.5,77.5,72.5,72.5,85.0,87.5,87.5,90.0,87.5,80.0,90.0,80.0,85.0,85.0,77.5,85.0,85.0,85.0,77.5,90.0,100.0,85.0,87.5,97.5,92.5,100.0,60.0,95.0,77.5,77.5,82.5,40.0,87.5,85.0,87.5,77.5,62.5,72.5,85.0,92.5,85.0,72.5,90.0,90.0,55.0,87.5,60.0,77.5,87.5,75.0,70.0,62.5]],[\"cat\",[\" \",\" \",\" \",\" \",\" \",\" \",\" \",\" \",\" \",\" \",\" \",\" \",\" \",\" \",\" \",\" \",\" \",\" \",\" \",\" \",\" \",\" \",\" \",\" \",\" \",\" \",\" \",\" \",\" \",\" \",\" \",\" \",\" \",\" \",\" \",\" \",\" \",\" \",\" \",\" \",\" \",\" \",\" \",\" \",\" \",\" \",\" \",\" \",\" \",\" \",\" \",\" \",\" \",\" \",\" \",\" \",\" \",\" \",\" \",\" \",\" \",\" \",\" \",\" \",\" \",\" \",\" \",\" \",\" \",\" \",\" \",\" \",\" \",\" \",\" \",\" \",\" \",\" \",\" \",\" \",\" \",\" \",\" \",\" \",\" \",\" \",\" \",\" \",\" \",\" \",\" \",\" \",\" \",\" \",\" \",\" \",\" \",\" \",\" \",\" \",\" \",\" \"]],[\"__label\",[\" \",\" \",\" \",\" \",\" \",\" \",\" \",\" \",\" \",\" \",\" \",\" \",\" \",\" \",\" \",\" \",\" \",\" \",\" \",\" \",\" \",\" \",\" \",\" \",\" \",\" \",\" \",\" \",\" \",\" \",\" \",\" \",\" \",\" \",\" \",\" \",\" \",\" \",\" \",\" \",\" \",\" \",\" \",\" \",\" \",\" \",\" \",\" \",\" \",\" \",\" \",\" \",\" \",\" \",\" \",\" \",\" \",\" \",\" \",\" \",\" \",\" \",\" \",\" \",\" \",\" \",\" \",\" \",\" \",\" \",\" \",\" \",\" \",\" \",\" \",\" \",\" \",\" \",\" \",\" \",\" \",\" \",\" \",\" \",\" \",\" \",\" \",\" \",\" \",\" \",\" \",\" \",\" \",\" \",\" \",\" \",\" \",\" \",\" \",\" \",\" \",\" \"]],[\"__swarm\",[[\" \",0.0],[\" \",0.0],[\" \",0.0],[\" \",0.0],[\" \",0.0],[\" \",0.0],[\" \",0.0],[\" \",0.0],[\" \",-0.05],[\" \",0.0],[\" \",-0.05],[\" \",0.0],[\" \",0.0],[\" \",-0.05],[\" \",0.0],[\" \",0.0],[\" \",-0.05],[\" \",0.05],[\" \",0.0],[\" \",-0.05],[\" \",0.05],[\" \",0.0],[\" \",-0.05],[\" \",0.0],[\" \",0.1],[\" \",-0.05],[\" \",-0.05],[\" \",0.05],[\" \",-0.05],[\" \",-0.05],[\" \",0.05],[\" \",-0.05],[\" \",0.05],[\" \",0.0],[\" \",-0.1],[\" \",0.05],[\" \",0.0],[\" \",0.05],[\" \",0.1],[\" \",0.0],[\" \",0.1],[\" \",-0.05],[\" \",0.05],[\" \",-0.05],[\" \",0.1],[\" \",0.1],[\" \",-0.1],[\" \",0.1],[\" \",-0.1],[\" \",0.1],[\" \",0.05],[\" \",0.05],[\" \",0.05],[\" \",0.1],[\" \",-0.1],[\" \",-0.1],[\" \",-0.15],[\" \",-0.1],[\" \",0.15],[\" \",-0.15],[\" \",-0.15],[\" \",0.15],[\" \",-0.15],[\" \",0.15],[\" \",0.1],[\" \",0.2],[\" \",-0.2],[\" \",-0.25],[\" \",-0.1],[\" \",0.15],[\" \",-0.05],[\" \",0.25],[\" \",0.2],[\" \",-0.05],[\" \",-0.15],[\" \",0.05],[\" \",0.0],[\" \",0.1],[\" \",-0.15],[\" \",0.15],[\" \",-0.05],[\" \",0.0],[\" \",-0.2],[\" \",0.3],[\" \",-0.25],[\" \",0.2],[\" \",0.05],[\" \",-0.1],[\" \",-0.3],[\" \",0.15],[\" \",-0.35],[\" \",-0.15],[\" \",0.2],[\" \",-0.2],[\" \",0.0],[\" \",0.25],[\" \",-0.05],[\" \",-0.2],[\" \",0.3],[\" \",-0.1],[\" \",-0.15],[\" \",0.1]]]]}}},\"view\":{\"type\":\"object\",\"name\":\"CDSView\",\"id\":\"p1292\",\"attributes\":{\"filter\":{\"type\":\"object\",\"name\":\"AllIndices\",\"id\":\"p1293\"}}},\"glyph\":{\"type\":\"object\",\"name\":\"Circle\",\"id\":\"p1288\",\"attributes\":{\"x\":{\"type\":\"field\",\"field\":\"percent correct\"},\"y\":{\"type\":\"field\",\"field\":\"__swarm\"},\"line_color\":{\"type\":\"field\",\"field\":\"cat\",\"transform\":{\"type\":\"object\",\"name\":\"CategoricalColorMapper\",\"id\":\"p1281\",\"attributes\":{\"palette\":[\"#1f77b3\",\"#ff7e0e\",\"#2ba02b\",\"#d62628\",\"#9367bc\",\"#8c564b\",\"#e277c1\",\"#7e7e7e\",\"#bcbc21\",\"#16bdcf\",\"#3a0182\",\"#004201\",\"#0fffa8\",\"#5d003f\",\"#bcbcff\",\"#d8afa1\",\"#b80080\",\"#004d52\",\"#6b6400\",\"#7c0100\",\"#6026ff\",\"#ffff9a\",\"#564964\",\"#8cb893\",\"#93fbff\",\"#018267\",\"#90ff00\",\"#8200a0\",\"#ac8944\",\"#5b3400\",\"#ffbff2\",\"#ff6e75\",\"#798cff\",\"#dd00ff\",\"#505646\",\"#004489\",\"#ffbf60\",\"#ff018c\",\"#bdc8cf\",\"#af97b5\",\"#b65600\",\"#017000\",\"#cd87ff\",\"#1cd646\",\"#bfebc3\",\"#7997b5\",\"#a56089\",\"#6e8956\",\"#bc7c75\",\"#8a2844\",\"#00acff\",\"#8ed4ff\",\"#4b6d77\",\"#00d4b1\",\"#9300f2\",\"#8a9500\",\"#5d5b9e\",\"#fddfba\",\"#00939e\",\"#ffdb00\",\"#00aa79\",\"#520067\",\"#000091\",\"#0a5d3d\",\"#a5e275\",\"#623b41\",\"#c6c689\",\"#ff9eb5\",\"#cd4f6b\",\"#ff07d6\",\"#8a3a05\",\"#7e3d70\",\"#ff4901\",\"#602ba5\",\"#1c00ff\",\"#e6dfff\",\"#aa3baf\",\"#d89c00\",\"#a3a39e\",\"#3f69ff\",\"#46490c\",\"#7b6985\",\"#6b978c\",\"#ff9a75\",\"#835bff\",\"#7c6b46\",\"#80b654\",\"#bc0049\",\"#fd93ff\",\"#5d0018\",\"#89d1d1\",\"#9c8cd3\",\"#da6d42\",\"#8a5700\",\"#3b5069\",\"#4b6b3b\",\"#edcfd8\",\"#cfedff\",\"#aa1500\",\"#dfff4f\",\"#ff2a56\",\"#d1499e\",\"#707cb8\",\"#598000\",\"#00e4fd\",\"#774b95\",\"#67d48c\",\"#3d3a72\",\"#ac413f\",\"#d6a166\",\"#c169cd\",\"#69595d\",\"#87aced\",\"#a0a569\",\"#d1aae6\",\"#870062\",\"#00fddb\",\"#672818\",\"#b342ff\",\"#0e59c4\",\"#168742\",\"#90d300\",\"#cd7900\",\"#f959ff\",\"#5b7466\",\"#8eaeb3\",\"#9c7c8c\",\"#4600c6\",\"#6b4d2d\",\"#a56d46\",\"#9e8972\",\"#a8afca\",\"#cd8ca7\",\"#00fd64\",\"#917900\",\"#ff62a1\",\"#f4ffd8\",\"#018cf0\",\"#13aca0\",\"#5b2d59\",\"#89859e\",\"#cfccba\",\"#d4afc4\",\"#dbdd6d\",\"#cffff4\",\"#006485\",\"#006962\",\"#a84167\",\"#2d97c4\",\"#a874ff\",\"#26ba5d\",\"#57b600\",\"#caffa7\",\"#a379aa\",\"#ffbc93\",\"#89e2c1\",\"#0fc8ff\",\"#d400c4\",\"#626d89\",\"#69858e\",\"#4b4d52\",\"#aa6067\",\"#79b5d4\",\"#2b5916\",\"#9a0024\",\"#bdd1f2\",\"#896e67\",\"#69a56b\",\"#855467\",\"#aecdba\",\"#87997e\",\"#cadb00\",\"#9a0390\",\"#ebbc1a\",\"#eb9cd1\",\"#70006e\",\"#b1a131\",\"#ca6b93\",\"#4146a3\",\"#e48c89\",\"#d44400\",\"#c68aca\",\"#b69597\",\"#d41f75\",\"#724bcc\",\"#674d00\",\"#672138\",\"#38564f\",\"#6ebaaa\",\"#853a31\",\"#a5d397\",\"#b8af8e\",\"#d8e4df\",\"#aa00df\",\"#cac1db\",\"#ffdf8c\",\"#e2524d\",\"#66696e\",\"#ff001c\",\"#522d72\",\"#4d906b\",\"#a86d11\",\"#ff9e26\",\"#5ea3af\",\"#c88556\",\"#915997\",\"#a3a1ff\",\"#fdbaba\",\"#242a87\",\"#dbe6a8\",\"#97f2a7\",\"#6793d6\",\"#ba5b3f\",\"#3a5d91\",\"#364f2f\",\"#267c95\",\"#89959a\",\"#cfb356\",\"#004664\",\"#5e5d2f\",\"#8e8e41\",\"#ac3f13\",\"#69953b\",\"#a13d85\",\"#bfb6ba\",\"#acc667\",\"#6469cf\",\"#91af00\",\"#2be2da\",\"#016e36\",\"#ff7952\",\"#42807e\",\"#4fe800\",\"#995428\",\"#5d0a00\",\"#a30057\",\"#0c8700\",\"#5982a7\",\"#ffebfb\",\"#4b6901\",\"#8775d4\",\"#e6c6ff\",\"#a5ffda\",\"#d86e77\",\"#df014b\",\"#69675b\",\"#776ba1\",\"#7e8067\",\"#594685\",\"#0000ca\",\"#7c002a\",\"#97ff72\",\"#b5e2e1\",\"#db52c8\",\"#777734\",\"#57bd8e\"],\"factors\":[\" \"]}}},\"fill_color\":{\"type\":\"field\",\"field\":\"cat\",\"transform\":{\"type\":\"object\",\"name\":\"CategoricalColorMapper\",\"id\":\"p1280\",\"attributes\":{\"palette\":[\"#1f77b3\",\"#ff7e0e\",\"#2ba02b\",\"#d62628\",\"#9367bc\",\"#8c564b\",\"#e277c1\",\"#7e7e7e\",\"#bcbc21\",\"#16bdcf\",\"#3a0182\",\"#004201\",\"#0fffa8\",\"#5d003f\",\"#bcbcff\",\"#d8afa1\",\"#b80080\",\"#004d52\",\"#6b6400\",\"#7c0100\",\"#6026ff\",\"#ffff9a\",\"#564964\",\"#8cb893\",\"#93fbff\",\"#018267\",\"#90ff00\",\"#8200a0\",\"#ac8944\",\"#5b3400\",\"#ffbff2\",\"#ff6e75\",\"#798cff\",\"#dd00ff\",\"#505646\",\"#004489\",\"#ffbf60\",\"#ff018c\",\"#bdc8cf\",\"#af97b5\",\"#b65600\",\"#017000\",\"#cd87ff\",\"#1cd646\",\"#bfebc3\",\"#7997b5\",\"#a56089\",\"#6e8956\",\"#bc7c75\",\"#8a2844\",\"#00acff\",\"#8ed4ff\",\"#4b6d77\",\"#00d4b1\",\"#9300f2\",\"#8a9500\",\"#5d5b9e\",\"#fddfba\",\"#00939e\",\"#ffdb00\",\"#00aa79\",\"#520067\",\"#000091\",\"#0a5d3d\",\"#a5e275\",\"#623b41\",\"#c6c689\",\"#ff9eb5\",\"#cd4f6b\",\"#ff07d6\",\"#8a3a05\",\"#7e3d70\",\"#ff4901\",\"#602ba5\",\"#1c00ff\",\"#e6dfff\",\"#aa3baf\",\"#d89c00\",\"#a3a39e\",\"#3f69ff\",\"#46490c\",\"#7b6985\",\"#6b978c\",\"#ff9a75\",\"#835bff\",\"#7c6b46\",\"#80b654\",\"#bc0049\",\"#fd93ff\",\"#5d0018\",\"#89d1d1\",\"#9c8cd3\",\"#da6d42\",\"#8a5700\",\"#3b5069\",\"#4b6b3b\",\"#edcfd8\",\"#cfedff\",\"#aa1500\",\"#dfff4f\",\"#ff2a56\",\"#d1499e\",\"#707cb8\",\"#598000\",\"#00e4fd\",\"#774b95\",\"#67d48c\",\"#3d3a72\",\"#ac413f\",\"#d6a166\",\"#c169cd\",\"#69595d\",\"#87aced\",\"#a0a569\",\"#d1aae6\",\"#870062\",\"#00fddb\",\"#672818\",\"#b342ff\",\"#0e59c4\",\"#168742\",\"#90d300\",\"#cd7900\",\"#f959ff\",\"#5b7466\",\"#8eaeb3\",\"#9c7c8c\",\"#4600c6\",\"#6b4d2d\",\"#a56d46\",\"#9e8972\",\"#a8afca\",\"#cd8ca7\",\"#00fd64\",\"#917900\",\"#ff62a1\",\"#f4ffd8\",\"#018cf0\",\"#13aca0\",\"#5b2d59\",\"#89859e\",\"#cfccba\",\"#d4afc4\",\"#dbdd6d\",\"#cffff4\",\"#006485\",\"#006962\",\"#a84167\",\"#2d97c4\",\"#a874ff\",\"#26ba5d\",\"#57b600\",\"#caffa7\",\"#a379aa\",\"#ffbc93\",\"#89e2c1\",\"#0fc8ff\",\"#d400c4\",\"#626d89\",\"#69858e\",\"#4b4d52\",\"#aa6067\",\"#79b5d4\",\"#2b5916\",\"#9a0024\",\"#bdd1f2\",\"#896e67\",\"#69a56b\",\"#855467\",\"#aecdba\",\"#87997e\",\"#cadb00\",\"#9a0390\",\"#ebbc1a\",\"#eb9cd1\",\"#70006e\",\"#b1a131\",\"#ca6b93\",\"#4146a3\",\"#e48c89\",\"#d44400\",\"#c68aca\",\"#b69597\",\"#d41f75\",\"#724bcc\",\"#674d00\",\"#672138\",\"#38564f\",\"#6ebaaa\",\"#853a31\",\"#a5d397\",\"#b8af8e\",\"#d8e4df\",\"#aa00df\",\"#cac1db\",\"#ffdf8c\",\"#e2524d\",\"#66696e\",\"#ff001c\",\"#522d72\",\"#4d906b\",\"#a86d11\",\"#ff9e26\",\"#5ea3af\",\"#c88556\",\"#915997\",\"#a3a1ff\",\"#fdbaba\",\"#242a87\",\"#dbe6a8\",\"#97f2a7\",\"#6793d6\",\"#ba5b3f\",\"#3a5d91\",\"#364f2f\",\"#267c95\",\"#89959a\",\"#cfb356\",\"#004664\",\"#5e5d2f\",\"#8e8e41\",\"#ac3f13\",\"#69953b\",\"#a13d85\",\"#bfb6ba\",\"#acc667\",\"#6469cf\",\"#91af00\",\"#2be2da\",\"#016e36\",\"#ff7952\",\"#42807e\",\"#4fe800\",\"#995428\",\"#5d0a00\",\"#a30057\",\"#0c8700\",\"#5982a7\",\"#ffebfb\",\"#4b6901\",\"#8775d4\",\"#e6c6ff\",\"#a5ffda\",\"#d86e77\",\"#df014b\",\"#69675b\",\"#776ba1\",\"#7e8067\",\"#594685\",\"#0000ca\",\"#7c002a\",\"#97ff72\",\"#b5e2e1\",\"#db52c8\",\"#777734\",\"#57bd8e\"],\"factors\":[\" \"]}}}}},\"nonselection_glyph\":{\"type\":\"object\",\"name\":\"Circle\",\"id\":\"p1289\",\"attributes\":{\"x\":{\"type\":\"field\",\"field\":\"percent correct\"},\"y\":{\"type\":\"field\",\"field\":\"__swarm\"},\"line_color\":{\"type\":\"field\",\"field\":\"cat\",\"transform\":{\"id\":\"p1281\"}},\"line_alpha\":{\"type\":\"value\",\"value\":0.1},\"fill_color\":{\"type\":\"field\",\"field\":\"cat\",\"transform\":{\"id\":\"p1280\"}},\"fill_alpha\":{\"type\":\"value\",\"value\":0.1},\"hatch_alpha\":{\"type\":\"value\",\"value\":0.1}}},\"muted_glyph\":{\"type\":\"object\",\"name\":\"Circle\",\"id\":\"p1290\",\"attributes\":{\"x\":{\"type\":\"field\",\"field\":\"percent correct\"},\"y\":{\"type\":\"field\",\"field\":\"__swarm\"},\"line_color\":{\"type\":\"field\",\"field\":\"cat\",\"transform\":{\"id\":\"p1281\"}},\"line_alpha\":{\"type\":\"value\",\"value\":0.2},\"fill_color\":{\"type\":\"field\",\"field\":\"cat\",\"transform\":{\"id\":\"p1280\"}},\"fill_alpha\":{\"type\":\"value\",\"value\":0.2},\"hatch_alpha\":{\"type\":\"value\",\"value\":0.2}}}}}],\"toolbar\":{\"type\":\"object\",\"name\":\"Toolbar\",\"id\":\"p1260\",\"attributes\":{\"tools\":[{\"type\":\"object\",\"name\":\"PanTool\",\"id\":\"p1273\"},{\"type\":\"object\",\"name\":\"WheelZoomTool\",\"id\":\"p1274\"},{\"type\":\"object\",\"name\":\"BoxZoomTool\",\"id\":\"p1275\",\"attributes\":{\"overlay\":{\"type\":\"object\",\"name\":\"BoxAnnotation\",\"id\":\"p1276\",\"attributes\":{\"syncable\":false,\"level\":\"overlay\",\"visible\":false,\"left_units\":\"canvas\",\"right_units\":\"canvas\",\"bottom_units\":\"canvas\",\"top_units\":\"canvas\",\"line_color\":\"black\",\"line_alpha\":1.0,\"line_width\":2,\"line_dash\":[4,4],\"fill_color\":\"lightgrey\",\"fill_alpha\":0.5}}}},{\"type\":\"object\",\"name\":\"SaveTool\",\"id\":\"p1277\"},{\"type\":\"object\",\"name\":\"ResetTool\",\"id\":\"p1278\"},{\"type\":\"object\",\"name\":\"HelpTool\",\"id\":\"p1279\"}]}},\"toolbar_location\":\"above\",\"left\":[{\"type\":\"object\",\"name\":\"CategoricalAxis\",\"id\":\"p1268\",\"attributes\":{\"visible\":false,\"ticker\":{\"type\":\"object\",\"name\":\"CategoricalTicker\",\"id\":\"p1269\"},\"formatter\":{\"type\":\"object\",\"name\":\"CategoricalTickFormatter\",\"id\":\"p1270\"},\"major_label_policy\":{\"type\":\"object\",\"name\":\"AllLabels\",\"id\":\"p1271\"}}}],\"below\":[{\"type\":\"object\",\"name\":\"LinearAxis\",\"id\":\"p1263\",\"attributes\":{\"ticker\":{\"type\":\"object\",\"name\":\"BasicTicker\",\"id\":\"p1264\",\"attributes\":{\"mantissas\":[1,2,5]}},\"formatter\":{\"type\":\"object\",\"name\":\"BasicTickFormatter\",\"id\":\"p1265\"},\"axis_label\":\"percent correct\",\"major_label_policy\":{\"type\":\"object\",\"name\":\"AllLabels\",\"id\":\"p1266\"}}}],\"center\":[{\"type\":\"object\",\"name\":\"Grid\",\"id\":\"p1267\",\"attributes\":{\"axis\":{\"id\":\"p1263\"}}},{\"type\":\"object\",\"name\":\"Grid\",\"id\":\"p1272\",\"attributes\":{\"dimension\":1,\"axis\":{\"id\":\"p1268\"},\"grid_line_color\":null}}],\"frame_width\":375,\"frame_height\":100}}]}};\n",
       "  const render_items = [{\"docid\":\"5f0f8288-bee2-491d-8520-47e711599616\",\"roots\":{\"p1252\":\"a0bcc378-4eef-4cbb-8bc4-475a5e40b0b5\"},\"root_ids\":[\"p1252\"]}];\n",
       "  root.Bokeh.embed.embed_items_notebook(docs_json, render_items);\n",
       "  }\n",
       "  if (root.Bokeh !== undefined) {\n",
       "    embed_document(root);\n",
       "  } else {\n",
       "    let attempts = 0;\n",
       "    const timer = setInterval(function(root) {\n",
       "      if (root.Bokeh !== undefined) {\n",
       "        clearInterval(timer);\n",
       "        embed_document(root);\n",
       "      } else {\n",
       "        attempts++;\n",
       "        if (attempts > 100) {\n",
       "          clearInterval(timer);\n",
       "          console.log(\"Bokeh: ERROR: Unable to run BokehJS code because BokehJS library is missing\");\n",
       "        }\n",
       "      }\n",
       "    }, 10, root)\n",
       "  }\n",
       "})(window);"
      ],
      "application/vnd.bokehjs_exec.v0+json": ""
     },
     "metadata": {
      "application/vnd.bokehjs_exec.v0+json": {
       "id": "p1252"
      }
     },
     "output_type": "display_data"
    }
   ],
   "source": [
    "p = iqplot.strip(df, \"percent correct\", frame_height=100, spread=\"swarm\")\n",
    "p.yaxis.visible = False\n",
    "\n",
    "bokeh.io.show(p)"
   ]
  },
  {
   "cell_type": "markdown",
   "metadata": {},
   "source": [
    "This plot allows us to make out how the data are distributed. We suspect there is more probability density around 85% or so, with a heavy tail heading toward lower values, ending at 40. "
   ]
  },
  {
   "cell_type": "markdown",
   "metadata": {},
   "source": [
    "## Spike plots\n",
    "\n",
    "The swarm plot above essentially provides a count of the number of times a given measurement was observed. Because of the nature of the GFMT, the percent correct values are discrete, coming in 2.5% increments. When we have discrete values like that, a **spike plot** serves to provide the counts of each measurement value."
   ]
  },
  {
   "cell_type": "code",
   "execution_count": 9,
   "metadata": {},
   "outputs": [
    {
     "data": {
      "text/html": [
       "\n",
       "  <div id=\"d81d2472-7568-41c0-be12-3e8396131cfd\" data-root-id=\"p1295\" style=\"display: contents;\"></div>\n"
      ]
     },
     "metadata": {},
     "output_type": "display_data"
    },
    {
     "data": {
      "application/javascript": [
       "(function(root) {\n",
       "  function embed_document(root) {\n",
       "  const docs_json = {\"cbea95d8-a324-46bc-935e-df3961e6488b\":{\"version\":\"3.2.1\",\"title\":\"Bokeh Application\",\"roots\":[{\"type\":\"object\",\"name\":\"Figure\",\"id\":\"p1295\",\"attributes\":{\"x_range\":{\"type\":\"object\",\"name\":\"DataRange1d\",\"id\":\"p1297\"},\"y_range\":{\"type\":\"object\",\"name\":\"DataRange1d\",\"id\":\"p1294\",\"attributes\":{\"start\":0}},\"x_scale\":{\"type\":\"object\",\"name\":\"LinearScale\",\"id\":\"p1304\"},\"y_scale\":{\"type\":\"object\",\"name\":\"LinearScale\",\"id\":\"p1305\"},\"title\":{\"type\":\"object\",\"name\":\"Title\",\"id\":\"p1302\"},\"renderers\":[{\"type\":\"object\",\"name\":\"GlyphRenderer\",\"id\":\"p1332\",\"attributes\":{\"data_source\":{\"type\":\"object\",\"name\":\"ColumnDataSource\",\"id\":\"p1323\",\"attributes\":{\"selected\":{\"type\":\"object\",\"name\":\"Selection\",\"id\":\"p1324\",\"attributes\":{\"indices\":[],\"line_indices\":[]}},\"selection_policy\":{\"type\":\"object\",\"name\":\"UnionRenderers\",\"id\":\"p1325\"},\"data\":{\"type\":\"map\",\"entries\":[[\"index\",{\"type\":\"ndarray\",\"array\":{\"type\":\"bytes\",\"data\":\"AAAAAAEAAAACAAAAAwAAAAQAAAAFAAAABgAAAAcAAAAIAAAACQAAAAoAAAALAAAADAAAAA0AAAAOAAAADwAAABAAAAARAAAAEgAAABMAAAAUAAAAFQAAAA==\"},\"shape\":[22],\"dtype\":\"int32\",\"order\":\"little\"}],[\"percent correct\",{\"type\":\"ndarray\",\"array\":{\"type\":\"bytes\",\"data\":\"AAAAAABAVUAAAAAAAOBVQAAAAAAAYFNAAAAAAACAVkAAAAAAACBXQAAAAAAAAFRAAAAAAAAgUkAAAAAAAIBRQAAAAAAAwFJAAAAAAABAT0AAAAAAAMBXQAAAAAAAAFlAAAAAAADgUEAAAAAAAABOQAAAAAAAQFBAAAAAAABgWEAAAAAAAKBUQAAAAAAAgEZAAAAAAADATEAAAAAAAABJQAAAAAAAAERAAAAAAACAS0A=\"},\"shape\":[22],\"dtype\":\"float64\",\"order\":\"little\"}],[\"__count\",{\"type\":\"ndarray\",\"array\":{\"type\":\"bytes\",\"data\":\"DgAAAAwAAAAJAAAACQAAAAcAAAAHAAAABgAAAAYAAAAFAAAABAAAAAQAAAADAAAAAwAAAAIAAAACAAAAAgAAAAIAAAABAAAAAQAAAAEAAAABAAAAAQAAAA==\"},\"shape\":[22],\"dtype\":\"int32\",\"order\":\"little\"}]]}}},\"view\":{\"type\":\"object\",\"name\":\"CDSView\",\"id\":\"p1333\",\"attributes\":{\"filter\":{\"type\":\"object\",\"name\":\"AllIndices\",\"id\":\"p1334\"}}},\"glyph\":{\"type\":\"object\",\"name\":\"Segment\",\"id\":\"p1329\",\"attributes\":{\"x0\":{\"type\":\"field\",\"field\":\"percent correct\"},\"y0\":{\"type\":\"value\",\"value\":0},\"x1\":{\"type\":\"field\",\"field\":\"percent correct\"},\"y1\":{\"type\":\"field\",\"field\":\"__count\"},\"line_color\":{\"type\":\"value\",\"value\":\"#1f77b3\"},\"line_width\":{\"type\":\"value\",\"value\":2}}},\"nonselection_glyph\":{\"type\":\"object\",\"name\":\"Segment\",\"id\":\"p1330\",\"attributes\":{\"x0\":{\"type\":\"field\",\"field\":\"percent correct\"},\"y0\":{\"type\":\"value\",\"value\":0},\"x1\":{\"type\":\"field\",\"field\":\"percent correct\"},\"y1\":{\"type\":\"field\",\"field\":\"__count\"},\"line_color\":{\"type\":\"value\",\"value\":\"#1f77b3\"},\"line_alpha\":{\"type\":\"value\",\"value\":0.1},\"line_width\":{\"type\":\"value\",\"value\":2}}},\"muted_glyph\":{\"type\":\"object\",\"name\":\"Segment\",\"id\":\"p1331\",\"attributes\":{\"x0\":{\"type\":\"field\",\"field\":\"percent correct\"},\"y0\":{\"type\":\"value\",\"value\":0},\"x1\":{\"type\":\"field\",\"field\":\"percent correct\"},\"y1\":{\"type\":\"field\",\"field\":\"__count\"},\"line_color\":{\"type\":\"value\",\"value\":\"#1f77b3\"},\"line_alpha\":{\"type\":\"value\",\"value\":0.2},\"line_width\":{\"type\":\"value\",\"value\":2}}}}},{\"type\":\"object\",\"name\":\"GlyphRenderer\",\"id\":\"p1344\",\"attributes\":{\"data_source\":{\"type\":\"object\",\"name\":\"ColumnDataSource\",\"id\":\"p1335\",\"attributes\":{\"selected\":{\"type\":\"object\",\"name\":\"Selection\",\"id\":\"p1336\",\"attributes\":{\"indices\":[],\"line_indices\":[]}},\"selection_policy\":{\"type\":\"object\",\"name\":\"UnionRenderers\",\"id\":\"p1337\"},\"data\":{\"type\":\"map\",\"entries\":[[\"index\",{\"type\":\"ndarray\",\"array\":{\"type\":\"bytes\",\"data\":\"AAAAAAEAAAACAAAAAwAAAAQAAAAFAAAABgAAAAcAAAAIAAAACQAAAAoAAAALAAAADAAAAA0AAAAOAAAADwAAABAAAAARAAAAEgAAABMAAAAUAAAAFQAAAA==\"},\"shape\":[22],\"dtype\":\"int32\",\"order\":\"little\"}],[\"percent correct\",{\"type\":\"ndarray\",\"array\":{\"type\":\"bytes\",\"data\":\"AAAAAABAVUAAAAAAAOBVQAAAAAAAYFNAAAAAAACAVkAAAAAAACBXQAAAAAAAAFRAAAAAAAAgUkAAAAAAAIBRQAAAAAAAwFJAAAAAAABAT0AAAAAAAMBXQAAAAAAAAFlAAAAAAADgUEAAAAAAAABOQAAAAAAAQFBAAAAAAABgWEAAAAAAAKBUQAAAAAAAgEZAAAAAAADATEAAAAAAAABJQAAAAAAAAERAAAAAAACAS0A=\"},\"shape\":[22],\"dtype\":\"float64\",\"order\":\"little\"}],[\"__count\",{\"type\":\"ndarray\",\"array\":{\"type\":\"bytes\",\"data\":\"DgAAAAwAAAAJAAAACQAAAAcAAAAHAAAABgAAAAYAAAAFAAAABAAAAAQAAAADAAAAAwAAAAIAAAACAAAAAgAAAAIAAAABAAAAAQAAAAEAAAABAAAAAQAAAA==\"},\"shape\":[22],\"dtype\":\"int32\",\"order\":\"little\"}]]}}},\"view\":{\"type\":\"object\",\"name\":\"CDSView\",\"id\":\"p1345\",\"attributes\":{\"filter\":{\"type\":\"object\",\"name\":\"AllIndices\",\"id\":\"p1346\"}}},\"glyph\":{\"type\":\"object\",\"name\":\"Circle\",\"id\":\"p1341\",\"attributes\":{\"x\":{\"type\":\"field\",\"field\":\"percent correct\"},\"y\":{\"type\":\"field\",\"field\":\"__count\"},\"line_color\":{\"type\":\"value\",\"value\":\"#1f77b3\"},\"fill_color\":{\"type\":\"value\",\"value\":\"#1f77b3\"}}},\"nonselection_glyph\":{\"type\":\"object\",\"name\":\"Circle\",\"id\":\"p1342\",\"attributes\":{\"x\":{\"type\":\"field\",\"field\":\"percent correct\"},\"y\":{\"type\":\"field\",\"field\":\"__count\"},\"line_color\":{\"type\":\"value\",\"value\":\"#1f77b3\"},\"line_alpha\":{\"type\":\"value\",\"value\":0.1},\"fill_color\":{\"type\":\"value\",\"value\":\"#1f77b3\"},\"fill_alpha\":{\"type\":\"value\",\"value\":0.1},\"hatch_alpha\":{\"type\":\"value\",\"value\":0.1}}},\"muted_glyph\":{\"type\":\"object\",\"name\":\"Circle\",\"id\":\"p1343\",\"attributes\":{\"x\":{\"type\":\"field\",\"field\":\"percent correct\"},\"y\":{\"type\":\"field\",\"field\":\"__count\"},\"line_color\":{\"type\":\"value\",\"value\":\"#1f77b3\"},\"line_alpha\":{\"type\":\"value\",\"value\":0.2},\"fill_color\":{\"type\":\"value\",\"value\":\"#1f77b3\"},\"fill_alpha\":{\"type\":\"value\",\"value\":0.2},\"hatch_alpha\":{\"type\":\"value\",\"value\":0.2}}}}}],\"toolbar\":{\"type\":\"object\",\"name\":\"Toolbar\",\"id\":\"p1303\",\"attributes\":{\"tools\":[{\"type\":\"object\",\"name\":\"PanTool\",\"id\":\"p1316\"},{\"type\":\"object\",\"name\":\"WheelZoomTool\",\"id\":\"p1317\"},{\"type\":\"object\",\"name\":\"BoxZoomTool\",\"id\":\"p1318\",\"attributes\":{\"overlay\":{\"type\":\"object\",\"name\":\"BoxAnnotation\",\"id\":\"p1319\",\"attributes\":{\"syncable\":false,\"level\":\"overlay\",\"visible\":false,\"left_units\":\"canvas\",\"right_units\":\"canvas\",\"bottom_units\":\"canvas\",\"top_units\":\"canvas\",\"line_color\":\"black\",\"line_alpha\":1.0,\"line_width\":2,\"line_dash\":[4,4],\"fill_color\":\"lightgrey\",\"fill_alpha\":0.5}}}},{\"type\":\"object\",\"name\":\"SaveTool\",\"id\":\"p1320\"},{\"type\":\"object\",\"name\":\"ResetTool\",\"id\":\"p1321\"},{\"type\":\"object\",\"name\":\"HelpTool\",\"id\":\"p1322\"}]}},\"toolbar_location\":\"above\",\"left\":[{\"type\":\"object\",\"name\":\"LinearAxis\",\"id\":\"p1311\",\"attributes\":{\"ticker\":{\"type\":\"object\",\"name\":\"BasicTicker\",\"id\":\"p1312\",\"attributes\":{\"mantissas\":[1,2,5]}},\"formatter\":{\"type\":\"object\",\"name\":\"BasicTickFormatter\",\"id\":\"p1313\"},\"axis_label\":\"count\",\"major_label_policy\":{\"type\":\"object\",\"name\":\"AllLabels\",\"id\":\"p1314\"}}}],\"below\":[{\"type\":\"object\",\"name\":\"LinearAxis\",\"id\":\"p1306\",\"attributes\":{\"ticker\":{\"type\":\"object\",\"name\":\"BasicTicker\",\"id\":\"p1307\",\"attributes\":{\"mantissas\":[1,2,5]}},\"formatter\":{\"type\":\"object\",\"name\":\"BasicTickFormatter\",\"id\":\"p1308\"},\"axis_label\":\"percent correct\",\"major_label_policy\":{\"type\":\"object\",\"name\":\"AllLabels\",\"id\":\"p1309\"}}}],\"center\":[{\"type\":\"object\",\"name\":\"Grid\",\"id\":\"p1310\",\"attributes\":{\"axis\":{\"id\":\"p1306\"}}},{\"type\":\"object\",\"name\":\"Grid\",\"id\":\"p1315\",\"attributes\":{\"dimension\":1,\"axis\":{\"id\":\"p1311\"}}}],\"frame_width\":375,\"frame_height\":275}}]}};\n",
       "  const render_items = [{\"docid\":\"cbea95d8-a324-46bc-935e-df3961e6488b\",\"roots\":{\"p1295\":\"d81d2472-7568-41c0-be12-3e8396131cfd\"},\"root_ids\":[\"p1295\"]}];\n",
       "  root.Bokeh.embed.embed_items_notebook(docs_json, render_items);\n",
       "  }\n",
       "  if (root.Bokeh !== undefined) {\n",
       "    embed_document(root);\n",
       "  } else {\n",
       "    let attempts = 0;\n",
       "    const timer = setInterval(function(root) {\n",
       "      if (root.Bokeh !== undefined) {\n",
       "        clearInterval(timer);\n",
       "        embed_document(root);\n",
       "      } else {\n",
       "        attempts++;\n",
       "        if (attempts > 100) {\n",
       "          clearInterval(timer);\n",
       "          console.log(\"Bokeh: ERROR: Unable to run BokehJS code because BokehJS library is missing\");\n",
       "        }\n",
       "      }\n",
       "    }, 10, root)\n",
       "  }\n",
       "})(window);"
      ],
      "application/vnd.bokehjs_exec.v0+json": ""
     },
     "metadata": {
      "application/vnd.bokehjs_exec.v0+json": {
       "id": "p1295"
      }
     },
     "output_type": "display_data"
    }
   ],
   "source": [
    "p = iqplot.spike(df, \"percent correct\")\n",
    "\n",
    "bokeh.io.show(p)"
   ]
  },
  {
   "cell_type": "markdown",
   "metadata": {},
   "source": [
    "Each spike rises to the number of times a given value was measured.\n",
    "\n",
    "Spike plots fail, however, when the measurements do not take on discrete values. To demonstrated, we will add random noise to the percent correct data and try replotting. (We will learn about random number generation with NumPy in a future lesson. For now, this is for purposes of discussing plotting options.)"
   ]
  },
  {
   "cell_type": "code",
   "execution_count": 10,
   "metadata": {},
   "outputs": [
    {
     "data": {
      "text/html": [
       "\n",
       "  <div id=\"e3b692ed-d48d-469d-a09d-da7e9bee5dd8\" data-root-id=\"p1354\" style=\"display: contents;\"></div>\n"
      ]
     },
     "metadata": {},
     "output_type": "display_data"
    },
    {
     "data": {
      "application/javascript": [
       "(function(root) {\n",
       "  function embed_document(root) {\n",
       "  const docs_json = {\"8894ca8c-0528-4957-ac04-349508ad7d42\":{\"version\":\"3.2.1\",\"title\":\"Bokeh Application\",\"roots\":[{\"type\":\"object\",\"name\":\"Figure\",\"id\":\"p1354\",\"attributes\":{\"x_range\":{\"type\":\"object\",\"name\":\"DataRange1d\",\"id\":\"p1356\"},\"y_range\":{\"type\":\"object\",\"name\":\"FactorRange\",\"id\":\"p1353\",\"attributes\":{\"factors\":[\" \"]}},\"x_scale\":{\"type\":\"object\",\"name\":\"LinearScale\",\"id\":\"p1363\"},\"y_scale\":{\"type\":\"object\",\"name\":\"CategoricalScale\",\"id\":\"p1364\"},\"title\":{\"type\":\"object\",\"name\":\"Title\",\"id\":\"p1361\"},\"renderers\":[{\"type\":\"object\",\"name\":\"GlyphRenderer\",\"id\":\"p1393\",\"attributes\":{\"name\":\"hover_glyphs\",\"data_source\":{\"type\":\"object\",\"name\":\"ColumnDataSource\",\"id\":\"p1384\",\"attributes\":{\"selected\":{\"type\":\"object\",\"name\":\"Selection\",\"id\":\"p1385\",\"attributes\":{\"indices\":[],\"line_indices\":[]}},\"selection_policy\":{\"type\":\"object\",\"name\":\"UnionRenderers\",\"id\":\"p1386\"},\"data\":{\"type\":\"map\",\"entries\":[[\"percent correct with noise\",[72.58123258195452,89.81737142978955,92.85683599169035,87.23772351392863,62.30621643771576,49.72763180605237,81.55829062642808,66.38964170802944,90.58194650287476,75.12907777266707,62.57187722621383,95.05408021427245,80.18055684513108,80.9316504098314,64.41336599143965,70.5006027584714,69.14473423999503,80.84794904037325,84.39300442372956,74.99061289306945,70.00140938121102,97.19357447944982,87.71656820828683,45.293361454546805,70.10941664329496,72.19564899772197,84.79127995880854,75.30600154905552,67.64108591188133,95.88891206641406,87.7381293821667,92.01616066918231,89.68910046425589,99.97666291024152,70.17208680673679,85.43508943790982,78.04855004864076,91.6311390742402,85.95114426231024,57.96709501442258,93.03010632177113,64.65717104465759,95.19070392153823,77.71761883883629,80.10998140836722,90.07108784886451,79.96112636350541,86.56006927530058,93.18065368330528,75.592849168708,66.970488595584,77.83989300347885,72.70632139832522,72.89272986980457,84.34942625491087,86.94446708900668,87.9489114678608,89.50174921359888,87.8815456129715,80.56179253837304,89.8243603032853,80.94660353502013,84.80595528349129,84.60443900831474,78.11103943065596,84.63337843754128,85.46058727213207,84.82032083812592,77.63760328177744,90.3305853257269,99.32183547553497,84.68103072181647,87.48977614310111,97.76056843080632,92.61682537744332,99.91894691055228,60.535676885056596,94.77890666858423,77.62584072243605,77.38616087279124,82.52844090054987,39.6080995107165,86.87798317674957,84.67117569025804,87.16123114352874,78.01605757390713,63.037247969386065,72.43868226459969,85.04191772922124,92.47094595826492,85.20871043798589,72.14584596701725,89.37936293502015,89.22894991229857,55.66992252609702,87.36040451745959,59.69703225374708,78.19297509660632,86.92678304649485,75.6590180118935,69.64649479149294,62.98300296176601]],[\"__dummy_cat\",[\" \",\" \",\" \",\" \",\" \",\" \",\" \",\" \",\" \",\" \",\" \",\" \",\" \",\" \",\" \",\" \",\" \",\" \",\" \",\" \",\" \",\" \",\" \",\" \",\" \",\" \",\" \",\" \",\" \",\" \",\" \",\" \",\" \",\" \",\" \",\" \",\" \",\" \",\" \",\" \",\" \",\" \",\" \",\" \",\" \",\" \",\" \",\" \",\" \",\" \",\" \",\" \",\" \",\" \",\" \",\" \",\" \",\" \",\" \",\" \",\" \",\" \",\" \",\" \",\" \",\" \",\" \",\" \",\" \",\" \",\" \",\" \",\" \",\" \",\" \",\" \",\" \",\" \",\" \",\" \",\" \",\" \",\" \",\" \",\" \",\" \",\" \",\" \",\" \",\" \",\" \",\" \",\" \",\" \",\" \",\" \",\" \",\" \",\" \",\" \",\" \",\" \"]],[\"cat\",[\" \",\" \",\" \",\" \",\" \",\" \",\" \",\" \",\" \",\" \",\" \",\" \",\" \",\" \",\" \",\" \",\" \",\" \",\" \",\" \",\" \",\" \",\" \",\" \",\" \",\" \",\" \",\" \",\" \",\" \",\" \",\" \",\" \",\" \",\" \",\" \",\" \",\" \",\" \",\" \",\" \",\" \",\" \",\" \",\" \",\" \",\" \",\" \",\" \",\" \",\" \",\" \",\" \",\" \",\" \",\" \",\" \",\" \",\" \",\" \",\" \",\" \",\" \",\" \",\" \",\" \",\" \",\" \",\" \",\" \",\" \",\" \",\" \",\" \",\" \",\" \",\" \",\" \",\" \",\" \",\" \",\" \",\" \",\" \",\" \",\" \",\" \",\" \",\" \",\" \",\" \",\" \",\" \",\" \",\" \",\" \",\" \",\" \",\" \",\" \",\" \",\" \"]],[\"__label\",[\" \",\" \",\" \",\" \",\" \",\" \",\" \",\" \",\" \",\" \",\" \",\" \",\" \",\" \",\" \",\" \",\" \",\" \",\" \",\" \",\" \",\" \",\" \",\" \",\" \",\" \",\" \",\" \",\" \",\" \",\" \",\" \",\" \",\" \",\" \",\" \",\" \",\" \",\" \",\" \",\" \",\" \",\" \",\" \",\" \",\" \",\" \",\" \",\" \",\" \",\" \",\" \",\" \",\" \",\" \",\" \",\" \",\" \",\" \",\" \",\" \",\" \",\" \",\" \",\" \",\" \",\" \",\" \",\" \",\" \",\" \",\" \",\" \",\" \",\" \",\" \",\" \",\" \",\" \",\" \",\" \",\" \",\" \",\" \",\" \",\" \",\" \",\" \",\" \",\" \",\" \",\" \",\" \",\" \",\" \",\" \",\" \",\" \",\" \",\" \",\" \",\" \"]],[\"__swarm\",[[\" \",-0.09493056387399804],[\" \",0.09428289430807268],[\" \",-0.02916243744485179],[\" \",0.12259206866141215],[\" \",0.0],[\" \",0.0],[\" \",-0.01426426244732792],[\" \",0.0],[\" \",0.025398850269744512],[\" \",-0.04938480220502418],[\" \",-0.04769626545267138],[\" \",-0.04752396082563301],[\" \",0.04844017083217444],[\" \",0.07491560523240297],[\" \",0.0],[\" \",0.10711565612411704],[\" \",0.0],[\" \",0.01558325545740976],[\" \",-0.04993940222340743],[\" \",0.0],[\" \",0.012633774917081817],[\" \",0.0],[\" \",0.04159942870743931],[\" \",0.0],[\" \",0.06226036475526345],[\" \",-0.049920839057747066],[\" \",0.14705299867947674],[\" \",0.04672033232090766],[\" \",-0.00508888202562388],[\" \",0.013516081499801996],[\" \",0.16384074607699542],[\" \",-0.045025064100504414],[\" \",-0.09611397714169265],[\" \",0.03365348499205615],[\" \",-0.08143354059270883],[\" \",-0.060393594758815616],[\" \",-0.14524177629364393],[\" \",0.0],[\" \",0.015187735872350651],[\" \",0.0],[\" \",-0.07819566794080068],[\" \",-0.04806706290706729],[\" \",0.044263052519965894],[\" \",0.09773683334102212],[\" \",-0.04928832053560081],[\" \",-0.015439169871437688],[\" \",0.0],[\" \",-0.02111032348861346],[\" \",0.10370695277506037],[\" \",-0.09197700684087753],[\" \",-0.0377370227300743],[\" \",-0.09665003041794996],[\" \",0.09484713180223053],[\" \",-0.14173407716430392],[\" \",0.0],[\" \",0.07541423991184523],[\" \",0.089847191208358],[\" \",0.04756759211049153],[\" \",-0.05542759720677222],[\" \",-0.0922885236794944],[\" \",0.14428133663394319],[\" \",0.1249084742331274],[\" \",-0.1969043957279645],[\" \",0.047881249693281766],[\" \",0.19452238194858715],[\" \",0.0978545349231315],[\" \",0.06062841335911595],[\" \",0.19702609622787018],[\" \",0.04794142776903477],[\" \",-0.1305772121982537],[\" \",0.0],[\" \",-0.1474045786616502],[\" \",-0.010588544874114812],[\" \",-0.0384030100037988],[\" \",0.06515559574692723],[\" \",-0.036918624412706665],[\" \",-0.01603409425498574],[\" \",0.0],[\" \",-0.04813317906698744],[\" \",0.0],[\" \",0.0],[\" \",0.0],[\" \",0.02555539680405919],[\" \",-0.09740767597378114],[\" \",-0.11483544463838026],[\" \",0.14481091241413777],[\" \",0.08214436239041653],[\" \",0.04718615015172176],[\" \",-0.2450961126968422],[\" \",0.015838911324464054],[\" \",-0.012055498870525157],[\" \",0.0],[\" \",-0.04927323469215655],[\" \",0.0],[\" \",0.0],[\" \",-0.1635539419916248],[\" \",0.0],[\" \",-0.1945721097059575],[\" \",-0.06662016362371158],[\" \",0.09257427382104594],[\" \",-0.041196164079838594],[\" \",0.032238287808485644]]]]}}},\"view\":{\"type\":\"object\",\"name\":\"CDSView\",\"id\":\"p1394\",\"attributes\":{\"filter\":{\"type\":\"object\",\"name\":\"AllIndices\",\"id\":\"p1395\"}}},\"glyph\":{\"type\":\"object\",\"name\":\"Circle\",\"id\":\"p1390\",\"attributes\":{\"x\":{\"type\":\"field\",\"field\":\"percent correct with noise\"},\"y\":{\"type\":\"field\",\"field\":\"__swarm\"},\"line_color\":{\"type\":\"field\",\"field\":\"cat\",\"transform\":{\"type\":\"object\",\"name\":\"CategoricalColorMapper\",\"id\":\"p1383\",\"attributes\":{\"palette\":[\"#1f77b3\",\"#ff7e0e\",\"#2ba02b\",\"#d62628\",\"#9367bc\",\"#8c564b\",\"#e277c1\",\"#7e7e7e\",\"#bcbc21\",\"#16bdcf\",\"#3a0182\",\"#004201\",\"#0fffa8\",\"#5d003f\",\"#bcbcff\",\"#d8afa1\",\"#b80080\",\"#004d52\",\"#6b6400\",\"#7c0100\",\"#6026ff\",\"#ffff9a\",\"#564964\",\"#8cb893\",\"#93fbff\",\"#018267\",\"#90ff00\",\"#8200a0\",\"#ac8944\",\"#5b3400\",\"#ffbff2\",\"#ff6e75\",\"#798cff\",\"#dd00ff\",\"#505646\",\"#004489\",\"#ffbf60\",\"#ff018c\",\"#bdc8cf\",\"#af97b5\",\"#b65600\",\"#017000\",\"#cd87ff\",\"#1cd646\",\"#bfebc3\",\"#7997b5\",\"#a56089\",\"#6e8956\",\"#bc7c75\",\"#8a2844\",\"#00acff\",\"#8ed4ff\",\"#4b6d77\",\"#00d4b1\",\"#9300f2\",\"#8a9500\",\"#5d5b9e\",\"#fddfba\",\"#00939e\",\"#ffdb00\",\"#00aa79\",\"#520067\",\"#000091\",\"#0a5d3d\",\"#a5e275\",\"#623b41\",\"#c6c689\",\"#ff9eb5\",\"#cd4f6b\",\"#ff07d6\",\"#8a3a05\",\"#7e3d70\",\"#ff4901\",\"#602ba5\",\"#1c00ff\",\"#e6dfff\",\"#aa3baf\",\"#d89c00\",\"#a3a39e\",\"#3f69ff\",\"#46490c\",\"#7b6985\",\"#6b978c\",\"#ff9a75\",\"#835bff\",\"#7c6b46\",\"#80b654\",\"#bc0049\",\"#fd93ff\",\"#5d0018\",\"#89d1d1\",\"#9c8cd3\",\"#da6d42\",\"#8a5700\",\"#3b5069\",\"#4b6b3b\",\"#edcfd8\",\"#cfedff\",\"#aa1500\",\"#dfff4f\",\"#ff2a56\",\"#d1499e\",\"#707cb8\",\"#598000\",\"#00e4fd\",\"#774b95\",\"#67d48c\",\"#3d3a72\",\"#ac413f\",\"#d6a166\",\"#c169cd\",\"#69595d\",\"#87aced\",\"#a0a569\",\"#d1aae6\",\"#870062\",\"#00fddb\",\"#672818\",\"#b342ff\",\"#0e59c4\",\"#168742\",\"#90d300\",\"#cd7900\",\"#f959ff\",\"#5b7466\",\"#8eaeb3\",\"#9c7c8c\",\"#4600c6\",\"#6b4d2d\",\"#a56d46\",\"#9e8972\",\"#a8afca\",\"#cd8ca7\",\"#00fd64\",\"#917900\",\"#ff62a1\",\"#f4ffd8\",\"#018cf0\",\"#13aca0\",\"#5b2d59\",\"#89859e\",\"#cfccba\",\"#d4afc4\",\"#dbdd6d\",\"#cffff4\",\"#006485\",\"#006962\",\"#a84167\",\"#2d97c4\",\"#a874ff\",\"#26ba5d\",\"#57b600\",\"#caffa7\",\"#a379aa\",\"#ffbc93\",\"#89e2c1\",\"#0fc8ff\",\"#d400c4\",\"#626d89\",\"#69858e\",\"#4b4d52\",\"#aa6067\",\"#79b5d4\",\"#2b5916\",\"#9a0024\",\"#bdd1f2\",\"#896e67\",\"#69a56b\",\"#855467\",\"#aecdba\",\"#87997e\",\"#cadb00\",\"#9a0390\",\"#ebbc1a\",\"#eb9cd1\",\"#70006e\",\"#b1a131\",\"#ca6b93\",\"#4146a3\",\"#e48c89\",\"#d44400\",\"#c68aca\",\"#b69597\",\"#d41f75\",\"#724bcc\",\"#674d00\",\"#672138\",\"#38564f\",\"#6ebaaa\",\"#853a31\",\"#a5d397\",\"#b8af8e\",\"#d8e4df\",\"#aa00df\",\"#cac1db\",\"#ffdf8c\",\"#e2524d\",\"#66696e\",\"#ff001c\",\"#522d72\",\"#4d906b\",\"#a86d11\",\"#ff9e26\",\"#5ea3af\",\"#c88556\",\"#915997\",\"#a3a1ff\",\"#fdbaba\",\"#242a87\",\"#dbe6a8\",\"#97f2a7\",\"#6793d6\",\"#ba5b3f\",\"#3a5d91\",\"#364f2f\",\"#267c95\",\"#89959a\",\"#cfb356\",\"#004664\",\"#5e5d2f\",\"#8e8e41\",\"#ac3f13\",\"#69953b\",\"#a13d85\",\"#bfb6ba\",\"#acc667\",\"#6469cf\",\"#91af00\",\"#2be2da\",\"#016e36\",\"#ff7952\",\"#42807e\",\"#4fe800\",\"#995428\",\"#5d0a00\",\"#a30057\",\"#0c8700\",\"#5982a7\",\"#ffebfb\",\"#4b6901\",\"#8775d4\",\"#e6c6ff\",\"#a5ffda\",\"#d86e77\",\"#df014b\",\"#69675b\",\"#776ba1\",\"#7e8067\",\"#594685\",\"#0000ca\",\"#7c002a\",\"#97ff72\",\"#b5e2e1\",\"#db52c8\",\"#777734\",\"#57bd8e\"],\"factors\":[\" \"]}}},\"fill_color\":{\"type\":\"field\",\"field\":\"cat\",\"transform\":{\"type\":\"object\",\"name\":\"CategoricalColorMapper\",\"id\":\"p1382\",\"attributes\":{\"palette\":[\"#1f77b3\",\"#ff7e0e\",\"#2ba02b\",\"#d62628\",\"#9367bc\",\"#8c564b\",\"#e277c1\",\"#7e7e7e\",\"#bcbc21\",\"#16bdcf\",\"#3a0182\",\"#004201\",\"#0fffa8\",\"#5d003f\",\"#bcbcff\",\"#d8afa1\",\"#b80080\",\"#004d52\",\"#6b6400\",\"#7c0100\",\"#6026ff\",\"#ffff9a\",\"#564964\",\"#8cb893\",\"#93fbff\",\"#018267\",\"#90ff00\",\"#8200a0\",\"#ac8944\",\"#5b3400\",\"#ffbff2\",\"#ff6e75\",\"#798cff\",\"#dd00ff\",\"#505646\",\"#004489\",\"#ffbf60\",\"#ff018c\",\"#bdc8cf\",\"#af97b5\",\"#b65600\",\"#017000\",\"#cd87ff\",\"#1cd646\",\"#bfebc3\",\"#7997b5\",\"#a56089\",\"#6e8956\",\"#bc7c75\",\"#8a2844\",\"#00acff\",\"#8ed4ff\",\"#4b6d77\",\"#00d4b1\",\"#9300f2\",\"#8a9500\",\"#5d5b9e\",\"#fddfba\",\"#00939e\",\"#ffdb00\",\"#00aa79\",\"#520067\",\"#000091\",\"#0a5d3d\",\"#a5e275\",\"#623b41\",\"#c6c689\",\"#ff9eb5\",\"#cd4f6b\",\"#ff07d6\",\"#8a3a05\",\"#7e3d70\",\"#ff4901\",\"#602ba5\",\"#1c00ff\",\"#e6dfff\",\"#aa3baf\",\"#d89c00\",\"#a3a39e\",\"#3f69ff\",\"#46490c\",\"#7b6985\",\"#6b978c\",\"#ff9a75\",\"#835bff\",\"#7c6b46\",\"#80b654\",\"#bc0049\",\"#fd93ff\",\"#5d0018\",\"#89d1d1\",\"#9c8cd3\",\"#da6d42\",\"#8a5700\",\"#3b5069\",\"#4b6b3b\",\"#edcfd8\",\"#cfedff\",\"#aa1500\",\"#dfff4f\",\"#ff2a56\",\"#d1499e\",\"#707cb8\",\"#598000\",\"#00e4fd\",\"#774b95\",\"#67d48c\",\"#3d3a72\",\"#ac413f\",\"#d6a166\",\"#c169cd\",\"#69595d\",\"#87aced\",\"#a0a569\",\"#d1aae6\",\"#870062\",\"#00fddb\",\"#672818\",\"#b342ff\",\"#0e59c4\",\"#168742\",\"#90d300\",\"#cd7900\",\"#f959ff\",\"#5b7466\",\"#8eaeb3\",\"#9c7c8c\",\"#4600c6\",\"#6b4d2d\",\"#a56d46\",\"#9e8972\",\"#a8afca\",\"#cd8ca7\",\"#00fd64\",\"#917900\",\"#ff62a1\",\"#f4ffd8\",\"#018cf0\",\"#13aca0\",\"#5b2d59\",\"#89859e\",\"#cfccba\",\"#d4afc4\",\"#dbdd6d\",\"#cffff4\",\"#006485\",\"#006962\",\"#a84167\",\"#2d97c4\",\"#a874ff\",\"#26ba5d\",\"#57b600\",\"#caffa7\",\"#a379aa\",\"#ffbc93\",\"#89e2c1\",\"#0fc8ff\",\"#d400c4\",\"#626d89\",\"#69858e\",\"#4b4d52\",\"#aa6067\",\"#79b5d4\",\"#2b5916\",\"#9a0024\",\"#bdd1f2\",\"#896e67\",\"#69a56b\",\"#855467\",\"#aecdba\",\"#87997e\",\"#cadb00\",\"#9a0390\",\"#ebbc1a\",\"#eb9cd1\",\"#70006e\",\"#b1a131\",\"#ca6b93\",\"#4146a3\",\"#e48c89\",\"#d44400\",\"#c68aca\",\"#b69597\",\"#d41f75\",\"#724bcc\",\"#674d00\",\"#672138\",\"#38564f\",\"#6ebaaa\",\"#853a31\",\"#a5d397\",\"#b8af8e\",\"#d8e4df\",\"#aa00df\",\"#cac1db\",\"#ffdf8c\",\"#e2524d\",\"#66696e\",\"#ff001c\",\"#522d72\",\"#4d906b\",\"#a86d11\",\"#ff9e26\",\"#5ea3af\",\"#c88556\",\"#915997\",\"#a3a1ff\",\"#fdbaba\",\"#242a87\",\"#dbe6a8\",\"#97f2a7\",\"#6793d6\",\"#ba5b3f\",\"#3a5d91\",\"#364f2f\",\"#267c95\",\"#89959a\",\"#cfb356\",\"#004664\",\"#5e5d2f\",\"#8e8e41\",\"#ac3f13\",\"#69953b\",\"#a13d85\",\"#bfb6ba\",\"#acc667\",\"#6469cf\",\"#91af00\",\"#2be2da\",\"#016e36\",\"#ff7952\",\"#42807e\",\"#4fe800\",\"#995428\",\"#5d0a00\",\"#a30057\",\"#0c8700\",\"#5982a7\",\"#ffebfb\",\"#4b6901\",\"#8775d4\",\"#e6c6ff\",\"#a5ffda\",\"#d86e77\",\"#df014b\",\"#69675b\",\"#776ba1\",\"#7e8067\",\"#594685\",\"#0000ca\",\"#7c002a\",\"#97ff72\",\"#b5e2e1\",\"#db52c8\",\"#777734\",\"#57bd8e\"],\"factors\":[\" \"]}}}}},\"nonselection_glyph\":{\"type\":\"object\",\"name\":\"Circle\",\"id\":\"p1391\",\"attributes\":{\"x\":{\"type\":\"field\",\"field\":\"percent correct with noise\"},\"y\":{\"type\":\"field\",\"field\":\"__swarm\"},\"line_color\":{\"type\":\"field\",\"field\":\"cat\",\"transform\":{\"id\":\"p1383\"}},\"line_alpha\":{\"type\":\"value\",\"value\":0.1},\"fill_color\":{\"type\":\"field\",\"field\":\"cat\",\"transform\":{\"id\":\"p1382\"}},\"fill_alpha\":{\"type\":\"value\",\"value\":0.1},\"hatch_alpha\":{\"type\":\"value\",\"value\":0.1}}},\"muted_glyph\":{\"type\":\"object\",\"name\":\"Circle\",\"id\":\"p1392\",\"attributes\":{\"x\":{\"type\":\"field\",\"field\":\"percent correct with noise\"},\"y\":{\"type\":\"field\",\"field\":\"__swarm\"},\"line_color\":{\"type\":\"field\",\"field\":\"cat\",\"transform\":{\"id\":\"p1383\"}},\"line_alpha\":{\"type\":\"value\",\"value\":0.2},\"fill_color\":{\"type\":\"field\",\"field\":\"cat\",\"transform\":{\"id\":\"p1382\"}},\"fill_alpha\":{\"type\":\"value\",\"value\":0.2},\"hatch_alpha\":{\"type\":\"value\",\"value\":0.2}}}}}],\"toolbar\":{\"type\":\"object\",\"name\":\"Toolbar\",\"id\":\"p1362\",\"attributes\":{\"tools\":[{\"type\":\"object\",\"name\":\"PanTool\",\"id\":\"p1375\"},{\"type\":\"object\",\"name\":\"WheelZoomTool\",\"id\":\"p1376\"},{\"type\":\"object\",\"name\":\"BoxZoomTool\",\"id\":\"p1377\",\"attributes\":{\"overlay\":{\"type\":\"object\",\"name\":\"BoxAnnotation\",\"id\":\"p1378\",\"attributes\":{\"syncable\":false,\"level\":\"overlay\",\"visible\":false,\"left_units\":\"canvas\",\"right_units\":\"canvas\",\"bottom_units\":\"canvas\",\"top_units\":\"canvas\",\"line_color\":\"black\",\"line_alpha\":1.0,\"line_width\":2,\"line_dash\":[4,4],\"fill_color\":\"lightgrey\",\"fill_alpha\":0.5}}}},{\"type\":\"object\",\"name\":\"SaveTool\",\"id\":\"p1379\"},{\"type\":\"object\",\"name\":\"ResetTool\",\"id\":\"p1380\"},{\"type\":\"object\",\"name\":\"HelpTool\",\"id\":\"p1381\"}]}},\"toolbar_location\":\"above\",\"left\":[{\"type\":\"object\",\"name\":\"CategoricalAxis\",\"id\":\"p1370\",\"attributes\":{\"visible\":false,\"ticker\":{\"type\":\"object\",\"name\":\"CategoricalTicker\",\"id\":\"p1371\"},\"formatter\":{\"type\":\"object\",\"name\":\"CategoricalTickFormatter\",\"id\":\"p1372\"},\"major_label_policy\":{\"type\":\"object\",\"name\":\"AllLabels\",\"id\":\"p1373\"}}}],\"below\":[{\"type\":\"object\",\"name\":\"LinearAxis\",\"id\":\"p1365\",\"attributes\":{\"ticker\":{\"type\":\"object\",\"name\":\"BasicTicker\",\"id\":\"p1366\",\"attributes\":{\"mantissas\":[1,2,5]}},\"formatter\":{\"type\":\"object\",\"name\":\"BasicTickFormatter\",\"id\":\"p1367\"},\"axis_label\":\"percent correct with noise\",\"major_label_policy\":{\"type\":\"object\",\"name\":\"AllLabels\",\"id\":\"p1368\"}}}],\"center\":[{\"type\":\"object\",\"name\":\"Grid\",\"id\":\"p1369\",\"attributes\":{\"axis\":{\"id\":\"p1365\"}}},{\"type\":\"object\",\"name\":\"Grid\",\"id\":\"p1374\",\"attributes\":{\"dimension\":1,\"axis\":{\"id\":\"p1370\"},\"grid_line_color\":null}}],\"frame_width\":375,\"frame_height\":100}}]}};\n",
       "  const render_items = [{\"docid\":\"8894ca8c-0528-4957-ac04-349508ad7d42\",\"roots\":{\"p1354\":\"e3b692ed-d48d-469d-a09d-da7e9bee5dd8\"},\"root_ids\":[\"p1354\"]}];\n",
       "  root.Bokeh.embed.embed_items_notebook(docs_json, render_items);\n",
       "  }\n",
       "  if (root.Bokeh !== undefined) {\n",
       "    embed_document(root);\n",
       "  } else {\n",
       "    let attempts = 0;\n",
       "    const timer = setInterval(function(root) {\n",
       "      if (root.Bokeh !== undefined) {\n",
       "        clearInterval(timer);\n",
       "        embed_document(root);\n",
       "      } else {\n",
       "        attempts++;\n",
       "        if (attempts > 100) {\n",
       "          clearInterval(timer);\n",
       "          console.log(\"Bokeh: ERROR: Unable to run BokehJS code because BokehJS library is missing\");\n",
       "        }\n",
       "      }\n",
       "    }, 10, root)\n",
       "  }\n",
       "})(window);"
      ],
      "application/vnd.bokehjs_exec.v0+json": ""
     },
     "metadata": {
      "application/vnd.bokehjs_exec.v0+json": {
       "id": "p1354"
      }
     },
     "output_type": "display_data"
    }
   ],
   "source": [
    "# Add a bit of noise to the % correct meas. so they are no longer discrete\n",
    "rg = np.random.default_rng()\n",
    "df[\"percent correct with noise\"] = df[\"percent correct\"] + rg.normal(\n",
    "    0, 0.5, size=len(df)\n",
    ")\n",
    "\n",
    "# Replot swarm plot\n",
    "p = iqplot.strip(df, \"percent correct with noise\", frame_height=100, spread=\"swarm\")\n",
    "p.yaxis.visible = False\n",
    "\n",
    "bokeh.io.show(p)"
   ]
  },
  {
   "cell_type": "markdown",
   "metadata": {},
   "source": [
    "We can still roughly make out how the data are distributed in the swarm plot, but the spike plot adds little beyond what we would see with a strip plot sans swarm or jitter."
   ]
  },
  {
   "cell_type": "code",
   "execution_count": 11,
   "metadata": {},
   "outputs": [
    {
     "data": {
      "text/html": [
       "\n",
       "  <div id=\"f20e32b4-8878-4f02-8879-9bd434aa8f9f\" data-root-id=\"p1397\" style=\"display: contents;\"></div>\n"
      ]
     },
     "metadata": {},
     "output_type": "display_data"
    },
    {
     "data": {
      "application/javascript": [
       "(function(root) {\n",
       "  function embed_document(root) {\n",
       "  const docs_json = {\"a9c866a2-710e-4307-9aeb-91167cef14fb\":{\"version\":\"3.2.1\",\"title\":\"Bokeh Application\",\"roots\":[{\"type\":\"object\",\"name\":\"Figure\",\"id\":\"p1397\",\"attributes\":{\"x_range\":{\"type\":\"object\",\"name\":\"DataRange1d\",\"id\":\"p1399\"},\"y_range\":{\"type\":\"object\",\"name\":\"DataRange1d\",\"id\":\"p1396\",\"attributes\":{\"start\":0}},\"x_scale\":{\"type\":\"object\",\"name\":\"LinearScale\",\"id\":\"p1406\"},\"y_scale\":{\"type\":\"object\",\"name\":\"LinearScale\",\"id\":\"p1407\"},\"title\":{\"type\":\"object\",\"name\":\"Title\",\"id\":\"p1404\"},\"renderers\":[{\"type\":\"object\",\"name\":\"GlyphRenderer\",\"id\":\"p1434\",\"attributes\":{\"data_source\":{\"type\":\"object\",\"name\":\"ColumnDataSource\",\"id\":\"p1425\",\"attributes\":{\"selected\":{\"type\":\"object\",\"name\":\"Selection\",\"id\":\"p1426\",\"attributes\":{\"indices\":[],\"line_indices\":[]}},\"selection_policy\":{\"type\":\"object\",\"name\":\"UnionRenderers\",\"id\":\"p1427\"},\"data\":{\"type\":\"map\",\"entries\":[[\"index\",{\"type\":\"ndarray\",\"array\":{\"type\":\"bytes\",\"data\":\"AAAAAAEAAAACAAAAAwAAAAQAAAAFAAAABgAAAAcAAAAIAAAACQAAAAoAAAALAAAADAAAAA0AAAAOAAAADwAAABAAAAARAAAAEgAAABMAAAAUAAAAFQAAABYAAAAXAAAAGAAAABkAAAAaAAAAGwAAABwAAAAdAAAAHgAAAB8AAAAgAAAAIQAAACIAAAAjAAAAJAAAACUAAAAmAAAAJwAAACgAAAApAAAAKgAAACsAAAAsAAAALQAAAC4AAAAvAAAAMAAAADEAAAAyAAAAMwAAADQAAAA1AAAANgAAADcAAAA4AAAAOQAAADoAAAA7AAAAPAAAAD0AAAA+AAAAPwAAAEAAAABBAAAAQgAAAEMAAABEAAAARQAAAEYAAABHAAAASAAAAEkAAABKAAAASwAAAEwAAABNAAAATgAAAE8AAABQAAAAUQAAAFIAAABTAAAAVAAAAFUAAABWAAAAVwAAAFgAAABZAAAAWgAAAFsAAABcAAAAXQAAAF4AAABfAAAAYAAAAGEAAABiAAAAYwAAAGQAAABlAAAA\"},\"shape\":[102],\"dtype\":\"int32\",\"order\":\"little\"}],[\"percent correct with noise\",{\"type\":\"ndarray\",\"array\":{\"type\":\"bytes\",\"data\":\"Ubck6jIlUkD3ziBFG4dTQJDdJRF6J1dAuSs2J61wWEC9Pgl+WN9VQHlx4QGWK1VAYYfS85jUWEA2olpPKJVWQJzD/n3OaFNAmv74IoA0VUC2sAlDel1VQM/OtkWJKFVA3UjzIK8mVUBHRWcPkUROQIsoeMWUM1VAIEz+JpU8VEDJrrdRwnRWQL3csGj0I1RARWlKPmv4VUDczLuoHGBWQLxQKve6/FVAptsWJnK8VUAuTfD/XBZVQEW+dnwiOVJAROWzBtD6WEAoDVub2bFXQGDoQdBPdFZA7V4Gg1tNVUDHn7ArYGlRQK4j4lkt6lJAsMvWaVC7VUB2Nzi0WYxTQOoMV1o42U1AdPQb3hDXVUBfOHYFwNVLQKVviB2nTlZAec55e0dYVkDtpVKKVQlSQJk7hPojHldAi9c+xg1oU0AuCLPHrkJVQJ7yxl4THFJAgy2disSET0AxslgWB4FTQF4jbpxRylVA0+HhivQqVUD3pFngMLhVQNieazTWzUNAwG7I+dGhVECG6BfctlhTQGWRql40LVJALYWVzsB1U0AnyzJ8HL5QQPphCimgO1RAv5c+3oylRkB//OZA3O1VQPGkNoZjTFhAX41fFxeAUUCsrp4zZr9SQITGBvwmGVVA+UQNzEQ2VED32GZTQ0lRQAP7JuAJoFFAw6ChlnQaUEALOkw+jgtUQPLDoz3x5VJAS+rbDHbDV0Ay9d9FM0lPQLgPa89CyFJAmHeLnD6lVkA4Scbj75hQQAGLmwi7Y1RAHkP9CSPdSEBQvqgZMidPQBN0r9w2z1VAIZagZtY2V0DCJaquAIdRQIKtX4OFDFJAB0SyVKQyVUABboWHldNSQK5sd9SPS1dARDrNLNijVUARpSYYg/1TQAeBDLSMhFZAvAZ27wkHVEDn8pB37W1TQHGOOH40zFdAriskFw8qUEA72hBD7UFXQOqI+cTJ+0xAohkvjN98VUC4xSSVZOhWQGfIqXEbg1NAGKpegdhbVUB8wGF4A4tRQAatJqWB/lhAzGjVOBpsVkCmZ8LGCAFXQNonBYM971VAKpFv7+P4V0A6XTSNB+lQQP1TggrTfU9A\"},\"shape\":[102],\"dtype\":\"float64\",\"order\":\"little\"}],[\"__count\",{\"type\":\"ndarray\",\"array\":{\"type\":\"bytes\",\"data\":\"AQAAAAEAAAABAAAAAQAAAAEAAAABAAAAAQAAAAEAAAABAAAAAQAAAAEAAAABAAAAAQAAAAEAAAABAAAAAQAAAAEAAAABAAAAAQAAAAEAAAABAAAAAQAAAAEAAAABAAAAAQAAAAEAAAABAAAAAQAAAAEAAAABAAAAAQAAAAEAAAABAAAAAQAAAAEAAAABAAAAAQAAAAEAAAABAAAAAQAAAAEAAAABAAAAAQAAAAEAAAABAAAAAQAAAAEAAAABAAAAAQAAAAEAAAABAAAAAQAAAAEAAAABAAAAAQAAAAEAAAABAAAAAQAAAAEAAAABAAAAAQAAAAEAAAABAAAAAQAAAAEAAAABAAAAAQAAAAEAAAABAAAAAQAAAAEAAAABAAAAAQAAAAEAAAABAAAAAQAAAAEAAAABAAAAAQAAAAEAAAABAAAAAQAAAAEAAAABAAAAAQAAAAEAAAABAAAAAQAAAAEAAAABAAAAAQAAAAEAAAABAAAAAQAAAAEAAAABAAAAAQAAAAEAAAABAAAAAQAAAAEAAAABAAAA\"},\"shape\":[102],\"dtype\":\"int32\",\"order\":\"little\"}]]}}},\"view\":{\"type\":\"object\",\"name\":\"CDSView\",\"id\":\"p1435\",\"attributes\":{\"filter\":{\"type\":\"object\",\"name\":\"AllIndices\",\"id\":\"p1436\"}}},\"glyph\":{\"type\":\"object\",\"name\":\"Segment\",\"id\":\"p1431\",\"attributes\":{\"x0\":{\"type\":\"field\",\"field\":\"percent correct with noise\"},\"y0\":{\"type\":\"value\",\"value\":0},\"x1\":{\"type\":\"field\",\"field\":\"percent correct with noise\"},\"y1\":{\"type\":\"field\",\"field\":\"__count\"},\"line_color\":{\"type\":\"value\",\"value\":\"#1f77b3\"},\"line_width\":{\"type\":\"value\",\"value\":2}}},\"nonselection_glyph\":{\"type\":\"object\",\"name\":\"Segment\",\"id\":\"p1432\",\"attributes\":{\"x0\":{\"type\":\"field\",\"field\":\"percent correct with noise\"},\"y0\":{\"type\":\"value\",\"value\":0},\"x1\":{\"type\":\"field\",\"field\":\"percent correct with noise\"},\"y1\":{\"type\":\"field\",\"field\":\"__count\"},\"line_color\":{\"type\":\"value\",\"value\":\"#1f77b3\"},\"line_alpha\":{\"type\":\"value\",\"value\":0.1},\"line_width\":{\"type\":\"value\",\"value\":2}}},\"muted_glyph\":{\"type\":\"object\",\"name\":\"Segment\",\"id\":\"p1433\",\"attributes\":{\"x0\":{\"type\":\"field\",\"field\":\"percent correct with noise\"},\"y0\":{\"type\":\"value\",\"value\":0},\"x1\":{\"type\":\"field\",\"field\":\"percent correct with noise\"},\"y1\":{\"type\":\"field\",\"field\":\"__count\"},\"line_color\":{\"type\":\"value\",\"value\":\"#1f77b3\"},\"line_alpha\":{\"type\":\"value\",\"value\":0.2},\"line_width\":{\"type\":\"value\",\"value\":2}}}}},{\"type\":\"object\",\"name\":\"GlyphRenderer\",\"id\":\"p1446\",\"attributes\":{\"data_source\":{\"type\":\"object\",\"name\":\"ColumnDataSource\",\"id\":\"p1437\",\"attributes\":{\"selected\":{\"type\":\"object\",\"name\":\"Selection\",\"id\":\"p1438\",\"attributes\":{\"indices\":[],\"line_indices\":[]}},\"selection_policy\":{\"type\":\"object\",\"name\":\"UnionRenderers\",\"id\":\"p1439\"},\"data\":{\"type\":\"map\",\"entries\":[[\"index\",{\"type\":\"ndarray\",\"array\":{\"type\":\"bytes\",\"data\":\"AAAAAAEAAAACAAAAAwAAAAQAAAAFAAAABgAAAAcAAAAIAAAACQAAAAoAAAALAAAADAAAAA0AAAAOAAAADwAAABAAAAARAAAAEgAAABMAAAAUAAAAFQAAABYAAAAXAAAAGAAAABkAAAAaAAAAGwAAABwAAAAdAAAAHgAAAB8AAAAgAAAAIQAAACIAAAAjAAAAJAAAACUAAAAmAAAAJwAAACgAAAApAAAAKgAAACsAAAAsAAAALQAAAC4AAAAvAAAAMAAAADEAAAAyAAAAMwAAADQAAAA1AAAANgAAADcAAAA4AAAAOQAAADoAAAA7AAAAPAAAAD0AAAA+AAAAPwAAAEAAAABBAAAAQgAAAEMAAABEAAAARQAAAEYAAABHAAAASAAAAEkAAABKAAAASwAAAEwAAABNAAAATgAAAE8AAABQAAAAUQAAAFIAAABTAAAAVAAAAFUAAABWAAAAVwAAAFgAAABZAAAAWgAAAFsAAABcAAAAXQAAAF4AAABfAAAAYAAAAGEAAABiAAAAYwAAAGQAAABlAAAA\"},\"shape\":[102],\"dtype\":\"int32\",\"order\":\"little\"}],[\"percent correct with noise\",{\"type\":\"ndarray\",\"array\":{\"type\":\"bytes\",\"data\":\"Ubck6jIlUkD3ziBFG4dTQJDdJRF6J1dAuSs2J61wWEC9Pgl+WN9VQHlx4QGWK1VAYYfS85jUWEA2olpPKJVWQJzD/n3OaFNAmv74IoA0VUC2sAlDel1VQM/OtkWJKFVA3UjzIK8mVUBHRWcPkUROQIsoeMWUM1VAIEz+JpU8VEDJrrdRwnRWQL3csGj0I1RARWlKPmv4VUDczLuoHGBWQLxQKve6/FVAptsWJnK8VUAuTfD/XBZVQEW+dnwiOVJAROWzBtD6WEAoDVub2bFXQGDoQdBPdFZA7V4Gg1tNVUDHn7ArYGlRQK4j4lkt6lJAsMvWaVC7VUB2Nzi0WYxTQOoMV1o42U1AdPQb3hDXVUBfOHYFwNVLQKVviB2nTlZAec55e0dYVkDtpVKKVQlSQJk7hPojHldAi9c+xg1oU0AuCLPHrkJVQJ7yxl4THFJAgy2disSET0AxslgWB4FTQF4jbpxRylVA0+HhivQqVUD3pFngMLhVQNieazTWzUNAwG7I+dGhVECG6BfctlhTQGWRql40LVJALYWVzsB1U0AnyzJ8HL5QQPphCimgO1RAv5c+3oylRkB//OZA3O1VQPGkNoZjTFhAX41fFxeAUUCsrp4zZr9SQITGBvwmGVVA+UQNzEQ2VED32GZTQ0lRQAP7JuAJoFFAw6ChlnQaUEALOkw+jgtUQPLDoz3x5VJAS+rbDHbDV0Ay9d9FM0lPQLgPa89CyFJAmHeLnD6lVkA4Scbj75hQQAGLmwi7Y1RAHkP9CSPdSEBQvqgZMidPQBN0r9w2z1VAIZagZtY2V0DCJaquAIdRQIKtX4OFDFJAB0SyVKQyVUABboWHldNSQK5sd9SPS1dARDrNLNijVUARpSYYg/1TQAeBDLSMhFZAvAZ27wkHVEDn8pB37W1TQHGOOH40zFdAriskFw8qUEA72hBD7UFXQOqI+cTJ+0xAohkvjN98VUC4xSSVZOhWQGfIqXEbg1NAGKpegdhbVUB8wGF4A4tRQAatJqWB/lhAzGjVOBpsVkCmZ8LGCAFXQNonBYM971VAKpFv7+P4V0A6XTSNB+lQQP1TggrTfU9A\"},\"shape\":[102],\"dtype\":\"float64\",\"order\":\"little\"}],[\"__count\",{\"type\":\"ndarray\",\"array\":{\"type\":\"bytes\",\"data\":\"AQAAAAEAAAABAAAAAQAAAAEAAAABAAAAAQAAAAEAAAABAAAAAQAAAAEAAAABAAAAAQAAAAEAAAABAAAAAQAAAAEAAAABAAAAAQAAAAEAAAABAAAAAQAAAAEAAAABAAAAAQAAAAEAAAABAAAAAQAAAAEAAAABAAAAAQAAAAEAAAABAAAAAQAAAAEAAAABAAAAAQAAAAEAAAABAAAAAQAAAAEAAAABAAAAAQAAAAEAAAABAAAAAQAAAAEAAAABAAAAAQAAAAEAAAABAAAAAQAAAAEAAAABAAAAAQAAAAEAAAABAAAAAQAAAAEAAAABAAAAAQAAAAEAAAABAAAAAQAAAAEAAAABAAAAAQAAAAEAAAABAAAAAQAAAAEAAAABAAAAAQAAAAEAAAABAAAAAQAAAAEAAAABAAAAAQAAAAEAAAABAAAAAQAAAAEAAAABAAAAAQAAAAEAAAABAAAAAQAAAAEAAAABAAAAAQAAAAEAAAABAAAAAQAAAAEAAAABAAAAAQAAAAEAAAABAAAAAQAAAAEAAAABAAAA\"},\"shape\":[102],\"dtype\":\"int32\",\"order\":\"little\"}]]}}},\"view\":{\"type\":\"object\",\"name\":\"CDSView\",\"id\":\"p1447\",\"attributes\":{\"filter\":{\"type\":\"object\",\"name\":\"AllIndices\",\"id\":\"p1448\"}}},\"glyph\":{\"type\":\"object\",\"name\":\"Circle\",\"id\":\"p1443\",\"attributes\":{\"x\":{\"type\":\"field\",\"field\":\"percent correct with noise\"},\"y\":{\"type\":\"field\",\"field\":\"__count\"},\"line_color\":{\"type\":\"value\",\"value\":\"#1f77b3\"},\"fill_color\":{\"type\":\"value\",\"value\":\"#1f77b3\"}}},\"nonselection_glyph\":{\"type\":\"object\",\"name\":\"Circle\",\"id\":\"p1444\",\"attributes\":{\"x\":{\"type\":\"field\",\"field\":\"percent correct with noise\"},\"y\":{\"type\":\"field\",\"field\":\"__count\"},\"line_color\":{\"type\":\"value\",\"value\":\"#1f77b3\"},\"line_alpha\":{\"type\":\"value\",\"value\":0.1},\"fill_color\":{\"type\":\"value\",\"value\":\"#1f77b3\"},\"fill_alpha\":{\"type\":\"value\",\"value\":0.1},\"hatch_alpha\":{\"type\":\"value\",\"value\":0.1}}},\"muted_glyph\":{\"type\":\"object\",\"name\":\"Circle\",\"id\":\"p1445\",\"attributes\":{\"x\":{\"type\":\"field\",\"field\":\"percent correct with noise\"},\"y\":{\"type\":\"field\",\"field\":\"__count\"},\"line_color\":{\"type\":\"value\",\"value\":\"#1f77b3\"},\"line_alpha\":{\"type\":\"value\",\"value\":0.2},\"fill_color\":{\"type\":\"value\",\"value\":\"#1f77b3\"},\"fill_alpha\":{\"type\":\"value\",\"value\":0.2},\"hatch_alpha\":{\"type\":\"value\",\"value\":0.2}}}}}],\"toolbar\":{\"type\":\"object\",\"name\":\"Toolbar\",\"id\":\"p1405\",\"attributes\":{\"tools\":[{\"type\":\"object\",\"name\":\"PanTool\",\"id\":\"p1418\"},{\"type\":\"object\",\"name\":\"WheelZoomTool\",\"id\":\"p1419\"},{\"type\":\"object\",\"name\":\"BoxZoomTool\",\"id\":\"p1420\",\"attributes\":{\"overlay\":{\"type\":\"object\",\"name\":\"BoxAnnotation\",\"id\":\"p1421\",\"attributes\":{\"syncable\":false,\"level\":\"overlay\",\"visible\":false,\"left_units\":\"canvas\",\"right_units\":\"canvas\",\"bottom_units\":\"canvas\",\"top_units\":\"canvas\",\"line_color\":\"black\",\"line_alpha\":1.0,\"line_width\":2,\"line_dash\":[4,4],\"fill_color\":\"lightgrey\",\"fill_alpha\":0.5}}}},{\"type\":\"object\",\"name\":\"SaveTool\",\"id\":\"p1422\"},{\"type\":\"object\",\"name\":\"ResetTool\",\"id\":\"p1423\"},{\"type\":\"object\",\"name\":\"HelpTool\",\"id\":\"p1424\"}]}},\"toolbar_location\":\"above\",\"left\":[{\"type\":\"object\",\"name\":\"LinearAxis\",\"id\":\"p1413\",\"attributes\":{\"ticker\":{\"type\":\"object\",\"name\":\"BasicTicker\",\"id\":\"p1414\",\"attributes\":{\"mantissas\":[1,2,5]}},\"formatter\":{\"type\":\"object\",\"name\":\"BasicTickFormatter\",\"id\":\"p1415\"},\"axis_label\":\"count\",\"major_label_policy\":{\"type\":\"object\",\"name\":\"AllLabels\",\"id\":\"p1416\"}}}],\"below\":[{\"type\":\"object\",\"name\":\"LinearAxis\",\"id\":\"p1408\",\"attributes\":{\"ticker\":{\"type\":\"object\",\"name\":\"BasicTicker\",\"id\":\"p1409\",\"attributes\":{\"mantissas\":[1,2,5]}},\"formatter\":{\"type\":\"object\",\"name\":\"BasicTickFormatter\",\"id\":\"p1410\"},\"axis_label\":\"percent correct with noise\",\"major_label_policy\":{\"type\":\"object\",\"name\":\"AllLabels\",\"id\":\"p1411\"}}}],\"center\":[{\"type\":\"object\",\"name\":\"Grid\",\"id\":\"p1412\",\"attributes\":{\"axis\":{\"id\":\"p1408\"}}},{\"type\":\"object\",\"name\":\"Grid\",\"id\":\"p1417\",\"attributes\":{\"dimension\":1,\"axis\":{\"id\":\"p1413\"}}}],\"frame_width\":375,\"frame_height\":100}}]}};\n",
       "  const render_items = [{\"docid\":\"a9c866a2-710e-4307-9aeb-91167cef14fb\",\"roots\":{\"p1397\":\"f20e32b4-8878-4f02-8879-9bd434aa8f9f\"},\"root_ids\":[\"p1397\"]}];\n",
       "  root.Bokeh.embed.embed_items_notebook(docs_json, render_items);\n",
       "  }\n",
       "  if (root.Bokeh !== undefined) {\n",
       "    embed_document(root);\n",
       "  } else {\n",
       "    let attempts = 0;\n",
       "    const timer = setInterval(function(root) {\n",
       "      if (root.Bokeh !== undefined) {\n",
       "        clearInterval(timer);\n",
       "        embed_document(root);\n",
       "      } else {\n",
       "        attempts++;\n",
       "        if (attempts > 100) {\n",
       "          clearInterval(timer);\n",
       "          console.log(\"Bokeh: ERROR: Unable to run BokehJS code because BokehJS library is missing\");\n",
       "        }\n",
       "      }\n",
       "    }, 10, root)\n",
       "  }\n",
       "})(window);"
      ],
      "application/vnd.bokehjs_exec.v0+json": ""
     },
     "metadata": {
      "application/vnd.bokehjs_exec.v0+json": {
       "id": "p1397"
      }
     },
     "output_type": "display_data"
    }
   ],
   "source": [
    "p = iqplot.spike(df, \"percent correct with noise\", frame_height=100)\n",
    "\n",
    "bokeh.io.show(p)"
   ]
  },
  {
   "cell_type": "markdown",
   "metadata": {},
   "source": [
    "## Histograms\n",
    "\n",
    "If we do not have discrete data, we can instead use a [histogram](https://en.wikipedia.org/wiki/Histogram). A histogram is constructed by dividing the measurement values into bins and then counting how many measurements fall into each bin. The bins are then displayed graphically.\n",
    "\n",
    "A problem with histograms is that they require a choice of binning. Different choices of bins can lead to qualitatively different appearances of the plot. One choice of number of bins is the [Freedman-Diaconis rule](https://en.wikipedia.org/wiki/Freedman–Diaconis_rule), which serves to minimize the integral of the squared difference between the (unknown) underlying probability density function and the histogram. This is the default of iqplot."
   ]
  },
  {
   "cell_type": "code",
   "execution_count": 12,
   "metadata": {},
   "outputs": [
    {
     "data": {
      "text/html": [
       "\n",
       "  <div id=\"b9b92c7b-6e6c-460d-affb-48a1d9ef24b0\" data-root-id=\"p1456\" style=\"display: contents;\"></div>\n"
      ]
     },
     "metadata": {},
     "output_type": "display_data"
    },
    {
     "data": {
      "application/javascript": [
       "(function(root) {\n",
       "  function embed_document(root) {\n",
       "  const docs_json = {\"df2c2dc0-dfeb-4e3b-9742-a52fd16ee637\":{\"version\":\"3.2.1\",\"title\":\"Bokeh Application\",\"roots\":[{\"type\":\"object\",\"name\":\"Figure\",\"id\":\"p1456\",\"attributes\":{\"x_range\":{\"type\":\"object\",\"name\":\"DataRange1d\",\"id\":\"p1458\"},\"y_range\":{\"type\":\"object\",\"name\":\"DataRange1d\",\"id\":\"p1455\",\"attributes\":{\"start\":0}},\"x_scale\":{\"type\":\"object\",\"name\":\"LinearScale\",\"id\":\"p1465\"},\"y_scale\":{\"type\":\"object\",\"name\":\"LinearScale\",\"id\":\"p1466\"},\"title\":{\"type\":\"object\",\"name\":\"Title\",\"id\":\"p1463\"},\"renderers\":[{\"type\":\"object\",\"name\":\"GlyphRenderer\",\"id\":\"p1490\",\"attributes\":{\"data_source\":{\"type\":\"object\",\"name\":\"ColumnDataSource\",\"id\":\"p1484\",\"attributes\":{\"selected\":{\"type\":\"object\",\"name\":\"Selection\",\"id\":\"p1485\",\"attributes\":{\"indices\":[],\"line_indices\":[]}},\"selection_policy\":{\"type\":\"object\",\"name\":\"UnionRenderers\",\"id\":\"p1486\"},\"data\":{\"type\":\"map\",\"entries\":[[\"x\",{\"type\":\"ndarray\",\"array\":{\"type\":\"bytes\",\"data\":\"2J5rNNbNQ0DYnms01s1DQF3+zumN0kZAXf7O6Y3SRkDiXTKfRddJQOJdMp9F10lAaL2VVP3bTEBovZVU/dtMQO0c+Qm14E9A7Rz5CbXgT0A5Pq5ftnJRQDk+rl+2clFA/O1fOhL1UkD87V86EvVSQL6dERVud1RAvp0RFW53VECBTcPvyflVQIFNw+/J+VVARP10yiV8V0BE/XTKJXxXQAatJqWB/lhABq0mpYH+WEA=\"},\"shape\":[22],\"dtype\":\"float64\",\"order\":\"little\"}],[\"y\",{\"type\":\"ndarray\",\"array\":{\"type\":\"bytes\",\"data\":\"AAAAAAAAAAAAAAAAAAAAQAAAAAAAAABAAAAAAAAA8D8AAAAAAADwPwAAAAAAAPA/AAAAAAAA8D8AAAAAAAAcQAAAAAAAABxAAAAAAAAAHEAAAAAAAAAcQAAAAAAAAC5AAAAAAAAALkAAAAAAAAAxQAAAAAAAADFAAAAAAAAAOkAAAAAAAAA6QAAAAAAAADFAAAAAAAAAMUAAAAAAAAAiQAAAAAAAACJAAAAAAAAAAAA=\"},\"shape\":[22],\"dtype\":\"float64\",\"order\":\"little\"}]]}}},\"view\":{\"type\":\"object\",\"name\":\"CDSView\",\"id\":\"p1491\",\"attributes\":{\"filter\":{\"type\":\"object\",\"name\":\"AllIndices\",\"id\":\"p1492\"}}},\"glyph\":{\"type\":\"object\",\"name\":\"Line\",\"id\":\"p1487\",\"attributes\":{\"x\":{\"type\":\"field\",\"field\":\"x\"},\"y\":{\"type\":\"field\",\"field\":\"y\"},\"line_color\":\"#1f77b3\",\"line_width\":2}},\"nonselection_glyph\":{\"type\":\"object\",\"name\":\"Line\",\"id\":\"p1488\",\"attributes\":{\"x\":{\"type\":\"field\",\"field\":\"x\"},\"y\":{\"type\":\"field\",\"field\":\"y\"},\"line_color\":\"#1f77b3\",\"line_alpha\":0.1,\"line_width\":2}},\"muted_glyph\":{\"type\":\"object\",\"name\":\"Line\",\"id\":\"p1489\",\"attributes\":{\"x\":{\"type\":\"field\",\"field\":\"x\"},\"y\":{\"type\":\"field\",\"field\":\"y\"},\"line_color\":\"#1f77b3\",\"line_alpha\":0.2,\"line_width\":2}}}},{\"type\":\"object\",\"name\":\"GlyphRenderer\",\"id\":\"p1502\",\"attributes\":{\"name\":\"hover_glyphs\",\"data_source\":{\"type\":\"object\",\"name\":\"ColumnDataSource\",\"id\":\"p1493\",\"attributes\":{\"selected\":{\"type\":\"object\",\"name\":\"Selection\",\"id\":\"p1494\",\"attributes\":{\"indices\":[],\"line_indices\":[]}},\"selection_policy\":{\"type\":\"object\",\"name\":\"UnionRenderers\",\"id\":\"p1495\"},\"data\":{\"type\":\"map\",\"entries\":[[\"index\",{\"type\":\"ndarray\",\"array\":{\"type\":\"bytes\",\"data\":\"AAAAAAEAAAACAAAAAwAAAAQAAAAFAAAABgAAAAcAAAAIAAAACQAAAAoAAAALAAAADAAAAA0AAAAOAAAADwAAABAAAAARAAAAEgAAABMAAAAUAAAAFQAAABYAAAAXAAAAGAAAABkAAAAaAAAAGwAAABwAAAAdAAAAHgAAAB8AAAAgAAAAIQAAACIAAAAjAAAAJAAAACUAAAAmAAAAJwAAACgAAAApAAAAKgAAACsAAAAsAAAALQAAAC4AAAAvAAAAMAAAADEAAAAyAAAAMwAAADQAAAA1AAAANgAAADcAAAA4AAAAOQAAADoAAAA7AAAAPAAAAD0AAAA+AAAAPwAAAEAAAABBAAAAQgAAAEMAAABEAAAARQAAAEYAAABHAAAASAAAAEkAAABKAAAASwAAAEwAAABNAAAATgAAAE8AAABQAAAAUQAAAFIAAABTAAAAVAAAAFUAAABWAAAAVwAAAFgAAABZAAAAWgAAAFsAAABcAAAAXQAAAF4AAABfAAAAYAAAAGEAAABiAAAAYwAAAGQAAABlAAAA\"},\"shape\":[102],\"dtype\":\"int32\",\"order\":\"little\"}],[\"participant number\",{\"type\":\"ndarray\",\"array\":{\"type\":\"bytes\",\"data\":\"CAAAABAAAAASAAAAFgAAABsAAAAcAAAAHgAAACEAAAAiAAAAIwAAACYAAAApAAAALgAAADEAAAA3AAAARwAAAEwAAABNAAAATgAAAFAAAABZAAAAWgAAAF0AAABkAAAAZQAAAAEAAAACAAAAAwAAAAQAAAAFAAAABgAAAAcAAAAJAAAACgAAAAsAAAAMAAAADQAAAA4AAAAPAAAAEQAAABMAAAAUAAAAFQAAABcAAAAYAAAAGQAAABoAAAAdAAAAHwAAACAAAAAkAAAAJQAAACcAAAAoAAAAKgAAACsAAAAsAAAALQAAADAAAAAyAAAAMwAAADQAAAA1AAAANgAAADgAAAA5AAAAOgAAADsAAAA8AAAAPQAAAD4AAAA/AAAAQAAAAEEAAABCAAAAQwAAAEQAAABFAAAARgAAAEgAAABJAAAASgAAAEsAAABPAAAAUQAAAFIAAABTAAAAVAAAAFUAAABWAAAAVwAAAFgAAABbAAAAXAAAAF4AAABfAAAAYAAAAGEAAABiAAAAYwAAAGYAAABnAAAA\"},\"shape\":[102],\"dtype\":\"int32\",\"order\":\"little\"}],[\"gender\",{\"type\":\"ndarray\",\"array\":[\"female\",\"male\",\"female\",\"female\",\"female\",\"female\",\"male\",\"male\",\"female\",\"female\",\"female\",\"female\",\"female\",\"female\",\"female\",\"female\",\"female\",\"female\",\"male\",\"male\",\"female\",\"male\",\"female\",\"female\",\"female\",\"female\",\"female\",\"female\",\"female\",\"female\",\"female\",\"female\",\"male\",\"female\",\"female\",\"male\",\"male\",\"male\",\"female\",\"male\",\"female\",\"female\",\"male\",\"male\",\"female\",\"female\",\"male\",\"female\",\"male\",\"female\",\"male\",\"female\",\"female\",\"male\",\"male\",\"female\",\"female\",\"female\",\"female\",\"male\",\"female\",\"female\",\"female\",\"female\",\"male\",\"female\",\"female\",\"female\",\"male\",\"female\",\"female\",\"female\",\"female\",\"female\",\"female\",\"female\",\"female\",\"female\",\"female\",\"female\",\"female\",\"male\",\"female\",\"female\",\"male\",\"female\",\"female\",\"female\",\"female\",\"female\",\"male\",\"male\",\"male\",\"male\",\"female\",\"male\",\"female\",\"female\",\"female\",\"female\",\"female\",\"female\"],\"shape\":[102],\"dtype\":\"object\",\"order\":\"little\"}],[\"age\",{\"type\":\"ndarray\",\"array\":{\"type\":\"bytes\",\"data\":\"JwAAACoAAAAfAAAAIwAAAEoAAAA9AAAAIAAAAD4AAAAhAAAANQAAACkAAAAkAAAAKAAAABgAAAAgAAAAKAAAAD0AAAAqAAAAHwAAABwAAAAaAAAALQAAABwAAAAsAAAAHAAAACoAAAAtAAAAEAAAABUAAAASAAAAHAAAACYAAAARAAAAGQAAABYAAAApAAAANQAAACsAAAAXAAAAEwAAAC0AAAArAAAAIwAAABgAAABAAAAAJAAAACMAAAArAAAALAAAAB0AAAAWAAAALgAAACMAAAA1AAAAHQAAAB8AAAAVAAAAKgAAABcAAAA2AAAAGAAAABUAAAAVAAAAKwAAADIAAAA1AAAAEAAAAEMAAAAkAAAAIgAAACoAAAAuAAAARQAAAB8AAAAsAAAAGQAAAC0AAAAvAAAAIQAAABIAAABKAAAAFQAAAC0AAAAlAAAAKQAAACkAAAAiAAAAJwAAABIAAAAfAAAAGgAAAEIAAAA+AAAAFgAAACkAAAAuAAAAOAAAABcAAABGAAAAGAAAACgAAAAhAAAA\"},\"shape\":[102],\"dtype\":\"int32\",\"order\":\"little\"}],[\"correct hit percentage\",{\"type\":\"ndarray\",\"array\":{\"type\":\"bytes\",\"data\":\"QQAAAFoAAABaAAAAZAAAADwAAABQAAAAWgAAAC0AAABQAAAAZAAAAEYAAABaAAAAXwAAAFUAAABLAAAAKAAAAGQAAABGAAAAZAAAAGQAAAA8AAAAZAAAAGQAAABBAAAAZAAAAFAAAABQAAAARgAAAEYAAABaAAAAXwAAAFoAAABaAAAAZAAAAFAAAABaAAAAXwAAAF8AAABaAAAANwAAAGQAAABBAAAAWgAAADcAAABLAAAAZAAAAEYAAABaAAAAXwAAAF8AAABGAAAAUAAAADIAAABBAAAAZAAAAFUAAABVAAAAWgAAAFoAAABaAAAAVQAAAFUAAABaAAAAXwAAAEYAAABfAAAAVQAAAF8AAABaAAAAWgAAAGQAAABQAAAAXwAAAGQAAABaAAAAZAAAAEYAAABaAAAAVQAAAFAAAABVAAAAKAAAAFAAAABaAAAAWgAAAFAAAABaAAAASwAAAFUAAABkAAAAXwAAADwAAABkAAAAVQAAACMAAABfAAAARgAAAEYAAABaAAAARgAAAEsAAABVAAAA\"},\"shape\":[102],\"dtype\":\"int32\",\"order\":\"little\"}],[\"correct reject percentage\",{\"type\":\"ndarray\",\"array\":{\"type\":\"bytes\",\"data\":\"UAAAAFoAAABfAAAASwAAAEEAAAAUAAAASwAAAFoAAABkAAAAMgAAADcAAABkAAAAQQAAAEsAAAA3AAAAZAAAACgAAABaAAAARgAAADIAAABQAAAAXwAAAEsAAAAZAAAAKAAAAEEAAABaAAAAUAAAAEEAAABkAAAAUAAAAF8AAABaAAAAZAAAADwAAABQAAAAPAAAAFoAAABQAAAAPAAAAFUAAABBAAAAZAAAAGQAAABVAAAAUAAAAFoAAABVAAAAWgAAADcAAABBAAAASwAAAF8AAABQAAAARgAAAFoAAABaAAAAWgAAAFUAAABGAAAAXwAAAEsAAABQAAAASwAAAFUAAABLAAAAVQAAAEsAAABBAAAAWgAAAGQAAABaAAAAUAAAAF8AAABfAAAAZAAAADIAAABkAAAARgAAAEsAAABQAAAAKAAAAF8AAABQAAAAVQAAAEsAAAAjAAAARgAAAFUAAABVAAAASwAAAFUAAABQAAAAXwAAAEsAAABQAAAAMgAAAFUAAABVAAAAUAAAAEEAAAAoAAAA\"},\"shape\":[102],\"dtype\":\"int32\",\"order\":\"little\"}],[\"percent correct\",{\"type\":\"ndarray\",\"array\":{\"type\":\"bytes\",\"data\":\"AAAAAAAgUkAAAAAAAIBWQAAAAAAAIFdAAAAAAADgVUAAAAAAAEBPQAAAAAAAAElAAAAAAACgVEAAAAAAAOBQQAAAAAAAgFZAAAAAAADAUkAAAAAAAEBPQAAAAAAAwFdAAAAAAAAAVEAAAAAAAABUQAAAAAAAQFBAAAAAAACAUUAAAAAAAIBRQAAAAAAAAFRAAAAAAABAVUAAAAAAAMBSQAAAAAAAgFFAAAAAAABgWEAAAAAAAOBVQAAAAAAAgEZAAAAAAACAUUAAAAAAACBSQAAAAAAAQFVAAAAAAADAUkAAAAAAAOBQQAAAAAAAwFdAAAAAAADgVUAAAAAAACBXQAAAAAAAgFZAAAAAAAAAWUAAAAAAAIBRQAAAAAAAQFVAAAAAAABgU0AAAAAAACBXQAAAAAAAQFVAAAAAAADATEAAAAAAACBXQAAAAAAAQFBAAAAAAADAV0AAAAAAAGBTQAAAAAAAAFRAAAAAAACAVkAAAAAAAABUQAAAAAAA4FVAAAAAAAAgV0AAAAAAAMBSQAAAAAAA4FBAAAAAAABgU0AAAAAAACBSQAAAAAAAIFJAAAAAAABAVUAAAAAAAOBVQAAAAAAA4FVAAAAAAACAVkAAAAAAAOBVQAAAAAAAAFRAAAAAAACAVkAAAAAAAABUQAAAAAAAQFVAAAAAAABAVUAAAAAAAGBTQAAAAAAAQFVAAAAAAABAVUAAAAAAAEBVQAAAAAAAYFNAAAAAAACAVkAAAAAAAABZQAAAAAAAQFVAAAAAAADgVUAAAAAAAGBYQAAAAAAAIFdAAAAAAAAAWUAAAAAAAABOQAAAAAAAwFdAAAAAAABgU0AAAAAAAGBTQAAAAAAAoFRAAAAAAAAAREAAAAAAAOBVQAAAAAAAQFVAAAAAAADgVUAAAAAAAGBTQAAAAAAAQE9AAAAAAAAgUkAAAAAAAEBVQAAAAAAAIFdAAAAAAABAVUAAAAAAACBSQAAAAAAAgFZAAAAAAACAVkAAAAAAAIBLQAAAAAAA4FVAAAAAAAAATkAAAAAAAGBTQAAAAAAA4FVAAAAAAADAUkAAAAAAAIBRQAAAAAAAQE9A\"},\"shape\":[102],\"dtype\":\"float64\",\"order\":\"little\"}],[\"confidence when correct hit\",{\"type\":\"ndarray\",\"array\":{\"type\":\"bytes\",\"data\":\"AAAAAADAVkAAAAAAAOBSQAAAAAAAYFZAAAAAAABgVkAAAAAAACBRQAAAAAAAwFFAAAAAAADAUEAAAAAAAABLQAAAAAAAoFFAAAAAAACgUkAAAAAAAIBUQAAAAAAAIFNAAAAAAAAAVEAAAAAAAABNQAAAAAAAQFVAAAAAAABAUUAAAAAAAGBRQAAAAAAAwFVAAAAAAAAAV0AAAAAAAABZQAAAAAAAgFFAAAAAAAAAWUAAAAAAAGBWQAAAAAAAAE9AAAAAAADAVUAAAAAAAMBJQAAAAAAAwFJAAAAAAACAUUAAAAAAAMBPQAAAAAAAIFNAAAAAAAAAWUAAAAAAAEBTQAAAAAAAIFRAAAAAAACAVkAAAAAAAIBRQAAAAAAAIFNAAAAAAAAAREAAAAAAAABKQAAAAAAAAFZAAAAAAAAAT0AAAAAAAABRQAAAAAAAgE1AAAAAAADgUkAAAAAAAABRQAAAAAAAAElAAAAAAAAAVkAAAAAAAIA9QAAAAAAAYFBAAAAAAADAVEAAAAAAAMBQQAAAAAAAgFNAAAAAAAAgUkAAAAAAAEBPQAAAAAAAAEtAAAAAAADAUkAAAAAAAIBUQAAAAAAAgFBAAAAAAADAVEAAAAAAAMBQQAAAAAAAgFZAAAAAAABAWEAAAAAAAEBQQAAAAAAAAFVAAAAAAACAUkAAAAAAACBXQAAAAAAAAFVAAAAAAACAS0AAAAAAAIBRQAAAAAAA4FBAAAAAAABATUAAAAAAAKBSQAAAAAAAAFdAAAAAAAAAVEAAAAAAAIBYQAAAAAAAwFVAAAAAAADATkAAAAAAACBUQAAAAAAAAFlAAAAAAACAUUAAAAAAAOBQQAAAAAAAgFBAAAAAAACgVkAAAAAAAIBSQAAAAAAA4FdAAAAAAAAAVEAAAAAAAKBXQAAAAAAAQFRAAAAAAACATEAAAAAAAEBXQAAAAAAAAFlAAAAAAABAVUAAAAAAAOBQQAAAAAAAQFRAAAAAAACAUEAAAAAAAIBLQAAAAAAAgFZAAAAAAACAT0AAAAAAAEBTQAAAAAAAYFBAAAAAAADATkAAAAAAAIBKQAAAAAAAAFRA\"},\"shape\":[102],\"dtype\":\"float64\",\"order\":\"little\"}],[\"confidence incorrect hit\",{\"type\":\"ndarray\",\"array\":{\"type\":\"bytes\",\"data\":\"AAAAAACAVkAAAAAAAMBLQAAAAAAAgFZAAAAAAAAA+H8AAAAAAIBIQAAAAAAAgE9AAAAAAABATEAAAAAAAIBCQAAAAAAAIFNAAAAAAAAA+H8AAAAAAMBOQAAAAAAA4FJAAAAAAABAVkAAAAAAAABJQAAAAAAAQFRAAAAAAAAATEAAAAAAAAD4fwAAAAAAAFJAAAAAAAAA+H8AAAAAAAD4fwAAAAAAQFNAAAAAAAAA+H8AAAAAAAD4fwAAAAAAAFJAAAAAAAAA+H8AAAAAAEBGQAAAAAAAwEtAAAAAAACATEAAAAAAAABQQAAAAAAAwFRAAAAAAABAVUAAAAAAAMBFQAAAAAAA4FVAAAAAAAAA+H8AAAAAAIBRQAAAAAAAwEtAAAAAAACAQEAAAAAAAAA9QAAAAAAAAERAAAAAAAAASUAAAAAAAAD4fwAAAAAAgEtAAAAAAADAQUAAAAAAAMBQQAAAAAAAADlAAAAAAAAA+H8AAAAAAIA8QAAAAAAAADtAAAAAAAAATEAAAAAAAIBKQAAAAAAAAFZAAAAAAAAAUkAAAAAAAAA9QAAAAAAAAEBAAAAAAAAA+H8AAAAAAIBIQAAAAAAAAD1AAAAAAADAVEAAAAAAAIBHQAAAAAAA4FRAAAAAAACAREAAAAAAAEBSQAAAAAAAwEtAAAAAAABAVkAAAAAAACBSQAAAAAAAgEtAAAAAAAAAPkAAAAAAAAAcQAAAAAAAgDxAAAAAAACARUAAAAAAAAD4fwAAAAAA4FJAAAAAAABAUEAAAAAAAAD4fwAAAAAAwEdAAAAAAAAA+H8AAAAAAMBJQAAAAAAAAPh/AAAAAAAAQ0AAAAAAAMBJQAAAAAAAgEtAAAAAAAAAVEAAAAAAAMBQQAAAAAAAAFFAAAAAAADATUAAAAAAAMBOQAAAAAAAAEpAAAAAAACATEAAAAAAAABXQAAAAAAAAPh/AAAAAAAAVkAAAAAAAIBQQAAAAAAAAPh/AAAAAAAATEAAAAAAAIBOQAAAAAAAwFJAAAAAAABASkAAAAAAAKBQQAAAAAAAYFVAAAAAAABAVEAAAAAAAIBCQAAAAAAAADtA\"},\"shape\":[102],\"dtype\":\"float64\",\"order\":\"little\"}],[\"confidence correct reject\",{\"type\":\"ndarray\",\"array\":{\"type\":\"bytes\",\"data\":\"AAAAAABAV0AAAAAAAKBRQAAAAAAAgFVAAAAAAADAUUAAAAAAAIBOQAAAAAAAAD9AAAAAAACAUEAAAAAAAEBQQAAAAAAAIFBAAAAAAABATkAAAAAAAEBSQAAAAAAAwFJAAAAAAADAU0AAAAAAAIBIQAAAAAAAQFVAAAAAAACAUUAAAAAAAEBGQAAAAAAAoFZAAAAAAABAVEAAAAAAAABZQAAAAAAAgFRAAAAAAAAAWUAAAAAAAMBQQAAAAAAAwFVAAAAAAAAAUUAAAAAAAIBFQAAAAAAAAFRAAAAAAAAAS0AAAAAAAABJQAAAAAAAAFRAAAAAAACAV0AAAAAAAMBTQAAAAAAAIFNAAAAAAABAVUAAAAAAAIBRQAAAAAAA4FBAAAAAAAAATEAAAAAAAIBIQAAAAAAAoFFAAAAAAACAUEAAAAAAAIBOQAAAAAAAAFBAAAAAAACgUkAAAAAAAABUQAAAAAAAgFBAAAAAAACAUEAAAAAAAAAzQAAAAAAAgERAAAAAAADAU0AAAAAAAEBQQAAAAAAAQFNAAAAAAAAAWUAAAAAAAEBTQAAAAAAAwEdAAAAAAAAgUEAAAAAAAEBUQAAAAAAAgFFAAAAAAAAgVEAAAAAAAEBRQAAAAAAAYFNAAAAAAACAUkAAAAAAAABMQAAAAAAAYFJAAAAAAAAAUUAAAAAAAMBXQAAAAAAAAFFAAAAAAAAASUAAAAAAAEBRQAAAAAAAgEtAAAAAAABgUkAAAAAAAIBSQAAAAAAAAFdAAAAAAACgU0AAAAAAAIBWQAAAAAAAQFFAAAAAAABATUAAAAAAAIBPQAAAAAAA4FFAAAAAAABATUAAAAAAAIBQQAAAAAAAgE9AAAAAAACgUkAAAAAAAABTQAAAAAAA4FRAAAAAAACAUUAAAAAAAIBVQAAAAAAAwFFAAAAAAADATUAAAAAAAMBWQAAAAAAAAFlAAAAAAACAVEAAAAAAAIBSQAAAAAAAoFJAAAAAAAAAUkAAAAAAAABUQAAAAAAAAFRAAAAAAADgUEAAAAAAAEBTQAAAAAAAwFVAAAAAAACAUUAAAAAAAABVQAAAAAAAAD9A\"},\"shape\":[102],\"dtype\":\"float64\",\"order\":\"little\"}],[\"confidence incorrect reject\",{\"type\":\"ndarray\",\"array\":{\"type\":\"bytes\",\"data\":\"AAAAAADgVEAAAAAAAABJQAAAAAAAQFRAAAAAAAAAVEAAAAAAAIBIQAAAAAAAIFJAAAAAAABAUEAAAAAAAGBUQAAAAAAAAPh/AAAAAABAUEAAAAAAAEBRQAAAAAAAAPh/AAAAAABATUAAAAAAAABRQAAAAAAAgFVAAAAAAAAA+H8AAAAAAEBSQAAAAAAAwEVAAAAAAAAATkAAAAAAAABZQAAAAAAA4FBAAAAAAAAAWUAAAAAAAABOQAAAAAAAQFNAAAAAAAAAS0AAAAAAAIBIQAAAAAAAwFJAAAAAAACASkAAAAAAAABJQAAAAAAAAPh/AAAAAACATkAAAAAAAAA1QAAAAAAAADtAAAAAAAAA+H8AAAAAAEBQQAAAAAAAQEpAAAAAAACASEAAAAAAAABCQAAAAAAAoFBAAAAAAABASUAAAAAAAABLQAAAAAAAgE1AAAAAAAAA+H8AAAAAAAD4fwAAAAAAADhAAAAAAADAT0AAAAAAAMBEQAAAAAAAgEZAAAAAAABARUAAAAAAAIBKQAAAAAAAAFRAAAAAAADAVkAAAAAAAABAQAAAAAAAoFNAAAAAAACARUAAAAAAAABCQAAAAAAAAD1AAAAAAAAAQkAAAAAAAABEQAAAAAAAQFFAAAAAAABAUkAAAAAAAABRQAAAAAAAgFFAAAAAAABAUEAAAAAAAEBQQAAAAAAAgE5AAAAAAAAAREAAAAAAAABOQAAAAAAAAEpAAAAAAADASkAAAAAAAAD4fwAAAAAAgE9AAAAAAACgUUAAAAAAAABEQAAAAAAAwFVAAAAAAAAA+H8AAAAAAEBRQAAAAAAAwFRAAAAAAABAUEAAAAAAAIBMQAAAAAAAQElAAAAAAADAVEAAAAAAAAAxQAAAAAAAwFRAAAAAAACAREAAAAAAAIBSQAAAAAAAAE1AAAAAAAAASUAAAAAAAEBWQAAAAAAAAElAAAAAAACAVEAAAAAAAIBMQAAAAAAAgFRAAAAAAACAT0AAAAAAAIBMQAAAAAAAAFRAAAAAAABgUEAAAAAAAGBTQAAAAAAAAFRAAAAAAACATkAAAAAAAABKQAAAAAAAoFRA\"},\"shape\":[102],\"dtype\":\"float64\",\"order\":\"little\"}],[\"confidence when correct\",{\"type\":\"ndarray\",\"array\":{\"type\":\"bytes\",\"data\":\"AAAAAABAV0AAAAAAAMBSQAAAAAAAQFZAAAAAAAAAVkAAAAAAAEBQQAAAAAAAIFBAAAAAAACAUEAAAAAAAABPQAAAAAAAAFFAAAAAAADAUUAAAAAAAIBUQAAAAAAAAFNAAAAAAADgU0AAAAAAAIBLQAAAAAAAQFVAAAAAAACAUUAAAAAAAEBLQAAAAAAAIFZAAAAAAADgVUAAAAAAAABZQAAAAAAAQFNAAAAAAAAAWUAAAAAAAABUQAAAAAAAYFFAAAAAAABAVEAAAAAAAIBJQAAAAAAAoFNAAAAAAACATEAAAAAAAABOQAAAAAAAAFRAAAAAAADAWEAAAAAAAIBTQAAAAAAAoFNAAAAAAACAVkAAAAAAAIBRQAAAAAAAgFJAAAAAAACAR0AAAAAAAABKQAAAAAAAAFVAAAAAAACAT0AAAAAAAABPQAAAAAAAwE1AAAAAAADgUkAAAAAAAIBTQAAAAAAAgE9AAAAAAABAVEAAAAAAAAA4QAAAAAAAAElAAAAAAABAVEAAAAAAAMBQQAAAAAAAQFNAAAAAAAAAWUAAAAAAAABRQAAAAAAAAEhAAAAAAACAUkAAAAAAAIBUQAAAAAAAwFBAAAAAAACgVEAAAAAAAMBQQAAAAAAAAFZAAAAAAADAVEAAAAAAAMBPQAAAAAAAIFRAAAAAAADAUUAAAAAAAMBXQAAAAAAAoFNAAAAAAABASkAAAAAAAEBRQAAAAAAAgE5AAAAAAACAUEAAAAAAAIBSQAAAAAAAAFdAAAAAAAAAVEAAAAAAAABXQAAAAAAAwFRAAAAAAABATkAAAAAAACBSQAAAAAAAYFhAAAAAAAAAUUAAAAAAAMBQQAAAAAAAQFBAAAAAAACAVEAAAAAAAMBSQAAAAAAAgFdAAAAAAABAU0AAAAAAAABXQAAAAAAAQFRAAAAAAAAATUAAAAAAAOBWQAAAAAAAAFlAAAAAAABAVUAAAAAAAIBSQAAAAAAA4FNAAAAAAACgUUAAAAAAAABSQAAAAAAAQFVAAAAAAAAAUEAAAAAAAEBTQAAAAAAAgFJAAAAAAABAUEAAAAAAAEBUQAAAAAAAQFRA\"},\"shape\":[102],\"dtype\":\"float64\",\"order\":\"little\"}],[\"confidence when incorrect\",{\"type\":\"ndarray\",\"array\":{\"type\":\"bytes\",\"data\":\"AAAAAACAVkAAAAAAAABJQAAAAAAAAFZAAAAAAAAAVEAAAAAAAIBIQAAAAAAAoFFAAAAAAAAAUEAAAAAAAIBOQAAAAAAAIFNAAAAAAABAUEAAAAAAAABQQAAAAAAA4FJAAAAAAACAT0AAAAAAAIBNQAAAAAAA4FRAAAAAAAAATEAAAAAAAEBSQAAAAAAAAFBAAAAAAAAATkAAAAAAAABZQAAAAAAAoFFAAAAAAAAAWUAAAAAAAABOQAAAAAAAYFJAAAAAAAAAS0AAAAAAAIBIQAAAAAAAwFBAAAAAAABAS0AAAAAAAABJQAAAAAAAwFRAAAAAAABAUEAAAAAAAABCQAAAAAAA4FBAAAAAAAAA+H8AAAAAAIBRQAAAAAAAwEtAAAAAAAAARkAAAAAAAAA9QAAAAAAAQEtAAAAAAAAASUAAAAAAAABLQAAAAAAAgExAAAAAAADAQUAAAAAAAMBQQAAAAAAAgDhAAAAAAADAT0AAAAAAAIBBQAAAAAAAgEZAAAAAAAAAS0AAAAAAAIBKQAAAAAAAAFVAAAAAAADAVkAAAAAAAAA/QAAAAAAAgElAAAAAAACARUAAAAAAAIBIQAAAAAAAAD1AAAAAAAAAU0AAAAAAAABEQAAAAAAAwFNAAAAAAADAS0AAAAAAAABRQAAAAAAAQFBAAAAAAAAAUUAAAAAAAEBQQAAAAAAAAE1AAAAAAACAQUAAAAAAAMBNQAAAAAAAAElAAAAAAADAR0AAAAAAAAD4fwAAAAAAYFJAAAAAAACAUUAAAAAAAABEQAAAAAAAwFBAAAAAAAAA+H8AAAAAAMBOQAAAAAAAwFRAAAAAAAAAREAAAAAAAIBKQAAAAAAAgEtAAAAAAABAVEAAAAAAAABQQAAAAAAAwFFAAAAAAACATUAAAAAAAMBQQAAAAAAAAE1AAAAAAAAASUAAAAAAAMBWQAAAAAAAAElAAAAAAABAVUAAAAAAAABQQAAAAAAAgFRAAAAAAADATUAAAAAAAABOQAAAAAAAwFJAAAAAAADATUAAAAAAAIBSQAAAAAAAAFRAAAAAAABAVEAAAAAAAIBJQAAAAAAAQFJA\"},\"shape\":[102],\"dtype\":\"float64\",\"order\":\"little\"}],[\"sci\",{\"type\":\"ndarray\",\"array\":{\"type\":\"bytes\",\"data\":\"CQAAAAQAAAAKAAAADQAAAA0AAAAPAAAAEAAAAA4AAAAOAAAADgAAAA4AAAAPAAAACgAAAA4AAAAFAAAAAAAAABAAAAALAAAADgAAAAwAAAAOAAAADgAAABAAAAABAAAADgAAAB0AAAATAAAAFwAAABoAAAAVAAAAEwAAABwAAAAdAAAAEQAAABYAAAAcAAAAHwAAAB8AAAAgAAAAGQAAAB4AAAAcAAAAHgAAABYAAAAUAAAAGgAAACAAAAAgAAAAGAAAABoAAAAeAAAAHAAAABUAAAAdAAAAIAAAABoAAAAaAAAAFwAAABIAAAAWAAAAHQAAABQAAAAbAAAAEwAAAB0AAAAYAAAAHQAAABEAAAAaAAAAHgAAABEAAAAZAAAAHwAAABsAAAAgAAAAHAAAABkAAAAeAAAAFQAAAB0AAAAUAAAAFgAAABcAAAAUAAAAEQAAABsAAAAbAAAAFgAAABkAAAAeAAAAIAAAAB4AAAAgAAAAHAAAAB8AAAAdAAAAGgAAABQAAAATAAAAHwAAABYAAAAYAAAA\"},\"shape\":[102],\"dtype\":\"int32\",\"order\":\"little\"}],[\"psqi\",{\"type\":\"ndarray\",\"array\":{\"type\":\"bytes\",\"data\":\"DQAAAAsAAAAJAAAACAAAAAkAAAAOAAAACQAAAAkAAAAMAAAACAAAAAUAAAAHAAAADAAAAA0AAAANAAAACwAAAAQAAAAKAAAABgAAAAcAAAAIAAAACQAAAAcAAAAPAAAABwAAAAEAAAAFAAAAAQAAAAUAAAAHAAAABwAAAAMAAAADAAAACgAAAAQAAAAFAAAAAgAAAAIAAAACAAAABQAAAAIAAAADAAAAAwAAAAQAAAAJAAAABQAAAAIAAAABAAAABAAAAAgAAAACAAAAAgAAAAYAAAADAAAAAQAAAAUAAAAHAAAAAwAAAAYAAAAGAAAAAQAAAAYAAAAEAAAABAAAAAMAAAAFAAAAAgAAAAcAAAAEAAAAAAAAAAUAAAABAAAAAQAAAAQAAAABAAAACAAAAAQAAAACAAAABwAAAAQAAAABAAAABwAAAAQAAAAFAAAABgAAAAQAAAACAAAAAwAAAAQAAAADAAAAAQAAAAUAAAACAAAAAQAAAAEAAAADAAAABgAAAAgAAAAIAAAAAgAAAAQAAAAFAAAA\"},\"shape\":[102],\"dtype\":\"int32\",\"order\":\"little\"}],[\"ess\",{\"type\":\"ndarray\",\"array\":{\"type\":\"bytes\",\"data\":\"AgAAAAcAAAADAAAAFAAAAAwAAAACAAAAAwAAAAkAAAAKAAAABwAAABMAAAAAAAAACAAAAAQAAAAHAAAADgAAAAwAAAAKAAAACwAAAAwAAAABAAAABgAAAAQAAAAGAAAAAgAAAAUAAAABAAAAAwAAAAQAAAAFAAAADAAAAAQAAAAEAAAACwAAAAYAAAADAAAACwAAAAoAAAAMAAAABgAAAA0AAAAMAAAABQAAAAoAAAAEAAAABAAAAAYAAAADAAAAAAAAAAwAAAAGAAAABQAAAAkAAAAHAAAABgAAAAoAAAASAAAACwAAAAgAAAAQAAAABwAAAAkAAAALAAAABAAAAAcAAAAEAAAACwAAAAwAAAADAAAAAwAAAAQAAAALAAAAAQAAAAQAAAACAAAACQAAAAEAAAACAAAADAAAAAYAAAAFAAAABQAAAAQAAAAJAAAAAwAAAAgAAAAGAAAACgAAABUAAAAFAAAABQAAAAkAAAABAAAACAAAAAsAAAAFAAAABwAAAAoAAAAHAAAADwAAAAcAAAAHAAAA\"},\"shape\":[102],\"dtype\":\"int32\",\"order\":\"little\"}],[\"insomnia\",{\"type\":\"ndarray\",\"array\":{\"type\":\"bytes\",\"data\":\"AQEBAQEBAQEBAQEBAQEBAQEBAQEBAQEBAQAAAAAAAAAAAAAAAAAAAAAAAAAAAAAAAAAAAAAAAAAAAAAAAAAAAAAAAAAAAAAAAAAAAAAAAAAAAAAAAAAAAAAAAAAAAAAAAAAAAAAA\"},\"shape\":[102],\"dtype\":\"bool\",\"order\":\"little\"}],[\"sleeper\",{\"type\":\"ndarray\",\"array\":[\"insomniac\",\"insomniac\",\"insomniac\",\"insomniac\",\"insomniac\",\"insomniac\",\"insomniac\",\"insomniac\",\"insomniac\",\"insomniac\",\"insomniac\",\"insomniac\",\"insomniac\",\"insomniac\",\"insomniac\",\"insomniac\",\"insomniac\",\"insomniac\",\"insomniac\",\"insomniac\",\"insomniac\",\"insomniac\",\"insomniac\",\"insomniac\",\"insomniac\",\"normal\",\"normal\",\"normal\",\"normal\",\"normal\",\"normal\",\"normal\",\"normal\",\"normal\",\"normal\",\"normal\",\"normal\",\"normal\",\"normal\",\"normal\",\"normal\",\"normal\",\"normal\",\"normal\",\"normal\",\"normal\",\"normal\",\"normal\",\"normal\",\"normal\",\"normal\",\"normal\",\"normal\",\"normal\",\"normal\",\"normal\",\"normal\",\"normal\",\"normal\",\"normal\",\"normal\",\"normal\",\"normal\",\"normal\",\"normal\",\"normal\",\"normal\",\"normal\",\"normal\",\"normal\",\"normal\",\"normal\",\"normal\",\"normal\",\"normal\",\"normal\",\"normal\",\"normal\",\"normal\",\"normal\",\"normal\",\"normal\",\"normal\",\"normal\",\"normal\",\"normal\",\"normal\",\"normal\",\"normal\",\"normal\",\"normal\",\"normal\",\"normal\",\"normal\",\"normal\",\"normal\",\"normal\",\"normal\",\"normal\",\"normal\",\"normal\",\"normal\"],\"shape\":[102],\"dtype\":\"object\",\"order\":\"little\"}],[\"percent correct with noise\",{\"type\":\"ndarray\",\"array\":{\"type\":\"bytes\",\"data\":\"Ubck6jIlUkBg6EHQT3RWQCGWoGbWNldAE3Sv3DbPVUBQvqgZMidPQB5D/Qkj3UhAAYubCLtjVEA4Scbj75hQQJh3i5w+pVZAuA9rz0LIUkAy9d9FM0lPQEvq2wx2w1dACzpMPo4LVED6YQopoDtUQMOgoZZ0GlBAA/sm4AmgUUD32GZTQ0lRQPlEDcxENlRAhMYG/CYZVUCsrp4zZr9SQF+NXxcXgFFA8aQ2hmNMWEB//OZA3O1VQL+XPt6MpUZAwiWqrgCHUUCCrV+DhQxSQAdEslSkMlVAAW6Fh5XTUkA6XTSNB+lQQCqRb+/j+FdA2icFgz3vVUCmZ8LGCAFXQMxo1TgabFZABq0mpYH+WEB8wGF4A4tRQBiqXoHYW1VAZ8ipcRuDU0C4xSSVZOhWQKIZL4zffFVA6oj5xMn7TEA72hBD7UFXQK4rJBcPKlBAcY44fjTMV0Dn8pB37W1TQLwGdu8JB1RAB4EMtIyEVkARpSYYg/1TQEQ6zSzYo1VArmx31I9LV0Dyw6M98eVSQCfLMnwcvlBALYWVzsB1U0BlkapeNC1SQEW+dnwiOVJALk3w/1wWVUCm2xYmcrxVQLxQKve6/FVA3My7qBxgVkBFaUo+a/hVQL3csGj0I1RAya63UcJ0VkAgTP4mlTxUQIsoeMWUM1VA3UjzIK8mVUD3ziBFG4dTQM/OtkWJKFVAtrAJQ3pdVUCa/vgigDRVQJzD/n3OaFNANqJaTyiVVkBhh9LzmNRYQHlx4QGWK1VAvT4JfljfVUC5KzYnrXBYQJDdJRF6J1dAROWzBtD6WEBHRWcPkUROQCgNW5vZsVdAi9c+xg1oU0CG6BfctlhTQMBuyPnRoVRA2J5rNNbNQ0D3pFngMLhVQNPh4Yr0KlVAXiNunFHKVUAxslgWB4FTQIMtnYrEhE9AnvLGXhMcUkAuCLPHrkJVQJk7hPojHldA7V4Gg1tNVUDtpVKKVQlSQHnOeXtHWFZApW+IHadOVkBfOHYFwNVLQHT0G94Q11VA6gxXWjjZTUB2Nzi0WYxTQLDL1mlQu1VAriPiWS3qUkDHn7ArYGlRQP1TggrTfU9A\"},\"shape\":[102],\"dtype\":\"float64\",\"order\":\"little\"}],[\"__dummy_cat\",{\"type\":\"ndarray\",\"array\":[\" \",\" \",\" \",\" \",\" \",\" \",\" \",\" \",\" \",\" \",\" \",\" \",\" \",\" \",\" \",\" \",\" \",\" \",\" \",\" \",\" \",\" \",\" \",\" \",\" \",\" \",\" \",\" \",\" \",\" \",\" \",\" \",\" \",\" \",\" \",\" \",\" \",\" \",\" \",\" \",\" \",\" \",\" \",\" \",\" \",\" \",\" \",\" \",\" \",\" \",\" \",\" \",\" \",\" \",\" \",\" \",\" \",\" \",\" \",\" \",\" \",\" \",\" \",\" \",\" \",\" \",\" \",\" \",\" \",\" \",\" \",\" \",\" \",\" \",\" \",\" \",\" \",\" \",\" \",\" \",\" \",\" \",\" \",\" \",\" \",\" \",\" \",\" \",\" \",\" \",\" \",\" \",\" \",\" \",\" \",\" \",\" \",\" \",\" \",\" \",\" \",\" \"],\"shape\":[102],\"dtype\":\"object\",\"order\":\"little\"}],[\"__label\",{\"type\":\"ndarray\",\"array\":[\" \",\" \",\" \",\" \",\" \",\" \",\" \",\" \",\" \",\" \",\" \",\" \",\" \",\" \",\" \",\" \",\" \",\" \",\" \",\" \",\" \",\" \",\" \",\" \",\" \",\" \",\" \",\" \",\" \",\" \",\" \",\" \",\" \",\" \",\" \",\" \",\" \",\" \",\" \",\" \",\" \",\" \",\" \",\" \",\" \",\" \",\" \",\" \",\" \",\" \",\" \",\" \",\" \",\" \",\" \",\" \",\" \",\" \",\" \",\" \",\" \",\" \",\" \",\" \",\" \",\" \",\" \",\" \",\" \",\" \",\" \",\" \",\" \",\" \",\" \",\" \",\" \",\" \",\" \",\" \",\" \",\" \",\" \",\" \",\" \",\" \",\" \",\" \",\" \",\" \",\" \",\" \",\" \",\" \",\" \",\" \",\" \",\" \",\" \",\" \",\" \",\" \"],\"shape\":[102],\"dtype\":\"object\",\"order\":\"little\"}],[\"__xs\",[[72.58123258195452,72.58123258195452],[89.81737142978955,89.81737142978955],[92.85683599169035,92.85683599169035],[87.23772351392863,87.23772351392863],[62.30621643771576,62.30621643771576],[49.72763180605237,49.72763180605237],[81.55829062642808,81.55829062642808],[66.38964170802944,66.38964170802944],[90.58194650287476,90.58194650287476],[75.12907777266707,75.12907777266707],[62.57187722621383,62.57187722621383],[95.05408021427245,95.05408021427245],[80.18055684513108,80.18055684513108],[80.9316504098314,80.9316504098314],[64.41336599143965,64.41336599143965],[70.5006027584714,70.5006027584714],[69.14473423999503,69.14473423999503],[80.84794904037325,80.84794904037325],[84.39300442372956,84.39300442372956],[74.99061289306945,74.99061289306945],[70.00140938121102,70.00140938121102],[97.19357447944982,97.19357447944982],[87.71656820828683,87.71656820828683],[45.293361454546805,45.293361454546805],[70.10941664329496,70.10941664329496],[72.19564899772197,72.19564899772197],[84.79127995880854,84.79127995880854],[75.30600154905552,75.30600154905552],[67.64108591188133,67.64108591188133],[95.88891206641406,95.88891206641406],[87.7381293821667,87.7381293821667],[92.01616066918231,92.01616066918231],[89.68910046425589,89.68910046425589],[99.97666291024152,99.97666291024152],[70.17208680673679,70.17208680673679],[85.43508943790982,85.43508943790982],[78.04855004864076,78.04855004864076],[91.6311390742402,91.6311390742402],[85.95114426231024,85.95114426231024],[57.96709501442258,57.96709501442258],[93.03010632177113,93.03010632177113],[64.65717104465759,64.65717104465759],[95.19070392153823,95.19070392153823],[77.71761883883629,77.71761883883629],[80.10998140836722,80.10998140836722],[90.07108784886451,90.07108784886451],[79.96112636350541,79.96112636350541],[86.56006927530058,86.56006927530058],[93.18065368330528,93.18065368330528],[75.592849168708,75.592849168708],[66.970488595584,66.970488595584],[77.83989300347885,77.83989300347885],[72.70632139832522,72.70632139832522],[72.89272986980457,72.89272986980457],[84.34942625491087,84.34942625491087],[86.94446708900668,86.94446708900668],[87.9489114678608,87.9489114678608],[89.50174921359888,89.50174921359888],[87.8815456129715,87.8815456129715],[80.56179253837304,80.56179253837304],[89.8243603032853,89.8243603032853],[80.94660353502013,80.94660353502013],[84.80595528349129,84.80595528349129],[84.60443900831474,84.60443900831474],[78.11103943065596,78.11103943065596],[84.63337843754128,84.63337843754128],[85.46058727213207,85.46058727213207],[84.82032083812592,84.82032083812592],[77.63760328177744,77.63760328177744],[90.3305853257269,90.3305853257269],[99.32183547553497,99.32183547553497],[84.68103072181647,84.68103072181647],[87.48977614310111,87.48977614310111],[97.76056843080632,97.76056843080632],[92.61682537744332,92.61682537744332],[99.91894691055228,99.91894691055228],[60.535676885056596,60.535676885056596],[94.77890666858423,94.77890666858423],[77.62584072243605,77.62584072243605],[77.38616087279124,77.38616087279124],[82.52844090054987,82.52844090054987],[39.6080995107165,39.6080995107165],[86.87798317674957,86.87798317674957],[84.67117569025804,84.67117569025804],[87.16123114352874,87.16123114352874],[78.01605757390713,78.01605757390713],[63.037247969386065,63.037247969386065],[72.43868226459969,72.43868226459969],[85.04191772922124,85.04191772922124],[92.47094595826492,92.47094595826492],[85.20871043798589,85.20871043798589],[72.14584596701725,72.14584596701725],[89.37936293502015,89.37936293502015],[89.22894991229857,89.22894991229857],[55.66992252609702,55.66992252609702],[87.36040451745959,87.36040451745959],[59.69703225374708,59.69703225374708],[78.19297509660632,78.19297509660632],[86.92678304649485,86.92678304649485],[75.6590180118935,75.6590180118935],[69.64649479149294,69.64649479149294],[62.98300296176601,62.98300296176601]]],[\"__ys\",[[0,1.3],[0,1.3],[0,1.3],[0,1.3],[0,1.3],[0,1.3],[0,1.3],[0,1.3],[0,1.3],[0,1.3],[0,1.3],[0,1.3],[0,1.3],[0,1.3],[0,1.3],[0,1.3],[0,1.3],[0,1.3],[0,1.3],[0,1.3],[0,1.3],[0,1.3],[0,1.3],[0,1.3],[0,1.3],[0,1.3],[0,1.3],[0,1.3],[0,1.3],[0,1.3],[0,1.3],[0,1.3],[0,1.3],[0,1.3],[0,1.3],[0,1.3],[0,1.3],[0,1.3],[0,1.3],[0,1.3],[0,1.3],[0,1.3],[0,1.3],[0,1.3],[0,1.3],[0,1.3],[0,1.3],[0,1.3],[0,1.3],[0,1.3],[0,1.3],[0,1.3],[0,1.3],[0,1.3],[0,1.3],[0,1.3],[0,1.3],[0,1.3],[0,1.3],[0,1.3],[0,1.3],[0,1.3],[0,1.3],[0,1.3],[0,1.3],[0,1.3],[0,1.3],[0,1.3],[0,1.3],[0,1.3],[0,1.3],[0,1.3],[0,1.3],[0,1.3],[0,1.3],[0,1.3],[0,1.3],[0,1.3],[0,1.3],[0,1.3],[0,1.3],[0,1.3],[0,1.3],[0,1.3],[0,1.3],[0,1.3],[0,1.3],[0,1.3],[0,1.3],[0,1.3],[0,1.3],[0,1.3],[0,1.3],[0,1.3],[0,1.3],[0,1.3],[0,1.3],[0,1.3],[0,1.3],[0,1.3],[0,1.3],[0,1.3]]]]}}},\"view\":{\"type\":\"object\",\"name\":\"CDSView\",\"id\":\"p1503\",\"attributes\":{\"filter\":{\"type\":\"object\",\"name\":\"AllIndices\",\"id\":\"p1504\"}}},\"glyph\":{\"type\":\"object\",\"name\":\"MultiLine\",\"id\":\"p1499\",\"attributes\":{\"xs\":{\"type\":\"field\",\"field\":\"__xs\"},\"ys\":{\"type\":\"field\",\"field\":\"__ys\"},\"line_color\":{\"type\":\"value\",\"value\":\"#1f77b3\"},\"line_alpha\":{\"type\":\"value\",\"value\":0.5},\"line_width\":{\"type\":\"value\",\"value\":0.5}}},\"nonselection_glyph\":{\"type\":\"object\",\"name\":\"MultiLine\",\"id\":\"p1500\",\"attributes\":{\"xs\":{\"type\":\"field\",\"field\":\"__xs\"},\"ys\":{\"type\":\"field\",\"field\":\"__ys\"},\"line_color\":{\"type\":\"value\",\"value\":\"#1f77b3\"},\"line_alpha\":{\"type\":\"value\",\"value\":0.1},\"line_width\":{\"type\":\"value\",\"value\":0.5}}},\"muted_glyph\":{\"type\":\"object\",\"name\":\"MultiLine\",\"id\":\"p1501\",\"attributes\":{\"xs\":{\"type\":\"field\",\"field\":\"__xs\"},\"ys\":{\"type\":\"field\",\"field\":\"__ys\"},\"line_color\":{\"type\":\"value\",\"value\":\"#1f77b3\"},\"line_alpha\":{\"type\":\"value\",\"value\":0.2},\"line_width\":{\"type\":\"value\",\"value\":0.5}}}}}],\"toolbar\":{\"type\":\"object\",\"name\":\"Toolbar\",\"id\":\"p1464\",\"attributes\":{\"tools\":[{\"type\":\"object\",\"name\":\"PanTool\",\"id\":\"p1477\"},{\"type\":\"object\",\"name\":\"WheelZoomTool\",\"id\":\"p1478\"},{\"type\":\"object\",\"name\":\"BoxZoomTool\",\"id\":\"p1479\",\"attributes\":{\"overlay\":{\"type\":\"object\",\"name\":\"BoxAnnotation\",\"id\":\"p1480\",\"attributes\":{\"syncable\":false,\"level\":\"overlay\",\"visible\":false,\"left_units\":\"canvas\",\"right_units\":\"canvas\",\"bottom_units\":\"canvas\",\"top_units\":\"canvas\",\"line_color\":\"black\",\"line_alpha\":1.0,\"line_width\":2,\"line_dash\":[4,4],\"fill_color\":\"lightgrey\",\"fill_alpha\":0.5}}}},{\"type\":\"object\",\"name\":\"SaveTool\",\"id\":\"p1481\"},{\"type\":\"object\",\"name\":\"ResetTool\",\"id\":\"p1482\"},{\"type\":\"object\",\"name\":\"HelpTool\",\"id\":\"p1483\"}]}},\"toolbar_location\":\"above\",\"left\":[{\"type\":\"object\",\"name\":\"LinearAxis\",\"id\":\"p1472\",\"attributes\":{\"ticker\":{\"type\":\"object\",\"name\":\"BasicTicker\",\"id\":\"p1473\",\"attributes\":{\"mantissas\":[1,2,5]}},\"formatter\":{\"type\":\"object\",\"name\":\"BasicTickFormatter\",\"id\":\"p1474\"},\"axis_label\":\"count\",\"major_label_policy\":{\"type\":\"object\",\"name\":\"AllLabels\",\"id\":\"p1475\"}}}],\"below\":[{\"type\":\"object\",\"name\":\"LinearAxis\",\"id\":\"p1467\",\"attributes\":{\"ticker\":{\"type\":\"object\",\"name\":\"BasicTicker\",\"id\":\"p1468\",\"attributes\":{\"mantissas\":[1,2,5]}},\"formatter\":{\"type\":\"object\",\"name\":\"BasicTickFormatter\",\"id\":\"p1469\"},\"axis_label\":\"percent correct with noise\",\"major_label_policy\":{\"type\":\"object\",\"name\":\"AllLabels\",\"id\":\"p1470\"}}}],\"center\":[{\"type\":\"object\",\"name\":\"Grid\",\"id\":\"p1471\",\"attributes\":{\"axis\":{\"id\":\"p1467\"}}},{\"type\":\"object\",\"name\":\"Grid\",\"id\":\"p1476\",\"attributes\":{\"dimension\":1,\"axis\":{\"id\":\"p1472\"}}}],\"frame_width\":375,\"frame_height\":275}}]}};\n",
       "  const render_items = [{\"docid\":\"df2c2dc0-dfeb-4e3b-9742-a52fd16ee637\",\"roots\":{\"p1456\":\"b9b92c7b-6e6c-460d-affb-48a1d9ef24b0\"},\"root_ids\":[\"p1456\"]}];\n",
       "  root.Bokeh.embed.embed_items_notebook(docs_json, render_items);\n",
       "  }\n",
       "  if (root.Bokeh !== undefined) {\n",
       "    embed_document(root);\n",
       "  } else {\n",
       "    let attempts = 0;\n",
       "    const timer = setInterval(function(root) {\n",
       "      if (root.Bokeh !== undefined) {\n",
       "        clearInterval(timer);\n",
       "        embed_document(root);\n",
       "      } else {\n",
       "        attempts++;\n",
       "        if (attempts > 100) {\n",
       "          clearInterval(timer);\n",
       "          console.log(\"Bokeh: ERROR: Unable to run BokehJS code because BokehJS library is missing\");\n",
       "        }\n",
       "      }\n",
       "    }, 10, root)\n",
       "  }\n",
       "})(window);"
      ],
      "application/vnd.bokehjs_exec.v0+json": ""
     },
     "metadata": {
      "application/vnd.bokehjs_exec.v0+json": {
       "id": "p1456"
      }
     },
     "output_type": "display_data"
    }
   ],
   "source": [
    "p = iqplot.histogram(df, \"percent correct with noise\")\n",
    "\n",
    "bokeh.io.show(p)"
   ]
  },
  {
   "cell_type": "markdown",
   "metadata": {},
   "source": [
    "The **rug plot** at the bottom of the histogram shows all of the measurements (following the \"plot all your data\" rule)."
   ]
  },
  {
   "cell_type": "markdown",
   "metadata": {},
   "source": [
    "## ECDFs\n",
    "\n",
    "Histograms are typically used to display how data are distributed. As an example I will generate Normally distributed data and plot the histogram."
   ]
  },
  {
   "cell_type": "code",
   "execution_count": 13,
   "metadata": {},
   "outputs": [
    {
     "data": {
      "text/html": [
       "\n",
       "  <div id=\"d1c45a72-1600-49ca-9627-b6c5cc6b982d\" data-root-id=\"p1525\" style=\"display: contents;\"></div>\n"
      ]
     },
     "metadata": {},
     "output_type": "display_data"
    },
    {
     "data": {
      "application/javascript": [
       "(function(root) {\n",
       "  function embed_document(root) {\n",
       "  const docs_json = {\"fff95db5-dca0-4c18-a921-f45249ecb15f\":{\"version\":\"3.2.1\",\"title\":\"Bokeh Application\",\"roots\":[{\"type\":\"object\",\"name\":\"Figure\",\"id\":\"p1525\",\"attributes\":{\"x_range\":{\"type\":\"object\",\"name\":\"DataRange1d\",\"id\":\"p1527\"},\"y_range\":{\"type\":\"object\",\"name\":\"DataRange1d\",\"id\":\"p1524\",\"attributes\":{\"start\":0}},\"x_scale\":{\"type\":\"object\",\"name\":\"LinearScale\",\"id\":\"p1534\"},\"y_scale\":{\"type\":\"object\",\"name\":\"LinearScale\",\"id\":\"p1535\"},\"title\":{\"type\":\"object\",\"name\":\"Title\",\"id\":\"p1532\"},\"renderers\":[{\"type\":\"object\",\"name\":\"GlyphRenderer\",\"id\":\"p1559\",\"attributes\":{\"data_source\":{\"type\":\"object\",\"name\":\"ColumnDataSource\",\"id\":\"p1553\",\"attributes\":{\"selected\":{\"type\":\"object\",\"name\":\"Selection\",\"id\":\"p1554\",\"attributes\":{\"indices\":[],\"line_indices\":[]}},\"selection_policy\":{\"type\":\"object\",\"name\":\"UnionRenderers\",\"id\":\"p1555\"},\"data\":{\"type\":\"map\",\"entries\":[[\"x\",{\"type\":\"ndarray\",\"array\":{\"type\":\"bytes\",\"data\":\"jhBlv+wACMCOEGW/7AAIwBkZJhKKYwXAGRkmEopjBcCkIedkJ8YCwKQh52QnxgLALiqot8QoAMAuKqi3xCgAwHNl0hTEFvu/c2XSFMQW+7+JdlS6/tv1v4l2VLr+2/W/nofWXzmh8L+eh9ZfOaHwv2gxsQrozOa/aDGxCujM5r8op2qruq7Yvyinaqu6rti/AFyXCyodrr8AXJcLKh2uvyjQhChwJ9E/KNCEKHAn0T/oRT7JQgnjP+hFPslCCeM/wCM6fs1+7T/AIzp+zX7tP8gAmxks+vM/yACbGSz68z+07xh08TT5P7TvGHTxNPk/nN6WzrZv/j+c3pbOtm/+P8RmihQ+1QFAxGaKFD7VAUA6XsnBoHIEQDpeycGgcgRArVUIbwMQB0CtVQhvAxAHQA==\"},\"shape\":[38],\"dtype\":\"float64\",\"order\":\"little\"}],[\"y\",{\"type\":\"ndarray\",\"array\":{\"type\":\"bytes\",\"data\":\"AAAAAAAAAAAAAAAAAAAAQAAAAAAAAABAAAAAAAAAFEAAAAAAAAAUQAAAAAAAABRAAAAAAAAAFEAAAAAAAAAsQAAAAAAAACxAAAAAAAAAJkAAAAAAAAAmQAAAAAAAgEVAAAAAAACARUAAAAAAAABFQAAAAAAAAEVAAAAAAACASkAAAAAAAIBKQAAAAAAAAEpAAAAAAAAASkAAAAAAAMBRQAAAAAAAwFFAAAAAAABAUEAAAAAAAEBQQAAAAAAAAExAAAAAAAAATEAAAAAAAIBBQAAAAAAAgEFAAAAAAAAAOkAAAAAAAAA6QAAAAAAAAChAAAAAAAAAKEAAAAAAAAAQQAAAAAAAABBAAAAAAAAA8D8AAAAAAADwPwAAAAAAAAhAAAAAAAAACEAAAAAAAAAAAA==\"},\"shape\":[38],\"dtype\":\"float64\",\"order\":\"little\"}]]}}},\"view\":{\"type\":\"object\",\"name\":\"CDSView\",\"id\":\"p1560\",\"attributes\":{\"filter\":{\"type\":\"object\",\"name\":\"AllIndices\",\"id\":\"p1561\"}}},\"glyph\":{\"type\":\"object\",\"name\":\"Line\",\"id\":\"p1556\",\"attributes\":{\"x\":{\"type\":\"field\",\"field\":\"x\"},\"y\":{\"type\":\"field\",\"field\":\"y\"},\"line_color\":\"#1f77b3\",\"line_width\":2}},\"nonselection_glyph\":{\"type\":\"object\",\"name\":\"Line\",\"id\":\"p1557\",\"attributes\":{\"x\":{\"type\":\"field\",\"field\":\"x\"},\"y\":{\"type\":\"field\",\"field\":\"y\"},\"line_color\":\"#1f77b3\",\"line_alpha\":0.1,\"line_width\":2}},\"muted_glyph\":{\"type\":\"object\",\"name\":\"Line\",\"id\":\"p1558\",\"attributes\":{\"x\":{\"type\":\"field\",\"field\":\"x\"},\"y\":{\"type\":\"field\",\"field\":\"y\"},\"line_color\":\"#1f77b3\",\"line_alpha\":0.2,\"line_width\":2}}}},{\"type\":\"object\",\"name\":\"GlyphRenderer\",\"id\":\"p1568\",\"attributes\":{\"data_source\":{\"type\":\"object\",\"name\":\"ColumnDataSource\",\"id\":\"p1562\",\"attributes\":{\"selected\":{\"type\":\"object\",\"name\":\"Selection\",\"id\":\"p1563\",\"attributes\":{\"indices\":[],\"line_indices\":[]}},\"selection_policy\":{\"type\":\"object\",\"name\":\"UnionRenderers\",\"id\":\"p1564\"},\"data\":{\"type\":\"map\",\"entries\":[[\"x\",[-3.0004515602796067,-3.0004515602796067,-2.6736031930805777,-2.6736031930805777,-2.3467548258815487,-2.3467548258815487,-2.0199064586825193,-2.0199064586825193,-1.6930580914834905,-1.6930580914834905,-1.3662097242844615,-1.3662097242844615,-1.0393613570854323,-1.0393613570854323,-0.7125129898864033,-0.7125129898864033,-0.38566462268737434,-0.38566462268737434,-0.05881625548834535,-0.05881625548834535,0.26803211171068364,0.26803211171068364,0.5948804789097126,0.5948804789097126,0.9217288461087421,0.9217288461087421,1.2485772133077706,1.2485772133077706,1.5754255805068,1.5754255805068,1.9022739477058286,1.9022739477058286,2.229122314904858,2.229122314904858,2.5559706821038874,2.5559706821038874,2.8828190493029155,2.8828190493029155,2.8828190493029155,-3.0004515602796067]],[\"y\",[0.0,2.0,2.0,5.0,5.0,5.0,5.0,14.0,14.0,11.0,11.0,43.0,43.0,42.0,42.0,53.0,53.0,52.0,52.0,71.0,71.0,65.0,65.0,56.0,56.0,35.0,35.0,26.0,26.0,12.0,12.0,4.0,4.0,1.0,1.0,3.0,3.0,0.0,0,0]]]}}},\"view\":{\"type\":\"object\",\"name\":\"CDSView\",\"id\":\"p1569\",\"attributes\":{\"filter\":{\"type\":\"object\",\"name\":\"AllIndices\",\"id\":\"p1570\"}}},\"glyph\":{\"type\":\"object\",\"name\":\"Patch\",\"id\":\"p1565\",\"attributes\":{\"x\":{\"type\":\"field\",\"field\":\"x\"},\"y\":{\"type\":\"field\",\"field\":\"y\"},\"line_color\":\"#1f77b3\",\"line_alpha\":0,\"fill_color\":\"#1f77b3\",\"fill_alpha\":0.3,\"hatch_color\":\"#1f77b3\"}},\"nonselection_glyph\":{\"type\":\"object\",\"name\":\"Patch\",\"id\":\"p1566\",\"attributes\":{\"x\":{\"type\":\"field\",\"field\":\"x\"},\"y\":{\"type\":\"field\",\"field\":\"y\"},\"line_color\":\"#1f77b3\",\"line_alpha\":0.1,\"fill_color\":\"#1f77b3\",\"fill_alpha\":0.1,\"hatch_color\":\"#1f77b3\",\"hatch_alpha\":0.1}},\"muted_glyph\":{\"type\":\"object\",\"name\":\"Patch\",\"id\":\"p1567\",\"attributes\":{\"x\":{\"type\":\"field\",\"field\":\"x\"},\"y\":{\"type\":\"field\",\"field\":\"y\"},\"line_color\":\"#1f77b3\",\"line_alpha\":0.2,\"fill_color\":\"#1f77b3\",\"fill_alpha\":0.2,\"hatch_color\":\"#1f77b3\",\"hatch_alpha\":0.2}}}}],\"toolbar\":{\"type\":\"object\",\"name\":\"Toolbar\",\"id\":\"p1533\",\"attributes\":{\"tools\":[{\"type\":\"object\",\"name\":\"PanTool\",\"id\":\"p1546\"},{\"type\":\"object\",\"name\":\"WheelZoomTool\",\"id\":\"p1547\"},{\"type\":\"object\",\"name\":\"BoxZoomTool\",\"id\":\"p1548\",\"attributes\":{\"overlay\":{\"type\":\"object\",\"name\":\"BoxAnnotation\",\"id\":\"p1549\",\"attributes\":{\"syncable\":false,\"level\":\"overlay\",\"visible\":false,\"left_units\":\"canvas\",\"right_units\":\"canvas\",\"bottom_units\":\"canvas\",\"top_units\":\"canvas\",\"line_color\":\"black\",\"line_alpha\":1.0,\"line_width\":2,\"line_dash\":[4,4],\"fill_color\":\"lightgrey\",\"fill_alpha\":0.5}}}},{\"type\":\"object\",\"name\":\"SaveTool\",\"id\":\"p1550\"},{\"type\":\"object\",\"name\":\"ResetTool\",\"id\":\"p1551\"},{\"type\":\"object\",\"name\":\"HelpTool\",\"id\":\"p1552\"}]}},\"toolbar_location\":\"above\",\"left\":[{\"type\":\"object\",\"name\":\"LinearAxis\",\"id\":\"p1541\",\"attributes\":{\"ticker\":{\"type\":\"object\",\"name\":\"BasicTicker\",\"id\":\"p1542\",\"attributes\":{\"mantissas\":[1,2,5]}},\"formatter\":{\"type\":\"object\",\"name\":\"BasicTickFormatter\",\"id\":\"p1543\"},\"axis_label\":\"count\",\"major_label_policy\":{\"type\":\"object\",\"name\":\"AllLabels\",\"id\":\"p1544\"}}}],\"below\":[{\"type\":\"object\",\"name\":\"LinearAxis\",\"id\":\"p1536\",\"attributes\":{\"ticker\":{\"type\":\"object\",\"name\":\"BasicTicker\",\"id\":\"p1537\",\"attributes\":{\"mantissas\":[1,2,5]}},\"formatter\":{\"type\":\"object\",\"name\":\"BasicTickFormatter\",\"id\":\"p1538\"},\"axis_label\":\"x\",\"major_label_policy\":{\"type\":\"object\",\"name\":\"AllLabels\",\"id\":\"p1539\"}}}],\"center\":[{\"type\":\"object\",\"name\":\"Grid\",\"id\":\"p1540\",\"attributes\":{\"axis\":{\"id\":\"p1536\"}}},{\"type\":\"object\",\"name\":\"Grid\",\"id\":\"p1545\",\"attributes\":{\"dimension\":1,\"axis\":{\"id\":\"p1541\"}}}],\"frame_width\":375,\"frame_height\":275}}]}};\n",
       "  const render_items = [{\"docid\":\"fff95db5-dca0-4c18-a921-f45249ecb15f\",\"roots\":{\"p1525\":\"d1c45a72-1600-49ca-9627-b6c5cc6b982d\"},\"root_ids\":[\"p1525\"]}];\n",
       "  root.Bokeh.embed.embed_items_notebook(docs_json, render_items);\n",
       "  }\n",
       "  if (root.Bokeh !== undefined) {\n",
       "    embed_document(root);\n",
       "  } else {\n",
       "    let attempts = 0;\n",
       "    const timer = setInterval(function(root) {\n",
       "      if (root.Bokeh !== undefined) {\n",
       "        clearInterval(timer);\n",
       "        embed_document(root);\n",
       "      } else {\n",
       "        attempts++;\n",
       "        if (attempts > 100) {\n",
       "          clearInterval(timer);\n",
       "          console.log(\"Bokeh: ERROR: Unable to run BokehJS code because BokehJS library is missing\");\n",
       "        }\n",
       "      }\n",
       "    }, 10, root)\n",
       "  }\n",
       "})(window);"
      ],
      "application/vnd.bokehjs_exec.v0+json": ""
     },
     "metadata": {
      "application/vnd.bokehjs_exec.v0+json": {
       "id": "p1525"
      }
     },
     "output_type": "display_data"
    }
   ],
   "source": [
    "x = rg.normal(size=500)\n",
    "bokeh.io.show(iqplot.histogram(x, rug=False, style=\"step_filled\"))"
   ]
  },
  {
   "cell_type": "markdown",
   "metadata": {},
   "source": [
    "This looks similar to the standard Normal curve we are used to seeing and is a useful comparison to a **probability density function** (PDF). However, Histograms suffer from **binning bias**. By binning the data, you are not plotting all of them. In general, if you can **plot all of your data**, you should. For that reason, I prefer not to use histograms for studying how data are distributed, but rather prefer to use ECDFs, which enable plotting of all data.\n",
    "\n",
    "The ECDF evaluated at x for a set of measurements is defined as\n",
    "\n",
    "\\begin{align}\n",
    "\\text{ECDF}(x) = \\text{fraction of measurements } \\le x.\n",
    "\\end{align}\n",
    "\n",
    "While the histogram is an attempt to visualize a probability density function (PDF) of a distribution, the ECDF visualizes the **cumulative density function** (CDF). The CDF, $F(x)$, and PDF, $f(x)$, both completely define a univariate distribution and are related by\n",
    "\n",
    "\\begin{align}\n",
    "f(x) = \\frac{\\mathrm{d}F}{\\mathrm{d}x}.\n",
    "\\end{align}\n",
    "\n",
    "The definition of the ECDF is all that you need for interpretation. For a given value on the x-axis, the value of the ECDF is the fraction of observations that are less than or equal to that value. Once you get used to looking at CDFs, they will become as familiar as PDFs. A peak in a PDF corresponds to an inflection point in a CDF.\n",
    "\n",
    "To make this more clear, let us look at plot of a PDF and ECDF for familiar distributions, the Gaussian and Binomial.\n",
    "\n",
    "<div style=\"width: 600px; margin: auto;\">\n",
    "\n",
    "![PDFs and CDFs](pdf_cdf.png)\n",
    "\n",
    "</div>\n",
    "\n",
    "Now that we know what an ECDF is, we can plot it."
   ]
  },
  {
   "cell_type": "code",
   "execution_count": 14,
   "metadata": {},
   "outputs": [
    {
     "data": {
      "text/html": [
       "\n",
       "  <div id=\"a578ea19-e3dd-4e3f-a4c8-df52f8d9b6bb\" data-root-id=\"p1573\" style=\"display: contents;\"></div>\n"
      ]
     },
     "metadata": {},
     "output_type": "display_data"
    },
    {
     "data": {
      "application/javascript": [
       "(function(root) {\n",
       "  function embed_document(root) {\n",
       "  const docs_json = {\"07ca96dd-a1e8-4d29-a604-9b2835366ee7\":{\"version\":\"3.2.1\",\"title\":\"Bokeh Application\",\"roots\":[{\"type\":\"object\",\"name\":\"Figure\",\"id\":\"p1573\",\"attributes\":{\"x_range\":{\"type\":\"object\",\"name\":\"DataRange1d\",\"id\":\"p1574\"},\"y_range\":{\"type\":\"object\",\"name\":\"DataRange1d\",\"id\":\"p1575\"},\"x_scale\":{\"type\":\"object\",\"name\":\"LinearScale\",\"id\":\"p1582\"},\"y_scale\":{\"type\":\"object\",\"name\":\"LinearScale\",\"id\":\"p1583\"},\"title\":{\"type\":\"object\",\"name\":\"Title\",\"id\":\"p1580\"},\"renderers\":[{\"type\":\"object\",\"name\":\"GlyphRenderer\",\"id\":\"p1610\",\"attributes\":{\"data_source\":{\"type\":\"object\",\"name\":\"ColumnDataSource\",\"id\":\"p1601\",\"attributes\":{\"selected\":{\"type\":\"object\",\"name\":\"Selection\",\"id\":\"p1602\",\"attributes\":{\"indices\":[],\"line_indices\":[]}},\"selection_policy\":{\"type\":\"object\",\"name\":\"UnionRenderers\",\"id\":\"p1603\"},\"data\":{\"type\":\"map\",\"entries\":[[\"index\",{\"type\":\"ndarray\",\"array\":{\"type\":\"bytes\",\"data\":\"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\"},\"shape\":[500],\"dtype\":\"int32\",\"order\":\"little\"}],[\"x\",{\"type\":\"ndarray\",\"array\":{\"type\":\"bytes\",\"data\":\"2S1V0f6q9L+6f+yoz83QP29+jsuBpfG/K3J99zWm9b+weCms3338vyUV9hcTC9i/dS2k9u+93D/xsmFvS/PhPyWyvcmH2OY/wVg38r9jxT9mJHdkYWHjPzwTxAc95Oc/KJ6frcuV8z91MQZCOWzuP6uGZ1jnRZ2/dgxxAwU37b+6svQd18jzP+yIFI3SGfc/0GMqFkoP6r9ka1DQKYryv33YDEc5E98/szina+r5yb/qMjYTAjPAv0l3DFjul+0/r/M77oIbtr9Tw6G8aHThvyOOabdUE+m/1RP5gulp/r82s8JYyFbav3hS910keuM/OHqoBYbw4r9fWxqyKDvHvyvmbE50juU/5kUfxVvY9T9pPlc5PGi0PzQrvElSq7a/9xiNIowY1b/W+CdBDKLwv/quRNycrLy/JcGQTtSyub+FCkBH9HnGv32D8Rw6mba/PkHevin84r9JxyCrd+/gv4U9POMt6Ou/DDY0BY+z8b8Rbdgt9tLZP+Q873uxYPs/BOp6hyzz4r9VLgR/Xz79v3N50iSbQu+/tE3DUafdvz9CrwMkxTnJP9b3x6H2qea/McDuZmNjtj+1Z6IR9kHvv2XOE2pQxfC/54k7OO2d979JgtIzxUzuP1VmmTqED/G/CFXK8XjoBUCm9ig94ab1PxAclwAvKd6/DHpKir1Dxb8MwGteqRvtP2lkQHkWBeC/b5qHprUa4r9XH9pJxgDAP7J19fYrO+m/xUWOxuTJx79IZdjKSJPtPxnowDvN6tU/HTRUd6mC3j/Pcd66iHCxP9vZIAn8/+2/UOTpOBHmAMDK9j5fiVj8P+hKR2eno/K/WSL6gL32/r96FHAlmiXBP+P6+K/9Wt+/eA1ZegBk5b9faeKNWsD1v8xfood+m/I/TaaPGXxIzT9PHne4A/vsP3veSeXUQ+2/GHuXjbnj4r/MdOY6EQ74P2fEP2j2kck/DxQDJvd/5b9weRPCP0vqv/JPpMGB2eo/Oey2ce5A3b/WwnWfmmvjPyV/nA8NMuy/9wWgY7hY3z9evZB4P//QP0hJe5oJvdq/WqCgFQNx9D+ELqU2g53lPxKgcAoMats/Z4qA5ymt4T+GdhddRBroP/fJp4+IuN6/IislW1MMt7+ZOeC/UQbuv22mREQnTfu/dmy01mfmwL8SdC2f7GSjv3oqHoYQGsM/455UFHKs+r8REIQKetbuvzl7AnUrldW/+iqXbsyq97/Tfa2gh8/lvyOsRnc6XPA/psZZLpBU778wy0PUv1zJv5h3aYvara+/qMCQyvP09D+CuZEvvBLnP6D5+ae4S/Y/WT+pwIxB8L8zO5gtLzzev1f8f9d8FfO/uJQHyy7W1D9/HB06+EnyP1u83nZXzwHASDP90c+h3D+wg+Xl9YjuP+r9BYQpOMe/uSAtw8KU1T9e9ojt6cO+v9Biwz8up7g/FKOZmAqX0z8atwaAwQ+PP5+Bi26Wk90/scResd448b9vV1rveyn7Py6m1+GdzP6/R+a8IWlz4b+H08z7N7mKvxZyb/LeEds/T75FSeIa+D+zopHg51/hP71kr1LF3eg/8uLH3BPY9b+i+xRiE4r2P96ymaGif9q/WQtwWbR75D9xb0MHk1LOP651tKHY0tK/2jVA6Xpy8r8vgCtd1uPrPwPKsZZdhvM/jhBlv+wACMAvaySvkAcAQMpmQeWNi88/lPTcfyfs3b9JiRnUvn/2Pwdl6/kAtPi/nDBT8Onc6D/oZD+Jaav0P8I/DKk7pwTAY/qWB68S9L9xnPckpYfOvyhbLc03eKS/7SqLCa5n7r9xvPz7lcIBQJA1OQOk+N2/RiVWmowb8r8on0T84w6jv1N3xrpszfc/DMkXrudixz+xwmt05L/vP8utZOdyLfG/i77gHilv87+7DI0hpdVMvxBuhirtr/C/H3GNlMzRAMC/S/zz8pbxv2A5xoWjEsI/cppjMR7g4b8rETEBqLPMP0JBCKSZRqm/XcLU7WTG9j85MDWTpTLsv+awSsMZggPAVu0bGYov6D88ljGtihzsP7Y13lxAY+I/LNOyP1CJ8b+JKGpbV8jcv6N0tIyys3U/husLJFr58T9bYazrGHjvPyFaoECIP/Q/9YFtaGRm7D8K4GQaXEfQP7JfSTGxvt+/2oZdLEr+1j/94NtgJM7mv+I2y8nns9O/mIgMXvzu8r8iAWGZNjjuP2Fw9xGidvC/hQo/tOycxj/6+zwMeGPkP/yaXFiYUN+/7c8yGDz54D+QTfzujC7fP9UAgDAKoPu/N2ypWg4R5z89GbpdISqqP145TAFFj9Y/AZJJ1xQI5z+RrGFMFcfTv1WExS9e7sM/lRJQXV61mb/C5vS+aRHovxc8oMvHBuC/uaxpIOPUzz/lvL74p1nkP7KelKX9K8a/ns7lzGpK4L8ArMQKgD79v53uEDyy0dI/kNjS9Y0Z4D9HHfZltXakv/2MBK8KnvS/H1mtSi5qBMCTo/rfbb3RP3WUm/4GK98/Zctb5Sqf5L8AYly7LVT1v2ALDsCoaf2/mpkXJoja9j8MUDCjQSfIP5BkMnPJQNi/D2fngjYSA8Br8VPdjo7gv/YVgHDQCum/qUmB0IYy9j/u9g6BX1rWv8kxMswe6fA/MFw/Mh1J5L9IypFh798DwAGvpv309eq/RWTcbtEp4D+8usnSQ+LkP1IAKJ3KrdG/wf40CiJW8z9dS+6os6/ePzJounmh5Oc/TTTrR9CM3z/Jr7/TQVzyPyHwIurGfpy/eBX2PsUK4r8d3DZ2awnwP9DTGXqbiNA/OsSsAB/L6b+xxssrZsDfv+3MB8a6rso/WVu5fqSQbr9ujkVXSxfjv6CaHqjIutK/xddK0+Ir+D+O3DUANybAP8TvfaAmFvW/LClMky+Ez78K51oteGmsv7b+/zQuHvE/0gD3ovDY3j+RoQg5gW3qP+GbROpMMPM/DU1h6jhx0r8yH4o9QxfzPwQuCq84Zr2/cxmX95KQ8D8PPissLEjjv9/QdxdkSABAAs9yXIRg5r+W9+BqfEn+v6SBvbxbpv2/ile7PlCi7D+4HYIc6O3uP7t02IenN90/Eal9en2l6z/HAYiPpBLCv6HmNJwYXeE/Wy/6qb+zsr8uXQHA937yvyZ6ZYv+beG/nBenGSWU4D/Er8rbIL/wP7/AVF6gr7U/JYan9j5kuT8buuvsSIHkP8/6EOP7jwBAaoSMoBQCy78rwVc+v8zev2cRaymHDPK/n/3/CeFL2D/v8ZjWvDTsvyiRoKxNbuA/EBkC13xEyr9HDdW2DsL7P75XdMzNoeG/DLgwK5rp9z9JBViNYdLhv61VCG8DEAdA4wC4e1iOkL82crx7jYrvP0doEGsvatQ/euW9rM3k879nU95lhs7lPw/yYWmls/w/AzchRy1X9D/uUVt2Wg7cP/TavgEjUuQ/IxFsTiWp7b9YPYnMWrQCQOi7MSQ+CPu/YCoXcBvirT/tiPAdomTvP91YUdzGMOM/0SQDnxV2/L/oPtMR09TuP5n7J1EeE+C/3zdFMOI/wj/FGW2wv7DiP8VqUFMZp+e/JKjzHLAy6D8o5GZR1GPpP8j5Ltx9Lua/Tb4074jV878Yz2SXVDO/Py6mooTceOI/pUP99hNd2L+G1QBFN83VPzWAQfizsuQ/TpdYamDj6z/WLArC1QnHP8ydzH3G0eI/bjkZu2Ku8j8KenYhZ3v7P9qyqR9Vuec/YVyunHJi7L8X3qm0uSndv55zlBNVN+A/BEBaCYPX1b997txBePyZP+MSnXDTj5U/5J6K9gIP+T8aDyMuxC/1v9ajhMaIDei/HEj94s/IAMA8tf4XXND3v9BjgsEGs+Y/Y6K+NCAEB0CxEaHMj+XkPzhSg6y9jeY/Q4AUitT087+Db2wDwVXHv8195TRsVee/pauKCnwv4L873llJeCjiv/a+rpMkTeA/P0GPOQ/uzD/jTYY4wUvuvwkX1Tlb68m/8OaYxuVG9T88VmtIm1LXvwzUe7KdgfG/AERJB3SFsz+aTh5j60H+v2RQeFJSjso/Hjpvkq79zz9rw6qYC0vgvwlJ2WKOV/S/xyDHrQPi7T97tpvUi3v5P+0h2j3zf6e/ypcJupNI9b9tJ1Mi1J20P1nkP8zzHPm/GLiGAGZw7r8tOCKtu37nv/Zl1s8MifS/m9Jf+dXE0b/26Bh3cKPvP3csRFjpWvS/v56XJXjryr8CwCHm4f/wvxRKdua0bue/N29fZU/w4z9I1aLfRg7dv8Z6uU0y/uQ/cf19CHvQwj9CZqd3vdDxPwYLzHkemYQ/Zy+iSK7I1r9QCRGaEVzcP84+bx0ZcsQ/MISiNnKQ8r+6c7FM6Yx4PxGNg5Vkues/7BTrP3Q83D93fEt+OZryv3QtqCvlOeI/kRMqnjY9qb/6pPWGNM7hP9U/GteY0O+/PBZAeiu15D8CfhEqrqfOP6aJ/WWXW/g/EiRnHiaV7L8WH63S1PDYv/opj67HJuQ/4hUO+2NX77+y3SAuOT3Wv7PQmiUMDf4/bBMmE1bwvL+IrEEh+VjiP4YxWVT9hOA/oGLPA7PG4j9Jdm3QzbfiPyZC0JLhaOk/A8ksA0gm/D/6ZdZcIgf0P5u6eP9eJeo/hFakjox8BcDyT7o7pZL2v8wOQvFNB+a/IIYmtayF9j+xI3r4Tp3UP07h6Ebq7+a/9hbS3CzFxb+iZ92tUzDRP1uGYmedtvK/sTL9P4Jt4z8/fcNEJjqGP/+rSLQ8t+U/vxN1nCMd9L/2VMjvdVfgP7cZREqHAPA/h+sO6WCsw78c/Ec2RKDvP1VsjkX7DOo/BzpBOLq02z+m6btrARbrv6Trz2tpt9a/hank52Hhyb9QPXMRpOzeP1OGkLG6qrQ/ZZLcGVpI9j9iDTvlJd7hP9xczScUBvu/fGsDHNJu+j8RkQ2JxSzkPzOW1wc95H4/NAeNGXpmxD/9x1Qqhff4Pyx7/WN8Keg/nDgrJWCk4T8mBJIv/tfov7p6Jd0CLuY/FXTMPeI80z9hFECb+/3eP6qtnY2WAOE/xmtyHUbe3D9aeQiv9kzrP8t4qYlVgdw/FiZ+5bj1yb8ytGhC3RPxP/NTQ+wC3NU/3joaXDhg+T+b91j5qKrAv8Av54PCueC/v0ispcqf8b8YOH03y8n5PzGtgUnwidU/DGOUQUOfAsC3AUh5umGmv41qPqkz58c/HehzrKhd5L9In7E/iPvivzo4dsVdIPi/HcVWI5yK6L/0xp7Oc6XBP9hVojK0QOu/x1NEBkoH7L9FTyVRPOvpP7IzDFcr8vK/vaPYNQv79b8KMlgEWAu4P7s855GGaeg/noy6hbgY0j/xJg2Ybab8vw==\"},\"shape\":[500],\"dtype\":\"float64\",\"order\":\"little\"}],[\"__dummy_cat\",{\"type\":\"ndarray\",\"array\":[\" \",\" \",\" \",\" \",\" \",\" \",\" \",\" \",\" \",\" \",\" \",\" \",\" \",\" \",\" \",\" \",\" \",\" \",\" \",\" \",\" \",\" \",\" \",\" \",\" \",\" \",\" \",\" \",\" \",\" \",\" \",\" \",\" \",\" \",\" \",\" \",\" \",\" \",\" \",\" \",\" \",\" \",\" \",\" \",\" \",\" \",\" \",\" \",\" \",\" \",\" \",\" \",\" \",\" \",\" \",\" \",\" \",\" \",\" \",\" \",\" \",\" \",\" \",\" \",\" \",\" \",\" \",\" \",\" \",\" \",\" \",\" \",\" \",\" \",\" \",\" \",\" \",\" \",\" \",\" \",\" \",\" \",\" \",\" \",\" \",\" \",\" \",\" \",\" \",\" \",\" \",\" \",\" \",\" \",\" \",\" \",\" \",\" \",\" \",\" \",\" \",\" \",\" \",\" \",\" \",\" \",\" \",\" \",\" \",\" \",\" \",\" \",\" \",\" \",\" \",\" \",\" \",\" \",\" \",\" \",\" \",\" \",\" \",\" \",\" \",\" \",\" \",\" \",\" \",\" \",\" \",\" \",\" \",\" \",\" \",\" \",\" \",\" \",\" \",\" \",\" \",\" \",\" \",\" \",\" \",\" \",\" \",\" \",\" \",\" \",\" \",\" \",\" \",\" \",\" \",\" \",\" \",\" \",\" \",\" \",\" \",\" \",\" \",\" \",\" \",\" \",\" \",\" \",\" \",\" \",\" \",\" \",\" \",\" \",\" \",\" \",\" \",\" \",\" \",\" \",\" \",\" \",\" \",\" \",\" \",\" \",\" \",\" \",\" \",\" \",\" \",\" \",\" \",\" \",\" \",\" \",\" \",\" \",\" \",\" \",\" \",\" \",\" \",\" \",\" \",\" \",\" \",\" \",\" \",\" \",\" \",\" \",\" \",\" \",\" \",\" \",\" \",\" \",\" \",\" \",\" \",\" \",\" \",\" \",\" \",\" \",\" \",\" \",\" \",\" \",\" \",\" \",\" \",\" \",\" \",\" \",\" \",\" \",\" \",\" \",\" \",\" \",\" \",\" \",\" \",\" \",\" \",\" \",\" \",\" \",\" \",\" \",\" \",\" \",\" \",\" \",\" \",\" \",\" \",\" \",\" \",\" \",\" \",\" \",\" \",\" \",\" \",\" \",\" \",\" \",\" \",\" \",\" \",\" \",\" \",\" \",\" \",\" \",\" \",\" \",\" \",\" \",\" \",\" \",\" \",\" \",\" \",\" \",\" \",\" \",\" \",\" \",\" \",\" \",\" \",\" \",\" \",\" \",\" \",\" \",\" \",\" \",\" \",\" \",\" \",\" \",\" \",\" \",\" \",\" \",\" \",\" \",\" \",\" \",\" \",\" \",\" \",\" \",\" \",\" \",\" \",\" \",\" \",\" \",\" \",\" \",\" \",\" \",\" \",\" \",\" \",\" \",\" \",\" \",\" \",\" \",\" \",\" \",\" \",\" \",\" \",\" \",\" \",\" \",\" \",\" \",\" \",\" \",\" \",\" \",\" \",\" \",\" \",\" \",\" \",\" \",\" \",\" \",\" \",\" \",\" \",\" \",\" \",\" \",\" \",\" \",\" \",\" \",\" \",\" \",\" \",\" \",\" \",\" \",\" \",\" \",\" \",\" \",\" \",\" \",\" \",\" \",\" \",\" \",\" \",\" \",\" \",\" \",\" \",\" \",\" \",\" \",\" \",\" \",\" \",\" \",\" \",\" \",\" \",\" \",\" \",\" \",\" \",\" \",\" \",\" \",\" \",\" \",\" \",\" \",\" \",\" \",\" \",\" \",\" \",\" \",\" \",\" \",\" \",\" \",\" \",\" \",\" \",\" \",\" \",\" \",\" \",\" \",\" \",\" \",\" \",\" \",\" \",\" \",\" \",\" \",\" \",\" \",\" \",\" \",\" \",\" \",\" \",\" \",\" \",\" \",\" \",\" \",\" \",\" \",\" \",\" \",\" \",\" \",\" \",\" \",\" \",\" \",\" \",\" \",\" \",\" \",\" \",\" \",\" \",\" \",\" \",\" \",\" \",\" \",\" \",\" \",\" \",\" \",\" \",\" \",\" \",\" \",\" \",\" \",\" \",\" \",\" \",\" \",\" \",\" \",\" \",\" \",\" \",\" \",\" \",\" \",\" \",\" \",\" \",\" \",\" \",\" \",\" \",\" \"],\"shape\":[500],\"dtype\":\"object\",\"order\":\"little\"}],[\"__ECDF\",{\"type\":\"ndarray\",\"array\":{\"type\":\"bytes\",\"data\":\"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\"},\"shape\":[500],\"dtype\":\"float64\",\"order\":\"little\"}],[\"__label\",{\"type\":\"ndarray\",\"array\":[\" \",\" \",\" \",\" \",\" \",\" \",\" \",\" \",\" \",\" \",\" \",\" \",\" \",\" \",\" \",\" \",\" \",\" \",\" \",\" \",\" \",\" \",\" \",\" \",\" \",\" \",\" \",\" \",\" \",\" \",\" \",\" \",\" \",\" \",\" \",\" \",\" \",\" \",\" \",\" \",\" \",\" \",\" \",\" \",\" \",\" \",\" \",\" \",\" \",\" \",\" \",\" \",\" \",\" \",\" \",\" \",\" \",\" \",\" \",\" \",\" \",\" \",\" \",\" \",\" \",\" \",\" \",\" \",\" \",\" \",\" \",\" \",\" \",\" \",\" \",\" \",\" \",\" \",\" \",\" \",\" \",\" \",\" \",\" \",\" \",\" \",\" \",\" \",\" \",\" \",\" \",\" \",\" \",\" \",\" \",\" \",\" \",\" \",\" \",\" \",\" \",\" \",\" \",\" \",\" \",\" \",\" \",\" \",\" \",\" \",\" \",\" \",\" \",\" \",\" \",\" \",\" \",\" \",\" \",\" \",\" \",\" \",\" \",\" \",\" \",\" \",\" \",\" \",\" \",\" \",\" \",\" \",\" \",\" \",\" \",\" \",\" \",\" \",\" \",\" \",\" \",\" \",\" \",\" \",\" \",\" \",\" \",\" \",\" \",\" \",\" \",\" \",\" \",\" \",\" \",\" \",\" \",\" \",\" \",\" \",\" \",\" \",\" \",\" \",\" \",\" \",\" \",\" \",\" \",\" \",\" \",\" \",\" \",\" \",\" \",\" \",\" \",\" \",\" \",\" \",\" \",\" \",\" \",\" \",\" \",\" \",\" \",\" \",\" \",\" \",\" \",\" \",\" \",\" \",\" \",\" \",\" \",\" \",\" \",\" \",\" \",\" \",\" \",\" \",\" \",\" \",\" \",\" \",\" \",\" \",\" \",\" \",\" \",\" \",\" \",\" \",\" \",\" \",\" \",\" \",\" \",\" \",\" \",\" \",\" \",\" \",\" \",\" \",\" \",\" \",\" \",\" \",\" \",\" \",\" \",\" \",\" \",\" \",\" \",\" \",\" \",\" \",\" \",\" \",\" \",\" \",\" \",\" \",\" \",\" \",\" \",\" \",\" \",\" \",\" \",\" \",\" \",\" \",\" \",\" \",\" \",\" \",\" \",\" \",\" \",\" \",\" \",\" \",\" \",\" \",\" \",\" \",\" \",\" \",\" \",\" \",\" \",\" \",\" \",\" \",\" \",\" \",\" \",\" \",\" \",\" \",\" \",\" \",\" \",\" \",\" \",\" \",\" \",\" \",\" \",\" \",\" \",\" \",\" \",\" \",\" \",\" \",\" \",\" \",\" \",\" \",\" \",\" \",\" \",\" \",\" \",\" \",\" \",\" \",\" \",\" \",\" \",\" \",\" \",\" \",\" \",\" \",\" \",\" \",\" \",\" \",\" \",\" \",\" \",\" \",\" \",\" \",\" \",\" \",\" \",\" \",\" \",\" \",\" \",\" \",\" \",\" \",\" \",\" \",\" \",\" \",\" \",\" \",\" \",\" \",\" \",\" \",\" \",\" \",\" \",\" \",\" \",\" \",\" \",\" \",\" \",\" \",\" \",\" \",\" \",\" \",\" \",\" \",\" \",\" \",\" \",\" \",\" \",\" \",\" \",\" \",\" \",\" \",\" \",\" \",\" \",\" \",\" \",\" \",\" \",\" \",\" \",\" \",\" \",\" \",\" \",\" \",\" \",\" \",\" \",\" \",\" \",\" \",\" \",\" \",\" \",\" \",\" \",\" \",\" \",\" \",\" \",\" \",\" \",\" \",\" \",\" \",\" \",\" \",\" \",\" \",\" \",\" \",\" \",\" \",\" \",\" \",\" \",\" \",\" \",\" \",\" \",\" \",\" \",\" \",\" \",\" \",\" \",\" \",\" \",\" \",\" \",\" \",\" \",\" \",\" \",\" \",\" \",\" \",\" \",\" \",\" \",\" \",\" \",\" \",\" \",\" \",\" \",\" \",\" \",\" \",\" \",\" \",\" \",\" \",\" \",\" \",\" \",\" \",\" \",\" \",\" \",\" \",\" \",\" \",\" \",\" \",\" \",\" \",\" \",\" \",\" \",\" \",\" \",\" \",\" \",\" \",\" \",\" \",\" \",\" \",\" \",\" \",\" \",\" \",\" \",\" \",\" \",\" \",\" \",\" \",\" \",\" \",\" \",\" \"],\"shape\":[500],\"dtype\":\"object\",\"order\":\"little\"}]]}}},\"view\":{\"type\":\"object\",\"name\":\"CDSView\",\"id\":\"p1611\",\"attributes\":{\"filter\":{\"type\":\"object\",\"name\":\"AllIndices\",\"id\":\"p1612\"}}},\"glyph\":{\"type\":\"object\",\"name\":\"Circle\",\"id\":\"p1607\",\"attributes\":{\"x\":{\"type\":\"field\",\"field\":\"x\"},\"y\":{\"type\":\"field\",\"field\":\"__ECDF\"},\"line_color\":{\"type\":\"value\",\"value\":\"#1f77b3\"},\"fill_color\":{\"type\":\"value\",\"value\":\"#1f77b3\"}}},\"nonselection_glyph\":{\"type\":\"object\",\"name\":\"Circle\",\"id\":\"p1608\",\"attributes\":{\"x\":{\"type\":\"field\",\"field\":\"x\"},\"y\":{\"type\":\"field\",\"field\":\"__ECDF\"},\"line_color\":{\"type\":\"value\",\"value\":\"#1f77b3\"},\"line_alpha\":{\"type\":\"value\",\"value\":0.1},\"fill_color\":{\"type\":\"value\",\"value\":\"#1f77b3\"},\"fill_alpha\":{\"type\":\"value\",\"value\":0.1},\"hatch_alpha\":{\"type\":\"value\",\"value\":0.1}}},\"muted_glyph\":{\"type\":\"object\",\"name\":\"Circle\",\"id\":\"p1609\",\"attributes\":{\"x\":{\"type\":\"field\",\"field\":\"x\"},\"y\":{\"type\":\"field\",\"field\":\"__ECDF\"},\"line_color\":{\"type\":\"value\",\"value\":\"#1f77b3\"},\"line_alpha\":{\"type\":\"value\",\"value\":0.2},\"fill_color\":{\"type\":\"value\",\"value\":\"#1f77b3\"},\"fill_alpha\":{\"type\":\"value\",\"value\":0.2},\"hatch_alpha\":{\"type\":\"value\",\"value\":0.2}}}}}],\"toolbar\":{\"type\":\"object\",\"name\":\"Toolbar\",\"id\":\"p1581\",\"attributes\":{\"tools\":[{\"type\":\"object\",\"name\":\"PanTool\",\"id\":\"p1594\"},{\"type\":\"object\",\"name\":\"WheelZoomTool\",\"id\":\"p1595\"},{\"type\":\"object\",\"name\":\"BoxZoomTool\",\"id\":\"p1596\",\"attributes\":{\"overlay\":{\"type\":\"object\",\"name\":\"BoxAnnotation\",\"id\":\"p1597\",\"attributes\":{\"syncable\":false,\"level\":\"overlay\",\"visible\":false,\"left_units\":\"canvas\",\"right_units\":\"canvas\",\"bottom_units\":\"canvas\",\"top_units\":\"canvas\",\"line_color\":\"black\",\"line_alpha\":1.0,\"line_width\":2,\"line_dash\":[4,4],\"fill_color\":\"lightgrey\",\"fill_alpha\":0.5}}}},{\"type\":\"object\",\"name\":\"SaveTool\",\"id\":\"p1598\"},{\"type\":\"object\",\"name\":\"ResetTool\",\"id\":\"p1599\"},{\"type\":\"object\",\"name\":\"HelpTool\",\"id\":\"p1600\"}]}},\"toolbar_location\":\"above\",\"left\":[{\"type\":\"object\",\"name\":\"LinearAxis\",\"id\":\"p1589\",\"attributes\":{\"ticker\":{\"type\":\"object\",\"name\":\"BasicTicker\",\"id\":\"p1590\",\"attributes\":{\"mantissas\":[1,2,5]}},\"formatter\":{\"type\":\"object\",\"name\":\"BasicTickFormatter\",\"id\":\"p1591\"},\"axis_label\":\"ECDF\",\"major_label_policy\":{\"type\":\"object\",\"name\":\"AllLabels\",\"id\":\"p1592\"}}}],\"below\":[{\"type\":\"object\",\"name\":\"LinearAxis\",\"id\":\"p1584\",\"attributes\":{\"ticker\":{\"type\":\"object\",\"name\":\"BasicTicker\",\"id\":\"p1585\",\"attributes\":{\"mantissas\":[1,2,5]}},\"formatter\":{\"type\":\"object\",\"name\":\"BasicTickFormatter\",\"id\":\"p1586\"},\"axis_label\":\"x\",\"major_label_policy\":{\"type\":\"object\",\"name\":\"AllLabels\",\"id\":\"p1587\"}}}],\"center\":[{\"type\":\"object\",\"name\":\"Grid\",\"id\":\"p1588\",\"attributes\":{\"axis\":{\"id\":\"p1584\"}}},{\"type\":\"object\",\"name\":\"Grid\",\"id\":\"p1593\",\"attributes\":{\"dimension\":1,\"axis\":{\"id\":\"p1589\"}}}],\"frame_width\":375,\"frame_height\":275}}]}};\n",
       "  const render_items = [{\"docid\":\"07ca96dd-a1e8-4d29-a604-9b2835366ee7\",\"roots\":{\"p1573\":\"a578ea19-e3dd-4e3f-a4c8-df52f8d9b6bb\"},\"root_ids\":[\"p1573\"]}];\n",
       "  root.Bokeh.embed.embed_items_notebook(docs_json, render_items);\n",
       "  }\n",
       "  if (root.Bokeh !== undefined) {\n",
       "    embed_document(root);\n",
       "  } else {\n",
       "    let attempts = 0;\n",
       "    const timer = setInterval(function(root) {\n",
       "      if (root.Bokeh !== undefined) {\n",
       "        clearInterval(timer);\n",
       "        embed_document(root);\n",
       "      } else {\n",
       "        attempts++;\n",
       "        if (attempts > 100) {\n",
       "          clearInterval(timer);\n",
       "          console.log(\"Bokeh: ERROR: Unable to run BokehJS code because BokehJS library is missing\");\n",
       "        }\n",
       "      }\n",
       "    }, 10, root)\n",
       "  }\n",
       "})(window);"
      ],
      "application/vnd.bokehjs_exec.v0+json": ""
     },
     "metadata": {
      "application/vnd.bokehjs_exec.v0+json": {
       "id": "p1573"
      }
     },
     "output_type": "display_data"
    }
   ],
   "source": [
    "bokeh.io.show(iqplot.ecdf(x, style='dots'))"
   ]
  },
  {
   "cell_type": "markdown",
   "metadata": {},
   "source": [
    "Each dot in the ECDF is a single data point that we measured. Given the above definition of the ECDF, it is defined for all real $x$. So, formally, the ECDF is a continuous function (with discontinuous derivatives at each data point). So, it could be plotted like a staircase according to the formal definition."
   ]
  },
  {
   "cell_type": "code",
   "execution_count": 15,
   "metadata": {},
   "outputs": [
    {
     "data": {
      "text/html": [
       "\n",
       "  <div id=\"f37cc1f1-fddf-4b27-a77f-ae04dfb19fd3\" data-root-id=\"p1616\" style=\"display: contents;\"></div>\n"
      ]
     },
     "metadata": {},
     "output_type": "display_data"
    },
    {
     "data": {
      "application/javascript": [
       "(function(root) {\n",
       "  function embed_document(root) {\n",
       "  const docs_json = {\"c7fbc3e0-e55e-423d-89de-4ff4993cb04a\":{\"version\":\"3.2.1\",\"title\":\"Bokeh Application\",\"roots\":[{\"type\":\"object\",\"name\":\"Figure\",\"id\":\"p1616\",\"attributes\":{\"x_range\":{\"type\":\"object\",\"name\":\"DataRange1d\",\"id\":\"p1617\"},\"y_range\":{\"type\":\"object\",\"name\":\"DataRange1d\",\"id\":\"p1618\"},\"x_scale\":{\"type\":\"object\",\"name\":\"LinearScale\",\"id\":\"p1625\"},\"y_scale\":{\"type\":\"object\",\"name\":\"LinearScale\",\"id\":\"p1626\"},\"title\":{\"type\":\"object\",\"name\":\"Title\",\"id\":\"p1623\"},\"renderers\":[{\"type\":\"object\",\"name\":\"GlyphRenderer\",\"id\":\"p1650\",\"attributes\":{\"data_source\":{\"type\":\"object\",\"name\":\"ColumnDataSource\",\"id\":\"p1644\",\"attributes\":{\"selected\":{\"type\":\"object\",\"name\":\"Selection\",\"id\":\"p1645\",\"attributes\":{\"indices\":[],\"line_indices\":[]}},\"selection_policy\":{\"type\":\"object\",\"name\":\"UnionRenderers\",\"id\":\"p1646\"},\"data\":{\"type\":\"map\",\"entries\":[[\"x\",{\"type\":\"ndarray\",\"array\":{\"type\":\"bytes\",\"data\":\"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\"},\"shape\":[1000],\"dtype\":\"float64\",\"order\":\"little\"}],[\"y\",{\"type\":\"ndarray\",\"array\":{\"type\":\"bytes\",\"data\":\"AAAAAAAAAAD8qfHSTWJgP/yp8dJNYmA//Knx0k1icD/8qfHSTWJwP/p+arx0k3g/+n5qvHSTeD/8qfHSTWKAP/yp8dJNYoA/exSuR+F6hD97FK5H4XqEP/p+arx0k4g/+n5qvHSTiD956SYxCKyMP3npJjEIrIw//Knx0k1ikD/8qfHSTWKQPzvfT42XbpI/O99PjZdukj97FK5H4XqUP3sUrkfhepQ/ukkMAiuHlj+6SQwCK4eWP/p+arx0k5g/+n5qvHSTmD85tMh2vp+aPzm0yHa+n5o/eekmMQisnD956SYxCKycP7gehetRuJ4/uB6F61G4nj/8qfHSTWKgP/yp8dJNYqA/nMQgsHJooT+cxCCwcmihPzvfT42XbqI/O99PjZduoj/b+X5qvHSjP9v5fmq8dKM/exSuR+F6pD97FK5H4XqkPxsv3SQGgaU/Gy/dJAaBpT+6SQwCK4emP7pJDAIrh6Y/WmQ730+Npz9aZDvfT42nP/p+arx0k6g/+n5qvHSTqD+amZmZmZmpP5qZmZmZmak/ObTIdr6fqj85tMh2vp+qP9nO91Pjpas/2c73U+Olqz956SYxCKysP3npJjEIrKw/GQRWDi2yrT8ZBFYOLbKtP7gehetRuK4/uB6F61G4rj9YObTIdr6vP1g5tMh2vq8//Knx0k1isD/8qfHSTWKwP0w3iUFg5bA/TDeJQWDlsD+cxCCwcmixP5zEILByaLE/7FG4HoXrsT/sUbgeheuxPzvfT42XbrI/O99PjZdusj+LbOf7qfGyP4ts5/up8bI/2/l+arx0sz/b+X5qvHSzPyuHFtnO97M/K4cW2c73sz97FK5H4Xq0P3sUrkfherQ/y6FFtvP9tD/LoUW28/20Pxsv3SQGgbU/Gy/dJAaBtT9qvHSTGAS2P2q8dJMYBLY/ukkMAiuHtj+6SQwCK4e2PwrXo3A9Crc/CtejcD0Ktz9aZDvfT423P1pkO99Pjbc/qvHSTWIQuD+q8dJNYhC4P/p+arx0k7g/+n5qvHSTuD9KDAIrhxa5P0oMAiuHFrk/mpmZmZmZuT+amZmZmZm5P+kmMQisHLo/6SYxCKwcuj85tMh2vp+6Pzm0yHa+n7o/iUFg5dAiuz+JQWDl0CK7P9nO91Pjpbs/2c73U+Oluz8pXI/C9Si8Pylcj8L1KLw/eekmMQisvD956SYxCKy8P8l2vp8aL70/yXa+nxovvT8ZBFYOLbK9PxkEVg4tsr0/aJHtfD81vj9oke18PzW+P7gehetRuL4/uB6F61G4vj8IrBxaZDu/PwisHFpkO78/WDm0yHa+vz9YObTIdr6/P1TjpZvEIMA/VOOlm8QgwD/8qfHSTWLAP/yp8dJNYsA/pHA9CtejwD+kcD0K16PAP0w3iUFg5cA/TDeJQWDlwD/0/dR46SbBP/T91HjpJsE/nMQgsHJowT+cxCCwcmjBP0SLbOf7qcE/RIts5/upwT/sUbgehevBP+xRuB6F68E/kxgEVg4twj+TGARWDi3CPzvfT42XbsI/O99PjZduwj/jpZvEILDCP+Olm8QgsMI/i2zn+6nxwj+LbOf7qfHCPzMzMzMzM8M/MzMzMzMzwz/b+X5qvHTDP9v5fmq8dMM/g8DKoUW2wz+DwMqhRbbDPyuHFtnO98M/K4cW2c73wz/TTWIQWDnEP9NNYhBYOcQ/exSuR+F6xD97FK5H4XrEPyPb+X5qvMQ/I9v5fmq8xD/LoUW28/3EP8uhRbbz/cQ/c2iR7Xw/xT9zaJHtfD/FPxsv3SQGgcU/Gy/dJAaBxT/D9Shcj8LFP8P1KFyPwsU/arx0kxgExj9qvHSTGATGPxKDwMqhRcY/EoPAyqFFxj+6SQwCK4fGP7pJDAIrh8Y/YhBYObTIxj9iEFg5tMjGPwrXo3A9Csc/CtejcD0Kxz+yne+nxkvHP7Kd76fGS8c/WmQ730+Nxz9aZDvfT43HPwIrhxbZzsc/AiuHFtnOxz+q8dJNYhDIP6rx0k1iEMg/UrgehetRyD9SuB6F61HIP/p+arx0k8g/+n5qvHSTyD+iRbbz/dTIP6JFtvP91Mg/SgwCK4cWyT9KDAIrhxbJP/LSTWIQWMk/8tJNYhBYyT+amZmZmZnJP5qZmZmZmck/QmDl0CLbyT9CYOXQItvJP+kmMQisHMo/6SYxCKwcyj+R7Xw/NV7KP5HtfD81Xso/ObTIdr6fyj85tMh2vp/KP+F6FK5H4co/4XoUrkfhyj+JQWDl0CLLP4lBYOXQIss/MQisHFpkyz8xCKwcWmTLP9nO91Pjpcs/2c73U+Olyz+BlUOLbOfLP4GVQ4ts58s/KVyPwvUozD8pXI/C9SjMP9Ei2/l+asw/0SLb+X5qzD956SYxCKzMP3npJjEIrMw/IbByaJHtzD8hsHJoke3MP8l2vp8aL80/yXa+nxovzT9xPQrXo3DNP3E9CtejcM0/GQRWDi2yzT8ZBFYOLbLNP8HKoUW2880/wcqhRbbzzT9oke18PzXOP2iR7Xw/Nc4/EFg5tMh2zj8QWDm0yHbOP7gehetRuM4/uB6F61G4zj9g5dAi2/nOP2Dl0CLb+c4/CKwcWmQ7zz8IrBxaZDvPP7ByaJHtfM8/sHJoke18zz9YObTIdr7PP1g5tMh2vs8/AAAAAAAA0D8AAAAAAADQP1TjpZvEINA/VOOlm8Qg0D+oxks3iUHQP6jGSzeJQdA//Knx0k1i0D/8qfHSTWLQP1CNl24Sg9A/UI2XbhKD0D+kcD0K16PQP6RwPQrXo9A/+FPjpZvE0D/4U+Olm8TQP0w3iUFg5dA/TDeJQWDl0D+gGi/dJAbRP6AaL90kBtE/9P3UeOkm0T/0/dR46SbRP0jhehSuR9E/SOF6FK5H0T+cxCCwcmjRP5zEILByaNE/8KfGSzeJ0T/wp8ZLN4nRP0SLbOf7qdE/RIts5/up0T+YbhKDwMrRP5huEoPAytE/7FG4HoXr0T/sUbgehevRPz81XrpJDNI/PzVeukkM0j+TGARWDi3SP5MYBFYOLdI/5/up8dJN0j/n+6nx0k3SPzvfT42XbtI/O99PjZdu0j+PwvUoXI/SP4/C9Shcj9I/46WbxCCw0j/jpZvEILDSPzeJQWDl0NI/N4lBYOXQ0j+LbOf7qfHSP4ts5/up8dI/30+Nl24S0z/fT42XbhLTPzMzMzMzM9M/MzMzMzMz0z+HFtnO91PTP4cW2c73U9M/2/l+arx00z/b+X5qvHTTPy/dJAaBldM/L90kBoGV0z+DwMqhRbbTP4PAyqFFttM/16NwPQrX0z/Xo3A9CtfTPyuHFtnO99M/K4cW2c730z9/arx0kxjUP39qvHSTGNQ/001iEFg51D/TTWIQWDnUPycxCKwcWtQ/JzEIrBxa1D97FK5H4XrUP3sUrkfhetQ/z/dT46Wb1D/P91PjpZvUPyPb+X5qvNQ/I9v5fmq81D93vp8aL93UP3e+nxov3dQ/y6FFtvP91D/LoUW28/3UPx+F61G4HtU/H4XrUbge1T9zaJHtfD/VP3Noke18P9U/x0s3iUFg1T/HSzeJQWDVPxsv3SQGgdU/Gy/dJAaB1T9vEoPAyqHVP28Sg8DKodU/w/UoXI/C1T/D9Shcj8LVPxfZzvdT49U/F9nO91Pj1T9qvHSTGATWP2q8dJMYBNY/vp8aL90k1j++nxov3STWPxKDwMqhRdY/EoPAyqFF1j9mZmZmZmbWP2ZmZmZmZtY/ukkMAiuH1j+6SQwCK4fWPw4tsp3vp9Y/Di2yne+n1j9iEFg5tMjWP2IQWDm0yNY/tvP91Hjp1j+28/3UeOnWPwrXo3A9Ctc/CtejcD0K1z9eukkMAivXP166SQwCK9c/sp3vp8ZL1z+yne+nxkvXPwaBlUOLbNc/BoGVQ4ts1z9aZDvfT43XP1pkO99Pjdc/rkfhehSu1z+uR+F6FK7XPwIrhxbZztc/AiuHFtnO1z9WDi2yne/XP1YOLbKd79c/qvHSTWIQ2D+q8dJNYhDYP/7UeOkmMdg//tR46SYx2D9SuB6F61HYP1K4HoXrUdg/ppvEILBy2D+mm8QgsHLYP/p+arx0k9g/+n5qvHST2D9OYhBYObTYP05iEFg5tNg/okW28/3U2D+iRbbz/dTYP/YoXI/C9dg/9ihcj8L12D9KDAIrhxbZP0oMAiuHFtk/nu+nxks32T+e76fGSzfZP/LSTWIQWNk/8tJNYhBY2T9GtvP91HjZP0a28/3UeNk/mpmZmZmZ2T+amZmZmZnZP+58PzVeutk/7nw/NV662T9CYOXQItvZP0Jg5dAi29k/lkOLbOf72T+WQ4ts5/vZP+kmMQisHNo/6SYxCKwc2j89CtejcD3aPz0K16NwPdo/ke18PzVe2j+R7Xw/NV7aP+XQItv5fto/5dAi2/l+2j85tMh2vp/aPzm0yHa+n9o/jZduEoPA2j+Nl24Sg8DaP+F6FK5H4do/4XoUrkfh2j81XrpJDALbPzVeukkMAts/iUFg5dAi2z+JQWDl0CLbP90kBoGVQ9s/3SQGgZVD2z8xCKwcWmTbPzEIrBxaZNs/hetRuB6F2z+F61G4HoXbP9nO91Pjpds/2c73U+Ol2z8tsp3vp8bbPy2yne+nxts/gZVDi2zn2z+BlUOLbOfbP9V46SYxCNw/1XjpJjEI3D8pXI/C9SjcPylcj8L1KNw/fT81XrpJ3D99PzVeukncP9Ei2/l+atw/0SLb+X5q3D8lBoGVQ4vcPyUGgZVDi9w/eekmMQis3D956SYxCKzcP83MzMzMzNw/zczMzMzM3D8hsHJoke3cPyGwcmiR7dw/dZMYBFYO3T91kxgEVg7dP8l2vp8aL90/yXa+nxov3T8dWmQ730/dPx1aZDvfT90/cT0K16Nw3T9xPQrXo3DdP8UgsHJokd0/xSCwcmiR3T8ZBFYOLbLdPxkEVg4tst0/bef7qfHS3T9t5/up8dLdP8HKoUW2890/wcqhRbbz3T8UrkfhehTePxSuR+F6FN4/aJHtfD813j9oke18PzXeP7x0kxgEVt4/vHSTGARW3j8QWDm0yHbePxBYObTIdt4/ZDvfT42X3j9kO99PjZfeP7gehetRuN4/uB6F61G43j8MAiuHFtnePwwCK4cW2d4/YOXQItv53j9g5dAi2/neP7TIdr6fGt8/tMh2vp8a3z8IrBxaZDvfPwisHFpkO98/XI/C9Shc3z9cj8L1KFzfP7ByaJHtfN8/sHJoke183z8EVg4tsp3fPwRWDi2ynd8/WDm0yHa+3z9YObTIdr7fP6wcWmQ7398/rBxaZDvf3z8AAAAAAADgPwAAAAAAAOA/qvHSTWIQ4D+q8dJNYhDgP1TjpZvEIOA/VOOlm8Qg4D/+1HjpJjHgP/7UeOkmMeA/qMZLN4lB4D+oxks3iUHgP1K4HoXrUeA/UrgehetR4D/8qfHSTWLgP/yp8dJNYuA/ppvEILBy4D+mm8QgsHLgP1CNl24Sg+A/UI2XbhKD4D/6fmq8dJPgP/p+arx0k+A/pHA9Ctej4D+kcD0K16PgP05iEFg5tOA/TmIQWDm04D/4U+Olm8TgP/hT46WbxOA/okW28/3U4D+iRbbz/dTgP0w3iUFg5eA/TDeJQWDl4D/2KFyPwvXgP/YoXI/C9eA/oBov3SQG4T+gGi/dJAbhP0oMAiuHFuE/SgwCK4cW4T/0/dR46SbhP/T91HjpJuE/nu+nxks34T+e76fGSzfhP0jhehSuR+E/SOF6FK5H4T/y0k1iEFjhP/LSTWIQWOE/nMQgsHJo4T+cxCCwcmjhP0a28/3UeOE/Rrbz/dR44T/wp8ZLN4nhP/Cnxks3ieE/mpmZmZmZ4T+amZmZmZnhP0SLbOf7qeE/RIts5/up4T/ufD81XrrhP+58PzVeuuE/mG4Sg8DK4T+YbhKDwMrhP0Jg5dAi2+E/QmDl0CLb4T/sUbgehevhP+xRuB6F6+E/lkOLbOf74T+WQ4ts5/vhPz81XrpJDOI/PzVeukkM4j/pJjEIrBziP+kmMQisHOI/kxgEVg4t4j+TGARWDi3iPz0K16NwPeI/PQrXo3A94j/n+6nx0k3iP+f7qfHSTeI/ke18PzVe4j+R7Xw/NV7iPzvfT42XbuI/O99PjZdu4j/l0CLb+X7iP+XQItv5fuI/j8L1KFyP4j+PwvUoXI/iPzm0yHa+n+I/ObTIdr6f4j/jpZvEILDiP+Olm8QgsOI/jZduEoPA4j+Nl24Sg8DiPzeJQWDl0OI/N4lBYOXQ4j/hehSuR+HiP+F6FK5H4eI/i2zn+6nx4j+LbOf7qfHiPzVeukkMAuM/NV66SQwC4z/fT42XbhLjP99PjZduEuM/iUFg5dAi4z+JQWDl0CLjPzMzMzMzM+M/MzMzMzMz4z/dJAaBlUPjP90kBoGVQ+M/hxbZzvdT4z+HFtnO91PjPzEIrBxaZOM/MQisHFpk4z/b+X5qvHTjP9v5fmq8dOM/hetRuB6F4z+F61G4HoXjPy/dJAaBleM/L90kBoGV4z/ZzvdT46XjP9nO91PjpeM/g8DKoUW24z+DwMqhRbbjPy2yne+nxuM/LbKd76fG4z/Xo3A9CtfjP9ejcD0K1+M/gZVDi2zn4z+BlUOLbOfjPyuHFtnO9+M/K4cW2c734z/VeOkmMQjkP9V46SYxCOQ/f2q8dJMY5D9/arx0kxjkPylcj8L1KOQ/KVyPwvUo5D/TTWIQWDnkP9NNYhBYOeQ/fT81XrpJ5D99PzVeuknkPycxCKwcWuQ/JzEIrBxa5D/RItv5fmrkP9Ei2/l+auQ/exSuR+F65D97FK5H4XrkPyUGgZVDi+Q/JQaBlUOL5D/P91PjpZvkP8/3U+Olm+Q/eekmMQis5D956SYxCKzkPyPb+X5qvOQ/I9v5fmq85D/NzMzMzMzkP83MzMzMzOQ/d76fGi/d5D93vp8aL93kPyGwcmiR7eQ/IbByaJHt5D/LoUW28/3kP8uhRbbz/eQ/dZMYBFYO5T91kxgEVg7lPx+F61G4HuU/H4XrUbge5T/Jdr6fGi/lP8l2vp8aL+U/c2iR7Xw/5T9zaJHtfD/lPx1aZDvfT+U/HVpkO99P5T/HSzeJQWDlP8dLN4lBYOU/cT0K16Nw5T9xPQrXo3DlPxsv3SQGgeU/Gy/dJAaB5T/FILByaJHlP8UgsHJokeU/bxKDwMqh5T9vEoPAyqHlPxkEVg4tsuU/GQRWDi2y5T/D9Shcj8LlP8P1KFyPwuU/bef7qfHS5T9t5/up8dLlPxfZzvdT4+U/F9nO91Pj5T/ByqFFtvPlP8HKoUW28+U/arx0kxgE5j9qvHSTGATmPxSuR+F6FOY/FK5H4XoU5j++nxov3STmP76fGi/dJOY/aJHtfD815j9oke18PzXmPxKDwMqhReY/EoPAyqFF5j+8dJMYBFbmP7x0kxgEVuY/ZmZmZmZm5j9mZmZmZmbmPxBYObTIduY/EFg5tMh25j+6SQwCK4fmP7pJDAIrh+Y/ZDvfT42X5j9kO99PjZfmPw4tsp3vp+Y/Di2yne+n5j+4HoXrUbjmP7gehetRuOY/YhBYObTI5j9iEFg5tMjmPwwCK4cW2eY/DAIrhxbZ5j+28/3UeOnmP7bz/dR46eY/YOXQItv55j9g5dAi2/nmPwrXo3A9Cuc/CtejcD0K5z+0yHa+nxrnP7TIdr6fGuc/XrpJDAIr5z9eukkMAivnPwisHFpkO+c/CKwcWmQ75z+yne+nxkvnP7Kd76fGS+c/XI/C9Shc5z9cj8L1KFznPwaBlUOLbOc/BoGVQ4ts5z+wcmiR7XznP7ByaJHtfOc/WmQ730+N5z9aZDvfT43nPwRWDi2ynec/BFYOLbKd5z+uR+F6FK7nP65H4XoUruc/WDm0yHa+5z9YObTIdr7nPwIrhxbZzuc/AiuHFtnO5z+sHFpkO9/nP6wcWmQ73+c/Vg4tsp3v5z9WDi2yne/nPwAAAAAAAOg/AAAAAAAA6D+q8dJNYhDoP6rx0k1iEOg/VOOlm8Qg6D9U46WbxCDoP/7UeOkmMeg//tR46SYx6D+oxks3iUHoP6jGSzeJQeg/UrgehetR6D9SuB6F61HoP/yp8dJNYug//Knx0k1i6D+mm8QgsHLoP6abxCCwcug/UI2XbhKD6D9QjZduEoPoP/p+arx0k+g/+n5qvHST6D+kcD0K16PoP6RwPQrXo+g/TmIQWDm06D9OYhBYObToP/hT46WbxOg/+FPjpZvE6D+iRbbz/dToP6JFtvP91Og/TDeJQWDl6D9MN4lBYOXoP/YoXI/C9eg/9ihcj8L16D+gGi/dJAbpP6AaL90kBuk/SgwCK4cW6T9KDAIrhxbpP/T91HjpJuk/9P3UeOkm6T+e76fGSzfpP57vp8ZLN+k/SOF6FK5H6T9I4XoUrkfpP/LSTWIQWOk/8tJNYhBY6T+cxCCwcmjpP5zEILByaOk/Rrbz/dR46T9GtvP91HjpP/Cnxks3iek/8KfGSzeJ6T+amZmZmZnpP5qZmZmZmek/RIts5/up6T9Ei2zn+6npP+58PzVeuuk/7nw/NV666T+YbhKDwMrpP5huEoPAyuk/QmDl0CLb6T9CYOXQItvpP+xRuB6F6+k/7FG4HoXr6T+WQ4ts5/vpP5ZDi2zn++k/PzVeukkM6j8/NV66SQzqP+kmMQisHOo/6SYxCKwc6j+TGARWDi3qP5MYBFYOLeo/PQrXo3A96j89CtejcD3qP+f7qfHSTeo/5/up8dJN6j+R7Xw/NV7qP5HtfD81Xuo/O99PjZdu6j8730+Nl27qP+XQItv5fuo/5dAi2/l+6j+PwvUoXI/qP4/C9Shcj+o/ObTIdr6f6j85tMh2vp/qP+Olm8QgsOo/46WbxCCw6j+Nl24Sg8DqP42XbhKDwOo/N4lBYOXQ6j83iUFg5dDqP+F6FK5H4eo/4XoUrkfh6j+LbOf7qfHqP4ts5/up8eo/NV66SQwC6z81XrpJDALrP99PjZduEus/30+Nl24S6z+JQWDl0CLrP4lBYOXQIus/MzMzMzMz6z8zMzMzMzPrP90kBoGVQ+s/3SQGgZVD6z+HFtnO91PrP4cW2c73U+s/MQisHFpk6z8xCKwcWmTrP9v5fmq8dOs/2/l+arx06z+F61G4HoXrP4XrUbgehes/L90kBoGV6z8v3SQGgZXrP9nO91Pjpes/2c73U+Ol6z+DwMqhRbbrP4PAyqFFtus/LbKd76fG6z8tsp3vp8brP9ejcD0K1+s/16NwPQrX6z+BlUOLbOfrP4GVQ4ts5+s/K4cW2c736z8rhxbZzvfrP9V46SYxCOw/1XjpJjEI7D9/arx0kxjsP39qvHSTGOw/KVyPwvUo7D8pXI/C9SjsP9NNYhBYOew/001iEFg57D99PzVeuknsP30/NV66Sew/JzEIrBxa7D8nMQisHFrsP9Ei2/l+auw/0SLb+X5q7D97FK5H4XrsP3sUrkfheuw/JQaBlUOL7D8lBoGVQ4vsP8/3U+Olm+w/z/dT46Wb7D956SYxCKzsP3npJjEIrOw/I9v5fmq87D8j2/l+arzsP83MzMzMzOw/zczMzMzM7D93vp8aL93sP3e+nxov3ew/IbByaJHt7D8hsHJoke3sP8uhRbbz/ew/y6FFtvP97D91kxgEVg7tP3WTGARWDu0/H4XrUbge7T8fhetRuB7tP8l2vp8aL+0/yXa+nxov7T9zaJHtfD/tP3Noke18P+0/HVpkO99P7T8dWmQ730/tP8dLN4lBYO0/x0s3iUFg7T9xPQrXo3DtP3E9CtejcO0/Gy/dJAaB7T8bL90kBoHtP8UgsHJoke0/xSCwcmiR7T9vEoPAyqHtP28Sg8DKoe0/GQRWDi2y7T8ZBFYOLbLtP8P1KFyPwu0/w/UoXI/C7T9t5/up8dLtP23n+6nx0u0/F9nO91Pj7T8X2c73U+PtP8HKoUW28+0/wcqhRbbz7T9qvHSTGATuP2q8dJMYBO4/FK5H4XoU7j8UrkfhehTuP76fGi/dJO4/vp8aL90k7j9oke18PzXuP2iR7Xw/Ne4/EoPAyqFF7j8Sg8DKoUXuP7x0kxgEVu4/vHSTGARW7j9mZmZmZmbuP2ZmZmZmZu4/EFg5tMh27j8QWDm0yHbuP7pJDAIrh+4/ukkMAiuH7j9kO99PjZfuP2Q730+Nl+4/Di2yne+n7j8OLbKd76fuP7gehetRuO4/uB6F61G47j9iEFg5tMjuP2IQWDm0yO4/DAIrhxbZ7j8MAiuHFtnuP7bz/dR46e4/tvP91Hjp7j9g5dAi2/nuP2Dl0CLb+e4/CtejcD0K7z8K16NwPQrvP7TIdr6fGu8/tMh2vp8a7z9eukkMAivvP166SQwCK+8/CKwcWmQ77z8IrBxaZDvvP7Kd76fGS+8/sp3vp8ZL7z9cj8L1KFzvP1yPwvUoXO8/BoGVQ4ts7z8GgZVDi2zvP7ByaJHtfO8/sHJoke187z9aZDvfT43vP1pkO99Pje8/BFYOLbKd7z8EVg4tsp3vP65H4XoUru8/rkfhehSu7z9YObTIdr7vP1g5tMh2vu8/AiuHFtnO7z8CK4cW2c7vP6wcWmQ73+8/rBxaZDvf7z9WDi2yne/vP1YOLbKd7+8/AAAAAAAA8D8=\"},\"shape\":[1000],\"dtype\":\"float64\",\"order\":\"little\"}]]}}},\"view\":{\"type\":\"object\",\"name\":\"CDSView\",\"id\":\"p1651\",\"attributes\":{\"filter\":{\"type\":\"object\",\"name\":\"AllIndices\",\"id\":\"p1652\"}}},\"glyph\":{\"type\":\"object\",\"name\":\"Line\",\"id\":\"p1647\",\"attributes\":{\"x\":{\"type\":\"field\",\"field\":\"x\"},\"y\":{\"type\":\"field\",\"field\":\"y\"},\"line_color\":\"#1f77b3\",\"line_width\":2}},\"nonselection_glyph\":{\"type\":\"object\",\"name\":\"Line\",\"id\":\"p1648\",\"attributes\":{\"x\":{\"type\":\"field\",\"field\":\"x\"},\"y\":{\"type\":\"field\",\"field\":\"y\"},\"line_color\":\"#1f77b3\",\"line_alpha\":0.1,\"line_width\":2}},\"muted_glyph\":{\"type\":\"object\",\"name\":\"Line\",\"id\":\"p1649\",\"attributes\":{\"x\":{\"type\":\"field\",\"field\":\"x\"},\"y\":{\"type\":\"field\",\"field\":\"y\"},\"line_color\":\"#1f77b3\",\"line_alpha\":0.2,\"line_width\":2}}}},{\"type\":\"object\",\"name\":\"GlyphRenderer\",\"id\":\"p1659\",\"attributes\":{\"data_source\":{\"type\":\"object\",\"name\":\"ColumnDataSource\",\"id\":\"p1653\",\"attributes\":{\"selected\":{\"type\":\"object\",\"name\":\"Selection\",\"id\":\"p1654\",\"attributes\":{\"indices\":[],\"line_indices\":[]}},\"selection_policy\":{\"type\":\"object\",\"name\":\"UnionRenderers\",\"id\":\"p1655\"},\"data\":{\"type\":\"map\"}}},\"view\":{\"type\":\"object\",\"name\":\"CDSView\",\"id\":\"p1660\",\"attributes\":{\"filter\":{\"type\":\"object\",\"name\":\"AllIndices\",\"id\":\"p1661\"}}},\"glyph\":{\"type\":\"object\",\"name\":\"Ray\",\"id\":\"p1656\",\"attributes\":{\"x\":{\"type\":\"value\",\"value\":-3.0004515602796067},\"y\":{\"type\":\"value\",\"value\":0},\"angle\":{\"type\":\"value\",\"value\":3.141592653589793},\"line_color\":{\"type\":\"value\",\"value\":\"#1f77b3\"},\"line_width\":{\"type\":\"value\",\"value\":2}}},\"nonselection_glyph\":{\"type\":\"object\",\"name\":\"Ray\",\"id\":\"p1657\",\"attributes\":{\"x\":{\"type\":\"value\",\"value\":-3.0004515602796067},\"y\":{\"type\":\"value\",\"value\":0},\"angle\":{\"type\":\"value\",\"value\":3.141592653589793},\"line_color\":{\"type\":\"value\",\"value\":\"#1f77b3\"},\"line_alpha\":{\"type\":\"value\",\"value\":0.1},\"line_width\":{\"type\":\"value\",\"value\":2}}},\"muted_glyph\":{\"type\":\"object\",\"name\":\"Ray\",\"id\":\"p1658\",\"attributes\":{\"x\":{\"type\":\"value\",\"value\":-3.0004515602796067},\"y\":{\"type\":\"value\",\"value\":0},\"angle\":{\"type\":\"value\",\"value\":3.141592653589793},\"line_color\":{\"type\":\"value\",\"value\":\"#1f77b3\"},\"line_alpha\":{\"type\":\"value\",\"value\":0.2},\"line_width\":{\"type\":\"value\",\"value\":2}}}}},{\"type\":\"object\",\"name\":\"GlyphRenderer\",\"id\":\"p1668\",\"attributes\":{\"data_source\":{\"type\":\"object\",\"name\":\"ColumnDataSource\",\"id\":\"p1662\",\"attributes\":{\"selected\":{\"type\":\"object\",\"name\":\"Selection\",\"id\":\"p1663\",\"attributes\":{\"indices\":[],\"line_indices\":[]}},\"selection_policy\":{\"type\":\"object\",\"name\":\"UnionRenderers\",\"id\":\"p1664\"},\"data\":{\"type\":\"map\"}}},\"view\":{\"type\":\"object\",\"name\":\"CDSView\",\"id\":\"p1669\",\"attributes\":{\"filter\":{\"type\":\"object\",\"name\":\"AllIndices\",\"id\":\"p1670\"}}},\"glyph\":{\"type\":\"object\",\"name\":\"Ray\",\"id\":\"p1665\",\"attributes\":{\"x\":{\"type\":\"value\",\"value\":2.8828190493029155},\"y\":{\"type\":\"value\",\"value\":1},\"line_color\":{\"type\":\"value\",\"value\":\"#1f77b3\"},\"line_width\":{\"type\":\"value\",\"value\":2}}},\"nonselection_glyph\":{\"type\":\"object\",\"name\":\"Ray\",\"id\":\"p1666\",\"attributes\":{\"x\":{\"type\":\"value\",\"value\":2.8828190493029155},\"y\":{\"type\":\"value\",\"value\":1},\"line_color\":{\"type\":\"value\",\"value\":\"#1f77b3\"},\"line_alpha\":{\"type\":\"value\",\"value\":0.1},\"line_width\":{\"type\":\"value\",\"value\":2}}},\"muted_glyph\":{\"type\":\"object\",\"name\":\"Ray\",\"id\":\"p1667\",\"attributes\":{\"x\":{\"type\":\"value\",\"value\":2.8828190493029155},\"y\":{\"type\":\"value\",\"value\":1},\"line_color\":{\"type\":\"value\",\"value\":\"#1f77b3\"},\"line_alpha\":{\"type\":\"value\",\"value\":0.2},\"line_width\":{\"type\":\"value\",\"value\":2}}}}}],\"toolbar\":{\"type\":\"object\",\"name\":\"Toolbar\",\"id\":\"p1624\",\"attributes\":{\"tools\":[{\"type\":\"object\",\"name\":\"PanTool\",\"id\":\"p1637\"},{\"type\":\"object\",\"name\":\"WheelZoomTool\",\"id\":\"p1638\"},{\"type\":\"object\",\"name\":\"BoxZoomTool\",\"id\":\"p1639\",\"attributes\":{\"overlay\":{\"type\":\"object\",\"name\":\"BoxAnnotation\",\"id\":\"p1640\",\"attributes\":{\"syncable\":false,\"level\":\"overlay\",\"visible\":false,\"left_units\":\"canvas\",\"right_units\":\"canvas\",\"bottom_units\":\"canvas\",\"top_units\":\"canvas\",\"line_color\":\"black\",\"line_alpha\":1.0,\"line_width\":2,\"line_dash\":[4,4],\"fill_color\":\"lightgrey\",\"fill_alpha\":0.5}}}},{\"type\":\"object\",\"name\":\"SaveTool\",\"id\":\"p1641\"},{\"type\":\"object\",\"name\":\"ResetTool\",\"id\":\"p1642\"},{\"type\":\"object\",\"name\":\"HelpTool\",\"id\":\"p1643\"}]}},\"toolbar_location\":\"above\",\"left\":[{\"type\":\"object\",\"name\":\"LinearAxis\",\"id\":\"p1632\",\"attributes\":{\"ticker\":{\"type\":\"object\",\"name\":\"BasicTicker\",\"id\":\"p1633\",\"attributes\":{\"mantissas\":[1,2,5]}},\"formatter\":{\"type\":\"object\",\"name\":\"BasicTickFormatter\",\"id\":\"p1634\"},\"axis_label\":\"ECDF\",\"major_label_policy\":{\"type\":\"object\",\"name\":\"AllLabels\",\"id\":\"p1635\"}}}],\"below\":[{\"type\":\"object\",\"name\":\"LinearAxis\",\"id\":\"p1627\",\"attributes\":{\"ticker\":{\"type\":\"object\",\"name\":\"BasicTicker\",\"id\":\"p1628\",\"attributes\":{\"mantissas\":[1,2,5]}},\"formatter\":{\"type\":\"object\",\"name\":\"BasicTickFormatter\",\"id\":\"p1629\"},\"axis_label\":\"x\",\"major_label_policy\":{\"type\":\"object\",\"name\":\"AllLabels\",\"id\":\"p1630\"}}}],\"center\":[{\"type\":\"object\",\"name\":\"Grid\",\"id\":\"p1631\",\"attributes\":{\"axis\":{\"id\":\"p1627\"}}},{\"type\":\"object\",\"name\":\"Grid\",\"id\":\"p1636\",\"attributes\":{\"dimension\":1,\"axis\":{\"id\":\"p1632\"}}}],\"frame_width\":375,\"frame_height\":275}}]}};\n",
       "  const render_items = [{\"docid\":\"c7fbc3e0-e55e-423d-89de-4ff4993cb04a\",\"roots\":{\"p1616\":\"f37cc1f1-fddf-4b27-a77f-ae04dfb19fd3\"},\"root_ids\":[\"p1616\"]}];\n",
       "  root.Bokeh.embed.embed_items_notebook(docs_json, render_items);\n",
       "  }\n",
       "  if (root.Bokeh !== undefined) {\n",
       "    embed_document(root);\n",
       "  } else {\n",
       "    let attempts = 0;\n",
       "    const timer = setInterval(function(root) {\n",
       "      if (root.Bokeh !== undefined) {\n",
       "        clearInterval(timer);\n",
       "        embed_document(root);\n",
       "      } else {\n",
       "        attempts++;\n",
       "        if (attempts > 100) {\n",
       "          clearInterval(timer);\n",
       "          console.log(\"Bokeh: ERROR: Unable to run BokehJS code because BokehJS library is missing\");\n",
       "        }\n",
       "      }\n",
       "    }, 10, root)\n",
       "  }\n",
       "})(window);"
      ],
      "application/vnd.bokehjs_exec.v0+json": ""
     },
     "metadata": {
      "application/vnd.bokehjs_exec.v0+json": {
       "id": "p1616"
      }
     },
     "output_type": "display_data"
    }
   ],
   "source": [
    "bokeh.io.show(iqplot.ecdf(x, style=\"staircase\"))"
   ]
  },
  {
   "cell_type": "markdown",
   "metadata": {},
   "source": [
    "Either method of plotting is fine; there is not any less information in one than the other.\n",
    "\n",
    "Let us now plot the percent correct data as an ECDF, both with dots and as a staircase. Visualizing it this way helps highlight the relationship between the dots and the staircase."
   ]
  },
  {
   "cell_type": "code",
   "execution_count": 16,
   "metadata": {},
   "outputs": [
    {
     "data": {
      "text/html": [
       "\n",
       "  <div id=\"cbced94e-e1a5-4886-9aa1-50841319a938\" data-root-id=\"p1673\" style=\"display: contents;\"></div>\n"
      ]
     },
     "metadata": {},
     "output_type": "display_data"
    },
    {
     "data": {
      "application/javascript": [
       "(function(root) {\n",
       "  function embed_document(root) {\n",
       "  const docs_json = {\"546adb7c-7750-445f-bf12-0133c3ccd923\":{\"version\":\"3.2.1\",\"title\":\"Bokeh Application\",\"roots\":[{\"type\":\"object\",\"name\":\"Figure\",\"id\":\"p1673\",\"attributes\":{\"x_range\":{\"type\":\"object\",\"name\":\"DataRange1d\",\"id\":\"p1674\"},\"y_range\":{\"type\":\"object\",\"name\":\"DataRange1d\",\"id\":\"p1675\"},\"x_scale\":{\"type\":\"object\",\"name\":\"LinearScale\",\"id\":\"p1682\"},\"y_scale\":{\"type\":\"object\",\"name\":\"LinearScale\",\"id\":\"p1683\"},\"title\":{\"type\":\"object\",\"name\":\"Title\",\"id\":\"p1680\"},\"renderers\":[{\"type\":\"object\",\"name\":\"GlyphRenderer\",\"id\":\"p1707\",\"attributes\":{\"data_source\":{\"type\":\"object\",\"name\":\"ColumnDataSource\",\"id\":\"p1701\",\"attributes\":{\"selected\":{\"type\":\"object\",\"name\":\"Selection\",\"id\":\"p1702\",\"attributes\":{\"indices\":[],\"line_indices\":[]}},\"selection_policy\":{\"type\":\"object\",\"name\":\"UnionRenderers\",\"id\":\"p1703\"},\"data\":{\"type\":\"map\",\"entries\":[[\"x\",{\"type\":\"ndarray\",\"array\":{\"type\":\"bytes\",\"data\":\"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\"},\"shape\":[204],\"dtype\":\"float64\",\"order\":\"little\"}],[\"y\",{\"type\":\"ndarray\",\"array\":{\"type\":\"bytes\",\"data\":\"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\"},\"shape\":[204],\"dtype\":\"float64\",\"order\":\"little\"}]]}}},\"view\":{\"type\":\"object\",\"name\":\"CDSView\",\"id\":\"p1708\",\"attributes\":{\"filter\":{\"type\":\"object\",\"name\":\"AllIndices\",\"id\":\"p1709\"}}},\"glyph\":{\"type\":\"object\",\"name\":\"Line\",\"id\":\"p1704\",\"attributes\":{\"x\":{\"type\":\"field\",\"field\":\"x\"},\"y\":{\"type\":\"field\",\"field\":\"y\"},\"line_color\":\"#1f77b3\",\"line_width\":2}},\"nonselection_glyph\":{\"type\":\"object\",\"name\":\"Line\",\"id\":\"p1705\",\"attributes\":{\"x\":{\"type\":\"field\",\"field\":\"x\"},\"y\":{\"type\":\"field\",\"field\":\"y\"},\"line_color\":\"#1f77b3\",\"line_alpha\":0.1,\"line_width\":2}},\"muted_glyph\":{\"type\":\"object\",\"name\":\"Line\",\"id\":\"p1706\",\"attributes\":{\"x\":{\"type\":\"field\",\"field\":\"x\"},\"y\":{\"type\":\"field\",\"field\":\"y\"},\"line_color\":\"#1f77b3\",\"line_alpha\":0.2,\"line_width\":2}}}},{\"type\":\"object\",\"name\":\"GlyphRenderer\",\"id\":\"p1716\",\"attributes\":{\"data_source\":{\"type\":\"object\",\"name\":\"ColumnDataSource\",\"id\":\"p1710\",\"attributes\":{\"selected\":{\"type\":\"object\",\"name\":\"Selection\",\"id\":\"p1711\",\"attributes\":{\"indices\":[],\"line_indices\":[]}},\"selection_policy\":{\"type\":\"object\",\"name\":\"UnionRenderers\",\"id\":\"p1712\"},\"data\":{\"type\":\"map\"}}},\"view\":{\"type\":\"object\",\"name\":\"CDSView\",\"id\":\"p1717\",\"attributes\":{\"filter\":{\"type\":\"object\",\"name\":\"AllIndices\",\"id\":\"p1718\"}}},\"glyph\":{\"type\":\"object\",\"name\":\"Ray\",\"id\":\"p1713\",\"attributes\":{\"x\":{\"type\":\"value\",\"value\":40.0},\"y\":{\"type\":\"value\",\"value\":0},\"angle\":{\"type\":\"value\",\"value\":3.141592653589793},\"line_color\":{\"type\":\"value\",\"value\":\"#1f77b3\"},\"line_width\":{\"type\":\"value\",\"value\":2}}},\"nonselection_glyph\":{\"type\":\"object\",\"name\":\"Ray\",\"id\":\"p1714\",\"attributes\":{\"x\":{\"type\":\"value\",\"value\":40.0},\"y\":{\"type\":\"value\",\"value\":0},\"angle\":{\"type\":\"value\",\"value\":3.141592653589793},\"line_color\":{\"type\":\"value\",\"value\":\"#1f77b3\"},\"line_alpha\":{\"type\":\"value\",\"value\":0.1},\"line_width\":{\"type\":\"value\",\"value\":2}}},\"muted_glyph\":{\"type\":\"object\",\"name\":\"Ray\",\"id\":\"p1715\",\"attributes\":{\"x\":{\"type\":\"value\",\"value\":40.0},\"y\":{\"type\":\"value\",\"value\":0},\"angle\":{\"type\":\"value\",\"value\":3.141592653589793},\"line_color\":{\"type\":\"value\",\"value\":\"#1f77b3\"},\"line_alpha\":{\"type\":\"value\",\"value\":0.2},\"line_width\":{\"type\":\"value\",\"value\":2}}}}},{\"type\":\"object\",\"name\":\"GlyphRenderer\",\"id\":\"p1725\",\"attributes\":{\"data_source\":{\"type\":\"object\",\"name\":\"ColumnDataSource\",\"id\":\"p1719\",\"attributes\":{\"selected\":{\"type\":\"object\",\"name\":\"Selection\",\"id\":\"p1720\",\"attributes\":{\"indices\":[],\"line_indices\":[]}},\"selection_policy\":{\"type\":\"object\",\"name\":\"UnionRenderers\",\"id\":\"p1721\"},\"data\":{\"type\":\"map\"}}},\"view\":{\"type\":\"object\",\"name\":\"CDSView\",\"id\":\"p1726\",\"attributes\":{\"filter\":{\"type\":\"object\",\"name\":\"AllIndices\",\"id\":\"p1727\"}}},\"glyph\":{\"type\":\"object\",\"name\":\"Ray\",\"id\":\"p1722\",\"attributes\":{\"x\":{\"type\":\"value\",\"value\":100.0},\"y\":{\"type\":\"value\",\"value\":1},\"line_color\":{\"type\":\"value\",\"value\":\"#1f77b3\"},\"line_width\":{\"type\":\"value\",\"value\":2}}},\"nonselection_glyph\":{\"type\":\"object\",\"name\":\"Ray\",\"id\":\"p1723\",\"attributes\":{\"x\":{\"type\":\"value\",\"value\":100.0},\"y\":{\"type\":\"value\",\"value\":1},\"line_color\":{\"type\":\"value\",\"value\":\"#1f77b3\"},\"line_alpha\":{\"type\":\"value\",\"value\":0.1},\"line_width\":{\"type\":\"value\",\"value\":2}}},\"muted_glyph\":{\"type\":\"object\",\"name\":\"Ray\",\"id\":\"p1724\",\"attributes\":{\"x\":{\"type\":\"value\",\"value\":100.0},\"y\":{\"type\":\"value\",\"value\":1},\"line_color\":{\"type\":\"value\",\"value\":\"#1f77b3\"},\"line_alpha\":{\"type\":\"value\",\"value\":0.2},\"line_width\":{\"type\":\"value\",\"value\":2}}}}},{\"type\":\"object\",\"name\":\"GlyphRenderer\",\"id\":\"p1737\",\"attributes\":{\"data_source\":{\"type\":\"object\",\"name\":\"ColumnDataSource\",\"id\":\"p1728\",\"attributes\":{\"selected\":{\"type\":\"object\",\"name\":\"Selection\",\"id\":\"p1729\",\"attributes\":{\"indices\":[],\"line_indices\":[]}},\"selection_policy\":{\"type\":\"object\",\"name\":\"UnionRenderers\",\"id\":\"p1730\"},\"data\":{\"type\":\"map\",\"entries\":[[\"index\",{\"type\":\"ndarray\",\"array\":{\"type\":\"bytes\",\"data\":\"AAAAAAEAAAACAAAAAwAAAAQAAAAFAAAABgAAAAcAAAAIAAAACQAAAAoAAAALAAAADAAAAA0AAAAOAAAADwAAABAAAAARAAAAEgAAABMAAAAUAAAAFQAAABYAAAAXAAAAGAAAABkAAAAaAAAAGwAAABwAAAAdAAAAHgAAAB8AAAAgAAAAIQAAACIAAAAjAAAAJAAAACUAAAAmAAAAJwAAACgAAAApAAAAKgAAACsAAAAsAAAALQAAAC4AAAAvAAAAMAAAADEAAAAyAAAAMwAAADQAAAA1AAAANgAAADcAAAA4AAAAOQAAADoAAAA7AAAAPAAAAD0AAAA+AAAAPwAAAEAAAABBAAAAQgAAAEMAAABEAAAARQAAAEYAAABHAAAASAAAAEkAAABKAAAASwAAAEwAAABNAAAATgAAAE8AAABQAAAAUQAAAFIAAABTAAAAVAAAAFUAAABWAAAAVwAAAFgAAABZAAAAWgAAAFsAAABcAAAAXQAAAF4AAABfAAAAYAAAAGEAAABiAAAAYwAAAGQAAABlAAAA\"},\"shape\":[102],\"dtype\":\"int32\",\"order\":\"little\"}],[\"participant number\",{\"type\":\"ndarray\",\"array\":{\"type\":\"bytes\",\"data\":\"CAAAABAAAAASAAAAFgAAABsAAAAcAAAAHgAAACEAAAAiAAAAIwAAACYAAAApAAAALgAAADEAAAA3AAAARwAAAEwAAABNAAAATgAAAFAAAABZAAAAWgAAAF0AAABkAAAAZQAAAAEAAAACAAAAAwAAAAQAAAAFAAAABgAAAAcAAAAJAAAACgAAAAsAAAAMAAAADQAAAA4AAAAPAAAAEQAAABMAAAAUAAAAFQAAABcAAAAYAAAAGQAAABoAAAAdAAAAHwAAACAAAAAkAAAAJQAAACcAAAAoAAAAKgAAACsAAAAsAAAALQAAADAAAAAyAAAAMwAAADQAAAA1AAAANgAAADgAAAA5AAAAOgAAADsAAAA8AAAAPQAAAD4AAAA/AAAAQAAAAEEAAABCAAAAQwAAAEQAAABFAAAARgAAAEgAAABJAAAASgAAAEsAAABPAAAAUQAAAFIAAABTAAAAVAAAAFUAAABWAAAAVwAAAFgAAABbAAAAXAAAAF4AAABfAAAAYAAAAGEAAABiAAAAYwAAAGYAAABnAAAA\"},\"shape\":[102],\"dtype\":\"int32\",\"order\":\"little\"}],[\"gender\",{\"type\":\"ndarray\",\"array\":[\"female\",\"male\",\"female\",\"female\",\"female\",\"female\",\"male\",\"male\",\"female\",\"female\",\"female\",\"female\",\"female\",\"female\",\"female\",\"female\",\"female\",\"female\",\"male\",\"male\",\"female\",\"male\",\"female\",\"female\",\"female\",\"female\",\"female\",\"female\",\"female\",\"female\",\"female\",\"female\",\"male\",\"female\",\"female\",\"male\",\"male\",\"male\",\"female\",\"male\",\"female\",\"female\",\"male\",\"male\",\"female\",\"female\",\"male\",\"female\",\"male\",\"female\",\"male\",\"female\",\"female\",\"male\",\"male\",\"female\",\"female\",\"female\",\"female\",\"male\",\"female\",\"female\",\"female\",\"female\",\"male\",\"female\",\"female\",\"female\",\"male\",\"female\",\"female\",\"female\",\"female\",\"female\",\"female\",\"female\",\"female\",\"female\",\"female\",\"female\",\"female\",\"male\",\"female\",\"female\",\"male\",\"female\",\"female\",\"female\",\"female\",\"female\",\"male\",\"male\",\"male\",\"male\",\"female\",\"male\",\"female\",\"female\",\"female\",\"female\",\"female\",\"female\"],\"shape\":[102],\"dtype\":\"object\",\"order\":\"little\"}],[\"age\",{\"type\":\"ndarray\",\"array\":{\"type\":\"bytes\",\"data\":\"JwAAACoAAAAfAAAAIwAAAEoAAAA9AAAAIAAAAD4AAAAhAAAANQAAACkAAAAkAAAAKAAAABgAAAAgAAAAKAAAAD0AAAAqAAAAHwAAABwAAAAaAAAALQAAABwAAAAsAAAAHAAAACoAAAAtAAAAEAAAABUAAAASAAAAHAAAACYAAAARAAAAGQAAABYAAAApAAAANQAAACsAAAAXAAAAEwAAAC0AAAArAAAAIwAAABgAAABAAAAAJAAAACMAAAArAAAALAAAAB0AAAAWAAAALgAAACMAAAA1AAAAHQAAAB8AAAAVAAAAKgAAABcAAAA2AAAAGAAAABUAAAAVAAAAKwAAADIAAAA1AAAAEAAAAEMAAAAkAAAAIgAAACoAAAAuAAAARQAAAB8AAAAsAAAAGQAAAC0AAAAvAAAAIQAAABIAAABKAAAAFQAAAC0AAAAlAAAAKQAAACkAAAAiAAAAJwAAABIAAAAfAAAAGgAAAEIAAAA+AAAAFgAAACkAAAAuAAAAOAAAABcAAABGAAAAGAAAACgAAAAhAAAA\"},\"shape\":[102],\"dtype\":\"int32\",\"order\":\"little\"}],[\"correct hit percentage\",{\"type\":\"ndarray\",\"array\":{\"type\":\"bytes\",\"data\":\"QQAAAFoAAABaAAAAZAAAADwAAABQAAAAWgAAAC0AAABQAAAAZAAAAEYAAABaAAAAXwAAAFUAAABLAAAAKAAAAGQAAABGAAAAZAAAAGQAAAA8AAAAZAAAAGQAAABBAAAAZAAAAFAAAABQAAAARgAAAEYAAABaAAAAXwAAAFoAAABaAAAAZAAAAFAAAABaAAAAXwAAAF8AAABaAAAANwAAAGQAAABBAAAAWgAAADcAAABLAAAAZAAAAEYAAABaAAAAXwAAAF8AAABGAAAAUAAAADIAAABBAAAAZAAAAFUAAABVAAAAWgAAAFoAAABaAAAAVQAAAFUAAABaAAAAXwAAAEYAAABfAAAAVQAAAF8AAABaAAAAWgAAAGQAAABQAAAAXwAAAGQAAABaAAAAZAAAAEYAAABaAAAAVQAAAFAAAABVAAAAKAAAAFAAAABaAAAAWgAAAFAAAABaAAAASwAAAFUAAABkAAAAXwAAADwAAABkAAAAVQAAACMAAABfAAAARgAAAEYAAABaAAAARgAAAEsAAABVAAAA\"},\"shape\":[102],\"dtype\":\"int32\",\"order\":\"little\"}],[\"correct reject percentage\",{\"type\":\"ndarray\",\"array\":{\"type\":\"bytes\",\"data\":\"UAAAAFoAAABfAAAASwAAAEEAAAAUAAAASwAAAFoAAABkAAAAMgAAADcAAABkAAAAQQAAAEsAAAA3AAAAZAAAACgAAABaAAAARgAAADIAAABQAAAAXwAAAEsAAAAZAAAAKAAAAEEAAABaAAAAUAAAAEEAAABkAAAAUAAAAF8AAABaAAAAZAAAADwAAABQAAAAPAAAAFoAAABQAAAAPAAAAFUAAABBAAAAZAAAAGQAAABVAAAAUAAAAFoAAABVAAAAWgAAADcAAABBAAAASwAAAF8AAABQAAAARgAAAFoAAABaAAAAWgAAAFUAAABGAAAAXwAAAEsAAABQAAAASwAAAFUAAABLAAAAVQAAAEsAAABBAAAAWgAAAGQAAABaAAAAUAAAAF8AAABfAAAAZAAAADIAAABkAAAARgAAAEsAAABQAAAAKAAAAF8AAABQAAAAVQAAAEsAAAAjAAAARgAAAFUAAABVAAAASwAAAFUAAABQAAAAXwAAAEsAAABQAAAAMgAAAFUAAABVAAAAUAAAAEEAAAAoAAAA\"},\"shape\":[102],\"dtype\":\"int32\",\"order\":\"little\"}],[\"percent correct\",{\"type\":\"ndarray\",\"array\":{\"type\":\"bytes\",\"data\":\"AAAAAAAgUkAAAAAAAIBWQAAAAAAAIFdAAAAAAADgVUAAAAAAAEBPQAAAAAAAAElAAAAAAACgVEAAAAAAAOBQQAAAAAAAgFZAAAAAAADAUkAAAAAAAEBPQAAAAAAAwFdAAAAAAAAAVEAAAAAAAABUQAAAAAAAQFBAAAAAAACAUUAAAAAAAIBRQAAAAAAAAFRAAAAAAABAVUAAAAAAAMBSQAAAAAAAgFFAAAAAAABgWEAAAAAAAOBVQAAAAAAAgEZAAAAAAACAUUAAAAAAACBSQAAAAAAAQFVAAAAAAADAUkAAAAAAAOBQQAAAAAAAwFdAAAAAAADgVUAAAAAAACBXQAAAAAAAgFZAAAAAAAAAWUAAAAAAAIBRQAAAAAAAQFVAAAAAAABgU0AAAAAAACBXQAAAAAAAQFVAAAAAAADATEAAAAAAACBXQAAAAAAAQFBAAAAAAADAV0AAAAAAAGBTQAAAAAAAAFRAAAAAAACAVkAAAAAAAABUQAAAAAAA4FVAAAAAAAAgV0AAAAAAAMBSQAAAAAAA4FBAAAAAAABgU0AAAAAAACBSQAAAAAAAIFJAAAAAAABAVUAAAAAAAOBVQAAAAAAA4FVAAAAAAACAVkAAAAAAAOBVQAAAAAAAAFRAAAAAAACAVkAAAAAAAABUQAAAAAAAQFVAAAAAAABAVUAAAAAAAGBTQAAAAAAAQFVAAAAAAABAVUAAAAAAAEBVQAAAAAAAYFNAAAAAAACAVkAAAAAAAABZQAAAAAAAQFVAAAAAAADgVUAAAAAAAGBYQAAAAAAAIFdAAAAAAAAAWUAAAAAAAABOQAAAAAAAwFdAAAAAAABgU0AAAAAAAGBTQAAAAAAAoFRAAAAAAAAAREAAAAAAAOBVQAAAAAAAQFVAAAAAAADgVUAAAAAAAGBTQAAAAAAAQE9AAAAAAAAgUkAAAAAAAEBVQAAAAAAAIFdAAAAAAABAVUAAAAAAACBSQAAAAAAAgFZAAAAAAACAVkAAAAAAAIBLQAAAAAAA4FVAAAAAAAAATkAAAAAAAGBTQAAAAAAA4FVAAAAAAADAUkAAAAAAAIBRQAAAAAAAQE9A\"},\"shape\":[102],\"dtype\":\"float64\",\"order\":\"little\"}],[\"confidence when correct hit\",{\"type\":\"ndarray\",\"array\":{\"type\":\"bytes\",\"data\":\"AAAAAADAVkAAAAAAAOBSQAAAAAAAYFZAAAAAAABgVkAAAAAAACBRQAAAAAAAwFFAAAAAAADAUEAAAAAAAABLQAAAAAAAoFFAAAAAAACgUkAAAAAAAIBUQAAAAAAAIFNAAAAAAAAAVEAAAAAAAABNQAAAAAAAQFVAAAAAAABAUUAAAAAAAGBRQAAAAAAAwFVAAAAAAAAAV0AAAAAAAABZQAAAAAAAgFFAAAAAAAAAWUAAAAAAAGBWQAAAAAAAAE9AAAAAAADAVUAAAAAAAMBJQAAAAAAAwFJAAAAAAACAUUAAAAAAAMBPQAAAAAAAIFNAAAAAAAAAWUAAAAAAAEBTQAAAAAAAIFRAAAAAAACAVkAAAAAAAIBRQAAAAAAAIFNAAAAAAAAAREAAAAAAAABKQAAAAAAAAFZAAAAAAAAAT0AAAAAAAABRQAAAAAAAgE1AAAAAAADgUkAAAAAAAABRQAAAAAAAAElAAAAAAAAAVkAAAAAAAIA9QAAAAAAAYFBAAAAAAADAVEAAAAAAAMBQQAAAAAAAgFNAAAAAAAAgUkAAAAAAAEBPQAAAAAAAAEtAAAAAAADAUkAAAAAAAIBUQAAAAAAAgFBAAAAAAADAVEAAAAAAAMBQQAAAAAAAgFZAAAAAAABAWEAAAAAAAEBQQAAAAAAAAFVAAAAAAACAUkAAAAAAACBXQAAAAAAAAFVAAAAAAACAS0AAAAAAAIBRQAAAAAAA4FBAAAAAAABATUAAAAAAAKBSQAAAAAAAAFdAAAAAAAAAVEAAAAAAAIBYQAAAAAAAwFVAAAAAAADATkAAAAAAACBUQAAAAAAAAFlAAAAAAACAUUAAAAAAAOBQQAAAAAAAgFBAAAAAAACgVkAAAAAAAIBSQAAAAAAA4FdAAAAAAAAAVEAAAAAAAKBXQAAAAAAAQFRAAAAAAACATEAAAAAAAEBXQAAAAAAAAFlAAAAAAABAVUAAAAAAAOBQQAAAAAAAQFRAAAAAAACAUEAAAAAAAIBLQAAAAAAAgFZAAAAAAACAT0AAAAAAAEBTQAAAAAAAYFBAAAAAAADATkAAAAAAAIBKQAAAAAAAAFRA\"},\"shape\":[102],\"dtype\":\"float64\",\"order\":\"little\"}],[\"confidence incorrect hit\",{\"type\":\"ndarray\",\"array\":{\"type\":\"bytes\",\"data\":\"AAAAAACAVkAAAAAAAMBLQAAAAAAAgFZAAAAAAAAA+H8AAAAAAIBIQAAAAAAAgE9AAAAAAABATEAAAAAAAIBCQAAAAAAAIFNAAAAAAAAA+H8AAAAAAMBOQAAAAAAA4FJAAAAAAABAVkAAAAAAAABJQAAAAAAAQFRAAAAAAAAATEAAAAAAAAD4fwAAAAAAAFJAAAAAAAAA+H8AAAAAAAD4fwAAAAAAQFNAAAAAAAAA+H8AAAAAAAD4fwAAAAAAAFJAAAAAAAAA+H8AAAAAAEBGQAAAAAAAwEtAAAAAAACATEAAAAAAAABQQAAAAAAAwFRAAAAAAABAVUAAAAAAAMBFQAAAAAAA4FVAAAAAAAAA+H8AAAAAAIBRQAAAAAAAwEtAAAAAAACAQEAAAAAAAAA9QAAAAAAAAERAAAAAAAAASUAAAAAAAAD4fwAAAAAAgEtAAAAAAADAQUAAAAAAAMBQQAAAAAAAADlAAAAAAAAA+H8AAAAAAIA8QAAAAAAAADtAAAAAAAAATEAAAAAAAIBKQAAAAAAAAFZAAAAAAAAAUkAAAAAAAAA9QAAAAAAAAEBAAAAAAAAA+H8AAAAAAIBIQAAAAAAAAD1AAAAAAADAVEAAAAAAAIBHQAAAAAAA4FRAAAAAAACAREAAAAAAAEBSQAAAAAAAwEtAAAAAAABAVkAAAAAAACBSQAAAAAAAgEtAAAAAAAAAPkAAAAAAAAAcQAAAAAAAgDxAAAAAAACARUAAAAAAAAD4fwAAAAAA4FJAAAAAAABAUEAAAAAAAAD4fwAAAAAAwEdAAAAAAAAA+H8AAAAAAMBJQAAAAAAAAPh/AAAAAAAAQ0AAAAAAAMBJQAAAAAAAgEtAAAAAAAAAVEAAAAAAAMBQQAAAAAAAAFFAAAAAAADATUAAAAAAAMBOQAAAAAAAAEpAAAAAAACATEAAAAAAAABXQAAAAAAAAPh/AAAAAAAAVkAAAAAAAIBQQAAAAAAAAPh/AAAAAAAATEAAAAAAAIBOQAAAAAAAwFJAAAAAAABASkAAAAAAAKBQQAAAAAAAYFVAAAAAAABAVEAAAAAAAIBCQAAAAAAAADtA\"},\"shape\":[102],\"dtype\":\"float64\",\"order\":\"little\"}],[\"confidence correct reject\",{\"type\":\"ndarray\",\"array\":{\"type\":\"bytes\",\"data\":\"AAAAAABAV0AAAAAAAKBRQAAAAAAAgFVAAAAAAADAUUAAAAAAAIBOQAAAAAAAAD9AAAAAAACAUEAAAAAAAEBQQAAAAAAAIFBAAAAAAABATkAAAAAAAEBSQAAAAAAAwFJAAAAAAADAU0AAAAAAAIBIQAAAAAAAQFVAAAAAAACAUUAAAAAAAEBGQAAAAAAAoFZAAAAAAABAVEAAAAAAAABZQAAAAAAAgFRAAAAAAAAAWUAAAAAAAMBQQAAAAAAAwFVAAAAAAAAAUUAAAAAAAIBFQAAAAAAAAFRAAAAAAAAAS0AAAAAAAABJQAAAAAAAAFRAAAAAAACAV0AAAAAAAMBTQAAAAAAAIFNAAAAAAABAVUAAAAAAAIBRQAAAAAAA4FBAAAAAAAAATEAAAAAAAIBIQAAAAAAAoFFAAAAAAACAUEAAAAAAAIBOQAAAAAAAAFBAAAAAAACgUkAAAAAAAABUQAAAAAAAgFBAAAAAAACAUEAAAAAAAAAzQAAAAAAAgERAAAAAAADAU0AAAAAAAEBQQAAAAAAAQFNAAAAAAAAAWUAAAAAAAEBTQAAAAAAAwEdAAAAAAAAgUEAAAAAAAEBUQAAAAAAAgFFAAAAAAAAgVEAAAAAAAEBRQAAAAAAAYFNAAAAAAACAUkAAAAAAAABMQAAAAAAAYFJAAAAAAAAAUUAAAAAAAMBXQAAAAAAAAFFAAAAAAAAASUAAAAAAAEBRQAAAAAAAgEtAAAAAAABgUkAAAAAAAIBSQAAAAAAAAFdAAAAAAACgU0AAAAAAAIBWQAAAAAAAQFFAAAAAAABATUAAAAAAAIBPQAAAAAAA4FFAAAAAAABATUAAAAAAAIBQQAAAAAAAgE9AAAAAAACgUkAAAAAAAABTQAAAAAAA4FRAAAAAAACAUUAAAAAAAIBVQAAAAAAAwFFAAAAAAADATUAAAAAAAMBWQAAAAAAAAFlAAAAAAACAVEAAAAAAAIBSQAAAAAAAoFJAAAAAAAAAUkAAAAAAAABUQAAAAAAAAFRAAAAAAADgUEAAAAAAAEBTQAAAAAAAwFVAAAAAAACAUUAAAAAAAABVQAAAAAAAAD9A\"},\"shape\":[102],\"dtype\":\"float64\",\"order\":\"little\"}],[\"confidence incorrect reject\",{\"type\":\"ndarray\",\"array\":{\"type\":\"bytes\",\"data\":\"AAAAAADgVEAAAAAAAABJQAAAAAAAQFRAAAAAAAAAVEAAAAAAAIBIQAAAAAAAIFJAAAAAAABAUEAAAAAAAGBUQAAAAAAAAPh/AAAAAABAUEAAAAAAAEBRQAAAAAAAAPh/AAAAAABATUAAAAAAAABRQAAAAAAAgFVAAAAAAAAA+H8AAAAAAEBSQAAAAAAAwEVAAAAAAAAATkAAAAAAAABZQAAAAAAA4FBAAAAAAAAAWUAAAAAAAABOQAAAAAAAQFNAAAAAAAAAS0AAAAAAAIBIQAAAAAAAwFJAAAAAAACASkAAAAAAAABJQAAAAAAAAPh/AAAAAACATkAAAAAAAAA1QAAAAAAAADtAAAAAAAAA+H8AAAAAAEBQQAAAAAAAQEpAAAAAAACASEAAAAAAAABCQAAAAAAAoFBAAAAAAABASUAAAAAAAABLQAAAAAAAgE1AAAAAAAAA+H8AAAAAAAD4fwAAAAAAADhAAAAAAADAT0AAAAAAAMBEQAAAAAAAgEZAAAAAAABARUAAAAAAAIBKQAAAAAAAAFRAAAAAAADAVkAAAAAAAABAQAAAAAAAoFNAAAAAAACARUAAAAAAAABCQAAAAAAAAD1AAAAAAAAAQkAAAAAAAABEQAAAAAAAQFFAAAAAAABAUkAAAAAAAABRQAAAAAAAgFFAAAAAAABAUEAAAAAAAEBQQAAAAAAAgE5AAAAAAAAAREAAAAAAAABOQAAAAAAAAEpAAAAAAADASkAAAAAAAAD4fwAAAAAAgE9AAAAAAACgUUAAAAAAAABEQAAAAAAAwFVAAAAAAAAA+H8AAAAAAEBRQAAAAAAAwFRAAAAAAABAUEAAAAAAAIBMQAAAAAAAQElAAAAAAADAVEAAAAAAAAAxQAAAAAAAwFRAAAAAAACAREAAAAAAAIBSQAAAAAAAAE1AAAAAAAAASUAAAAAAAEBWQAAAAAAAAElAAAAAAACAVEAAAAAAAIBMQAAAAAAAgFRAAAAAAACAT0AAAAAAAIBMQAAAAAAAAFRAAAAAAABgUEAAAAAAAGBTQAAAAAAAAFRAAAAAAACATkAAAAAAAABKQAAAAAAAoFRA\"},\"shape\":[102],\"dtype\":\"float64\",\"order\":\"little\"}],[\"confidence when correct\",{\"type\":\"ndarray\",\"array\":{\"type\":\"bytes\",\"data\":\"AAAAAABAV0AAAAAAAMBSQAAAAAAAQFZAAAAAAAAAVkAAAAAAAEBQQAAAAAAAIFBAAAAAAACAUEAAAAAAAABPQAAAAAAAAFFAAAAAAADAUUAAAAAAAIBUQAAAAAAAAFNAAAAAAADgU0AAAAAAAIBLQAAAAAAAQFVAAAAAAACAUUAAAAAAAEBLQAAAAAAAIFZAAAAAAADgVUAAAAAAAABZQAAAAAAAQFNAAAAAAAAAWUAAAAAAAABUQAAAAAAAYFFAAAAAAABAVEAAAAAAAIBJQAAAAAAAoFNAAAAAAACATEAAAAAAAABOQAAAAAAAAFRAAAAAAADAWEAAAAAAAIBTQAAAAAAAoFNAAAAAAACAVkAAAAAAAIBRQAAAAAAAgFJAAAAAAACAR0AAAAAAAABKQAAAAAAAAFVAAAAAAACAT0AAAAAAAABPQAAAAAAAwE1AAAAAAADgUkAAAAAAAIBTQAAAAAAAgE9AAAAAAABAVEAAAAAAAAA4QAAAAAAAAElAAAAAAABAVEAAAAAAAMBQQAAAAAAAQFNAAAAAAAAAWUAAAAAAAABRQAAAAAAAAEhAAAAAAACAUkAAAAAAAIBUQAAAAAAAwFBAAAAAAACgVEAAAAAAAMBQQAAAAAAAAFZAAAAAAADAVEAAAAAAAMBPQAAAAAAAIFRAAAAAAADAUUAAAAAAAMBXQAAAAAAAoFNAAAAAAABASkAAAAAAAEBRQAAAAAAAgE5AAAAAAACAUEAAAAAAAIBSQAAAAAAAAFdAAAAAAAAAVEAAAAAAAABXQAAAAAAAwFRAAAAAAABATkAAAAAAACBSQAAAAAAAYFhAAAAAAAAAUUAAAAAAAMBQQAAAAAAAQFBAAAAAAACAVEAAAAAAAMBSQAAAAAAAgFdAAAAAAABAU0AAAAAAAABXQAAAAAAAQFRAAAAAAAAATUAAAAAAAOBWQAAAAAAAAFlAAAAAAABAVUAAAAAAAIBSQAAAAAAA4FNAAAAAAACgUUAAAAAAAABSQAAAAAAAQFVAAAAAAAAAUEAAAAAAAEBTQAAAAAAAgFJAAAAAAABAUEAAAAAAAEBUQAAAAAAAQFRA\"},\"shape\":[102],\"dtype\":\"float64\",\"order\":\"little\"}],[\"confidence when incorrect\",{\"type\":\"ndarray\",\"array\":{\"type\":\"bytes\",\"data\":\"AAAAAACAVkAAAAAAAABJQAAAAAAAAFZAAAAAAAAAVEAAAAAAAIBIQAAAAAAAoFFAAAAAAAAAUEAAAAAAAIBOQAAAAAAAIFNAAAAAAABAUEAAAAAAAABQQAAAAAAA4FJAAAAAAACAT0AAAAAAAIBNQAAAAAAA4FRAAAAAAAAATEAAAAAAAEBSQAAAAAAAAFBAAAAAAAAATkAAAAAAAABZQAAAAAAAoFFAAAAAAAAAWUAAAAAAAABOQAAAAAAAYFJAAAAAAAAAS0AAAAAAAIBIQAAAAAAAwFBAAAAAAABAS0AAAAAAAABJQAAAAAAAwFRAAAAAAABAUEAAAAAAAABCQAAAAAAA4FBAAAAAAAAA+H8AAAAAAIBRQAAAAAAAwEtAAAAAAAAARkAAAAAAAAA9QAAAAAAAQEtAAAAAAAAASUAAAAAAAABLQAAAAAAAgExAAAAAAADAQUAAAAAAAMBQQAAAAAAAgDhAAAAAAADAT0AAAAAAAIBBQAAAAAAAgEZAAAAAAAAAS0AAAAAAAIBKQAAAAAAAAFVAAAAAAADAVkAAAAAAAAA/QAAAAAAAgElAAAAAAACARUAAAAAAAIBIQAAAAAAAAD1AAAAAAAAAU0AAAAAAAABEQAAAAAAAwFNAAAAAAADAS0AAAAAAAABRQAAAAAAAQFBAAAAAAAAAUUAAAAAAAEBQQAAAAAAAAE1AAAAAAACAQUAAAAAAAMBNQAAAAAAAAElAAAAAAADAR0AAAAAAAAD4fwAAAAAAYFJAAAAAAACAUUAAAAAAAABEQAAAAAAAwFBAAAAAAAAA+H8AAAAAAMBOQAAAAAAAwFRAAAAAAAAAREAAAAAAAIBKQAAAAAAAgEtAAAAAAABAVEAAAAAAAABQQAAAAAAAwFFAAAAAAACATUAAAAAAAMBQQAAAAAAAAE1AAAAAAAAASUAAAAAAAMBWQAAAAAAAAElAAAAAAABAVUAAAAAAAABQQAAAAAAAgFRAAAAAAADATUAAAAAAAABOQAAAAAAAwFJAAAAAAADATUAAAAAAAIBSQAAAAAAAAFRAAAAAAABAVEAAAAAAAIBJQAAAAAAAQFJA\"},\"shape\":[102],\"dtype\":\"float64\",\"order\":\"little\"}],[\"sci\",{\"type\":\"ndarray\",\"array\":{\"type\":\"bytes\",\"data\":\"CQAAAAQAAAAKAAAADQAAAA0AAAAPAAAAEAAAAA4AAAAOAAAADgAAAA4AAAAPAAAACgAAAA4AAAAFAAAAAAAAABAAAAALAAAADgAAAAwAAAAOAAAADgAAABAAAAABAAAADgAAAB0AAAATAAAAFwAAABoAAAAVAAAAEwAAABwAAAAdAAAAEQAAABYAAAAcAAAAHwAAAB8AAAAgAAAAGQAAAB4AAAAcAAAAHgAAABYAAAAUAAAAGgAAACAAAAAgAAAAGAAAABoAAAAeAAAAHAAAABUAAAAdAAAAIAAAABoAAAAaAAAAFwAAABIAAAAWAAAAHQAAABQAAAAbAAAAEwAAAB0AAAAYAAAAHQAAABEAAAAaAAAAHgAAABEAAAAZAAAAHwAAABsAAAAgAAAAHAAAABkAAAAeAAAAFQAAAB0AAAAUAAAAFgAAABcAAAAUAAAAEQAAABsAAAAbAAAAFgAAABkAAAAeAAAAIAAAAB4AAAAgAAAAHAAAAB8AAAAdAAAAGgAAABQAAAATAAAAHwAAABYAAAAYAAAA\"},\"shape\":[102],\"dtype\":\"int32\",\"order\":\"little\"}],[\"psqi\",{\"type\":\"ndarray\",\"array\":{\"type\":\"bytes\",\"data\":\"DQAAAAsAAAAJAAAACAAAAAkAAAAOAAAACQAAAAkAAAAMAAAACAAAAAUAAAAHAAAADAAAAA0AAAANAAAACwAAAAQAAAAKAAAABgAAAAcAAAAIAAAACQAAAAcAAAAPAAAABwAAAAEAAAAFAAAAAQAAAAUAAAAHAAAABwAAAAMAAAADAAAACgAAAAQAAAAFAAAAAgAAAAIAAAACAAAABQAAAAIAAAADAAAAAwAAAAQAAAAJAAAABQAAAAIAAAABAAAABAAAAAgAAAACAAAAAgAAAAYAAAADAAAAAQAAAAUAAAAHAAAAAwAAAAYAAAAGAAAAAQAAAAYAAAAEAAAABAAAAAMAAAAFAAAAAgAAAAcAAAAEAAAAAAAAAAUAAAABAAAAAQAAAAQAAAABAAAACAAAAAQAAAACAAAABwAAAAQAAAABAAAABwAAAAQAAAAFAAAABgAAAAQAAAACAAAAAwAAAAQAAAADAAAAAQAAAAUAAAACAAAAAQAAAAEAAAADAAAABgAAAAgAAAAIAAAAAgAAAAQAAAAFAAAA\"},\"shape\":[102],\"dtype\":\"int32\",\"order\":\"little\"}],[\"ess\",{\"type\":\"ndarray\",\"array\":{\"type\":\"bytes\",\"data\":\"AgAAAAcAAAADAAAAFAAAAAwAAAACAAAAAwAAAAkAAAAKAAAABwAAABMAAAAAAAAACAAAAAQAAAAHAAAADgAAAAwAAAAKAAAACwAAAAwAAAABAAAABgAAAAQAAAAGAAAAAgAAAAUAAAABAAAAAwAAAAQAAAAFAAAADAAAAAQAAAAEAAAACwAAAAYAAAADAAAACwAAAAoAAAAMAAAABgAAAA0AAAAMAAAABQAAAAoAAAAEAAAABAAAAAYAAAADAAAAAAAAAAwAAAAGAAAABQAAAAkAAAAHAAAABgAAAAoAAAASAAAACwAAAAgAAAAQAAAABwAAAAkAAAALAAAABAAAAAcAAAAEAAAACwAAAAwAAAADAAAAAwAAAAQAAAALAAAAAQAAAAQAAAACAAAACQAAAAEAAAACAAAADAAAAAYAAAAFAAAABQAAAAQAAAAJAAAAAwAAAAgAAAAGAAAACgAAABUAAAAFAAAABQAAAAkAAAABAAAACAAAAAsAAAAFAAAABwAAAAoAAAAHAAAADwAAAAcAAAAHAAAA\"},\"shape\":[102],\"dtype\":\"int32\",\"order\":\"little\"}],[\"insomnia\",{\"type\":\"ndarray\",\"array\":{\"type\":\"bytes\",\"data\":\"AQEBAQEBAQEBAQEBAQEBAQEBAQEBAQEBAQAAAAAAAAAAAAAAAAAAAAAAAAAAAAAAAAAAAAAAAAAAAAAAAAAAAAAAAAAAAAAAAAAAAAAAAAAAAAAAAAAAAAAAAAAAAAAAAAAAAAAA\"},\"shape\":[102],\"dtype\":\"bool\",\"order\":\"little\"}],[\"sleeper\",{\"type\":\"ndarray\",\"array\":[\"insomniac\",\"insomniac\",\"insomniac\",\"insomniac\",\"insomniac\",\"insomniac\",\"insomniac\",\"insomniac\",\"insomniac\",\"insomniac\",\"insomniac\",\"insomniac\",\"insomniac\",\"insomniac\",\"insomniac\",\"insomniac\",\"insomniac\",\"insomniac\",\"insomniac\",\"insomniac\",\"insomniac\",\"insomniac\",\"insomniac\",\"insomniac\",\"insomniac\",\"normal\",\"normal\",\"normal\",\"normal\",\"normal\",\"normal\",\"normal\",\"normal\",\"normal\",\"normal\",\"normal\",\"normal\",\"normal\",\"normal\",\"normal\",\"normal\",\"normal\",\"normal\",\"normal\",\"normal\",\"normal\",\"normal\",\"normal\",\"normal\",\"normal\",\"normal\",\"normal\",\"normal\",\"normal\",\"normal\",\"normal\",\"normal\",\"normal\",\"normal\",\"normal\",\"normal\",\"normal\",\"normal\",\"normal\",\"normal\",\"normal\",\"normal\",\"normal\",\"normal\",\"normal\",\"normal\",\"normal\",\"normal\",\"normal\",\"normal\",\"normal\",\"normal\",\"normal\",\"normal\",\"normal\",\"normal\",\"normal\",\"normal\",\"normal\",\"normal\",\"normal\",\"normal\",\"normal\",\"normal\",\"normal\",\"normal\",\"normal\",\"normal\",\"normal\",\"normal\",\"normal\",\"normal\",\"normal\",\"normal\",\"normal\",\"normal\",\"normal\"],\"shape\":[102],\"dtype\":\"object\",\"order\":\"little\"}],[\"percent correct with noise\",{\"type\":\"ndarray\",\"array\":{\"type\":\"bytes\",\"data\":\"Ubck6jIlUkBg6EHQT3RWQCGWoGbWNldAE3Sv3DbPVUBQvqgZMidPQB5D/Qkj3UhAAYubCLtjVEA4Scbj75hQQJh3i5w+pVZAuA9rz0LIUkAy9d9FM0lPQEvq2wx2w1dACzpMPo4LVED6YQopoDtUQMOgoZZ0GlBAA/sm4AmgUUD32GZTQ0lRQPlEDcxENlRAhMYG/CYZVUCsrp4zZr9SQF+NXxcXgFFA8aQ2hmNMWEB//OZA3O1VQL+XPt6MpUZAwiWqrgCHUUCCrV+DhQxSQAdEslSkMlVAAW6Fh5XTUkA6XTSNB+lQQCqRb+/j+FdA2icFgz3vVUCmZ8LGCAFXQMxo1TgabFZABq0mpYH+WEB8wGF4A4tRQBiqXoHYW1VAZ8ipcRuDU0C4xSSVZOhWQKIZL4zffFVA6oj5xMn7TEA72hBD7UFXQK4rJBcPKlBAcY44fjTMV0Dn8pB37W1TQLwGdu8JB1RAB4EMtIyEVkARpSYYg/1TQEQ6zSzYo1VArmx31I9LV0Dyw6M98eVSQCfLMnwcvlBALYWVzsB1U0BlkapeNC1SQEW+dnwiOVJALk3w/1wWVUCm2xYmcrxVQLxQKve6/FVA3My7qBxgVkBFaUo+a/hVQL3csGj0I1RAya63UcJ0VkAgTP4mlTxUQIsoeMWUM1VA3UjzIK8mVUD3ziBFG4dTQM/OtkWJKFVAtrAJQ3pdVUCa/vgigDRVQJzD/n3OaFNANqJaTyiVVkBhh9LzmNRYQHlx4QGWK1VAvT4JfljfVUC5KzYnrXBYQJDdJRF6J1dAROWzBtD6WEBHRWcPkUROQCgNW5vZsVdAi9c+xg1oU0CG6BfctlhTQMBuyPnRoVRA2J5rNNbNQ0D3pFngMLhVQNPh4Yr0KlVAXiNunFHKVUAxslgWB4FTQIMtnYrEhE9AnvLGXhMcUkAuCLPHrkJVQJk7hPojHldA7V4Gg1tNVUDtpVKKVQlSQHnOeXtHWFZApW+IHadOVkBfOHYFwNVLQHT0G94Q11VA6gxXWjjZTUB2Nzi0WYxTQLDL1mlQu1VAriPiWS3qUkDHn7ArYGlRQP1TggrTfU9A\"},\"shape\":[102],\"dtype\":\"float64\",\"order\":\"little\"}],[\"__dummy_cat\",{\"type\":\"ndarray\",\"array\":[\" \",\" \",\" \",\" \",\" \",\" \",\" \",\" \",\" \",\" \",\" \",\" \",\" \",\" \",\" \",\" \",\" \",\" \",\" \",\" \",\" \",\" \",\" \",\" \",\" \",\" \",\" \",\" \",\" \",\" \",\" \",\" \",\" \",\" \",\" \",\" \",\" \",\" \",\" \",\" \",\" \",\" \",\" \",\" \",\" \",\" \",\" \",\" \",\" \",\" \",\" \",\" \",\" \",\" \",\" \",\" \",\" \",\" \",\" \",\" \",\" \",\" \",\" \",\" \",\" \",\" \",\" \",\" \",\" \",\" \",\" \",\" \",\" \",\" \",\" \",\" \",\" \",\" \",\" \",\" \",\" \",\" \",\" \",\" \",\" \",\" \",\" \",\" \",\" \",\" \",\" \",\" \",\" \",\" \",\" \",\" \",\" \",\" \",\" \",\" \",\" \",\" \"],\"shape\":[102],\"dtype\":\"object\",\"order\":\"little\"}],[\"__ECDF\",{\"type\":\"ndarray\",\"array\":{\"type\":\"bytes\",\"data\":\"3dzc3NzczD94eHh4eHjoP0tLS0tLS+s/tbS0tLS05D8UFBQUFBS0Px4eHh4eHp4/X19fX19f3z+SkZGRkZHBP8nIyMjIyOg/MjIyMjIy0j+XlpaWlpa2P319fX19fe0/+/r6+vr62j+cm5ubm5vbPx4eHh4eHr4/VVVVVVVVxT+XlpaWlpbGPzw8PDw8PNw/UFBQUFBQ4D/T0tLS0tLSP9jX19fX18c/v76+vr6+7j8FBQUFBQXlPxQUFBQUFJQ/GRkZGRkZyT8eHh4eHh7OP6GgoKCgoOA/c3Nzc3Nz0z/T0tLS0tLCP87Nzc3Nze0/VVVVVVVV5T+cm5ubm5vrPxkZGRkZGek/X19fX19f7z9aWlpaWlrKP/Hw8PDw8OA/VVVVVVVV1T/s6+vr6+vrP0FBQUFBQeE/GRkZGRkZqT88PDw8PDzsP1BQUFBQUMA/Hh4eHh4e7j/29fX19fXVP93c3Nzc3Nw/aWlpaWlp6T99fX19fX3dP6alpaWlpeU/jYyMjIyM7D8UFBQUFBTUPxQUFBQUFMQ/l5aWlpaW1j9fX19fX1/PP1BQUFBQUNA/kpGRkZGR4T/29fX19fXlP0ZGRkZGRuY/urm5ubm56T+XlpaWlpbmPx4eHh4eHt4/CgoKCgoK6j+/vr6+vr7eP+Lh4eHh4eE/MjIyMjIy4j83Nzc3NzfXP4OCgoKCguI/09LS0tLS4j8jIyMjIyPjP9jX19fX19c/WlpaWlpa6j+wr6+vr6/vP3Nzc3Nzc+M/5+bm5ubm5j8PDw8PDw/vP93c3Nzc3Ow/AAAAAAAA8D8eHh4eHh6uP25ubm5ubu4/eHh4eHh42D8ZGRkZGRnZPwAAAAAAAOA/FBQUFBQUhD83Nzc3NzfnP8TDw8PDw+M/iIeHh4eH5z+6ubm5ubnZPxkZGRkZGbk/8fDw8PDw0D8UFBQUFBTkPy0tLS0tLe0/ZGRkZGRk5D+SkZGRkZHRP6uqqqqqquo/+/r6+vr66j8UFBQUFBSkP9jX19fX1+c/kpGRkZGRsT9aWlpaWlraPygoKCgoKOg/tbS0tLS01D+cm5ubm5vLP5ybm5ubm7s/\"},\"shape\":[102],\"dtype\":\"float64\",\"order\":\"little\"}],[\"__label\",{\"type\":\"ndarray\",\"array\":[\" \",\" \",\" \",\" \",\" \",\" \",\" \",\" \",\" \",\" \",\" \",\" \",\" \",\" \",\" \",\" \",\" \",\" \",\" \",\" \",\" \",\" \",\" \",\" \",\" \",\" \",\" \",\" \",\" \",\" \",\" \",\" \",\" \",\" \",\" \",\" \",\" \",\" \",\" \",\" \",\" \",\" \",\" \",\" \",\" \",\" \",\" \",\" \",\" \",\" \",\" \",\" \",\" \",\" \",\" \",\" \",\" \",\" \",\" \",\" \",\" \",\" \",\" \",\" \",\" \",\" \",\" \",\" \",\" \",\" \",\" \",\" \",\" \",\" \",\" \",\" \",\" \",\" \",\" \",\" \",\" \",\" \",\" \",\" \",\" \",\" \",\" \",\" \",\" \",\" \",\" \",\" \",\" \",\" \",\" \",\" \",\" \",\" \",\" \",\" \",\" \",\" \"],\"shape\":[102],\"dtype\":\"object\",\"order\":\"little\"}]]}}},\"view\":{\"type\":\"object\",\"name\":\"CDSView\",\"id\":\"p1738\",\"attributes\":{\"filter\":{\"type\":\"object\",\"name\":\"AllIndices\",\"id\":\"p1739\"}}},\"glyph\":{\"type\":\"object\",\"name\":\"Circle\",\"id\":\"p1734\",\"attributes\":{\"x\":{\"type\":\"field\",\"field\":\"percent correct\"},\"y\":{\"type\":\"field\",\"field\":\"__ECDF\"},\"line_color\":{\"type\":\"value\",\"value\":\"orange\"},\"fill_color\":{\"type\":\"value\",\"value\":\"orange\"}}},\"nonselection_glyph\":{\"type\":\"object\",\"name\":\"Circle\",\"id\":\"p1735\",\"attributes\":{\"x\":{\"type\":\"field\",\"field\":\"percent correct\"},\"y\":{\"type\":\"field\",\"field\":\"__ECDF\"},\"line_color\":{\"type\":\"value\",\"value\":\"orange\"},\"line_alpha\":{\"type\":\"value\",\"value\":0.1},\"fill_color\":{\"type\":\"value\",\"value\":\"orange\"},\"fill_alpha\":{\"type\":\"value\",\"value\":0.1},\"hatch_alpha\":{\"type\":\"value\",\"value\":0.1}}},\"muted_glyph\":{\"type\":\"object\",\"name\":\"Circle\",\"id\":\"p1736\",\"attributes\":{\"x\":{\"type\":\"field\",\"field\":\"percent correct\"},\"y\":{\"type\":\"field\",\"field\":\"__ECDF\"},\"line_color\":{\"type\":\"value\",\"value\":\"orange\"},\"line_alpha\":{\"type\":\"value\",\"value\":0.2},\"fill_color\":{\"type\":\"value\",\"value\":\"orange\"},\"fill_alpha\":{\"type\":\"value\",\"value\":0.2},\"hatch_alpha\":{\"type\":\"value\",\"value\":0.2}}}}}],\"toolbar\":{\"type\":\"object\",\"name\":\"Toolbar\",\"id\":\"p1681\",\"attributes\":{\"tools\":[{\"type\":\"object\",\"name\":\"PanTool\",\"id\":\"p1694\"},{\"type\":\"object\",\"name\":\"WheelZoomTool\",\"id\":\"p1695\"},{\"type\":\"object\",\"name\":\"BoxZoomTool\",\"id\":\"p1696\",\"attributes\":{\"overlay\":{\"type\":\"object\",\"name\":\"BoxAnnotation\",\"id\":\"p1697\",\"attributes\":{\"syncable\":false,\"level\":\"overlay\",\"visible\":false,\"left_units\":\"canvas\",\"right_units\":\"canvas\",\"bottom_units\":\"canvas\",\"top_units\":\"canvas\",\"line_color\":\"black\",\"line_alpha\":1.0,\"line_width\":2,\"line_dash\":[4,4],\"fill_color\":\"lightgrey\",\"fill_alpha\":0.5}}}},{\"type\":\"object\",\"name\":\"SaveTool\",\"id\":\"p1698\"},{\"type\":\"object\",\"name\":\"ResetTool\",\"id\":\"p1699\"},{\"type\":\"object\",\"name\":\"HelpTool\",\"id\":\"p1700\"}]}},\"toolbar_location\":\"above\",\"left\":[{\"type\":\"object\",\"name\":\"LinearAxis\",\"id\":\"p1689\",\"attributes\":{\"ticker\":{\"type\":\"object\",\"name\":\"BasicTicker\",\"id\":\"p1690\",\"attributes\":{\"mantissas\":[1,2,5]}},\"formatter\":{\"type\":\"object\",\"name\":\"BasicTickFormatter\",\"id\":\"p1691\"},\"axis_label\":\"ECDF\",\"major_label_policy\":{\"type\":\"object\",\"name\":\"AllLabels\",\"id\":\"p1692\"}}}],\"below\":[{\"type\":\"object\",\"name\":\"LinearAxis\",\"id\":\"p1684\",\"attributes\":{\"ticker\":{\"type\":\"object\",\"name\":\"BasicTicker\",\"id\":\"p1685\",\"attributes\":{\"mantissas\":[1,2,5]}},\"formatter\":{\"type\":\"object\",\"name\":\"BasicTickFormatter\",\"id\":\"p1686\"},\"axis_label\":\"percent correct\",\"major_label_policy\":{\"type\":\"object\",\"name\":\"AllLabels\",\"id\":\"p1687\"}}}],\"center\":[{\"type\":\"object\",\"name\":\"Grid\",\"id\":\"p1688\",\"attributes\":{\"axis\":{\"id\":\"p1684\"}}},{\"type\":\"object\",\"name\":\"Grid\",\"id\":\"p1693\",\"attributes\":{\"dimension\":1,\"axis\":{\"id\":\"p1689\"}}}],\"frame_width\":375,\"frame_height\":275}}]}};\n",
       "  const render_items = [{\"docid\":\"546adb7c-7750-445f-bf12-0133c3ccd923\",\"roots\":{\"p1673\":\"cbced94e-e1a5-4886-9aa1-50841319a938\"},\"root_ids\":[\"p1673\"]}];\n",
       "  root.Bokeh.embed.embed_items_notebook(docs_json, render_items);\n",
       "  }\n",
       "  if (root.Bokeh !== undefined) {\n",
       "    embed_document(root);\n",
       "  } else {\n",
       "    let attempts = 0;\n",
       "    const timer = setInterval(function(root) {\n",
       "      if (root.Bokeh !== undefined) {\n",
       "        clearInterval(timer);\n",
       "        embed_document(root);\n",
       "      } else {\n",
       "        attempts++;\n",
       "        if (attempts > 100) {\n",
       "          clearInterval(timer);\n",
       "          console.log(\"Bokeh: ERROR: Unable to run BokehJS code because BokehJS library is missing\");\n",
       "        }\n",
       "      }\n",
       "    }, 10, root)\n",
       "  }\n",
       "})(window);"
      ],
      "application/vnd.bokehjs_exec.v0+json": ""
     },
     "metadata": {
      "application/vnd.bokehjs_exec.v0+json": {
       "id": "p1673"
      }
     },
     "output_type": "display_data"
    }
   ],
   "source": [
    "p = iqplot.ecdf(df, \"percent correct\")\n",
    "p = iqplot.ecdf(df, \"percent correct\", p=p, style='dots', marker_kwargs=dict(color=\"orange\"))\n",
    "\n",
    "bokeh.io.show(p)"
   ]
  },
  {
   "cell_type": "markdown",
   "metadata": {},
   "source": [
    "The circles are on the concave corners of the staircase."
   ]
  },
  {
   "cell_type": "markdown",
   "metadata": {},
   "source": [
    "## Computing environment"
   ]
  },
  {
   "cell_type": "code",
   "execution_count": 17,
   "metadata": {},
   "outputs": [
    {
     "name": "stdout",
     "output_type": "stream",
     "text": [
      "Python implementation: CPython\n",
      "Python version       : 3.11.5\n",
      "IPython version      : 8.15.0\n",
      "\n",
      "numpy     : 1.24.3\n",
      "pandas    : 2.0.3\n",
      "bokeh     : 3.2.1\n",
      "iqplot    : 0.3.5\n",
      "jupyterlab: 4.0.6\n",
      "\n"
     ]
    }
   ],
   "source": [
    "%load_ext watermark\n",
    "%watermark -v -p numpy,pandas,bokeh,iqplot,jupyterlab"
   ]
  }
 ],
 "metadata": {
  "kernelspec": {
   "display_name": "Python 3 (ipykernel)",
   "language": "python",
   "name": "python3"
  },
  "language_info": {
   "codemirror_mode": {
    "name": "ipython",
    "version": 3
   },
   "file_extension": ".py",
   "mimetype": "text/x-python",
   "name": "python",
   "nbconvert_exporter": "python",
   "pygments_lexer": "ipython3",
   "version": "3.11.5"
  }
 },
 "nbformat": 4,
 "nbformat_minor": 4
}
