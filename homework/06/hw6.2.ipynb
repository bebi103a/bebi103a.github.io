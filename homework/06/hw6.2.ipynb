{
 "cells": [
  {
   "cell_type": "markdown",
   "metadata": {},
   "source": [
    "# Homework 6.2: Heredity in Darwin's finches, the parametric way (50 pts)\n",
    "\n",
    "[Fortis heredity download](https://s3.amazonaws.com/bebi103.caltech.edu/data/fortis_beak_depth_heredity.csv)\n",
    "\n",
    "[Scandens heredity download](https://s3.amazonaws.com/bebi103.caltech.edu/data/scandens_beak_depth_heredity.csv)\n",
    "\n",
    "\n",
    "<hr />"
   ]
  },
  {
   "cell_type": "markdown",
   "metadata": {},
   "source": [
    "In the previous problem we looked at introgressize hybridization from a nonparametric perspective, computing plug-in estimates for the heritability, $h^2$. Now, we will take a parametric approach. We model parental and offspring beak depth as a Bivariate Normal distribution. To be clear, we define $\\mathbf{y} = (b_p, b_o)^\\mathsf{T}$ a 2-vector containing the parental and offspring beak depths. Our model is\n",
    "\n",
    "\\begin{align}\n",
    "\\mathbf{y}_i \\sim \\text{Norm}(\\boldsymbol{\\mu}, \\mathsf{\\Sigma})\\;\\;\\;\\forall i,\n",
    "\\end{align}\n",
    "\n",
    "where $\\boldsymbol{\\mu} = (\\mu_p, \\mu_o)^\\mathsf{T}$ is a vector containing the mean parent and offspring beak depth and $\\mathsf{\\Sigma}$ is the covariance matrix,\n",
    "\n",
    "\\begin{align}\n",
    "\\mathsf{\\Sigma} = \\begin{pmatrix}\n",
    "\\sigma_p^2 & \\sigma_{op} \\\\\n",
    "\\sigma_{op} & \\sigma_o^2\n",
    "\\end{pmatrix}.\n",
    "\\end{align}\n",
    "\n",
    "\n",
    "You can read about the Multivariate Normal distribution in the [Distribution Explorer](https://distribution-explorer.github.io/multivariate_continuous/multivariate_normal.html). Note that there are five scalar parameters in this model, $\\mu_p$, $\\mu_o$, $\\sigma_p$, $\\sigma_o$, and $\\sigma_{op}$. In the context of this model, the heritability is defined as $h^2 = \\sigma_{op} / \\sigma_p^2$.\n",
    "\n",
    "**a)** Obtain a parametric maximum likelihood estimate for the heritability with a parametric confidence interval. You should fully justify the choices you made in the approach you took to do this calculation. \n",
    "\n",
    "**b)** Perform a nonparametric null hypothesis significance test of your choosing.\n",
    "\n",
    "**c)** Are your results similar to what you got in the previous problem? Comment on why you think you see similarities and/or differences."
   ]
  },
  {
   "cell_type": "markdown",
   "metadata": {},
   "source": [
    "<hr />"
   ]
  }
 ],
 "metadata": {
  "kernelspec": {
   "display_name": "Python 3 (ipykernel)",
   "language": "python",
   "name": "python3"
  },
  "language_info": {
   "codemirror_mode": {
    "name": "ipython",
    "version": 3
   },
   "file_extension": ".py",
   "mimetype": "text/x-python",
   "name": "python",
   "nbconvert_exporter": "python",
   "pygments_lexer": "ipython3",
   "version": "3.9.13"
  }
 },
 "nbformat": 4,
 "nbformat_minor": 4
}
