{
 "cells": [
  {
   "cell_type": "markdown",
   "metadata": {},
   "source": [
    "# Homework 1.1: Your goals (15 pts)\n",
    "\n",
    "* Write down your goals for the class.\n",
    "* In what context do you expect to use the skills you learn in this class in the future?\n",
    "* Are there specific techniques you would like to learn? Is there something that has been confusing for you that you would like cleared up?\n",
    "\n",
    "Each member of your team should write their own response in a Markdown cell (and identify who each response belongs to), but the responses should be turned in together. These goals are not meant to be private; it is useful for all teammates to know what each other are striving for."
   ]
  },
  {
   "cell_type": "markdown",
   "metadata": {},
   "source": [
    "<br />"
   ]
  }
 ],
 "metadata": {
  "anaconda-cloud": {},
  "kernelspec": {
   "display_name": "Python 3 (ipykernel)",
   "language": "python",
   "name": "python3"
  },
  "language_info": {
   "codemirror_mode": {
    "name": "ipython",
    "version": 3
   },
   "file_extension": ".py",
   "mimetype": "text/x-python",
   "name": "python",
   "nbconvert_exporter": "python",
   "pygments_lexer": "ipython3",
   "version": "3.8.11"
  }
 },
 "nbformat": 4,
 "nbformat_minor": 4
}
