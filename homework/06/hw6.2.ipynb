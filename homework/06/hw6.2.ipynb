{
 "cells": [
  {
   "cell_type": "markdown",
   "metadata": {},
   "source": [
    "# Homework 6.2: Heredity in Darwin's finches (50 pts)\n",
    "\n",
    "[Fortis heredity download](https://s3.amazonaws.com/bebi103.caltech.edu/data/fortis_beak_depth_heredity.csv)\n",
    "\n",
    "[Scandens heredity download](https://s3.amazonaws.com/bebi103.caltech.edu/data/scandens_beak_depth_heredity.csv)\n",
    "\n",
    "\n",
    "<hr />"
   ]
  },
  {
   "cell_type": "markdown",
   "metadata": {},
   "source": [
    "We continue working with Peter and Rosemary Grant's wonderful data set about Darwin's finches. \n",
    "\n",
    "Introgressive hybridization occurs when a *G. scandens* bird mates with a *G. fortis* bird, and then the offspring mates again with pure bred *G. scandens* bird. This brings traits from *G. fortis* into the *G. scandens* genome. As this may be a mode by which beak geometries of *G. scandens* change over time, it is useful to know how **heritable** a trait is. Narrow-sense heritability (just \"heritability\" for short) is defined as the ratio of the covariance between parents and offsprings to the variance of the parents alone. To be clear, the heritability is defined as follows.\n",
    "\n",
    "1. Compute the average value of a trait in a pair of parents.\n",
    "2. Compute the average value of that trait among the offspring of those parents.\n",
    "3. Do this for each set of parents/offspring. Using this data set, compute the covariance between the average offspring and average parents and the variance among all average parents.\n",
    "4. The heritability, $h^2$, is the ratio of the covariance between parents and offspring to the variance of the parents, $h^2 = \\sigma_{po}/\\sigma_p^2$.\n",
    "\n",
    "This is a more apt definition than, say, the bivariate correlation $\\rho$, because it is a direct comparison between parents and offspring.\n",
    "\n",
    "Heritability data for beak depth for *G. fortis* and *G. scandens* can be found [here](https://s3.amazonaws.com/bebi103.caltech.edu/data/fortis_beak_depth_heredity.csv) and [here](https://s3.amazonaws.com/bebi103.caltech.edu/data/scandens_beak_depth_heredity.csv), respectively. (Be sure to look at the files before reading them in; they do have different formats.)\n",
    "\n",
    "We will take a parametric approach and model parental and offspring beak depth as a Bivariate Normal distribution. To be clear, we define $\\mathbf{y} = (b_p, b_o)^\\mathsf{T}$ a 2-vector containing the parental and offspring beak depths. Our model is\n",
    "\n",
    "\\begin{align}\n",
    "\\mathbf{y}_i \\sim \\text{Norm}(\\boldsymbol{\\mu}, \\mathsf{\\Sigma})\\;\\;\\;\\forall i,\n",
    "\\end{align}\n",
    "\n",
    "where $\\boldsymbol{\\mu} = (\\mu_p, \\mu_o)^\\mathsf{T}$ is a vector containing the mean parent and offspring beak depth and $\\mathsf{\\Sigma}$ is the covariance matrix,\n",
    "\n",
    "\\begin{align}\n",
    "\\mathsf{\\Sigma} = \\begin{pmatrix}\n",
    "\\sigma_p^2 & \\sigma_{op} \\\\\n",
    "\\sigma_{op} & \\sigma_o^2\n",
    "\\end{pmatrix}.\n",
    "\\end{align}\n",
    "\n",
    "You can read about the Multivariate Normal distribution in the [Distribution Explorer](https://distribution-explorer.github.io/multivariate_continuous/multivariate_normal.html). Note that there are five scalar parameters in this model, $\\mu_p$, $\\mu_o$, $\\sigma_p$, $\\sigma_o$, and $\\sigma_{op}$. In the context of this model, the heritability is defined as $h^2 = \\sigma_{op} / \\sigma_p^2$.\n",
    "\n",
    "**a)** Obtain a parametric maximum likelihood estimate for the heritability with a parametric confidence interval. You should fully justify the choices you made in the approach you took to do this calculation. \n",
    "\n",
    "**b)** Perform a nonparametric or parametric null hypothesis significance test of your choosing."
   ]
  },
  {
   "cell_type": "markdown",
   "metadata": {},
   "source": [
    "<hr />"
   ]
  }
 ],
 "metadata": {
  "kernelspec": {
   "display_name": "Python 3 (ipykernel)",
   "language": "python",
   "name": "python3"
  },
  "language_info": {
   "codemirror_mode": {
    "name": "ipython",
    "version": 3
   },
   "file_extension": ".py",
   "mimetype": "text/x-python",
   "name": "python",
   "nbconvert_exporter": "python",
   "pygments_lexer": "ipython3",
   "version": "3.9.13"
  }
 },
 "nbformat": 4,
 "nbformat_minor": 4
}
