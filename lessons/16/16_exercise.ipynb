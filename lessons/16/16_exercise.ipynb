{
 "cells": [
  {
   "cell_type": "markdown",
   "metadata": {},
   "source": [
    "# Lesson 16 exercises\n",
    "\n",
    "<hr />"
   ]
  },
  {
   "cell_type": "markdown",
   "metadata": {},
   "source": [
    "## Exercise 16.1\n",
    "\n",
    "What is the plug-in principle and how is it used in non-parametric statistics?"
   ]
  },
  {
   "cell_type": "markdown",
   "metadata": {},
   "source": [
    "<br />"
   ]
  },
  {
   "cell_type": "markdown",
   "metadata": {},
   "source": [
    "## Exercise 16.2\n",
    "\n",
    "What is a bootstrap sample and what is a bootstrap replicate?"
   ]
  },
  {
   "cell_type": "markdown",
   "metadata": {},
   "source": [
    "<br />"
   ]
  },
  {
   "cell_type": "markdown",
   "metadata": {},
   "source": [
    "## Exercise 16.3\n",
    "\n",
    "Consider the following data set for waiting times in minutes for nuclear localization events of the gene MSN-2 in yeast (these are real measurements done by Yihan Lin in Michael Elowitz's lab)."
   ]
  },
  {
   "cell_type": "code",
   "execution_count": 1,
   "metadata": {},
   "outputs": [],
   "source": [
    "t = [3, 6, 11, 5, 5, 4, 73, 31, 7, 6, \n",
    "     30, 4, 32, 30, 5, 53, 2, 15, 18, \n",
    "     14, 3, 49, 7, 4, 4, 2, 9, 11, 8, \n",
    "     5, 14, 6, 32, 40, 3, 5, 24]"
   ]
  },
  {
   "cell_type": "markdown",
   "metadata": {},
   "source": [
    "You suspect that MSN-2 localization may be a Poisson process and therefore that these waiting times are Exponentially distributed with a characteristic wait time of 15 minutes. Do a quick graphical analysis to check out this idea. Also compute a point estimate for the mean waiting time and a 95% confidence interval for it."
   ]
  },
  {
   "cell_type": "markdown",
   "metadata": {},
   "source": [
    "<br />"
   ]
  },
  {
   "cell_type": "markdown",
   "metadata": {},
   "source": [
    "## Exercise 16.4\n",
    "\n",
    "Write down any questions or points of confusion that you have."
   ]
  }
 ],
 "metadata": {
  "kernelspec": {
   "display_name": "Python 3",
   "language": "python",
   "name": "python3"
  },
  "language_info": {
   "codemirror_mode": {
    "name": "ipython",
    "version": 3
   },
   "file_extension": ".py",
   "mimetype": "text/x-python",
   "name": "python",
   "nbconvert_exporter": "python",
   "pygments_lexer": "ipython3",
   "version": "3.8.5"
  }
 },
 "nbformat": 4,
 "nbformat_minor": 4
}
