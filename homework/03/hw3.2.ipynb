{
 "cells": [
  {
   "cell_type": "markdown",
   "metadata": {},
   "source": [
    "# Homework 3.2. A marginal distribution (20 pts)\n",
    "\n",
    "<hr />"
   ]
  },
  {
   "attachments": {},
   "cell_type": "markdown",
   "metadata": {},
   "source": [
    "*You may submit this problem as a PDF, either with clearly typed mathematics or with neat handwriting, if you like.*\n",
    "\n",
    "Say we are doing an experiment measuring the sex of the progeny of fruit flies. We randomly select one male fruit fly and one female fruit fly. We then mate them, select $N$ of their progeny, and count the number $n$ of males. We do this experiment many times to get an idea about the distribution describing $n$. \n",
    "\n",
    "**a)** We initially choose a Binomial distribution for $n$. That is,\n",
    "\n",
    "\\begin{align}\n",
    "n \\sim \\text{Binom}(N, \\theta).\n",
    "\\end{align}\n",
    "\n",
    "Here, $\\theta$ is the probability that offspring from flies is male. Explain why this is a reasonable model."
   ]
  },
  {
   "cell_type": "markdown",
   "metadata": {},
   "source": [
    "**b)** Upon analyzing the data using some of the techniques we will learn later in the class, we decide we need to update the model. We suspect that each male-female pair of flies may not have the same propensity for male offspring. Therefore, we decide not to take $\\theta$ as a fixed parameter for all pairs of flies, but rather to model $\\theta$ as coming from its own Beta distribution. Our new model is\n",
    "\n",
    "\\begin{align}\n",
    "&\\theta \\sim \\text{Beta}(\\alpha, \\beta),\\\\[1em]\n",
    "&n \\sim \\text{Binom}(N, \\theta).\n",
    "\\end{align}\n",
    "\n",
    "Write down the joint probability density/mass function, $f(n, \\theta ; N, \\alpha, \\beta)$."
   ]
  },
  {
   "cell_type": "markdown",
   "metadata": {},
   "source": [
    "**c)** Both $n$ and $\\theta$ are random variables (they vary meaningfully from experiment to experiment), but we can only observe $n$. We therefore we want to know the probability mass function for $n$. Show that\n",
    "\n",
    "\\begin{align}\n",
    "f(n ; N,\\alpha, \\beta) = \\binom{N}{n}\\,\\frac{B(N+\\alpha, N-n+\\beta)}{B(\\alpha, \\beta)}.\n",
    "\\end{align}\n",
    "\n",
    "where $B(x, y)$ denotes a [Beta function](https://distribution-explorer.github.io/background/special_functions.html#beta-function)."
   ]
  },
  {
   "cell_type": "markdown",
   "metadata": {},
   "source": [
    "**d)** As you may note in the [Distribution Explorer](https://distribution-explorer.github.io/continuous/beta.html#notes), the Beta distribution may also be parametrized with $\\phi = \\alpha / (\\alpha + \\beta)$ and $\\kappa = \\alpha + \\beta$. Show that in the limit of $\\kappa \\to \\infty$,\n",
    "\n",
    "\\begin{align}\n",
    "f(n ; N, \\phi) = \\binom{N}{n}\\,\\phi^n\\,(1-\\phi)^{N-n},\n",
    "\\end{align}\n",
    "\n",
    "which is again a Binomial PMF. You do not need to explictly take any limits or perform any integrals. You can use stories."
   ]
  }
 ],
 "metadata": {
  "kernelspec": {
   "display_name": "Python 3 (ipykernel)",
   "language": "python",
   "name": "python3"
  },
  "language_info": {
   "codemirror_mode": {
    "name": "ipython",
    "version": 3
   },
   "file_extension": ".py",
   "mimetype": "text/x-python",
   "name": "python",
   "nbconvert_exporter": "python",
   "pygments_lexer": "ipython3",
   "version": "3.12.5"
  }
 },
 "nbformat": 4,
 "nbformat_minor": 4
}
