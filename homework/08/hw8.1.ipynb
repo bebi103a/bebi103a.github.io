{
 "cells": [
  {
   "cell_type": "markdown",
   "metadata": {},
   "source": [
    "# Homework 8.1: Residual bootstrap (25 pts)\n",
    "\n",
    "[Dataset download](https://s3.amazonaws.com/bebi103.caltech.edu/data/good_invitro_droplet_data.csv)\n",
    "\n",
    "<hr>"
   ]
  },
  {
   "cell_type": "markdown",
   "metadata": {},
   "source": [
    "In [Lesson 24](../lessons/24/variate_covariate_implementation.ipynb), we presented implementation of parametric bootstrap confidence intervals for modeling mitotic spindle length as a function of droplet size using the theoretical relation\n",
    "\n",
    "\\begin{align}\n",
    "l(d; \\gamma, \\phi) = \\frac{\\gamma d}{\\left(1 + (\\gamma d/\\phi)^3\\right)^{\\frac{1}{3}}},\n",
    "\\end{align}\n",
    "\n",
    "where we modeled the measured length as being Normally distributed about this theoretical value with homoscedastic variance $\\sigma^2$.\n",
    "\n",
    "Compute confidence intervals for the MLEs of $\\gamma$, $\\phi$, and $\\sigma$ using residual bootstrap. You may reuse and functions from the lessons or previous homeworks if you like.\n",
    "\n",
    "This problem is meant to provide you with good practice implementing bespoke inference procedures and it not meant necessarily to advocate for residual bootstrap. Because we have already computed the MLE in the lesson and make a predictive regression plot in lesson 27, you do not need to make sure plots here. Simply compute and report the confidence intervals using residual bootstrap."
   ]
  }
 ],
 "metadata": {
  "kernelspec": {
   "display_name": "Python 3 (ipykernel)",
   "language": "python",
   "name": "python3"
  },
  "language_info": {
   "codemirror_mode": {
    "name": "ipython",
    "version": 3
   },
   "file_extension": ".py",
   "mimetype": "text/x-python",
   "name": "python",
   "nbconvert_exporter": "python",
   "pygments_lexer": "ipython3",
   "version": "3.9.13"
  }
 },
 "nbformat": 4,
 "nbformat_minor": 4
}
