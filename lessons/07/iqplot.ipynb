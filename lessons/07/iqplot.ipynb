{
 "cells": [
  {
   "cell_type": "markdown",
   "metadata": {},
   "source": [
    "# iqplot\n",
    "\n",
    "[Data set download](https://s3.amazonaws.com/bebi103.caltech.edu/data/gfmt_sleep.csv)\n",
    "\n",
    "<hr />"
   ]
  },
  {
   "cell_type": "code",
   "execution_count": 1,
   "metadata": {
    "nbsphinx": "hidden",
    "tags": []
   },
   "outputs": [],
   "source": [
    "# Colab setup ------------------\n",
    "import os, sys, subprocess\n",
    "if \"google.colab\" in sys.modules:\n",
    "    cmd = \"pip install --upgrade iqplot colorcet watermark\"\n",
    "    process = subprocess.Popen(cmd.split(), stdout=subprocess.PIPE, stderr=subprocess.PIPE)\n",
    "    stdout, stderr = process.communicate()\n",
    "    data_path = \"https://s3.amazonaws.com/bebi103.caltech.edu/data/\"\n",
    "else:\n",
    "    data_path = \"../data/\""
   ]
  },
  {
   "cell_type": "code",
   "execution_count": 2,
   "metadata": {},
   "outputs": [
    {
     "data": {
      "text/html": [
       "\n",
       "    <div class=\"bk-root\">\n",
       "        <a href=\"https://bokeh.org\" target=\"_blank\" class=\"bk-logo bk-logo-small bk-logo-notebook\"></a>\n",
       "        <span id=\"1002\">Loading BokehJS ...</span>\n",
       "    </div>"
      ]
     },
     "metadata": {},
     "output_type": "display_data"
    },
    {
     "data": {
      "application/javascript": [
       "\n",
       "(function(root) {\n",
       "  function now() {\n",
       "    return new Date();\n",
       "  }\n",
       "\n",
       "  var force = true;\n",
       "\n",
       "  if (typeof root._bokeh_onload_callbacks === \"undefined\" || force === true) {\n",
       "    root._bokeh_onload_callbacks = [];\n",
       "    root._bokeh_is_loading = undefined;\n",
       "  }\n",
       "\n",
       "  var JS_MIME_TYPE = 'application/javascript';\n",
       "  var HTML_MIME_TYPE = 'text/html';\n",
       "  var EXEC_MIME_TYPE = 'application/vnd.bokehjs_exec.v0+json';\n",
       "  var CLASS_NAME = 'output_bokeh rendered_html';\n",
       "\n",
       "  /**\n",
       "   * Render data to the DOM node\n",
       "   */\n",
       "  function render(props, node) {\n",
       "    var script = document.createElement(\"script\");\n",
       "    node.appendChild(script);\n",
       "  }\n",
       "\n",
       "  /**\n",
       "   * Handle when an output is cleared or removed\n",
       "   */\n",
       "  function handleClearOutput(event, handle) {\n",
       "    var cell = handle.cell;\n",
       "\n",
       "    var id = cell.output_area._bokeh_element_id;\n",
       "    var server_id = cell.output_area._bokeh_server_id;\n",
       "    // Clean up Bokeh references\n",
       "    if (id != null && id in Bokeh.index) {\n",
       "      Bokeh.index[id].model.document.clear();\n",
       "      delete Bokeh.index[id];\n",
       "    }\n",
       "\n",
       "    if (server_id !== undefined) {\n",
       "      // Clean up Bokeh references\n",
       "      var cmd = \"from bokeh.io.state import curstate; print(curstate().uuid_to_server['\" + server_id + \"'].get_sessions()[0].document.roots[0]._id)\";\n",
       "      cell.notebook.kernel.execute(cmd, {\n",
       "        iopub: {\n",
       "          output: function(msg) {\n",
       "            var id = msg.content.text.trim();\n",
       "            if (id in Bokeh.index) {\n",
       "              Bokeh.index[id].model.document.clear();\n",
       "              delete Bokeh.index[id];\n",
       "            }\n",
       "          }\n",
       "        }\n",
       "      });\n",
       "      // Destroy server and session\n",
       "      var cmd = \"import bokeh.io.notebook as ion; ion.destroy_server('\" + server_id + \"')\";\n",
       "      cell.notebook.kernel.execute(cmd);\n",
       "    }\n",
       "  }\n",
       "\n",
       "  /**\n",
       "   * Handle when a new output is added\n",
       "   */\n",
       "  function handleAddOutput(event, handle) {\n",
       "    var output_area = handle.output_area;\n",
       "    var output = handle.output;\n",
       "\n",
       "    // limit handleAddOutput to display_data with EXEC_MIME_TYPE content only\n",
       "    if ((output.output_type != \"display_data\") || (!Object.prototype.hasOwnProperty.call(output.data, EXEC_MIME_TYPE))) {\n",
       "      return\n",
       "    }\n",
       "\n",
       "    var toinsert = output_area.element.find(\".\" + CLASS_NAME.split(' ')[0]);\n",
       "\n",
       "    if (output.metadata[EXEC_MIME_TYPE][\"id\"] !== undefined) {\n",
       "      toinsert[toinsert.length - 1].firstChild.textContent = output.data[JS_MIME_TYPE];\n",
       "      // store reference to embed id on output_area\n",
       "      output_area._bokeh_element_id = output.metadata[EXEC_MIME_TYPE][\"id\"];\n",
       "    }\n",
       "    if (output.metadata[EXEC_MIME_TYPE][\"server_id\"] !== undefined) {\n",
       "      var bk_div = document.createElement(\"div\");\n",
       "      bk_div.innerHTML = output.data[HTML_MIME_TYPE];\n",
       "      var script_attrs = bk_div.children[0].attributes;\n",
       "      for (var i = 0; i < script_attrs.length; i++) {\n",
       "        toinsert[toinsert.length - 1].firstChild.setAttribute(script_attrs[i].name, script_attrs[i].value);\n",
       "        toinsert[toinsert.length - 1].firstChild.textContent = bk_div.children[0].textContent\n",
       "      }\n",
       "      // store reference to server id on output_area\n",
       "      output_area._bokeh_server_id = output.metadata[EXEC_MIME_TYPE][\"server_id\"];\n",
       "    }\n",
       "  }\n",
       "\n",
       "  function register_renderer(events, OutputArea) {\n",
       "\n",
       "    function append_mime(data, metadata, element) {\n",
       "      // create a DOM node to render to\n",
       "      var toinsert = this.create_output_subarea(\n",
       "        metadata,\n",
       "        CLASS_NAME,\n",
       "        EXEC_MIME_TYPE\n",
       "      );\n",
       "      this.keyboard_manager.register_events(toinsert);\n",
       "      // Render to node\n",
       "      var props = {data: data, metadata: metadata[EXEC_MIME_TYPE]};\n",
       "      render(props, toinsert[toinsert.length - 1]);\n",
       "      element.append(toinsert);\n",
       "      return toinsert\n",
       "    }\n",
       "\n",
       "    /* Handle when an output is cleared or removed */\n",
       "    events.on('clear_output.CodeCell', handleClearOutput);\n",
       "    events.on('delete.Cell', handleClearOutput);\n",
       "\n",
       "    /* Handle when a new output is added */\n",
       "    events.on('output_added.OutputArea', handleAddOutput);\n",
       "\n",
       "    /**\n",
       "     * Register the mime type and append_mime function with output_area\n",
       "     */\n",
       "    OutputArea.prototype.register_mime_type(EXEC_MIME_TYPE, append_mime, {\n",
       "      /* Is output safe? */\n",
       "      safe: true,\n",
       "      /* Index of renderer in `output_area.display_order` */\n",
       "      index: 0\n",
       "    });\n",
       "  }\n",
       "\n",
       "  // register the mime type if in Jupyter Notebook environment and previously unregistered\n",
       "  if (root.Jupyter !== undefined) {\n",
       "    var events = require('base/js/events');\n",
       "    var OutputArea = require('notebook/js/outputarea').OutputArea;\n",
       "\n",
       "    if (OutputArea.prototype.mime_types().indexOf(EXEC_MIME_TYPE) == -1) {\n",
       "      register_renderer(events, OutputArea);\n",
       "    }\n",
       "  }\n",
       "\n",
       "  \n",
       "  if (typeof (root._bokeh_timeout) === \"undefined\" || force === true) {\n",
       "    root._bokeh_timeout = Date.now() + 5000;\n",
       "    root._bokeh_failed_load = false;\n",
       "  }\n",
       "\n",
       "  var NB_LOAD_WARNING = {'data': {'text/html':\n",
       "     \"<div style='background-color: #fdd'>\\n\"+\n",
       "     \"<p>\\n\"+\n",
       "     \"BokehJS does not appear to have successfully loaded. If loading BokehJS from CDN, this \\n\"+\n",
       "     \"may be due to a slow or bad network connection. Possible fixes:\\n\"+\n",
       "     \"</p>\\n\"+\n",
       "     \"<ul>\\n\"+\n",
       "     \"<li>re-rerun `output_notebook()` to attempt to load from CDN again, or</li>\\n\"+\n",
       "     \"<li>use INLINE resources instead, as so:</li>\\n\"+\n",
       "     \"</ul>\\n\"+\n",
       "     \"<code>\\n\"+\n",
       "     \"from bokeh.resources import INLINE\\n\"+\n",
       "     \"output_notebook(resources=INLINE)\\n\"+\n",
       "     \"</code>\\n\"+\n",
       "     \"</div>\"}};\n",
       "\n",
       "  function display_loaded() {\n",
       "    var el = document.getElementById(\"1002\");\n",
       "    if (el != null) {\n",
       "      el.textContent = \"BokehJS is loading...\";\n",
       "    }\n",
       "    if (root.Bokeh !== undefined) {\n",
       "      if (el != null) {\n",
       "        el.textContent = \"BokehJS \" + root.Bokeh.version + \" successfully loaded.\";\n",
       "      }\n",
       "    } else if (Date.now() < root._bokeh_timeout) {\n",
       "      setTimeout(display_loaded, 100)\n",
       "    }\n",
       "  }\n",
       "\n",
       "\n",
       "  function run_callbacks() {\n",
       "    try {\n",
       "      root._bokeh_onload_callbacks.forEach(function(callback) {\n",
       "        if (callback != null)\n",
       "          callback();\n",
       "      });\n",
       "    } finally {\n",
       "      delete root._bokeh_onload_callbacks\n",
       "    }\n",
       "    console.debug(\"Bokeh: all callbacks have finished\");\n",
       "  }\n",
       "\n",
       "  function load_libs(css_urls, js_urls, callback) {\n",
       "    if (css_urls == null) css_urls = [];\n",
       "    if (js_urls == null) js_urls = [];\n",
       "\n",
       "    root._bokeh_onload_callbacks.push(callback);\n",
       "    if (root._bokeh_is_loading > 0) {\n",
       "      console.debug(\"Bokeh: BokehJS is being loaded, scheduling callback at\", now());\n",
       "      return null;\n",
       "    }\n",
       "    if (js_urls == null || js_urls.length === 0) {\n",
       "      run_callbacks();\n",
       "      return null;\n",
       "    }\n",
       "    console.debug(\"Bokeh: BokehJS not loaded, scheduling load and callback at\", now());\n",
       "    root._bokeh_is_loading = css_urls.length + js_urls.length;\n",
       "\n",
       "    function on_load() {\n",
       "      root._bokeh_is_loading--;\n",
       "      if (root._bokeh_is_loading === 0) {\n",
       "        console.debug(\"Bokeh: all BokehJS libraries/stylesheets loaded\");\n",
       "        run_callbacks()\n",
       "      }\n",
       "    }\n",
       "\n",
       "    function on_error(url) {\n",
       "      console.error(\"failed to load \" + url);\n",
       "    }\n",
       "\n",
       "    for (let i = 0; i < css_urls.length; i++) {\n",
       "      const url = css_urls[i];\n",
       "      const element = document.createElement(\"link\");\n",
       "      element.onload = on_load;\n",
       "      element.onerror = on_error.bind(null, url);\n",
       "      element.rel = \"stylesheet\";\n",
       "      element.type = \"text/css\";\n",
       "      element.href = url;\n",
       "      console.debug(\"Bokeh: injecting link tag for BokehJS stylesheet: \", url);\n",
       "      document.body.appendChild(element);\n",
       "    }\n",
       "\n",
       "    const hashes = {\"https://cdn.bokeh.org/bokeh/release/bokeh-2.3.3.min.js\": \"dM3QQsP+wXdHg42wTqW85BjZQdLNNIXqlPw/BgKoExPmTG7ZLML4EGqLMfqHT6ON\", \"https://cdn.bokeh.org/bokeh/release/bokeh-tables-2.3.3.min.js\": \"8x57I4YuIfu8XyZfFo0XVr2WAT8EK4rh/uDe3wF7YuW2FNUSNEpJbsPaB1nJ2fz2\", \"https://cdn.bokeh.org/bokeh/release/bokeh-widgets-2.3.3.min.js\": \"3QTqdz9LyAm2i0sG5XTePsHec3UHWwVsrOL68SYRoAXsafvfAyqtQ+h440+qIBhS\"};\n",
       "\n",
       "    for (let i = 0; i < js_urls.length; i++) {\n",
       "      const url = js_urls[i];\n",
       "      const element = document.createElement('script');\n",
       "      element.onload = on_load;\n",
       "      element.onerror = on_error.bind(null, url);\n",
       "      element.async = false;\n",
       "      element.src = url;\n",
       "      if (url in hashes) {\n",
       "        element.crossOrigin = \"anonymous\";\n",
       "        element.integrity = \"sha384-\" + hashes[url];\n",
       "      }\n",
       "      console.debug(\"Bokeh: injecting script tag for BokehJS library: \", url);\n",
       "      document.head.appendChild(element);\n",
       "    }\n",
       "  };\n",
       "\n",
       "  function inject_raw_css(css) {\n",
       "    const element = document.createElement(\"style\");\n",
       "    element.appendChild(document.createTextNode(css));\n",
       "    document.body.appendChild(element);\n",
       "  }\n",
       "\n",
       "  \n",
       "  var js_urls = [\"https://cdn.bokeh.org/bokeh/release/bokeh-2.3.3.min.js\", \"https://cdn.bokeh.org/bokeh/release/bokeh-widgets-2.3.3.min.js\", \"https://cdn.bokeh.org/bokeh/release/bokeh-tables-2.3.3.min.js\"];\n",
       "  var css_urls = [];\n",
       "  \n",
       "\n",
       "  var inline_js = [\n",
       "    function(Bokeh) {\n",
       "      Bokeh.set_log_level(\"info\");\n",
       "    },\n",
       "    function(Bokeh) {\n",
       "    \n",
       "    \n",
       "    }\n",
       "  ];\n",
       "\n",
       "  function run_inline_js() {\n",
       "    \n",
       "    if (root.Bokeh !== undefined || force === true) {\n",
       "      \n",
       "    for (var i = 0; i < inline_js.length; i++) {\n",
       "      inline_js[i].call(root, root.Bokeh);\n",
       "    }\n",
       "    if (force === true) {\n",
       "        display_loaded();\n",
       "      }} else if (Date.now() < root._bokeh_timeout) {\n",
       "      setTimeout(run_inline_js, 100);\n",
       "    } else if (!root._bokeh_failed_load) {\n",
       "      console.log(\"Bokeh: BokehJS failed to load within specified timeout.\");\n",
       "      root._bokeh_failed_load = true;\n",
       "    } else if (force !== true) {\n",
       "      var cell = $(document.getElementById(\"1002\")).parents('.cell').data().cell;\n",
       "      cell.output_area.append_execute_result(NB_LOAD_WARNING)\n",
       "    }\n",
       "\n",
       "  }\n",
       "\n",
       "  if (root._bokeh_is_loading === 0) {\n",
       "    console.debug(\"Bokeh: BokehJS loaded, going straight to plotting\");\n",
       "    run_inline_js();\n",
       "  } else {\n",
       "    load_libs(css_urls, js_urls, function() {\n",
       "      console.debug(\"Bokeh: BokehJS plotting callback run at\", now());\n",
       "      run_inline_js();\n",
       "    });\n",
       "  }\n",
       "}(window));"
      ],
      "application/vnd.bokehjs_load.v0+json": "\n(function(root) {\n  function now() {\n    return new Date();\n  }\n\n  var force = true;\n\n  if (typeof root._bokeh_onload_callbacks === \"undefined\" || force === true) {\n    root._bokeh_onload_callbacks = [];\n    root._bokeh_is_loading = undefined;\n  }\n\n  \n\n  \n  if (typeof (root._bokeh_timeout) === \"undefined\" || force === true) {\n    root._bokeh_timeout = Date.now() + 5000;\n    root._bokeh_failed_load = false;\n  }\n\n  var NB_LOAD_WARNING = {'data': {'text/html':\n     \"<div style='background-color: #fdd'>\\n\"+\n     \"<p>\\n\"+\n     \"BokehJS does not appear to have successfully loaded. If loading BokehJS from CDN, this \\n\"+\n     \"may be due to a slow or bad network connection. Possible fixes:\\n\"+\n     \"</p>\\n\"+\n     \"<ul>\\n\"+\n     \"<li>re-rerun `output_notebook()` to attempt to load from CDN again, or</li>\\n\"+\n     \"<li>use INLINE resources instead, as so:</li>\\n\"+\n     \"</ul>\\n\"+\n     \"<code>\\n\"+\n     \"from bokeh.resources import INLINE\\n\"+\n     \"output_notebook(resources=INLINE)\\n\"+\n     \"</code>\\n\"+\n     \"</div>\"}};\n\n  function display_loaded() {\n    var el = document.getElementById(\"1002\");\n    if (el != null) {\n      el.textContent = \"BokehJS is loading...\";\n    }\n    if (root.Bokeh !== undefined) {\n      if (el != null) {\n        el.textContent = \"BokehJS \" + root.Bokeh.version + \" successfully loaded.\";\n      }\n    } else if (Date.now() < root._bokeh_timeout) {\n      setTimeout(display_loaded, 100)\n    }\n  }\n\n\n  function run_callbacks() {\n    try {\n      root._bokeh_onload_callbacks.forEach(function(callback) {\n        if (callback != null)\n          callback();\n      });\n    } finally {\n      delete root._bokeh_onload_callbacks\n    }\n    console.debug(\"Bokeh: all callbacks have finished\");\n  }\n\n  function load_libs(css_urls, js_urls, callback) {\n    if (css_urls == null) css_urls = [];\n    if (js_urls == null) js_urls = [];\n\n    root._bokeh_onload_callbacks.push(callback);\n    if (root._bokeh_is_loading > 0) {\n      console.debug(\"Bokeh: BokehJS is being loaded, scheduling callback at\", now());\n      return null;\n    }\n    if (js_urls == null || js_urls.length === 0) {\n      run_callbacks();\n      return null;\n    }\n    console.debug(\"Bokeh: BokehJS not loaded, scheduling load and callback at\", now());\n    root._bokeh_is_loading = css_urls.length + js_urls.length;\n\n    function on_load() {\n      root._bokeh_is_loading--;\n      if (root._bokeh_is_loading === 0) {\n        console.debug(\"Bokeh: all BokehJS libraries/stylesheets loaded\");\n        run_callbacks()\n      }\n    }\n\n    function on_error(url) {\n      console.error(\"failed to load \" + url);\n    }\n\n    for (let i = 0; i < css_urls.length; i++) {\n      const url = css_urls[i];\n      const element = document.createElement(\"link\");\n      element.onload = on_load;\n      element.onerror = on_error.bind(null, url);\n      element.rel = \"stylesheet\";\n      element.type = \"text/css\";\n      element.href = url;\n      console.debug(\"Bokeh: injecting link tag for BokehJS stylesheet: \", url);\n      document.body.appendChild(element);\n    }\n\n    const hashes = {\"https://cdn.bokeh.org/bokeh/release/bokeh-2.3.3.min.js\": \"dM3QQsP+wXdHg42wTqW85BjZQdLNNIXqlPw/BgKoExPmTG7ZLML4EGqLMfqHT6ON\", \"https://cdn.bokeh.org/bokeh/release/bokeh-tables-2.3.3.min.js\": \"8x57I4YuIfu8XyZfFo0XVr2WAT8EK4rh/uDe3wF7YuW2FNUSNEpJbsPaB1nJ2fz2\", \"https://cdn.bokeh.org/bokeh/release/bokeh-widgets-2.3.3.min.js\": \"3QTqdz9LyAm2i0sG5XTePsHec3UHWwVsrOL68SYRoAXsafvfAyqtQ+h440+qIBhS\"};\n\n    for (let i = 0; i < js_urls.length; i++) {\n      const url = js_urls[i];\n      const element = document.createElement('script');\n      element.onload = on_load;\n      element.onerror = on_error.bind(null, url);\n      element.async = false;\n      element.src = url;\n      if (url in hashes) {\n        element.crossOrigin = \"anonymous\";\n        element.integrity = \"sha384-\" + hashes[url];\n      }\n      console.debug(\"Bokeh: injecting script tag for BokehJS library: \", url);\n      document.head.appendChild(element);\n    }\n  };\n\n  function inject_raw_css(css) {\n    const element = document.createElement(\"style\");\n    element.appendChild(document.createTextNode(css));\n    document.body.appendChild(element);\n  }\n\n  \n  var js_urls = [\"https://cdn.bokeh.org/bokeh/release/bokeh-2.3.3.min.js\", \"https://cdn.bokeh.org/bokeh/release/bokeh-widgets-2.3.3.min.js\", \"https://cdn.bokeh.org/bokeh/release/bokeh-tables-2.3.3.min.js\"];\n  var css_urls = [];\n  \n\n  var inline_js = [\n    function(Bokeh) {\n      Bokeh.set_log_level(\"info\");\n    },\n    function(Bokeh) {\n    \n    \n    }\n  ];\n\n  function run_inline_js() {\n    \n    if (root.Bokeh !== undefined || force === true) {\n      \n    for (var i = 0; i < inline_js.length; i++) {\n      inline_js[i].call(root, root.Bokeh);\n    }\n    if (force === true) {\n        display_loaded();\n      }} else if (Date.now() < root._bokeh_timeout) {\n      setTimeout(run_inline_js, 100);\n    } else if (!root._bokeh_failed_load) {\n      console.log(\"Bokeh: BokehJS failed to load within specified timeout.\");\n      root._bokeh_failed_load = true;\n    } else if (force !== true) {\n      var cell = $(document.getElementById(\"1002\")).parents('.cell').data().cell;\n      cell.output_area.append_execute_result(NB_LOAD_WARNING)\n    }\n\n  }\n\n  if (root._bokeh_is_loading === 0) {\n    console.debug(\"Bokeh: BokehJS loaded, going straight to plotting\");\n    run_inline_js();\n  } else {\n    load_libs(css_urls, js_urls, function() {\n      console.debug(\"Bokeh: BokehJS plotting callback run at\", now());\n      run_inline_js();\n    });\n  }\n}(window));"
     },
     "metadata": {},
     "output_type": "display_data"
    }
   ],
   "source": [
    "import pandas as pd\n",
    "\n",
    "import iqplot\n",
    "\n",
    "import bokeh.io\n",
    "bokeh.io.output_notebook()"
   ]
  },
  {
   "cell_type": "markdown",
   "metadata": {},
   "source": [
    "<hr>\n",
    "\n",
    "Holoviews is and excellent for this purpose high-level package, but as we have mentioned before, it lacks two key functionalities.\n",
    "\n",
    "1. It does not natively conveniently make ECDFs, but [it will soon](https://github.com/pyviz/holoviews/issues/3821).\n",
    "2. It does not allow for nested categorical axes for plots other than box plots, bar graphs, and violin plots, but [it will soon](http://holoviews.org/user_guide/Customizing_Plots.html#Categorical-axes).\n",
    "\n",
    "To address these and other needs, I developed [iqplot](https://iqplot.github.io/), which generates Bokeh plots for data sets where one variable is quantitative and all other variables of interest, if any, are categorical. This is where the name comes from; the first two letters of the package name are meant to indicate one (Roman number I) quantitative (Q) variable. The subclass of data sets that contain a single quantitative variable (and possibly several categorical variables) abound in the biological sciences.\n",
    "\n",
    "There are five types of plots that iqplot can generate. As you will see, all four of these modes of plotting are meant to give a picture about how the quantitative measurements are *distributed*.\n",
    "\n",
    "- **Plots with a categorical axis**\n",
    "    + Box plots: `iqplot.box()`\n",
    "    + Strip plots: `iqplot.strip()`\n",
    "    + Strip-box plots (strip and box plots overlaid): `iqplot.stripbox()`\n",
    " \n",
    "    \n",
    "- **Plots without a categorical axis**\n",
    "    + Histograms: `iqplot.histogram()`\n",
    "    + [ECDFs](https://en.wikipedia.org/wiki/Empirical_distribution_function): `iqplot.ecdf()`\n",
    "    \n",
    "\n",
    "This first seven arguments are the same for all plots. They are:\n",
    "\n",
    "- `data`: A tidy data frame\n",
    "- `q`: The column of the data frame to be treated as the quantitative variable.\n",
    "- `cats`: A list of columns in the data frame that are to be considered as categorical variables in the plot. If `None`, a single box, strip, histogram, or ECDF is plotted.\n",
    "- `q_axis`: Along which axis, x or y that the quantitative variable varies. The default is `'x'`.\n",
    "- `palette`: A list of hex colors to use for coloring the markers for each category. By default, it uses the Glasbey Category 10 color palette from [colorcet](https://colorcet.holoviz.org/).\n",
    "- `order`: If specified, the ordering of the categories to use on the categorical axis and legend (if applicable). Otherwise, the order of the inputted data frame is used.\n",
    "- `p`: If specified, the `bokeh.plotting.Figure` object to use for the plot. If not specified, a new figure is created.\n",
    "\n",
    "If `data` is given as a Numpy array, it is the only required argument. `If` data is given as a Pandas DataFrame, `q` must also be supplied. All other arguments are optional and have reasonably set defaults. Any extra kwargs not in the function call signature are passed to `bokeh.plotting.figure()` when the figure is instantiated.\n",
    "\n",
    "With this in mind, we will put iqplot to use on facial identification data set to demonstrate how we can make each of the five kinds of plots."
   ]
  },
  {
   "cell_type": "code",
   "execution_count": 3,
   "metadata": {},
   "outputs": [],
   "source": [
    "fname = os.path.join(data_path, \"gfmt_sleep.csv\")\n",
    "df = pd.read_csv(fname, na_values=\"*\")\n",
    "df[\"insomnia\"] = df[\"sci\"] <= 16\n",
    "df[\"sleeper\"] = df[\"insomnia\"].apply(lambda x: \"insomniac\" if x else \"normal\")\n",
    "df[\"gender\"] = df[\"gender\"].apply(lambda x: \"female\" if x == \"f\" else \"male\")"
   ]
  },
  {
   "cell_type": "markdown",
   "metadata": {},
   "source": [
    "## All five plots\n",
    "\n",
    "We now make plots of the percent correct for male and female insomniacs and normal sleepers so you can see how the syntax works."
   ]
  },
  {
   "cell_type": "markdown",
   "metadata": {},
   "source": [
    "### Box plot"
   ]
  },
  {
   "cell_type": "code",
   "execution_count": 4,
   "metadata": {},
   "outputs": [
    {
     "data": {
      "text/html": [
       "\n",
       "\n",
       "\n",
       "\n",
       "\n",
       "\n",
       "  <div class=\"bk-root\" id=\"f783e110-903c-444b-9793-fb40924ca91a\" data-root-id=\"1004\"></div>\n"
      ]
     },
     "metadata": {},
     "output_type": "display_data"
    },
    {
     "data": {
      "application/javascript": [
       "(function(root) {\n",
       "  function embed_document(root) {\n",
       "    \n",
       "  var docs_json = {\"847bd977-535f-4823-9168-5faa02653911\":{\"defs\":[],\"roots\":{\"references\":[{\"attributes\":{\"below\":[{\"id\":\"1012\"}],\"center\":[{\"id\":\"1015\"},{\"id\":\"1018\"}],\"frame_height\":275,\"frame_width\":375,\"left\":[{\"id\":\"1016\"}],\"renderers\":[{\"id\":\"1041\"},{\"id\":\"1046\"},{\"id\":\"1051\"},{\"id\":\"1056\"},{\"id\":\"1061\"}],\"title\":{\"id\":\"1063\"},\"toolbar\":{\"id\":\"1026\"},\"toolbar_location\":\"above\",\"x_range\":{\"id\":\"1005\"},\"x_scale\":{\"id\":\"1008\"},\"y_range\":{\"id\":\"1003\"},\"y_scale\":{\"id\":\"1010\"}},\"id\":\"1004\",\"subtype\":\"Figure\",\"type\":\"Plot\"},{\"attributes\":{\"data_source\":{\"id\":\"1034\"},\"glyph\":{\"id\":\"1059\"},\"hover_glyph\":null,\"muted_glyph\":null,\"nonselection_glyph\":{\"id\":\"1060\"},\"view\":{\"id\":\"1062\"}},\"id\":\"1061\",\"type\":\"GlyphRenderer\"},{\"attributes\":{\"source\":{\"id\":\"1033\"}},\"id\":\"1052\",\"type\":\"CDSView\"},{\"attributes\":{\"bottom_units\":\"screen\",\"fill_alpha\":0.5,\"fill_color\":\"lightgrey\",\"left_units\":\"screen\",\"level\":\"overlay\",\"line_alpha\":1.0,\"line_color\":\"black\",\"line_dash\":[4,4],\"line_width\":2,\"right_units\":\"screen\",\"syncable\":false,\"top_units\":\"screen\"},\"id\":\"1025\",\"type\":\"BoxAnnotation\"},{\"attributes\":{},\"id\":\"1019\",\"type\":\"PanTool\"},{\"attributes\":{\"overlay\":{\"id\":\"1025\"}},\"id\":\"1021\",\"type\":\"BoxZoomTool\"},{\"attributes\":{\"fill_alpha\":{\"value\":0.1},\"fill_color\":{\"field\":\"cat\",\"transform\":{\"id\":\"1035\"}},\"line_alpha\":{\"value\":0.1},\"line_color\":{\"field\":\"cat\",\"transform\":{\"id\":\"1036\"}},\"x\":{\"field\":\"percent correct\"},\"y\":{\"field\":\"cat\"}},\"id\":\"1060\",\"type\":\"Circle\"},{\"attributes\":{},\"id\":\"1072\",\"type\":\"Selection\"},{\"attributes\":{\"fill_alpha\":{\"value\":0.1},\"fill_color\":{\"value\":\"#1f77b4\"},\"height\":{\"value\":0.4},\"left\":{\"field\":\"middle\"},\"line_alpha\":{\"value\":0.1},\"line_color\":{\"value\":\"white\"},\"right\":{\"field\":\"middle\"},\"y\":{\"field\":\"cat\"}},\"id\":\"1055\",\"type\":\"HBar\"},{\"attributes\":{},\"id\":\"1068\",\"type\":\"AllLabels\"},{\"attributes\":{},\"id\":\"1063\",\"type\":\"Title\"},{\"attributes\":{},\"id\":\"1075\",\"type\":\"UnionRenderers\"},{\"attributes\":{\"x0\":{\"field\":\"bottom\"},\"x1\":{\"field\":\"bottom_whisker\"},\"y0\":{\"field\":\"cat\"},\"y1\":{\"field\":\"cat\"}},\"id\":\"1044\",\"type\":\"Segment\"},{\"attributes\":{},\"id\":\"1074\",\"type\":\"Selection\"},{\"attributes\":{},\"id\":\"1065\",\"type\":\"AllLabels\"},{\"attributes\":{\"fill_color\":{\"field\":\"cat\",\"transform\":{\"id\":\"1035\"}},\"line_color\":{\"field\":\"cat\",\"transform\":{\"id\":\"1036\"}},\"x\":{\"field\":\"percent correct\"},\"y\":{\"field\":\"cat\"}},\"id\":\"1059\",\"type\":\"Circle\"},{\"attributes\":{\"active_multi\":null,\"tools\":[{\"id\":\"1019\"},{\"id\":\"1020\"},{\"id\":\"1021\"},{\"id\":\"1022\"},{\"id\":\"1023\"},{\"id\":\"1024\"}]},\"id\":\"1026\",\"type\":\"Toolbar\"},{\"attributes\":{\"data_source\":{\"id\":\"1033\"},\"glyph\":{\"id\":\"1054\"},\"hover_glyph\":null,\"muted_glyph\":null,\"nonselection_glyph\":{\"id\":\"1055\"},\"view\":{\"id\":\"1057\"}},\"id\":\"1056\",\"type\":\"GlyphRenderer\"},{\"attributes\":{\"axis\":{\"id\":\"1012\"},\"ticker\":null},\"id\":\"1015\",\"type\":\"Grid\"},{\"attributes\":{\"formatter\":{\"id\":\"1067\"},\"major_label_policy\":{\"id\":\"1065\"},\"ticker\":{\"id\":\"1017\"}},\"id\":\"1016\",\"type\":\"CategoricalAxis\"},{\"attributes\":{},\"id\":\"1023\",\"type\":\"ResetTool\"},{\"attributes\":{\"data_source\":{\"id\":\"1033\"},\"glyph\":{\"id\":\"1049\"},\"hover_glyph\":null,\"muted_glyph\":null,\"nonselection_glyph\":{\"id\":\"1050\"},\"view\":{\"id\":\"1052\"}},\"id\":\"1051\",\"type\":\"GlyphRenderer\"},{\"attributes\":{},\"id\":\"1024\",\"type\":\"HelpTool\"},{\"attributes\":{},\"id\":\"1070\",\"type\":\"BasicTickFormatter\"},{\"attributes\":{\"axis\":{\"id\":\"1016\"},\"dimension\":1,\"grid_line_color\":null,\"ticker\":null},\"id\":\"1018\",\"type\":\"Grid\"},{\"attributes\":{},\"id\":\"1013\",\"type\":\"BasicTicker\"},{\"attributes\":{\"factors\":[[\"male\",\"normal\"],[\"male\",\"insomniac\"],[\"female\",\"normal\"],[\"female\",\"insomniac\"]]},\"id\":\"1003\",\"type\":\"FactorRange\"},{\"attributes\":{},\"id\":\"1005\",\"type\":\"DataRange1d\"},{\"attributes\":{},\"id\":\"1017\",\"type\":\"CategoricalTicker\"},{\"attributes\":{},\"id\":\"1067\",\"type\":\"CategoricalTickFormatter\"},{\"attributes\":{},\"id\":\"1073\",\"type\":\"UnionRenderers\"},{\"attributes\":{},\"id\":\"1008\",\"type\":\"LinearScale\"},{\"attributes\":{\"source\":{\"id\":\"1033\"}},\"id\":\"1042\",\"type\":\"CDSView\"},{\"attributes\":{\"source\":{\"id\":\"1033\"}},\"id\":\"1057\",\"type\":\"CDSView\"},{\"attributes\":{\"line_alpha\":{\"value\":0.1},\"x0\":{\"field\":\"top\"},\"x1\":{\"field\":\"top_whisker\"},\"y0\":{\"field\":\"cat\"},\"y1\":{\"field\":\"cat\"}},\"id\":\"1040\",\"type\":\"Segment\"},{\"attributes\":{\"factors\":[[\"female\",\"insomniac\"],[\"female\",\"normal\"],[\"male\",\"insomniac\"],[\"male\",\"normal\"]],\"palette\":[\"#1f77b3\",\"#ff7e0e\",\"#2ba02b\",\"#d62628\",\"#9367bc\",\"#8c564b\",\"#e277c1\",\"#7e7e7e\",\"#bcbc21\",\"#16bdcf\",\"#3a0182\",\"#004201\",\"#0fffa8\",\"#5d003f\",\"#bcbcff\",\"#d8afa1\",\"#b80080\",\"#004d52\",\"#6b6400\",\"#7c0100\",\"#6026ff\",\"#ffff9a\",\"#564964\",\"#8cb893\",\"#93fbff\",\"#018267\",\"#90ff00\",\"#8200a0\",\"#ac8944\",\"#5b3400\",\"#ffbff2\",\"#ff6e75\",\"#798cff\",\"#dd00ff\",\"#505646\",\"#004489\",\"#ffbf60\",\"#ff018c\",\"#bdc8cf\",\"#af97b5\",\"#b65600\",\"#017000\",\"#cd87ff\",\"#1cd646\",\"#bfebc3\",\"#7997b5\",\"#a56089\",\"#6e8956\",\"#bc7c75\",\"#8a2844\",\"#00acff\",\"#8ed4ff\",\"#4b6d77\",\"#00d4b1\",\"#9300f2\",\"#8a9500\",\"#5d5b9e\",\"#fddfba\",\"#00939e\",\"#ffdb00\",\"#00aa79\",\"#520067\",\"#000091\",\"#0a5d3d\",\"#a5e275\",\"#623b41\",\"#c6c689\",\"#ff9eb5\",\"#cd4f6b\",\"#ff07d6\",\"#8a3a05\",\"#7e3d70\",\"#ff4901\",\"#602ba5\",\"#1c00ff\",\"#e6dfff\",\"#aa3baf\",\"#d89c00\",\"#a3a39e\",\"#3f69ff\",\"#46490c\",\"#7b6985\",\"#6b978c\",\"#ff9a75\",\"#835bff\",\"#7c6b46\",\"#80b654\",\"#bc0049\",\"#fd93ff\",\"#5d0018\",\"#89d1d1\",\"#9c8cd3\",\"#da6d42\",\"#8a5700\",\"#3b5069\",\"#4b6b3b\",\"#edcfd8\",\"#cfedff\",\"#aa1500\",\"#dfff4f\",\"#ff2a56\",\"#d1499e\",\"#707cb8\",\"#598000\",\"#00e4fd\",\"#774b95\",\"#67d48c\",\"#3d3a72\",\"#ac413f\",\"#d6a166\",\"#c169cd\",\"#69595d\",\"#87aced\",\"#a0a569\",\"#d1aae6\",\"#870062\",\"#00fddb\",\"#672818\",\"#b342ff\",\"#0e59c4\",\"#168742\",\"#90d300\",\"#cd7900\",\"#f959ff\",\"#5b7466\",\"#8eaeb3\",\"#9c7c8c\",\"#4600c6\",\"#6b4d2d\",\"#a56d46\",\"#9e8972\",\"#a8afca\",\"#cd8ca7\",\"#00fd64\",\"#917900\",\"#ff62a1\",\"#f4ffd8\",\"#018cf0\",\"#13aca0\",\"#5b2d59\",\"#89859e\",\"#cfccba\",\"#d4afc4\",\"#dbdd6d\",\"#cffff4\",\"#006485\",\"#006962\",\"#a84167\",\"#2d97c4\",\"#a874ff\",\"#26ba5d\",\"#57b600\",\"#caffa7\",\"#a379aa\",\"#ffbc93\",\"#89e2c1\",\"#0fc8ff\",\"#d400c4\",\"#626d89\",\"#69858e\",\"#4b4d52\",\"#aa6067\",\"#79b5d4\",\"#2b5916\",\"#9a0024\",\"#bdd1f2\",\"#896e67\",\"#69a56b\",\"#855467\",\"#aecdba\",\"#87997e\",\"#cadb00\",\"#9a0390\",\"#ebbc1a\",\"#eb9cd1\",\"#70006e\",\"#b1a131\",\"#ca6b93\",\"#4146a3\",\"#e48c89\",\"#d44400\",\"#c68aca\",\"#b69597\",\"#d41f75\",\"#724bcc\",\"#674d00\",\"#672138\",\"#38564f\",\"#6ebaaa\",\"#853a31\",\"#a5d397\",\"#b8af8e\",\"#d8e4df\",\"#aa00df\",\"#cac1db\",\"#ffdf8c\",\"#e2524d\",\"#66696e\",\"#ff001c\",\"#522d72\",\"#4d906b\",\"#a86d11\",\"#ff9e26\",\"#5ea3af\",\"#c88556\",\"#915997\",\"#a3a1ff\",\"#fdbaba\",\"#242a87\",\"#dbe6a8\",\"#97f2a7\",\"#6793d6\",\"#ba5b3f\",\"#3a5d91\",\"#364f2f\",\"#267c95\",\"#89959a\",\"#cfb356\",\"#004664\",\"#5e5d2f\",\"#8e8e41\",\"#ac3f13\",\"#69953b\",\"#a13d85\",\"#bfb6ba\",\"#acc667\",\"#6469cf\",\"#91af00\",\"#2be2da\",\"#016e36\",\"#ff7952\",\"#42807e\",\"#4fe800\",\"#995428\",\"#5d0a00\",\"#a30057\",\"#0c8700\",\"#5982a7\",\"#ffebfb\",\"#4b6901\",\"#8775d4\",\"#e6c6ff\",\"#a5ffda\",\"#d86e77\",\"#df014b\",\"#69675b\",\"#776ba1\",\"#7e8067\",\"#594685\",\"#0000ca\",\"#7c002a\",\"#97ff72\",\"#b5e2e1\",\"#db52c8\",\"#777734\",\"#57bd8e\"]},\"id\":\"1037\",\"type\":\"CategoricalColorMapper\"},{\"attributes\":{},\"id\":\"1020\",\"type\":\"WheelZoomTool\"},{\"attributes\":{\"line_alpha\":{\"value\":0.1},\"x0\":{\"field\":\"bottom\"},\"x1\":{\"field\":\"bottom_whisker\"},\"y0\":{\"field\":\"cat\"},\"y1\":{\"field\":\"cat\"}},\"id\":\"1045\",\"type\":\"Segment\"},{\"attributes\":{\"data_source\":{\"id\":\"1033\"},\"glyph\":{\"id\":\"1039\"},\"hover_glyph\":null,\"muted_glyph\":null,\"nonselection_glyph\":{\"id\":\"1040\"},\"view\":{\"id\":\"1042\"}},\"id\":\"1041\",\"type\":\"GlyphRenderer\"},{\"attributes\":{\"fill_color\":{\"value\":\"#1f77b4\"},\"height\":{\"value\":0.4},\"left\":{\"field\":\"middle\"},\"line_color\":{\"value\":\"white\"},\"right\":{\"field\":\"middle\"},\"y\":{\"field\":\"cat\"}},\"id\":\"1054\",\"type\":\"HBar\"},{\"attributes\":{\"data\":{\"__label\":[\"female, insomniac\",\"female, normal\",\"male, insomniac\",\"male, normal\"],\"bottom\":[67.5,75.0,76.875,77.5],\"bottom_whisker\":[45.0,55.0,67.5,67.5],\"cat\":[[\"female\",\"insomniac\"],[\"female\",\"normal\"],[\"male\",\"insomniac\"],[\"male\",\"normal\"]],\"middle\":[72.5,85.0,83.75,82.5],\"top\":[83.75,88.75,88.75,89.375],\"top_whisker\":[95.0,100.0,97.5,95.0]},\"selected\":{\"id\":\"1072\"},\"selection_policy\":{\"id\":\"1073\"}},\"id\":\"1033\",\"type\":\"ColumnDataSource\"},{\"attributes\":{\"source\":{\"id\":\"1033\"}},\"id\":\"1047\",\"type\":\"CDSView\"},{\"attributes\":{\"fill_alpha\":{\"value\":0.1},\"fill_color\":{\"field\":\"cat\",\"transform\":{\"id\":\"1037\"}},\"height\":{\"value\":0.4},\"left\":{\"field\":\"bottom\"},\"line_alpha\":{\"value\":0.1},\"line_color\":{\"value\":null},\"right\":{\"field\":\"top\"},\"y\":{\"field\":\"cat\"}},\"id\":\"1050\",\"type\":\"HBar\"},{\"attributes\":{\"data\":{\"__label\":[\"male, normal\",\"male, normal\"],\"cat\":[[\"male\",\"normal\"],[\"male\",\"normal\"]],\"gender\":[\"male\",\"male\"],\"percent correct\":[57.5,40.0],\"sleeper\":[\"normal\",\"normal\"]},\"selected\":{\"id\":\"1074\"},\"selection_policy\":{\"id\":\"1075\"}},\"id\":\"1034\",\"type\":\"ColumnDataSource\"},{\"attributes\":{\"fill_color\":{\"field\":\"cat\",\"transform\":{\"id\":\"1037\"}},\"height\":{\"value\":0.4},\"left\":{\"field\":\"bottom\"},\"line_color\":{\"value\":null},\"right\":{\"field\":\"top\"},\"y\":{\"field\":\"cat\"}},\"id\":\"1049\",\"type\":\"HBar\"},{\"attributes\":{\"factors\":[[\"female\",\"insomniac\"],[\"female\",\"normal\"],[\"male\",\"insomniac\"],[\"male\",\"normal\"]],\"palette\":[\"#1f77b3\",\"#ff7e0e\",\"#2ba02b\",\"#d62628\",\"#9367bc\",\"#8c564b\",\"#e277c1\",\"#7e7e7e\",\"#bcbc21\",\"#16bdcf\",\"#3a0182\",\"#004201\",\"#0fffa8\",\"#5d003f\",\"#bcbcff\",\"#d8afa1\",\"#b80080\",\"#004d52\",\"#6b6400\",\"#7c0100\",\"#6026ff\",\"#ffff9a\",\"#564964\",\"#8cb893\",\"#93fbff\",\"#018267\",\"#90ff00\",\"#8200a0\",\"#ac8944\",\"#5b3400\",\"#ffbff2\",\"#ff6e75\",\"#798cff\",\"#dd00ff\",\"#505646\",\"#004489\",\"#ffbf60\",\"#ff018c\",\"#bdc8cf\",\"#af97b5\",\"#b65600\",\"#017000\",\"#cd87ff\",\"#1cd646\",\"#bfebc3\",\"#7997b5\",\"#a56089\",\"#6e8956\",\"#bc7c75\",\"#8a2844\",\"#00acff\",\"#8ed4ff\",\"#4b6d77\",\"#00d4b1\",\"#9300f2\",\"#8a9500\",\"#5d5b9e\",\"#fddfba\",\"#00939e\",\"#ffdb00\",\"#00aa79\",\"#520067\",\"#000091\",\"#0a5d3d\",\"#a5e275\",\"#623b41\",\"#c6c689\",\"#ff9eb5\",\"#cd4f6b\",\"#ff07d6\",\"#8a3a05\",\"#7e3d70\",\"#ff4901\",\"#602ba5\",\"#1c00ff\",\"#e6dfff\",\"#aa3baf\",\"#d89c00\",\"#a3a39e\",\"#3f69ff\",\"#46490c\",\"#7b6985\",\"#6b978c\",\"#ff9a75\",\"#835bff\",\"#7c6b46\",\"#80b654\",\"#bc0049\",\"#fd93ff\",\"#5d0018\",\"#89d1d1\",\"#9c8cd3\",\"#da6d42\",\"#8a5700\",\"#3b5069\",\"#4b6b3b\",\"#edcfd8\",\"#cfedff\",\"#aa1500\",\"#dfff4f\",\"#ff2a56\",\"#d1499e\",\"#707cb8\",\"#598000\",\"#00e4fd\",\"#774b95\",\"#67d48c\",\"#3d3a72\",\"#ac413f\",\"#d6a166\",\"#c169cd\",\"#69595d\",\"#87aced\",\"#a0a569\",\"#d1aae6\",\"#870062\",\"#00fddb\",\"#672818\",\"#b342ff\",\"#0e59c4\",\"#168742\",\"#90d300\",\"#cd7900\",\"#f959ff\",\"#5b7466\",\"#8eaeb3\",\"#9c7c8c\",\"#4600c6\",\"#6b4d2d\",\"#a56d46\",\"#9e8972\",\"#a8afca\",\"#cd8ca7\",\"#00fd64\",\"#917900\",\"#ff62a1\",\"#f4ffd8\",\"#018cf0\",\"#13aca0\",\"#5b2d59\",\"#89859e\",\"#cfccba\",\"#d4afc4\",\"#dbdd6d\",\"#cffff4\",\"#006485\",\"#006962\",\"#a84167\",\"#2d97c4\",\"#a874ff\",\"#26ba5d\",\"#57b600\",\"#caffa7\",\"#a379aa\",\"#ffbc93\",\"#89e2c1\",\"#0fc8ff\",\"#d400c4\",\"#626d89\",\"#69858e\",\"#4b4d52\",\"#aa6067\",\"#79b5d4\",\"#2b5916\",\"#9a0024\",\"#bdd1f2\",\"#896e67\",\"#69a56b\",\"#855467\",\"#aecdba\",\"#87997e\",\"#cadb00\",\"#9a0390\",\"#ebbc1a\",\"#eb9cd1\",\"#70006e\",\"#b1a131\",\"#ca6b93\",\"#4146a3\",\"#e48c89\",\"#d44400\",\"#c68aca\",\"#b69597\",\"#d41f75\",\"#724bcc\",\"#674d00\",\"#672138\",\"#38564f\",\"#6ebaaa\",\"#853a31\",\"#a5d397\",\"#b8af8e\",\"#d8e4df\",\"#aa00df\",\"#cac1db\",\"#ffdf8c\",\"#e2524d\",\"#66696e\",\"#ff001c\",\"#522d72\",\"#4d906b\",\"#a86d11\",\"#ff9e26\",\"#5ea3af\",\"#c88556\",\"#915997\",\"#a3a1ff\",\"#fdbaba\",\"#242a87\",\"#dbe6a8\",\"#97f2a7\",\"#6793d6\",\"#ba5b3f\",\"#3a5d91\",\"#364f2f\",\"#267c95\",\"#89959a\",\"#cfb356\",\"#004664\",\"#5e5d2f\",\"#8e8e41\",\"#ac3f13\",\"#69953b\",\"#a13d85\",\"#bfb6ba\",\"#acc667\",\"#6469cf\",\"#91af00\",\"#2be2da\",\"#016e36\",\"#ff7952\",\"#42807e\",\"#4fe800\",\"#995428\",\"#5d0a00\",\"#a30057\",\"#0c8700\",\"#5982a7\",\"#ffebfb\",\"#4b6901\",\"#8775d4\",\"#e6c6ff\",\"#a5ffda\",\"#d86e77\",\"#df014b\",\"#69675b\",\"#776ba1\",\"#7e8067\",\"#594685\",\"#0000ca\",\"#7c002a\",\"#97ff72\",\"#b5e2e1\",\"#db52c8\",\"#777734\",\"#57bd8e\"]},\"id\":\"1036\",\"type\":\"CategoricalColorMapper\"},{\"attributes\":{\"factors\":[[\"female\",\"insomniac\"],[\"female\",\"normal\"],[\"male\",\"insomniac\"],[\"male\",\"normal\"]],\"palette\":[\"#1f77b3\",\"#ff7e0e\",\"#2ba02b\",\"#d62628\",\"#9367bc\",\"#8c564b\",\"#e277c1\",\"#7e7e7e\",\"#bcbc21\",\"#16bdcf\",\"#3a0182\",\"#004201\",\"#0fffa8\",\"#5d003f\",\"#bcbcff\",\"#d8afa1\",\"#b80080\",\"#004d52\",\"#6b6400\",\"#7c0100\",\"#6026ff\",\"#ffff9a\",\"#564964\",\"#8cb893\",\"#93fbff\",\"#018267\",\"#90ff00\",\"#8200a0\",\"#ac8944\",\"#5b3400\",\"#ffbff2\",\"#ff6e75\",\"#798cff\",\"#dd00ff\",\"#505646\",\"#004489\",\"#ffbf60\",\"#ff018c\",\"#bdc8cf\",\"#af97b5\",\"#b65600\",\"#017000\",\"#cd87ff\",\"#1cd646\",\"#bfebc3\",\"#7997b5\",\"#a56089\",\"#6e8956\",\"#bc7c75\",\"#8a2844\",\"#00acff\",\"#8ed4ff\",\"#4b6d77\",\"#00d4b1\",\"#9300f2\",\"#8a9500\",\"#5d5b9e\",\"#fddfba\",\"#00939e\",\"#ffdb00\",\"#00aa79\",\"#520067\",\"#000091\",\"#0a5d3d\",\"#a5e275\",\"#623b41\",\"#c6c689\",\"#ff9eb5\",\"#cd4f6b\",\"#ff07d6\",\"#8a3a05\",\"#7e3d70\",\"#ff4901\",\"#602ba5\",\"#1c00ff\",\"#e6dfff\",\"#aa3baf\",\"#d89c00\",\"#a3a39e\",\"#3f69ff\",\"#46490c\",\"#7b6985\",\"#6b978c\",\"#ff9a75\",\"#835bff\",\"#7c6b46\",\"#80b654\",\"#bc0049\",\"#fd93ff\",\"#5d0018\",\"#89d1d1\",\"#9c8cd3\",\"#da6d42\",\"#8a5700\",\"#3b5069\",\"#4b6b3b\",\"#edcfd8\",\"#cfedff\",\"#aa1500\",\"#dfff4f\",\"#ff2a56\",\"#d1499e\",\"#707cb8\",\"#598000\",\"#00e4fd\",\"#774b95\",\"#67d48c\",\"#3d3a72\",\"#ac413f\",\"#d6a166\",\"#c169cd\",\"#69595d\",\"#87aced\",\"#a0a569\",\"#d1aae6\",\"#870062\",\"#00fddb\",\"#672818\",\"#b342ff\",\"#0e59c4\",\"#168742\",\"#90d300\",\"#cd7900\",\"#f959ff\",\"#5b7466\",\"#8eaeb3\",\"#9c7c8c\",\"#4600c6\",\"#6b4d2d\",\"#a56d46\",\"#9e8972\",\"#a8afca\",\"#cd8ca7\",\"#00fd64\",\"#917900\",\"#ff62a1\",\"#f4ffd8\",\"#018cf0\",\"#13aca0\",\"#5b2d59\",\"#89859e\",\"#cfccba\",\"#d4afc4\",\"#dbdd6d\",\"#cffff4\",\"#006485\",\"#006962\",\"#a84167\",\"#2d97c4\",\"#a874ff\",\"#26ba5d\",\"#57b600\",\"#caffa7\",\"#a379aa\",\"#ffbc93\",\"#89e2c1\",\"#0fc8ff\",\"#d400c4\",\"#626d89\",\"#69858e\",\"#4b4d52\",\"#aa6067\",\"#79b5d4\",\"#2b5916\",\"#9a0024\",\"#bdd1f2\",\"#896e67\",\"#69a56b\",\"#855467\",\"#aecdba\",\"#87997e\",\"#cadb00\",\"#9a0390\",\"#ebbc1a\",\"#eb9cd1\",\"#70006e\",\"#b1a131\",\"#ca6b93\",\"#4146a3\",\"#e48c89\",\"#d44400\",\"#c68aca\",\"#b69597\",\"#d41f75\",\"#724bcc\",\"#674d00\",\"#672138\",\"#38564f\",\"#6ebaaa\",\"#853a31\",\"#a5d397\",\"#b8af8e\",\"#d8e4df\",\"#aa00df\",\"#cac1db\",\"#ffdf8c\",\"#e2524d\",\"#66696e\",\"#ff001c\",\"#522d72\",\"#4d906b\",\"#a86d11\",\"#ff9e26\",\"#5ea3af\",\"#c88556\",\"#915997\",\"#a3a1ff\",\"#fdbaba\",\"#242a87\",\"#dbe6a8\",\"#97f2a7\",\"#6793d6\",\"#ba5b3f\",\"#3a5d91\",\"#364f2f\",\"#267c95\",\"#89959a\",\"#cfb356\",\"#004664\",\"#5e5d2f\",\"#8e8e41\",\"#ac3f13\",\"#69953b\",\"#a13d85\",\"#bfb6ba\",\"#acc667\",\"#6469cf\",\"#91af00\",\"#2be2da\",\"#016e36\",\"#ff7952\",\"#42807e\",\"#4fe800\",\"#995428\",\"#5d0a00\",\"#a30057\",\"#0c8700\",\"#5982a7\",\"#ffebfb\",\"#4b6901\",\"#8775d4\",\"#e6c6ff\",\"#a5ffda\",\"#d86e77\",\"#df014b\",\"#69675b\",\"#776ba1\",\"#7e8067\",\"#594685\",\"#0000ca\",\"#7c002a\",\"#97ff72\",\"#b5e2e1\",\"#db52c8\",\"#777734\",\"#57bd8e\"]},\"id\":\"1035\",\"type\":\"CategoricalColorMapper\"},{\"attributes\":{},\"id\":\"1022\",\"type\":\"SaveTool\"},{\"attributes\":{\"source\":{\"id\":\"1034\"}},\"id\":\"1062\",\"type\":\"CDSView\"},{\"attributes\":{\"data_source\":{\"id\":\"1033\"},\"glyph\":{\"id\":\"1044\"},\"hover_glyph\":null,\"muted_glyph\":null,\"nonselection_glyph\":{\"id\":\"1045\"},\"view\":{\"id\":\"1047\"}},\"id\":\"1046\",\"type\":\"GlyphRenderer\"},{\"attributes\":{\"axis_label\":\"percent correct\",\"formatter\":{\"id\":\"1070\"},\"major_label_policy\":{\"id\":\"1068\"},\"ticker\":{\"id\":\"1013\"}},\"id\":\"1012\",\"type\":\"LinearAxis\"},{\"attributes\":{},\"id\":\"1010\",\"type\":\"CategoricalScale\"},{\"attributes\":{\"x0\":{\"field\":\"top\"},\"x1\":{\"field\":\"top_whisker\"},\"y0\":{\"field\":\"cat\"},\"y1\":{\"field\":\"cat\"}},\"id\":\"1039\",\"type\":\"Segment\"}],\"root_ids\":[\"1004\"]},\"title\":\"Bokeh Application\",\"version\":\"2.3.3\"}};\n",
       "  var render_items = [{\"docid\":\"847bd977-535f-4823-9168-5faa02653911\",\"root_ids\":[\"1004\"],\"roots\":{\"1004\":\"f783e110-903c-444b-9793-fb40924ca91a\"}}];\n",
       "  root.Bokeh.embed.embed_items_notebook(docs_json, render_items);\n",
       "\n",
       "  }\n",
       "  if (root.Bokeh !== undefined) {\n",
       "    embed_document(root);\n",
       "  } else {\n",
       "    var attempts = 0;\n",
       "    var timer = setInterval(function(root) {\n",
       "      if (root.Bokeh !== undefined) {\n",
       "        clearInterval(timer);\n",
       "        embed_document(root);\n",
       "      } else {\n",
       "        attempts++;\n",
       "        if (attempts > 100) {\n",
       "          clearInterval(timer);\n",
       "          console.log(\"Bokeh: ERROR: Unable to run BokehJS code because BokehJS library is missing\");\n",
       "        }\n",
       "      }\n",
       "    }, 10, root)\n",
       "  }\n",
       "})(window);"
      ],
      "application/vnd.bokehjs_exec.v0+json": ""
     },
     "metadata": {
      "application/vnd.bokehjs_exec.v0+json": {
       "id": "1004"
      }
     },
     "output_type": "display_data"
    }
   ],
   "source": [
    "p = iqplot.box(\n",
    "    data=df,\n",
    "    q='percent correct',\n",
    "    cats=['gender', 'sleeper'],\n",
    ")\n",
    "\n",
    "bokeh.io.show(p)"
   ]
  },
  {
   "cell_type": "markdown",
   "metadata": {},
   "source": [
    "### Strip plot\n",
    "\n",
    "For this plot, I will add jitter, which is passes as a Boolean. Note that HoloViews cannot make a plot like this because it cannot have nested categorical axes for `Scatter` elements. "
   ]
  },
  {
   "cell_type": "code",
   "execution_count": 5,
   "metadata": {},
   "outputs": [
    {
     "data": {
      "text/html": [
       "\n",
       "\n",
       "\n",
       "\n",
       "\n",
       "\n",
       "  <div class=\"bk-root\" id=\"f066370e-e82a-44b2-ad27-cee27b6b6686\" data-root-id=\"1142\"></div>\n"
      ]
     },
     "metadata": {},
     "output_type": "display_data"
    },
    {
     "data": {
      "application/javascript": [
       "(function(root) {\n",
       "  function embed_document(root) {\n",
       "    \n",
       "  var docs_json = {\"7204528b-c62a-459f-9856-5028a565bd1a\":{\"defs\":[],\"roots\":{\"references\":[{\"attributes\":{\"below\":[{\"id\":\"1150\"}],\"center\":[{\"id\":\"1153\"},{\"id\":\"1156\"}],\"frame_height\":275,\"frame_width\":375,\"left\":[{\"id\":\"1154\"}],\"renderers\":[{\"id\":\"1177\"}],\"title\":{\"id\":\"1192\"},\"toolbar\":{\"id\":\"1164\"},\"toolbar_location\":\"above\",\"x_range\":{\"id\":\"1143\"},\"x_scale\":{\"id\":\"1146\"},\"y_range\":{\"id\":\"1141\"},\"y_scale\":{\"id\":\"1148\"}},\"id\":\"1142\",\"subtype\":\"Figure\",\"type\":\"Plot\"},{\"attributes\":{\"axis_label\":\"percent correct\",\"formatter\":{\"id\":\"1199\"},\"major_label_policy\":{\"id\":\"1197\"},\"ticker\":{\"id\":\"1151\"}},\"id\":\"1150\",\"type\":\"LinearAxis\"},{\"attributes\":{},\"id\":\"1148\",\"type\":\"CategoricalScale\"},{\"attributes\":{},\"id\":\"1199\",\"type\":\"BasicTickFormatter\"},{\"attributes\":{},\"id\":\"1201\",\"type\":\"Selection\"},{\"attributes\":{\"fill_alpha\":{\"value\":0.1},\"fill_color\":{\"field\":\"cat\",\"transform\":{\"id\":\"1171\"}},\"line_alpha\":{\"value\":0.1},\"line_color\":{\"field\":\"cat\",\"transform\":{\"id\":\"1171\"}},\"x\":{\"field\":\"percent correct\"},\"y\":{\"field\":\"cat\",\"transform\":{\"id\":\"1173\"}}},\"id\":\"1176\",\"type\":\"Circle\"},{\"attributes\":{\"source\":{\"id\":\"1172\"}},\"id\":\"1178\",\"type\":\"CDSView\"},{\"attributes\":{\"axis\":{\"id\":\"1150\"},\"ticker\":null},\"id\":\"1153\",\"type\":\"Grid\"},{\"attributes\":{},\"id\":\"1146\",\"type\":\"LinearScale\"},{\"attributes\":{},\"id\":\"1202\",\"type\":\"UnionRenderers\"},{\"attributes\":{},\"id\":\"1151\",\"type\":\"BasicTicker\"},{\"attributes\":{\"axis\":{\"id\":\"1154\"},\"dimension\":1,\"grid_line_color\":null,\"ticker\":null},\"id\":\"1156\",\"type\":\"Grid\"},{\"attributes\":{\"formatter\":{\"id\":\"1196\"},\"major_label_policy\":{\"id\":\"1194\"},\"ticker\":{\"id\":\"1155\"}},\"id\":\"1154\",\"type\":\"CategoricalAxis\"},{\"attributes\":{},\"id\":\"1192\",\"type\":\"Title\"},{\"attributes\":{\"data_source\":{\"id\":\"1172\"},\"glyph\":{\"id\":\"1175\"},\"hover_glyph\":null,\"muted_glyph\":null,\"nonselection_glyph\":{\"id\":\"1176\"},\"view\":{\"id\":\"1178\"}},\"id\":\"1177\",\"type\":\"GlyphRenderer\"},{\"attributes\":{},\"id\":\"1162\",\"type\":\"HelpTool\"},{\"attributes\":{\"active_multi\":null,\"tools\":[{\"id\":\"1157\"},{\"id\":\"1158\"},{\"id\":\"1159\"},{\"id\":\"1160\"},{\"id\":\"1161\"},{\"id\":\"1162\"}]},\"id\":\"1164\",\"type\":\"Toolbar\"},{\"attributes\":{\"factors\":[[\"female\",\"insomniac\"],[\"female\",\"normal\"],[\"male\",\"insomniac\"],[\"male\",\"normal\"]],\"palette\":[\"#1f77b3\",\"#ff7e0e\",\"#2ba02b\",\"#d62628\",\"#9367bc\",\"#8c564b\",\"#e277c1\",\"#7e7e7e\",\"#bcbc21\",\"#16bdcf\",\"#3a0182\",\"#004201\",\"#0fffa8\",\"#5d003f\",\"#bcbcff\",\"#d8afa1\",\"#b80080\",\"#004d52\",\"#6b6400\",\"#7c0100\",\"#6026ff\",\"#ffff9a\",\"#564964\",\"#8cb893\",\"#93fbff\",\"#018267\",\"#90ff00\",\"#8200a0\",\"#ac8944\",\"#5b3400\",\"#ffbff2\",\"#ff6e75\",\"#798cff\",\"#dd00ff\",\"#505646\",\"#004489\",\"#ffbf60\",\"#ff018c\",\"#bdc8cf\",\"#af97b5\",\"#b65600\",\"#017000\",\"#cd87ff\",\"#1cd646\",\"#bfebc3\",\"#7997b5\",\"#a56089\",\"#6e8956\",\"#bc7c75\",\"#8a2844\",\"#00acff\",\"#8ed4ff\",\"#4b6d77\",\"#00d4b1\",\"#9300f2\",\"#8a9500\",\"#5d5b9e\",\"#fddfba\",\"#00939e\",\"#ffdb00\",\"#00aa79\",\"#520067\",\"#000091\",\"#0a5d3d\",\"#a5e275\",\"#623b41\",\"#c6c689\",\"#ff9eb5\",\"#cd4f6b\",\"#ff07d6\",\"#8a3a05\",\"#7e3d70\",\"#ff4901\",\"#602ba5\",\"#1c00ff\",\"#e6dfff\",\"#aa3baf\",\"#d89c00\",\"#a3a39e\",\"#3f69ff\",\"#46490c\",\"#7b6985\",\"#6b978c\",\"#ff9a75\",\"#835bff\",\"#7c6b46\",\"#80b654\",\"#bc0049\",\"#fd93ff\",\"#5d0018\",\"#89d1d1\",\"#9c8cd3\",\"#da6d42\",\"#8a5700\",\"#3b5069\",\"#4b6b3b\",\"#edcfd8\",\"#cfedff\",\"#aa1500\",\"#dfff4f\",\"#ff2a56\",\"#d1499e\",\"#707cb8\",\"#598000\",\"#00e4fd\",\"#774b95\",\"#67d48c\",\"#3d3a72\",\"#ac413f\",\"#d6a166\",\"#c169cd\",\"#69595d\",\"#87aced\",\"#a0a569\",\"#d1aae6\",\"#870062\",\"#00fddb\",\"#672818\",\"#b342ff\",\"#0e59c4\",\"#168742\",\"#90d300\",\"#cd7900\",\"#f959ff\",\"#5b7466\",\"#8eaeb3\",\"#9c7c8c\",\"#4600c6\",\"#6b4d2d\",\"#a56d46\",\"#9e8972\",\"#a8afca\",\"#cd8ca7\",\"#00fd64\",\"#917900\",\"#ff62a1\",\"#f4ffd8\",\"#018cf0\",\"#13aca0\",\"#5b2d59\",\"#89859e\",\"#cfccba\",\"#d4afc4\",\"#dbdd6d\",\"#cffff4\",\"#006485\",\"#006962\",\"#a84167\",\"#2d97c4\",\"#a874ff\",\"#26ba5d\",\"#57b600\",\"#caffa7\",\"#a379aa\",\"#ffbc93\",\"#89e2c1\",\"#0fc8ff\",\"#d400c4\",\"#626d89\",\"#69858e\",\"#4b4d52\",\"#aa6067\",\"#79b5d4\",\"#2b5916\",\"#9a0024\",\"#bdd1f2\",\"#896e67\",\"#69a56b\",\"#855467\",\"#aecdba\",\"#87997e\",\"#cadb00\",\"#9a0390\",\"#ebbc1a\",\"#eb9cd1\",\"#70006e\",\"#b1a131\",\"#ca6b93\",\"#4146a3\",\"#e48c89\",\"#d44400\",\"#c68aca\",\"#b69597\",\"#d41f75\",\"#724bcc\",\"#674d00\",\"#672138\",\"#38564f\",\"#6ebaaa\",\"#853a31\",\"#a5d397\",\"#b8af8e\",\"#d8e4df\",\"#aa00df\",\"#cac1db\",\"#ffdf8c\",\"#e2524d\",\"#66696e\",\"#ff001c\",\"#522d72\",\"#4d906b\",\"#a86d11\",\"#ff9e26\",\"#5ea3af\",\"#c88556\",\"#915997\",\"#a3a1ff\",\"#fdbaba\",\"#242a87\",\"#dbe6a8\",\"#97f2a7\",\"#6793d6\",\"#ba5b3f\",\"#3a5d91\",\"#364f2f\",\"#267c95\",\"#89959a\",\"#cfb356\",\"#004664\",\"#5e5d2f\",\"#8e8e41\",\"#ac3f13\",\"#69953b\",\"#a13d85\",\"#bfb6ba\",\"#acc667\",\"#6469cf\",\"#91af00\",\"#2be2da\",\"#016e36\",\"#ff7952\",\"#42807e\",\"#4fe800\",\"#995428\",\"#5d0a00\",\"#a30057\",\"#0c8700\",\"#5982a7\",\"#ffebfb\",\"#4b6901\",\"#8775d4\",\"#e6c6ff\",\"#a5ffda\",\"#d86e77\",\"#df014b\",\"#69675b\",\"#776ba1\",\"#7e8067\",\"#594685\",\"#0000ca\",\"#7c002a\",\"#97ff72\",\"#b5e2e1\",\"#db52c8\",\"#777734\",\"#57bd8e\"]},\"id\":\"1171\",\"type\":\"CategoricalColorMapper\"},{\"attributes\":{},\"id\":\"1155\",\"type\":\"CategoricalTicker\"},{\"attributes\":{},\"id\":\"1158\",\"type\":\"WheelZoomTool\"},{\"attributes\":{},\"id\":\"1157\",\"type\":\"PanTool\"},{\"attributes\":{},\"id\":\"1143\",\"type\":\"DataRange1d\"},{\"attributes\":{\"overlay\":{\"id\":\"1163\"}},\"id\":\"1159\",\"type\":\"BoxZoomTool\"},{\"attributes\":{},\"id\":\"1160\",\"type\":\"SaveTool\"},{\"attributes\":{},\"id\":\"1161\",\"type\":\"ResetTool\"},{\"attributes\":{\"distribution\":\"normal\",\"range\":{\"id\":\"1141\"},\"width\":0.1},\"id\":\"1173\",\"type\":\"Jitter\"},{\"attributes\":{\"fill_color\":{\"field\":\"cat\",\"transform\":{\"id\":\"1171\"}},\"line_color\":{\"field\":\"cat\",\"transform\":{\"id\":\"1171\"}},\"x\":{\"field\":\"percent correct\"},\"y\":{\"field\":\"cat\",\"transform\":{\"id\":\"1173\"}}},\"id\":\"1175\",\"type\":\"Circle\"},{\"attributes\":{},\"id\":\"1194\",\"type\":\"AllLabels\"},{\"attributes\":{\"data\":{\"__label\":[\"female, insomniac\",\"male, insomniac\",\"female, insomniac\",\"female, insomniac\",\"female, insomniac\",\"female, insomniac\",\"male, insomniac\",\"male, insomniac\",\"female, insomniac\",\"female, insomniac\",\"female, insomniac\",\"female, insomniac\",\"female, insomniac\",\"female, insomniac\",\"female, insomniac\",\"female, insomniac\",\"female, insomniac\",\"female, insomniac\",\"male, insomniac\",\"male, insomniac\",\"female, insomniac\",\"male, insomniac\",\"female, insomniac\",\"female, insomniac\",\"female, insomniac\",\"female, normal\",\"female, normal\",\"female, normal\",\"female, normal\",\"female, normal\",\"female, normal\",\"female, normal\",\"male, normal\",\"female, normal\",\"female, normal\",\"male, normal\",\"male, normal\",\"male, normal\",\"female, normal\",\"male, normal\",\"female, normal\",\"female, normal\",\"male, normal\",\"male, normal\",\"female, normal\",\"female, normal\",\"male, normal\",\"female, normal\",\"male, normal\",\"female, normal\",\"male, normal\",\"female, normal\",\"female, normal\",\"male, normal\",\"male, normal\",\"female, normal\",\"female, normal\",\"female, normal\",\"female, normal\",\"male, normal\",\"female, normal\",\"female, normal\",\"female, normal\",\"female, normal\",\"male, normal\",\"female, normal\",\"female, normal\",\"female, normal\",\"male, normal\",\"female, normal\",\"female, normal\",\"female, normal\",\"female, normal\",\"female, normal\",\"female, normal\",\"female, normal\",\"female, normal\",\"female, normal\",\"female, normal\",\"female, normal\",\"female, normal\",\"male, normal\",\"female, normal\",\"female, normal\",\"male, normal\",\"female, normal\",\"female, normal\",\"female, normal\",\"female, normal\",\"female, normal\",\"male, normal\",\"male, normal\",\"male, normal\",\"male, normal\",\"female, normal\",\"male, normal\",\"female, normal\",\"female, normal\",\"female, normal\",\"female, normal\",\"female, normal\",\"female, normal\"],\"cat\":[[\"female\",\"insomniac\"],[\"male\",\"insomniac\"],[\"female\",\"insomniac\"],[\"female\",\"insomniac\"],[\"female\",\"insomniac\"],[\"female\",\"insomniac\"],[\"male\",\"insomniac\"],[\"male\",\"insomniac\"],[\"female\",\"insomniac\"],[\"female\",\"insomniac\"],[\"female\",\"insomniac\"],[\"female\",\"insomniac\"],[\"female\",\"insomniac\"],[\"female\",\"insomniac\"],[\"female\",\"insomniac\"],[\"female\",\"insomniac\"],[\"female\",\"insomniac\"],[\"female\",\"insomniac\"],[\"male\",\"insomniac\"],[\"male\",\"insomniac\"],[\"female\",\"insomniac\"],[\"male\",\"insomniac\"],[\"female\",\"insomniac\"],[\"female\",\"insomniac\"],[\"female\",\"insomniac\"],[\"female\",\"normal\"],[\"female\",\"normal\"],[\"female\",\"normal\"],[\"female\",\"normal\"],[\"female\",\"normal\"],[\"female\",\"normal\"],[\"female\",\"normal\"],[\"male\",\"normal\"],[\"female\",\"normal\"],[\"female\",\"normal\"],[\"male\",\"normal\"],[\"male\",\"normal\"],[\"male\",\"normal\"],[\"female\",\"normal\"],[\"male\",\"normal\"],[\"female\",\"normal\"],[\"female\",\"normal\"],[\"male\",\"normal\"],[\"male\",\"normal\"],[\"female\",\"normal\"],[\"female\",\"normal\"],[\"male\",\"normal\"],[\"female\",\"normal\"],[\"male\",\"normal\"],[\"female\",\"normal\"],[\"male\",\"normal\"],[\"female\",\"normal\"],[\"female\",\"normal\"],[\"male\",\"normal\"],[\"male\",\"normal\"],[\"female\",\"normal\"],[\"female\",\"normal\"],[\"female\",\"normal\"],[\"female\",\"normal\"],[\"male\",\"normal\"],[\"female\",\"normal\"],[\"female\",\"normal\"],[\"female\",\"normal\"],[\"female\",\"normal\"],[\"male\",\"normal\"],[\"female\",\"normal\"],[\"female\",\"normal\"],[\"female\",\"normal\"],[\"male\",\"normal\"],[\"female\",\"normal\"],[\"female\",\"normal\"],[\"female\",\"normal\"],[\"female\",\"normal\"],[\"female\",\"normal\"],[\"female\",\"normal\"],[\"female\",\"normal\"],[\"female\",\"normal\"],[\"female\",\"normal\"],[\"female\",\"normal\"],[\"female\",\"normal\"],[\"female\",\"normal\"],[\"male\",\"normal\"],[\"female\",\"normal\"],[\"female\",\"normal\"],[\"male\",\"normal\"],[\"female\",\"normal\"],[\"female\",\"normal\"],[\"female\",\"normal\"],[\"female\",\"normal\"],[\"female\",\"normal\"],[\"male\",\"normal\"],[\"male\",\"normal\"],[\"male\",\"normal\"],[\"male\",\"normal\"],[\"female\",\"normal\"],[\"male\",\"normal\"],[\"female\",\"normal\"],[\"female\",\"normal\"],[\"female\",\"normal\"],[\"female\",\"normal\"],[\"female\",\"normal\"],[\"female\",\"normal\"]],\"gender\":[\"female\",\"male\",\"female\",\"female\",\"female\",\"female\",\"male\",\"male\",\"female\",\"female\",\"female\",\"female\",\"female\",\"female\",\"female\",\"female\",\"female\",\"female\",\"male\",\"male\",\"female\",\"male\",\"female\",\"female\",\"female\",\"female\",\"female\",\"female\",\"female\",\"female\",\"female\",\"female\",\"male\",\"female\",\"female\",\"male\",\"male\",\"male\",\"female\",\"male\",\"female\",\"female\",\"male\",\"male\",\"female\",\"female\",\"male\",\"female\",\"male\",\"female\",\"male\",\"female\",\"female\",\"male\",\"male\",\"female\",\"female\",\"female\",\"female\",\"male\",\"female\",\"female\",\"female\",\"female\",\"male\",\"female\",\"female\",\"female\",\"male\",\"female\",\"female\",\"female\",\"female\",\"female\",\"female\",\"female\",\"female\",\"female\",\"female\",\"female\",\"female\",\"male\",\"female\",\"female\",\"male\",\"female\",\"female\",\"female\",\"female\",\"female\",\"male\",\"male\",\"male\",\"male\",\"female\",\"male\",\"female\",\"female\",\"female\",\"female\",\"female\",\"female\"],\"percent correct\":[72.5,90.0,92.5,87.5,62.5,50.0,82.5,67.5,90.0,75.0,62.5,95.0,80.0,80.0,65.0,70.0,70.0,80.0,85.0,75.0,70.0,97.5,87.5,45.0,70.0,72.5,85.0,75.0,67.5,95.0,87.5,92.5,90.0,100.0,70.0,85.0,77.5,92.5,85.0,57.5,92.5,65.0,95.0,77.5,80.0,90.0,80.0,87.5,92.5,75.0,67.5,77.5,72.5,72.5,85.0,87.5,87.5,90.0,87.5,80.0,90.0,80.0,85.0,85.0,77.5,85.0,85.0,85.0,77.5,90.0,100.0,85.0,87.5,97.5,92.5,100.0,60.0,95.0,77.5,77.5,82.5,40.0,87.5,85.0,87.5,77.5,62.5,72.5,85.0,92.5,85.0,72.5,90.0,90.0,55.0,87.5,60.0,77.5,87.5,75.0,70.0,62.5],\"sleeper\":[\"insomniac\",\"insomniac\",\"insomniac\",\"insomniac\",\"insomniac\",\"insomniac\",\"insomniac\",\"insomniac\",\"insomniac\",\"insomniac\",\"insomniac\",\"insomniac\",\"insomniac\",\"insomniac\",\"insomniac\",\"insomniac\",\"insomniac\",\"insomniac\",\"insomniac\",\"insomniac\",\"insomniac\",\"insomniac\",\"insomniac\",\"insomniac\",\"insomniac\",\"normal\",\"normal\",\"normal\",\"normal\",\"normal\",\"normal\",\"normal\",\"normal\",\"normal\",\"normal\",\"normal\",\"normal\",\"normal\",\"normal\",\"normal\",\"normal\",\"normal\",\"normal\",\"normal\",\"normal\",\"normal\",\"normal\",\"normal\",\"normal\",\"normal\",\"normal\",\"normal\",\"normal\",\"normal\",\"normal\",\"normal\",\"normal\",\"normal\",\"normal\",\"normal\",\"normal\",\"normal\",\"normal\",\"normal\",\"normal\",\"normal\",\"normal\",\"normal\",\"normal\",\"normal\",\"normal\",\"normal\",\"normal\",\"normal\",\"normal\",\"normal\",\"normal\",\"normal\",\"normal\",\"normal\",\"normal\",\"normal\",\"normal\",\"normal\",\"normal\",\"normal\",\"normal\",\"normal\",\"normal\",\"normal\",\"normal\",\"normal\",\"normal\",\"normal\",\"normal\",\"normal\",\"normal\",\"normal\",\"normal\",\"normal\",\"normal\",\"normal\"]},\"selected\":{\"id\":\"1201\"},\"selection_policy\":{\"id\":\"1202\"}},\"id\":\"1172\",\"type\":\"ColumnDataSource\"},{\"attributes\":{\"bottom_units\":\"screen\",\"fill_alpha\":0.5,\"fill_color\":\"lightgrey\",\"left_units\":\"screen\",\"level\":\"overlay\",\"line_alpha\":1.0,\"line_color\":\"black\",\"line_dash\":[4,4],\"line_width\":2,\"right_units\":\"screen\",\"syncable\":false,\"top_units\":\"screen\"},\"id\":\"1163\",\"type\":\"BoxAnnotation\"},{\"attributes\":{},\"id\":\"1196\",\"type\":\"CategoricalTickFormatter\"},{\"attributes\":{},\"id\":\"1197\",\"type\":\"AllLabels\"},{\"attributes\":{\"factors\":[[\"male\",\"normal\"],[\"male\",\"insomniac\"],[\"female\",\"normal\"],[\"female\",\"insomniac\"]]},\"id\":\"1141\",\"type\":\"FactorRange\"}],\"root_ids\":[\"1142\"]},\"title\":\"Bokeh Application\",\"version\":\"2.3.3\"}};\n",
       "  var render_items = [{\"docid\":\"7204528b-c62a-459f-9856-5028a565bd1a\",\"root_ids\":[\"1142\"],\"roots\":{\"1142\":\"f066370e-e82a-44b2-ad27-cee27b6b6686\"}}];\n",
       "  root.Bokeh.embed.embed_items_notebook(docs_json, render_items);\n",
       "\n",
       "  }\n",
       "  if (root.Bokeh !== undefined) {\n",
       "    embed_document(root);\n",
       "  } else {\n",
       "    var attempts = 0;\n",
       "    var timer = setInterval(function(root) {\n",
       "      if (root.Bokeh !== undefined) {\n",
       "        clearInterval(timer);\n",
       "        embed_document(root);\n",
       "      } else {\n",
       "        attempts++;\n",
       "        if (attempts > 100) {\n",
       "          clearInterval(timer);\n",
       "          console.log(\"Bokeh: ERROR: Unable to run BokehJS code because BokehJS library is missing\");\n",
       "        }\n",
       "      }\n",
       "    }, 10, root)\n",
       "  }\n",
       "})(window);"
      ],
      "application/vnd.bokehjs_exec.v0+json": ""
     },
     "metadata": {
      "application/vnd.bokehjs_exec.v0+json": {
       "id": "1142"
      }
     },
     "output_type": "display_data"
    }
   ],
   "source": [
    "p = iqplot.strip(\n",
    "    data=df,\n",
    "    q='percent correct',\n",
    "    cats=['gender', 'sleeper'],\n",
    "    jitter=True,\n",
    ")\n",
    "\n",
    "bokeh.io.show(p)"
   ]
  },
  {
   "cell_type": "markdown",
   "metadata": {},
   "source": [
    "### Strip-box plot\n",
    "\n",
    "For a strip-box plot, a strip plot and box plot are overlaid with reasonable defaults for the box plot to enable visualization."
   ]
  },
  {
   "cell_type": "code",
   "execution_count": 6,
   "metadata": {},
   "outputs": [
    {
     "data": {
      "text/html": [
       "\n",
       "\n",
       "\n",
       "\n",
       "\n",
       "\n",
       "  <div class=\"bk-root\" id=\"598b3521-bc88-48ff-98e4-5ae660480089\" data-root-id=\"1259\"></div>\n"
      ]
     },
     "metadata": {},
     "output_type": "display_data"
    },
    {
     "data": {
      "application/javascript": [
       "(function(root) {\n",
       "  function embed_document(root) {\n",
       "    \n",
       "  var docs_json = {\"8fc7e9d5-c28e-453e-9342-fa7ec8eebcef\":{\"defs\":[],\"roots\":{\"references\":[{\"attributes\":{\"below\":[{\"id\":\"1267\"}],\"center\":[{\"id\":\"1270\"},{\"id\":\"1273\"}],\"frame_height\":275,\"frame_width\":375,\"left\":[{\"id\":\"1271\"}],\"renderers\":[{\"id\":\"1296\"},{\"id\":\"1301\"},{\"id\":\"1306\"},{\"id\":\"1311\"},{\"id\":\"1316\"},{\"id\":\"1321\"},{\"id\":\"1330\"}],\"title\":{\"id\":\"1356\"},\"toolbar\":{\"id\":\"1281\"},\"toolbar_location\":\"above\",\"x_range\":{\"id\":\"1260\"},\"x_scale\":{\"id\":\"1263\"},\"y_range\":{\"id\":\"1258\"},\"y_scale\":{\"id\":\"1265\"}},\"id\":\"1259\",\"subtype\":\"Figure\",\"type\":\"Plot\"},{\"attributes\":{\"source\":{\"id\":\"1288\"}},\"id\":\"1302\",\"type\":\"CDSView\"},{\"attributes\":{\"fill_alpha\":{\"value\":0.1},\"fill_color\":{\"field\":\"cat\",\"transform\":{\"id\":\"1292\"}},\"height\":{\"value\":0.4},\"left\":{\"field\":\"bottom\"},\"line_alpha\":{\"value\":0.1},\"line_color\":{\"value\":\"gray\"},\"right\":{\"field\":\"top\"},\"y\":{\"field\":\"cat\"}},\"id\":\"1315\",\"type\":\"HBar\"},{\"attributes\":{},\"id\":\"1361\",\"type\":\"AllLabels\"},{\"attributes\":{\"fill_alpha\":{\"value\":0.1},\"fill_color\":{\"value\":\"#1f77b4\"},\"height\":{\"value\":0.4},\"left\":{\"field\":\"middle\"},\"line_alpha\":{\"value\":0.1},\"line_color\":{\"value\":\"gray\"},\"right\":{\"field\":\"middle\"},\"y\":{\"field\":\"cat\"}},\"id\":\"1320\",\"type\":\"HBar\"},{\"attributes\":{},\"id\":\"1367\",\"type\":\"Selection\"},{\"attributes\":{\"data_source\":{\"id\":\"1288\"},\"glyph\":{\"id\":\"1309\"},\"hover_glyph\":null,\"muted_glyph\":null,\"nonselection_glyph\":{\"id\":\"1310\"},\"view\":{\"id\":\"1312\"}},\"id\":\"1311\",\"type\":\"GlyphRenderer\"},{\"attributes\":{\"fill_color\":{\"value\":\"#1f77b4\"},\"height\":{\"value\":0.1},\"left\":{\"field\":\"bottom_whisker\"},\"line_color\":{\"value\":\"gray\"},\"right\":{\"field\":\"bottom_whisker\"},\"y\":{\"field\":\"cat\"}},\"id\":\"1309\",\"type\":\"HBar\"},{\"attributes\":{\"source\":{\"id\":\"1288\"}},\"id\":\"1297\",\"type\":\"CDSView\"},{\"attributes\":{\"line_alpha\":{\"value\":0.1},\"line_color\":{\"value\":\"gray\"},\"x0\":{\"field\":\"bottom\"},\"x1\":{\"field\":\"bottom_whisker\"},\"y0\":{\"field\":\"cat\"},\"y1\":{\"field\":\"cat\"}},\"id\":\"1300\",\"type\":\"Segment\"},{\"attributes\":{},\"id\":\"1368\",\"type\":\"UnionRenderers\"},{\"attributes\":{\"line_color\":{\"value\":\"gray\"},\"x0\":{\"field\":\"bottom\"},\"x1\":{\"field\":\"bottom_whisker\"},\"y0\":{\"field\":\"cat\"},\"y1\":{\"field\":\"cat\"}},\"id\":\"1299\",\"type\":\"Segment\"},{\"attributes\":{},\"id\":\"1356\",\"type\":\"Title\"},{\"attributes\":{\"data_source\":{\"id\":\"1288\"},\"glyph\":{\"id\":\"1299\"},\"hover_glyph\":null,\"muted_glyph\":null,\"nonselection_glyph\":{\"id\":\"1300\"},\"view\":{\"id\":\"1302\"}},\"id\":\"1301\",\"type\":\"GlyphRenderer\"},{\"attributes\":{\"axis\":{\"id\":\"1267\"},\"ticker\":null},\"id\":\"1270\",\"type\":\"Grid\"},{\"attributes\":{\"fill_alpha\":{\"value\":0.1},\"fill_color\":{\"value\":\"#1f77b4\"},\"height\":{\"value\":0.1},\"left\":{\"field\":\"top_whisker\"},\"line_alpha\":{\"value\":0.1},\"line_color\":{\"value\":\"gray\"},\"right\":{\"field\":\"top_whisker\"},\"y\":{\"field\":\"cat\"}},\"id\":\"1305\",\"type\":\"HBar\"},{\"attributes\":{\"data_source\":{\"id\":\"1288\"},\"glyph\":{\"id\":\"1314\"},\"hover_glyph\":null,\"muted_glyph\":null,\"nonselection_glyph\":{\"id\":\"1315\"},\"view\":{\"id\":\"1317\"}},\"id\":\"1316\",\"type\":\"GlyphRenderer\"},{\"attributes\":{},\"id\":\"1363\",\"type\":\"BasicTickFormatter\"},{\"attributes\":{\"formatter\":{\"id\":\"1360\"},\"major_label_policy\":{\"id\":\"1358\"},\"ticker\":{\"id\":\"1272\"}},\"id\":\"1271\",\"type\":\"CategoricalAxis\"},{\"attributes\":{\"data_source\":{\"id\":\"1288\"},\"glyph\":{\"id\":\"1294\"},\"hover_glyph\":null,\"muted_glyph\":null,\"nonselection_glyph\":{\"id\":\"1295\"},\"view\":{\"id\":\"1297\"}},\"id\":\"1296\",\"type\":\"GlyphRenderer\"},{\"attributes\":{\"source\":{\"id\":\"1288\"}},\"id\":\"1322\",\"type\":\"CDSView\"},{\"attributes\":{\"fill_alpha\":{\"value\":0},\"fill_color\":{\"field\":\"cat\",\"transform\":{\"id\":\"1292\"}},\"height\":{\"value\":0.4},\"left\":{\"field\":\"bottom\"},\"line_color\":{\"value\":\"gray\"},\"right\":{\"field\":\"top\"},\"y\":{\"field\":\"cat\"}},\"id\":\"1314\",\"type\":\"HBar\"},{\"attributes\":{\"source\":{\"id\":\"1288\"}},\"id\":\"1307\",\"type\":\"CDSView\"},{\"attributes\":{},\"id\":\"1366\",\"type\":\"UnionRenderers\"},{\"attributes\":{\"data_source\":{\"id\":\"1288\"},\"glyph\":{\"id\":\"1319\"},\"hover_glyph\":null,\"muted_glyph\":null,\"nonselection_glyph\":{\"id\":\"1320\"},\"view\":{\"id\":\"1322\"}},\"id\":\"1321\",\"type\":\"GlyphRenderer\"},{\"attributes\":{\"data\":{\"__label\":[\"female, insomniac\",\"female, normal\",\"male, insomniac\",\"male, normal\"],\"bottom\":[67.5,75.0,76.875,77.5],\"bottom_whisker\":[45.0,55.0,67.5,67.5],\"cat\":[[\"female\",\"insomniac\"],[\"female\",\"normal\"],[\"male\",\"insomniac\"],[\"male\",\"normal\"]],\"middle\":[72.5,85.0,83.75,82.5],\"top\":[83.75,88.75,88.75,89.375],\"top_whisker\":[95.0,100.0,97.5,95.0]},\"selected\":{\"id\":\"1365\"},\"selection_policy\":{\"id\":\"1366\"}},\"id\":\"1288\",\"type\":\"ColumnDataSource\"},{\"attributes\":{\"source\":{\"id\":\"1288\"}},\"id\":\"1312\",\"type\":\"CDSView\"},{\"attributes\":{\"fill_alpha\":{\"value\":0.1},\"fill_color\":{\"value\":\"#1f77b4\"},\"height\":{\"value\":0.1},\"left\":{\"field\":\"bottom_whisker\"},\"line_alpha\":{\"value\":0.1},\"line_color\":{\"value\":\"gray\"},\"right\":{\"field\":\"bottom_whisker\"},\"y\":{\"field\":\"cat\"}},\"id\":\"1310\",\"type\":\"HBar\"},{\"attributes\":{},\"id\":\"1265\",\"type\":\"CategoricalScale\"},{\"attributes\":{\"line_color\":{\"value\":\"gray\"},\"x0\":{\"field\":\"top\"},\"x1\":{\"field\":\"top_whisker\"},\"y0\":{\"field\":\"cat\"},\"y1\":{\"field\":\"cat\"}},\"id\":\"1294\",\"type\":\"Segment\"},{\"attributes\":{\"source\":{\"id\":\"1288\"}},\"id\":\"1317\",\"type\":\"CDSView\"},{\"attributes\":{\"axis\":{\"id\":\"1271\"},\"dimension\":1,\"grid_line_color\":null,\"ticker\":null},\"id\":\"1273\",\"type\":\"Grid\"},{\"attributes\":{},\"id\":\"1360\",\"type\":\"CategoricalTickFormatter\"},{\"attributes\":{\"bottom_units\":\"screen\",\"fill_alpha\":0.5,\"fill_color\":\"lightgrey\",\"left_units\":\"screen\",\"level\":\"overlay\",\"line_alpha\":1.0,\"line_color\":\"black\",\"line_dash\":[4,4],\"line_width\":2,\"right_units\":\"screen\",\"syncable\":false,\"top_units\":\"screen\"},\"id\":\"1280\",\"type\":\"BoxAnnotation\"},{\"attributes\":{\"fill_color\":{\"value\":\"#1f77b4\"},\"height\":{\"value\":0.1},\"left\":{\"field\":\"top_whisker\"},\"line_color\":{\"value\":\"gray\"},\"right\":{\"field\":\"top_whisker\"},\"y\":{\"field\":\"cat\"}},\"id\":\"1304\",\"type\":\"HBar\"},{\"attributes\":{\"factors\":[[\"female\",\"insomniac\"],[\"female\",\"normal\"],[\"male\",\"insomniac\"],[\"male\",\"normal\"]],\"palette\":[\"#1f77b3\",\"#ff7e0e\",\"#2ba02b\",\"#d62628\",\"#9367bc\",\"#8c564b\",\"#e277c1\",\"#7e7e7e\",\"#bcbc21\",\"#16bdcf\",\"#3a0182\",\"#004201\",\"#0fffa8\",\"#5d003f\",\"#bcbcff\",\"#d8afa1\",\"#b80080\",\"#004d52\",\"#6b6400\",\"#7c0100\",\"#6026ff\",\"#ffff9a\",\"#564964\",\"#8cb893\",\"#93fbff\",\"#018267\",\"#90ff00\",\"#8200a0\",\"#ac8944\",\"#5b3400\",\"#ffbff2\",\"#ff6e75\",\"#798cff\",\"#dd00ff\",\"#505646\",\"#004489\",\"#ffbf60\",\"#ff018c\",\"#bdc8cf\",\"#af97b5\",\"#b65600\",\"#017000\",\"#cd87ff\",\"#1cd646\",\"#bfebc3\",\"#7997b5\",\"#a56089\",\"#6e8956\",\"#bc7c75\",\"#8a2844\",\"#00acff\",\"#8ed4ff\",\"#4b6d77\",\"#00d4b1\",\"#9300f2\",\"#8a9500\",\"#5d5b9e\",\"#fddfba\",\"#00939e\",\"#ffdb00\",\"#00aa79\",\"#520067\",\"#000091\",\"#0a5d3d\",\"#a5e275\",\"#623b41\",\"#c6c689\",\"#ff9eb5\",\"#cd4f6b\",\"#ff07d6\",\"#8a3a05\",\"#7e3d70\",\"#ff4901\",\"#602ba5\",\"#1c00ff\",\"#e6dfff\",\"#aa3baf\",\"#d89c00\",\"#a3a39e\",\"#3f69ff\",\"#46490c\",\"#7b6985\",\"#6b978c\",\"#ff9a75\",\"#835bff\",\"#7c6b46\",\"#80b654\",\"#bc0049\",\"#fd93ff\",\"#5d0018\",\"#89d1d1\",\"#9c8cd3\",\"#da6d42\",\"#8a5700\",\"#3b5069\",\"#4b6b3b\",\"#edcfd8\",\"#cfedff\",\"#aa1500\",\"#dfff4f\",\"#ff2a56\",\"#d1499e\",\"#707cb8\",\"#598000\",\"#00e4fd\",\"#774b95\",\"#67d48c\",\"#3d3a72\",\"#ac413f\",\"#d6a166\",\"#c169cd\",\"#69595d\",\"#87aced\",\"#a0a569\",\"#d1aae6\",\"#870062\",\"#00fddb\",\"#672818\",\"#b342ff\",\"#0e59c4\",\"#168742\",\"#90d300\",\"#cd7900\",\"#f959ff\",\"#5b7466\",\"#8eaeb3\",\"#9c7c8c\",\"#4600c6\",\"#6b4d2d\",\"#a56d46\",\"#9e8972\",\"#a8afca\",\"#cd8ca7\",\"#00fd64\",\"#917900\",\"#ff62a1\",\"#f4ffd8\",\"#018cf0\",\"#13aca0\",\"#5b2d59\",\"#89859e\",\"#cfccba\",\"#d4afc4\",\"#dbdd6d\",\"#cffff4\",\"#006485\",\"#006962\",\"#a84167\",\"#2d97c4\",\"#a874ff\",\"#26ba5d\",\"#57b600\",\"#caffa7\",\"#a379aa\",\"#ffbc93\",\"#89e2c1\",\"#0fc8ff\",\"#d400c4\",\"#626d89\",\"#69858e\",\"#4b4d52\",\"#aa6067\",\"#79b5d4\",\"#2b5916\",\"#9a0024\",\"#bdd1f2\",\"#896e67\",\"#69a56b\",\"#855467\",\"#aecdba\",\"#87997e\",\"#cadb00\",\"#9a0390\",\"#ebbc1a\",\"#eb9cd1\",\"#70006e\",\"#b1a131\",\"#ca6b93\",\"#4146a3\",\"#e48c89\",\"#d44400\",\"#c68aca\",\"#b69597\",\"#d41f75\",\"#724bcc\",\"#674d00\",\"#672138\",\"#38564f\",\"#6ebaaa\",\"#853a31\",\"#a5d397\",\"#b8af8e\",\"#d8e4df\",\"#aa00df\",\"#cac1db\",\"#ffdf8c\",\"#e2524d\",\"#66696e\",\"#ff001c\",\"#522d72\",\"#4d906b\",\"#a86d11\",\"#ff9e26\",\"#5ea3af\",\"#c88556\",\"#915997\",\"#a3a1ff\",\"#fdbaba\",\"#242a87\",\"#dbe6a8\",\"#97f2a7\",\"#6793d6\",\"#ba5b3f\",\"#3a5d91\",\"#364f2f\",\"#267c95\",\"#89959a\",\"#cfb356\",\"#004664\",\"#5e5d2f\",\"#8e8e41\",\"#ac3f13\",\"#69953b\",\"#a13d85\",\"#bfb6ba\",\"#acc667\",\"#6469cf\",\"#91af00\",\"#2be2da\",\"#016e36\",\"#ff7952\",\"#42807e\",\"#4fe800\",\"#995428\",\"#5d0a00\",\"#a30057\",\"#0c8700\",\"#5982a7\",\"#ffebfb\",\"#4b6901\",\"#8775d4\",\"#e6c6ff\",\"#a5ffda\",\"#d86e77\",\"#df014b\",\"#69675b\",\"#776ba1\",\"#7e8067\",\"#594685\",\"#0000ca\",\"#7c002a\",\"#97ff72\",\"#b5e2e1\",\"#db52c8\",\"#777734\",\"#57bd8e\"]},\"id\":\"1324\",\"type\":\"CategoricalColorMapper\"},{\"attributes\":{},\"id\":\"1260\",\"type\":\"DataRange1d\"},{\"attributes\":{},\"id\":\"1263\",\"type\":\"LinearScale\"},{\"attributes\":{\"line_alpha\":{\"value\":0.1},\"line_color\":{\"value\":\"gray\"},\"x0\":{\"field\":\"top\"},\"x1\":{\"field\":\"top_whisker\"},\"y0\":{\"field\":\"cat\"},\"y1\":{\"field\":\"cat\"}},\"id\":\"1295\",\"type\":\"Segment\"},{\"attributes\":{\"factors\":[[\"female\",\"insomniac\"],[\"female\",\"normal\"],[\"male\",\"insomniac\"],[\"male\",\"normal\"]],\"palette\":[\"#1f77b3\",\"#ff7e0e\",\"#2ba02b\",\"#d62628\",\"#9367bc\",\"#8c564b\",\"#e277c1\",\"#7e7e7e\",\"#bcbc21\",\"#16bdcf\",\"#3a0182\",\"#004201\",\"#0fffa8\",\"#5d003f\",\"#bcbcff\",\"#d8afa1\",\"#b80080\",\"#004d52\",\"#6b6400\",\"#7c0100\",\"#6026ff\",\"#ffff9a\",\"#564964\",\"#8cb893\",\"#93fbff\",\"#018267\",\"#90ff00\",\"#8200a0\",\"#ac8944\",\"#5b3400\",\"#ffbff2\",\"#ff6e75\",\"#798cff\",\"#dd00ff\",\"#505646\",\"#004489\",\"#ffbf60\",\"#ff018c\",\"#bdc8cf\",\"#af97b5\",\"#b65600\",\"#017000\",\"#cd87ff\",\"#1cd646\",\"#bfebc3\",\"#7997b5\",\"#a56089\",\"#6e8956\",\"#bc7c75\",\"#8a2844\",\"#00acff\",\"#8ed4ff\",\"#4b6d77\",\"#00d4b1\",\"#9300f2\",\"#8a9500\",\"#5d5b9e\",\"#fddfba\",\"#00939e\",\"#ffdb00\",\"#00aa79\",\"#520067\",\"#000091\",\"#0a5d3d\",\"#a5e275\",\"#623b41\",\"#c6c689\",\"#ff9eb5\",\"#cd4f6b\",\"#ff07d6\",\"#8a3a05\",\"#7e3d70\",\"#ff4901\",\"#602ba5\",\"#1c00ff\",\"#e6dfff\",\"#aa3baf\",\"#d89c00\",\"#a3a39e\",\"#3f69ff\",\"#46490c\",\"#7b6985\",\"#6b978c\",\"#ff9a75\",\"#835bff\",\"#7c6b46\",\"#80b654\",\"#bc0049\",\"#fd93ff\",\"#5d0018\",\"#89d1d1\",\"#9c8cd3\",\"#da6d42\",\"#8a5700\",\"#3b5069\",\"#4b6b3b\",\"#edcfd8\",\"#cfedff\",\"#aa1500\",\"#dfff4f\",\"#ff2a56\",\"#d1499e\",\"#707cb8\",\"#598000\",\"#00e4fd\",\"#774b95\",\"#67d48c\",\"#3d3a72\",\"#ac413f\",\"#d6a166\",\"#c169cd\",\"#69595d\",\"#87aced\",\"#a0a569\",\"#d1aae6\",\"#870062\",\"#00fddb\",\"#672818\",\"#b342ff\",\"#0e59c4\",\"#168742\",\"#90d300\",\"#cd7900\",\"#f959ff\",\"#5b7466\",\"#8eaeb3\",\"#9c7c8c\",\"#4600c6\",\"#6b4d2d\",\"#a56d46\",\"#9e8972\",\"#a8afca\",\"#cd8ca7\",\"#00fd64\",\"#917900\",\"#ff62a1\",\"#f4ffd8\",\"#018cf0\",\"#13aca0\",\"#5b2d59\",\"#89859e\",\"#cfccba\",\"#d4afc4\",\"#dbdd6d\",\"#cffff4\",\"#006485\",\"#006962\",\"#a84167\",\"#2d97c4\",\"#a874ff\",\"#26ba5d\",\"#57b600\",\"#caffa7\",\"#a379aa\",\"#ffbc93\",\"#89e2c1\",\"#0fc8ff\",\"#d400c4\",\"#626d89\",\"#69858e\",\"#4b4d52\",\"#aa6067\",\"#79b5d4\",\"#2b5916\",\"#9a0024\",\"#bdd1f2\",\"#896e67\",\"#69a56b\",\"#855467\",\"#aecdba\",\"#87997e\",\"#cadb00\",\"#9a0390\",\"#ebbc1a\",\"#eb9cd1\",\"#70006e\",\"#b1a131\",\"#ca6b93\",\"#4146a3\",\"#e48c89\",\"#d44400\",\"#c68aca\",\"#b69597\",\"#d41f75\",\"#724bcc\",\"#674d00\",\"#672138\",\"#38564f\",\"#6ebaaa\",\"#853a31\",\"#a5d397\",\"#b8af8e\",\"#d8e4df\",\"#aa00df\",\"#cac1db\",\"#ffdf8c\",\"#e2524d\",\"#66696e\",\"#ff001c\",\"#522d72\",\"#4d906b\",\"#a86d11\",\"#ff9e26\",\"#5ea3af\",\"#c88556\",\"#915997\",\"#a3a1ff\",\"#fdbaba\",\"#242a87\",\"#dbe6a8\",\"#97f2a7\",\"#6793d6\",\"#ba5b3f\",\"#3a5d91\",\"#364f2f\",\"#267c95\",\"#89959a\",\"#cfb356\",\"#004664\",\"#5e5d2f\",\"#8e8e41\",\"#ac3f13\",\"#69953b\",\"#a13d85\",\"#bfb6ba\",\"#acc667\",\"#6469cf\",\"#91af00\",\"#2be2da\",\"#016e36\",\"#ff7952\",\"#42807e\",\"#4fe800\",\"#995428\",\"#5d0a00\",\"#a30057\",\"#0c8700\",\"#5982a7\",\"#ffebfb\",\"#4b6901\",\"#8775d4\",\"#e6c6ff\",\"#a5ffda\",\"#d86e77\",\"#df014b\",\"#69675b\",\"#776ba1\",\"#7e8067\",\"#594685\",\"#0000ca\",\"#7c002a\",\"#97ff72\",\"#b5e2e1\",\"#db52c8\",\"#777734\",\"#57bd8e\"]},\"id\":\"1292\",\"type\":\"CategoricalColorMapper\"},{\"attributes\":{\"data_source\":{\"id\":\"1288\"},\"glyph\":{\"id\":\"1304\"},\"hover_glyph\":null,\"muted_glyph\":null,\"nonselection_glyph\":{\"id\":\"1305\"},\"view\":{\"id\":\"1307\"}},\"id\":\"1306\",\"type\":\"GlyphRenderer\"},{\"attributes\":{\"factors\":[[\"male\",\"normal\"],[\"male\",\"insomniac\"],[\"female\",\"normal\"],[\"female\",\"insomniac\"]]},\"id\":\"1258\",\"type\":\"FactorRange\"},{\"attributes\":{},\"id\":\"1358\",\"type\":\"AllLabels\"},{\"attributes\":{},\"id\":\"1268\",\"type\":\"BasicTicker\"},{\"attributes\":{\"distribution\":\"normal\",\"range\":{\"id\":\"1258\"},\"width\":0.1},\"id\":\"1326\",\"type\":\"Jitter\"},{\"attributes\":{},\"id\":\"1279\",\"type\":\"HelpTool\"},{\"attributes\":{\"fill_color\":{\"value\":\"#1f77b4\"},\"height\":{\"value\":0.4},\"left\":{\"field\":\"middle\"},\"line_color\":{\"value\":\"gray\"},\"right\":{\"field\":\"middle\"},\"y\":{\"field\":\"cat\"}},\"id\":\"1319\",\"type\":\"HBar\"},{\"attributes\":{},\"id\":\"1365\",\"type\":\"Selection\"},{\"attributes\":{\"axis_label\":\"percent correct\",\"formatter\":{\"id\":\"1363\"},\"major_label_policy\":{\"id\":\"1361\"},\"ticker\":{\"id\":\"1268\"}},\"id\":\"1267\",\"type\":\"LinearAxis\"},{\"attributes\":{\"fill_color\":{\"field\":\"cat\",\"transform\":{\"id\":\"1324\"}},\"line_color\":{\"field\":\"cat\",\"transform\":{\"id\":\"1324\"}},\"x\":{\"field\":\"percent correct\"},\"y\":{\"field\":\"cat\",\"transform\":{\"id\":\"1326\"}}},\"id\":\"1328\",\"type\":\"Circle\"},{\"attributes\":{\"data\":{\"__label\":[\"female, insomniac\",\"male, insomniac\",\"female, insomniac\",\"female, insomniac\",\"female, insomniac\",\"female, insomniac\",\"male, insomniac\",\"male, insomniac\",\"female, insomniac\",\"female, insomniac\",\"female, insomniac\",\"female, insomniac\",\"female, insomniac\",\"female, insomniac\",\"female, insomniac\",\"female, insomniac\",\"female, insomniac\",\"female, insomniac\",\"male, insomniac\",\"male, insomniac\",\"female, insomniac\",\"male, insomniac\",\"female, insomniac\",\"female, insomniac\",\"female, insomniac\",\"female, normal\",\"female, normal\",\"female, normal\",\"female, normal\",\"female, normal\",\"female, normal\",\"female, normal\",\"male, normal\",\"female, normal\",\"female, normal\",\"male, normal\",\"male, normal\",\"male, normal\",\"female, normal\",\"male, normal\",\"female, normal\",\"female, normal\",\"male, normal\",\"male, normal\",\"female, normal\",\"female, normal\",\"male, normal\",\"female, normal\",\"male, normal\",\"female, normal\",\"male, normal\",\"female, normal\",\"female, normal\",\"male, normal\",\"male, normal\",\"female, normal\",\"female, normal\",\"female, normal\",\"female, normal\",\"male, normal\",\"female, normal\",\"female, normal\",\"female, normal\",\"female, normal\",\"male, normal\",\"female, normal\",\"female, normal\",\"female, normal\",\"male, normal\",\"female, normal\",\"female, normal\",\"female, normal\",\"female, normal\",\"female, normal\",\"female, normal\",\"female, normal\",\"female, normal\",\"female, normal\",\"female, normal\",\"female, normal\",\"female, normal\",\"male, normal\",\"female, normal\",\"female, normal\",\"male, normal\",\"female, normal\",\"female, normal\",\"female, normal\",\"female, normal\",\"female, normal\",\"male, normal\",\"male, normal\",\"male, normal\",\"male, normal\",\"female, normal\",\"male, normal\",\"female, normal\",\"female, normal\",\"female, normal\",\"female, normal\",\"female, normal\",\"female, normal\"],\"cat\":[[\"female\",\"insomniac\"],[\"male\",\"insomniac\"],[\"female\",\"insomniac\"],[\"female\",\"insomniac\"],[\"female\",\"insomniac\"],[\"female\",\"insomniac\"],[\"male\",\"insomniac\"],[\"male\",\"insomniac\"],[\"female\",\"insomniac\"],[\"female\",\"insomniac\"],[\"female\",\"insomniac\"],[\"female\",\"insomniac\"],[\"female\",\"insomniac\"],[\"female\",\"insomniac\"],[\"female\",\"insomniac\"],[\"female\",\"insomniac\"],[\"female\",\"insomniac\"],[\"female\",\"insomniac\"],[\"male\",\"insomniac\"],[\"male\",\"insomniac\"],[\"female\",\"insomniac\"],[\"male\",\"insomniac\"],[\"female\",\"insomniac\"],[\"female\",\"insomniac\"],[\"female\",\"insomniac\"],[\"female\",\"normal\"],[\"female\",\"normal\"],[\"female\",\"normal\"],[\"female\",\"normal\"],[\"female\",\"normal\"],[\"female\",\"normal\"],[\"female\",\"normal\"],[\"male\",\"normal\"],[\"female\",\"normal\"],[\"female\",\"normal\"],[\"male\",\"normal\"],[\"male\",\"normal\"],[\"male\",\"normal\"],[\"female\",\"normal\"],[\"male\",\"normal\"],[\"female\",\"normal\"],[\"female\",\"normal\"],[\"male\",\"normal\"],[\"male\",\"normal\"],[\"female\",\"normal\"],[\"female\",\"normal\"],[\"male\",\"normal\"],[\"female\",\"normal\"],[\"male\",\"normal\"],[\"female\",\"normal\"],[\"male\",\"normal\"],[\"female\",\"normal\"],[\"female\",\"normal\"],[\"male\",\"normal\"],[\"male\",\"normal\"],[\"female\",\"normal\"],[\"female\",\"normal\"],[\"female\",\"normal\"],[\"female\",\"normal\"],[\"male\",\"normal\"],[\"female\",\"normal\"],[\"female\",\"normal\"],[\"female\",\"normal\"],[\"female\",\"normal\"],[\"male\",\"normal\"],[\"female\",\"normal\"],[\"female\",\"normal\"],[\"female\",\"normal\"],[\"male\",\"normal\"],[\"female\",\"normal\"],[\"female\",\"normal\"],[\"female\",\"normal\"],[\"female\",\"normal\"],[\"female\",\"normal\"],[\"female\",\"normal\"],[\"female\",\"normal\"],[\"female\",\"normal\"],[\"female\",\"normal\"],[\"female\",\"normal\"],[\"female\",\"normal\"],[\"female\",\"normal\"],[\"male\",\"normal\"],[\"female\",\"normal\"],[\"female\",\"normal\"],[\"male\",\"normal\"],[\"female\",\"normal\"],[\"female\",\"normal\"],[\"female\",\"normal\"],[\"female\",\"normal\"],[\"female\",\"normal\"],[\"male\",\"normal\"],[\"male\",\"normal\"],[\"male\",\"normal\"],[\"male\",\"normal\"],[\"female\",\"normal\"],[\"male\",\"normal\"],[\"female\",\"normal\"],[\"female\",\"normal\"],[\"female\",\"normal\"],[\"female\",\"normal\"],[\"female\",\"normal\"],[\"female\",\"normal\"]],\"gender\":[\"female\",\"male\",\"female\",\"female\",\"female\",\"female\",\"male\",\"male\",\"female\",\"female\",\"female\",\"female\",\"female\",\"female\",\"female\",\"female\",\"female\",\"female\",\"male\",\"male\",\"female\",\"male\",\"female\",\"female\",\"female\",\"female\",\"female\",\"female\",\"female\",\"female\",\"female\",\"female\",\"male\",\"female\",\"female\",\"male\",\"male\",\"male\",\"female\",\"male\",\"female\",\"female\",\"male\",\"male\",\"female\",\"female\",\"male\",\"female\",\"male\",\"female\",\"male\",\"female\",\"female\",\"male\",\"male\",\"female\",\"female\",\"female\",\"female\",\"male\",\"female\",\"female\",\"female\",\"female\",\"male\",\"female\",\"female\",\"female\",\"male\",\"female\",\"female\",\"female\",\"female\",\"female\",\"female\",\"female\",\"female\",\"female\",\"female\",\"female\",\"female\",\"male\",\"female\",\"female\",\"male\",\"female\",\"female\",\"female\",\"female\",\"female\",\"male\",\"male\",\"male\",\"male\",\"female\",\"male\",\"female\",\"female\",\"female\",\"female\",\"female\",\"female\"],\"percent correct\":[72.5,90.0,92.5,87.5,62.5,50.0,82.5,67.5,90.0,75.0,62.5,95.0,80.0,80.0,65.0,70.0,70.0,80.0,85.0,75.0,70.0,97.5,87.5,45.0,70.0,72.5,85.0,75.0,67.5,95.0,87.5,92.5,90.0,100.0,70.0,85.0,77.5,92.5,85.0,57.5,92.5,65.0,95.0,77.5,80.0,90.0,80.0,87.5,92.5,75.0,67.5,77.5,72.5,72.5,85.0,87.5,87.5,90.0,87.5,80.0,90.0,80.0,85.0,85.0,77.5,85.0,85.0,85.0,77.5,90.0,100.0,85.0,87.5,97.5,92.5,100.0,60.0,95.0,77.5,77.5,82.5,40.0,87.5,85.0,87.5,77.5,62.5,72.5,85.0,92.5,85.0,72.5,90.0,90.0,55.0,87.5,60.0,77.5,87.5,75.0,70.0,62.5],\"sleeper\":[\"insomniac\",\"insomniac\",\"insomniac\",\"insomniac\",\"insomniac\",\"insomniac\",\"insomniac\",\"insomniac\",\"insomniac\",\"insomniac\",\"insomniac\",\"insomniac\",\"insomniac\",\"insomniac\",\"insomniac\",\"insomniac\",\"insomniac\",\"insomniac\",\"insomniac\",\"insomniac\",\"insomniac\",\"insomniac\",\"insomniac\",\"insomniac\",\"insomniac\",\"normal\",\"normal\",\"normal\",\"normal\",\"normal\",\"normal\",\"normal\",\"normal\",\"normal\",\"normal\",\"normal\",\"normal\",\"normal\",\"normal\",\"normal\",\"normal\",\"normal\",\"normal\",\"normal\",\"normal\",\"normal\",\"normal\",\"normal\",\"normal\",\"normal\",\"normal\",\"normal\",\"normal\",\"normal\",\"normal\",\"normal\",\"normal\",\"normal\",\"normal\",\"normal\",\"normal\",\"normal\",\"normal\",\"normal\",\"normal\",\"normal\",\"normal\",\"normal\",\"normal\",\"normal\",\"normal\",\"normal\",\"normal\",\"normal\",\"normal\",\"normal\",\"normal\",\"normal\",\"normal\",\"normal\",\"normal\",\"normal\",\"normal\",\"normal\",\"normal\",\"normal\",\"normal\",\"normal\",\"normal\",\"normal\",\"normal\",\"normal\",\"normal\",\"normal\",\"normal\",\"normal\",\"normal\",\"normal\",\"normal\",\"normal\",\"normal\",\"normal\"]},\"selected\":{\"id\":\"1367\"},\"selection_policy\":{\"id\":\"1368\"}},\"id\":\"1325\",\"type\":\"ColumnDataSource\"},{\"attributes\":{},\"id\":\"1272\",\"type\":\"CategoricalTicker\"},{\"attributes\":{\"active_multi\":null,\"tools\":[{\"id\":\"1274\"},{\"id\":\"1275\"},{\"id\":\"1276\"},{\"id\":\"1277\"},{\"id\":\"1278\"},{\"id\":\"1279\"}]},\"id\":\"1281\",\"type\":\"Toolbar\"},{\"attributes\":{\"data_source\":{\"id\":\"1325\"},\"glyph\":{\"id\":\"1328\"},\"hover_glyph\":null,\"muted_glyph\":null,\"nonselection_glyph\":{\"id\":\"1329\"},\"view\":{\"id\":\"1331\"}},\"id\":\"1330\",\"type\":\"GlyphRenderer\"},{\"attributes\":{},\"id\":\"1275\",\"type\":\"WheelZoomTool\"},{\"attributes\":{\"source\":{\"id\":\"1325\"}},\"id\":\"1331\",\"type\":\"CDSView\"},{\"attributes\":{},\"id\":\"1274\",\"type\":\"PanTool\"},{\"attributes\":{\"fill_alpha\":{\"value\":0.1},\"fill_color\":{\"field\":\"cat\",\"transform\":{\"id\":\"1324\"}},\"line_alpha\":{\"value\":0.1},\"line_color\":{\"field\":\"cat\",\"transform\":{\"id\":\"1324\"}},\"x\":{\"field\":\"percent correct\"},\"y\":{\"field\":\"cat\",\"transform\":{\"id\":\"1326\"}}},\"id\":\"1329\",\"type\":\"Circle\"},{\"attributes\":{\"overlay\":{\"id\":\"1280\"}},\"id\":\"1276\",\"type\":\"BoxZoomTool\"},{\"attributes\":{},\"id\":\"1277\",\"type\":\"SaveTool\"},{\"attributes\":{},\"id\":\"1278\",\"type\":\"ResetTool\"}],\"root_ids\":[\"1259\"]},\"title\":\"Bokeh Application\",\"version\":\"2.3.3\"}};\n",
       "  var render_items = [{\"docid\":\"8fc7e9d5-c28e-453e-9342-fa7ec8eebcef\",\"root_ids\":[\"1259\"],\"roots\":{\"1259\":\"598b3521-bc88-48ff-98e4-5ae660480089\"}}];\n",
       "  root.Bokeh.embed.embed_items_notebook(docs_json, render_items);\n",
       "\n",
       "  }\n",
       "  if (root.Bokeh !== undefined) {\n",
       "    embed_document(root);\n",
       "  } else {\n",
       "    var attempts = 0;\n",
       "    var timer = setInterval(function(root) {\n",
       "      if (root.Bokeh !== undefined) {\n",
       "        clearInterval(timer);\n",
       "        embed_document(root);\n",
       "      } else {\n",
       "        attempts++;\n",
       "        if (attempts > 100) {\n",
       "          clearInterval(timer);\n",
       "          console.log(\"Bokeh: ERROR: Unable to run BokehJS code because BokehJS library is missing\");\n",
       "        }\n",
       "      }\n",
       "    }, 10, root)\n",
       "  }\n",
       "})(window);"
      ],
      "application/vnd.bokehjs_exec.v0+json": ""
     },
     "metadata": {
      "application/vnd.bokehjs_exec.v0+json": {
       "id": "1259"
      }
     },
     "output_type": "display_data"
    }
   ],
   "source": [
    "p = iqplot.stripbox(\n",
    "    data=df,\n",
    "    q='percent correct',\n",
    "    cats=['gender', 'sleeper'],\n",
    "    jitter=True,\n",
    ")\n",
    "\n",
    "bokeh.io.show(p)"
   ]
  },
  {
   "cell_type": "markdown",
   "metadata": {},
   "source": [
    "### Histogram\n",
    "\n",
    "For histograms, the number of bins are automatically chosen using the [Freedman-Diaconis rule](https://en.wikipedia.org/wiki/Freedman–Diaconis_rule)."
   ]
  },
  {
   "cell_type": "code",
   "execution_count": 7,
   "metadata": {},
   "outputs": [
    {
     "data": {
      "text/html": [
       "\n",
       "\n",
       "\n",
       "\n",
       "\n",
       "\n",
       "  <div class=\"bk-root\" id=\"b3870ffd-70ab-4af4-9864-95cba0d19e06\" data-root-id=\"1435\"></div>\n"
      ]
     },
     "metadata": {},
     "output_type": "display_data"
    },
    {
     "data": {
      "application/javascript": [
       "(function(root) {\n",
       "  function embed_document(root) {\n",
       "    \n",
       "  var docs_json = {\"5dc8391a-1d7d-4326-af4f-81fb9ec0ca8e\":{\"defs\":[],\"roots\":{\"references\":[{\"attributes\":{\"below\":[{\"id\":\"1443\"}],\"center\":[{\"id\":\"1446\"},{\"id\":\"1450\"}],\"frame_height\":275,\"frame_width\":375,\"left\":[{\"id\":\"1447\"}],\"renderers\":[{\"id\":\"1468\"},{\"id\":\"1473\"},{\"id\":\"1478\"},{\"id\":\"1483\"},{\"id\":\"1488\"},{\"id\":\"1493\"},{\"id\":\"1498\"},{\"id\":\"1503\"},{\"id\":\"1508\"},{\"id\":\"1513\"},{\"id\":\"1518\"},{\"id\":\"1523\"}],\"right\":[{\"id\":\"1525\"}],\"title\":{\"id\":\"1567\"},\"toolbar\":{\"id\":\"1458\"},\"toolbar_location\":\"above\",\"x_range\":{\"id\":\"1436\"},\"x_scale\":{\"id\":\"1439\"},\"y_range\":{\"id\":\"1434\"},\"y_scale\":{\"id\":\"1441\"}},\"id\":\"1435\",\"subtype\":\"Figure\",\"type\":\"Plot\"},{\"attributes\":{},\"id\":\"1580\",\"type\":\"Selection\"},{\"attributes\":{},\"id\":\"1581\",\"type\":\"UnionRenderers\"},{\"attributes\":{},\"id\":\"1582\",\"type\":\"Selection\"},{\"attributes\":{},\"id\":\"1583\",\"type\":\"UnionRenderers\"},{\"attributes\":{},\"id\":\"1584\",\"type\":\"Selection\"},{\"attributes\":{},\"id\":\"1444\",\"type\":\"BasicTicker\"},{\"attributes\":{},\"id\":\"1585\",\"type\":\"UnionRenderers\"},{\"attributes\":{},\"id\":\"1441\",\"type\":\"LinearScale\"},{\"attributes\":{},\"id\":\"1586\",\"type\":\"Selection\"},{\"attributes\":{},\"id\":\"1587\",\"type\":\"UnionRenderers\"},{\"attributes\":{},\"id\":\"1576\",\"type\":\"Selection\"},{\"attributes\":{},\"id\":\"1577\",\"type\":\"UnionRenderers\"},{\"attributes\":{\"axis\":{\"id\":\"1443\"},\"ticker\":null},\"id\":\"1446\",\"type\":\"Grid\"},{\"attributes\":{\"label\":{\"value\":\"female, normal\"},\"renderers\":[{\"id\":\"1488\"},{\"id\":\"1493\"}]},\"id\":\"1528\",\"type\":\"LegendItem\"},{\"attributes\":{\"click_policy\":\"hide\",\"items\":[{\"id\":\"1526\"},{\"id\":\"1527\"},{\"id\":\"1528\"},{\"id\":\"1529\"}],\"location\":\"top_left\"},\"id\":\"1525\",\"type\":\"Legend\"},{\"attributes\":{},\"id\":\"1588\",\"type\":\"Selection\"},{\"attributes\":{},\"id\":\"1439\",\"type\":\"LinearScale\"},{\"attributes\":{},\"id\":\"1436\",\"type\":\"DataRange1d\"},{\"attributes\":{},\"id\":\"1578\",\"type\":\"Selection\"},{\"attributes\":{},\"id\":\"1589\",\"type\":\"UnionRenderers\"},{\"attributes\":{\"label\":{\"value\":\"female, insomniac\"},\"renderers\":[{\"id\":\"1468\"},{\"id\":\"1473\"}]},\"id\":\"1526\",\"type\":\"LegendItem\"},{\"attributes\":{\"data_source\":{\"id\":\"1485\"},\"glyph\":{\"id\":\"1486\"},\"hover_glyph\":null,\"muted_glyph\":null,\"nonselection_glyph\":{\"id\":\"1487\"},\"view\":{\"id\":\"1489\"}},\"id\":\"1488\",\"type\":\"GlyphRenderer\"},{\"attributes\":{},\"id\":\"1579\",\"type\":\"UnionRenderers\"},{\"attributes\":{},\"id\":\"1567\",\"type\":\"Title\"},{\"attributes\":{\"axis_label\":\"percent correct\",\"formatter\":{\"id\":\"1574\"},\"major_label_policy\":{\"id\":\"1572\"},\"ticker\":{\"id\":\"1444\"}},\"id\":\"1443\",\"type\":\"LinearAxis\"},{\"attributes\":{\"label\":{\"value\":\"male, normal\"},\"renderers\":[{\"id\":\"1498\"},{\"id\":\"1503\"}]},\"id\":\"1529\",\"type\":\"LegendItem\"},{\"attributes\":{},\"id\":\"1452\",\"type\":\"WheelZoomTool\"},{\"attributes\":{\"data\":{\"x\":{\"__ndarray__\":\"AAAAAACARkAAAAAAAIBGQAAAAAAAgEtAAAAAAACAS0AAAAAAAEBQQAAAAAAAQFBAAAAAAADAUkAAAAAAAMBSQAAAAAAAQFVAAAAAAABAVUAAAAAAAMBXQAAAAAAAwFdA\",\"dtype\":\"float64\",\"order\":\"little\",\"shape\":[12]},\"y\":{\"__ndarray__\":\"AAAAAAAAAAAAAAAAAAAAQAAAAAAAAABAAAAAAAAAAEAAAAAAAAAAQAAAAAAAABhAAAAAAAAAGEAAAAAAAAAQQAAAAAAAABBAAAAAAAAAFEAAAAAAAAAUQAAAAAAAAAAA\",\"dtype\":\"float64\",\"order\":\"little\",\"shape\":[12]}},\"selected\":{\"id\":\"1576\"},\"selection_policy\":{\"id\":\"1577\"}},\"id\":\"1465\",\"type\":\"ColumnDataSource\"},{\"attributes\":{\"data\":{\"xs\":[[90.0,90.0],[82.5,82.5],[67.5,67.5],[85.0,85.0],[75.0,75.0],[97.5,97.5]],\"ys\":[[0,0.8],[0,0.8],[0,0.8],[0,0.8],[0,0.8],[0,0.8]]},\"selected\":{\"id\":\"1594\"},\"selection_policy\":{\"id\":\"1595\"}},\"id\":\"1510\",\"type\":\"ColumnDataSource\"},{\"attributes\":{\"data\":{\"xs\":[[72.5,72.5],[92.5,92.5],[87.5,87.5],[62.5,62.5],[50.0,50.0],[90.0,90.0],[75.0,75.0],[62.5,62.5],[95.0,95.0],[80.0,80.0],[80.0,80.0],[65.0,65.0],[70.0,70.0],[70.0,70.0],[80.0,80.0],[70.0,70.0],[87.5,87.5],[45.0,45.0],[70.0,70.0]],\"ys\":[[0,0.8],[0,0.8],[0,0.8],[0,0.8],[0,0.8],[0,0.8],[0,0.8],[0,0.8],[0,0.8],[0,0.8],[0,0.8],[0,0.8],[0,0.8],[0,0.8],[0,0.8],[0,0.8],[0,0.8],[0,0.8],[0,0.8]]},\"selected\":{\"id\":\"1592\"},\"selection_policy\":{\"id\":\"1593\"}},\"id\":\"1505\",\"type\":\"ColumnDataSource\"},{\"attributes\":{\"axis\":{\"id\":\"1447\"},\"dimension\":1,\"ticker\":null},\"id\":\"1450\",\"type\":\"Grid\"},{\"attributes\":{\"fill_alpha\":0.3,\"fill_color\":\"#2ba02b\",\"line_alpha\":0,\"line_color\":\"#2ba02b\",\"x\":{\"field\":\"x\"},\"y\":{\"field\":\"y\"}},\"id\":\"1491\",\"type\":\"Patch\"},{\"attributes\":{\"axis_label\":\"count\",\"formatter\":{\"id\":\"1571\"},\"major_label_policy\":{\"id\":\"1569\"},\"ticker\":{\"id\":\"1448\"}},\"id\":\"1447\",\"type\":\"LinearAxis\"},{\"attributes\":{\"data_source\":{\"id\":\"1510\"},\"glyph\":{\"id\":\"1511\"},\"hover_glyph\":null,\"muted_glyph\":null,\"nonselection_glyph\":{\"id\":\"1512\"},\"view\":{\"id\":\"1514\"}},\"id\":\"1513\",\"type\":\"GlyphRenderer\"},{\"attributes\":{},\"id\":\"1448\",\"type\":\"BasicTicker\"},{\"attributes\":{\"line_alpha\":{\"value\":0.5},\"line_color\":{\"value\":\"#ff7e0e\"},\"line_width\":{\"value\":0.5},\"xs\":{\"field\":\"xs\"},\"ys\":{\"field\":\"ys\"}},\"id\":\"1511\",\"type\":\"MultiLine\"},{\"attributes\":{\"source\":{\"id\":\"1495\"}},\"id\":\"1499\",\"type\":\"CDSView\"},{\"attributes\":{},\"id\":\"1590\",\"type\":\"Selection\"},{\"attributes\":{\"data\":{\"x\":{\"__ndarray__\":\"AAAAAACAS0AAAAAAAIBLQG7btm3btk5Abtu2bdu2TkBu27Zt2/ZQQG7btm3b9lBAJEmSJEmSUkAkSZIkSZJSQNy2bdu2LVRA3LZt27YtVECSJEmSJMlVQJIkSZIkyVVASZIkSZJkV0BJkiRJkmRXQAAAAAAAAFlAAAAAAAAAWUAAAAAAAABZQAAAAAAAgEtA\",\"dtype\":\"float64\",\"order\":\"little\",\"shape\":[18]},\"y\":{\"__ndarray__\":\"AAAAAAAAAAAAAAAAAAAIQAAAAAAAAAhAAAAAAAAAEEAAAAAAAAAQQAAAAAAAABRAAAAAAAAAFEAAAAAAAAAkQAAAAAAAACRAAAAAAAAAJkAAAAAAAAAmQAAAAAAAADBAAAAAAAAAMEAAAAAAAAAYQAAAAAAAABhAAAAAAAAAAAAAAAAAAAAAAAAAAAAAAAAA\",\"dtype\":\"float64\",\"order\":\"little\",\"shape\":[18]}},\"selected\":{\"id\":\"1586\"},\"selection_policy\":{\"id\":\"1587\"}},\"id\":\"1490\",\"type\":\"ColumnDataSource\"},{\"attributes\":{},\"id\":\"1456\",\"type\":\"HelpTool\"},{\"attributes\":{\"fill_alpha\":0.1,\"fill_color\":\"#2ba02b\",\"line_alpha\":0.1,\"line_color\":\"#2ba02b\",\"x\":{\"field\":\"x\"},\"y\":{\"field\":\"y\"}},\"id\":\"1492\",\"type\":\"Patch\"},{\"attributes\":{},\"id\":\"1451\",\"type\":\"PanTool\"},{\"attributes\":{\"overlay\":{\"id\":\"1457\"}},\"id\":\"1453\",\"type\":\"BoxZoomTool\"},{\"attributes\":{\"line_alpha\":{\"value\":0.5},\"line_color\":{\"value\":\"#1f77b3\"},\"line_width\":{\"value\":0.5},\"xs\":{\"field\":\"xs\"},\"ys\":{\"field\":\"ys\"}},\"id\":\"1506\",\"type\":\"MultiLine\"},{\"attributes\":{},\"id\":\"1591\",\"type\":\"UnionRenderers\"},{\"attributes\":{},\"id\":\"1454\",\"type\":\"SaveTool\"},{\"attributes\":{\"source\":{\"id\":\"1490\"}},\"id\":\"1494\",\"type\":\"CDSView\"},{\"attributes\":{},\"id\":\"1455\",\"type\":\"ResetTool\"},{\"attributes\":{\"line_alpha\":0.1,\"line_color\":\"#d62628\",\"line_width\":2,\"x\":{\"field\":\"x\"},\"y\":{\"field\":\"y\"}},\"id\":\"1497\",\"type\":\"Line\"},{\"attributes\":{\"fill_alpha\":0.3,\"fill_color\":\"#d62628\",\"line_alpha\":0,\"line_color\":\"#d62628\",\"x\":{\"field\":\"x\"},\"y\":{\"field\":\"y\"}},\"id\":\"1501\",\"type\":\"Patch\"},{\"attributes\":{\"data_source\":{\"id\":\"1490\"},\"glyph\":{\"id\":\"1491\"},\"hover_glyph\":null,\"muted_glyph\":null,\"nonselection_glyph\":{\"id\":\"1492\"},\"view\":{\"id\":\"1494\"}},\"id\":\"1493\",\"type\":\"GlyphRenderer\"},{\"attributes\":{\"line_color\":\"#d62628\",\"line_width\":2,\"x\":{\"field\":\"x\"},\"y\":{\"field\":\"y\"}},\"id\":\"1496\",\"type\":\"Line\"},{\"attributes\":{\"data_source\":{\"id\":\"1470\"},\"glyph\":{\"id\":\"1471\"},\"hover_glyph\":null,\"muted_glyph\":null,\"nonselection_glyph\":{\"id\":\"1472\"},\"view\":{\"id\":\"1474\"}},\"id\":\"1473\",\"type\":\"GlyphRenderer\"},{\"attributes\":{\"source\":{\"id\":\"1505\"}},\"id\":\"1509\",\"type\":\"CDSView\"},{\"attributes\":{\"fill_alpha\":0.1,\"fill_color\":\"#1f77b3\",\"line_alpha\":0.1,\"line_color\":\"#1f77b3\",\"x\":{\"field\":\"x\"},\"y\":{\"field\":\"y\"}},\"id\":\"1472\",\"type\":\"Patch\"},{\"attributes\":{\"data_source\":{\"id\":\"1495\"},\"glyph\":{\"id\":\"1496\"},\"hover_glyph\":null,\"muted_glyph\":null,\"nonselection_glyph\":{\"id\":\"1497\"},\"view\":{\"id\":\"1499\"}},\"id\":\"1498\",\"type\":\"GlyphRenderer\"},{\"attributes\":{\"fill_alpha\":0.3,\"fill_color\":\"#1f77b3\",\"line_alpha\":0,\"line_color\":\"#1f77b3\",\"x\":{\"field\":\"x\"},\"y\":{\"field\":\"y\"}},\"id\":\"1471\",\"type\":\"Patch\"},{\"attributes\":{\"line_color\":\"#1f77b3\",\"line_width\":2,\"x\":{\"field\":\"x\"},\"y\":{\"field\":\"y\"}},\"id\":\"1466\",\"type\":\"Line\"},{\"attributes\":{\"data\":{\"x\":{\"__ndarray__\":\"AAAAAAAAREAAAAAAAABEQNu2bdu27UdA27Zt27btR0C3bdu2bdtLQLdt27Zt20tAkiRJkiTJT0CSJEmSJMlPQLdt27Zt21FAt23btm3bUUAkSZIkSdJTQCRJkiRJ0lNAkiRJkiTJVUCSJEmSJMlVQAAAAAAAwFdAAAAAAADAV0AAAAAAAMBXQAAAAAAAAERA\",\"dtype\":\"float64\",\"order\":\"little\",\"shape\":[18]},\"y\":{\"__ndarray__\":\"AAAAAAAAAAAAAAAAAADwPwAAAAAAAPA/AAAAAAAAAAAAAAAAAAAAAAAAAAAAAPA/AAAAAAAA8D8AAAAAAADwPwAAAAAAAPA/AAAAAAAAGEAAAAAAAAAYQAAAAAAAABRAAAAAAAAAFEAAAAAAAAAgQAAAAAAAACBAAAAAAAAAAAAAAAAAAAAAAAAAAAAAAAAA\",\"dtype\":\"float64\",\"order\":\"little\",\"shape\":[18]}},\"selected\":{\"id\":\"1590\"},\"selection_policy\":{\"id\":\"1591\"}},\"id\":\"1500\",\"type\":\"ColumnDataSource\"},{\"attributes\":{\"source\":{\"id\":\"1470\"}},\"id\":\"1474\",\"type\":\"CDSView\"},{\"attributes\":{\"fill_alpha\":0.1,\"fill_color\":\"#d62628\",\"line_alpha\":0.1,\"line_color\":\"#d62628\",\"x\":{\"field\":\"x\"},\"y\":{\"field\":\"y\"}},\"id\":\"1502\",\"type\":\"Patch\"},{\"attributes\":{\"data\":{\"x\":{\"__ndarray__\":\"AAAAAACARkAAAAAAAIBGQAAAAAAAgEtAAAAAAACAS0AAAAAAAEBQQAAAAAAAQFBAAAAAAADAUkAAAAAAAMBSQAAAAAAAQFVAAAAAAABAVUAAAAAAAMBXQAAAAAAAwFdAAAAAAADAV0AAAAAAAIBGQA==\",\"dtype\":\"float64\",\"order\":\"little\",\"shape\":[14]},\"y\":{\"__ndarray__\":\"AAAAAAAAAAAAAAAAAAAAQAAAAAAAAABAAAAAAAAAAEAAAAAAAAAAQAAAAAAAABhAAAAAAAAAGEAAAAAAAAAQQAAAAAAAABBAAAAAAAAAFEAAAAAAAAAUQAAAAAAAAAAAAAAAAAAAAAAAAAAAAAAAAA==\",\"dtype\":\"float64\",\"order\":\"little\",\"shape\":[14]}},\"selected\":{\"id\":\"1578\"},\"selection_policy\":{\"id\":\"1579\"}},\"id\":\"1470\",\"type\":\"ColumnDataSource\"},{\"attributes\":{\"line_alpha\":{\"value\":0.1},\"line_color\":{\"value\":\"#1f77b3\"},\"line_width\":{\"value\":0.5},\"xs\":{\"field\":\"xs\"},\"ys\":{\"field\":\"ys\"}},\"id\":\"1507\",\"type\":\"MultiLine\"},{\"attributes\":{\"source\":{\"id\":\"1500\"}},\"id\":\"1504\",\"type\":\"CDSView\"},{\"attributes\":{},\"id\":\"1592\",\"type\":\"Selection\"},{\"attributes\":{\"line_alpha\":0.1,\"line_color\":\"#1f77b3\",\"line_width\":2,\"x\":{\"field\":\"x\"},\"y\":{\"field\":\"y\"}},\"id\":\"1467\",\"type\":\"Line\"},{\"attributes\":{\"source\":{\"id\":\"1510\"}},\"id\":\"1514\",\"type\":\"CDSView\"},{\"attributes\":{\"data_source\":{\"id\":\"1500\"},\"glyph\":{\"id\":\"1501\"},\"hover_glyph\":null,\"muted_glyph\":null,\"nonselection_glyph\":{\"id\":\"1502\"},\"view\":{\"id\":\"1504\"}},\"id\":\"1503\",\"type\":\"GlyphRenderer\"},{\"attributes\":{},\"id\":\"1593\",\"type\":\"UnionRenderers\"},{\"attributes\":{\"data_source\":{\"id\":\"1515\"},\"glyph\":{\"id\":\"1516\"},\"hover_glyph\":null,\"muted_glyph\":null,\"nonselection_glyph\":{\"id\":\"1517\"},\"view\":{\"id\":\"1519\"}},\"id\":\"1518\",\"type\":\"GlyphRenderer\"},{\"attributes\":{\"data\":{\"x\":{\"__ndarray__\":\"AAAAAACAS0AAAAAAAIBLQG7btm3btk5Abtu2bdu2TkBu27Zt2/ZQQG7btm3b9lBAJEmSJEmSUkAkSZIkSZJSQNy2bdu2LVRA3LZt27YtVECSJEmSJMlVQJIkSZIkyVVASZIkSZJkV0BJkiRJkmRXQAAAAAAAAFlAAAAAAAAAWUA=\",\"dtype\":\"float64\",\"order\":\"little\",\"shape\":[16]},\"y\":{\"__ndarray__\":\"AAAAAAAAAAAAAAAAAAAIQAAAAAAAAAhAAAAAAAAAEEAAAAAAAAAQQAAAAAAAABRAAAAAAAAAFEAAAAAAAAAkQAAAAAAAACRAAAAAAAAAJkAAAAAAAAAmQAAAAAAAADBAAAAAAAAAMEAAAAAAAAAYQAAAAAAAABhAAAAAAAAAAAA=\",\"dtype\":\"float64\",\"order\":\"little\",\"shape\":[16]}},\"selected\":{\"id\":\"1584\"},\"selection_policy\":{\"id\":\"1585\"}},\"id\":\"1485\",\"type\":\"ColumnDataSource\"},{\"attributes\":{\"data_source\":{\"id\":\"1520\"},\"glyph\":{\"id\":\"1521\"},\"hover_glyph\":null,\"muted_glyph\":null,\"nonselection_glyph\":{\"id\":\"1522\"},\"view\":{\"id\":\"1524\"}},\"id\":\"1523\",\"type\":\"GlyphRenderer\"},{\"attributes\":{\"source\":{\"id\":\"1480\"}},\"id\":\"1484\",\"type\":\"CDSView\"},{\"attributes\":{\"line_alpha\":{\"value\":0.5},\"line_color\":{\"value\":\"#2ba02b\"},\"line_width\":{\"value\":0.5},\"xs\":{\"field\":\"xs\"},\"ys\":{\"field\":\"ys\"}},\"id\":\"1516\",\"type\":\"MultiLine\"},{\"attributes\":{\"data\":{\"xs\":[[72.5,72.5],[85.0,85.0],[75.0,75.0],[67.5,67.5],[95.0,95.0],[87.5,87.5],[92.5,92.5],[100.0,100.0],[70.0,70.0],[85.0,85.0],[92.5,92.5],[65.0,65.0],[80.0,80.0],[90.0,90.0],[87.5,87.5],[75.0,75.0],[77.5,77.5],[72.5,72.5],[87.5,87.5],[87.5,87.5],[90.0,90.0],[87.5,87.5],[90.0,90.0],[80.0,80.0],[85.0,85.0],[85.0,85.0],[85.0,85.0],[85.0,85.0],[85.0,85.0],[90.0,90.0],[100.0,100.0],[85.0,85.0],[87.5,87.5],[97.5,97.5],[92.5,92.5],[100.0,100.0],[60.0,60.0],[95.0,95.0],[77.5,77.5],[77.5,77.5],[82.5,82.5],[87.5,87.5],[85.0,85.0],[77.5,77.5],[62.5,62.5],[72.5,72.5],[85.0,85.0],[92.5,92.5],[55.0,55.0],[60.0,60.0],[77.5,77.5],[87.5,87.5],[75.0,75.0],[70.0,70.0],[62.5,62.5]],\"ys\":[[0,0.8],[0,0.8],[0,0.8],[0,0.8],[0,0.8],[0,0.8],[0,0.8],[0,0.8],[0,0.8],[0,0.8],[0,0.8],[0,0.8],[0,0.8],[0,0.8],[0,0.8],[0,0.8],[0,0.8],[0,0.8],[0,0.8],[0,0.8],[0,0.8],[0,0.8],[0,0.8],[0,0.8],[0,0.8],[0,0.8],[0,0.8],[0,0.8],[0,0.8],[0,0.8],[0,0.8],[0,0.8],[0,0.8],[0,0.8],[0,0.8],[0,0.8],[0,0.8],[0,0.8],[0,0.8],[0,0.8],[0,0.8],[0,0.8],[0,0.8],[0,0.8],[0,0.8],[0,0.8],[0,0.8],[0,0.8],[0,0.8],[0,0.8],[0,0.8],[0,0.8],[0,0.8],[0,0.8],[0,0.8]]},\"selected\":{\"id\":\"1596\"},\"selection_policy\":{\"id\":\"1597\"}},\"id\":\"1515\",\"type\":\"ColumnDataSource\"},{\"attributes\":{\"bottom_units\":\"screen\",\"fill_alpha\":0.5,\"fill_color\":\"lightgrey\",\"left_units\":\"screen\",\"level\":\"overlay\",\"line_alpha\":1.0,\"line_color\":\"black\",\"line_dash\":[4,4],\"line_width\":2,\"right_units\":\"screen\",\"syncable\":false,\"top_units\":\"screen\"},\"id\":\"1457\",\"type\":\"BoxAnnotation\"},{\"attributes\":{\"line_alpha\":{\"value\":0.1},\"line_color\":{\"value\":\"#ff7e0e\"},\"line_width\":{\"value\":0.5},\"xs\":{\"field\":\"xs\"},\"ys\":{\"field\":\"ys\"}},\"id\":\"1512\",\"type\":\"MultiLine\"},{\"attributes\":{\"source\":{\"id\":\"1515\"}},\"id\":\"1519\",\"type\":\"CDSView\"},{\"attributes\":{\"line_alpha\":{\"value\":0.5},\"line_color\":{\"value\":\"#d62628\"},\"line_width\":{\"value\":0.5},\"xs\":{\"field\":\"xs\"},\"ys\":{\"field\":\"ys\"}},\"id\":\"1521\",\"type\":\"MultiLine\"},{\"attributes\":{\"data\":{\"xs\":[[90.0,90.0],[85.0,85.0],[77.5,77.5],[92.5,92.5],[57.5,57.5],[95.0,95.0],[77.5,77.5],[80.0,80.0],[92.5,92.5],[67.5,67.5],[72.5,72.5],[85.0,85.0],[80.0,80.0],[77.5,77.5],[77.5,77.5],[40.0,40.0],[87.5,87.5],[85.0,85.0],[72.5,72.5],[90.0,90.0],[90.0,90.0],[87.5,87.5]],\"ys\":[[0,0.8],[0,0.8],[0,0.8],[0,0.8],[0,0.8],[0,0.8],[0,0.8],[0,0.8],[0,0.8],[0,0.8],[0,0.8],[0,0.8],[0,0.8],[0,0.8],[0,0.8],[0,0.8],[0,0.8],[0,0.8],[0,0.8],[0,0.8],[0,0.8],[0,0.8]]},\"selected\":{\"id\":\"1598\"},\"selection_policy\":{\"id\":\"1599\"}},\"id\":\"1520\",\"type\":\"ColumnDataSource\"},{\"attributes\":{},\"id\":\"1594\",\"type\":\"Selection\"},{\"attributes\":{\"line_alpha\":{\"value\":0.1},\"line_color\":{\"value\":\"#2ba02b\"},\"line_width\":{\"value\":0.5},\"xs\":{\"field\":\"xs\"},\"ys\":{\"field\":\"ys\"}},\"id\":\"1517\",\"type\":\"MultiLine\"},{\"attributes\":{\"source\":{\"id\":\"1520\"}},\"id\":\"1524\",\"type\":\"CDSView\"},{\"attributes\":{},\"id\":\"1595\",\"type\":\"UnionRenderers\"},{\"attributes\":{\"start\":0},\"id\":\"1434\",\"type\":\"DataRange1d\"},{\"attributes\":{\"line_alpha\":{\"value\":0.1},\"line_color\":{\"value\":\"#d62628\"},\"line_width\":{\"value\":0.5},\"xs\":{\"field\":\"xs\"},\"ys\":{\"field\":\"ys\"}},\"id\":\"1522\",\"type\":\"MultiLine\"},{\"attributes\":{},\"id\":\"1569\",\"type\":\"AllLabels\"},{\"attributes\":{\"source\":{\"id\":\"1475\"}},\"id\":\"1479\",\"type\":\"CDSView\"},{\"attributes\":{\"active_multi\":null,\"tools\":[{\"id\":\"1451\"},{\"id\":\"1452\"},{\"id\":\"1453\"},{\"id\":\"1454\"},{\"id\":\"1455\"},{\"id\":\"1456\"}]},\"id\":\"1458\",\"type\":\"Toolbar\"},{\"attributes\":{},\"id\":\"1596\",\"type\":\"Selection\"},{\"attributes\":{\"data_source\":{\"id\":\"1480\"},\"glyph\":{\"id\":\"1481\"},\"hover_glyph\":null,\"muted_glyph\":null,\"nonselection_glyph\":{\"id\":\"1482\"},\"view\":{\"id\":\"1484\"}},\"id\":\"1483\",\"type\":\"GlyphRenderer\"},{\"attributes\":{},\"id\":\"1571\",\"type\":\"BasicTickFormatter\"},{\"attributes\":{},\"id\":\"1572\",\"type\":\"AllLabels\"},{\"attributes\":{\"label\":{\"value\":\"male, insomniac\"},\"renderers\":[{\"id\":\"1478\"},{\"id\":\"1483\"}]},\"id\":\"1527\",\"type\":\"LegendItem\"},{\"attributes\":{},\"id\":\"1597\",\"type\":\"UnionRenderers\"},{\"attributes\":{\"data_source\":{\"id\":\"1475\"},\"glyph\":{\"id\":\"1476\"},\"hover_glyph\":null,\"muted_glyph\":null,\"nonselection_glyph\":{\"id\":\"1477\"},\"view\":{\"id\":\"1479\"}},\"id\":\"1478\",\"type\":\"GlyphRenderer\"},{\"attributes\":{},\"id\":\"1574\",\"type\":\"BasicTickFormatter\"},{\"attributes\":{\"source\":{\"id\":\"1485\"}},\"id\":\"1489\",\"type\":\"CDSView\"},{\"attributes\":{\"data\":{\"x\":{\"__ndarray__\":\"AAAAAAAAREAAAAAAAABEQNu2bdu27UdA27Zt27btR0C3bdu2bdtLQLdt27Zt20tAkiRJkiTJT0CSJEmSJMlPQLdt27Zt21FAt23btm3bUUAkSZIkSdJTQCRJkiRJ0lNAkiRJkiTJVUCSJEmSJMlVQAAAAAAAwFdAAAAAAADAV0A=\",\"dtype\":\"float64\",\"order\":\"little\",\"shape\":[16]},\"y\":{\"__ndarray__\":\"AAAAAAAAAAAAAAAAAADwPwAAAAAAAPA/AAAAAAAAAAAAAAAAAAAAAAAAAAAAAPA/AAAAAAAA8D8AAAAAAADwPwAAAAAAAPA/AAAAAAAAGEAAAAAAAAAYQAAAAAAAABRAAAAAAAAAFEAAAAAAAAAgQAAAAAAAACBAAAAAAAAAAAA=\",\"dtype\":\"float64\",\"order\":\"little\",\"shape\":[16]}},\"selected\":{\"id\":\"1588\"},\"selection_policy\":{\"id\":\"1589\"}},\"id\":\"1495\",\"type\":\"ColumnDataSource\"},{\"attributes\":{\"data\":{\"x\":{\"__ndarray__\":\"AAAAAADgUEAAAAAAAOBQQAAAAAAAYFNAAAAAAABgU0AAAAAAAOBVQAAAAAAA4FVAAAAAAABgWEAAAAAAAGBYQA==\",\"dtype\":\"float64\",\"order\":\"little\",\"shape\":[8]},\"y\":{\"__ndarray__\":\"AAAAAAAAAAAAAAAAAAAAQAAAAAAAAABAAAAAAAAAAEAAAAAAAAAAQAAAAAAAAABAAAAAAAAAAEAAAAAAAAAAAA==\",\"dtype\":\"float64\",\"order\":\"little\",\"shape\":[8]}},\"selected\":{\"id\":\"1580\"},\"selection_policy\":{\"id\":\"1581\"}},\"id\":\"1475\",\"type\":\"ColumnDataSource\"},{\"attributes\":{},\"id\":\"1598\",\"type\":\"Selection\"},{\"attributes\":{\"line_alpha\":0.1,\"line_color\":\"#2ba02b\",\"line_width\":2,\"x\":{\"field\":\"x\"},\"y\":{\"field\":\"y\"}},\"id\":\"1487\",\"type\":\"Line\"},{\"attributes\":{\"line_color\":\"#ff7e0e\",\"line_width\":2,\"x\":{\"field\":\"x\"},\"y\":{\"field\":\"y\"}},\"id\":\"1476\",\"type\":\"Line\"},{\"attributes\":{},\"id\":\"1599\",\"type\":\"UnionRenderers\"},{\"attributes\":{\"source\":{\"id\":\"1465\"}},\"id\":\"1469\",\"type\":\"CDSView\"},{\"attributes\":{\"line_alpha\":0.1,\"line_color\":\"#ff7e0e\",\"line_width\":2,\"x\":{\"field\":\"x\"},\"y\":{\"field\":\"y\"}},\"id\":\"1477\",\"type\":\"Line\"},{\"attributes\":{\"data_source\":{\"id\":\"1465\"},\"glyph\":{\"id\":\"1466\"},\"hover_glyph\":null,\"muted_glyph\":null,\"nonselection_glyph\":{\"id\":\"1467\"},\"view\":{\"id\":\"1469\"}},\"id\":\"1468\",\"type\":\"GlyphRenderer\"},{\"attributes\":{\"fill_alpha\":0.3,\"fill_color\":\"#ff7e0e\",\"line_alpha\":0,\"line_color\":\"#ff7e0e\",\"x\":{\"field\":\"x\"},\"y\":{\"field\":\"y\"}},\"id\":\"1481\",\"type\":\"Patch\"},{\"attributes\":{\"data_source\":{\"id\":\"1505\"},\"glyph\":{\"id\":\"1506\"},\"hover_glyph\":null,\"muted_glyph\":null,\"nonselection_glyph\":{\"id\":\"1507\"},\"view\":{\"id\":\"1509\"}},\"id\":\"1508\",\"type\":\"GlyphRenderer\"},{\"attributes\":{\"data\":{\"x\":{\"__ndarray__\":\"AAAAAADgUEAAAAAAAOBQQAAAAAAAYFNAAAAAAABgU0AAAAAAAOBVQAAAAAAA4FVAAAAAAABgWEAAAAAAAGBYQAAAAAAAYFhAAAAAAADgUEA=\",\"dtype\":\"float64\",\"order\":\"little\",\"shape\":[10]},\"y\":{\"__ndarray__\":\"AAAAAAAAAAAAAAAAAAAAQAAAAAAAAABAAAAAAAAAAEAAAAAAAAAAQAAAAAAAAABAAAAAAAAAAEAAAAAAAAAAAAAAAAAAAAAAAAAAAAAAAAA=\",\"dtype\":\"float64\",\"order\":\"little\",\"shape\":[10]}},\"selected\":{\"id\":\"1582\"},\"selection_policy\":{\"id\":\"1583\"}},\"id\":\"1480\",\"type\":\"ColumnDataSource\"},{\"attributes\":{\"fill_alpha\":0.1,\"fill_color\":\"#ff7e0e\",\"line_alpha\":0.1,\"line_color\":\"#ff7e0e\",\"x\":{\"field\":\"x\"},\"y\":{\"field\":\"y\"}},\"id\":\"1482\",\"type\":\"Patch\"},{\"attributes\":{\"line_color\":\"#2ba02b\",\"line_width\":2,\"x\":{\"field\":\"x\"},\"y\":{\"field\":\"y\"}},\"id\":\"1486\",\"type\":\"Line\"}],\"root_ids\":[\"1435\"]},\"title\":\"Bokeh Application\",\"version\":\"2.3.3\"}};\n",
       "  var render_items = [{\"docid\":\"5dc8391a-1d7d-4326-af4f-81fb9ec0ca8e\",\"root_ids\":[\"1435\"],\"roots\":{\"1435\":\"b3870ffd-70ab-4af4-9864-95cba0d19e06\"}}];\n",
       "  root.Bokeh.embed.embed_items_notebook(docs_json, render_items);\n",
       "\n",
       "  }\n",
       "  if (root.Bokeh !== undefined) {\n",
       "    embed_document(root);\n",
       "  } else {\n",
       "    var attempts = 0;\n",
       "    var timer = setInterval(function(root) {\n",
       "      if (root.Bokeh !== undefined) {\n",
       "        clearInterval(timer);\n",
       "        embed_document(root);\n",
       "      } else {\n",
       "        attempts++;\n",
       "        if (attempts > 100) {\n",
       "          clearInterval(timer);\n",
       "          console.log(\"Bokeh: ERROR: Unable to run BokehJS code because BokehJS library is missing\");\n",
       "        }\n",
       "      }\n",
       "    }, 10, root)\n",
       "  }\n",
       "})(window);"
      ],
      "application/vnd.bokehjs_exec.v0+json": ""
     },
     "metadata": {
      "application/vnd.bokehjs_exec.v0+json": {
       "id": "1435"
      }
     },
     "output_type": "display_data"
    }
   ],
   "source": [
    "p = iqplot.histogram(\n",
    "    data=df,\n",
    "    q='percent correct',\n",
    "    cats=['gender', 'sleeper'],\n",
    ")\n",
    "\n",
    "p.legend.location = 'top_left'\n",
    "\n",
    "bokeh.io.show(p)"
   ]
  },
  {
   "cell_type": "markdown",
   "metadata": {},
   "source": [
    "### ECDF"
   ]
  },
  {
   "cell_type": "code",
   "execution_count": 8,
   "metadata": {},
   "outputs": [
    {
     "data": {
      "text/html": [
       "\n",
       "\n",
       "\n",
       "\n",
       "\n",
       "\n",
       "  <div class=\"bk-root\" id=\"a9aa1895-13a8-4219-989f-81cafcc49a0e\" data-root-id=\"1765\"></div>\n"
      ]
     },
     "metadata": {},
     "output_type": "display_data"
    },
    {
     "data": {
      "application/javascript": [
       "(function(root) {\n",
       "  function embed_document(root) {\n",
       "    \n",
       "  var docs_json = {\"07c3b110-db79-43ae-a162-e7900c45c624\":{\"defs\":[],\"roots\":{\"references\":[{\"attributes\":{\"below\":[{\"id\":\"1774\"}],\"center\":[{\"id\":\"1777\"},{\"id\":\"1781\"}],\"frame_height\":275,\"frame_width\":375,\"left\":[{\"id\":\"1778\"}],\"renderers\":[{\"id\":\"1799\"},{\"id\":\"1804\"},{\"id\":\"1809\"},{\"id\":\"1814\"},{\"id\":\"1819\"},{\"id\":\"1824\"},{\"id\":\"1829\"},{\"id\":\"1834\"},{\"id\":\"1839\"},{\"id\":\"1844\"},{\"id\":\"1849\"},{\"id\":\"1854\"}],\"right\":[{\"id\":\"1856\"}],\"title\":{\"id\":\"1931\"},\"toolbar\":{\"id\":\"1789\"},\"toolbar_location\":\"above\",\"x_range\":{\"id\":\"1766\"},\"x_scale\":{\"id\":\"1770\"},\"y_range\":{\"id\":\"1768\"},\"y_scale\":{\"id\":\"1772\"}},\"id\":\"1765\",\"subtype\":\"Figure\",\"type\":\"Plot\"},{\"attributes\":{},\"id\":\"1948\",\"type\":\"Selection\"},{\"attributes\":{},\"id\":\"1960\",\"type\":\"Selection\"},{\"attributes\":{},\"id\":\"1949\",\"type\":\"UnionRenderers\"},{\"attributes\":{},\"id\":\"1961\",\"type\":\"UnionRenderers\"},{\"attributes\":{},\"id\":\"1950\",\"type\":\"Selection\"},{\"attributes\":{},\"id\":\"1962\",\"type\":\"Selection\"},{\"attributes\":{\"label\":{\"value\":\"male, insomniac\"},\"renderers\":[{\"id\":\"1814\"}]},\"id\":\"1858\",\"type\":\"LegendItem\"},{\"attributes\":{},\"id\":\"1951\",\"type\":\"UnionRenderers\"},{\"attributes\":{},\"id\":\"1935\",\"type\":\"BasicTickFormatter\"},{\"attributes\":{},\"id\":\"1963\",\"type\":\"UnionRenderers\"},{\"attributes\":{},\"id\":\"1936\",\"type\":\"AllLabels\"},{\"attributes\":{},\"id\":\"1938\",\"type\":\"BasicTickFormatter\"},{\"attributes\":{},\"id\":\"1940\",\"type\":\"Selection\"},{\"attributes\":{\"label\":{\"value\":\"female, normal\"},\"renderers\":[{\"id\":\"1829\"}]},\"id\":\"1859\",\"type\":\"LegendItem\"},{\"attributes\":{},\"id\":\"1941\",\"type\":\"UnionRenderers\"},{\"attributes\":{\"label\":{\"value\":\"male, normal\"},\"renderers\":[{\"id\":\"1844\"}]},\"id\":\"1860\",\"type\":\"LegendItem\"},{\"attributes\":{},\"id\":\"1952\",\"type\":\"Selection\"},{\"attributes\":{\"label\":{\"value\":\"female, insomniac\"},\"renderers\":[{\"id\":\"1799\"}]},\"id\":\"1857\",\"type\":\"LegendItem\"},{\"attributes\":{},\"id\":\"1953\",\"type\":\"UnionRenderers\"},{\"attributes\":{\"data_source\":{\"id\":\"1826\"},\"glyph\":{\"id\":\"1827\"},\"hover_glyph\":null,\"muted_glyph\":null,\"nonselection_glyph\":{\"id\":\"1828\"},\"view\":{\"id\":\"1830\"}},\"id\":\"1829\",\"type\":\"GlyphRenderer\"},{\"attributes\":{\"data\":{\"x\":{\"__ndarray__\":\"AAAAAACAS0AAAAAAAIBLQAAAAAAAAE5AAAAAAAAATkAAAAAAAABOQAAAAAAAAE5AAAAAAABAT0AAAAAAAEBPQAAAAAAAQE9AAAAAAABAT0AAAAAAAEBQQAAAAAAAQFBAAAAAAADgUEAAAAAAAOBQQAAAAAAAgFFAAAAAAACAUUAAAAAAAIBRQAAAAAAAgFFAAAAAAAAgUkAAAAAAACBSQAAAAAAAIFJAAAAAAAAgUkAAAAAAACBSQAAAAAAAIFJAAAAAAADAUkAAAAAAAMBSQAAAAAAAwFJAAAAAAADAUkAAAAAAAMBSQAAAAAAAwFJAAAAAAABgU0AAAAAAAGBTQAAAAAAAYFNAAAAAAABgU0AAAAAAAGBTQAAAAAAAYFNAAAAAAABgU0AAAAAAAGBTQAAAAAAAYFNAAAAAAABgU0AAAAAAAABUQAAAAAAAAFRAAAAAAAAAVEAAAAAAAABUQAAAAAAAoFRAAAAAAACgVEAAAAAAAEBVQAAAAAAAQFVAAAAAAABAVUAAAAAAAEBVQAAAAAAAQFVAAAAAAABAVUAAAAAAAEBVQAAAAAAAQFVAAAAAAABAVUAAAAAAAEBVQAAAAAAAQFVAAAAAAABAVUAAAAAAAEBVQAAAAAAAQFVAAAAAAABAVUAAAAAAAEBVQAAAAAAAQFVAAAAAAABAVUAAAAAAAEBVQAAAAAAAQFVAAAAAAADgVUAAAAAAAOBVQAAAAAAA4FVAAAAAAADgVUAAAAAAAOBVQAAAAAAA4FVAAAAAAADgVUAAAAAAAOBVQAAAAAAA4FVAAAAAAADgVUAAAAAAAOBVQAAAAAAA4FVAAAAAAADgVUAAAAAAAOBVQAAAAAAA4FVAAAAAAADgVUAAAAAAAIBWQAAAAAAAgFZAAAAAAACAVkAAAAAAAIBWQAAAAAAAgFZAAAAAAACAVkAAAAAAAIBWQAAAAAAAgFZAAAAAAAAgV0AAAAAAACBXQAAAAAAAIFdAAAAAAAAgV0AAAAAAACBXQAAAAAAAIFdAAAAAAAAgV0AAAAAAACBXQAAAAAAAwFdAAAAAAADAV0AAAAAAAMBXQAAAAAAAwFdAAAAAAABgWEAAAAAAAGBYQAAAAAAAAFlAAAAAAAAAWUAAAAAAAABZQAAAAAAAAFlAAAAAAAAAWUAAAAAAAABZQA==\",\"dtype\":\"float64\",\"order\":\"little\",\"shape\":[110]},\"y\":{\"__ndarray__\":\"AAAAAAAAAACeEuQpQZ6SP54S5ClBnpI/nhLkKUGeoj+eEuQpQZ6iP+0b1r5h7as/7RvWvmHtqz+eEuQpQZ6yP54S5ClBnrI/RhdddNFFtz9GF1100UW3P+0b1r5h7bs/7RvWvmHtuz9KkKcEeUrAP0qQpwR5SsA/nhLkKUGewj+eEuQpQZ7CP/KUIE8J8sQ/8pQgTwnyxD9GF1100UXHP0YXXXTRRcc/mpmZmZmZyT+amZmZmZnJP+0b1r5h7cs/7RvWvmHtyz9BnhLkKUHOP0GeEuQpQc4/SpCnBHlK0D9KkKcEeUrQP3TRRRdddNE/dNFFF1100T+eEuQpQZ7SP54S5ClBntI/yFOCPCXI0z/IU4I8JcjTP/KUIE8J8tQ/8pQgTwny1D8c1r5h7RvWPxzWvmHtG9Y/RhdddNFF1z9GF1100UXXP3BY+4a1b9g/cFj7hrVv2D+amZmZmZnZP5qZmZmZmdk/w9o3rH3D2j/D2jesfcPaP+0b1r5h7ds/7RvWvmHt2z8XXXTRRRfdPxdddNFFF90/QZ4S5ClB3j9BnhLkKUHeP2vfsPYNa98/a9+w9g1r3z9KkKcEeUrgP0qQpwR5SuA/37D2DWvf4D/fsPYNa9/gP3TRRRdddOE/dNFFF1104T8J8pQgTwniPwnylCBPCeI/nhLkKUGe4j+eEuQpQZ7iPzMzMzMzM+M/MzMzMzMz4z/IU4I8JcjjP8hTgjwlyOM/XXTRRRdd5D9ddNFFF13kP/KUIE8J8uQ/8pQgTwny5D+HtW9Y+4blP4e1b1j7huU/HNa+Ye0b5j8c1r5h7RvmP7H2DWvfsOY/sfYNa9+w5j9GF1100UXnP0YXXXTRRec/2zesfcPa5z/bN6x9w9rnP3BY+4a1b+g/cFj7hrVv6D8FeUqQpwTpPwV5SpCnBOk/mpmZmZmZ6T+amZmZmZnpPy+66KKLLuo/L7rooosu6j/D2jesfcPqP8PaN6x9w+o/WPuGtW9Y6z9Y+4a1b1jrP+0b1r5h7es/7RvWvmHt6z+CPCXIU4LsP4I8JchTguw/F1100UUX7T8XXXTRRRftP6x9w9o3rO0/rH3D2jes7T9BnhLkKUHuP0GeEuQpQe4/1r5h7RvW7j/WvmHtG9buP2vfsPYNa+8/a9+w9g1r7z8AAAAAAADwPw==\",\"dtype\":\"float64\",\"order\":\"little\",\"shape\":[110]}},\"selected\":{\"id\":\"1952\"},\"selection_policy\":{\"id\":\"1953\"}},\"id\":\"1826\",\"type\":\"ColumnDataSource\"},{\"attributes\":{},\"id\":\"1942\",\"type\":\"Selection\"},{\"attributes\":{\"data_source\":{\"id\":\"1811\"},\"glyph\":{\"id\":\"1812\"},\"hover_glyph\":null,\"muted_glyph\":null,\"nonselection_glyph\":{\"id\":\"1813\"},\"view\":{\"id\":\"1815\"}},\"id\":\"1814\",\"type\":\"GlyphRenderer\"},{\"attributes\":{},\"id\":\"1943\",\"type\":\"UnionRenderers\"},{\"attributes\":{\"data_source\":{\"id\":\"1841\"},\"glyph\":{\"id\":\"1842\"},\"hover_glyph\":null,\"muted_glyph\":null,\"nonselection_glyph\":{\"id\":\"1843\"},\"view\":{\"id\":\"1845\"}},\"id\":\"1844\",\"type\":\"GlyphRenderer\"},{\"attributes\":{},\"id\":\"1954\",\"type\":\"Selection\"},{\"attributes\":{\"line_color\":\"#ff7e0e\",\"line_width\":2,\"x\":{\"field\":\"x\"},\"y\":{\"field\":\"y\"}},\"id\":\"1812\",\"type\":\"Line\"},{\"attributes\":{},\"id\":\"1955\",\"type\":\"UnionRenderers\"},{\"attributes\":{\"data_source\":{\"id\":\"1796\"},\"glyph\":{\"id\":\"1797\"},\"hover_glyph\":null,\"muted_glyph\":null,\"nonselection_glyph\":{\"id\":\"1798\"},\"view\":{\"id\":\"1800\"}},\"id\":\"1799\",\"type\":\"GlyphRenderer\"},{\"attributes\":{\"data\":{\"x\":{\"__ndarray__\":\"AAAAAACARkAAAAAAAIBGQAAAAAAAAElAAAAAAAAASUAAAAAAAEBPQAAAAAAAQE9AAAAAAABAT0AAAAAAAEBPQAAAAAAAQFBAAAAAAABAUEAAAAAAAIBRQAAAAAAAgFFAAAAAAACAUUAAAAAAAIBRQAAAAAAAgFFAAAAAAACAUUAAAAAAAIBRQAAAAAAAgFFAAAAAAAAgUkAAAAAAACBSQAAAAAAAwFJAAAAAAADAUkAAAAAAAABUQAAAAAAAAFRAAAAAAAAAVEAAAAAAAABUQAAAAAAAAFRAAAAAAAAAVEAAAAAAAOBVQAAAAAAA4FVAAAAAAADgVUAAAAAAAOBVQAAAAAAAgFZAAAAAAACAVkAAAAAAACBXQAAAAAAAIFdAAAAAAADAV0AAAAAAAMBXQA==\",\"dtype\":\"float64\",\"order\":\"little\",\"shape\":[38]},\"y\":{\"__ndarray__\":\"AAAAAAAAAAAor6G8hvKqPyivobyG8qo/KK+hvIbyuj8or6G8hvK6P15DeQ3lNcQ/XkN5DeU1xD8or6G8hvLKPyivobyG8so/eQ3lNZTX0D95DeU1lNfQP15DeQ3lNdQ/XkN5DeU11D9DeQ3lNZTXP0N5DeU1lNc/KK+hvIby2j8or6G8hvLaPw3lNZTXUN4/DeU1lNdQ3j95DeU1lNfgP3kN5TWU1+A/bCivobyG4j9sKK+hvIbiP15DeQ3lNeQ/XkN5DeU15D9RXkN5DeXlP1FeQ3kN5eU/Q3kN5TWU5z9DeQ3lNZTnPzaU11BeQ+k/NpTXUF5D6T8or6G8hvLqPyivobyG8uo/G8prKK+h7D8bymsor6HsPw3lNZTXUO4/DeU1lNdQ7j8AAAAAAADwPw==\",\"dtype\":\"float64\",\"order\":\"little\",\"shape\":[38]}},\"selected\":{\"id\":\"1940\"},\"selection_policy\":{\"id\":\"1941\"}},\"id\":\"1796\",\"type\":\"ColumnDataSource\"},{\"attributes\":{\"line_color\":\"#1f77b3\",\"line_width\":2,\"x\":{\"field\":\"x\"},\"y\":{\"field\":\"y\"}},\"id\":\"1797\",\"type\":\"Line\"},{\"attributes\":{},\"id\":\"1944\",\"type\":\"Selection\"},{\"attributes\":{\"source\":{\"id\":\"1806\"}},\"id\":\"1810\",\"type\":\"CDSView\"},{\"attributes\":{\"data\":{\"x\":{\"__ndarray__\":\"AAAAAAAAREAAAAAAAABEQAAAAAAAwExAAAAAAADATEAAAAAAAOBQQAAAAAAA4FBAAAAAAAAgUkAAAAAAACBSQAAAAAAAIFJAAAAAAAAgUkAAAAAAAGBTQAAAAAAAYFNAAAAAAABgU0AAAAAAAGBTQAAAAAAAYFNAAAAAAABgU0AAAAAAAGBTQAAAAAAAYFNAAAAAAAAAVEAAAAAAAABUQAAAAAAAAFRAAAAAAAAAVEAAAAAAAEBVQAAAAAAAQFVAAAAAAABAVUAAAAAAAEBVQAAAAAAAQFVAAAAAAABAVUAAAAAAAOBVQAAAAAAA4FVAAAAAAADgVUAAAAAAAOBVQAAAAAAAgFZAAAAAAACAVkAAAAAAAIBWQAAAAAAAgFZAAAAAAACAVkAAAAAAAIBWQAAAAAAAIFdAAAAAAAAgV0AAAAAAACBXQAAAAAAAIFdAAAAAAADAV0AAAAAAAMBXQA==\",\"dtype\":\"float64\",\"order\":\"little\",\"shape\":[44]},\"y\":{\"__ndarray__\":\"AAAAAAAAAABGF1100UWnP0YXXXTRRac/RhdddNFFtz9GF1100UW3P3TRRRdddME/dNFFF110wT9GF1100UXHP0YXXXTRRcc/F1100UUXzT8XXXTRRRfNP3TRRRdddNE/dNFFF1100T9ddNFFF13UP1100UUXXdQ/RhdddNFF1z9GF1100UXXPy+66KKLLto/L7rooosu2j8XXXTRRRfdPxdddNFFF90/AAAAAAAA4D8AAAAAAADgP3TRRRdddOE/dNFFF1104T/poosuuujiP+miiy666OI/XXTRRRdd5D9ddNFFF13kP9FFF1100eU/0UUXXXTR5T9GF1100UXnP0YXXXTRRec/uuiiiy666D+66KKLLrroPy+66KKLLuo/L7rooosu6j+jiy666KLrP6OLLrroous/F1100UUX7T8XXXTRRRftP4wuuuiii+4/jC666KKL7j8AAAAAAADwPw==\",\"dtype\":\"float64\",\"order\":\"little\",\"shape\":[44]}},\"selected\":{\"id\":\"1958\"},\"selection_policy\":{\"id\":\"1959\"}},\"id\":\"1841\",\"type\":\"ColumnDataSource\"},{\"attributes\":{\"data_source\":{\"id\":\"1806\"},\"glyph\":{\"id\":\"1807\"},\"hover_glyph\":null,\"muted_glyph\":null,\"nonselection_glyph\":{\"id\":\"1808\"},\"view\":{\"id\":\"1810\"}},\"id\":\"1809\",\"type\":\"GlyphRenderer\"},{\"attributes\":{\"data_source\":{\"id\":\"1816\"},\"glyph\":{\"id\":\"1817\"},\"hover_glyph\":null,\"muted_glyph\":null,\"nonselection_glyph\":{\"id\":\"1818\"},\"view\":{\"id\":\"1820\"}},\"id\":\"1819\",\"type\":\"GlyphRenderer\"},{\"attributes\":{},\"id\":\"1945\",\"type\":\"UnionRenderers\"},{\"attributes\":{\"line_alpha\":0.1,\"line_color\":\"#1f77b3\",\"line_width\":2,\"x\":{\"field\":\"x\"},\"y\":{\"field\":\"y\"}},\"id\":\"1798\",\"type\":\"Line\"},{\"attributes\":{},\"id\":\"1956\",\"type\":\"Selection\"},{\"attributes\":{\"data\":{\"x\":{\"__ndarray__\":\"AAAAAADgUEAAAAAAAOBQQAAAAAAAwFJAAAAAAADAUkAAAAAAAKBUQAAAAAAAoFRAAAAAAABAVUAAAAAAAEBVQAAAAAAAgFZAAAAAAACAVkAAAAAAAGBYQAAAAAAAYFhA\",\"dtype\":\"float64\",\"order\":\"little\",\"shape\":[12]},\"y\":{\"__ndarray__\":\"AAAAAAAAAABVVVVVVVXFP1VVVVVVVcU/VVVVVVVV1T9VVVVVVVXVPwAAAAAAAOA/AAAAAAAA4D9VVVVVVVXlP1VVVVVVVeU/q6qqqqqq6j+rqqqqqqrqPwAAAAAAAPA/\",\"dtype\":\"float64\",\"order\":\"little\",\"shape\":[12]}},\"selected\":{\"id\":\"1946\"},\"selection_policy\":{\"id\":\"1947\"}},\"id\":\"1811\",\"type\":\"ColumnDataSource\"},{\"attributes\":{},\"id\":\"1787\",\"type\":\"HelpTool\"},{\"attributes\":{\"source\":{\"id\":\"1811\"}},\"id\":\"1815\",\"type\":\"CDSView\"},{\"attributes\":{\"data_source\":{\"id\":\"1801\"},\"glyph\":{\"id\":\"1802\"},\"hover_glyph\":null,\"muted_glyph\":null,\"nonselection_glyph\":{\"id\":\"1803\"},\"view\":{\"id\":\"1805\"}},\"id\":\"1804\",\"type\":\"GlyphRenderer\"},{\"attributes\":{\"bottom_units\":\"screen\",\"fill_alpha\":0.5,\"fill_color\":\"lightgrey\",\"left_units\":\"screen\",\"level\":\"overlay\",\"line_alpha\":1.0,\"line_color\":\"black\",\"line_dash\":[4,4],\"line_width\":2,\"right_units\":\"screen\",\"syncable\":false,\"top_units\":\"screen\"},\"id\":\"1788\",\"type\":\"BoxAnnotation\"},{\"attributes\":{},\"id\":\"1957\",\"type\":\"UnionRenderers\"},{\"attributes\":{\"data\":{},\"selected\":{\"id\":\"1948\"},\"selection_policy\":{\"id\":\"1949\"}},\"id\":\"1816\",\"type\":\"ColumnDataSource\"},{\"attributes\":{\"angle\":{\"value\":3.141592653589793},\"line_alpha\":{\"value\":0.1},\"line_color\":{\"value\":\"#1f77b3\"},\"line_width\":{\"value\":2},\"x\":{\"value\":45.0},\"y\":{\"value\":0}},\"id\":\"1803\",\"type\":\"Ray\"},{\"attributes\":{\"line_alpha\":0.1,\"line_color\":\"#ff7e0e\",\"line_width\":2,\"x\":{\"field\":\"x\"},\"y\":{\"field\":\"y\"}},\"id\":\"1813\",\"type\":\"Line\"},{\"attributes\":{\"data_source\":{\"id\":\"1821\"},\"glyph\":{\"id\":\"1822\"},\"hover_glyph\":null,\"muted_glyph\":null,\"nonselection_glyph\":{\"id\":\"1823\"},\"view\":{\"id\":\"1825\"}},\"id\":\"1824\",\"type\":\"GlyphRenderer\"},{\"attributes\":{\"angle\":{\"value\":3.141592653589793},\"line_color\":{\"value\":\"#1f77b3\"},\"line_width\":{\"value\":2},\"x\":{\"value\":45.0},\"y\":{\"value\":0}},\"id\":\"1802\",\"type\":\"Ray\"},{\"attributes\":{\"angle\":{\"value\":3.141592653589793},\"line_alpha\":{\"value\":0.1},\"line_color\":{\"value\":\"#ff7e0e\"},\"line_width\":{\"value\":2},\"x\":{\"value\":67.5},\"y\":{\"value\":0}},\"id\":\"1818\",\"type\":\"Ray\"},{\"attributes\":{},\"id\":\"1946\",\"type\":\"Selection\"},{\"attributes\":{\"data\":{},\"selected\":{\"id\":\"1942\"},\"selection_policy\":{\"id\":\"1943\"}},\"id\":\"1801\",\"type\":\"ColumnDataSource\"},{\"attributes\":{\"angle\":{\"value\":3.141592653589793},\"line_color\":{\"value\":\"#ff7e0e\"},\"line_width\":{\"value\":2},\"x\":{\"value\":67.5},\"y\":{\"value\":0}},\"id\":\"1817\",\"type\":\"Ray\"},{\"attributes\":{},\"id\":\"1958\",\"type\":\"Selection\"},{\"attributes\":{\"source\":{\"id\":\"1816\"}},\"id\":\"1820\",\"type\":\"CDSView\"},{\"attributes\":{\"active_multi\":null,\"tools\":[{\"id\":\"1782\"},{\"id\":\"1783\"},{\"id\":\"1784\"},{\"id\":\"1785\"},{\"id\":\"1786\"},{\"id\":\"1787\"}]},\"id\":\"1789\",\"type\":\"Toolbar\"},{\"attributes\":{\"line_alpha\":{\"value\":0.1},\"line_color\":{\"value\":\"#ff7e0e\"},\"line_width\":{\"value\":2},\"x\":{\"value\":97.5},\"y\":{\"value\":1}},\"id\":\"1823\",\"type\":\"Ray\"},{\"attributes\":{},\"id\":\"1947\",\"type\":\"UnionRenderers\"},{\"attributes\":{},\"id\":\"1959\",\"type\":\"UnionRenderers\"},{\"attributes\":{\"source\":{\"id\":\"1796\"}},\"id\":\"1800\",\"type\":\"CDSView\"},{\"attributes\":{\"source\":{\"id\":\"1821\"}},\"id\":\"1825\",\"type\":\"CDSView\"},{\"attributes\":{\"line_color\":{\"value\":\"#ff7e0e\"},\"line_width\":{\"value\":2},\"x\":{\"value\":97.5},\"y\":{\"value\":1}},\"id\":\"1822\",\"type\":\"Ray\"},{\"attributes\":{\"data\":{},\"selected\":{\"id\":\"1950\"},\"selection_policy\":{\"id\":\"1951\"}},\"id\":\"1821\",\"type\":\"ColumnDataSource\"},{\"attributes\":{},\"id\":\"1933\",\"type\":\"AllLabels\"},{\"attributes\":{\"line_color\":\"#2ba02b\",\"line_width\":2,\"x\":{\"field\":\"x\"},\"y\":{\"field\":\"y\"}},\"id\":\"1827\",\"type\":\"Line\"},{\"attributes\":{},\"id\":\"1783\",\"type\":\"WheelZoomTool\"},{\"attributes\":{\"source\":{\"id\":\"1826\"}},\"id\":\"1830\",\"type\":\"CDSView\"},{\"attributes\":{\"data_source\":{\"id\":\"1831\"},\"glyph\":{\"id\":\"1832\"},\"hover_glyph\":null,\"muted_glyph\":null,\"nonselection_glyph\":{\"id\":\"1833\"},\"view\":{\"id\":\"1835\"}},\"id\":\"1834\",\"type\":\"GlyphRenderer\"},{\"attributes\":{\"angle\":{\"value\":3.141592653589793},\"line_color\":{\"value\":\"#2ba02b\"},\"line_width\":{\"value\":2},\"x\":{\"value\":55.0},\"y\":{\"value\":0}},\"id\":\"1832\",\"type\":\"Ray\"},{\"attributes\":{\"line_alpha\":0.1,\"line_color\":\"#2ba02b\",\"line_width\":2,\"x\":{\"field\":\"x\"},\"y\":{\"field\":\"y\"}},\"id\":\"1828\",\"type\":\"Line\"},{\"attributes\":{\"angle\":{\"value\":3.141592653589793},\"line_alpha\":{\"value\":0.1},\"line_color\":{\"value\":\"#2ba02b\"},\"line_width\":{\"value\":2},\"x\":{\"value\":55.0},\"y\":{\"value\":0}},\"id\":\"1833\",\"type\":\"Ray\"},{\"attributes\":{\"data\":{},\"selected\":{\"id\":\"1954\"},\"selection_policy\":{\"id\":\"1955\"}},\"id\":\"1831\",\"type\":\"ColumnDataSource\"},{\"attributes\":{\"source\":{\"id\":\"1836\"}},\"id\":\"1840\",\"type\":\"CDSView\"},{\"attributes\":{\"source\":{\"id\":\"1831\"}},\"id\":\"1835\",\"type\":\"CDSView\"},{\"attributes\":{\"line_alpha\":{\"value\":0.1},\"line_color\":{\"value\":\"#2ba02b\"},\"line_width\":{\"value\":2},\"x\":{\"value\":100.0},\"y\":{\"value\":1}},\"id\":\"1838\",\"type\":\"Ray\"},{\"attributes\":{\"data\":{},\"selected\":{\"id\":\"1960\"},\"selection_policy\":{\"id\":\"1961\"}},\"id\":\"1846\",\"type\":\"ColumnDataSource\"},{\"attributes\":{\"line_color\":{\"value\":\"#2ba02b\"},\"line_width\":{\"value\":2},\"x\":{\"value\":100.0},\"y\":{\"value\":1}},\"id\":\"1837\",\"type\":\"Ray\"},{\"attributes\":{\"data\":{},\"selected\":{\"id\":\"1956\"},\"selection_policy\":{\"id\":\"1957\"}},\"id\":\"1836\",\"type\":\"ColumnDataSource\"},{\"attributes\":{\"line_color\":\"#d62628\",\"line_width\":2,\"x\":{\"field\":\"x\"},\"y\":{\"field\":\"y\"}},\"id\":\"1842\",\"type\":\"Line\"},{\"attributes\":{\"data_source\":{\"id\":\"1846\"},\"glyph\":{\"id\":\"1847\"},\"hover_glyph\":null,\"muted_glyph\":null,\"nonselection_glyph\":{\"id\":\"1848\"},\"view\":{\"id\":\"1850\"}},\"id\":\"1849\",\"type\":\"GlyphRenderer\"},{\"attributes\":{\"data_source\":{\"id\":\"1836\"},\"glyph\":{\"id\":\"1837\"},\"hover_glyph\":null,\"muted_glyph\":null,\"nonselection_glyph\":{\"id\":\"1838\"},\"view\":{\"id\":\"1840\"}},\"id\":\"1839\",\"type\":\"GlyphRenderer\"},{\"attributes\":{\"source\":{\"id\":\"1841\"}},\"id\":\"1845\",\"type\":\"CDSView\"},{\"attributes\":{\"axis\":{\"id\":\"1774\"},\"ticker\":null},\"id\":\"1777\",\"type\":\"Grid\"},{\"attributes\":{\"line_alpha\":0.1,\"line_color\":\"#d62628\",\"line_width\":2,\"x\":{\"field\":\"x\"},\"y\":{\"field\":\"y\"}},\"id\":\"1843\",\"type\":\"Line\"},{\"attributes\":{\"source\":{\"id\":\"1851\"}},\"id\":\"1855\",\"type\":\"CDSView\"},{\"attributes\":{},\"id\":\"1766\",\"type\":\"DataRange1d\"},{\"attributes\":{\"angle\":{\"value\":3.141592653589793},\"line_alpha\":{\"value\":0.1},\"line_color\":{\"value\":\"#d62628\"},\"line_width\":{\"value\":2},\"x\":{\"value\":40.0},\"y\":{\"value\":0}},\"id\":\"1848\",\"type\":\"Ray\"},{\"attributes\":{},\"id\":\"1782\",\"type\":\"PanTool\"},{\"attributes\":{\"angle\":{\"value\":3.141592653589793},\"line_color\":{\"value\":\"#d62628\"},\"line_width\":{\"value\":2},\"x\":{\"value\":40.0},\"y\":{\"value\":0}},\"id\":\"1847\",\"type\":\"Ray\"},{\"attributes\":{\"overlay\":{\"id\":\"1788\"}},\"id\":\"1784\",\"type\":\"BoxZoomTool\"},{\"attributes\":{\"source\":{\"id\":\"1846\"}},\"id\":\"1850\",\"type\":\"CDSView\"},{\"attributes\":{\"line_alpha\":{\"value\":0.1},\"line_color\":{\"value\":\"#d62628\"},\"line_width\":{\"value\":2},\"x\":{\"value\":95.0},\"y\":{\"value\":1}},\"id\":\"1853\",\"type\":\"Ray\"},{\"attributes\":{},\"id\":\"1785\",\"type\":\"SaveTool\"},{\"attributes\":{},\"id\":\"1786\",\"type\":\"ResetTool\"},{\"attributes\":{\"axis_label\":\"ECDF\",\"formatter\":{\"id\":\"1935\"},\"major_label_policy\":{\"id\":\"1933\"},\"ticker\":{\"id\":\"1779\"}},\"id\":\"1778\",\"type\":\"LinearAxis\"},{\"attributes\":{\"line_color\":{\"value\":\"#d62628\"},\"line_width\":{\"value\":2},\"x\":{\"value\":95.0},\"y\":{\"value\":1}},\"id\":\"1852\",\"type\":\"Ray\"},{\"attributes\":{\"axis\":{\"id\":\"1778\"},\"dimension\":1,\"ticker\":null},\"id\":\"1781\",\"type\":\"Grid\"},{\"attributes\":{\"data\":{},\"selected\":{\"id\":\"1962\"},\"selection_policy\":{\"id\":\"1963\"}},\"id\":\"1851\",\"type\":\"ColumnDataSource\"},{\"attributes\":{\"data_source\":{\"id\":\"1851\"},\"glyph\":{\"id\":\"1852\"},\"hover_glyph\":null,\"muted_glyph\":null,\"nonselection_glyph\":{\"id\":\"1853\"},\"view\":{\"id\":\"1855\"}},\"id\":\"1854\",\"type\":\"GlyphRenderer\"},{\"attributes\":{},\"id\":\"1779\",\"type\":\"BasicTicker\"},{\"attributes\":{},\"id\":\"1931\",\"type\":\"Title\"},{\"attributes\":{\"line_alpha\":{\"value\":0.1},\"line_color\":{\"value\":\"#1f77b3\"},\"line_width\":{\"value\":2},\"x\":{\"value\":95.0},\"y\":{\"value\":1}},\"id\":\"1808\",\"type\":\"Ray\"},{\"attributes\":{\"line_color\":{\"value\":\"#1f77b3\"},\"line_width\":{\"value\":2},\"x\":{\"value\":95.0},\"y\":{\"value\":1}},\"id\":\"1807\",\"type\":\"Ray\"},{\"attributes\":{\"click_policy\":\"hide\",\"items\":[{\"id\":\"1857\"},{\"id\":\"1858\"},{\"id\":\"1859\"},{\"id\":\"1860\"}],\"location\":\"top_left\"},\"id\":\"1856\",\"type\":\"Legend\"},{\"attributes\":{\"source\":{\"id\":\"1801\"}},\"id\":\"1805\",\"type\":\"CDSView\"},{\"attributes\":{\"data\":{},\"selected\":{\"id\":\"1944\"},\"selection_policy\":{\"id\":\"1945\"}},\"id\":\"1806\",\"type\":\"ColumnDataSource\"},{\"attributes\":{},\"id\":\"1768\",\"type\":\"DataRange1d\"},{\"attributes\":{},\"id\":\"1772\",\"type\":\"LinearScale\"},{\"attributes\":{},\"id\":\"1770\",\"type\":\"LinearScale\"},{\"attributes\":{},\"id\":\"1775\",\"type\":\"BasicTicker\"},{\"attributes\":{\"axis_label\":\"percent correct\",\"formatter\":{\"id\":\"1938\"},\"major_label_policy\":{\"id\":\"1936\"},\"ticker\":{\"id\":\"1775\"}},\"id\":\"1774\",\"type\":\"LinearAxis\"}],\"root_ids\":[\"1765\"]},\"title\":\"Bokeh Application\",\"version\":\"2.3.3\"}};\n",
       "  var render_items = [{\"docid\":\"07c3b110-db79-43ae-a162-e7900c45c624\",\"root_ids\":[\"1765\"],\"roots\":{\"1765\":\"a9aa1895-13a8-4219-989f-81cafcc49a0e\"}}];\n",
       "  root.Bokeh.embed.embed_items_notebook(docs_json, render_items);\n",
       "\n",
       "  }\n",
       "  if (root.Bokeh !== undefined) {\n",
       "    embed_document(root);\n",
       "  } else {\n",
       "    var attempts = 0;\n",
       "    var timer = setInterval(function(root) {\n",
       "      if (root.Bokeh !== undefined) {\n",
       "        clearInterval(timer);\n",
       "        embed_document(root);\n",
       "      } else {\n",
       "        attempts++;\n",
       "        if (attempts > 100) {\n",
       "          clearInterval(timer);\n",
       "          console.log(\"Bokeh: ERROR: Unable to run BokehJS code because BokehJS library is missing\");\n",
       "        }\n",
       "      }\n",
       "    }, 10, root)\n",
       "  }\n",
       "})(window);"
      ],
      "application/vnd.bokehjs_exec.v0+json": ""
     },
     "metadata": {
      "application/vnd.bokehjs_exec.v0+json": {
       "id": "1765"
      }
     },
     "output_type": "display_data"
    }
   ],
   "source": [
    "p = iqplot.ecdf(\n",
    "    data=df,\n",
    "    q='percent correct',\n",
    "    cats=['gender', 'sleeper'],\n",
    "    style='staircase'\n",
    ")\n",
    "\n",
    "p.legend.location = 'top_left'\n",
    "\n",
    "bokeh.io.show(p)"
   ]
  },
  {
   "cell_type": "markdown",
   "metadata": {},
   "source": [
    "Note that the ECDFs show a clear difference. Female insomniacs have a distribution that is shifted leftward from all other categories. This is most clearly revealed in the ECDF."
   ]
  },
  {
   "cell_type": "markdown",
   "metadata": {},
   "source": [
    "## Customization with iqplot\n",
    "\n",
    "You may have noticed in the discussion of ECDFs that I introduced some a new keyword argument, `style='staircase'`. There are plot-type-specific kwargs which enable customization beyond the customization kwargs common to the plot types, such as `palette` and `q_axis`.\n",
    "\n",
    "You can find out what kwargs are available for each function by reading their doc strings, e.g., with\n",
    "\n",
    "```python\n",
    "iqplot.box?\n",
    "```\n",
    "\n",
    "of by reading [the documentation](https://iqplot.github.io/). Any kwargs not in the function call signature are passed to `bokeh.plotting.figure()` when the figure is instantiated."
   ]
  },
  {
   "cell_type": "markdown",
   "metadata": {},
   "source": [
    "### Customizing box plots\n",
    "\n",
    "We can also have vertical box plots using the `q_axis` kwarg."
   ]
  },
  {
   "cell_type": "code",
   "execution_count": 9,
   "metadata": {},
   "outputs": [
    {
     "data": {
      "text/html": [
       "\n",
       "\n",
       "\n",
       "\n",
       "\n",
       "\n",
       "  <div class=\"bk-root\" id=\"5aaff62b-39ee-4027-b625-232dc269f7e2\" data-root-id=\"2130\"></div>\n"
      ]
     },
     "metadata": {},
     "output_type": "display_data"
    },
    {
     "data": {
      "application/javascript": [
       "(function(root) {\n",
       "  function embed_document(root) {\n",
       "    \n",
       "  var docs_json = {\"3f65c7f4-8b7d-4c40-a020-893d285b4c1d\":{\"defs\":[],\"roots\":{\"references\":[{\"attributes\":{\"below\":[{\"id\":\"2138\"}],\"center\":[{\"id\":\"2140\"},{\"id\":\"2144\"}],\"frame_height\":275,\"frame_width\":375,\"left\":[{\"id\":\"2141\"}],\"renderers\":[{\"id\":\"2167\"},{\"id\":\"2172\"},{\"id\":\"2177\"},{\"id\":\"2182\"},{\"id\":\"2187\"}],\"title\":{\"id\":\"2292\"},\"toolbar\":{\"id\":\"2152\"},\"toolbar_location\":\"above\",\"x_range\":{\"id\":\"2129\"},\"x_scale\":{\"id\":\"2134\"},\"y_range\":{\"id\":\"2132\"},\"y_scale\":{\"id\":\"2136\"}},\"id\":\"2130\",\"subtype\":\"Figure\",\"type\":\"Plot\"},{\"attributes\":{\"x0\":{\"field\":\"cat\"},\"x1\":{\"field\":\"cat\"},\"y0\":{\"field\":\"bottom\"},\"y1\":{\"field\":\"bottom_whisker\"}},\"id\":\"2170\",\"type\":\"Segment\"},{\"attributes\":{},\"id\":\"2136\",\"type\":\"LinearScale\"},{\"attributes\":{\"data_source\":{\"id\":\"2159\"},\"glyph\":{\"id\":\"2165\"},\"hover_glyph\":null,\"muted_glyph\":null,\"nonselection_glyph\":{\"id\":\"2166\"},\"view\":{\"id\":\"2168\"}},\"id\":\"2167\",\"type\":\"GlyphRenderer\"},{\"attributes\":{},\"id\":\"2299\",\"type\":\"CategoricalTickFormatter\"},{\"attributes\":{},\"id\":\"2303\",\"type\":\"Selection\"},{\"attributes\":{},\"id\":\"2148\",\"type\":\"SaveTool\"},{\"attributes\":{\"data_source\":{\"id\":\"2159\"},\"glyph\":{\"id\":\"2180\"},\"hover_glyph\":null,\"muted_glyph\":null,\"nonselection_glyph\":{\"id\":\"2181\"},\"view\":{\"id\":\"2183\"}},\"id\":\"2182\",\"type\":\"GlyphRenderer\"},{\"attributes\":{\"source\":{\"id\":\"2159\"}},\"id\":\"2173\",\"type\":\"CDSView\"},{\"attributes\":{\"factors\":[[\"female\",\"insomniac\"],[\"female\",\"normal\"],[\"male\",\"insomniac\"],[\"male\",\"normal\"]],\"palette\":[\"#1f77b3\",\"#ff7e0e\",\"#2ba02b\",\"#d62628\",\"#9367bc\",\"#8c564b\",\"#e277c1\",\"#7e7e7e\",\"#bcbc21\",\"#16bdcf\",\"#3a0182\",\"#004201\",\"#0fffa8\",\"#5d003f\",\"#bcbcff\",\"#d8afa1\",\"#b80080\",\"#004d52\",\"#6b6400\",\"#7c0100\",\"#6026ff\",\"#ffff9a\",\"#564964\",\"#8cb893\",\"#93fbff\",\"#018267\",\"#90ff00\",\"#8200a0\",\"#ac8944\",\"#5b3400\",\"#ffbff2\",\"#ff6e75\",\"#798cff\",\"#dd00ff\",\"#505646\",\"#004489\",\"#ffbf60\",\"#ff018c\",\"#bdc8cf\",\"#af97b5\",\"#b65600\",\"#017000\",\"#cd87ff\",\"#1cd646\",\"#bfebc3\",\"#7997b5\",\"#a56089\",\"#6e8956\",\"#bc7c75\",\"#8a2844\",\"#00acff\",\"#8ed4ff\",\"#4b6d77\",\"#00d4b1\",\"#9300f2\",\"#8a9500\",\"#5d5b9e\",\"#fddfba\",\"#00939e\",\"#ffdb00\",\"#00aa79\",\"#520067\",\"#000091\",\"#0a5d3d\",\"#a5e275\",\"#623b41\",\"#c6c689\",\"#ff9eb5\",\"#cd4f6b\",\"#ff07d6\",\"#8a3a05\",\"#7e3d70\",\"#ff4901\",\"#602ba5\",\"#1c00ff\",\"#e6dfff\",\"#aa3baf\",\"#d89c00\",\"#a3a39e\",\"#3f69ff\",\"#46490c\",\"#7b6985\",\"#6b978c\",\"#ff9a75\",\"#835bff\",\"#7c6b46\",\"#80b654\",\"#bc0049\",\"#fd93ff\",\"#5d0018\",\"#89d1d1\",\"#9c8cd3\",\"#da6d42\",\"#8a5700\",\"#3b5069\",\"#4b6b3b\",\"#edcfd8\",\"#cfedff\",\"#aa1500\",\"#dfff4f\",\"#ff2a56\",\"#d1499e\",\"#707cb8\",\"#598000\",\"#00e4fd\",\"#774b95\",\"#67d48c\",\"#3d3a72\",\"#ac413f\",\"#d6a166\",\"#c169cd\",\"#69595d\",\"#87aced\",\"#a0a569\",\"#d1aae6\",\"#870062\",\"#00fddb\",\"#672818\",\"#b342ff\",\"#0e59c4\",\"#168742\",\"#90d300\",\"#cd7900\",\"#f959ff\",\"#5b7466\",\"#8eaeb3\",\"#9c7c8c\",\"#4600c6\",\"#6b4d2d\",\"#a56d46\",\"#9e8972\",\"#a8afca\",\"#cd8ca7\",\"#00fd64\",\"#917900\",\"#ff62a1\",\"#f4ffd8\",\"#018cf0\",\"#13aca0\",\"#5b2d59\",\"#89859e\",\"#cfccba\",\"#d4afc4\",\"#dbdd6d\",\"#cffff4\",\"#006485\",\"#006962\",\"#a84167\",\"#2d97c4\",\"#a874ff\",\"#26ba5d\",\"#57b600\",\"#caffa7\",\"#a379aa\",\"#ffbc93\",\"#89e2c1\",\"#0fc8ff\",\"#d400c4\",\"#626d89\",\"#69858e\",\"#4b4d52\",\"#aa6067\",\"#79b5d4\",\"#2b5916\",\"#9a0024\",\"#bdd1f2\",\"#896e67\",\"#69a56b\",\"#855467\",\"#aecdba\",\"#87997e\",\"#cadb00\",\"#9a0390\",\"#ebbc1a\",\"#eb9cd1\",\"#70006e\",\"#b1a131\",\"#ca6b93\",\"#4146a3\",\"#e48c89\",\"#d44400\",\"#c68aca\",\"#b69597\",\"#d41f75\",\"#724bcc\",\"#674d00\",\"#672138\",\"#38564f\",\"#6ebaaa\",\"#853a31\",\"#a5d397\",\"#b8af8e\",\"#d8e4df\",\"#aa00df\",\"#cac1db\",\"#ffdf8c\",\"#e2524d\",\"#66696e\",\"#ff001c\",\"#522d72\",\"#4d906b\",\"#a86d11\",\"#ff9e26\",\"#5ea3af\",\"#c88556\",\"#915997\",\"#a3a1ff\",\"#fdbaba\",\"#242a87\",\"#dbe6a8\",\"#97f2a7\",\"#6793d6\",\"#ba5b3f\",\"#3a5d91\",\"#364f2f\",\"#267c95\",\"#89959a\",\"#cfb356\",\"#004664\",\"#5e5d2f\",\"#8e8e41\",\"#ac3f13\",\"#69953b\",\"#a13d85\",\"#bfb6ba\",\"#acc667\",\"#6469cf\",\"#91af00\",\"#2be2da\",\"#016e36\",\"#ff7952\",\"#42807e\",\"#4fe800\",\"#995428\",\"#5d0a00\",\"#a30057\",\"#0c8700\",\"#5982a7\",\"#ffebfb\",\"#4b6901\",\"#8775d4\",\"#e6c6ff\",\"#a5ffda\",\"#d86e77\",\"#df014b\",\"#69675b\",\"#776ba1\",\"#7e8067\",\"#594685\",\"#0000ca\",\"#7c002a\",\"#97ff72\",\"#b5e2e1\",\"#db52c8\",\"#777734\",\"#57bd8e\"]},\"id\":\"2163\",\"type\":\"CategoricalColorMapper\"},{\"attributes\":{},\"id\":\"2304\",\"type\":\"UnionRenderers\"},{\"attributes\":{\"active_multi\":null,\"tools\":[{\"id\":\"2145\"},{\"id\":\"2146\"},{\"id\":\"2147\"},{\"id\":\"2148\"},{\"id\":\"2149\"},{\"id\":\"2150\"}]},\"id\":\"2152\",\"type\":\"Toolbar\"},{\"attributes\":{\"axis_label\":\"percent correct\",\"formatter\":{\"id\":\"2296\"},\"major_label_policy\":{\"id\":\"2294\"},\"ticker\":{\"id\":\"2142\"}},\"id\":\"2141\",\"type\":\"LinearAxis\"},{\"attributes\":{},\"id\":\"2150\",\"type\":\"HelpTool\"},{\"attributes\":{\"fill_color\":{\"field\":\"cat\",\"transform\":{\"id\":\"2161\"}},\"line_color\":{\"field\":\"cat\",\"transform\":{\"id\":\"2162\"}},\"x\":{\"field\":\"cat\"},\"y\":{\"field\":\"percent correct\"}},\"id\":\"2185\",\"type\":\"Circle\"},{\"attributes\":{},\"id\":\"2297\",\"type\":\"AllLabels\"},{\"attributes\":{},\"id\":\"2139\",\"type\":\"CategoricalTicker\"},{\"attributes\":{\"source\":{\"id\":\"2159\"}},\"id\":\"2168\",\"type\":\"CDSView\"},{\"attributes\":{\"source\":{\"id\":\"2159\"}},\"id\":\"2178\",\"type\":\"CDSView\"},{\"attributes\":{\"overlay\":{\"id\":\"2151\"}},\"id\":\"2147\",\"type\":\"BoxZoomTool\"},{\"attributes\":{},\"id\":\"2294\",\"type\":\"AllLabels\"},{\"attributes\":{},\"id\":\"2301\",\"type\":\"Selection\"},{\"attributes\":{\"factors\":[[\"female\",\"insomniac\"],[\"female\",\"normal\"],[\"male\",\"insomniac\"],[\"male\",\"normal\"]],\"palette\":[\"#1f77b3\",\"#ff7e0e\",\"#2ba02b\",\"#d62628\",\"#9367bc\",\"#8c564b\",\"#e277c1\",\"#7e7e7e\",\"#bcbc21\",\"#16bdcf\",\"#3a0182\",\"#004201\",\"#0fffa8\",\"#5d003f\",\"#bcbcff\",\"#d8afa1\",\"#b80080\",\"#004d52\",\"#6b6400\",\"#7c0100\",\"#6026ff\",\"#ffff9a\",\"#564964\",\"#8cb893\",\"#93fbff\",\"#018267\",\"#90ff00\",\"#8200a0\",\"#ac8944\",\"#5b3400\",\"#ffbff2\",\"#ff6e75\",\"#798cff\",\"#dd00ff\",\"#505646\",\"#004489\",\"#ffbf60\",\"#ff018c\",\"#bdc8cf\",\"#af97b5\",\"#b65600\",\"#017000\",\"#cd87ff\",\"#1cd646\",\"#bfebc3\",\"#7997b5\",\"#a56089\",\"#6e8956\",\"#bc7c75\",\"#8a2844\",\"#00acff\",\"#8ed4ff\",\"#4b6d77\",\"#00d4b1\",\"#9300f2\",\"#8a9500\",\"#5d5b9e\",\"#fddfba\",\"#00939e\",\"#ffdb00\",\"#00aa79\",\"#520067\",\"#000091\",\"#0a5d3d\",\"#a5e275\",\"#623b41\",\"#c6c689\",\"#ff9eb5\",\"#cd4f6b\",\"#ff07d6\",\"#8a3a05\",\"#7e3d70\",\"#ff4901\",\"#602ba5\",\"#1c00ff\",\"#e6dfff\",\"#aa3baf\",\"#d89c00\",\"#a3a39e\",\"#3f69ff\",\"#46490c\",\"#7b6985\",\"#6b978c\",\"#ff9a75\",\"#835bff\",\"#7c6b46\",\"#80b654\",\"#bc0049\",\"#fd93ff\",\"#5d0018\",\"#89d1d1\",\"#9c8cd3\",\"#da6d42\",\"#8a5700\",\"#3b5069\",\"#4b6b3b\",\"#edcfd8\",\"#cfedff\",\"#aa1500\",\"#dfff4f\",\"#ff2a56\",\"#d1499e\",\"#707cb8\",\"#598000\",\"#00e4fd\",\"#774b95\",\"#67d48c\",\"#3d3a72\",\"#ac413f\",\"#d6a166\",\"#c169cd\",\"#69595d\",\"#87aced\",\"#a0a569\",\"#d1aae6\",\"#870062\",\"#00fddb\",\"#672818\",\"#b342ff\",\"#0e59c4\",\"#168742\",\"#90d300\",\"#cd7900\",\"#f959ff\",\"#5b7466\",\"#8eaeb3\",\"#9c7c8c\",\"#4600c6\",\"#6b4d2d\",\"#a56d46\",\"#9e8972\",\"#a8afca\",\"#cd8ca7\",\"#00fd64\",\"#917900\",\"#ff62a1\",\"#f4ffd8\",\"#018cf0\",\"#13aca0\",\"#5b2d59\",\"#89859e\",\"#cfccba\",\"#d4afc4\",\"#dbdd6d\",\"#cffff4\",\"#006485\",\"#006962\",\"#a84167\",\"#2d97c4\",\"#a874ff\",\"#26ba5d\",\"#57b600\",\"#caffa7\",\"#a379aa\",\"#ffbc93\",\"#89e2c1\",\"#0fc8ff\",\"#d400c4\",\"#626d89\",\"#69858e\",\"#4b4d52\",\"#aa6067\",\"#79b5d4\",\"#2b5916\",\"#9a0024\",\"#bdd1f2\",\"#896e67\",\"#69a56b\",\"#855467\",\"#aecdba\",\"#87997e\",\"#cadb00\",\"#9a0390\",\"#ebbc1a\",\"#eb9cd1\",\"#70006e\",\"#b1a131\",\"#ca6b93\",\"#4146a3\",\"#e48c89\",\"#d44400\",\"#c68aca\",\"#b69597\",\"#d41f75\",\"#724bcc\",\"#674d00\",\"#672138\",\"#38564f\",\"#6ebaaa\",\"#853a31\",\"#a5d397\",\"#b8af8e\",\"#d8e4df\",\"#aa00df\",\"#cac1db\",\"#ffdf8c\",\"#e2524d\",\"#66696e\",\"#ff001c\",\"#522d72\",\"#4d906b\",\"#a86d11\",\"#ff9e26\",\"#5ea3af\",\"#c88556\",\"#915997\",\"#a3a1ff\",\"#fdbaba\",\"#242a87\",\"#dbe6a8\",\"#97f2a7\",\"#6793d6\",\"#ba5b3f\",\"#3a5d91\",\"#364f2f\",\"#267c95\",\"#89959a\",\"#cfb356\",\"#004664\",\"#5e5d2f\",\"#8e8e41\",\"#ac3f13\",\"#69953b\",\"#a13d85\",\"#bfb6ba\",\"#acc667\",\"#6469cf\",\"#91af00\",\"#2be2da\",\"#016e36\",\"#ff7952\",\"#42807e\",\"#4fe800\",\"#995428\",\"#5d0a00\",\"#a30057\",\"#0c8700\",\"#5982a7\",\"#ffebfb\",\"#4b6901\",\"#8775d4\",\"#e6c6ff\",\"#a5ffda\",\"#d86e77\",\"#df014b\",\"#69675b\",\"#776ba1\",\"#7e8067\",\"#594685\",\"#0000ca\",\"#7c002a\",\"#97ff72\",\"#b5e2e1\",\"#db52c8\",\"#777734\",\"#57bd8e\"]},\"id\":\"2162\",\"type\":\"CategoricalColorMapper\"},{\"attributes\":{\"bottom_units\":\"screen\",\"fill_alpha\":0.5,\"fill_color\":\"lightgrey\",\"left_units\":\"screen\",\"level\":\"overlay\",\"line_alpha\":1.0,\"line_color\":\"black\",\"line_dash\":[4,4],\"line_width\":2,\"right_units\":\"screen\",\"syncable\":false,\"top_units\":\"screen\"},\"id\":\"2151\",\"type\":\"BoxAnnotation\"},{\"attributes\":{},\"id\":\"2146\",\"type\":\"WheelZoomTool\"},{\"attributes\":{\"line_alpha\":{\"value\":0.1},\"x0\":{\"field\":\"cat\"},\"x1\":{\"field\":\"cat\"},\"y0\":{\"field\":\"top\"},\"y1\":{\"field\":\"top_whisker\"}},\"id\":\"2166\",\"type\":\"Segment\"},{\"attributes\":{\"data\":{\"__label\":[\"female, insomniac\",\"female, normal\",\"male, insomniac\",\"male, normal\"],\"bottom\":[67.5,75.0,76.875,77.5],\"bottom_whisker\":[45.0,55.0,67.5,67.5],\"cat\":[[\"female\",\"insomniac\"],[\"female\",\"normal\"],[\"male\",\"insomniac\"],[\"male\",\"normal\"]],\"middle\":[72.5,85.0,83.75,82.5],\"top\":[83.75,88.75,88.75,89.375],\"top_whisker\":[95.0,100.0,97.5,95.0]},\"selected\":{\"id\":\"2301\"},\"selection_policy\":{\"id\":\"2302\"}},\"id\":\"2159\",\"type\":\"ColumnDataSource\"},{\"attributes\":{\"source\":{\"id\":\"2160\"}},\"id\":\"2188\",\"type\":\"CDSView\"},{\"attributes\":{},\"id\":\"2145\",\"type\":\"PanTool\"},{\"attributes\":{\"data_source\":{\"id\":\"2159\"},\"glyph\":{\"id\":\"2170\"},\"hover_glyph\":null,\"muted_glyph\":null,\"nonselection_glyph\":{\"id\":\"2171\"},\"view\":{\"id\":\"2173\"}},\"id\":\"2172\",\"type\":\"GlyphRenderer\"},{\"attributes\":{\"axis\":{\"id\":\"2141\"},\"dimension\":1,\"ticker\":null},\"id\":\"2144\",\"type\":\"Grid\"},{\"attributes\":{\"formatter\":{\"id\":\"2299\"},\"major_label_policy\":{\"id\":\"2297\"},\"ticker\":{\"id\":\"2139\"}},\"id\":\"2138\",\"type\":\"CategoricalAxis\"},{\"attributes\":{\"bottom\":{\"field\":\"middle\"},\"fill_alpha\":{\"value\":0.1},\"fill_color\":{\"value\":\"#1f77b4\"},\"line_alpha\":{\"value\":0.1},\"line_color\":{\"value\":\"white\"},\"top\":{\"field\":\"middle\"},\"width\":{\"value\":0.4},\"x\":{\"field\":\"cat\"}},\"id\":\"2181\",\"type\":\"VBar\"},{\"attributes\":{},\"id\":\"2149\",\"type\":\"ResetTool\"},{\"attributes\":{},\"id\":\"2302\",\"type\":\"UnionRenderers\"},{\"attributes\":{\"data_source\":{\"id\":\"2160\"},\"glyph\":{\"id\":\"2185\"},\"hover_glyph\":null,\"muted_glyph\":null,\"nonselection_glyph\":{\"id\":\"2186\"},\"view\":{\"id\":\"2188\"}},\"id\":\"2187\",\"type\":\"GlyphRenderer\"},{\"attributes\":{\"bottom\":{\"field\":\"bottom\"},\"fill_alpha\":{\"value\":0.1},\"fill_color\":{\"field\":\"cat\",\"transform\":{\"id\":\"2163\"}},\"line_alpha\":{\"value\":0.1},\"line_color\":{\"value\":null},\"top\":{\"field\":\"top\"},\"width\":{\"value\":0.4},\"x\":{\"field\":\"cat\"}},\"id\":\"2176\",\"type\":\"VBar\"},{\"attributes\":{\"data_source\":{\"id\":\"2159\"},\"glyph\":{\"id\":\"2175\"},\"hover_glyph\":null,\"muted_glyph\":null,\"nonselection_glyph\":{\"id\":\"2176\"},\"view\":{\"id\":\"2178\"}},\"id\":\"2177\",\"type\":\"GlyphRenderer\"},{\"attributes\":{\"bottom\":{\"field\":\"bottom\"},\"fill_color\":{\"field\":\"cat\",\"transform\":{\"id\":\"2163\"}},\"line_color\":{\"value\":null},\"top\":{\"field\":\"top\"},\"width\":{\"value\":0.4},\"x\":{\"field\":\"cat\"}},\"id\":\"2175\",\"type\":\"VBar\"},{\"attributes\":{\"fill_alpha\":{\"value\":0.1},\"fill_color\":{\"field\":\"cat\",\"transform\":{\"id\":\"2161\"}},\"line_alpha\":{\"value\":0.1},\"line_color\":{\"field\":\"cat\",\"transform\":{\"id\":\"2162\"}},\"x\":{\"field\":\"cat\"},\"y\":{\"field\":\"percent correct\"}},\"id\":\"2186\",\"type\":\"Circle\"},{\"attributes\":{\"factors\":[[\"female\",\"insomniac\"],[\"female\",\"normal\"],[\"male\",\"insomniac\"],[\"male\",\"normal\"]],\"palette\":[\"#1f77b3\",\"#ff7e0e\",\"#2ba02b\",\"#d62628\",\"#9367bc\",\"#8c564b\",\"#e277c1\",\"#7e7e7e\",\"#bcbc21\",\"#16bdcf\",\"#3a0182\",\"#004201\",\"#0fffa8\",\"#5d003f\",\"#bcbcff\",\"#d8afa1\",\"#b80080\",\"#004d52\",\"#6b6400\",\"#7c0100\",\"#6026ff\",\"#ffff9a\",\"#564964\",\"#8cb893\",\"#93fbff\",\"#018267\",\"#90ff00\",\"#8200a0\",\"#ac8944\",\"#5b3400\",\"#ffbff2\",\"#ff6e75\",\"#798cff\",\"#dd00ff\",\"#505646\",\"#004489\",\"#ffbf60\",\"#ff018c\",\"#bdc8cf\",\"#af97b5\",\"#b65600\",\"#017000\",\"#cd87ff\",\"#1cd646\",\"#bfebc3\",\"#7997b5\",\"#a56089\",\"#6e8956\",\"#bc7c75\",\"#8a2844\",\"#00acff\",\"#8ed4ff\",\"#4b6d77\",\"#00d4b1\",\"#9300f2\",\"#8a9500\",\"#5d5b9e\",\"#fddfba\",\"#00939e\",\"#ffdb00\",\"#00aa79\",\"#520067\",\"#000091\",\"#0a5d3d\",\"#a5e275\",\"#623b41\",\"#c6c689\",\"#ff9eb5\",\"#cd4f6b\",\"#ff07d6\",\"#8a3a05\",\"#7e3d70\",\"#ff4901\",\"#602ba5\",\"#1c00ff\",\"#e6dfff\",\"#aa3baf\",\"#d89c00\",\"#a3a39e\",\"#3f69ff\",\"#46490c\",\"#7b6985\",\"#6b978c\",\"#ff9a75\",\"#835bff\",\"#7c6b46\",\"#80b654\",\"#bc0049\",\"#fd93ff\",\"#5d0018\",\"#89d1d1\",\"#9c8cd3\",\"#da6d42\",\"#8a5700\",\"#3b5069\",\"#4b6b3b\",\"#edcfd8\",\"#cfedff\",\"#aa1500\",\"#dfff4f\",\"#ff2a56\",\"#d1499e\",\"#707cb8\",\"#598000\",\"#00e4fd\",\"#774b95\",\"#67d48c\",\"#3d3a72\",\"#ac413f\",\"#d6a166\",\"#c169cd\",\"#69595d\",\"#87aced\",\"#a0a569\",\"#d1aae6\",\"#870062\",\"#00fddb\",\"#672818\",\"#b342ff\",\"#0e59c4\",\"#168742\",\"#90d300\",\"#cd7900\",\"#f959ff\",\"#5b7466\",\"#8eaeb3\",\"#9c7c8c\",\"#4600c6\",\"#6b4d2d\",\"#a56d46\",\"#9e8972\",\"#a8afca\",\"#cd8ca7\",\"#00fd64\",\"#917900\",\"#ff62a1\",\"#f4ffd8\",\"#018cf0\",\"#13aca0\",\"#5b2d59\",\"#89859e\",\"#cfccba\",\"#d4afc4\",\"#dbdd6d\",\"#cffff4\",\"#006485\",\"#006962\",\"#a84167\",\"#2d97c4\",\"#a874ff\",\"#26ba5d\",\"#57b600\",\"#caffa7\",\"#a379aa\",\"#ffbc93\",\"#89e2c1\",\"#0fc8ff\",\"#d400c4\",\"#626d89\",\"#69858e\",\"#4b4d52\",\"#aa6067\",\"#79b5d4\",\"#2b5916\",\"#9a0024\",\"#bdd1f2\",\"#896e67\",\"#69a56b\",\"#855467\",\"#aecdba\",\"#87997e\",\"#cadb00\",\"#9a0390\",\"#ebbc1a\",\"#eb9cd1\",\"#70006e\",\"#b1a131\",\"#ca6b93\",\"#4146a3\",\"#e48c89\",\"#d44400\",\"#c68aca\",\"#b69597\",\"#d41f75\",\"#724bcc\",\"#674d00\",\"#672138\",\"#38564f\",\"#6ebaaa\",\"#853a31\",\"#a5d397\",\"#b8af8e\",\"#d8e4df\",\"#aa00df\",\"#cac1db\",\"#ffdf8c\",\"#e2524d\",\"#66696e\",\"#ff001c\",\"#522d72\",\"#4d906b\",\"#a86d11\",\"#ff9e26\",\"#5ea3af\",\"#c88556\",\"#915997\",\"#a3a1ff\",\"#fdbaba\",\"#242a87\",\"#dbe6a8\",\"#97f2a7\",\"#6793d6\",\"#ba5b3f\",\"#3a5d91\",\"#364f2f\",\"#267c95\",\"#89959a\",\"#cfb356\",\"#004664\",\"#5e5d2f\",\"#8e8e41\",\"#ac3f13\",\"#69953b\",\"#a13d85\",\"#bfb6ba\",\"#acc667\",\"#6469cf\",\"#91af00\",\"#2be2da\",\"#016e36\",\"#ff7952\",\"#42807e\",\"#4fe800\",\"#995428\",\"#5d0a00\",\"#a30057\",\"#0c8700\",\"#5982a7\",\"#ffebfb\",\"#4b6901\",\"#8775d4\",\"#e6c6ff\",\"#a5ffda\",\"#d86e77\",\"#df014b\",\"#69675b\",\"#776ba1\",\"#7e8067\",\"#594685\",\"#0000ca\",\"#7c002a\",\"#97ff72\",\"#b5e2e1\",\"#db52c8\",\"#777734\",\"#57bd8e\"]},\"id\":\"2161\",\"type\":\"CategoricalColorMapper\"},{\"attributes\":{\"line_alpha\":{\"value\":0.1},\"x0\":{\"field\":\"cat\"},\"x1\":{\"field\":\"cat\"},\"y0\":{\"field\":\"bottom\"},\"y1\":{\"field\":\"bottom_whisker\"}},\"id\":\"2171\",\"type\":\"Segment\"},{\"attributes\":{},\"id\":\"2292\",\"type\":\"Title\"},{\"attributes\":{\"axis\":{\"id\":\"2138\"},\"grid_line_color\":null,\"ticker\":null},\"id\":\"2140\",\"type\":\"Grid\"},{\"attributes\":{\"x0\":{\"field\":\"cat\"},\"x1\":{\"field\":\"cat\"},\"y0\":{\"field\":\"top\"},\"y1\":{\"field\":\"top_whisker\"}},\"id\":\"2165\",\"type\":\"Segment\"},{\"attributes\":{\"bottom\":{\"field\":\"middle\"},\"fill_color\":{\"value\":\"#1f77b4\"},\"line_color\":{\"value\":\"white\"},\"top\":{\"field\":\"middle\"},\"width\":{\"value\":0.4},\"x\":{\"field\":\"cat\"}},\"id\":\"2180\",\"type\":\"VBar\"},{\"attributes\":{},\"id\":\"2134\",\"type\":\"CategoricalScale\"},{\"attributes\":{},\"id\":\"2296\",\"type\":\"BasicTickFormatter\"},{\"attributes\":{},\"id\":\"2142\",\"type\":\"BasicTicker\"},{\"attributes\":{\"data\":{\"__label\":[\"male, normal\",\"male, normal\"],\"cat\":[[\"male\",\"normal\"],[\"male\",\"normal\"]],\"gender\":[\"male\",\"male\"],\"percent correct\":[57.5,40.0],\"sleeper\":[\"normal\",\"normal\"]},\"selected\":{\"id\":\"2303\"},\"selection_policy\":{\"id\":\"2304\"}},\"id\":\"2160\",\"type\":\"ColumnDataSource\"},{\"attributes\":{},\"id\":\"2132\",\"type\":\"DataRange1d\"},{\"attributes\":{\"source\":{\"id\":\"2159\"}},\"id\":\"2183\",\"type\":\"CDSView\"},{\"attributes\":{\"factors\":[[\"female\",\"insomniac\"],[\"female\",\"normal\"],[\"male\",\"insomniac\"],[\"male\",\"normal\"]]},\"id\":\"2129\",\"type\":\"FactorRange\"}],\"root_ids\":[\"2130\"]},\"title\":\"Bokeh Application\",\"version\":\"2.3.3\"}};\n",
       "  var render_items = [{\"docid\":\"3f65c7f4-8b7d-4c40-a020-893d285b4c1d\",\"root_ids\":[\"2130\"],\"roots\":{\"2130\":\"5aaff62b-39ee-4027-b625-232dc269f7e2\"}}];\n",
       "  root.Bokeh.embed.embed_items_notebook(docs_json, render_items);\n",
       "\n",
       "  }\n",
       "  if (root.Bokeh !== undefined) {\n",
       "    embed_document(root);\n",
       "  } else {\n",
       "    var attempts = 0;\n",
       "    var timer = setInterval(function(root) {\n",
       "      if (root.Bokeh !== undefined) {\n",
       "        clearInterval(timer);\n",
       "        embed_document(root);\n",
       "      } else {\n",
       "        attempts++;\n",
       "        if (attempts > 100) {\n",
       "          clearInterval(timer);\n",
       "          console.log(\"Bokeh: ERROR: Unable to run BokehJS code because BokehJS library is missing\");\n",
       "        }\n",
       "      }\n",
       "    }, 10, root)\n",
       "  }\n",
       "})(window);"
      ],
      "application/vnd.bokehjs_exec.v0+json": ""
     },
     "metadata": {
      "application/vnd.bokehjs_exec.v0+json": {
       "id": "2130"
      }
     },
     "output_type": "display_data"
    }
   ],
   "source": [
    "p = iqplot.box(\n",
    "    data=df,\n",
    "    q='percent correct',\n",
    "    cats=['gender', 'sleeper'],\n",
    "    q_axis='y',\n",
    ")\n",
    "\n",
    "bokeh.io.show(p)"
   ]
  },
  {
   "cell_type": "markdown",
   "metadata": {},
   "source": [
    "We can independently specify properties of the marks using `box_kwargs`, `whisker_kwargs`, `median_kwargs`, and `outlier_kwargs`. For example, say we wanted our colors to be [Betancourt red](https://betanalpha.github.io/assets/case_studies/principled_bayesian_workflow.html#step_four:_build_a_generative_model19), and that we wanted the outliers to also be that color and use diamond glyphs."
   ]
  },
  {
   "cell_type": "code",
   "execution_count": 10,
   "metadata": {},
   "outputs": [
    {
     "data": {
      "text/html": [
       "\n",
       "\n",
       "\n",
       "\n",
       "\n",
       "\n",
       "  <div class=\"bk-root\" id=\"d8e33904-3ca2-4ecd-99d3-8422970e2794\" data-root-id=\"2371\"></div>\n"
      ]
     },
     "metadata": {},
     "output_type": "display_data"
    },
    {
     "data": {
      "application/javascript": [
       "(function(root) {\n",
       "  function embed_document(root) {\n",
       "    \n",
       "  var docs_json = {\"b4dffbd0-c6de-42ea-9f6c-86f87346b6cc\":{\"defs\":[],\"roots\":{\"references\":[{\"attributes\":{\"below\":[{\"id\":\"2379\"}],\"center\":[{\"id\":\"2381\"},{\"id\":\"2385\"}],\"frame_height\":275,\"frame_width\":375,\"left\":[{\"id\":\"2382\"}],\"renderers\":[{\"id\":\"2405\"},{\"id\":\"2410\"},{\"id\":\"2415\"},{\"id\":\"2420\"},{\"id\":\"2425\"},{\"id\":\"2430\"},{\"id\":\"2435\"}],\"title\":{\"id\":\"2553\"},\"toolbar\":{\"id\":\"2393\"},\"toolbar_location\":\"above\",\"x_range\":{\"id\":\"2370\"},\"x_scale\":{\"id\":\"2375\"},\"y_range\":{\"id\":\"2373\"},\"y_scale\":{\"id\":\"2377\"}},\"id\":\"2371\",\"subtype\":\"Figure\",\"type\":\"Plot\"},{\"attributes\":{},\"id\":\"2373\",\"type\":\"DataRange1d\"},{\"attributes\":{\"data\":{\"__label\":[\"female, insomniac\",\"female, normal\",\"male, insomniac\",\"male, normal\"],\"bottom\":[67.5,75.0,76.875,77.5],\"bottom_whisker\":[45.0,55.0,67.5,67.5],\"cat\":[[\"female\",\"insomniac\"],[\"female\",\"normal\"],[\"male\",\"insomniac\"],[\"male\",\"normal\"]],\"middle\":[72.5,85.0,83.75,82.5],\"top\":[83.75,88.75,88.75,89.375],\"top_whisker\":[95.0,100.0,97.5,95.0]},\"selected\":{\"id\":\"2562\"},\"selection_policy\":{\"id\":\"2563\"}},\"id\":\"2400\",\"type\":\"ColumnDataSource\"},{\"attributes\":{\"bottom\":{\"field\":\"top_whisker\"},\"fill_alpha\":{\"value\":0.1},\"fill_color\":{\"value\":\"#1f77b4\"},\"line_alpha\":{\"value\":0.1},\"line_color\":{\"value\":\"#7C0000\"},\"line_width\":{\"value\":2},\"top\":{\"field\":\"top_whisker\"},\"width\":{\"value\":0.1},\"x\":{\"field\":\"cat\"}},\"id\":\"2414\",\"type\":\"VBar\"},{\"attributes\":{\"source\":{\"id\":\"2400\"}},\"id\":\"2416\",\"type\":\"CDSView\"},{\"attributes\":{},\"id\":\"2563\",\"type\":\"UnionRenderers\"},{\"attributes\":{},\"id\":\"2564\",\"type\":\"Selection\"},{\"attributes\":{\"data_source\":{\"id\":\"2400\"},\"glyph\":{\"id\":\"2408\"},\"hover_glyph\":null,\"muted_glyph\":null,\"nonselection_glyph\":{\"id\":\"2409\"},\"view\":{\"id\":\"2411\"}},\"id\":\"2410\",\"type\":\"GlyphRenderer\"},{\"attributes\":{\"line_alpha\":{\"value\":0.1},\"line_color\":{\"value\":\"#7C0000\"},\"line_width\":{\"value\":2},\"x0\":{\"field\":\"cat\"},\"x1\":{\"field\":\"cat\"},\"y0\":{\"field\":\"bottom\"},\"y1\":{\"field\":\"bottom_whisker\"}},\"id\":\"2409\",\"type\":\"Segment\"},{\"attributes\":{},\"id\":\"2565\",\"type\":\"UnionRenderers\"},{\"attributes\":{\"bottom\":{\"field\":\"top_whisker\"},\"fill_color\":{\"value\":\"#1f77b4\"},\"line_color\":{\"value\":\"#7C0000\"},\"line_width\":{\"value\":2},\"top\":{\"field\":\"top_whisker\"},\"width\":{\"value\":0.1},\"x\":{\"field\":\"cat\"}},\"id\":\"2413\",\"type\":\"VBar\"},{\"attributes\":{\"factors\":[[\"female\",\"insomniac\"],[\"female\",\"normal\"],[\"male\",\"insomniac\"],[\"male\",\"normal\"]]},\"id\":\"2370\",\"type\":\"FactorRange\"},{\"attributes\":{},\"id\":\"2560\",\"type\":\"CategoricalTickFormatter\"},{\"attributes\":{\"bottom\":{\"field\":\"bottom\"},\"fill_color\":{\"value\":\"#7C0000\"},\"line_color\":{\"value\":null},\"top\":{\"field\":\"top\"},\"width\":{\"value\":0.4},\"x\":{\"field\":\"cat\"}},\"id\":\"2423\",\"type\":\"VBar\"},{\"attributes\":{\"fill_color\":{\"value\":\"#7C0000\"},\"line_color\":{\"value\":\"#7C0000\"},\"marker\":{\"value\":\"diamond\"},\"x\":{\"field\":\"cat\"},\"y\":{\"field\":\"percent correct\"}},\"id\":\"2433\",\"type\":\"Scatter\"},{\"attributes\":{\"line_color\":{\"value\":\"#7C0000\"},\"line_width\":{\"value\":2},\"x0\":{\"field\":\"cat\"},\"x1\":{\"field\":\"cat\"},\"y0\":{\"field\":\"top\"},\"y1\":{\"field\":\"top_whisker\"}},\"id\":\"2403\",\"type\":\"Segment\"},{\"attributes\":{},\"id\":\"2375\",\"type\":\"CategoricalScale\"},{\"attributes\":{\"bottom_units\":\"screen\",\"fill_alpha\":0.5,\"fill_color\":\"lightgrey\",\"left_units\":\"screen\",\"level\":\"overlay\",\"line_alpha\":1.0,\"line_color\":\"black\",\"line_dash\":[4,4],\"line_width\":2,\"right_units\":\"screen\",\"syncable\":false,\"top_units\":\"screen\"},\"id\":\"2392\",\"type\":\"BoxAnnotation\"},{\"attributes\":{\"formatter\":{\"id\":\"2560\"},\"major_label_policy\":{\"id\":\"2558\"},\"ticker\":{\"id\":\"2380\"}},\"id\":\"2379\",\"type\":\"CategoricalAxis\"},{\"attributes\":{},\"id\":\"2380\",\"type\":\"CategoricalTicker\"},{\"attributes\":{},\"id\":\"2387\",\"type\":\"WheelZoomTool\"},{\"attributes\":{\"data_source\":{\"id\":\"2400\"},\"glyph\":{\"id\":\"2428\"},\"hover_glyph\":null,\"muted_glyph\":null,\"nonselection_glyph\":{\"id\":\"2429\"},\"view\":{\"id\":\"2431\"}},\"id\":\"2430\",\"type\":\"GlyphRenderer\"},{\"attributes\":{\"bottom\":{\"field\":\"middle\"},\"fill_alpha\":{\"value\":0.1},\"fill_color\":{\"value\":\"#1f77b4\"},\"line_alpha\":{\"value\":0.1},\"line_color\":{\"value\":\"white\"},\"top\":{\"field\":\"middle\"},\"width\":{\"value\":0.4},\"x\":{\"field\":\"cat\"}},\"id\":\"2429\",\"type\":\"VBar\"},{\"attributes\":{\"axis_label\":\"percent correct\",\"formatter\":{\"id\":\"2557\"},\"major_label_policy\":{\"id\":\"2555\"},\"ticker\":{\"id\":\"2383\"}},\"id\":\"2382\",\"type\":\"LinearAxis\"},{\"attributes\":{},\"id\":\"2562\",\"type\":\"Selection\"},{\"attributes\":{},\"id\":\"2377\",\"type\":\"LinearScale\"},{\"attributes\":{\"data_source\":{\"id\":\"2401\"},\"glyph\":{\"id\":\"2433\"},\"hover_glyph\":null,\"muted_glyph\":null,\"nonselection_glyph\":{\"id\":\"2434\"},\"view\":{\"id\":\"2436\"}},\"id\":\"2435\",\"type\":\"GlyphRenderer\"},{\"attributes\":{\"data_source\":{\"id\":\"2400\"},\"glyph\":{\"id\":\"2413\"},\"hover_glyph\":null,\"muted_glyph\":null,\"nonselection_glyph\":{\"id\":\"2414\"},\"view\":{\"id\":\"2416\"}},\"id\":\"2415\",\"type\":\"GlyphRenderer\"},{\"attributes\":{},\"id\":\"2553\",\"type\":\"Title\"},{\"attributes\":{\"data_source\":{\"id\":\"2400\"},\"glyph\":{\"id\":\"2403\"},\"hover_glyph\":null,\"muted_glyph\":null,\"nonselection_glyph\":{\"id\":\"2404\"},\"view\":{\"id\":\"2406\"}},\"id\":\"2405\",\"type\":\"GlyphRenderer\"},{\"attributes\":{\"axis\":{\"id\":\"2382\"},\"dimension\":1,\"ticker\":null},\"id\":\"2385\",\"type\":\"Grid\"},{\"attributes\":{\"source\":{\"id\":\"2400\"}},\"id\":\"2406\",\"type\":\"CDSView\"},{\"attributes\":{\"axis\":{\"id\":\"2379\"},\"grid_line_color\":null,\"ticker\":null},\"id\":\"2381\",\"type\":\"Grid\"},{\"attributes\":{\"bottom\":{\"field\":\"bottom_whisker\"},\"fill_color\":{\"value\":\"#1f77b4\"},\"line_color\":{\"value\":\"#7C0000\"},\"line_width\":{\"value\":2},\"top\":{\"field\":\"bottom_whisker\"},\"width\":{\"value\":0.1},\"x\":{\"field\":\"cat\"}},\"id\":\"2418\",\"type\":\"VBar\"},{\"attributes\":{\"source\":{\"id\":\"2401\"}},\"id\":\"2436\",\"type\":\"CDSView\"},{\"attributes\":{},\"id\":\"2383\",\"type\":\"BasicTicker\"},{\"attributes\":{\"line_color\":{\"value\":\"#7C0000\"},\"line_width\":{\"value\":2},\"x0\":{\"field\":\"cat\"},\"x1\":{\"field\":\"cat\"},\"y0\":{\"field\":\"bottom\"},\"y1\":{\"field\":\"bottom_whisker\"}},\"id\":\"2408\",\"type\":\"Segment\"},{\"attributes\":{},\"id\":\"2555\",\"type\":\"AllLabels\"},{\"attributes\":{\"active_multi\":null,\"tools\":[{\"id\":\"2386\"},{\"id\":\"2387\"},{\"id\":\"2388\"},{\"id\":\"2389\"},{\"id\":\"2390\"},{\"id\":\"2391\"}]},\"id\":\"2393\",\"type\":\"Toolbar\"},{\"attributes\":{\"bottom\":{\"field\":\"bottom\"},\"fill_alpha\":{\"value\":0.1},\"fill_color\":{\"value\":\"#7C0000\"},\"line_alpha\":{\"value\":0.1},\"line_color\":{\"value\":null},\"top\":{\"field\":\"top\"},\"width\":{\"value\":0.4},\"x\":{\"field\":\"cat\"}},\"id\":\"2424\",\"type\":\"VBar\"},{\"attributes\":{},\"id\":\"2391\",\"type\":\"HelpTool\"},{\"attributes\":{},\"id\":\"2557\",\"type\":\"BasicTickFormatter\"},{\"attributes\":{},\"id\":\"2386\",\"type\":\"PanTool\"},{\"attributes\":{\"source\":{\"id\":\"2400\"}},\"id\":\"2421\",\"type\":\"CDSView\"},{\"attributes\":{\"overlay\":{\"id\":\"2392\"}},\"id\":\"2388\",\"type\":\"BoxZoomTool\"},{\"attributes\":{},\"id\":\"2389\",\"type\":\"SaveTool\"},{\"attributes\":{\"data_source\":{\"id\":\"2400\"},\"glyph\":{\"id\":\"2418\"},\"hover_glyph\":null,\"muted_glyph\":null,\"nonselection_glyph\":{\"id\":\"2419\"},\"view\":{\"id\":\"2421\"}},\"id\":\"2420\",\"type\":\"GlyphRenderer\"},{\"attributes\":{\"fill_alpha\":{\"value\":0.1},\"fill_color\":{\"value\":\"#7C0000\"},\"line_alpha\":{\"value\":0.1},\"line_color\":{\"value\":\"#7C0000\"},\"marker\":{\"value\":\"diamond\"},\"x\":{\"field\":\"cat\"},\"y\":{\"field\":\"percent correct\"}},\"id\":\"2434\",\"type\":\"Scatter\"},{\"attributes\":{},\"id\":\"2558\",\"type\":\"AllLabels\"},{\"attributes\":{},\"id\":\"2390\",\"type\":\"ResetTool\"},{\"attributes\":{\"source\":{\"id\":\"2400\"}},\"id\":\"2431\",\"type\":\"CDSView\"},{\"attributes\":{\"line_alpha\":{\"value\":0.1},\"line_color\":{\"value\":\"#7C0000\"},\"line_width\":{\"value\":2},\"x0\":{\"field\":\"cat\"},\"x1\":{\"field\":\"cat\"},\"y0\":{\"field\":\"top\"},\"y1\":{\"field\":\"top_whisker\"}},\"id\":\"2404\",\"type\":\"Segment\"},{\"attributes\":{\"source\":{\"id\":\"2400\"}},\"id\":\"2426\",\"type\":\"CDSView\"},{\"attributes\":{\"data_source\":{\"id\":\"2400\"},\"glyph\":{\"id\":\"2423\"},\"hover_glyph\":null,\"muted_glyph\":null,\"nonselection_glyph\":{\"id\":\"2424\"},\"view\":{\"id\":\"2426\"}},\"id\":\"2425\",\"type\":\"GlyphRenderer\"},{\"attributes\":{\"bottom\":{\"field\":\"bottom_whisker\"},\"fill_alpha\":{\"value\":0.1},\"fill_color\":{\"value\":\"#1f77b4\"},\"line_alpha\":{\"value\":0.1},\"line_color\":{\"value\":\"#7C0000\"},\"line_width\":{\"value\":2},\"top\":{\"field\":\"bottom_whisker\"},\"width\":{\"value\":0.1},\"x\":{\"field\":\"cat\"}},\"id\":\"2419\",\"type\":\"VBar\"},{\"attributes\":{\"bottom\":{\"field\":\"middle\"},\"fill_color\":{\"value\":\"#1f77b4\"},\"line_color\":{\"value\":\"white\"},\"top\":{\"field\":\"middle\"},\"width\":{\"value\":0.4},\"x\":{\"field\":\"cat\"}},\"id\":\"2428\",\"type\":\"VBar\"},{\"attributes\":{\"data\":{\"__label\":[\"male, normal\",\"male, normal\"],\"cat\":[[\"male\",\"normal\"],[\"male\",\"normal\"]],\"gender\":[\"male\",\"male\"],\"percent correct\":[57.5,40.0],\"sleeper\":[\"normal\",\"normal\"]},\"selected\":{\"id\":\"2564\"},\"selection_policy\":{\"id\":\"2565\"}},\"id\":\"2401\",\"type\":\"ColumnDataSource\"},{\"attributes\":{\"source\":{\"id\":\"2400\"}},\"id\":\"2411\",\"type\":\"CDSView\"}],\"root_ids\":[\"2371\"]},\"title\":\"Bokeh Application\",\"version\":\"2.3.3\"}};\n",
       "  var render_items = [{\"docid\":\"b4dffbd0-c6de-42ea-9f6c-86f87346b6cc\",\"root_ids\":[\"2371\"],\"roots\":{\"2371\":\"d8e33904-3ca2-4ecd-99d3-8422970e2794\"}}];\n",
       "  root.Bokeh.embed.embed_items_notebook(docs_json, render_items);\n",
       "\n",
       "  }\n",
       "  if (root.Bokeh !== undefined) {\n",
       "    embed_document(root);\n",
       "  } else {\n",
       "    var attempts = 0;\n",
       "    var timer = setInterval(function(root) {\n",
       "      if (root.Bokeh !== undefined) {\n",
       "        clearInterval(timer);\n",
       "        embed_document(root);\n",
       "      } else {\n",
       "        attempts++;\n",
       "        if (attempts > 100) {\n",
       "          clearInterval(timer);\n",
       "          console.log(\"Bokeh: ERROR: Unable to run BokehJS code because BokehJS library is missing\");\n",
       "        }\n",
       "      }\n",
       "    }, 10, root)\n",
       "  }\n",
       "})(window);"
      ],
      "application/vnd.bokehjs_exec.v0+json": ""
     },
     "metadata": {
      "application/vnd.bokehjs_exec.v0+json": {
       "id": "2371"
      }
     },
     "output_type": "display_data"
    }
   ],
   "source": [
    "p = iqplot.box(\n",
    "    data=df,\n",
    "    q='percent correct',\n",
    "    cats=['gender', 'sleeper'],\n",
    "    q_axis='y',\n",
    "    whisker_caps=True,\n",
    "    outlier_marker='diamond',\n",
    "    box_kwargs=dict(fill_color='#7C0000'),\n",
    "    whisker_kwargs=dict(line_color='#7C0000', line_width=2),\n",
    ")\n",
    "\n",
    "bokeh.io.show(p)"
   ]
  },
  {
   "cell_type": "markdown",
   "metadata": {},
   "source": [
    "### Customzing strip plots\n",
    "\n",
    "To help alleviate the overlap problem, we can make a strip plot with dash markers and add some transparency."
   ]
  },
  {
   "cell_type": "code",
   "execution_count": 11,
   "metadata": {},
   "outputs": [
    {
     "data": {
      "text/html": [
       "\n",
       "\n",
       "\n",
       "\n",
       "\n",
       "\n",
       "  <div class=\"bk-root\" id=\"c0103d0c-2928-457c-a957-a9954c6d251d\" data-root-id=\"2632\"></div>\n"
      ]
     },
     "metadata": {},
     "output_type": "display_data"
    },
    {
     "data": {
      "application/javascript": [
       "(function(root) {\n",
       "  function embed_document(root) {\n",
       "    \n",
       "  var docs_json = {\"63effcc3-0256-4352-9f2d-40199261c7f1\":{\"defs\":[],\"roots\":{\"references\":[{\"attributes\":{\"below\":[{\"id\":\"2640\"}],\"center\":[{\"id\":\"2643\"},{\"id\":\"2646\"}],\"frame_height\":275,\"frame_width\":375,\"left\":[{\"id\":\"2644\"}],\"renderers\":[{\"id\":\"2666\"}],\"title\":{\"id\":\"2797\"},\"toolbar\":{\"id\":\"2654\"},\"toolbar_location\":\"above\",\"x_range\":{\"id\":\"2633\"},\"x_scale\":{\"id\":\"2636\"},\"y_range\":{\"id\":\"2631\"},\"y_scale\":{\"id\":\"2638\"}},\"id\":\"2632\",\"subtype\":\"Figure\",\"type\":\"Plot\"},{\"attributes\":{\"bottom_units\":\"screen\",\"fill_alpha\":0.5,\"fill_color\":\"lightgrey\",\"left_units\":\"screen\",\"level\":\"overlay\",\"line_alpha\":1.0,\"line_color\":\"black\",\"line_dash\":[4,4],\"line_width\":2,\"right_units\":\"screen\",\"syncable\":false,\"top_units\":\"screen\"},\"id\":\"2653\",\"type\":\"BoxAnnotation\"},{\"attributes\":{},\"id\":\"2641\",\"type\":\"BasicTicker\"},{\"attributes\":{},\"id\":\"2636\",\"type\":\"LinearScale\"},{\"attributes\":{},\"id\":\"2801\",\"type\":\"CategoricalTickFormatter\"},{\"attributes\":{},\"id\":\"2638\",\"type\":\"CategoricalScale\"},{\"attributes\":{\"axis\":{\"id\":\"2640\"},\"ticker\":null},\"id\":\"2643\",\"type\":\"Grid\"},{\"attributes\":{\"source\":{\"id\":\"2662\"}},\"id\":\"2667\",\"type\":\"CDSView\"},{\"attributes\":{\"axis_label\":\"percent correct\",\"formatter\":{\"id\":\"2804\"},\"major_label_policy\":{\"id\":\"2802\"},\"ticker\":{\"id\":\"2641\"}},\"id\":\"2640\",\"type\":\"LinearAxis\"},{\"attributes\":{\"active_multi\":null,\"tools\":[{\"id\":\"2647\"},{\"id\":\"2648\"},{\"id\":\"2649\"},{\"id\":\"2650\"},{\"id\":\"2651\"},{\"id\":\"2652\"}]},\"id\":\"2654\",\"type\":\"Toolbar\"},{\"attributes\":{\"data_source\":{\"id\":\"2662\"},\"glyph\":{\"id\":\"2664\"},\"hover_glyph\":null,\"muted_glyph\":null,\"nonselection_glyph\":{\"id\":\"2665\"},\"view\":{\"id\":\"2667\"}},\"id\":\"2666\",\"type\":\"GlyphRenderer\"},{\"attributes\":{\"data\":{\"__label\":[\"female, insomniac\",\"male, insomniac\",\"female, insomniac\",\"female, insomniac\",\"female, insomniac\",\"female, insomniac\",\"male, insomniac\",\"male, insomniac\",\"female, insomniac\",\"female, insomniac\",\"female, insomniac\",\"female, insomniac\",\"female, insomniac\",\"female, insomniac\",\"female, insomniac\",\"female, insomniac\",\"female, insomniac\",\"female, insomniac\",\"male, insomniac\",\"male, insomniac\",\"female, insomniac\",\"male, insomniac\",\"female, insomniac\",\"female, insomniac\",\"female, insomniac\",\"female, normal\",\"female, normal\",\"female, normal\",\"female, normal\",\"female, normal\",\"female, normal\",\"female, normal\",\"male, normal\",\"female, normal\",\"female, normal\",\"male, normal\",\"male, normal\",\"male, normal\",\"female, normal\",\"male, normal\",\"female, normal\",\"female, normal\",\"male, normal\",\"male, normal\",\"female, normal\",\"female, normal\",\"male, normal\",\"female, normal\",\"male, normal\",\"female, normal\",\"male, normal\",\"female, normal\",\"female, normal\",\"male, normal\",\"male, normal\",\"female, normal\",\"female, normal\",\"female, normal\",\"female, normal\",\"male, normal\",\"female, normal\",\"female, normal\",\"female, normal\",\"female, normal\",\"male, normal\",\"female, normal\",\"female, normal\",\"female, normal\",\"male, normal\",\"female, normal\",\"female, normal\",\"female, normal\",\"female, normal\",\"female, normal\",\"female, normal\",\"female, normal\",\"female, normal\",\"female, normal\",\"female, normal\",\"female, normal\",\"female, normal\",\"male, normal\",\"female, normal\",\"female, normal\",\"male, normal\",\"female, normal\",\"female, normal\",\"female, normal\",\"female, normal\",\"female, normal\",\"male, normal\",\"male, normal\",\"male, normal\",\"male, normal\",\"female, normal\",\"male, normal\",\"female, normal\",\"female, normal\",\"female, normal\",\"female, normal\",\"female, normal\",\"female, normal\"],\"cat\":[[\"female\",\"insomniac\"],[\"male\",\"insomniac\"],[\"female\",\"insomniac\"],[\"female\",\"insomniac\"],[\"female\",\"insomniac\"],[\"female\",\"insomniac\"],[\"male\",\"insomniac\"],[\"male\",\"insomniac\"],[\"female\",\"insomniac\"],[\"female\",\"insomniac\"],[\"female\",\"insomniac\"],[\"female\",\"insomniac\"],[\"female\",\"insomniac\"],[\"female\",\"insomniac\"],[\"female\",\"insomniac\"],[\"female\",\"insomniac\"],[\"female\",\"insomniac\"],[\"female\",\"insomniac\"],[\"male\",\"insomniac\"],[\"male\",\"insomniac\"],[\"female\",\"insomniac\"],[\"male\",\"insomniac\"],[\"female\",\"insomniac\"],[\"female\",\"insomniac\"],[\"female\",\"insomniac\"],[\"female\",\"normal\"],[\"female\",\"normal\"],[\"female\",\"normal\"],[\"female\",\"normal\"],[\"female\",\"normal\"],[\"female\",\"normal\"],[\"female\",\"normal\"],[\"male\",\"normal\"],[\"female\",\"normal\"],[\"female\",\"normal\"],[\"male\",\"normal\"],[\"male\",\"normal\"],[\"male\",\"normal\"],[\"female\",\"normal\"],[\"male\",\"normal\"],[\"female\",\"normal\"],[\"female\",\"normal\"],[\"male\",\"normal\"],[\"male\",\"normal\"],[\"female\",\"normal\"],[\"female\",\"normal\"],[\"male\",\"normal\"],[\"female\",\"normal\"],[\"male\",\"normal\"],[\"female\",\"normal\"],[\"male\",\"normal\"],[\"female\",\"normal\"],[\"female\",\"normal\"],[\"male\",\"normal\"],[\"male\",\"normal\"],[\"female\",\"normal\"],[\"female\",\"normal\"],[\"female\",\"normal\"],[\"female\",\"normal\"],[\"male\",\"normal\"],[\"female\",\"normal\"],[\"female\",\"normal\"],[\"female\",\"normal\"],[\"female\",\"normal\"],[\"male\",\"normal\"],[\"female\",\"normal\"],[\"female\",\"normal\"],[\"female\",\"normal\"],[\"male\",\"normal\"],[\"female\",\"normal\"],[\"female\",\"normal\"],[\"female\",\"normal\"],[\"female\",\"normal\"],[\"female\",\"normal\"],[\"female\",\"normal\"],[\"female\",\"normal\"],[\"female\",\"normal\"],[\"female\",\"normal\"],[\"female\",\"normal\"],[\"female\",\"normal\"],[\"female\",\"normal\"],[\"male\",\"normal\"],[\"female\",\"normal\"],[\"female\",\"normal\"],[\"male\",\"normal\"],[\"female\",\"normal\"],[\"female\",\"normal\"],[\"female\",\"normal\"],[\"female\",\"normal\"],[\"female\",\"normal\"],[\"male\",\"normal\"],[\"male\",\"normal\"],[\"male\",\"normal\"],[\"male\",\"normal\"],[\"female\",\"normal\"],[\"male\",\"normal\"],[\"female\",\"normal\"],[\"female\",\"normal\"],[\"female\",\"normal\"],[\"female\",\"normal\"],[\"female\",\"normal\"],[\"female\",\"normal\"]],\"gender\":[\"female\",\"male\",\"female\",\"female\",\"female\",\"female\",\"male\",\"male\",\"female\",\"female\",\"female\",\"female\",\"female\",\"female\",\"female\",\"female\",\"female\",\"female\",\"male\",\"male\",\"female\",\"male\",\"female\",\"female\",\"female\",\"female\",\"female\",\"female\",\"female\",\"female\",\"female\",\"female\",\"male\",\"female\",\"female\",\"male\",\"male\",\"male\",\"female\",\"male\",\"female\",\"female\",\"male\",\"male\",\"female\",\"female\",\"male\",\"female\",\"male\",\"female\",\"male\",\"female\",\"female\",\"male\",\"male\",\"female\",\"female\",\"female\",\"female\",\"male\",\"female\",\"female\",\"female\",\"female\",\"male\",\"female\",\"female\",\"female\",\"male\",\"female\",\"female\",\"female\",\"female\",\"female\",\"female\",\"female\",\"female\",\"female\",\"female\",\"female\",\"female\",\"male\",\"female\",\"female\",\"male\",\"female\",\"female\",\"female\",\"female\",\"female\",\"male\",\"male\",\"male\",\"male\",\"female\",\"male\",\"female\",\"female\",\"female\",\"female\",\"female\",\"female\"],\"percent correct\":[72.5,90.0,92.5,87.5,62.5,50.0,82.5,67.5,90.0,75.0,62.5,95.0,80.0,80.0,65.0,70.0,70.0,80.0,85.0,75.0,70.0,97.5,87.5,45.0,70.0,72.5,85.0,75.0,67.5,95.0,87.5,92.5,90.0,100.0,70.0,85.0,77.5,92.5,85.0,57.5,92.5,65.0,95.0,77.5,80.0,90.0,80.0,87.5,92.5,75.0,67.5,77.5,72.5,72.5,85.0,87.5,87.5,90.0,87.5,80.0,90.0,80.0,85.0,85.0,77.5,85.0,85.0,85.0,77.5,90.0,100.0,85.0,87.5,97.5,92.5,100.0,60.0,95.0,77.5,77.5,82.5,40.0,87.5,85.0,87.5,77.5,62.5,72.5,85.0,92.5,85.0,72.5,90.0,90.0,55.0,87.5,60.0,77.5,87.5,75.0,70.0,62.5],\"sleeper\":[\"insomniac\",\"insomniac\",\"insomniac\",\"insomniac\",\"insomniac\",\"insomniac\",\"insomniac\",\"insomniac\",\"insomniac\",\"insomniac\",\"insomniac\",\"insomniac\",\"insomniac\",\"insomniac\",\"insomniac\",\"insomniac\",\"insomniac\",\"insomniac\",\"insomniac\",\"insomniac\",\"insomniac\",\"insomniac\",\"insomniac\",\"insomniac\",\"insomniac\",\"normal\",\"normal\",\"normal\",\"normal\",\"normal\",\"normal\",\"normal\",\"normal\",\"normal\",\"normal\",\"normal\",\"normal\",\"normal\",\"normal\",\"normal\",\"normal\",\"normal\",\"normal\",\"normal\",\"normal\",\"normal\",\"normal\",\"normal\",\"normal\",\"normal\",\"normal\",\"normal\",\"normal\",\"normal\",\"normal\",\"normal\",\"normal\",\"normal\",\"normal\",\"normal\",\"normal\",\"normal\",\"normal\",\"normal\",\"normal\",\"normal\",\"normal\",\"normal\",\"normal\",\"normal\",\"normal\",\"normal\",\"normal\",\"normal\",\"normal\",\"normal\",\"normal\",\"normal\",\"normal\",\"normal\",\"normal\",\"normal\",\"normal\",\"normal\",\"normal\",\"normal\",\"normal\",\"normal\",\"normal\",\"normal\",\"normal\",\"normal\",\"normal\",\"normal\",\"normal\",\"normal\",\"normal\",\"normal\",\"normal\",\"normal\",\"normal\",\"normal\"]},\"selected\":{\"id\":\"2806\"},\"selection_policy\":{\"id\":\"2807\"}},\"id\":\"2662\",\"type\":\"ColumnDataSource\"},{\"attributes\":{\"angle\":{\"value\":1.5707963267948966},\"fill_alpha\":{\"value\":0.1},\"fill_color\":{\"field\":\"cat\",\"transform\":{\"id\":\"2661\"}},\"line_alpha\":{\"value\":0.1},\"line_color\":{\"field\":\"cat\",\"transform\":{\"id\":\"2661\"}},\"marker\":{\"value\":\"dash\"},\"size\":{\"value\":37.5},\"x\":{\"field\":\"percent correct\"},\"y\":{\"field\":\"cat\"}},\"id\":\"2665\",\"type\":\"Scatter\"},{\"attributes\":{\"factors\":[[\"male\",\"normal\"],[\"male\",\"insomniac\"],[\"female\",\"normal\"],[\"female\",\"insomniac\"]]},\"id\":\"2631\",\"type\":\"FactorRange\"},{\"attributes\":{},\"id\":\"2645\",\"type\":\"CategoricalTicker\"},{\"attributes\":{},\"id\":\"2806\",\"type\":\"Selection\"},{\"attributes\":{},\"id\":\"2648\",\"type\":\"WheelZoomTool\"},{\"attributes\":{\"formatter\":{\"id\":\"2801\"},\"major_label_policy\":{\"id\":\"2799\"},\"ticker\":{\"id\":\"2645\"}},\"id\":\"2644\",\"type\":\"CategoricalAxis\"},{\"attributes\":{},\"id\":\"2807\",\"type\":\"UnionRenderers\"},{\"attributes\":{\"factors\":[[\"female\",\"insomniac\"],[\"female\",\"normal\"],[\"male\",\"insomniac\"],[\"male\",\"normal\"]],\"palette\":[\"#1f77b3\",\"#ff7e0e\",\"#2ba02b\",\"#d62628\",\"#9367bc\",\"#8c564b\",\"#e277c1\",\"#7e7e7e\",\"#bcbc21\",\"#16bdcf\",\"#3a0182\",\"#004201\",\"#0fffa8\",\"#5d003f\",\"#bcbcff\",\"#d8afa1\",\"#b80080\",\"#004d52\",\"#6b6400\",\"#7c0100\",\"#6026ff\",\"#ffff9a\",\"#564964\",\"#8cb893\",\"#93fbff\",\"#018267\",\"#90ff00\",\"#8200a0\",\"#ac8944\",\"#5b3400\",\"#ffbff2\",\"#ff6e75\",\"#798cff\",\"#dd00ff\",\"#505646\",\"#004489\",\"#ffbf60\",\"#ff018c\",\"#bdc8cf\",\"#af97b5\",\"#b65600\",\"#017000\",\"#cd87ff\",\"#1cd646\",\"#bfebc3\",\"#7997b5\",\"#a56089\",\"#6e8956\",\"#bc7c75\",\"#8a2844\",\"#00acff\",\"#8ed4ff\",\"#4b6d77\",\"#00d4b1\",\"#9300f2\",\"#8a9500\",\"#5d5b9e\",\"#fddfba\",\"#00939e\",\"#ffdb00\",\"#00aa79\",\"#520067\",\"#000091\",\"#0a5d3d\",\"#a5e275\",\"#623b41\",\"#c6c689\",\"#ff9eb5\",\"#cd4f6b\",\"#ff07d6\",\"#8a3a05\",\"#7e3d70\",\"#ff4901\",\"#602ba5\",\"#1c00ff\",\"#e6dfff\",\"#aa3baf\",\"#d89c00\",\"#a3a39e\",\"#3f69ff\",\"#46490c\",\"#7b6985\",\"#6b978c\",\"#ff9a75\",\"#835bff\",\"#7c6b46\",\"#80b654\",\"#bc0049\",\"#fd93ff\",\"#5d0018\",\"#89d1d1\",\"#9c8cd3\",\"#da6d42\",\"#8a5700\",\"#3b5069\",\"#4b6b3b\",\"#edcfd8\",\"#cfedff\",\"#aa1500\",\"#dfff4f\",\"#ff2a56\",\"#d1499e\",\"#707cb8\",\"#598000\",\"#00e4fd\",\"#774b95\",\"#67d48c\",\"#3d3a72\",\"#ac413f\",\"#d6a166\",\"#c169cd\",\"#69595d\",\"#87aced\",\"#a0a569\",\"#d1aae6\",\"#870062\",\"#00fddb\",\"#672818\",\"#b342ff\",\"#0e59c4\",\"#168742\",\"#90d300\",\"#cd7900\",\"#f959ff\",\"#5b7466\",\"#8eaeb3\",\"#9c7c8c\",\"#4600c6\",\"#6b4d2d\",\"#a56d46\",\"#9e8972\",\"#a8afca\",\"#cd8ca7\",\"#00fd64\",\"#917900\",\"#ff62a1\",\"#f4ffd8\",\"#018cf0\",\"#13aca0\",\"#5b2d59\",\"#89859e\",\"#cfccba\",\"#d4afc4\",\"#dbdd6d\",\"#cffff4\",\"#006485\",\"#006962\",\"#a84167\",\"#2d97c4\",\"#a874ff\",\"#26ba5d\",\"#57b600\",\"#caffa7\",\"#a379aa\",\"#ffbc93\",\"#89e2c1\",\"#0fc8ff\",\"#d400c4\",\"#626d89\",\"#69858e\",\"#4b4d52\",\"#aa6067\",\"#79b5d4\",\"#2b5916\",\"#9a0024\",\"#bdd1f2\",\"#896e67\",\"#69a56b\",\"#855467\",\"#aecdba\",\"#87997e\",\"#cadb00\",\"#9a0390\",\"#ebbc1a\",\"#eb9cd1\",\"#70006e\",\"#b1a131\",\"#ca6b93\",\"#4146a3\",\"#e48c89\",\"#d44400\",\"#c68aca\",\"#b69597\",\"#d41f75\",\"#724bcc\",\"#674d00\",\"#672138\",\"#38564f\",\"#6ebaaa\",\"#853a31\",\"#a5d397\",\"#b8af8e\",\"#d8e4df\",\"#aa00df\",\"#cac1db\",\"#ffdf8c\",\"#e2524d\",\"#66696e\",\"#ff001c\",\"#522d72\",\"#4d906b\",\"#a86d11\",\"#ff9e26\",\"#5ea3af\",\"#c88556\",\"#915997\",\"#a3a1ff\",\"#fdbaba\",\"#242a87\",\"#dbe6a8\",\"#97f2a7\",\"#6793d6\",\"#ba5b3f\",\"#3a5d91\",\"#364f2f\",\"#267c95\",\"#89959a\",\"#cfb356\",\"#004664\",\"#5e5d2f\",\"#8e8e41\",\"#ac3f13\",\"#69953b\",\"#a13d85\",\"#bfb6ba\",\"#acc667\",\"#6469cf\",\"#91af00\",\"#2be2da\",\"#016e36\",\"#ff7952\",\"#42807e\",\"#4fe800\",\"#995428\",\"#5d0a00\",\"#a30057\",\"#0c8700\",\"#5982a7\",\"#ffebfb\",\"#4b6901\",\"#8775d4\",\"#e6c6ff\",\"#a5ffda\",\"#d86e77\",\"#df014b\",\"#69675b\",\"#776ba1\",\"#7e8067\",\"#594685\",\"#0000ca\",\"#7c002a\",\"#97ff72\",\"#b5e2e1\",\"#db52c8\",\"#777734\",\"#57bd8e\"]},\"id\":\"2661\",\"type\":\"CategoricalColorMapper\"},{\"attributes\":{},\"id\":\"2804\",\"type\":\"BasicTickFormatter\"},{\"attributes\":{},\"id\":\"2652\",\"type\":\"HelpTool\"},{\"attributes\":{\"axis\":{\"id\":\"2644\"},\"dimension\":1,\"grid_line_color\":null,\"ticker\":null},\"id\":\"2646\",\"type\":\"Grid\"},{\"attributes\":{},\"id\":\"2799\",\"type\":\"AllLabels\"},{\"attributes\":{\"overlay\":{\"id\":\"2653\"}},\"id\":\"2649\",\"type\":\"BoxZoomTool\"},{\"attributes\":{},\"id\":\"2647\",\"type\":\"PanTool\"},{\"attributes\":{},\"id\":\"2797\",\"type\":\"Title\"},{\"attributes\":{},\"id\":\"2650\",\"type\":\"SaveTool\"},{\"attributes\":{},\"id\":\"2651\",\"type\":\"ResetTool\"},{\"attributes\":{},\"id\":\"2802\",\"type\":\"AllLabels\"},{\"attributes\":{\"angle\":{\"value\":1.5707963267948966},\"fill_alpha\":{\"value\":0.5},\"fill_color\":{\"field\":\"cat\",\"transform\":{\"id\":\"2661\"}},\"line_alpha\":{\"value\":0.5},\"line_color\":{\"field\":\"cat\",\"transform\":{\"id\":\"2661\"}},\"marker\":{\"value\":\"dash\"},\"size\":{\"value\":37.5},\"x\":{\"field\":\"percent correct\"},\"y\":{\"field\":\"cat\"}},\"id\":\"2664\",\"type\":\"Scatter\"},{\"attributes\":{},\"id\":\"2633\",\"type\":\"DataRange1d\"}],\"root_ids\":[\"2632\"]},\"title\":\"Bokeh Application\",\"version\":\"2.3.3\"}};\n",
       "  var render_items = [{\"docid\":\"63effcc3-0256-4352-9f2d-40199261c7f1\",\"root_ids\":[\"2632\"],\"roots\":{\"2632\":\"c0103d0c-2928-457c-a957-a9954c6d251d\"}}];\n",
       "  root.Bokeh.embed.embed_items_notebook(docs_json, render_items);\n",
       "\n",
       "  }\n",
       "  if (root.Bokeh !== undefined) {\n",
       "    embed_document(root);\n",
       "  } else {\n",
       "    var attempts = 0;\n",
       "    var timer = setInterval(function(root) {\n",
       "      if (root.Bokeh !== undefined) {\n",
       "        clearInterval(timer);\n",
       "        embed_document(root);\n",
       "      } else {\n",
       "        attempts++;\n",
       "        if (attempts > 100) {\n",
       "          clearInterval(timer);\n",
       "          console.log(\"Bokeh: ERROR: Unable to run BokehJS code because BokehJS library is missing\");\n",
       "        }\n",
       "      }\n",
       "    }, 10, root)\n",
       "  }\n",
       "})(window);"
      ],
      "application/vnd.bokehjs_exec.v0+json": ""
     },
     "metadata": {
      "application/vnd.bokehjs_exec.v0+json": {
       "id": "2632"
      }
     },
     "output_type": "display_data"
    }
   ],
   "source": [
    "p = iqplot.strip(\n",
    "    data=df,\n",
    "    q='percent correct',\n",
    "    cats=['gender', 'sleeper'],\n",
    "    marker='dash',\n",
    "    marker_kwargs=dict(alpha=0.5)\n",
    ")\n",
    "\n",
    "bokeh.io.show(p)"
   ]
  },
  {
   "cell_type": "markdown",
   "metadata": {},
   "source": [
    "I prefer jittering to this, but a strip plot with dashes is an option (also in HoloViews). Below, I add hover tools that give more information about the respective data points in a jittered strip plot."
   ]
  },
  {
   "cell_type": "code",
   "execution_count": 12,
   "metadata": {},
   "outputs": [
    {
     "data": {
      "text/html": [
       "\n",
       "\n",
       "\n",
       "\n",
       "\n",
       "\n",
       "  <div class=\"bk-root\" id=\"a9c6194f-16b5-4f80-ade4-4b14c0a1f02f\" data-root-id=\"2864\"></div>\n"
      ]
     },
     "metadata": {},
     "output_type": "display_data"
    },
    {
     "data": {
      "application/javascript": [
       "(function(root) {\n",
       "  function embed_document(root) {\n",
       "    \n",
       "  var docs_json = {\"e11fd77b-4aa8-459b-952f-12f7c628d13b\":{\"defs\":[],\"roots\":{\"references\":[{\"attributes\":{\"below\":[{\"id\":\"2872\"}],\"center\":[{\"id\":\"2875\"},{\"id\":\"2878\"}],\"frame_height\":275,\"frame_width\":375,\"left\":[{\"id\":\"2876\"}],\"renderers\":[{\"id\":\"2901\"}],\"title\":{\"id\":\"3043\"},\"toolbar\":{\"id\":\"2886\"},\"toolbar_location\":\"above\",\"x_range\":{\"id\":\"2865\"},\"x_scale\":{\"id\":\"2868\"},\"y_range\":{\"id\":\"2863\"},\"y_scale\":{\"id\":\"2870\"}},\"id\":\"2864\",\"subtype\":\"Figure\",\"type\":\"Plot\"},{\"attributes\":{\"overlay\":{\"id\":\"2885\"}},\"id\":\"2881\",\"type\":\"BoxZoomTool\"},{\"attributes\":{},\"id\":\"2882\",\"type\":\"SaveTool\"},{\"attributes\":{},\"id\":\"2883\",\"type\":\"ResetTool\"},{\"attributes\":{},\"id\":\"3050\",\"type\":\"BasicTickFormatter\"},{\"attributes\":{\"callback\":null,\"tooltips\":[[\"age\",\"@{age}\"],[\"participant number\",\"@{participant number}\"]]},\"id\":\"2893\",\"type\":\"HoverTool\"},{\"attributes\":{\"data\":{\"__label\":[\"female, insomniac\",\"male, insomniac\",\"female, insomniac\",\"female, insomniac\",\"female, insomniac\",\"female, insomniac\",\"male, insomniac\",\"male, insomniac\",\"female, insomniac\",\"female, insomniac\",\"female, insomniac\",\"female, insomniac\",\"female, insomniac\",\"female, insomniac\",\"female, insomniac\",\"female, insomniac\",\"female, insomniac\",\"female, insomniac\",\"male, insomniac\",\"male, insomniac\",\"female, insomniac\",\"male, insomniac\",\"female, insomniac\",\"female, insomniac\",\"female, insomniac\",\"female, normal\",\"female, normal\",\"female, normal\",\"female, normal\",\"female, normal\",\"female, normal\",\"female, normal\",\"male, normal\",\"female, normal\",\"female, normal\",\"male, normal\",\"male, normal\",\"male, normal\",\"female, normal\",\"male, normal\",\"female, normal\",\"female, normal\",\"male, normal\",\"male, normal\",\"female, normal\",\"female, normal\",\"male, normal\",\"female, normal\",\"male, normal\",\"female, normal\",\"male, normal\",\"female, normal\",\"female, normal\",\"male, normal\",\"male, normal\",\"female, normal\",\"female, normal\",\"female, normal\",\"female, normal\",\"male, normal\",\"female, normal\",\"female, normal\",\"female, normal\",\"female, normal\",\"male, normal\",\"female, normal\",\"female, normal\",\"female, normal\",\"male, normal\",\"female, normal\",\"female, normal\",\"female, normal\",\"female, normal\",\"female, normal\",\"female, normal\",\"female, normal\",\"female, normal\",\"female, normal\",\"female, normal\",\"female, normal\",\"female, normal\",\"male, normal\",\"female, normal\",\"female, normal\",\"male, normal\",\"female, normal\",\"female, normal\",\"female, normal\",\"female, normal\",\"female, normal\",\"male, normal\",\"male, normal\",\"male, normal\",\"male, normal\",\"female, normal\",\"male, normal\",\"female, normal\",\"female, normal\",\"female, normal\",\"female, normal\",\"female, normal\",\"female, normal\"],\"age\":[39,42,31,35,74,61,32,62,33,53,41,36,40,24,32,40,61,42,31,28,26,45,28,44,28,42,45,16,21,18,28,38,17,25,22,41,53,43,23,19,45,43,35,24,64,36,35,43,44,29,22,46,35,53,29,31,21,42,23,54,24,21,21,43,50,53,16,67,36,34,42,46,69,31,44,25,45,47,33,18,74,21,45,37,41,41,34,39,18,31,26,66,62,22,41,46,56,23,70,24,40,33],\"cat\":[[\"female\",\"insomniac\"],[\"male\",\"insomniac\"],[\"female\",\"insomniac\"],[\"female\",\"insomniac\"],[\"female\",\"insomniac\"],[\"female\",\"insomniac\"],[\"male\",\"insomniac\"],[\"male\",\"insomniac\"],[\"female\",\"insomniac\"],[\"female\",\"insomniac\"],[\"female\",\"insomniac\"],[\"female\",\"insomniac\"],[\"female\",\"insomniac\"],[\"female\",\"insomniac\"],[\"female\",\"insomniac\"],[\"female\",\"insomniac\"],[\"female\",\"insomniac\"],[\"female\",\"insomniac\"],[\"male\",\"insomniac\"],[\"male\",\"insomniac\"],[\"female\",\"insomniac\"],[\"male\",\"insomniac\"],[\"female\",\"insomniac\"],[\"female\",\"insomniac\"],[\"female\",\"insomniac\"],[\"female\",\"normal\"],[\"female\",\"normal\"],[\"female\",\"normal\"],[\"female\",\"normal\"],[\"female\",\"normal\"],[\"female\",\"normal\"],[\"female\",\"normal\"],[\"male\",\"normal\"],[\"female\",\"normal\"],[\"female\",\"normal\"],[\"male\",\"normal\"],[\"male\",\"normal\"],[\"male\",\"normal\"],[\"female\",\"normal\"],[\"male\",\"normal\"],[\"female\",\"normal\"],[\"female\",\"normal\"],[\"male\",\"normal\"],[\"male\",\"normal\"],[\"female\",\"normal\"],[\"female\",\"normal\"],[\"male\",\"normal\"],[\"female\",\"normal\"],[\"male\",\"normal\"],[\"female\",\"normal\"],[\"male\",\"normal\"],[\"female\",\"normal\"],[\"female\",\"normal\"],[\"male\",\"normal\"],[\"male\",\"normal\"],[\"female\",\"normal\"],[\"female\",\"normal\"],[\"female\",\"normal\"],[\"female\",\"normal\"],[\"male\",\"normal\"],[\"female\",\"normal\"],[\"female\",\"normal\"],[\"female\",\"normal\"],[\"female\",\"normal\"],[\"male\",\"normal\"],[\"female\",\"normal\"],[\"female\",\"normal\"],[\"female\",\"normal\"],[\"male\",\"normal\"],[\"female\",\"normal\"],[\"female\",\"normal\"],[\"female\",\"normal\"],[\"female\",\"normal\"],[\"female\",\"normal\"],[\"female\",\"normal\"],[\"female\",\"normal\"],[\"female\",\"normal\"],[\"female\",\"normal\"],[\"female\",\"normal\"],[\"female\",\"normal\"],[\"female\",\"normal\"],[\"male\",\"normal\"],[\"female\",\"normal\"],[\"female\",\"normal\"],[\"male\",\"normal\"],[\"female\",\"normal\"],[\"female\",\"normal\"],[\"female\",\"normal\"],[\"female\",\"normal\"],[\"female\",\"normal\"],[\"male\",\"normal\"],[\"male\",\"normal\"],[\"male\",\"normal\"],[\"male\",\"normal\"],[\"female\",\"normal\"],[\"male\",\"normal\"],[\"female\",\"normal\"],[\"female\",\"normal\"],[\"female\",\"normal\"],[\"female\",\"normal\"],[\"female\",\"normal\"],[\"female\",\"normal\"]],\"gender\":[\"female\",\"male\",\"female\",\"female\",\"female\",\"female\",\"male\",\"male\",\"female\",\"female\",\"female\",\"female\",\"female\",\"female\",\"female\",\"female\",\"female\",\"female\",\"male\",\"male\",\"female\",\"male\",\"female\",\"female\",\"female\",\"female\",\"female\",\"female\",\"female\",\"female\",\"female\",\"female\",\"male\",\"female\",\"female\",\"male\",\"male\",\"male\",\"female\",\"male\",\"female\",\"female\",\"male\",\"male\",\"female\",\"female\",\"male\",\"female\",\"male\",\"female\",\"male\",\"female\",\"female\",\"male\",\"male\",\"female\",\"female\",\"female\",\"female\",\"male\",\"female\",\"female\",\"female\",\"female\",\"male\",\"female\",\"female\",\"female\",\"male\",\"female\",\"female\",\"female\",\"female\",\"female\",\"female\",\"female\",\"female\",\"female\",\"female\",\"female\",\"female\",\"male\",\"female\",\"female\",\"male\",\"female\",\"female\",\"female\",\"female\",\"female\",\"male\",\"male\",\"male\",\"male\",\"female\",\"male\",\"female\",\"female\",\"female\",\"female\",\"female\",\"female\"],\"participant number\":[8,16,18,22,27,28,30,33,34,35,38,41,46,49,55,71,76,77,78,80,89,90,93,100,101,1,2,3,4,5,6,7,9,10,11,12,13,14,15,17,19,20,21,23,24,25,26,29,31,32,36,37,39,40,42,43,44,45,48,50,51,52,53,54,56,57,58,59,60,61,62,63,64,65,66,67,68,69,70,72,73,74,75,79,81,82,83,84,85,86,87,88,91,92,94,95,96,97,98,99,102,103],\"percent correct\":[72.5,90.0,92.5,87.5,62.5,50.0,82.5,67.5,90.0,75.0,62.5,95.0,80.0,80.0,65.0,70.0,70.0,80.0,85.0,75.0,70.0,97.5,87.5,45.0,70.0,72.5,85.0,75.0,67.5,95.0,87.5,92.5,90.0,100.0,70.0,85.0,77.5,92.5,85.0,57.5,92.5,65.0,95.0,77.5,80.0,90.0,80.0,87.5,92.5,75.0,67.5,77.5,72.5,72.5,85.0,87.5,87.5,90.0,87.5,80.0,90.0,80.0,85.0,85.0,77.5,85.0,85.0,85.0,77.5,90.0,100.0,85.0,87.5,97.5,92.5,100.0,60.0,95.0,77.5,77.5,82.5,40.0,87.5,85.0,87.5,77.5,62.5,72.5,85.0,92.5,85.0,72.5,90.0,90.0,55.0,87.5,60.0,77.5,87.5,75.0,70.0,62.5],\"sleeper\":[\"insomniac\",\"insomniac\",\"insomniac\",\"insomniac\",\"insomniac\",\"insomniac\",\"insomniac\",\"insomniac\",\"insomniac\",\"insomniac\",\"insomniac\",\"insomniac\",\"insomniac\",\"insomniac\",\"insomniac\",\"insomniac\",\"insomniac\",\"insomniac\",\"insomniac\",\"insomniac\",\"insomniac\",\"insomniac\",\"insomniac\",\"insomniac\",\"insomniac\",\"normal\",\"normal\",\"normal\",\"normal\",\"normal\",\"normal\",\"normal\",\"normal\",\"normal\",\"normal\",\"normal\",\"normal\",\"normal\",\"normal\",\"normal\",\"normal\",\"normal\",\"normal\",\"normal\",\"normal\",\"normal\",\"normal\",\"normal\",\"normal\",\"normal\",\"normal\",\"normal\",\"normal\",\"normal\",\"normal\",\"normal\",\"normal\",\"normal\",\"normal\",\"normal\",\"normal\",\"normal\",\"normal\",\"normal\",\"normal\",\"normal\",\"normal\",\"normal\",\"normal\",\"normal\",\"normal\",\"normal\",\"normal\",\"normal\",\"normal\",\"normal\",\"normal\",\"normal\",\"normal\",\"normal\",\"normal\",\"normal\",\"normal\",\"normal\",\"normal\",\"normal\",\"normal\",\"normal\",\"normal\",\"normal\",\"normal\",\"normal\",\"normal\",\"normal\",\"normal\",\"normal\",\"normal\",\"normal\",\"normal\",\"normal\",\"normal\",\"normal\"]},\"selected\":{\"id\":\"3052\"},\"selection_policy\":{\"id\":\"3053\"}},\"id\":\"2896\",\"type\":\"ColumnDataSource\"},{\"attributes\":{\"bottom_units\":\"screen\",\"fill_alpha\":0.5,\"fill_color\":\"lightgrey\",\"left_units\":\"screen\",\"level\":\"overlay\",\"line_alpha\":1.0,\"line_color\":\"black\",\"line_dash\":[4,4],\"line_width\":2,\"right_units\":\"screen\",\"syncable\":false,\"top_units\":\"screen\"},\"id\":\"2885\",\"type\":\"BoxAnnotation\"},{\"attributes\":{\"formatter\":{\"id\":\"3047\"},\"major_label_policy\":{\"id\":\"3045\"},\"ticker\":{\"id\":\"2877\"}},\"id\":\"2876\",\"type\":\"CategoricalAxis\"},{\"attributes\":{\"axis\":{\"id\":\"2872\"},\"ticker\":null},\"id\":\"2875\",\"type\":\"Grid\"},{\"attributes\":{\"factors\":[[\"female\",\"insomniac\"],[\"female\",\"normal\"],[\"male\",\"insomniac\"],[\"male\",\"normal\"]],\"palette\":[\"#1f77b3\",\"#ff7e0e\",\"#2ba02b\",\"#d62628\",\"#9367bc\",\"#8c564b\",\"#e277c1\",\"#7e7e7e\",\"#bcbc21\",\"#16bdcf\",\"#3a0182\",\"#004201\",\"#0fffa8\",\"#5d003f\",\"#bcbcff\",\"#d8afa1\",\"#b80080\",\"#004d52\",\"#6b6400\",\"#7c0100\",\"#6026ff\",\"#ffff9a\",\"#564964\",\"#8cb893\",\"#93fbff\",\"#018267\",\"#90ff00\",\"#8200a0\",\"#ac8944\",\"#5b3400\",\"#ffbff2\",\"#ff6e75\",\"#798cff\",\"#dd00ff\",\"#505646\",\"#004489\",\"#ffbf60\",\"#ff018c\",\"#bdc8cf\",\"#af97b5\",\"#b65600\",\"#017000\",\"#cd87ff\",\"#1cd646\",\"#bfebc3\",\"#7997b5\",\"#a56089\",\"#6e8956\",\"#bc7c75\",\"#8a2844\",\"#00acff\",\"#8ed4ff\",\"#4b6d77\",\"#00d4b1\",\"#9300f2\",\"#8a9500\",\"#5d5b9e\",\"#fddfba\",\"#00939e\",\"#ffdb00\",\"#00aa79\",\"#520067\",\"#000091\",\"#0a5d3d\",\"#a5e275\",\"#623b41\",\"#c6c689\",\"#ff9eb5\",\"#cd4f6b\",\"#ff07d6\",\"#8a3a05\",\"#7e3d70\",\"#ff4901\",\"#602ba5\",\"#1c00ff\",\"#e6dfff\",\"#aa3baf\",\"#d89c00\",\"#a3a39e\",\"#3f69ff\",\"#46490c\",\"#7b6985\",\"#6b978c\",\"#ff9a75\",\"#835bff\",\"#7c6b46\",\"#80b654\",\"#bc0049\",\"#fd93ff\",\"#5d0018\",\"#89d1d1\",\"#9c8cd3\",\"#da6d42\",\"#8a5700\",\"#3b5069\",\"#4b6b3b\",\"#edcfd8\",\"#cfedff\",\"#aa1500\",\"#dfff4f\",\"#ff2a56\",\"#d1499e\",\"#707cb8\",\"#598000\",\"#00e4fd\",\"#774b95\",\"#67d48c\",\"#3d3a72\",\"#ac413f\",\"#d6a166\",\"#c169cd\",\"#69595d\",\"#87aced\",\"#a0a569\",\"#d1aae6\",\"#870062\",\"#00fddb\",\"#672818\",\"#b342ff\",\"#0e59c4\",\"#168742\",\"#90d300\",\"#cd7900\",\"#f959ff\",\"#5b7466\",\"#8eaeb3\",\"#9c7c8c\",\"#4600c6\",\"#6b4d2d\",\"#a56d46\",\"#9e8972\",\"#a8afca\",\"#cd8ca7\",\"#00fd64\",\"#917900\",\"#ff62a1\",\"#f4ffd8\",\"#018cf0\",\"#13aca0\",\"#5b2d59\",\"#89859e\",\"#cfccba\",\"#d4afc4\",\"#dbdd6d\",\"#cffff4\",\"#006485\",\"#006962\",\"#a84167\",\"#2d97c4\",\"#a874ff\",\"#26ba5d\",\"#57b600\",\"#caffa7\",\"#a379aa\",\"#ffbc93\",\"#89e2c1\",\"#0fc8ff\",\"#d400c4\",\"#626d89\",\"#69858e\",\"#4b4d52\",\"#aa6067\",\"#79b5d4\",\"#2b5916\",\"#9a0024\",\"#bdd1f2\",\"#896e67\",\"#69a56b\",\"#855467\",\"#aecdba\",\"#87997e\",\"#cadb00\",\"#9a0390\",\"#ebbc1a\",\"#eb9cd1\",\"#70006e\",\"#b1a131\",\"#ca6b93\",\"#4146a3\",\"#e48c89\",\"#d44400\",\"#c68aca\",\"#b69597\",\"#d41f75\",\"#724bcc\",\"#674d00\",\"#672138\",\"#38564f\",\"#6ebaaa\",\"#853a31\",\"#a5d397\",\"#b8af8e\",\"#d8e4df\",\"#aa00df\",\"#cac1db\",\"#ffdf8c\",\"#e2524d\",\"#66696e\",\"#ff001c\",\"#522d72\",\"#4d906b\",\"#a86d11\",\"#ff9e26\",\"#5ea3af\",\"#c88556\",\"#915997\",\"#a3a1ff\",\"#fdbaba\",\"#242a87\",\"#dbe6a8\",\"#97f2a7\",\"#6793d6\",\"#ba5b3f\",\"#3a5d91\",\"#364f2f\",\"#267c95\",\"#89959a\",\"#cfb356\",\"#004664\",\"#5e5d2f\",\"#8e8e41\",\"#ac3f13\",\"#69953b\",\"#a13d85\",\"#bfb6ba\",\"#acc667\",\"#6469cf\",\"#91af00\",\"#2be2da\",\"#016e36\",\"#ff7952\",\"#42807e\",\"#4fe800\",\"#995428\",\"#5d0a00\",\"#a30057\",\"#0c8700\",\"#5982a7\",\"#ffebfb\",\"#4b6901\",\"#8775d4\",\"#e6c6ff\",\"#a5ffda\",\"#d86e77\",\"#df014b\",\"#69675b\",\"#776ba1\",\"#7e8067\",\"#594685\",\"#0000ca\",\"#7c002a\",\"#97ff72\",\"#b5e2e1\",\"#db52c8\",\"#777734\",\"#57bd8e\"]},\"id\":\"2895\",\"type\":\"CategoricalColorMapper\"},{\"attributes\":{},\"id\":\"2870\",\"type\":\"CategoricalScale\"},{\"attributes\":{},\"id\":\"2865\",\"type\":\"DataRange1d\"},{\"attributes\":{},\"id\":\"3043\",\"type\":\"Title\"},{\"attributes\":{},\"id\":\"3052\",\"type\":\"Selection\"},{\"attributes\":{\"active_multi\":null,\"tools\":[{\"id\":\"2879\"},{\"id\":\"2880\"},{\"id\":\"2881\"},{\"id\":\"2882\"},{\"id\":\"2883\"},{\"id\":\"2884\"},{\"id\":\"2893\"}]},\"id\":\"2886\",\"type\":\"Toolbar\"},{\"attributes\":{\"axis\":{\"id\":\"2876\"},\"dimension\":1,\"grid_line_color\":null,\"ticker\":null},\"id\":\"2878\",\"type\":\"Grid\"},{\"attributes\":{\"source\":{\"id\":\"2896\"}},\"id\":\"2902\",\"type\":\"CDSView\"},{\"attributes\":{},\"id\":\"3045\",\"type\":\"AllLabels\"},{\"attributes\":{\"data_source\":{\"id\":\"2896\"},\"glyph\":{\"id\":\"2899\"},\"hover_glyph\":null,\"muted_glyph\":null,\"nonselection_glyph\":{\"id\":\"2900\"},\"view\":{\"id\":\"2902\"}},\"id\":\"2901\",\"type\":\"GlyphRenderer\"},{\"attributes\":{},\"id\":\"3053\",\"type\":\"UnionRenderers\"},{\"attributes\":{},\"id\":\"2868\",\"type\":\"LinearScale\"},{\"attributes\":{\"factors\":[[\"male\",\"normal\"],[\"male\",\"insomniac\"],[\"female\",\"normal\"],[\"female\",\"insomniac\"]]},\"id\":\"2863\",\"type\":\"FactorRange\"},{\"attributes\":{\"fill_color\":{\"field\":\"cat\",\"transform\":{\"id\":\"2895\"}},\"line_color\":{\"field\":\"cat\",\"transform\":{\"id\":\"2895\"}},\"x\":{\"field\":\"percent correct\"},\"y\":{\"field\":\"cat\",\"transform\":{\"id\":\"2897\"}}},\"id\":\"2899\",\"type\":\"Circle\"},{\"attributes\":{},\"id\":\"2873\",\"type\":\"BasicTicker\"},{\"attributes\":{\"fill_alpha\":{\"value\":0.1},\"fill_color\":{\"field\":\"cat\",\"transform\":{\"id\":\"2895\"}},\"line_alpha\":{\"value\":0.1},\"line_color\":{\"field\":\"cat\",\"transform\":{\"id\":\"2895\"}},\"x\":{\"field\":\"percent correct\"},\"y\":{\"field\":\"cat\",\"transform\":{\"id\":\"2897\"}}},\"id\":\"2900\",\"type\":\"Circle\"},{\"attributes\":{},\"id\":\"2884\",\"type\":\"HelpTool\"},{\"attributes\":{\"axis_label\":\"percent correct\",\"formatter\":{\"id\":\"3050\"},\"major_label_policy\":{\"id\":\"3048\"},\"ticker\":{\"id\":\"2873\"}},\"id\":\"2872\",\"type\":\"LinearAxis\"},{\"attributes\":{},\"id\":\"2877\",\"type\":\"CategoricalTicker\"},{\"attributes\":{\"distribution\":\"normal\",\"range\":{\"id\":\"2863\"},\"width\":0.1},\"id\":\"2897\",\"type\":\"Jitter\"},{\"attributes\":{},\"id\":\"2880\",\"type\":\"WheelZoomTool\"},{\"attributes\":{},\"id\":\"3048\",\"type\":\"AllLabels\"},{\"attributes\":{},\"id\":\"2879\",\"type\":\"PanTool\"},{\"attributes\":{},\"id\":\"3047\",\"type\":\"CategoricalTickFormatter\"}],\"root_ids\":[\"2864\"]},\"title\":\"Bokeh Application\",\"version\":\"2.3.3\"}};\n",
       "  var render_items = [{\"docid\":\"e11fd77b-4aa8-459b-952f-12f7c628d13b\",\"root_ids\":[\"2864\"],\"roots\":{\"2864\":\"a9c6194f-16b5-4f80-ade4-4b14c0a1f02f\"}}];\n",
       "  root.Bokeh.embed.embed_items_notebook(docs_json, render_items);\n",
       "\n",
       "  }\n",
       "  if (root.Bokeh !== undefined) {\n",
       "    embed_document(root);\n",
       "  } else {\n",
       "    var attempts = 0;\n",
       "    var timer = setInterval(function(root) {\n",
       "      if (root.Bokeh !== undefined) {\n",
       "        clearInterval(timer);\n",
       "        embed_document(root);\n",
       "      } else {\n",
       "        attempts++;\n",
       "        if (attempts > 100) {\n",
       "          clearInterval(timer);\n",
       "          console.log(\"Bokeh: ERROR: Unable to run BokehJS code because BokehJS library is missing\");\n",
       "        }\n",
       "      }\n",
       "    }, 10, root)\n",
       "  }\n",
       "})(window);"
      ],
      "application/vnd.bokehjs_exec.v0+json": ""
     },
     "metadata": {
      "application/vnd.bokehjs_exec.v0+json": {
       "id": "2864"
      }
     },
     "output_type": "display_data"
    }
   ],
   "source": [
    "p = iqplot.strip(\n",
    "    data=df,\n",
    "    q='percent correct',\n",
    "    cats=['gender', 'sleeper'],\n",
    "    jitter=True,\n",
    "    tooltips=[\n",
    "        ('age', '@{age}'),\n",
    "        ('participant number', '@{participant number}')\n",
    "    ],\n",
    ")\n",
    "\n",
    "bokeh.io.show(p)"
   ]
  },
  {
   "cell_type": "markdown",
   "metadata": {},
   "source": [
    "### Customizing histograms\n",
    "\n",
    "We could plot normalized histograms using the density kwarg, and we'll make the plot a little wider to support the legend."
   ]
  },
  {
   "cell_type": "code",
   "execution_count": 13,
   "metadata": {},
   "outputs": [
    {
     "data": {
      "text/html": [
       "\n",
       "\n",
       "\n",
       "\n",
       "\n",
       "\n",
       "  <div class=\"bk-root\" id=\"287d647a-575f-4ad1-a687-cd58460e91b7\" data-root-id=\"3110\"></div>\n"
      ]
     },
     "metadata": {},
     "output_type": "display_data"
    },
    {
     "data": {
      "application/javascript": [
       "(function(root) {\n",
       "  function embed_document(root) {\n",
       "    \n",
       "  var docs_json = {\"af0029c4-c261-4f8f-9b77-c05323c7e600\":{\"defs\":[],\"roots\":{\"references\":[{\"attributes\":{\"below\":[{\"id\":\"3118\"}],\"center\":[{\"id\":\"3121\"},{\"id\":\"3125\"}],\"frame_height\":275,\"frame_width\":525,\"left\":[{\"id\":\"3122\"}],\"renderers\":[{\"id\":\"3143\"},{\"id\":\"3148\"},{\"id\":\"3153\"},{\"id\":\"3158\"},{\"id\":\"3163\"},{\"id\":\"3168\"},{\"id\":\"3173\"},{\"id\":\"3178\"},{\"id\":\"3183\"},{\"id\":\"3188\"},{\"id\":\"3193\"},{\"id\":\"3198\"}],\"right\":[{\"id\":\"3200\"}],\"title\":{\"id\":\"3356\"},\"toolbar\":{\"id\":\"3133\"},\"toolbar_location\":\"above\",\"x_range\":{\"id\":\"3111\"},\"x_scale\":{\"id\":\"3114\"},\"y_range\":{\"id\":\"3109\"},\"y_scale\":{\"id\":\"3116\"}},\"id\":\"3110\",\"subtype\":\"Figure\",\"type\":\"Plot\"},{\"attributes\":{\"data\":{\"xs\":[[90.0,90.0],[82.5,82.5],[67.5,67.5],[85.0,85.0],[75.0,75.0],[97.5,97.5]],\"ys\":[[0,0.0023140495867768583],[0,0.0023140495867768583],[0,0.0023140495867768583],[0,0.0023140495867768583],[0,0.0023140495867768583],[0,0.0023140495867768583]]},\"selected\":{\"id\":\"3383\"},\"selection_policy\":{\"id\":\"3384\"}},\"id\":\"3185\",\"type\":\"ColumnDataSource\"},{\"attributes\":{},\"id\":\"3358\",\"type\":\"AllLabels\"},{\"attributes\":{\"data_source\":{\"id\":\"3185\"},\"glyph\":{\"id\":\"3186\"},\"hover_glyph\":null,\"muted_glyph\":null,\"nonselection_glyph\":{\"id\":\"3187\"},\"view\":{\"id\":\"3189\"}},\"id\":\"3188\",\"type\":\"GlyphRenderer\"},{\"attributes\":{\"line_alpha\":{\"value\":0.5},\"line_color\":{\"value\":\"#ff7e0e\"},\"line_width\":{\"value\":0.5},\"xs\":{\"field\":\"xs\"},\"ys\":{\"field\":\"ys\"}},\"id\":\"3186\",\"type\":\"MultiLine\"},{\"attributes\":{},\"id\":\"3383\",\"type\":\"Selection\"},{\"attributes\":{\"fill_alpha\":0.3,\"fill_color\":\"#d62628\",\"line_alpha\":0,\"line_color\":\"#d62628\",\"x\":{\"field\":\"x\"},\"y\":{\"field\":\"y\"}},\"id\":\"3176\",\"type\":\"Patch\"},{\"attributes\":{\"data\":{\"x\":{\"__ndarray__\":\"AAAAAAAAREAAAAAAAABEQNu2bdu27UdA27Zt27btR0C3bdu2bdtLQLdt27Zt20tAkiRJkiTJT0CSJEmSJMlPQLdt27Zt21FAt23btm3bUUAkSZIkSdJTQCRJkiRJ0lNAkiRJkiTJVUCSJEmSJMlVQAAAAAAAwFdAAAAAAADAV0AAAAAAAMBXQAAAAAAAAERA\",\"dtype\":\"float64\",\"order\":\"little\",\"shape\":[18]},\"y\":{\"__ndarray__\":\"AAAAAAAAAADMdNxjJLJ3P8x03GMksnc/AAAAAAAAAAAAAAAAAAAAAMx03GMksnc/zHTcYySydz/GdNxjJLJ3P8Z03GMksnc/nlflSpvFoT+eV+VKm8WhP/eR03ytnp0/95HTfK2enT/GdNxjJLKnP8Z03GMksqc/AAAAAAAAAAAAAAAAAAAAAAAAAAAAAAAA\",\"dtype\":\"float64\",\"order\":\"little\",\"shape\":[18]}},\"selected\":{\"id\":\"3379\"},\"selection_policy\":{\"id\":\"3380\"}},\"id\":\"3175\",\"type\":\"ColumnDataSource\"},{\"attributes\":{\"click_policy\":\"hide\",\"items\":[{\"id\":\"3201\"},{\"id\":\"3202\"},{\"id\":\"3203\"},{\"id\":\"3204\"}],\"location\":\"top_left\"},\"id\":\"3200\",\"type\":\"Legend\"},{\"attributes\":{},\"id\":\"3119\",\"type\":\"BasicTicker\"},{\"attributes\":{\"fill_alpha\":0.1,\"fill_color\":\"#d62628\",\"line_alpha\":0.1,\"line_color\":\"#d62628\",\"x\":{\"field\":\"x\"},\"y\":{\"field\":\"y\"}},\"id\":\"3177\",\"type\":\"Patch\"},{\"attributes\":{},\"id\":\"3384\",\"type\":\"UnionRenderers\"},{\"attributes\":{\"data_source\":{\"id\":\"3190\"},\"glyph\":{\"id\":\"3191\"},\"hover_glyph\":null,\"muted_glyph\":null,\"nonselection_glyph\":{\"id\":\"3192\"},\"view\":{\"id\":\"3194\"}},\"id\":\"3193\",\"type\":\"GlyphRenderer\"},{\"attributes\":{\"source\":{\"id\":\"3175\"}},\"id\":\"3179\",\"type\":\"CDSView\"},{\"attributes\":{\"source\":{\"id\":\"3185\"}},\"id\":\"3189\",\"type\":\"CDSView\"},{\"attributes\":{\"data_source\":{\"id\":\"3175\"},\"glyph\":{\"id\":\"3176\"},\"hover_glyph\":null,\"muted_glyph\":null,\"nonselection_glyph\":{\"id\":\"3177\"},\"view\":{\"id\":\"3179\"}},\"id\":\"3178\",\"type\":\"GlyphRenderer\"},{\"attributes\":{\"source\":{\"id\":\"3180\"}},\"id\":\"3184\",\"type\":\"CDSView\"},{\"attributes\":{},\"id\":\"3361\",\"type\":\"AllLabels\"},{\"attributes\":{\"line_alpha\":{\"value\":0.5},\"line_color\":{\"value\":\"#2ba02b\"},\"line_width\":{\"value\":0.5},\"xs\":{\"field\":\"xs\"},\"ys\":{\"field\":\"ys\"}},\"id\":\"3191\",\"type\":\"MultiLine\"},{\"attributes\":{\"data\":{\"xs\":[[72.5,72.5],[85.0,85.0],[75.0,75.0],[67.5,67.5],[95.0,95.0],[87.5,87.5],[92.5,92.5],[100.0,100.0],[70.0,70.0],[85.0,85.0],[92.5,92.5],[65.0,65.0],[80.0,80.0],[90.0,90.0],[87.5,87.5],[75.0,75.0],[77.5,77.5],[72.5,72.5],[87.5,87.5],[87.5,87.5],[90.0,90.0],[87.5,87.5],[90.0,90.0],[80.0,80.0],[85.0,85.0],[85.0,85.0],[85.0,85.0],[85.0,85.0],[85.0,85.0],[90.0,90.0],[100.0,100.0],[85.0,85.0],[87.5,87.5],[97.5,97.5],[92.5,92.5],[100.0,100.0],[60.0,60.0],[95.0,95.0],[77.5,77.5],[77.5,77.5],[82.5,82.5],[87.5,87.5],[85.0,85.0],[77.5,77.5],[62.5,62.5],[72.5,72.5],[85.0,85.0],[92.5,92.5],[55.0,55.0],[60.0,60.0],[77.5,77.5],[87.5,87.5],[75.0,75.0],[70.0,70.0],[62.5,62.5]],\"ys\":[[0,0.0023140495867768583],[0,0.0023140495867768583],[0,0.0023140495867768583],[0,0.0023140495867768583],[0,0.0023140495867768583],[0,0.0023140495867768583],[0,0.0023140495867768583],[0,0.0023140495867768583],[0,0.0023140495867768583],[0,0.0023140495867768583],[0,0.0023140495867768583],[0,0.0023140495867768583],[0,0.0023140495867768583],[0,0.0023140495867768583],[0,0.0023140495867768583],[0,0.0023140495867768583],[0,0.0023140495867768583],[0,0.0023140495867768583],[0,0.0023140495867768583],[0,0.0023140495867768583],[0,0.0023140495867768583],[0,0.0023140495867768583],[0,0.0023140495867768583],[0,0.0023140495867768583],[0,0.0023140495867768583],[0,0.0023140495867768583],[0,0.0023140495867768583],[0,0.0023140495867768583],[0,0.0023140495867768583],[0,0.0023140495867768583],[0,0.0023140495867768583],[0,0.0023140495867768583],[0,0.0023140495867768583],[0,0.0023140495867768583],[0,0.0023140495867768583],[0,0.0023140495867768583],[0,0.0023140495867768583],[0,0.0023140495867768583],[0,0.0023140495867768583],[0,0.0023140495867768583],[0,0.0023140495867768583],[0,0.0023140495867768583],[0,0.0023140495867768583],[0,0.0023140495867768583],[0,0.0023140495867768583],[0,0.0023140495867768583],[0,0.0023140495867768583],[0,0.0023140495867768583],[0,0.0023140495867768583],[0,0.0023140495867768583],[0,0.0023140495867768583],[0,0.0023140495867768583],[0,0.0023140495867768583],[0,0.0023140495867768583],[0,0.0023140495867768583]]},\"selected\":{\"id\":\"3385\"},\"selection_policy\":{\"id\":\"3386\"}},\"id\":\"3190\",\"type\":\"ColumnDataSource\"},{\"attributes\":{},\"id\":\"3385\",\"type\":\"Selection\"},{\"attributes\":{\"axis\":{\"id\":\"3118\"},\"ticker\":null},\"id\":\"3121\",\"type\":\"Grid\"},{\"attributes\":{\"line_alpha\":{\"value\":0.1},\"line_color\":{\"value\":\"#ff7e0e\"},\"line_width\":{\"value\":0.5},\"xs\":{\"field\":\"xs\"},\"ys\":{\"field\":\"ys\"}},\"id\":\"3187\",\"type\":\"MultiLine\"},{\"attributes\":{\"label\":{\"value\":\"female, insomniac\"},\"renderers\":[{\"id\":\"3143\"},{\"id\":\"3148\"}]},\"id\":\"3201\",\"type\":\"LegendItem\"},{\"attributes\":{},\"id\":\"3360\",\"type\":\"BasicTickFormatter\"},{\"attributes\":{},\"id\":\"3386\",\"type\":\"UnionRenderers\"},{\"attributes\":{\"start\":0},\"id\":\"3109\",\"type\":\"DataRange1d\"},{\"attributes\":{\"line_alpha\":{\"value\":0.1},\"line_color\":{\"value\":\"#2ba02b\"},\"line_width\":{\"value\":0.5},\"xs\":{\"field\":\"xs\"},\"ys\":{\"field\":\"ys\"}},\"id\":\"3192\",\"type\":\"MultiLine\"},{\"attributes\":{},\"id\":\"3363\",\"type\":\"BasicTickFormatter\"},{\"attributes\":{\"label\":{\"value\":\"male, insomniac\"},\"renderers\":[{\"id\":\"3153\"},{\"id\":\"3158\"}]},\"id\":\"3202\",\"type\":\"LegendItem\"},{\"attributes\":{},\"id\":\"3111\",\"type\":\"DataRange1d\"},{\"attributes\":{},\"id\":\"3387\",\"type\":\"Selection\"},{\"attributes\":{\"label\":{\"value\":\"female, normal\"},\"renderers\":[{\"id\":\"3163\"},{\"id\":\"3168\"}]},\"id\":\"3203\",\"type\":\"LegendItem\"},{\"attributes\":{\"data_source\":{\"id\":\"3180\"},\"glyph\":{\"id\":\"3181\"},\"hover_glyph\":null,\"muted_glyph\":null,\"nonselection_glyph\":{\"id\":\"3182\"},\"view\":{\"id\":\"3184\"}},\"id\":\"3183\",\"type\":\"GlyphRenderer\"},{\"attributes\":{},\"id\":\"3388\",\"type\":\"UnionRenderers\"},{\"attributes\":{\"data\":{\"x\":{\"__ndarray__\":\"AAAAAAAAREAAAAAAAABEQNu2bdu27UdA27Zt27btR0C3bdu2bdtLQLdt27Zt20tAkiRJkiTJT0CSJEmSJMlPQLdt27Zt21FAt23btm3bUUAkSZIkSdJTQCRJkiRJ0lNAkiRJkiTJVUCSJEmSJMlVQAAAAAAAwFdAAAAAAADAV0A=\",\"dtype\":\"float64\",\"order\":\"little\",\"shape\":[16]},\"y\":{\"__ndarray__\":\"AAAAAAAAAADMdNxjJLJ3P8x03GMksnc/AAAAAAAAAAAAAAAAAAAAAMx03GMksnc/zHTcYySydz/GdNxjJLJ3P8Z03GMksnc/nlflSpvFoT+eV+VKm8WhP/eR03ytnp0/95HTfK2enT/GdNxjJLKnP8Z03GMksqc/AAAAAAAAAAA=\",\"dtype\":\"float64\",\"order\":\"little\",\"shape\":[16]}},\"selected\":{\"id\":\"3377\"},\"selection_policy\":{\"id\":\"3378\"}},\"id\":\"3170\",\"type\":\"ColumnDataSource\"},{\"attributes\":{\"source\":{\"id\":\"3160\"}},\"id\":\"3164\",\"type\":\"CDSView\"},{\"attributes\":{\"fill_alpha\":0.3,\"fill_color\":\"#ff7e0e\",\"line_alpha\":0,\"line_color\":\"#ff7e0e\",\"x\":{\"field\":\"x\"},\"y\":{\"field\":\"y\"}},\"id\":\"3156\",\"type\":\"Patch\"},{\"attributes\":{\"line_alpha\":0.1,\"line_color\":\"#ff7e0e\",\"line_width\":2,\"x\":{\"field\":\"x\"},\"y\":{\"field\":\"y\"}},\"id\":\"3152\",\"type\":\"Line\"},{\"attributes\":{\"data\":{\"x\":{\"__ndarray__\":\"AAAAAADgUEAAAAAAAOBQQAAAAAAAYFNAAAAAAABgU0AAAAAAAOBVQAAAAAAA4FVAAAAAAABgWEAAAAAAAGBYQAAAAAAAYFhAAAAAAADgUEA=\",\"dtype\":\"float64\",\"order\":\"little\",\"shape\":[10]},\"y\":{\"__ndarray__\":\"AAAAAAAAAAARERERERGhPxEREREREaE/ERERERERoT8RERERERGhPxEREREREaE/ERERERERoT8AAAAAAAAAAAAAAAAAAAAAAAAAAAAAAAA=\",\"dtype\":\"float64\",\"order\":\"little\",\"shape\":[10]}},\"selected\":{\"id\":\"3371\"},\"selection_policy\":{\"id\":\"3372\"}},\"id\":\"3155\",\"type\":\"ColumnDataSource\"},{\"attributes\":{\"data_source\":{\"id\":\"3150\"},\"glyph\":{\"id\":\"3151\"},\"hover_glyph\":null,\"muted_glyph\":null,\"nonselection_glyph\":{\"id\":\"3152\"},\"view\":{\"id\":\"3154\"}},\"id\":\"3153\",\"type\":\"GlyphRenderer\"},{\"attributes\":{\"line_color\":\"#d62628\",\"line_width\":2,\"x\":{\"field\":\"x\"},\"y\":{\"field\":\"y\"}},\"id\":\"3171\",\"type\":\"Line\"},{\"attributes\":{\"line_alpha\":0.1,\"line_color\":\"#d62628\",\"line_width\":2,\"x\":{\"field\":\"x\"},\"y\":{\"field\":\"y\"}},\"id\":\"3172\",\"type\":\"Line\"},{\"attributes\":{\"data_source\":{\"id\":\"3140\"},\"glyph\":{\"id\":\"3141\"},\"hover_glyph\":null,\"muted_glyph\":null,\"nonselection_glyph\":{\"id\":\"3142\"},\"view\":{\"id\":\"3144\"}},\"id\":\"3143\",\"type\":\"GlyphRenderer\"},{\"attributes\":{\"line_alpha\":{\"value\":0.5},\"line_color\":{\"value\":\"#1f77b3\"},\"line_width\":{\"value\":0.5},\"xs\":{\"field\":\"xs\"},\"ys\":{\"field\":\"ys\"}},\"id\":\"3181\",\"type\":\"MultiLine\"},{\"attributes\":{\"data_source\":{\"id\":\"3160\"},\"glyph\":{\"id\":\"3161\"},\"hover_glyph\":null,\"muted_glyph\":null,\"nonselection_glyph\":{\"id\":\"3162\"},\"view\":{\"id\":\"3164\"}},\"id\":\"3163\",\"type\":\"GlyphRenderer\"},{\"attributes\":{\"data\":{\"x\":{\"__ndarray__\":\"AAAAAACARkAAAAAAAIBGQAAAAAAAgEtAAAAAAACAS0AAAAAAAEBQQAAAAAAAQFBAAAAAAADAUkAAAAAAAMBSQAAAAAAAQFVAAAAAAABAVUAAAAAAAMBXQAAAAAAAwFdA\",\"dtype\":\"float64\",\"order\":\"little\",\"shape\":[12]},\"y\":{\"__ndarray__\":\"AAAAAAAAAADtWIEw0o6FP+1YgTDSjoU/7ViBMNKOhT/tWIEw0o6FP7ICYaQdK6A/sgJhpB0roD/tWIEw0o6VP+1YgTDSjpU/KK+hvIbymj8or6G8hvKaPwAAAAAAAAAA\",\"dtype\":\"float64\",\"order\":\"little\",\"shape\":[12]}},\"selected\":{\"id\":\"3365\"},\"selection_policy\":{\"id\":\"3366\"}},\"id\":\"3140\",\"type\":\"ColumnDataSource\"},{\"attributes\":{\"line_color\":\"#1f77b3\",\"line_width\":2,\"x\":{\"field\":\"x\"},\"y\":{\"field\":\"y\"}},\"id\":\"3141\",\"type\":\"Line\"},{\"attributes\":{\"source\":{\"id\":\"3140\"}},\"id\":\"3144\",\"type\":\"CDSView\"},{\"attributes\":{\"line_color\":\"#2ba02b\",\"line_width\":2,\"x\":{\"field\":\"x\"},\"y\":{\"field\":\"y\"}},\"id\":\"3161\",\"type\":\"Line\"},{\"attributes\":{\"data\":{\"xs\":[[72.5,72.5],[92.5,92.5],[87.5,87.5],[62.5,62.5],[50.0,50.0],[90.0,90.0],[75.0,75.0],[62.5,62.5],[95.0,95.0],[80.0,80.0],[80.0,80.0],[65.0,65.0],[70.0,70.0],[70.0,70.0],[80.0,80.0],[70.0,70.0],[87.5,87.5],[45.0,45.0],[70.0,70.0]],\"ys\":[[0,0.0023140495867768583],[0,0.0023140495867768583],[0,0.0023140495867768583],[0,0.0023140495867768583],[0,0.0023140495867768583],[0,0.0023140495867768583],[0,0.0023140495867768583],[0,0.0023140495867768583],[0,0.0023140495867768583],[0,0.0023140495867768583],[0,0.0023140495867768583],[0,0.0023140495867768583],[0,0.0023140495867768583],[0,0.0023140495867768583],[0,0.0023140495867768583],[0,0.0023140495867768583],[0,0.0023140495867768583],[0,0.0023140495867768583],[0,0.0023140495867768583]]},\"selected\":{\"id\":\"3381\"},\"selection_policy\":{\"id\":\"3382\"}},\"id\":\"3180\",\"type\":\"ColumnDataSource\"},{\"attributes\":{\"fill_alpha\":0.3,\"fill_color\":\"#1f77b3\",\"line_alpha\":0,\"line_color\":\"#1f77b3\",\"x\":{\"field\":\"x\"},\"y\":{\"field\":\"y\"}},\"id\":\"3146\",\"type\":\"Patch\"},{\"attributes\":{\"line_alpha\":0.1,\"line_color\":\"#1f77b3\",\"line_width\":2,\"x\":{\"field\":\"x\"},\"y\":{\"field\":\"y\"}},\"id\":\"3142\",\"type\":\"Line\"},{\"attributes\":{\"line_color\":\"#ff7e0e\",\"line_width\":2,\"x\":{\"field\":\"x\"},\"y\":{\"field\":\"y\"}},\"id\":\"3151\",\"type\":\"Line\"},{\"attributes\":{\"line_alpha\":{\"value\":0.1},\"line_color\":{\"value\":\"#1f77b3\"},\"line_width\":{\"value\":0.5},\"xs\":{\"field\":\"xs\"},\"ys\":{\"field\":\"ys\"}},\"id\":\"3182\",\"type\":\"MultiLine\"},{\"attributes\":{\"source\":{\"id\":\"3150\"}},\"id\":\"3154\",\"type\":\"CDSView\"},{\"attributes\":{\"data\":{\"x\":{\"__ndarray__\":\"AAAAAACARkAAAAAAAIBGQAAAAAAAgEtAAAAAAACAS0AAAAAAAEBQQAAAAAAAQFBAAAAAAADAUkAAAAAAAMBSQAAAAAAAQFVAAAAAAABAVUAAAAAAAMBXQAAAAAAAwFdAAAAAAADAV0AAAAAAAIBGQA==\",\"dtype\":\"float64\",\"order\":\"little\",\"shape\":[14]},\"y\":{\"__ndarray__\":\"AAAAAAAAAADtWIEw0o6FP+1YgTDSjoU/7ViBMNKOhT/tWIEw0o6FP7ICYaQdK6A/sgJhpB0roD/tWIEw0o6VP+1YgTDSjpU/KK+hvIbymj8or6G8hvKaPwAAAAAAAAAAAAAAAAAAAAAAAAAAAAAAAA==\",\"dtype\":\"float64\",\"order\":\"little\",\"shape\":[14]}},\"selected\":{\"id\":\"3367\"},\"selection_policy\":{\"id\":\"3368\"}},\"id\":\"3145\",\"type\":\"ColumnDataSource\"},{\"attributes\":{\"fill_alpha\":0.1,\"fill_color\":\"#1f77b3\",\"line_alpha\":0.1,\"line_color\":\"#1f77b3\",\"x\":{\"field\":\"x\"},\"y\":{\"field\":\"y\"}},\"id\":\"3147\",\"type\":\"Patch\"},{\"attributes\":{},\"id\":\"3356\",\"type\":\"Title\"},{\"attributes\":{\"source\":{\"id\":\"3145\"}},\"id\":\"3149\",\"type\":\"CDSView\"},{\"attributes\":{\"fill_alpha\":0.3,\"fill_color\":\"#2ba02b\",\"line_alpha\":0,\"line_color\":\"#2ba02b\",\"x\":{\"field\":\"x\"},\"y\":{\"field\":\"y\"}},\"id\":\"3166\",\"type\":\"Patch\"},{\"attributes\":{\"data_source\":{\"id\":\"3145\"},\"glyph\":{\"id\":\"3146\"},\"hover_glyph\":null,\"muted_glyph\":null,\"nonselection_glyph\":{\"id\":\"3147\"},\"view\":{\"id\":\"3149\"}},\"id\":\"3148\",\"type\":\"GlyphRenderer\"},{\"attributes\":{\"source\":{\"id\":\"3155\"}},\"id\":\"3159\",\"type\":\"CDSView\"},{\"attributes\":{\"data\":{\"x\":{\"__ndarray__\":\"AAAAAACAS0AAAAAAAIBLQG7btm3btk5Abtu2bdu2TkBu27Zt2/ZQQG7btm3b9lBAJEmSJEmSUkAkSZIkSZJSQNy2bdu2LVRA3LZt27YtVECSJEmSJMlVQJIkSZIkyVVASZIkSZJkV0BJkiRJkmRXQAAAAAAAAFlAAAAAAAAAWUA=\",\"dtype\":\"float64\",\"order\":\"little\",\"shape\":[16]},\"y\":{\"__ndarray__\":\"AAAAAAAAAABfEQgWgWCBP18RCBaBYIE/1MEKyFYrhz/UwQrIViuHP1tyDXos9ow/W3INeiz2jD83cg16LPacPzdyDXos9pw/l8oOU5fbnz+Xyg5Tl9ufP9TBCshWK6c/1MEKyFYrpz9fEQgWgWCRP18RCBaBYJE/AAAAAAAAAAA=\",\"dtype\":\"float64\",\"order\":\"little\",\"shape\":[16]}},\"selected\":{\"id\":\"3373\"},\"selection_policy\":{\"id\":\"3374\"}},\"id\":\"3160\",\"type\":\"ColumnDataSource\"},{\"attributes\":{\"fill_alpha\":0.1,\"fill_color\":\"#ff7e0e\",\"line_alpha\":0.1,\"line_color\":\"#ff7e0e\",\"x\":{\"field\":\"x\"},\"y\":{\"field\":\"y\"}},\"id\":\"3157\",\"type\":\"Patch\"},{\"attributes\":{\"data_source\":{\"id\":\"3155\"},\"glyph\":{\"id\":\"3156\"},\"hover_glyph\":null,\"muted_glyph\":null,\"nonselection_glyph\":{\"id\":\"3157\"},\"view\":{\"id\":\"3159\"}},\"id\":\"3158\",\"type\":\"GlyphRenderer\"},{\"attributes\":{\"line_alpha\":0.1,\"line_color\":\"#2ba02b\",\"line_width\":2,\"x\":{\"field\":\"x\"},\"y\":{\"field\":\"y\"}},\"id\":\"3162\",\"type\":\"Line\"},{\"attributes\":{\"data_source\":{\"id\":\"3170\"},\"glyph\":{\"id\":\"3171\"},\"hover_glyph\":null,\"muted_glyph\":null,\"nonselection_glyph\":{\"id\":\"3172\"},\"view\":{\"id\":\"3174\"}},\"id\":\"3173\",\"type\":\"GlyphRenderer\"},{\"attributes\":{\"data\":{\"x\":{\"__ndarray__\":\"AAAAAACAS0AAAAAAAIBLQG7btm3btk5Abtu2bdu2TkBu27Zt2/ZQQG7btm3b9lBAJEmSJEmSUkAkSZIkSZJSQNy2bdu2LVRA3LZt27YtVECSJEmSJMlVQJIkSZIkyVVASZIkSZJkV0BJkiRJkmRXQAAAAAAAAFlAAAAAAAAAWUAAAAAAAABZQAAAAAAAgEtA\",\"dtype\":\"float64\",\"order\":\"little\",\"shape\":[18]},\"y\":{\"__ndarray__\":\"AAAAAAAAAABfEQgWgWCBP18RCBaBYIE/1MEKyFYrhz/UwQrIViuHP1tyDXos9ow/W3INeiz2jD83cg16LPacPzdyDXos9pw/l8oOU5fbnz+Xyg5Tl9ufP9TBCshWK6c/1MEKyFYrpz9fEQgWgWCRP18RCBaBYJE/AAAAAAAAAAAAAAAAAAAAAAAAAAAAAAAA\",\"dtype\":\"float64\",\"order\":\"little\",\"shape\":[18]}},\"selected\":{\"id\":\"3375\"},\"selection_policy\":{\"id\":\"3376\"}},\"id\":\"3165\",\"type\":\"ColumnDataSource\"},{\"attributes\":{\"fill_alpha\":0.1,\"fill_color\":\"#2ba02b\",\"line_alpha\":0.1,\"line_color\":\"#2ba02b\",\"x\":{\"field\":\"x\"},\"y\":{\"field\":\"y\"}},\"id\":\"3167\",\"type\":\"Patch\"},{\"attributes\":{\"source\":{\"id\":\"3165\"}},\"id\":\"3169\",\"type\":\"CDSView\"},{\"attributes\":{\"source\":{\"id\":\"3170\"}},\"id\":\"3174\",\"type\":\"CDSView\"},{\"attributes\":{\"data_source\":{\"id\":\"3165\"},\"glyph\":{\"id\":\"3166\"},\"hover_glyph\":null,\"muted_glyph\":null,\"nonselection_glyph\":{\"id\":\"3167\"},\"view\":{\"id\":\"3169\"}},\"id\":\"3168\",\"type\":\"GlyphRenderer\"},{\"attributes\":{\"data_source\":{\"id\":\"3195\"},\"glyph\":{\"id\":\"3196\"},\"hover_glyph\":null,\"muted_glyph\":null,\"nonselection_glyph\":{\"id\":\"3197\"},\"view\":{\"id\":\"3199\"}},\"id\":\"3198\",\"type\":\"GlyphRenderer\"},{\"attributes\":{},\"id\":\"3116\",\"type\":\"LinearScale\"},{\"attributes\":{\"axis_label\":\"percent correct\",\"formatter\":{\"id\":\"3363\"},\"major_label_policy\":{\"id\":\"3361\"},\"ticker\":{\"id\":\"3119\"}},\"id\":\"3118\",\"type\":\"LinearAxis\"},{\"attributes\":{},\"id\":\"3114\",\"type\":\"LinearScale\"},{\"attributes\":{},\"id\":\"3373\",\"type\":\"Selection\"},{\"attributes\":{},\"id\":\"3374\",\"type\":\"UnionRenderers\"},{\"attributes\":{},\"id\":\"3375\",\"type\":\"Selection\"},{\"attributes\":{},\"id\":\"3376\",\"type\":\"UnionRenderers\"},{\"attributes\":{},\"id\":\"3365\",\"type\":\"Selection\"},{\"attributes\":{},\"id\":\"3366\",\"type\":\"UnionRenderers\"},{\"attributes\":{\"data\":{\"x\":{\"__ndarray__\":\"AAAAAADgUEAAAAAAAOBQQAAAAAAAYFNAAAAAAABgU0AAAAAAAOBVQAAAAAAA4FVAAAAAAABgWEAAAAAAAGBYQA==\",\"dtype\":\"float64\",\"order\":\"little\",\"shape\":[8]},\"y\":{\"__ndarray__\":\"AAAAAAAAAAARERERERGhPxEREREREaE/ERERERERoT8RERERERGhPxEREREREaE/ERERERERoT8AAAAAAAAAAA==\",\"dtype\":\"float64\",\"order\":\"little\",\"shape\":[8]}},\"selected\":{\"id\":\"3369\"},\"selection_policy\":{\"id\":\"3370\"}},\"id\":\"3150\",\"type\":\"ColumnDataSource\"},{\"attributes\":{\"source\":{\"id\":\"3190\"}},\"id\":\"3194\",\"type\":\"CDSView\"},{\"attributes\":{},\"id\":\"3377\",\"type\":\"Selection\"},{\"attributes\":{},\"id\":\"3367\",\"type\":\"Selection\"},{\"attributes\":{},\"id\":\"3378\",\"type\":\"UnionRenderers\"},{\"attributes\":{\"bottom_units\":\"screen\",\"fill_alpha\":0.5,\"fill_color\":\"lightgrey\",\"left_units\":\"screen\",\"level\":\"overlay\",\"line_alpha\":1.0,\"line_color\":\"black\",\"line_dash\":[4,4],\"line_width\":2,\"right_units\":\"screen\",\"syncable\":false,\"top_units\":\"screen\"},\"id\":\"3132\",\"type\":\"BoxAnnotation\"},{\"attributes\":{},\"id\":\"3368\",\"type\":\"UnionRenderers\"},{\"attributes\":{\"label\":{\"value\":\"male, normal\"},\"renderers\":[{\"id\":\"3173\"},{\"id\":\"3178\"}]},\"id\":\"3204\",\"type\":\"LegendItem\"},{\"attributes\":{},\"id\":\"3379\",\"type\":\"Selection\"},{\"attributes\":{},\"id\":\"3127\",\"type\":\"WheelZoomTool\"},{\"attributes\":{},\"id\":\"3380\",\"type\":\"UnionRenderers\"},{\"attributes\":{},\"id\":\"3369\",\"type\":\"Selection\"},{\"attributes\":{\"line_alpha\":{\"value\":0.5},\"line_color\":{\"value\":\"#d62628\"},\"line_width\":{\"value\":0.5},\"xs\":{\"field\":\"xs\"},\"ys\":{\"field\":\"ys\"}},\"id\":\"3196\",\"type\":\"MultiLine\"},{\"attributes\":{},\"id\":\"3126\",\"type\":\"PanTool\"},{\"attributes\":{},\"id\":\"3370\",\"type\":\"UnionRenderers\"},{\"attributes\":{},\"id\":\"3130\",\"type\":\"ResetTool\"},{\"attributes\":{\"overlay\":{\"id\":\"3132\"}},\"id\":\"3128\",\"type\":\"BoxZoomTool\"},{\"attributes\":{\"data\":{\"xs\":[[90.0,90.0],[85.0,85.0],[77.5,77.5],[92.5,92.5],[57.5,57.5],[95.0,95.0],[77.5,77.5],[80.0,80.0],[92.5,92.5],[67.5,67.5],[72.5,72.5],[85.0,85.0],[80.0,80.0],[77.5,77.5],[77.5,77.5],[40.0,40.0],[87.5,87.5],[85.0,85.0],[72.5,72.5],[90.0,90.0],[90.0,90.0],[87.5,87.5]],\"ys\":[[0,0.0023140495867768583],[0,0.0023140495867768583],[0,0.0023140495867768583],[0,0.0023140495867768583],[0,0.0023140495867768583],[0,0.0023140495867768583],[0,0.0023140495867768583],[0,0.0023140495867768583],[0,0.0023140495867768583],[0,0.0023140495867768583],[0,0.0023140495867768583],[0,0.0023140495867768583],[0,0.0023140495867768583],[0,0.0023140495867768583],[0,0.0023140495867768583],[0,0.0023140495867768583],[0,0.0023140495867768583],[0,0.0023140495867768583],[0,0.0023140495867768583],[0,0.0023140495867768583],[0,0.0023140495867768583],[0,0.0023140495867768583]]},\"selected\":{\"id\":\"3387\"},\"selection_policy\":{\"id\":\"3388\"}},\"id\":\"3195\",\"type\":\"ColumnDataSource\"},{\"attributes\":{},\"id\":\"3129\",\"type\":\"SaveTool\"},{\"attributes\":{\"source\":{\"id\":\"3195\"}},\"id\":\"3199\",\"type\":\"CDSView\"},{\"attributes\":{\"active_multi\":null,\"tools\":[{\"id\":\"3126\"},{\"id\":\"3127\"},{\"id\":\"3128\"},{\"id\":\"3129\"},{\"id\":\"3130\"},{\"id\":\"3131\"}]},\"id\":\"3133\",\"type\":\"Toolbar\"},{\"attributes\":{},\"id\":\"3381\",\"type\":\"Selection\"},{\"attributes\":{\"axis_label\":\"density\",\"formatter\":{\"id\":\"3360\"},\"major_label_policy\":{\"id\":\"3358\"},\"ticker\":{\"id\":\"3123\"}},\"id\":\"3122\",\"type\":\"LinearAxis\"},{\"attributes\":{},\"id\":\"3131\",\"type\":\"HelpTool\"},{\"attributes\":{},\"id\":\"3123\",\"type\":\"BasicTicker\"},{\"attributes\":{},\"id\":\"3371\",\"type\":\"Selection\"},{\"attributes\":{},\"id\":\"3382\",\"type\":\"UnionRenderers\"},{\"attributes\":{\"line_alpha\":{\"value\":0.1},\"line_color\":{\"value\":\"#d62628\"},\"line_width\":{\"value\":0.5},\"xs\":{\"field\":\"xs\"},\"ys\":{\"field\":\"ys\"}},\"id\":\"3197\",\"type\":\"MultiLine\"},{\"attributes\":{\"axis\":{\"id\":\"3122\"},\"dimension\":1,\"ticker\":null},\"id\":\"3125\",\"type\":\"Grid\"},{\"attributes\":{},\"id\":\"3372\",\"type\":\"UnionRenderers\"}],\"root_ids\":[\"3110\"]},\"title\":\"Bokeh Application\",\"version\":\"2.3.3\"}};\n",
       "  var render_items = [{\"docid\":\"af0029c4-c261-4f8f-9b77-c05323c7e600\",\"root_ids\":[\"3110\"],\"roots\":{\"3110\":\"287d647a-575f-4ad1-a687-cd58460e91b7\"}}];\n",
       "  root.Bokeh.embed.embed_items_notebook(docs_json, render_items);\n",
       "\n",
       "  }\n",
       "  if (root.Bokeh !== undefined) {\n",
       "    embed_document(root);\n",
       "  } else {\n",
       "    var attempts = 0;\n",
       "    var timer = setInterval(function(root) {\n",
       "      if (root.Bokeh !== undefined) {\n",
       "        clearInterval(timer);\n",
       "        embed_document(root);\n",
       "      } else {\n",
       "        attempts++;\n",
       "        if (attempts > 100) {\n",
       "          clearInterval(timer);\n",
       "          console.log(\"Bokeh: ERROR: Unable to run BokehJS code because BokehJS library is missing\");\n",
       "        }\n",
       "      }\n",
       "    }, 10, root)\n",
       "  }\n",
       "})(window);"
      ],
      "application/vnd.bokehjs_exec.v0+json": ""
     },
     "metadata": {
      "application/vnd.bokehjs_exec.v0+json": {
       "id": "3110"
      }
     },
     "output_type": "display_data"
    }
   ],
   "source": [
    "# Plot the histogram\n",
    "p = iqplot.histogram(\n",
    "    data=df,\n",
    "    q='percent correct',\n",
    "    cats=['gender', 'sleeper'],\n",
    "    density=True,\n",
    "    frame_width=525,\n",
    ")\n",
    "\n",
    "p.legend.location = 'top_left'\n",
    "\n",
    "bokeh.io.show(p)"
   ]
  },
  {
   "cell_type": "markdown",
   "metadata": {},
   "source": [
    "#### Customizing ECDFs\n",
    "\n",
    "Instead of plotting a separate ECDF for each category, we can put all of the categories together on one ECDF and color the points by the categorical variable by using the `kind='colored'` kwarg. Note that if we do this, we can only have the \"dot\" style ECDF, not the formal staircase."
   ]
  },
  {
   "cell_type": "code",
   "execution_count": 14,
   "metadata": {},
   "outputs": [
    {
     "data": {
      "text/html": [
       "\n",
       "\n",
       "\n",
       "\n",
       "\n",
       "\n",
       "  <div class=\"bk-root\" id=\"20a8c2ab-b069-46e1-b83e-68cd48885ee9\" data-root-id=\"3554\"></div>\n"
      ]
     },
     "metadata": {},
     "output_type": "display_data"
    },
    {
     "data": {
      "application/javascript": [
       "(function(root) {\n",
       "  function embed_document(root) {\n",
       "    \n",
       "  var docs_json = {\"e04cbf3b-7c51-4473-8fd6-2859f4d7e29a\":{\"defs\":[],\"roots\":{\"references\":[{\"attributes\":{\"below\":[{\"id\":\"3563\"}],\"center\":[{\"id\":\"3566\"},{\"id\":\"3570\"}],\"frame_height\":275,\"frame_width\":375,\"left\":[{\"id\":\"3567\"}],\"renderers\":[{\"id\":\"3589\"},{\"id\":\"3595\"},{\"id\":\"3601\"},{\"id\":\"3607\"}],\"right\":[{\"id\":\"3609\"}],\"title\":{\"id\":\"3798\"},\"toolbar\":{\"id\":\"3578\"},\"toolbar_location\":\"above\",\"x_range\":{\"id\":\"3555\"},\"x_scale\":{\"id\":\"3559\"},\"y_range\":{\"id\":\"3557\"},\"y_scale\":{\"id\":\"3561\"}},\"id\":\"3554\",\"subtype\":\"Figure\",\"type\":\"Plot\"},{\"attributes\":{\"source\":{\"id\":\"3597\"}},\"id\":\"3602\",\"type\":\"CDSView\"},{\"attributes\":{},\"id\":\"3811\",\"type\":\"Selection\"},{\"attributes\":{\"data\":{\"__ECDF\":{\"__ndarray__\":\"GRkZGRkZ6T/x8PDw8PDgP1VVVVVVVdU/7Ovr6+vr6z8ZGRkZGRmpPx4eHh4eHu4/9vX19fX11T99fX19fX3dP42MjIyMjOw/FBQUFBQUxD9QUFBQUFDQP5KRkZGRkeE/Hh4eHh4e3j83Nzc3NzfXP9jX19fX19c/FBQUFBQUhD+Ih4eHh4fnP2RkZGRkZOQ/kpGRkZGR0T+rqqqqqqrqP/v6+vr6+uo/2NfX19fX5z8=\",\"dtype\":\"float64\",\"order\":\"little\",\"shape\":[22]},\"__label\":[\"male, normal\",\"male, normal\",\"male, normal\",\"male, normal\",\"male, normal\",\"male, normal\",\"male, normal\",\"male, normal\",\"male, normal\",\"male, normal\",\"male, normal\",\"male, normal\",\"male, normal\",\"male, normal\",\"male, normal\",\"male, normal\",\"male, normal\",\"male, normal\",\"male, normal\",\"male, normal\",\"male, normal\",\"male, normal\"],\"gender\":[\"male\",\"male\",\"male\",\"male\",\"male\",\"male\",\"male\",\"male\",\"male\",\"male\",\"male\",\"male\",\"male\",\"male\",\"male\",\"male\",\"male\",\"male\",\"male\",\"male\",\"male\",\"male\"],\"index\":[32,35,36,37,39,42,43,46,48,50,53,54,59,64,68,81,84,90,91,92,93,95],\"percent correct\":{\"__ndarray__\":\"AAAAAACAVkAAAAAAAEBVQAAAAAAAYFNAAAAAAAAgV0AAAAAAAMBMQAAAAAAAwFdAAAAAAABgU0AAAAAAAABUQAAAAAAAIFdAAAAAAADgUEAAAAAAACBSQAAAAAAAQFVAAAAAAAAAVEAAAAAAAGBTQAAAAAAAYFNAAAAAAAAAREAAAAAAAOBVQAAAAAAAQFVAAAAAAAAgUkAAAAAAAIBWQAAAAAAAgFZAAAAAAADgVUA=\",\"dtype\":\"float64\",\"order\":\"little\",\"shape\":[22]},\"sleeper\":[\"normal\",\"normal\",\"normal\",\"normal\",\"normal\",\"normal\",\"normal\",\"normal\",\"normal\",\"normal\",\"normal\",\"normal\",\"normal\",\"normal\",\"normal\",\"normal\",\"normal\",\"normal\",\"normal\",\"normal\",\"normal\",\"normal\"]},\"selected\":{\"id\":\"3813\"},\"selection_policy\":{\"id\":\"3814\"}},\"id\":\"3603\",\"type\":\"ColumnDataSource\"},{\"attributes\":{\"fill_color\":{\"value\":\"#ff7e0e\"},\"line_color\":{\"value\":\"#ff7e0e\"},\"x\":{\"field\":\"percent correct\"},\"y\":{\"field\":\"__ECDF\"}},\"id\":\"3593\",\"type\":\"Circle\"},{\"attributes\":{\"source\":{\"id\":\"3603\"}},\"id\":\"3608\",\"type\":\"CDSView\"},{\"attributes\":{},\"id\":\"3812\",\"type\":\"UnionRenderers\"},{\"attributes\":{},\"id\":\"3803\",\"type\":\"AllLabels\"},{\"attributes\":{\"label\":{\"value\":\"male, insomniac\"},\"renderers\":[{\"id\":\"3595\"}]},\"id\":\"3611\",\"type\":\"LegendItem\"},{\"attributes\":{\"label\":{\"value\":\"female, insomniac\"},\"renderers\":[{\"id\":\"3589\"}]},\"id\":\"3610\",\"type\":\"LegendItem\"},{\"attributes\":{\"fill_color\":{\"value\":\"#2ba02b\"},\"line_color\":{\"value\":\"#2ba02b\"},\"x\":{\"field\":\"percent correct\"},\"y\":{\"field\":\"__ECDF\"}},\"id\":\"3599\",\"type\":\"Circle\"},{\"attributes\":{\"fill_color\":{\"value\":\"#d62628\"},\"line_color\":{\"value\":\"#d62628\"},\"x\":{\"field\":\"percent correct\"},\"y\":{\"field\":\"__ECDF\"}},\"id\":\"3605\",\"type\":\"Circle\"},{\"attributes\":{},\"id\":\"3807\",\"type\":\"Selection\"},{\"attributes\":{\"active_multi\":null,\"tools\":[{\"id\":\"3571\"},{\"id\":\"3572\"},{\"id\":\"3573\"},{\"id\":\"3574\"},{\"id\":\"3575\"},{\"id\":\"3576\"}]},\"id\":\"3578\",\"type\":\"Toolbar\"},{\"attributes\":{},\"id\":\"3571\",\"type\":\"PanTool\"},{\"attributes\":{},\"id\":\"3564\",\"type\":\"BasicTicker\"},{\"attributes\":{},\"id\":\"3574\",\"type\":\"SaveTool\"},{\"attributes\":{\"bottom_units\":\"screen\",\"fill_alpha\":0.5,\"fill_color\":\"lightgrey\",\"left_units\":\"screen\",\"level\":\"overlay\",\"line_alpha\":1.0,\"line_color\":\"black\",\"line_dash\":[4,4],\"line_width\":2,\"right_units\":\"screen\",\"syncable\":false,\"top_units\":\"screen\"},\"id\":\"3577\",\"type\":\"BoxAnnotation\"},{\"attributes\":{},\"id\":\"3808\",\"type\":\"UnionRenderers\"},{\"attributes\":{},\"id\":\"3805\",\"type\":\"BasicTickFormatter\"},{\"attributes\":{\"data\":{\"__ECDF\":{\"__ndarray__\":\"eHh4eHh46D9fX19fX1/fP5KRkZGRkcE/UFBQUFBQ4D/T0tLS0tLSP7++vr6+vu4/\",\"dtype\":\"float64\",\"order\":\"little\",\"shape\":[6]},\"__label\":[\"male, insomniac\",\"male, insomniac\",\"male, insomniac\",\"male, insomniac\",\"male, insomniac\",\"male, insomniac\"],\"gender\":[\"male\",\"male\",\"male\",\"male\",\"male\",\"male\"],\"index\":[1,6,7,18,19,21],\"percent correct\":{\"__ndarray__\":\"AAAAAACAVkAAAAAAAKBUQAAAAAAA4FBAAAAAAABAVUAAAAAAAMBSQAAAAAAAYFhA\",\"dtype\":\"float64\",\"order\":\"little\",\"shape\":[6]},\"sleeper\":[\"insomniac\",\"insomniac\",\"insomniac\",\"insomniac\",\"insomniac\",\"insomniac\"]},\"selected\":{\"id\":\"3809\"},\"selection_policy\":{\"id\":\"3810\"}},\"id\":\"3591\",\"type\":\"ColumnDataSource\"},{\"attributes\":{\"data\":{\"__ECDF\":{\"__ndarray__\":\"Hh4eHh4ezj+hoKCgoKDgP3Nzc3Nzc9M/09LS0tLSwj/Ozc3Nzc3tP1VVVVVVVeU/nJubm5ub6z9fX19fX1/vP1paWlpaWso/QUFBQUFB4T88PDw8PDzsP1BQUFBQUMA/3dzc3Nzc3D9paWlpaWnpP6alpaWlpeU/FBQUFBQU1D+XlpaWlpbWP19fX19fX88/9vX19fX15T9GRkZGRkbmP7q5ubm5uek/l5aWlpaW5j8KCgoKCgrqP7++vr6+vt4/4uHh4eHh4T8yMjIyMjLiP4OCgoKCguI/09LS0tLS4j8jIyMjIyPjP1paWlpaWuo/sK+vr6+v7z9zc3Nzc3PjP+fm5ubm5uY/Dw8PDw8P7z/d3Nzc3NzsPwAAAAAAAPA/Hh4eHh4erj9ubm5ubm7uP3h4eHh4eNg/GRkZGRkZ2T8AAAAAAADgPzc3Nzc3N+c/xMPDw8PD4z+6ubm5ubnZPxkZGRkZGbk/8fDw8PDw0D8UFBQUFBTkPy0tLS0tLe0/FBQUFBQUpD+SkZGRkZGxP1paWlpaWto/KCgoKCgo6D+1tLS0tLTUP5ybm5ubm8s/nJubm5ubuz8=\",\"dtype\":\"float64\",\"order\":\"little\",\"shape\":[55]},\"__label\":[\"female, normal\",\"female, normal\",\"female, normal\",\"female, normal\",\"female, normal\",\"female, normal\",\"female, normal\",\"female, normal\",\"female, normal\",\"female, normal\",\"female, normal\",\"female, normal\",\"female, normal\",\"female, normal\",\"female, normal\",\"female, normal\",\"female, normal\",\"female, normal\",\"female, normal\",\"female, normal\",\"female, normal\",\"female, normal\",\"female, normal\",\"female, normal\",\"female, normal\",\"female, normal\",\"female, normal\",\"female, normal\",\"female, normal\",\"female, normal\",\"female, normal\",\"female, normal\",\"female, normal\",\"female, normal\",\"female, normal\",\"female, normal\",\"female, normal\",\"female, normal\",\"female, normal\",\"female, normal\",\"female, normal\",\"female, normal\",\"female, normal\",\"female, normal\",\"female, normal\",\"female, normal\",\"female, normal\",\"female, normal\",\"female, normal\",\"female, normal\",\"female, normal\",\"female, normal\",\"female, normal\",\"female, normal\",\"female, normal\"],\"gender\":[\"female\",\"female\",\"female\",\"female\",\"female\",\"female\",\"female\",\"female\",\"female\",\"female\",\"female\",\"female\",\"female\",\"female\",\"female\",\"female\",\"female\",\"female\",\"female\",\"female\",\"female\",\"female\",\"female\",\"female\",\"female\",\"female\",\"female\",\"female\",\"female\",\"female\",\"female\",\"female\",\"female\",\"female\",\"female\",\"female\",\"female\",\"female\",\"female\",\"female\",\"female\",\"female\",\"female\",\"female\",\"female\",\"female\",\"female\",\"female\",\"female\",\"female\",\"female\",\"female\",\"female\",\"female\",\"female\"],\"index\":[25,26,27,28,29,30,31,33,34,38,40,41,44,45,47,49,51,52,55,56,57,58,60,61,62,63,65,66,67,69,70,71,72,73,74,75,76,77,78,79,80,82,83,85,86,87,88,89,94,96,97,98,99,100,101],\"percent correct\":{\"__ndarray__\":\"AAAAAAAgUkAAAAAAAEBVQAAAAAAAwFJAAAAAAADgUEAAAAAAAMBXQAAAAAAA4FVAAAAAAAAgV0AAAAAAAABZQAAAAAAAgFFAAAAAAABAVUAAAAAAACBXQAAAAAAAQFBAAAAAAAAAVEAAAAAAAIBWQAAAAAAA4FVAAAAAAADAUkAAAAAAAGBTQAAAAAAAIFJAAAAAAADgVUAAAAAAAOBVQAAAAAAAgFZAAAAAAADgVUAAAAAAAIBWQAAAAAAAAFRAAAAAAABAVUAAAAAAAEBVQAAAAAAAQFVAAAAAAABAVUAAAAAAAEBVQAAAAAAAgFZAAAAAAAAAWUAAAAAAAEBVQAAAAAAA4FVAAAAAAABgWEAAAAAAACBXQAAAAAAAAFlAAAAAAAAATkAAAAAAAMBXQAAAAAAAYFNAAAAAAABgU0AAAAAAAKBUQAAAAAAA4FVAAAAAAABAVUAAAAAAAGBTQAAAAAAAQE9AAAAAAAAgUkAAAAAAAEBVQAAAAAAAIFdAAAAAAACAS0AAAAAAAABOQAAAAAAAYFNAAAAAAADgVUAAAAAAAMBSQAAAAAAAgFFAAAAAAABAT0A=\",\"dtype\":\"float64\",\"order\":\"little\",\"shape\":[55]},\"sleeper\":[\"normal\",\"normal\",\"normal\",\"normal\",\"normal\",\"normal\",\"normal\",\"normal\",\"normal\",\"normal\",\"normal\",\"normal\",\"normal\",\"normal\",\"normal\",\"normal\",\"normal\",\"normal\",\"normal\",\"normal\",\"normal\",\"normal\",\"normal\",\"normal\",\"normal\",\"normal\",\"normal\",\"normal\",\"normal\",\"normal\",\"normal\",\"normal\",\"normal\",\"normal\",\"normal\",\"normal\",\"normal\",\"normal\",\"normal\",\"normal\",\"normal\",\"normal\",\"normal\",\"normal\",\"normal\",\"normal\",\"normal\",\"normal\",\"normal\",\"normal\",\"normal\",\"normal\",\"normal\",\"normal\",\"normal\"]},\"selected\":{\"id\":\"3811\"},\"selection_policy\":{\"id\":\"3812\"}},\"id\":\"3597\",\"type\":\"ColumnDataSource\"},{\"attributes\":{},\"id\":\"3798\",\"type\":\"Title\"},{\"attributes\":{\"source\":{\"id\":\"3585\"}},\"id\":\"3590\",\"type\":\"CDSView\"},{\"attributes\":{},\"id\":\"3813\",\"type\":\"Selection\"},{\"attributes\":{\"fill_alpha\":{\"value\":0.1},\"fill_color\":{\"value\":\"#1f77b3\"},\"line_alpha\":{\"value\":0.1},\"line_color\":{\"value\":\"#1f77b3\"},\"x\":{\"field\":\"percent correct\"},\"y\":{\"field\":\"__ECDF\"}},\"id\":\"3588\",\"type\":\"Circle\"},{\"attributes\":{\"data_source\":{\"id\":\"3597\"},\"glyph\":{\"id\":\"3599\"},\"hover_glyph\":null,\"muted_glyph\":null,\"nonselection_glyph\":{\"id\":\"3600\"},\"view\":{\"id\":\"3602\"}},\"id\":\"3601\",\"type\":\"GlyphRenderer\"},{\"attributes\":{\"axis\":{\"id\":\"3563\"},\"ticker\":null},\"id\":\"3566\",\"type\":\"Grid\"},{\"attributes\":{\"fill_alpha\":{\"value\":0.1},\"fill_color\":{\"value\":\"#d62628\"},\"line_alpha\":{\"value\":0.1},\"line_color\":{\"value\":\"#d62628\"},\"x\":{\"field\":\"percent correct\"},\"y\":{\"field\":\"__ECDF\"}},\"id\":\"3606\",\"type\":\"Circle\"},{\"attributes\":{},\"id\":\"3814\",\"type\":\"UnionRenderers\"},{\"attributes\":{\"axis_label\":\"percent correct\",\"formatter\":{\"id\":\"3805\"},\"major_label_policy\":{\"id\":\"3803\"},\"ticker\":{\"id\":\"3564\"}},\"id\":\"3563\",\"type\":\"LinearAxis\"},{\"attributes\":{},\"id\":\"3576\",\"type\":\"HelpTool\"},{\"attributes\":{\"fill_alpha\":{\"value\":0.1},\"fill_color\":{\"value\":\"#2ba02b\"},\"line_alpha\":{\"value\":0.1},\"line_color\":{\"value\":\"#2ba02b\"},\"x\":{\"field\":\"percent correct\"},\"y\":{\"field\":\"__ECDF\"}},\"id\":\"3600\",\"type\":\"Circle\"},{\"attributes\":{},\"id\":\"3800\",\"type\":\"AllLabels\"},{\"attributes\":{\"data\":{\"__ECDF\":{\"__ndarray__\":\"3dzc3NzczD9LS0tLS0vrP7W0tLS0tOQ/FBQUFBQUtD8eHh4eHh6eP8nIyMjIyOg/MjIyMjIy0j+XlpaWlpa2P319fX19fe0/+/r6+vr62j+cm5ubm5vbPx4eHh4eHr4/VVVVVVVVxT+XlpaWlpbGPzw8PDw8PNw/2NfX19fXxz8FBQUFBQXlPxQUFBQUFJQ/GRkZGRkZyT8=\",\"dtype\":\"float64\",\"order\":\"little\",\"shape\":[19]},\"__label\":[\"female, insomniac\",\"female, insomniac\",\"female, insomniac\",\"female, insomniac\",\"female, insomniac\",\"female, insomniac\",\"female, insomniac\",\"female, insomniac\",\"female, insomniac\",\"female, insomniac\",\"female, insomniac\",\"female, insomniac\",\"female, insomniac\",\"female, insomniac\",\"female, insomniac\",\"female, insomniac\",\"female, insomniac\",\"female, insomniac\",\"female, insomniac\"],\"gender\":[\"female\",\"female\",\"female\",\"female\",\"female\",\"female\",\"female\",\"female\",\"female\",\"female\",\"female\",\"female\",\"female\",\"female\",\"female\",\"female\",\"female\",\"female\",\"female\"],\"index\":[0,2,3,4,5,8,9,10,11,12,13,14,15,16,17,20,22,23,24],\"percent correct\":{\"__ndarray__\":\"AAAAAAAgUkAAAAAAACBXQAAAAAAA4FVAAAAAAABAT0AAAAAAAABJQAAAAAAAgFZAAAAAAADAUkAAAAAAAEBPQAAAAAAAwFdAAAAAAAAAVEAAAAAAAABUQAAAAAAAQFBAAAAAAACAUUAAAAAAAIBRQAAAAAAAAFRAAAAAAACAUUAAAAAAAOBVQAAAAAAAgEZAAAAAAACAUUA=\",\"dtype\":\"float64\",\"order\":\"little\",\"shape\":[19]},\"sleeper\":[\"insomniac\",\"insomniac\",\"insomniac\",\"insomniac\",\"insomniac\",\"insomniac\",\"insomniac\",\"insomniac\",\"insomniac\",\"insomniac\",\"insomniac\",\"insomniac\",\"insomniac\",\"insomniac\",\"insomniac\",\"insomniac\",\"insomniac\",\"insomniac\",\"insomniac\"]},\"selected\":{\"id\":\"3807\"},\"selection_policy\":{\"id\":\"3808\"}},\"id\":\"3585\",\"type\":\"ColumnDataSource\"},{\"attributes\":{},\"id\":\"3809\",\"type\":\"Selection\"},{\"attributes\":{\"axis_label\":\"ECDF\",\"formatter\":{\"id\":\"3802\"},\"major_label_policy\":{\"id\":\"3800\"},\"ticker\":{\"id\":\"3568\"}},\"id\":\"3567\",\"type\":\"LinearAxis\"},{\"attributes\":{\"fill_alpha\":{\"value\":0.1},\"fill_color\":{\"value\":\"#ff7e0e\"},\"line_alpha\":{\"value\":0.1},\"line_color\":{\"value\":\"#ff7e0e\"},\"x\":{\"field\":\"percent correct\"},\"y\":{\"field\":\"__ECDF\"}},\"id\":\"3594\",\"type\":\"Circle\"},{\"attributes\":{},\"id\":\"3561\",\"type\":\"LinearScale\"},{\"attributes\":{},\"id\":\"3810\",\"type\":\"UnionRenderers\"},{\"attributes\":{},\"id\":\"3802\",\"type\":\"BasicTickFormatter\"},{\"attributes\":{\"data_source\":{\"id\":\"3591\"},\"glyph\":{\"id\":\"3593\"},\"hover_glyph\":null,\"muted_glyph\":null,\"nonselection_glyph\":{\"id\":\"3594\"},\"view\":{\"id\":\"3596\"}},\"id\":\"3595\",\"type\":\"GlyphRenderer\"},{\"attributes\":{},\"id\":\"3555\",\"type\":\"DataRange1d\"},{\"attributes\":{\"axis\":{\"id\":\"3567\"},\"dimension\":1,\"ticker\":null},\"id\":\"3570\",\"type\":\"Grid\"},{\"attributes\":{},\"id\":\"3557\",\"type\":\"DataRange1d\"},{\"attributes\":{},\"id\":\"3568\",\"type\":\"BasicTicker\"},{\"attributes\":{\"label\":{\"value\":\"female, normal\"},\"renderers\":[{\"id\":\"3601\"}]},\"id\":\"3612\",\"type\":\"LegendItem\"},{\"attributes\":{\"fill_color\":{\"value\":\"#1f77b3\"},\"line_color\":{\"value\":\"#1f77b3\"},\"x\":{\"field\":\"percent correct\"},\"y\":{\"field\":\"__ECDF\"}},\"id\":\"3587\",\"type\":\"Circle\"},{\"attributes\":{\"overlay\":{\"id\":\"3577\"}},\"id\":\"3573\",\"type\":\"BoxZoomTool\"},{\"attributes\":{},\"id\":\"3572\",\"type\":\"WheelZoomTool\"},{\"attributes\":{\"click_policy\":\"hide\",\"items\":[{\"id\":\"3610\"},{\"id\":\"3611\"},{\"id\":\"3612\"},{\"id\":\"3613\"}],\"location\":\"top_left\"},\"id\":\"3609\",\"type\":\"Legend\"},{\"attributes\":{},\"id\":\"3575\",\"type\":\"ResetTool\"},{\"attributes\":{\"source\":{\"id\":\"3591\"}},\"id\":\"3596\",\"type\":\"CDSView\"},{\"attributes\":{\"data_source\":{\"id\":\"3603\"},\"glyph\":{\"id\":\"3605\"},\"hover_glyph\":null,\"muted_glyph\":null,\"nonselection_glyph\":{\"id\":\"3606\"},\"view\":{\"id\":\"3608\"}},\"id\":\"3607\",\"type\":\"GlyphRenderer\"},{\"attributes\":{\"label\":{\"value\":\"male, normal\"},\"renderers\":[{\"id\":\"3607\"}]},\"id\":\"3613\",\"type\":\"LegendItem\"},{\"attributes\":{},\"id\":\"3559\",\"type\":\"LinearScale\"},{\"attributes\":{\"data_source\":{\"id\":\"3585\"},\"glyph\":{\"id\":\"3587\"},\"hover_glyph\":null,\"muted_glyph\":null,\"nonselection_glyph\":{\"id\":\"3588\"},\"view\":{\"id\":\"3590\"}},\"id\":\"3589\",\"type\":\"GlyphRenderer\"}],\"root_ids\":[\"3554\"]},\"title\":\"Bokeh Application\",\"version\":\"2.3.3\"}};\n",
       "  var render_items = [{\"docid\":\"e04cbf3b-7c51-4473-8fd6-2859f4d7e29a\",\"root_ids\":[\"3554\"],\"roots\":{\"3554\":\"20a8c2ab-b069-46e1-b83e-68cd48885ee9\"}}];\n",
       "  root.Bokeh.embed.embed_items_notebook(docs_json, render_items);\n",
       "\n",
       "  }\n",
       "  if (root.Bokeh !== undefined) {\n",
       "    embed_document(root);\n",
       "  } else {\n",
       "    var attempts = 0;\n",
       "    var timer = setInterval(function(root) {\n",
       "      if (root.Bokeh !== undefined) {\n",
       "        clearInterval(timer);\n",
       "        embed_document(root);\n",
       "      } else {\n",
       "        attempts++;\n",
       "        if (attempts > 100) {\n",
       "          clearInterval(timer);\n",
       "          console.log(\"Bokeh: ERROR: Unable to run BokehJS code because BokehJS library is missing\");\n",
       "        }\n",
       "      }\n",
       "    }, 10, root)\n",
       "  }\n",
       "})(window);"
      ],
      "application/vnd.bokehjs_exec.v0+json": ""
     },
     "metadata": {
      "application/vnd.bokehjs_exec.v0+json": {
       "id": "3554"
      }
     },
     "output_type": "display_data"
    }
   ],
   "source": [
    "p = iqplot.ecdf(\n",
    "    data=df,\n",
    "    q='percent correct',\n",
    "    cats=['gender', 'sleeper'],\n",
    "    kind='colored',\n",
    ")\n",
    "\n",
    "p.legend.location = 'top_left'\n",
    "\n",
    "bokeh.io.show(p)"
   ]
  },
  {
   "cell_type": "markdown",
   "metadata": {},
   "source": [
    "In general, for customization, you should check [the documentation](https://iqplot.github.io/) to see what is available."
   ]
  },
  {
   "cell_type": "markdown",
   "metadata": {},
   "source": [
    "## Computing environment"
   ]
  },
  {
   "cell_type": "code",
   "execution_count": 15,
   "metadata": {},
   "outputs": [
    {
     "name": "stdout",
     "output_type": "stream",
     "text": [
      "Python implementation: CPython\n",
      "Python version       : 3.8.11\n",
      "IPython version      : 7.26.0\n",
      "\n",
      "pandas    : 1.3.2\n",
      "bokeh     : 2.3.3\n",
      "iqplot    : 0.2.3\n",
      "jupyterlab: 3.1.7\n",
      "\n"
     ]
    }
   ],
   "source": [
    "%load_ext watermark\n",
    "%watermark -v -p pandas,bokeh,iqplot,jupyterlab"
   ]
  }
 ],
 "metadata": {
  "kernelspec": {
   "display_name": "Python 3 (ipykernel)",
   "language": "python",
   "name": "python3"
  },
  "language_info": {
   "codemirror_mode": {
    "name": "ipython",
    "version": 3
   },
   "file_extension": ".py",
   "mimetype": "text/x-python",
   "name": "python",
   "nbconvert_exporter": "python",
   "pygments_lexer": "ipython3",
   "version": "3.8.11"
  }
 },
 "nbformat": 4,
 "nbformat_minor": 4
}
