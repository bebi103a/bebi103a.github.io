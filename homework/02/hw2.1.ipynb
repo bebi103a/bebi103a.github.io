{
 "cells": [
  {
   "cell_type": "markdown",
   "id": "e3462c68-7a5e-4d5b-b3b7-88b0fb4ee075",
   "metadata": {},
   "source": [
    "# Homework 2.1: Fun with mutual information and Darwin (40 pts)\n",
    "\n",
    "In this problem, we will do an exercise that is useful for understanding how [mutual information](https://en.wikipedia.org/wiki/Mutual_information) works. This is an important concept in understanding cellular signaling in many contexts, including developmental and neuronal. You can read more about mutual information in [David MacKay's wonderful book](http://www.inference.org.uk/mackay/itila/) and applications in biology in [Bill Bialek's book](https://press.princeton.edu/books/hardcover/9780691138916/biophysics).\n",
    "\n",
    "In this fun exercise, we will take English text and see how much we know about a letter with knowledge of the letter that precedes it. For example, we have a much higher chance of following a `t` with an `h` than with an `f`. We will perform a similar analysis as was done to produce Figure 8B in [Manuel Razo's thesis](https://mrazomej.github.io/phd/chapter_01/#entropy-information-and-the-math-behind-the-bit) (another great resource to read about mutual information in biology).\n",
    "\n",
    "**a)** Download the entire text of Darwin's _On the Origin of the Species_ from Project Gutenberg here: [https://www.gutenberg.org/files/2009/2009-0.txt](https://www.gutenberg.org/files/2009/2009-0.txt). The text of the book starts after the line: `Sixth London Edition, with all Additions and Corrections.` The text of the book ends before the line: `*** END OF THE PROJECT GUTENBERG EBOOK ON THE ORIGIN OF SPECIES ***`. Produce a string that contains the text of the book.\n",
    "\n",
    "**b)** Write a function that takes in text, and achieves the following:\n",
    "\n",
    "1. Converts all carriage returns (`\\r`), newline characters, hyphens (`-`), en dashes (`–`) and em dashes (`—`) to spaces. \n",
    "2. Converts all letters to lower case.\n",
    "3. Converts special characters as follows: `à ⟶ a`, `ä ⟶ a`, `æ ⟶ ae`, `è ⟶ e`, `é ⟶ e`, `ê ⟶ e`, `ë ⟶ e`, `ô ⟶ o`, `ö ⟶ o`, `ü ⟶ u`, `œ ⟶ oe`.\n",
    "4. Strips out all characters that are not either letters or spaces.\n",
    "5. Converts any set of consecutive spaces into a single space.\n",
    "6. Returns the resulting string.\n",
    "\n",
    "Use this function to produce a string for analysis.\n",
    "\n",
    "**c)** Compute and print out the frequency of all 27 characters (the 26 letters and spaces). Can you see which characters are most common?\n",
    "\n",
    "**d)** Compute and print out the frequency of all 27² = 729 two-character combinations. Do you see any striking two-letter combinations?\n",
    "\n",
    "After future lessons, you will know how to make a plot of these data, possibly as a [heat map](https://en.wikipedia.org/wiki/Heat_map), or like Razo did in his thesis and MacKay in his book (see, e.g., Fig. 2.2). "
   ]
  },
  {
   "cell_type": "markdown",
   "id": "ef241587-1fd7-4ee1-b2ab-b0753362625e",
   "metadata": {},
   "source": [
    "<br />"
   ]
  }
 ],
 "metadata": {
  "kernelspec": {
   "display_name": "Python 3 (ipykernel)",
   "language": "python",
   "name": "python3"
  },
  "language_info": {
   "codemirror_mode": {
    "name": "ipython",
    "version": 3
   },
   "file_extension": ".py",
   "mimetype": "text/x-python",
   "name": "python",
   "nbconvert_exporter": "python",
   "pygments_lexer": "ipython3",
   "version": "3.8.11"
  }
 },
 "nbformat": 4,
 "nbformat_minor": 5
}
