{
 "cells": [
  {
   "cell_type": "markdown",
   "id": "878188c4-699c-42a3-a9ce-d689a32a3d91",
   "metadata": {},
   "source": [
    "# Interactive control of graphics with Bokeh\n",
    "\n",
    "*This recitation was created by Nastya Oguienko and Justin Bois based on the lessons on dashboarding from previous versions of this course.*\n",
    "\n",
    "<hr>"
   ]
  },
  {
   "cell_type": "code",
   "execution_count": 1,
   "id": "b2fe9da0-828d-42f5-b4c1-dfc2a9ff9e59",
   "metadata": {},
   "outputs": [
    {
     "data": {
      "text/html": [
       "<div class=\"bk-root\">\n",
       "        <a href=\"https://bokeh.org\" target=\"_blank\" class=\"bk-logo bk-logo-small bk-logo-notebook\"></a>\n",
       "        <span id=\"1002\">Loading BokehJS ...</span>\n",
       "    </div>\n"
      ]
     },
     "metadata": {},
     "output_type": "display_data"
    },
    {
     "data": {
      "application/javascript": [
       "(function(root) {\n",
       "  function now() {\n",
       "    return new Date();\n",
       "  }\n",
       "\n",
       "  const force = true;\n",
       "\n",
       "  if (typeof root._bokeh_onload_callbacks === \"undefined\" || force === true) {\n",
       "    root._bokeh_onload_callbacks = [];\n",
       "    root._bokeh_is_loading = undefined;\n",
       "  }\n",
       "\n",
       "const JS_MIME_TYPE = 'application/javascript';\n",
       "  const HTML_MIME_TYPE = 'text/html';\n",
       "  const EXEC_MIME_TYPE = 'application/vnd.bokehjs_exec.v0+json';\n",
       "  const CLASS_NAME = 'output_bokeh rendered_html';\n",
       "\n",
       "  /**\n",
       "   * Render data to the DOM node\n",
       "   */\n",
       "  function render(props, node) {\n",
       "    const script = document.createElement(\"script\");\n",
       "    node.appendChild(script);\n",
       "  }\n",
       "\n",
       "  /**\n",
       "   * Handle when an output is cleared or removed\n",
       "   */\n",
       "  function handleClearOutput(event, handle) {\n",
       "    const cell = handle.cell;\n",
       "\n",
       "    const id = cell.output_area._bokeh_element_id;\n",
       "    const server_id = cell.output_area._bokeh_server_id;\n",
       "    // Clean up Bokeh references\n",
       "    if (id != null && id in Bokeh.index) {\n",
       "      Bokeh.index[id].model.document.clear();\n",
       "      delete Bokeh.index[id];\n",
       "    }\n",
       "\n",
       "    if (server_id !== undefined) {\n",
       "      // Clean up Bokeh references\n",
       "      const cmd_clean = \"from bokeh.io.state import curstate; print(curstate().uuid_to_server['\" + server_id + \"'].get_sessions()[0].document.roots[0]._id)\";\n",
       "      cell.notebook.kernel.execute(cmd_clean, {\n",
       "        iopub: {\n",
       "          output: function(msg) {\n",
       "            const id = msg.content.text.trim();\n",
       "            if (id in Bokeh.index) {\n",
       "              Bokeh.index[id].model.document.clear();\n",
       "              delete Bokeh.index[id];\n",
       "            }\n",
       "          }\n",
       "        }\n",
       "      });\n",
       "      // Destroy server and session\n",
       "      const cmd_destroy = \"import bokeh.io.notebook as ion; ion.destroy_server('\" + server_id + \"')\";\n",
       "      cell.notebook.kernel.execute(cmd_destroy);\n",
       "    }\n",
       "  }\n",
       "\n",
       "  /**\n",
       "   * Handle when a new output is added\n",
       "   */\n",
       "  function handleAddOutput(event, handle) {\n",
       "    const output_area = handle.output_area;\n",
       "    const output = handle.output;\n",
       "\n",
       "    // limit handleAddOutput to display_data with EXEC_MIME_TYPE content only\n",
       "    if ((output.output_type != \"display_data\") || (!Object.prototype.hasOwnProperty.call(output.data, EXEC_MIME_TYPE))) {\n",
       "      return\n",
       "    }\n",
       "\n",
       "    const toinsert = output_area.element.find(\".\" + CLASS_NAME.split(' ')[0]);\n",
       "\n",
       "    if (output.metadata[EXEC_MIME_TYPE][\"id\"] !== undefined) {\n",
       "      toinsert[toinsert.length - 1].firstChild.textContent = output.data[JS_MIME_TYPE];\n",
       "      // store reference to embed id on output_area\n",
       "      output_area._bokeh_element_id = output.metadata[EXEC_MIME_TYPE][\"id\"];\n",
       "    }\n",
       "    if (output.metadata[EXEC_MIME_TYPE][\"server_id\"] !== undefined) {\n",
       "      const bk_div = document.createElement(\"div\");\n",
       "      bk_div.innerHTML = output.data[HTML_MIME_TYPE];\n",
       "      const script_attrs = bk_div.children[0].attributes;\n",
       "      for (let i = 0; i < script_attrs.length; i++) {\n",
       "        toinsert[toinsert.length - 1].firstChild.setAttribute(script_attrs[i].name, script_attrs[i].value);\n",
       "        toinsert[toinsert.length - 1].firstChild.textContent = bk_div.children[0].textContent\n",
       "      }\n",
       "      // store reference to server id on output_area\n",
       "      output_area._bokeh_server_id = output.metadata[EXEC_MIME_TYPE][\"server_id\"];\n",
       "    }\n",
       "  }\n",
       "\n",
       "  function register_renderer(events, OutputArea) {\n",
       "\n",
       "    function append_mime(data, metadata, element) {\n",
       "      // create a DOM node to render to\n",
       "      const toinsert = this.create_output_subarea(\n",
       "        metadata,\n",
       "        CLASS_NAME,\n",
       "        EXEC_MIME_TYPE\n",
       "      );\n",
       "      this.keyboard_manager.register_events(toinsert);\n",
       "      // Render to node\n",
       "      const props = {data: data, metadata: metadata[EXEC_MIME_TYPE]};\n",
       "      render(props, toinsert[toinsert.length - 1]);\n",
       "      element.append(toinsert);\n",
       "      return toinsert\n",
       "    }\n",
       "\n",
       "    /* Handle when an output is cleared or removed */\n",
       "    events.on('clear_output.CodeCell', handleClearOutput);\n",
       "    events.on('delete.Cell', handleClearOutput);\n",
       "\n",
       "    /* Handle when a new output is added */\n",
       "    events.on('output_added.OutputArea', handleAddOutput);\n",
       "\n",
       "    /**\n",
       "     * Register the mime type and append_mime function with output_area\n",
       "     */\n",
       "    OutputArea.prototype.register_mime_type(EXEC_MIME_TYPE, append_mime, {\n",
       "      /* Is output safe? */\n",
       "      safe: true,\n",
       "      /* Index of renderer in `output_area.display_order` */\n",
       "      index: 0\n",
       "    });\n",
       "  }\n",
       "\n",
       "  // register the mime type if in Jupyter Notebook environment and previously unregistered\n",
       "  if (root.Jupyter !== undefined) {\n",
       "    const events = require('base/js/events');\n",
       "    const OutputArea = require('notebook/js/outputarea').OutputArea;\n",
       "\n",
       "    if (OutputArea.prototype.mime_types().indexOf(EXEC_MIME_TYPE) == -1) {\n",
       "      register_renderer(events, OutputArea);\n",
       "    }\n",
       "  }\n",
       "  if (typeof (root._bokeh_timeout) === \"undefined\" || force === true) {\n",
       "    root._bokeh_timeout = Date.now() + 5000;\n",
       "    root._bokeh_failed_load = false;\n",
       "  }\n",
       "\n",
       "  const NB_LOAD_WARNING = {'data': {'text/html':\n",
       "     \"<div style='background-color: #fdd'>\\n\"+\n",
       "     \"<p>\\n\"+\n",
       "     \"BokehJS does not appear to have successfully loaded. If loading BokehJS from CDN, this \\n\"+\n",
       "     \"may be due to a slow or bad network connection. Possible fixes:\\n\"+\n",
       "     \"</p>\\n\"+\n",
       "     \"<ul>\\n\"+\n",
       "     \"<li>re-rerun `output_notebook()` to attempt to load from CDN again, or</li>\\n\"+\n",
       "     \"<li>use INLINE resources instead, as so:</li>\\n\"+\n",
       "     \"</ul>\\n\"+\n",
       "     \"<code>\\n\"+\n",
       "     \"from bokeh.resources import INLINE\\n\"+\n",
       "     \"output_notebook(resources=INLINE)\\n\"+\n",
       "     \"</code>\\n\"+\n",
       "     \"</div>\"}};\n",
       "\n",
       "  function display_loaded() {\n",
       "    const el = document.getElementById(\"1002\");\n",
       "    if (el != null) {\n",
       "      el.textContent = \"BokehJS is loading...\";\n",
       "    }\n",
       "    if (root.Bokeh !== undefined) {\n",
       "      if (el != null) {\n",
       "        el.textContent = \"BokehJS \" + root.Bokeh.version + \" successfully loaded.\";\n",
       "      }\n",
       "    } else if (Date.now() < root._bokeh_timeout) {\n",
       "      setTimeout(display_loaded, 100)\n",
       "    }\n",
       "  }\n",
       "\n",
       "  function run_callbacks() {\n",
       "    try {\n",
       "      root._bokeh_onload_callbacks.forEach(function(callback) {\n",
       "        if (callback != null)\n",
       "          callback();\n",
       "      });\n",
       "    } finally {\n",
       "      delete root._bokeh_onload_callbacks\n",
       "    }\n",
       "    console.debug(\"Bokeh: all callbacks have finished\");\n",
       "  }\n",
       "\n",
       "  function load_libs(css_urls, js_urls, callback) {\n",
       "    if (css_urls == null) css_urls = [];\n",
       "    if (js_urls == null) js_urls = [];\n",
       "\n",
       "    root._bokeh_onload_callbacks.push(callback);\n",
       "    if (root._bokeh_is_loading > 0) {\n",
       "      console.debug(\"Bokeh: BokehJS is being loaded, scheduling callback at\", now());\n",
       "      return null;\n",
       "    }\n",
       "    if (js_urls == null || js_urls.length === 0) {\n",
       "      run_callbacks();\n",
       "      return null;\n",
       "    }\n",
       "    console.debug(\"Bokeh: BokehJS not loaded, scheduling load and callback at\", now());\n",
       "    root._bokeh_is_loading = css_urls.length + js_urls.length;\n",
       "\n",
       "    function on_load() {\n",
       "      root._bokeh_is_loading--;\n",
       "      if (root._bokeh_is_loading === 0) {\n",
       "        console.debug(\"Bokeh: all BokehJS libraries/stylesheets loaded\");\n",
       "        run_callbacks()\n",
       "      }\n",
       "    }\n",
       "\n",
       "    function on_error(url) {\n",
       "      console.error(\"failed to load \" + url);\n",
       "    }\n",
       "\n",
       "    for (let i = 0; i < css_urls.length; i++) {\n",
       "      const url = css_urls[i];\n",
       "      const element = document.createElement(\"link\");\n",
       "      element.onload = on_load;\n",
       "      element.onerror = on_error.bind(null, url);\n",
       "      element.rel = \"stylesheet\";\n",
       "      element.type = \"text/css\";\n",
       "      element.href = url;\n",
       "      console.debug(\"Bokeh: injecting link tag for BokehJS stylesheet: \", url);\n",
       "      document.body.appendChild(element);\n",
       "    }\n",
       "\n",
       "    for (let i = 0; i < js_urls.length; i++) {\n",
       "      const url = js_urls[i];\n",
       "      const element = document.createElement('script');\n",
       "      element.onload = on_load;\n",
       "      element.onerror = on_error.bind(null, url);\n",
       "      element.async = false;\n",
       "      element.src = url;\n",
       "      console.debug(\"Bokeh: injecting script tag for BokehJS library: \", url);\n",
       "      document.head.appendChild(element);\n",
       "    }\n",
       "  };\n",
       "\n",
       "  function inject_raw_css(css) {\n",
       "    const element = document.createElement(\"style\");\n",
       "    element.appendChild(document.createTextNode(css));\n",
       "    document.body.appendChild(element);\n",
       "  }\n",
       "\n",
       "  const js_urls = [\"https://cdn.bokeh.org/bokeh/release/bokeh-2.4.3.min.js\", \"https://cdn.bokeh.org/bokeh/release/bokeh-gl-2.4.3.min.js\", \"https://cdn.bokeh.org/bokeh/release/bokeh-widgets-2.4.3.min.js\", \"https://cdn.bokeh.org/bokeh/release/bokeh-tables-2.4.3.min.js\", \"https://cdn.bokeh.org/bokeh/release/bokeh-mathjax-2.4.3.min.js\"];\n",
       "  const css_urls = [];\n",
       "\n",
       "  const inline_js = [    function(Bokeh) {\n",
       "      Bokeh.set_log_level(\"info\");\n",
       "    },\n",
       "function(Bokeh) {\n",
       "    }\n",
       "  ];\n",
       "\n",
       "  function run_inline_js() {\n",
       "    if (root.Bokeh !== undefined || force === true) {\n",
       "          for (let i = 0; i < inline_js.length; i++) {\n",
       "      inline_js[i].call(root, root.Bokeh);\n",
       "    }\n",
       "if (force === true) {\n",
       "        display_loaded();\n",
       "      }} else if (Date.now() < root._bokeh_timeout) {\n",
       "      setTimeout(run_inline_js, 100);\n",
       "    } else if (!root._bokeh_failed_load) {\n",
       "      console.log(\"Bokeh: BokehJS failed to load within specified timeout.\");\n",
       "      root._bokeh_failed_load = true;\n",
       "    } else if (force !== true) {\n",
       "      const cell = $(document.getElementById(\"1002\")).parents('.cell').data().cell;\n",
       "      cell.output_area.append_execute_result(NB_LOAD_WARNING)\n",
       "    }\n",
       "  }\n",
       "\n",
       "  if (root._bokeh_is_loading === 0) {\n",
       "    console.debug(\"Bokeh: BokehJS loaded, going straight to plotting\");\n",
       "    run_inline_js();\n",
       "  } else {\n",
       "    load_libs(css_urls, js_urls, function() {\n",
       "      console.debug(\"Bokeh: BokehJS plotting callback run at\", now());\n",
       "      run_inline_js();\n",
       "    });\n",
       "  }\n",
       "}(window));"
      ],
      "application/vnd.bokehjs_load.v0+json": "(function(root) {\n  function now() {\n    return new Date();\n  }\n\n  const force = true;\n\n  if (typeof root._bokeh_onload_callbacks === \"undefined\" || force === true) {\n    root._bokeh_onload_callbacks = [];\n    root._bokeh_is_loading = undefined;\n  }\n\n\n  if (typeof (root._bokeh_timeout) === \"undefined\" || force === true) {\n    root._bokeh_timeout = Date.now() + 5000;\n    root._bokeh_failed_load = false;\n  }\n\n  const NB_LOAD_WARNING = {'data': {'text/html':\n     \"<div style='background-color: #fdd'>\\n\"+\n     \"<p>\\n\"+\n     \"BokehJS does not appear to have successfully loaded. If loading BokehJS from CDN, this \\n\"+\n     \"may be due to a slow or bad network connection. Possible fixes:\\n\"+\n     \"</p>\\n\"+\n     \"<ul>\\n\"+\n     \"<li>re-rerun `output_notebook()` to attempt to load from CDN again, or</li>\\n\"+\n     \"<li>use INLINE resources instead, as so:</li>\\n\"+\n     \"</ul>\\n\"+\n     \"<code>\\n\"+\n     \"from bokeh.resources import INLINE\\n\"+\n     \"output_notebook(resources=INLINE)\\n\"+\n     \"</code>\\n\"+\n     \"</div>\"}};\n\n  function display_loaded() {\n    const el = document.getElementById(\"1002\");\n    if (el != null) {\n      el.textContent = \"BokehJS is loading...\";\n    }\n    if (root.Bokeh !== undefined) {\n      if (el != null) {\n        el.textContent = \"BokehJS \" + root.Bokeh.version + \" successfully loaded.\";\n      }\n    } else if (Date.now() < root._bokeh_timeout) {\n      setTimeout(display_loaded, 100)\n    }\n  }\n\n  function run_callbacks() {\n    try {\n      root._bokeh_onload_callbacks.forEach(function(callback) {\n        if (callback != null)\n          callback();\n      });\n    } finally {\n      delete root._bokeh_onload_callbacks\n    }\n    console.debug(\"Bokeh: all callbacks have finished\");\n  }\n\n  function load_libs(css_urls, js_urls, callback) {\n    if (css_urls == null) css_urls = [];\n    if (js_urls == null) js_urls = [];\n\n    root._bokeh_onload_callbacks.push(callback);\n    if (root._bokeh_is_loading > 0) {\n      console.debug(\"Bokeh: BokehJS is being loaded, scheduling callback at\", now());\n      return null;\n    }\n    if (js_urls == null || js_urls.length === 0) {\n      run_callbacks();\n      return null;\n    }\n    console.debug(\"Bokeh: BokehJS not loaded, scheduling load and callback at\", now());\n    root._bokeh_is_loading = css_urls.length + js_urls.length;\n\n    function on_load() {\n      root._bokeh_is_loading--;\n      if (root._bokeh_is_loading === 0) {\n        console.debug(\"Bokeh: all BokehJS libraries/stylesheets loaded\");\n        run_callbacks()\n      }\n    }\n\n    function on_error(url) {\n      console.error(\"failed to load \" + url);\n    }\n\n    for (let i = 0; i < css_urls.length; i++) {\n      const url = css_urls[i];\n      const element = document.createElement(\"link\");\n      element.onload = on_load;\n      element.onerror = on_error.bind(null, url);\n      element.rel = \"stylesheet\";\n      element.type = \"text/css\";\n      element.href = url;\n      console.debug(\"Bokeh: injecting link tag for BokehJS stylesheet: \", url);\n      document.body.appendChild(element);\n    }\n\n    for (let i = 0; i < js_urls.length; i++) {\n      const url = js_urls[i];\n      const element = document.createElement('script');\n      element.onload = on_load;\n      element.onerror = on_error.bind(null, url);\n      element.async = false;\n      element.src = url;\n      console.debug(\"Bokeh: injecting script tag for BokehJS library: \", url);\n      document.head.appendChild(element);\n    }\n  };\n\n  function inject_raw_css(css) {\n    const element = document.createElement(\"style\");\n    element.appendChild(document.createTextNode(css));\n    document.body.appendChild(element);\n  }\n\n  const js_urls = [\"https://cdn.bokeh.org/bokeh/release/bokeh-2.4.3.min.js\", \"https://cdn.bokeh.org/bokeh/release/bokeh-gl-2.4.3.min.js\", \"https://cdn.bokeh.org/bokeh/release/bokeh-widgets-2.4.3.min.js\", \"https://cdn.bokeh.org/bokeh/release/bokeh-tables-2.4.3.min.js\", \"https://cdn.bokeh.org/bokeh/release/bokeh-mathjax-2.4.3.min.js\"];\n  const css_urls = [];\n\n  const inline_js = [    function(Bokeh) {\n      Bokeh.set_log_level(\"info\");\n    },\nfunction(Bokeh) {\n    }\n  ];\n\n  function run_inline_js() {\n    if (root.Bokeh !== undefined || force === true) {\n          for (let i = 0; i < inline_js.length; i++) {\n      inline_js[i].call(root, root.Bokeh);\n    }\nif (force === true) {\n        display_loaded();\n      }} else if (Date.now() < root._bokeh_timeout) {\n      setTimeout(run_inline_js, 100);\n    } else if (!root._bokeh_failed_load) {\n      console.log(\"Bokeh: BokehJS failed to load within specified timeout.\");\n      root._bokeh_failed_load = true;\n    } else if (force !== true) {\n      const cell = $(document.getElementById(\"1002\")).parents('.cell').data().cell;\n      cell.output_area.append_execute_result(NB_LOAD_WARNING)\n    }\n  }\n\n  if (root._bokeh_is_loading === 0) {\n    console.debug(\"Bokeh: BokehJS loaded, going straight to plotting\");\n    run_inline_js();\n  } else {\n    load_libs(css_urls, js_urls, function() {\n      console.debug(\"Bokeh: BokehJS plotting callback run at\", now());\n      run_inline_js();\n    });\n  }\n}(window));"
     },
     "metadata": {},
     "output_type": "display_data"
    }
   ],
   "source": [
    "import numpy as np\n",
    "\n",
    "import scipy.stats as st\n",
    "\n",
    "import bokeh.io\n",
    "import bokeh.plotting\n",
    "import bokeh.models\n",
    "\n",
    "bokeh.io.output_notebook()\n",
    "\n",
    "# The following needs to be changed accordingly to your localhost\n",
    "notebook_url = \"localhost:8888\""
   ]
  },
  {
   "cell_type": "markdown",
   "id": "39baf9ab-17d4-451b-b907-2b72cfb9d09a",
   "metadata": {},
   "source": [
    "<div style=\"color: tomato; font-weight: bold;\">\n",
    "\n",
    "Important! Interactive control of graphics does not work in Google Colab. You have to run these notebooks in Jupyter Lab on your local machine!\n",
    "    \n",
    "Also, dashboards will not appear in the HTML-rendered version of this notebook. You are therefore encouraged to download and run this notebook on your local machine.\n",
    "\n",
    "</div>"
   ]
  },
  {
   "cell_type": "markdown",
   "id": "96a4906a-56d0-4671-aee0-0969730aba5b",
   "metadata": {
    "tags": []
   },
   "source": [
    "## Dashboarding with Bokeh\n",
    "Data dashboards allow you to display your data with interactive controls. The viewer can adjust the controls to change what data you plot, change scales, zoom in on the data, etc. There are several different libraries that allow you to make plots like that. We will use Bokeh. Take a look at the [Bokeh User Guide](https://docs.bokeh.org/en/test/docs/user_guide/interaction.html) for more explanation on how to use it and create interactions. You can find some cool examples of apps demonstrating different features [here](https://docs.bokeh.org/en/latest/docs/gallery.html) and a list of possible widgets and panes [here](https://docs.bokeh.org/en/test/docs/user_guide/interaction/widgets.html#examples). A lot of examples are partly written with JavaScript, but it is possible to create interactive plots with only Python, which we will do in this recitation.\n",
    "\n",
    "We will begin our demonstration of use of Bokeh Interactive plots with...."
   ]
  },
  {
   "cell_type": "markdown",
   "id": "925e9b5f-d819-47cf-b1d1-2dde4e5ee45c",
   "metadata": {},
   "source": [
    "## A simple example\n",
    "As an example of how you can build interactive dashboards, we will start by plotting the PDF of the Normal distribution."
   ]
  },
  {
   "cell_type": "code",
   "execution_count": 2,
   "id": "7508e04b-6c99-48ac-9301-8a060975a834",
   "metadata": {},
   "outputs": [
    {
     "data": {
      "text/html": [
       "\n",
       "  <div class=\"bk-root\" id=\"9824fa8f-6025-4cc3-9107-ae72631ce750\" data-root-id=\"1003\"></div>\n"
      ]
     },
     "metadata": {},
     "output_type": "display_data"
    },
    {
     "data": {
      "application/javascript": [
       "(function(root) {\n",
       "  function embed_document(root) {\n",
       "  const docs_json = {\"6363862e-698f-4150-b06b-9d7a9c38f20e\":{\"defs\":[],\"roots\":{\"references\":[{\"attributes\":{\"below\":[{\"id\":\"1012\"}],\"center\":[{\"id\":\"1015\"},{\"id\":\"1019\"}],\"frame_height\":275,\"frame_width\":375,\"left\":[{\"id\":\"1016\"}],\"renderers\":[{\"id\":\"1038\"}],\"title\":{\"id\":\"1040\"},\"toolbar\":{\"id\":\"1027\"},\"x_range\":{\"id\":\"1004\"},\"x_scale\":{\"id\":\"1008\"},\"y_range\":{\"id\":\"1006\"},\"y_scale\":{\"id\":\"1010\"}},\"id\":\"1003\",\"subtype\":\"Figure\",\"type\":\"Plot\"},{\"attributes\":{\"coordinates\":null,\"group\":null},\"id\":\"1040\",\"type\":\"Title\"},{\"attributes\":{\"axis_label\":\"f(x ; \\u00b5, \\u03c3)\",\"coordinates\":null,\"formatter\":{\"id\":\"1043\"},\"group\":null,\"major_label_policy\":{\"id\":\"1044\"},\"ticker\":{\"id\":\"1017\"}},\"id\":\"1016\",\"type\":\"LinearAxis\"},{\"attributes\":{},\"id\":\"1010\",\"type\":\"LinearScale\"},{\"attributes\":{},\"id\":\"1047\",\"type\":\"AllLabels\"},{\"attributes\":{\"axis_label\":\"x\",\"coordinates\":null,\"formatter\":{\"id\":\"1046\"},\"group\":null,\"major_label_policy\":{\"id\":\"1047\"},\"ticker\":{\"id\":\"1013\"}},\"id\":\"1012\",\"type\":\"LinearAxis\"},{\"attributes\":{\"line_alpha\":0.1,\"line_color\":\"#1f77b4\",\"line_width\":2,\"x\":{\"field\":\"x\"},\"y\":{\"field\":\"y\"}},\"id\":\"1036\",\"type\":\"Line\"},{\"attributes\":{\"overlay\":{\"id\":\"1026\"}},\"id\":\"1022\",\"type\":\"BoxZoomTool\"},{\"attributes\":{},\"id\":\"1023\",\"type\":\"SaveTool\"},{\"attributes\":{\"data\":{\"x\":{\"__ndarray__\":\"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\",\"dtype\":\"float64\",\"order\":\"little\",\"shape\":[2000]},\"y\":{\"__ndarray__\":\"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\",\"dtype\":\"float64\",\"order\":\"little\",\"shape\":[2000]}},\"selected\":{\"id\":\"1049\"},\"selection_policy\":{\"id\":\"1048\"}},\"id\":\"1034\",\"type\":\"ColumnDataSource\"},{\"attributes\":{\"line_alpha\":0.2,\"line_color\":\"#1f77b4\",\"line_width\":2,\"x\":{\"field\":\"x\"},\"y\":{\"field\":\"y\"}},\"id\":\"1037\",\"type\":\"Line\"},{\"attributes\":{},\"id\":\"1025\",\"type\":\"HelpTool\"},{\"attributes\":{\"bottom_units\":\"screen\",\"coordinates\":null,\"fill_alpha\":0.5,\"fill_color\":\"lightgrey\",\"group\":null,\"left_units\":\"screen\",\"level\":\"overlay\",\"line_alpha\":1.0,\"line_color\":\"black\",\"line_dash\":[4,4],\"line_width\":2,\"right_units\":\"screen\",\"syncable\":false,\"top_units\":\"screen\"},\"id\":\"1026\",\"type\":\"BoxAnnotation\"},{\"attributes\":{},\"id\":\"1049\",\"type\":\"Selection\"},{\"attributes\":{\"line_color\":\"#1f77b4\",\"line_width\":2,\"x\":{\"field\":\"x\"},\"y\":{\"field\":\"y\"}},\"id\":\"1035\",\"type\":\"Line\"},{\"attributes\":{},\"id\":\"1048\",\"type\":\"UnionRenderers\"},{\"attributes\":{\"axis\":{\"id\":\"1012\"},\"coordinates\":null,\"group\":null,\"ticker\":null},\"id\":\"1015\",\"type\":\"Grid\"},{\"attributes\":{},\"id\":\"1013\",\"type\":\"BasicTicker\"},{\"attributes\":{},\"id\":\"1006\",\"type\":\"DataRange1d\"},{\"attributes\":{},\"id\":\"1004\",\"type\":\"DataRange1d\"},{\"attributes\":{},\"id\":\"1046\",\"type\":\"BasicTickFormatter\"},{\"attributes\":{},\"id\":\"1008\",\"type\":\"LinearScale\"},{\"attributes\":{},\"id\":\"1043\",\"type\":\"BasicTickFormatter\"},{\"attributes\":{\"tools\":[{\"id\":\"1020\"},{\"id\":\"1021\"},{\"id\":\"1022\"},{\"id\":\"1023\"},{\"id\":\"1024\"},{\"id\":\"1025\"}]},\"id\":\"1027\",\"type\":\"Toolbar\"},{\"attributes\":{\"axis\":{\"id\":\"1016\"},\"coordinates\":null,\"dimension\":1,\"group\":null,\"ticker\":null},\"id\":\"1019\",\"type\":\"Grid\"},{\"attributes\":{\"source\":{\"id\":\"1034\"}},\"id\":\"1039\",\"type\":\"CDSView\"},{\"attributes\":{},\"id\":\"1017\",\"type\":\"BasicTicker\"},{\"attributes\":{},\"id\":\"1024\",\"type\":\"ResetTool\"},{\"attributes\":{\"coordinates\":null,\"data_source\":{\"id\":\"1034\"},\"glyph\":{\"id\":\"1035\"},\"group\":null,\"hover_glyph\":null,\"muted_glyph\":{\"id\":\"1037\"},\"nonselection_glyph\":{\"id\":\"1036\"},\"view\":{\"id\":\"1039\"}},\"id\":\"1038\",\"type\":\"GlyphRenderer\"},{\"attributes\":{},\"id\":\"1044\",\"type\":\"AllLabels\"},{\"attributes\":{},\"id\":\"1021\",\"type\":\"WheelZoomTool\"},{\"attributes\":{},\"id\":\"1020\",\"type\":\"PanTool\"}],\"root_ids\":[\"1003\"]},\"title\":\"Bokeh Application\",\"version\":\"2.4.3\"}};\n",
       "  const render_items = [{\"docid\":\"6363862e-698f-4150-b06b-9d7a9c38f20e\",\"root_ids\":[\"1003\"],\"roots\":{\"1003\":\"9824fa8f-6025-4cc3-9107-ae72631ce750\"}}];\n",
       "  root.Bokeh.embed.embed_items_notebook(docs_json, render_items);\n",
       "  }\n",
       "  if (root.Bokeh !== undefined) {\n",
       "    embed_document(root);\n",
       "  } else {\n",
       "    let attempts = 0;\n",
       "    const timer = setInterval(function(root) {\n",
       "      if (root.Bokeh !== undefined) {\n",
       "        clearInterval(timer);\n",
       "        embed_document(root);\n",
       "      } else {\n",
       "        attempts++;\n",
       "        if (attempts > 100) {\n",
       "          clearInterval(timer);\n",
       "          console.log(\"Bokeh: ERROR: Unable to run BokehJS code because BokehJS library is missing\");\n",
       "        }\n",
       "      }\n",
       "    }, 10, root)\n",
       "  }\n",
       "})(window);"
      ],
      "application/vnd.bokehjs_exec.v0+json": ""
     },
     "metadata": {
      "application/vnd.bokehjs_exec.v0+json": {
       "id": "1003"
      }
     },
     "output_type": "display_data"
    }
   ],
   "source": [
    "mu = 0\n",
    "sigma = 1\n",
    "\n",
    "x = np.linspace(-10, 10, 2000)\n",
    "y = st.norm.pdf(x, loc=mu, scale=sigma)\n",
    "\n",
    "p = bokeh.plotting.figure(\n",
    "    frame_height=275,\n",
    "    frame_width=375,\n",
    "    x_axis_label=\"x\",\n",
    "    y_axis_label=\"f(x ; µ, σ)\",\n",
    ")\n",
    "\n",
    "p.line(x, y, line_width=2, color=\"#1f77b4\")\n",
    "\n",
    "bokeh.io.show(p)"
   ]
  },
  {
   "cell_type": "markdown",
   "id": "6879d356-9289-4fc6-b430-629823810bbf",
   "metadata": {},
   "source": [
    "Looks good, but what if we want to examine how the PDF changes with µ and σ? We can use `bokeh.models.Slider()` to instantiate interactive sliders using the Slider widget."
   ]
  },
  {
   "cell_type": "code",
   "execution_count": 3,
   "id": "a37a37eb-a6a2-48b0-a931-0a1a547c0c73",
   "metadata": {},
   "outputs": [],
   "source": [
    "# making the widgets\n",
    "mu_slider = bokeh.models.Slider(\n",
    "    title=\"µ\", start=-5, end=5, step=0.01, value=0, width=375\n",
    ")\n",
    "\n",
    "sigma_slider = bokeh.models.Slider(\n",
    "    title=\"σ\", start=0.01, end=5, step=0.01, value=1, width=375\n",
    ")"
   ]
  },
  {
   "cell_type": "markdown",
   "id": "7f994f34-8fc9-4815-9657-7907173e61da",
   "metadata": {},
   "source": [
    "Because Bokeh uses specific data type for plotting that is called `ColumnDataSource` we will create the `ColumnDataSource` object for a the data we want to plot:"
   ]
  },
  {
   "cell_type": "code",
   "execution_count": 4,
   "id": "bb856831-e7ed-40a3-b040-0817fb619dfe",
   "metadata": {},
   "outputs": [],
   "source": [
    "cds = bokeh.models.ColumnDataSource(dict(x=x, y=y))"
   ]
  },
  {
   "cell_type": "markdown",
   "id": "b3ac19d7-c5bf-4509-aa1f-526bc50d0ed0",
   "metadata": {},
   "source": [
    "We now want to link this slider to the plot. To do that, we need to write a callback function which always takes three arguments: `attr`, `old`, and `new`, and updates the source for the plot. Notice that the function does not return anything but it updates the global `ColumnDataSource` object, so you have to use the global name of this object within the body of the function."
   ]
  },
  {
   "cell_type": "code",
   "execution_count": 5,
   "id": "59f67f1d-d4ec-4a7c-88ae-1f514db92297",
   "metadata": {},
   "outputs": [],
   "source": [
    "def callback(attr, old, new):\n",
    "    # Slider values\n",
    "    mu = mu_slider.value\n",
    "    sigma = sigma_slider.value\n",
    "\n",
    "    # Renewing data in cds   \n",
    "    cds.data[\"y\"] = st.norm.pdf(x, loc=mu, scale=sigma)"
   ]
  },
  {
   "cell_type": "markdown",
   "id": "5b096857-3d85-4d79-819f-83e93138f90f",
   "metadata": {},
   "source": [
    "The last thing to do is to define when to use a callback function to update the information for plotting. We want to do this whenever the slider values are changed."
   ]
  },
  {
   "cell_type": "code",
   "execution_count": 6,
   "id": "b6ae0f4f-6804-4050-af3d-fdd0952b4982",
   "metadata": {},
   "outputs": [],
   "source": [
    "mu_slider.on_change(\"value\", callback)\n",
    "sigma_slider.on_change(\"value\", callback)"
   ]
  },
  {
   "cell_type": "markdown",
   "id": "70f7b335-46ce-4f22-a18a-48862d4541b6",
   "metadata": {},
   "source": [
    "Now we can build our plot."
   ]
  },
  {
   "cell_type": "code",
   "execution_count": 7,
   "id": "5d5386c2-6f3e-430e-9817-f95a33752391",
   "metadata": {},
   "outputs": [],
   "source": [
    "# Build plot\n",
    "cds = bokeh.models.ColumnDataSource(dict(x=x, y=y))\n",
    "\n",
    "p = bokeh.plotting.figure(\n",
    "    frame_height=275,\n",
    "    frame_width=375,\n",
    "    x_axis_label=\"x\",\n",
    "    y_axis_label=\"f(x ; µ, σ)\",\n",
    ")\n",
    "\n",
    "p.line(\n",
    "    source=cds,\n",
    "    x=\"x\",\n",
    "    y=\"y\",\n",
    "    line_width=2,\n",
    "    color=\"#1f77b4\",\n",
    ")\n",
    "\n",
    "layout = bokeh.layouts.column(\n",
    "    p,\n",
    "    bokeh.layouts.column(\n",
    "        bokeh.layouts.row(bokeh.layouts.Spacer(width=50), mu_slider),\n",
    "        bokeh.layouts.Spacer(width=30),\n",
    "        bokeh.layouts.row(bokeh.layouts.Spacer(width=50), sigma_slider),\n",
    "    ),\n",
    ")"
   ]
  },
  {
   "cell_type": "markdown",
   "id": "3a7daa12-7415-44b0-9653-ddab238727f6",
   "metadata": {},
   "source": [
    "To enable the Python callback, we need to create a function, as below, wherein we add our layout to a document. This seemingly strange looking function needs to be defined in this way whenever we are going to build a dashboard with a Python-based callback."
   ]
  },
  {
   "cell_type": "code",
   "execution_count": 8,
   "id": "c9b07ff8-a118-4745-9736-18cafbca316b",
   "metadata": {},
   "outputs": [],
   "source": [
    "def app(doc):\n",
    "    doc.add_root(layout)"
   ]
  },
  {
   "cell_type": "markdown",
   "id": "f4e1acdd-0c17-48d2-bbab-acd4a9ae9334",
   "metadata": {},
   "source": [
    "Finally, we can show our app, making sure to give the appropriate notebook URL."
   ]
  },
  {
   "cell_type": "code",
   "execution_count": 10,
   "id": "0e85299b-a48f-4c45-bf70-3e281155e6fb",
   "metadata": {},
   "outputs": [
    {
     "data": {
      "application/vnd.bokehjs_exec.v0+json": "",
      "text/html": [
       "<script id=\"1154\">\n",
       "  (function() {\n",
       "    const xhr = new XMLHttpRequest()\n",
       "    xhr.responseType = 'blob';\n",
       "    xhr.open('GET', \"http://localhost:51014/autoload.js?bokeh-autoload-element=1154&bokeh-absolute-url=http://localhost:51014&resources=none\", true);\n",
       "    xhr.onload = function (event) {\n",
       "      const script = document.createElement('script');\n",
       "      const src = URL.createObjectURL(event.target.response);\n",
       "      script.src = src;\n",
       "      document.body.appendChild(script);\n",
       "    };\n",
       "    xhr.send();\n",
       "  })();\n",
       "</script>"
      ]
     },
     "metadata": {
      "application/vnd.bokehjs_exec.v0+json": {
       "server_id": "881d1de2cdb148f39a9ff9a2adba792e"
      }
     },
     "output_type": "display_data"
    }
   ],
   "source": [
    "bokeh.io.show(app, notebook_url=notebook_url)"
   ]
  },
  {
   "cell_type": "markdown",
   "id": "f95abb35-0b64-46ce-8337-61157a853bd6",
   "metadata": {},
   "source": [
    "The sliders for µ and σ help us visualize how the Normal PDF depends on each variable.\n",
    "\n",
    "As a review, let's go through each component. First, we define our widgets, mu_slider and sigma_slider. When building more complicated dashboards, we can look at the Bokeh documentation to choose which widgets we want to use. We also define the `ColumnDataSource` which is the source for data during plotting. It can be defined later as well, however you have to remember to use the appropriate variable name in the callback functions.\n",
    "\n",
    "Next, we define callback function together with widgets' `on_change()` method to link the widgets to the plot. Every time we change the interactive widget, the output of the function updates.\n",
    "\n",
    "Finally, we set the layout of our dashboard. We can define rows and columns through `bokeh.layouts.row()` and `bokeh.layouts.column()` respectively. We can set their heights and widths and add spaces through `bokeh.models.Spacer`. You may have to play around a bit to get it in the format that looks best to you."
   ]
  },
  {
   "cell_type": "markdown",
   "id": "df9fd374-afd7-449c-a55b-02639864d199",
   "metadata": {},
   "source": [
    "## Computing environment"
   ]
  },
  {
   "cell_type": "code",
   "execution_count": 11,
   "id": "36409ffd-b62b-4b9c-a397-3409f67ee741",
   "metadata": {},
   "outputs": [
    {
     "name": "stdout",
     "output_type": "stream",
     "text": [
      "Python implementation: CPython\n",
      "Python version       : 3.9.13\n",
      "IPython version      : 7.31.1\n",
      "\n",
      "numpy     : 1.21.5\n",
      "scipy     : 1.7.3\n",
      "bokeh     : 2.4.3\n",
      "jupyterlab: 3.4.4\n",
      "\n"
     ]
    }
   ],
   "source": [
    "%load_ext watermark\n",
    "%watermark -v -p numpy,scipy,bokeh,jupyterlab"
   ]
  }
 ],
 "metadata": {
  "kernelspec": {
   "display_name": "Python 3 (ipykernel)",
   "language": "python",
   "name": "python3"
  },
  "language_info": {
   "codemirror_mode": {
    "name": "ipython",
    "version": 3
   },
   "file_extension": ".py",
   "mimetype": "text/x-python",
   "name": "python",
   "nbconvert_exporter": "python",
   "pygments_lexer": "ipython3",
   "version": "3.9.13"
  }
 },
 "nbformat": 4,
 "nbformat_minor": 5
}
