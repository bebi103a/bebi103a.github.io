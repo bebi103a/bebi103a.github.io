{
 "cells": [
  {
   "cell_type": "markdown",
   "metadata": {},
   "source": [
    "# Homework 9.1: Analysis of microtubule catastrophe (45 pts)\n",
    "\n",
    "[Dataset download](https://s3.amazonaws.com/bebi103.caltech.edu/data/gardner_mt_catastrophe_only_tubulin.csv)\n",
    "\n",
    "<hr>"
   ]
  },
  {
   "cell_type": "markdown",
   "metadata": {},
   "source": [
    "**Be sure to read problem 9.3 before beginning this problem.**\n",
    "\n",
    "Refresh yourself about the microtubule catastrophe data we explored in previous homeworks. The data set we used there was from a control experiment wherein [Garner, Zanic, and coworkers](https://doi.org/10.1016/j.cell.2011.10.037) compared measurements of microtubule catastrophe times for experiments using fluorescently labeled tubulin and unlabeled tubulin. In this problem you will investigate microtubule catastrophe using labeled tubulin for different concentrations of total tubulin. In the analysis that follows, you will very likely use code you have written in previous homeworks. This also underscores the importance of writing good, well-documented, well-tested code, since you will almost always end up using it again.\n",
    "\n",
    "You can download the data set for  microtubule catastrophe times for various concentrations of tubulin here: [https://s3.amazonaws.com/bebi103.caltech.edu/data/gardner_mt_catastrophe_only_tubulin.csv](https://s3.amazonaws.com/bebi103.caltech.edu/data/gardner_mt_catastrophe_only_tubulin.csv).\n",
    "\n",
    "**a)** I shouldn't have to say this, but perform an exploratory data analysis on the data set.\n",
    "\n",
    "**b)** In homework 8.2, you performed parameter estimates for two models of microtubule catastrophe. In one model, the catastrophe times were Gamma distributed, and in another, they were distributed according to the following story: The arrival of two successive Poisson processes (with different rates) immediately trigger microtubule catastrophe. Use the data set with 12 µM tubulin to compare these two models. Which model is perferred?\n",
    "\n",
    "**c)** Using whichever model you favor based on your work in part (b), obtain parameter estimates for the other tubulin concentrations. Given that microtubules polymerize faster with higher tubulin concentrations, is there anything you can say about the occurrence of catastrophe by looking at the values of the parameters versus tubulin concentration?"
   ]
  },
  {
   "cell_type": "markdown",
   "metadata": {},
   "source": [
    "<br />"
   ]
  }
 ],
 "metadata": {
  "kernelspec": {
   "display_name": "Python 3",
   "language": "python",
   "name": "python3"
  },
  "language_info": {
   "codemirror_mode": {
    "name": "ipython",
    "version": 3
   },
   "file_extension": ".py",
   "mimetype": "text/x-python",
   "name": "python",
   "nbconvert_exporter": "python",
   "pygments_lexer": "ipython3",
   "version": "3.8.5"
  }
 },
 "nbformat": 4,
 "nbformat_minor": 4
}
