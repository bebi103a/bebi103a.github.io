{
 "cells": [
  {
   "cell_type": "markdown",
   "metadata": {},
   "source": [
    "# Homework 6.2: Simulating distributions (40 pts)\n",
    "\n",
    "<hr />"
   ]
  },
  {
   "cell_type": "markdown",
   "metadata": {},
   "source": [
    "In a previous problem, you worked with a data set of measured times for microtubule catastrophe. In this problem, we will develop a model for microtubule catastrophe. \n",
    "\n",
    "**a)** In the [Gardner, Zanic, et al. paper](http://dx.doi.org/10.1016/j.cell.2011.10.037), the authors assumed that the microtubule catatrophe times are Gamma distributed. Discuss how the story behind the Gamma distribution might work for modeling microtubule catastrophe.\n",
    "\n",
    "**b)** As an alternative model, we assert that two biochemical processes have to happen in succession to trigger catastrophe. That is, the first process happens, and only after the first process happens can the second one happen. We model each of the two process as a Poisson process (as is very often done with (bio)chemical dynamics). The rate of arrivals for the first one is $\\beta_1$ and the rate of arrivals for the second one is $\\beta_2$.\n",
    "\n",
    "In a typical experiment, Gardner and Zanic measured about 150 catastrophe events. Use random number generation to simulate one of these experiments with this successive Poisson process model and plot the ECDF of times to catastrophe. That is, generate 150 random numbers that are distributed according to the story of the model. You are simulating the story to do this. You can plot the time axis of the ECDF in units of $\\beta_1^{-1}$. Do this for several values of $\\beta_2/\\beta_1$.\n",
    "\n",
    "**c)** By using random number generation, you have shown how you might expect the experimental results to be distributed. You can derive the distribution for the time $t$ to catastrophe analytically. Show analytically that the PDF of the distribution matching this story is \n",
    "\n",
    "\\begin{align}\n",
    "f(t;\\beta_1, \\beta_2) = \\frac{\\beta_1 \\beta_2}{\\beta_2 - \\beta_1}\\left(\\mathrm{e}^{-\\beta_1 t} - \\mathrm{e}^{-\\beta_2 t}\\right)\n",
    "\\end{align}\n",
    "\n",
    "for $\\beta_1 \\ne \\beta_2$. The CDF for this distribution is\n",
    "\n",
    "\\begin{align}\n",
    "F(t; \\beta_1, \\beta_2) = \n",
    "\\frac{\\beta_1 \\beta_2}{\\beta_2-\\beta_1}\\left[\n",
    "\\frac{1}{\\beta_1}\\left(1-\\mathrm{e}^{- \\beta_1 t}\\right)- \\frac{1}{\\beta_2}\\left(1-\\mathrm{e}^{-\\beta_2 t}\\right)\n",
    "\\right].\n",
    "\\end{align}\n",
    "\n",
    "Overlay this analytical CDF with an ECDF from your simulation to verify that they match."
   ]
  },
  {
   "cell_type": "markdown",
   "metadata": {},
   "source": [
    "<hr />"
   ]
  }
 ],
 "metadata": {
  "kernelspec": {
   "display_name": "Python 3 (ipykernel)",
   "language": "python",
   "name": "python3"
  },
  "language_info": {
   "codemirror_mode": {
    "name": "ipython",
    "version": 3
   },
   "file_extension": ".py",
   "mimetype": "text/x-python",
   "name": "python",
   "nbconvert_exporter": "python",
   "pygments_lexer": "ipython3",
   "version": "3.8.12"
  }
 },
 "nbformat": 4,
 "nbformat_minor": 4
}
