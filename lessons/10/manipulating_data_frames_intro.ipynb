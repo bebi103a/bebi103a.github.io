{
 "cells": [
  {
   "cell_type": "markdown",
   "metadata": {},
   "source": [
    "# Manipulating data frames and wrangling data\n",
    "\n",
    "<hr />"
   ]
  },
  {
   "cell_type": "markdown",
   "metadata": {},
   "source": [
    "We have already seen how to perform calculations with data frames by:\n",
    "\n",
    "- Adding a column, computed from other columns if desired.\n",
    "- Performing transforms.\n",
    "- Computing aggregations.\n",
    "\n",
    "These methods are useful for wrangling data frames, doing things like unit conversions or computing statistical point estimates. There are plenty of other methods you can find in the [Pandas documentation](https://pandas.pydata.org/pandas-docs/stable/), such as `dropna()` and `fillna()`, which are useful for handling missing data, and `duplicated()` and `drop_duplicates()`, which are useful for dealing with repeated data. The Pandas docs, and questions on [Stack Overflow](https://stackoverflow.com) are among your best references for Pandas usage."
   ]
  },
  {
   "cell_type": "markdown",
   "metadata": {},
   "source": [
    "## What's to come\n",
    "\n",
    "In the next sections of this lesson, we discuss how to reshape and combine data frames. In these operations, we are not really doing calculations with data, but rather are working to organize our data set into an easily usable, tidy form. We will cover\n",
    "\n",
    "- Creating a data frame from scratch (as opposed to reading in data from a file)\n",
    "- Merging and concatenating data frames (putting two or more data frames together into one)\n",
    "- Reshaping data frames (converting (multi)indexes to columns, rows into columns, etc.) by stacking, unstacking, and pivoting.\n",
    "- Melting data frames where the column names become columns. (This can be confusing until you see an example, which is coming soon.)\n",
    "\n",
    "All of these methods are useful to bring inputted data into a tidy format, where each row is an observation and each column corresponds to variable."
   ]
  },
  {
   "cell_type": "markdown",
   "metadata": {},
   "source": [
    "## Pandas documentation\n",
    "\n",
    "The Pandas documentation is a great resource for learning about these methods. In particular, the [section of the user guide on merging, joining, and concatenating](https://pandas.pydata.org/pandas-docs/stable/user_guide/merging.html) and the section on [reshaping and pivoting](https://pandas.pydata.org/pandas-docs/stable/user_guide/reshaping.html) are very useful. They use very small, contrived data frames to demonstrate the concepts. There are benefits to this approach, certainly, but I find it is often easier to grasp the concepts with real examples. In the following sections of this lesson, we will approach these topics with real examples. You can think of the these lessons as valuable introductions and supplements to the official Pandas documentation."
   ]
  }
 ],
 "metadata": {
  "kernelspec": {
   "display_name": "Python 3 (ipykernel)",
   "language": "python",
   "name": "python3"
  },
  "language_info": {
   "codemirror_mode": {
    "name": "ipython",
    "version": 3
   },
   "file_extension": ".py",
   "mimetype": "text/x-python",
   "name": "python",
   "nbconvert_exporter": "python",
   "pygments_lexer": "ipython3",
   "version": "3.9.13"
  }
 },
 "nbformat": 4,
 "nbformat_minor": 4
}
