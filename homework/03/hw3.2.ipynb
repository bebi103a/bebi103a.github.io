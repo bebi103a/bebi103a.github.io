{
 "cells": [
  {
   "cell_type": "markdown",
   "metadata": {},
   "source": [
    "# Homework 3.2: Peter and Rosemary Grant and Darwin's finches (55 pts)\n",
    "\n",
    "**[Data set download](https://s3.amazonaws.com/bebi103.caltech.edu/data/finch_beaks.csv)**\n",
    "\n",
    "<hr />"
   ]
  },
  {
   "cell_type": "markdown",
   "metadata": {},
   "source": [
    "Peter and Rosemary Grant of Princeton University have visited the island of Daphne Major on the Galápagos every year for over forty years and have been taking a careful inventory of the finches there. The Grants recently published a wonderful book,  [40 years of evolution: Darwin's finches on Daphne Major Island](http://www.worldcat.org/oclc/854285415). They were generous and made their data publicly available on the [Dryad data repository](http://dx.doi.org/10.5061/dryad.g6g3h). \n",
    "\n",
    "We will focus on the primary two species of ground finch on Daphne Major, *Geospiza fortis* and *Geospiza scandens*. In this [data set](https://s3.amazonaws.com/bebi103.caltech.edu/data/finch_beaks.csv), you will find measurements of the beak length (tip to base) and beak depth (top to bottom) of these finches in the years 1973, 1975, 1987, 1991, and 2012. Also included in that data set is the band number for the bird, which gives a unique identifier. (I obtained the data sets as separate files from the Dryad repository, tidied them, and saved the data set as a CSV.) The image below defines the beak length and beak depth.\n",
    "\n",
    "<div style=\"width: 500px; margin: auto;\">\n",
    "\n",
    "![Finch beak diagram](finch_beak_diagram.png)\n",
    "    \n",
    "</div>\n",
    "\n",
    "This problem is *very* open ended. Your task is simply this: perform exploratory data analysis on this data set.\n",
    "\n",
    "Giving open-ended problems like this tends to leave some students concerned or confused about how they will be evaluated on it. I find that it is worth the potential confusion to give students maximum flexibility for thinking and discussion, and also to simulate \"real life.\" To give you an idea of our expectations for this, you should try (and display) several types of plots to explore the results. Consider how, e.g., beak depth changes over time, how it varies with beak length, how that variation changes of time, etc. You should comment on your approach and what you learn from the plots. At the least, you should explore the data with instructive plots and see if you can find evidence of evolution.\n",
    "\n",
    "Most importantly, this data set is beautiful. You should have fun exploring!"
   ]
  },
  {
   "cell_type": "markdown",
   "metadata": {},
   "source": [
    "<hr />"
   ]
  }
 ],
 "metadata": {
  "kernelspec": {
   "display_name": "Python 3 (ipykernel)",
   "language": "python",
   "name": "python3"
  },
  "language_info": {
   "codemirror_mode": {
    "name": "ipython",
    "version": 3
   },
   "file_extension": ".py",
   "mimetype": "text/x-python",
   "name": "python",
   "nbconvert_exporter": "python",
   "pygments_lexer": "ipython3",
   "version": "3.8.11"
  }
 },
 "nbformat": 4,
 "nbformat_minor": 4
}
