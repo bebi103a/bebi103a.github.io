{
 "cells": [
  {
   "cell_type": "markdown",
   "metadata": {},
   "source": [
    "# Aliases (PowerShell users, skip this section)\n",
    "\n",
    "Since we saw that `rm` is a wrecking ball, we should temper it using the `-i` flag. For safety, we would like `rm` to *always* ask us about deletion. We can instruct `bash` to do this for us by creating an **alias**.\n",
    "\n",
    "    alias rm=\"rm -i\"\n",
    "\n",
    "After executing this, any time we use `rm`, `bash` will instead execute `rm -i`, thereby keeping us out of trouble.\n",
    "\n",
    "One of my favorite aliases is to make `ls` list things more prettily.\n",
    "\n",
    "    alias ls=\"ls -FG\"\n",
    "\n",
    "The `-F` flag makes `ls` put a slash at the end of directories. This helps us tell the difference between files and directories. The `-G` flag enables coloring of the output, also useful for differentiating file types."
   ]
  },
  {
   "cell_type": "markdown",
   "metadata": {},
   "source": [
    "<br />\n",
    "\n",
    "*Copyright note: In addition to the copyright shown below, this recitation was developed based on materials from Axel Müller.*"
   ]
  }
 ],
 "metadata": {
  "kernelspec": {
   "display_name": "Python 3",
   "language": "python",
   "name": "python3"
  },
  "language_info": {
   "codemirror_mode": {
    "name": "ipython",
    "version": 3
   },
   "file_extension": ".py",
   "mimetype": "text/x-python",
   "name": "python",
   "nbconvert_exporter": "python",
   "pygments_lexer": "ipython3",
   "version": "3.8.5"
  }
 },
 "nbformat": 4,
 "nbformat_minor": 4
}
