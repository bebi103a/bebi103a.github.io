{
 "cells": [
  {
   "cell_type": "markdown",
   "id": "9aa29a66-b0d8-4d13-a1d2-b414ba5665aa",
   "metadata": {},
   "source": [
    "# Homework 5.1 [SOLO]: Opening an Open Ephys file (30 points)\n",
    "\n",
    "[Dataset download](https://s3.amazonaws.com/bebi103.caltech.edu/data/2021-07-08_12-15-29_Or296_B138_female_present.zip)\n",
    "\n",
    "<hr>"
   ]
  },
  {
   "cell_type": "markdown",
   "id": "d727fc8e-781a-451b-b4ae-a53928838a25",
   "metadata": {},
   "source": [
    "In this problem, you will practice encountering a new data set with an unfamiliar file format, finding an installing appropriate software to parse the file, and extracting data from the file (and of course also making a plot).\n",
    "\n",
    "The data set come from [Carlos Lois's lab](http://theloislab.com), acquired and generously donated by Zsofi Torok. The data consists of electrophysiological recordings from the brain of a male birds when presented with a female. The data were acquired using the [Open Ephys framework](https://open-ephys.org). A ZIP file containing the data set may be downloaded [here](https://s3.amazonaws.com/bebi103.caltech.edu/data/2021-07-08_12-15-29_Or296_B138_female_present.zip). (Warning: You will need about a half a gigabyte to store the data set.)\n",
    "\n",
    "Your task is to:\n",
    "\n",
    "1. Search the internet to find appropriate software to help you open and parse the data file.\n",
    "2. Install that software.\n",
    "3. Open the data file and deduce that there is a single node recording with 46 channels.\n",
    "4. Make a plot of the signal from the electrophysiological recording versus time for four of the channels during one second of recording.\n",
    "5. If you're feeling motivated and adventurous (not required) use Datashader to plot more of the data and/or build a dashboard for exploring the data set.\n",
    "\n",
    "**Hint**: If you want to see all of the attributes and methods of the instance of a class, use the `__dict__` attribute, e.g., `my_instance.__dict__`."
   ]
  }
 ],
 "metadata": {
  "kernelspec": {
   "display_name": "Python 3 (ipykernel)",
   "language": "python",
   "name": "python3"
  },
  "language_info": {
   "codemirror_mode": {
    "name": "ipython",
    "version": 3
   },
   "file_extension": ".py",
   "mimetype": "text/x-python",
   "name": "python",
   "nbconvert_exporter": "python",
   "pygments_lexer": "ipython3",
   "version": "3.8.12"
  }
 },
 "nbformat": 4,
 "nbformat_minor": 5
}
